{
 "cells": [
  {
   "cell_type": "markdown",
   "id": "quantitative-edition",
   "metadata": {},
   "source": [
    "# Data preprocesing \n",
    "\n",
    "Metadata and protein data need to be curated before a differential expresion analysis can be performed. Quantitation of proteins was performed using LFQ intensities given by MaxQuant."
   ]
  },
  {
   "cell_type": "markdown",
   "id": "ecological-azerbaijan",
   "metadata": {},
   "source": [
    "#### Metadata\n",
    "This is a manual curated file and anonimysed from the original BLSA metadata."
   ]
  },
  {
   "cell_type": "code",
   "execution_count": 1,
   "id": "binding-brooklyn",
   "metadata": {},
   "outputs": [
    {
     "data": {
      "text/html": [
       "<table class=\"dataframe\">\n",
       "<caption>A data.frame: 6 x 6</caption>\n",
       "<thead>\n",
       "\t<tr><th></th><th scope=col>sampleID</th><th scope=col>diagnosis</th><th scope=col>age</th><th scope=col>sex</th><th scope=col>pmi</th><th scope=col>APOEgeno</th></tr>\n",
       "\t<tr><th></th><th scope=col>&lt;chr&gt;</th><th scope=col>&lt;chr&gt;</th><th scope=col>&lt;int&gt;</th><th scope=col>&lt;int&gt;</th><th scope=col>&lt;dbl&gt;</th><th scope=col>&lt;chr&gt;</th></tr>\n",
       "</thead>\n",
       "<tbody>\n",
       "\t<tr><th scope=row>1</th><td>Intensity.ctl033</td><td>CONTROL</td><td>81</td><td>1</td><td>20</td><td>E3/E3</td></tr>\n",
       "\t<tr><th scope=row>2</th><td>Intensity.ad059 </td><td>AD     </td><td>83</td><td>0</td><td>18</td><td>E3/E3</td></tr>\n",
       "\t<tr><th scope=row>3</th><td>Intensity.ctl035</td><td>CONTROL</td><td>80</td><td>1</td><td>22</td><td>E3/E3</td></tr>\n",
       "\t<tr><th scope=row>4</th><td>Intensity.ctl037</td><td>CONTROL</td><td>90</td><td>0</td><td>14</td><td>E3/E3</td></tr>\n",
       "\t<tr><th scope=row>5</th><td>Intensity.ad061 </td><td>AD     </td><td>81</td><td>1</td><td> 7</td><td>E3/E3</td></tr>\n",
       "\t<tr><th scope=row>6</th><td>Intensity.ad063 </td><td>AD     </td><td>90</td><td>1</td><td>14</td><td>E3/E3</td></tr>\n",
       "</tbody>\n",
       "</table>\n"
      ],
      "text/latex": [
       "A data.frame: 6 x 6\n",
       "\\begin{tabular}{r|llllll}\n",
       "  & sampleID & diagnosis & age & sex & pmi & APOEgeno\\\\\n",
       "  & <chr> & <chr> & <int> & <int> & <dbl> & <chr>\\\\\n",
       "\\hline\n",
       "\t1 & Intensity.ctl033 & CONTROL & 81 & 1 & 20 & E3/E3\\\\\n",
       "\t2 & Intensity.ad059  & AD      & 83 & 0 & 18 & E3/E3\\\\\n",
       "\t3 & Intensity.ctl035 & CONTROL & 80 & 1 & 22 & E3/E3\\\\\n",
       "\t4 & Intensity.ctl037 & CONTROL & 90 & 0 & 14 & E3/E3\\\\\n",
       "\t5 & Intensity.ad061  & AD      & 81 & 1 &  7 & E3/E3\\\\\n",
       "\t6 & Intensity.ad063  & AD      & 90 & 1 & 14 & E3/E3\\\\\n",
       "\\end{tabular}\n"
      ],
      "text/markdown": [
       "\n",
       "A data.frame: 6 x 6\n",
       "\n",
       "| <!--/--> | sampleID &lt;chr&gt; | diagnosis &lt;chr&gt; | age &lt;int&gt; | sex &lt;int&gt; | pmi &lt;dbl&gt; | APOEgeno &lt;chr&gt; |\n",
       "|---|---|---|---|---|---|---|\n",
       "| 1 | Intensity.ctl033 | CONTROL | 81 | 1 | 20 | E3/E3 |\n",
       "| 2 | Intensity.ad059  | AD      | 83 | 0 | 18 | E3/E3 |\n",
       "| 3 | Intensity.ctl035 | CONTROL | 80 | 1 | 22 | E3/E3 |\n",
       "| 4 | Intensity.ctl037 | CONTROL | 90 | 0 | 14 | E3/E3 |\n",
       "| 5 | Intensity.ad061  | AD      | 81 | 1 |  7 | E3/E3 |\n",
       "| 6 | Intensity.ad063  | AD      | 90 | 1 | 14 | E3/E3 |\n",
       "\n"
      ],
      "text/plain": [
       "  sampleID         diagnosis age sex pmi APOEgeno\n",
       "1 Intensity.ctl033 CONTROL   81  1   20  E3/E3   \n",
       "2 Intensity.ad059  AD        83  0   18  E3/E3   \n",
       "3 Intensity.ctl035 CONTROL   80  1   22  E3/E3   \n",
       "4 Intensity.ctl037 CONTROL   90  0   14  E3/E3   \n",
       "5 Intensity.ad061  AD        81  1    7  E3/E3   \n",
       "6 Intensity.ad063  AD        90  1   14  E3/E3   "
      ]
     },
     "metadata": {},
     "output_type": "display_data"
    }
   ],
   "source": [
    "metadata<- read.table(\"/mnt/data/Proteomics//input/metadata.txt\",header=T)\n",
    "head(metadata)"
   ]
  },
  {
   "cell_type": "code",
   "execution_count": 2,
   "id": "looking-plastic",
   "metadata": {},
   "outputs": [
    {
     "data": {
      "text/plain": [
       "\n",
       "     AD CONTROL \n",
       "     20      13 "
      ]
     },
     "metadata": {},
     "output_type": "display_data"
    }
   ],
   "source": [
    "table(metadata$diagnosis)"
   ]
  },
  {
   "cell_type": "code",
   "execution_count": 3,
   "id": "prerequisite-energy",
   "metadata": {},
   "outputs": [
    {
     "data": {
      "text/plain": [
       "\n",
       "E2/E3 E3/E3 E3/E4 E4/E4 \n",
       "    8    17     6     2 "
      ]
     },
     "metadata": {},
     "output_type": "display_data"
    }
   ],
   "source": [
    "table(metadata$APOEgeno)"
   ]
  },
  {
   "cell_type": "markdown",
   "id": "million-sender",
   "metadata": {},
   "source": [
    "#### Protein data"
   ]
  },
  {
   "cell_type": "code",
   "execution_count": 9,
   "id": "utility-isolation",
   "metadata": {},
   "outputs": [
    {
     "data": {
      "text/html": [
       "<style>\n",
       ".list-inline {list-style: none; margin:0; padding: 0}\n",
       ".list-inline>li {display: inline-block}\n",
       ".list-inline>li:not(:last-child)::after {content: \"\\00b7\"; padding: 0 .5ex}\n",
       "</style>\n",
       "<ol class=list-inline><li>4744</li><li>361</li></ol>\n"
      ],
      "text/latex": [
       "\\begin{enumerate*}\n",
       "\\item 4744\n",
       "\\item 361\n",
       "\\end{enumerate*}\n"
      ],
      "text/markdown": [
       "1. 4744\n",
       "2. 361\n",
       "\n",
       "\n"
      ],
      "text/plain": [
       "[1] 4744  361"
      ]
     },
     "metadata": {},
     "output_type": "display_data"
    },
    {
     "data": {
      "text/html": [
       "<table class=\"dataframe\">\n",
       "<caption>A data.frame: 6 x 361</caption>\n",
       "<thead>\n",
       "\t<tr><th></th><th scope=col>UniqueID</th><th scope=col>Symbol.or.Gene.Name</th><th scope=col>UniprotID.or.Contam.ID</th><th scope=col>Protein.IDs</th><th scope=col>Majority.protein.IDs</th><th scope=col>Peptide.counts..all.</th><th scope=col>Peptide.counts..razor.unique.</th><th scope=col>Peptide.counts..unique.</th><th scope=col>Fasta.headers</th><th scope=col>Number.of.proteins</th><th scope=col>...</th><th scope=col>MS.MS.Count</th><th scope=col>Only.identified.by.site</th><th scope=col>Reverse</th><th scope=col>Potential.contaminant</th><th scope=col>Numeric.ID</th><th scope=col>Peptide.IDs</th><th scope=col>Peptide.is.razor</th><th scope=col>Deamidation..NQ..site.positions</th><th scope=col>Oxidation..M..site.positions</th><th scope=col>Count.NA..intensity.</th></tr>\n",
       "\t<tr><th></th><th scope=col>&lt;chr&gt;</th><th scope=col>&lt;chr&gt;</th><th scope=col>&lt;chr&gt;</th><th scope=col>&lt;chr&gt;</th><th scope=col>&lt;chr&gt;</th><th scope=col>&lt;chr&gt;</th><th scope=col>&lt;chr&gt;</th><th scope=col>&lt;chr&gt;</th><th scope=col>&lt;chr&gt;</th><th scope=col>&lt;int&gt;</th><th scope=col>...</th><th scope=col>&lt;int&gt;</th><th scope=col>&lt;chr&gt;</th><th scope=col>&lt;lgl&gt;</th><th scope=col>&lt;chr&gt;</th><th scope=col>&lt;int&gt;</th><th scope=col>&lt;chr&gt;</th><th scope=col>&lt;chr&gt;</th><th scope=col>&lt;chr&gt;</th><th scope=col>&lt;chr&gt;</th><th scope=col>&lt;int&gt;</th></tr>\n",
       "</thead>\n",
       "<tbody>\n",
       "\t<tr><th scope=row>1</th><td>MBP|P02686-5</td><td>MBP </td><td>P02686-5</td><td><span style=white-space:pre-wrap>sp|P02686-5|MBP_HUMAN;tr|A8MZH3|A8MZH3_HUMAN;tr|E9PJ72|E9PJ72_HUMAN;tr|J3QL64|J3QL64_HUMAN;tr|E9PMR5|E9PMR5_HUMAN;tr|H0YF02|H0YF02_HUMAN;tr|H0YEA2|H0YEA2_HUMAN;tr|E9PKX9|E9PKX9_HUMAN                                                                                                                                                                                                                                                                                                       </span></td><td><span style=white-space:pre-wrap>sp|P02686-5|MBP_HUMAN;tr|A8MZH3|A8MZH3_HUMAN;tr|E9PJ72|E9PJ72_HUMAN;tr|J3QL64|J3QL64_HUMAN                      </span></td><td><span style=white-space:pre-wrap>42;39;37;37;20;20;20;17                             </span></td><td><span style=white-space:pre-wrap>1;1;1;1;1;1;1;1                                     </span></td><td><span style=white-space:pre-wrap>0;0;0;0;0;0;0;0                                  </span></td><td>&gt;sp|P02686-5|MBP_HUMAN Isoform 5 of Myelin basic protein OS=Homo sapiens GN=MBP;&gt;tr|A8MZH3|A8MZH3_HUMAN Myelin basic protein OS=Homo sapiens GN=MBP PE=1 SV=1;&gt;tr|E9PJ72|E9PJ72_HUMAN Myelin basic protein OS=Homo sapiens GN=MBP PE=1 SV=1;&gt;tr|J3QL64|J3QL64_HU</td><td> 8</td><td>...</td><td>5225</td><td></td><td>NA</td><td></td><td> 794</td><td><span style=white-space:pre-wrap>2938;3074;6579;6580;6643;6742;6743;11418;11419;12515;12516;12517;13542;14400;14401;14941;15043;15358;15359;16049;16050;16659;16660;17702;22407;28103;28104;29549;29550;33023;33750;34468;35363;35364;35441;37703;37704;39401;39485;39486;45091;45092                                                                                                                                                                                                                                     </span></td><td><span style=white-space:pre-wrap>False;True;False;False;False;False;False;False;False;False;False;False;False;False;False;False;False;False;False;False;False;False;False;False;False;False;False;False;False;False;False;False;False;False;False;False;False;False;False;False;False;False                                                                                                                                                               </span></td><td></td><td></td><td>0</td></tr>\n",
       "\t<tr><th scope=row>2</th><td><span style=white-space:pre-wrap>MBP|P02686  </span></td><td>MBP </td><td><span style=white-space:pre-wrap>P02686  </span></td><td><span style=white-space:pre-wrap>sp|P02686|MBP_HUMAN;tr|J3QQK6|J3QQK6_HUMAN;tr|C9J6H1|C9J6H1_HUMAN;sp|P02686-2|MBP_HUMAN;tr|J3KT34|J3KT34_HUMAN;tr|J3KS94|J3KS94_HUMAN;tr|J3QKN5|J3QKN5_HUMAN                                                                                                                                                                                                                                                                                                                                 </span></td><td><span style=white-space:pre-wrap>sp|P02686|MBP_HUMAN;tr|J3QQK6|J3QQK6_HUMAN;tr|C9J6H1|C9J6H1_HUMAN                                               </span></td><td><span style=white-space:pre-wrap>42;27;23;12;11;3;1                                  </span></td><td><span style=white-space:pre-wrap>42;27;23;12;11;3;1                                  </span></td><td><span style=white-space:pre-wrap>1;1;0;1;0;1;1                                    </span></td><td><span style=white-space:pre-wrap>&gt;sp|P02686|MBP_HUMAN Myelin basic protein OS=Homo sapiens GN=MBP PE=1 SV=3;&gt;tr|J3QQK6|J3QQK6_HUMAN Myelin basic protein OS=Homo sapiens GN=MBP PE=1 SV=1;&gt;tr|C9J6H1|C9J6H1_HUMAN Myelin basic protein (Fragment) OS=Homo sapiens GN=MBP PE=1 SV=1               </span></td><td> 7</td><td>...</td><td>5213</td><td></td><td>NA</td><td></td><td> 792</td><td><span style=white-space:pre-wrap>2938;3119;6579;6580;6643;6742;6743;11418;11419;12515;12516;12517;13542;14400;14401;14941;15043;15358;15359;16049;16050;16659;16660;17702;22407;28103;28104;29549;29550;33023;33750;34468;35363;35364;35441;37703;37704;39401;39485;39486;45091;45092                                                                                                                                                                                                                                     </span></td><td><span style=white-space:pre-wrap>True;True;True;True;True;True;True;True;True;True;True;True;True;True;True;True;True;True;True;True;True;True;True;True;True;True;True;True;True;True;True;True;True;True;True;True;True;True;True;True;True;True                                                                                                                                                                                                        </span></td><td></td><td></td><td>0</td></tr>\n",
       "\t<tr><th scope=row>3</th><td>MBP|P02686-3</td><td>MBP </td><td>P02686-3</td><td><span style=white-space:pre-wrap>sp|P02686-3|MBP_HUMAN                                                                                                                                                                                                                                                                                                                                                                                                                                                                        </span></td><td><span style=white-space:pre-wrap>sp|P02686-3|MBP_HUMAN                                                                                           </span></td><td><span style=white-space:pre-wrap>42                                                  </span></td><td><span style=white-space:pre-wrap>2                                                   </span></td><td><span style=white-space:pre-wrap>0                                                </span></td><td><span style=white-space:pre-wrap>&gt;sp|P02686-3|MBP_HUMAN Isoform 3 of Myelin basic protein OS=Homo sapiens GN=MBP                                                                                                                                                                                 </span></td><td> 1</td><td>...</td><td>5044</td><td></td><td>NA</td><td></td><td> 793</td><td><span style=white-space:pre-wrap>2938;3074;6579;6580;6643;6742;6743;11418;11419;12515;12516;12517;13542;14400;14401;14941;15358;15359;16049;16050;16659;16660;17702;22407;28103;28104;29549;29550;33750;34468;35363;35364;35441;36681;37703;37704;39401;39485;39486;42807;45091;45092                                                                                                                                                                                                                                     </span></td><td><span style=white-space:pre-wrap>False;False;False;False;False;False;False;False;False;False;False;False;False;False;False;False;False;False;False;False;False;False;False;False;False;False;False;False;False;False;False;False;False;True;False;False;False;False;False;True;False;False                                                                                                                                                                </span></td><td></td><td></td><td>0</td></tr>\n",
       "\t<tr><th scope=row>4</th><td><span style=white-space:pre-wrap>MBP|H7BYR8  </span></td><td>MBP </td><td><span style=white-space:pre-wrap>H7BYR8  </span></td><td><span style=white-space:pre-wrap>tr|H7BYR8|H7BYR8_HUMAN;tr|J3KT01|J3KT01_HUMAN                                                                                                                                                                                                                                                                                                                                                                                                                                                </span></td><td><span style=white-space:pre-wrap>tr|H7BYR8|H7BYR8_HUMAN                                                                                          </span></td><td><span style=white-space:pre-wrap>42;10                                               </span></td><td><span style=white-space:pre-wrap>5;3                                                 </span></td><td><span style=white-space:pre-wrap>2;2                                              </span></td><td><span style=white-space:pre-wrap>&gt;tr|H7BYR8|H7BYR8_HUMAN Myelin basic protein OS=Homo sapiens GN=MBP PE=1 SV=1                                                                                                                                                                                   </span></td><td> 2</td><td>...</td><td>4858</td><td></td><td>NA</td><td></td><td>4787</td><td><span style=white-space:pre-wrap>220;2938;3074;5897;6579;6580;6643;6742;6743;11418;11419;12518;12880;12881;13542;14941;15043;15358;15359;16049;16050;16659;16660;17702;22407;28103;28104;29549;29550;33023;33750;34468;35363;35364;35441;37703;37704;39401;39485;39486;45091;45092                                                                                                                                                                                                                                        </span></td><td><span style=white-space:pre-wrap>True;False;False;True;False;False;False;False;False;False;False;True;True;True;False;False;False;False;False;False;False;False;False;False;False;False;False;False;False;False;False;False;False;False;False;False;False;False;False;False;False;False                                                                                                                                                                   </span></td><td></td><td></td><td>0</td></tr>\n",
       "\t<tr><th scope=row>5</th><td>MBP|P02686-6</td><td>MBP </td><td>P02686-6</td><td><span style=white-space:pre-wrap>sp|P02686-6|MBP_HUMAN;tr|E9PNZ1|E9PNZ1_HUMAN;tr|F8WEU6|F8WEU6_HUMAN;tr|F5H7N4|F5H7N4_HUMAN;tr|E9PLU9|E9PLU9_HUMAN;tr|E9PLQ9|E9PLQ9_HUMAN;tr|E9PQE7|E9PQE7_HUMAN;tr|E9PSE2|E9PSE2_HUMAN                                                                                                                                                                                                                                                                                                       </span></td><td><span style=white-space:pre-wrap>sp|P02686-6|MBP_HUMAN                                                                                           </span></td><td><span style=white-space:pre-wrap>39;18;15;12;5;5;5;3                                 </span></td><td><span style=white-space:pre-wrap>1;0;0;0;0;0;0;0                                     </span></td><td><span style=white-space:pre-wrap>0;0;0;0;0;0;0;0                                  </span></td><td><span style=white-space:pre-wrap>&gt;sp|P02686-6|MBP_HUMAN Isoform 6 of Myelin basic protein OS=Homo sapiens GN=MBP                                                                                                                                                                                 </span></td><td> 8</td><td>...</td><td>4839</td><td></td><td>NA</td><td></td><td> 795</td><td><span style=white-space:pre-wrap>2938;3074;6579;6580;6643;6742;6743;11418;11419;12880;12881;13542;15043;15358;15359;16049;16050;16659;16660;17702;22407;28103;28104;29549;29550;33023;33750;34468;35363;35364;35441;37703;37704;39401;39402;39485;39486;45091;45092                                                                                                                                                                                                                                                       </span></td><td><span style=white-space:pre-wrap>False;False;False;False;False;False;False;False;False;False;False;False;False;False;False;False;False;False;False;False;False;False;False;False;False;False;False;False;False;False;False;False;False;False;True;False;False;False;False                                                                                                                                                                                 </span></td><td></td><td></td><td>0</td></tr>\n",
       "\t<tr><th scope=row>6</th><td>GFAP|P14136 </td><td>GFAP</td><td><span style=white-space:pre-wrap>P14136  </span></td><td>sp|P14136|GFAP_HUMAN;sp|P14136-3|GFAP_HUMAN;sp|P14136-2|GFAP_HUMAN;tr|K7EKH9|K7EKH9_HUMAN;tr|K7EJU1|K7EJU1_HUMAN;tr|B4DIR1|B4DIR1_HUMAN;tr|K7EKH6|K7EKH6_HUMAN;tr|K7EJK1|K7EJK1_HUMAN;tr|K7EPT8|K7EPT8_HUMAN;CON__Q61726;sp|P78385|KRT83_HUMAN;CON__Q6NT21;CON__P78385;sp|P78386|KRT85_HUMAN;CON__P78386;tr|K7EMP8|K7EMP8_HUMAN;tr|B0QY86|B0QY86_HUMAN;REV__sp|Q6UW56-3|ARAID_HUMAN;sp|Q6KB66-2|K2C80_HUMAN;sp|Q6KB66|K2C80_HUMAN;CON__Q6KB66-1;sp|Q6KB66-3|K2C80_HUMAN;sp|Q8N3F8|MILK1_HUMAN</td><td>sp|P14136|GFAP_HUMAN;sp|P14136-3|GFAP_HUMAN;sp|P14136-2|GFAP_HUMAN;tr|K7EKH9|K7EKH9_HUMAN;tr|K7EJU1|K7EJU1_HUMAN</td><td>82;76;76;45;41;29;29;8;3;2;2;2;2;2;2;1;1;1;1;1;1;1;1</td><td>82;76;76;45;41;29;29;8;3;2;2;2;2;2;2;1;1;1;1;1;1;1;1</td><td>36;33;33;7;8;0;19;0;0;0;0;0;0;0;0;1;0;0;0;0;0;0;0</td><td>&gt;sp|P14136|GFAP_HUMAN Glial fibrillary acidic protein OS=Homo sapiens GN=GFAP PE=1 SV=1;&gt;sp|P14136-3|GFAP_HUMAN Isoform 3 of Glial fibrillary acidic protein OS=Homo sapiens GN=GFAP;&gt;sp|P14136-2|GFAP_HUMAN Isoform 2 of Glial fibrillary acidic protein OS=Hom</td><td>23</td><td>...</td><td>6210</td><td></td><td>NA</td><td></td><td>1109</td><td>853;854;1727;1728;1729;2953;2954;4861;6110;7212;7213;7214;8797;8798;9283;9802;10485;10989;10990;10991;11096;11097;11849;15276;15277;15861;15862;16359;16921;17598;17599;17972;17973;19541;19542;20336;20337;20346;20347;20970;20971;20972;21083;21589;21662;21664;21734;21735;22004;22005;22517;22518;23249;23250;23251;24320;24321;24322;24709;26964;26965;27373;29427;30704;31536;31537;31638;31639;31902;31903;33355;33864;34048;34049;37428;37429;37615;37616;39576;40027;40769;42991</td><td>True;True;True;True;True;True;True;True;True;True;True;True;True;True;True;True;True;True;True;True;True;True;True;True;True;True;True;True;True;True;True;True;True;True;True;True;True;True;True;True;True;True;True;True;True;True;True;True;True;True;True;True;True;True;True;True;True;True;True;True;True;True;True;True;True;True;True;True;True;True;True;True;True;True;True;True;True;True;True;True;True;True</td><td></td><td></td><td>0</td></tr>\n",
       "</tbody>\n",
       "</table>\n"
      ],
      "text/latex": [
       "A data.frame: 6 x 361\n",
       "\\begin{tabular}{r|lllllllllllllllllllll}\n",
       "  & UniqueID & Symbol.or.Gene.Name & UniprotID.or.Contam.ID & Protein.IDs & Majority.protein.IDs & Peptide.counts..all. & Peptide.counts..razor.unique. & Peptide.counts..unique. & Fasta.headers & Number.of.proteins & ... & MS.MS.Count & Only.identified.by.site & Reverse & Potential.contaminant & Numeric.ID & Peptide.IDs & Peptide.is.razor & Deamidation..NQ..site.positions & Oxidation..M..site.positions & Count.NA..intensity.\\\\\n",
       "  & <chr> & <chr> & <chr> & <chr> & <chr> & <chr> & <chr> & <chr> & <chr> & <int> & ... & <int> & <chr> & <lgl> & <chr> & <int> & <chr> & <chr> & <chr> & <chr> & <int>\\\\\n",
       "\\hline\n",
       "\t1 & MBP\\textbar{}P02686-5 & MBP  & P02686-5 & sp\\textbar{}P02686-5\\textbar{}MBP\\_HUMAN;tr\\textbar{}A8MZH3\\textbar{}A8MZH3\\_HUMAN;tr\\textbar{}E9PJ72\\textbar{}E9PJ72\\_HUMAN;tr\\textbar{}J3QL64\\textbar{}J3QL64\\_HUMAN;tr\\textbar{}E9PMR5\\textbar{}E9PMR5\\_HUMAN;tr\\textbar{}H0YF02\\textbar{}H0YF02\\_HUMAN;tr\\textbar{}H0YEA2\\textbar{}H0YEA2\\_HUMAN;tr\\textbar{}E9PKX9\\textbar{}E9PKX9\\_HUMAN                                                                                                                                                                                                                                                                                                        & sp\\textbar{}P02686-5\\textbar{}MBP\\_HUMAN;tr\\textbar{}A8MZH3\\textbar{}A8MZH3\\_HUMAN;tr\\textbar{}E9PJ72\\textbar{}E9PJ72\\_HUMAN;tr\\textbar{}J3QL64\\textbar{}J3QL64\\_HUMAN                       & 42;39;37;37;20;20;20;17                              & 1;1;1;1;1;1;1;1                                      & 0;0;0;0;0;0;0;0                                   & >sp\\textbar{}P02686-5\\textbar{}MBP\\_HUMAN Isoform 5 of Myelin basic protein OS=Homo sapiens GN=MBP;>tr\\textbar{}A8MZH3\\textbar{}A8MZH3\\_HUMAN Myelin basic protein OS=Homo sapiens GN=MBP PE=1 SV=1;>tr\\textbar{}E9PJ72\\textbar{}E9PJ72\\_HUMAN Myelin basic protein OS=Homo sapiens GN=MBP PE=1 SV=1;>tr\\textbar{}J3QL64\\textbar{}J3QL64\\_HU &  8 & ... & 5225 &  & NA &  &  794 & 2938;3074;6579;6580;6643;6742;6743;11418;11419;12515;12516;12517;13542;14400;14401;14941;15043;15358;15359;16049;16050;16659;16660;17702;22407;28103;28104;29549;29550;33023;33750;34468;35363;35364;35441;37703;37704;39401;39485;39486;45091;45092                                                                                                                                                                                                                                      & False;True;False;False;False;False;False;False;False;False;False;False;False;False;False;False;False;False;False;False;False;False;False;False;False;False;False;False;False;False;False;False;False;False;False;False;False;False;False;False;False;False                                                                                                                                                                &  &  & 0\\\\\n",
       "\t2 & MBP\\textbar{}P02686   & MBP  & P02686   & sp\\textbar{}P02686\\textbar{}MBP\\_HUMAN;tr\\textbar{}J3QQK6\\textbar{}J3QQK6\\_HUMAN;tr\\textbar{}C9J6H1\\textbar{}C9J6H1\\_HUMAN;sp\\textbar{}P02686-2\\textbar{}MBP\\_HUMAN;tr\\textbar{}J3KT34\\textbar{}J3KT34\\_HUMAN;tr\\textbar{}J3KS94\\textbar{}J3KS94\\_HUMAN;tr\\textbar{}J3QKN5\\textbar{}J3QKN5\\_HUMAN                                                                                                                                                                                                                                                                                                                                  & sp\\textbar{}P02686\\textbar{}MBP\\_HUMAN;tr\\textbar{}J3QQK6\\textbar{}J3QQK6\\_HUMAN;tr\\textbar{}C9J6H1\\textbar{}C9J6H1\\_HUMAN                                                & 42;27;23;12;11;3;1                                   & 42;27;23;12;11;3;1                                   & 1;1;0;1;0;1;1                                     & >sp\\textbar{}P02686\\textbar{}MBP\\_HUMAN Myelin basic protein OS=Homo sapiens GN=MBP PE=1 SV=3;>tr\\textbar{}J3QQK6\\textbar{}J3QQK6\\_HUMAN Myelin basic protein OS=Homo sapiens GN=MBP PE=1 SV=1;>tr\\textbar{}C9J6H1\\textbar{}C9J6H1\\_HUMAN Myelin basic protein (Fragment) OS=Homo sapiens GN=MBP PE=1 SV=1                &  7 & ... & 5213 &  & NA &  &  792 & 2938;3119;6579;6580;6643;6742;6743;11418;11419;12515;12516;12517;13542;14400;14401;14941;15043;15358;15359;16049;16050;16659;16660;17702;22407;28103;28104;29549;29550;33023;33750;34468;35363;35364;35441;37703;37704;39401;39485;39486;45091;45092                                                                                                                                                                                                                                      & True;True;True;True;True;True;True;True;True;True;True;True;True;True;True;True;True;True;True;True;True;True;True;True;True;True;True;True;True;True;True;True;True;True;True;True;True;True;True;True;True;True                                                                                                                                                                                                         &  &  & 0\\\\\n",
       "\t3 & MBP\\textbar{}P02686-3 & MBP  & P02686-3 & sp\\textbar{}P02686-3\\textbar{}MBP\\_HUMAN                                                                                                                                                                                                                                                                                                                                                                                                                                                                         & sp\\textbar{}P02686-3\\textbar{}MBP\\_HUMAN                                                                                            & 42                                                   & 2                                                    & 0                                                 & >sp\\textbar{}P02686-3\\textbar{}MBP\\_HUMAN Isoform 3 of Myelin basic protein OS=Homo sapiens GN=MBP                                                                                                                                                                                  &  1 & ... & 5044 &  & NA &  &  793 & 2938;3074;6579;6580;6643;6742;6743;11418;11419;12515;12516;12517;13542;14400;14401;14941;15358;15359;16049;16050;16659;16660;17702;22407;28103;28104;29549;29550;33750;34468;35363;35364;35441;36681;37703;37704;39401;39485;39486;42807;45091;45092                                                                                                                                                                                                                                      & False;False;False;False;False;False;False;False;False;False;False;False;False;False;False;False;False;False;False;False;False;False;False;False;False;False;False;False;False;False;False;False;False;True;False;False;False;False;False;True;False;False                                                                                                                                                                 &  &  & 0\\\\\n",
       "\t4 & MBP\\textbar{}H7BYR8   & MBP  & H7BYR8   & tr\\textbar{}H7BYR8\\textbar{}H7BYR8\\_HUMAN;tr\\textbar{}J3KT01\\textbar{}J3KT01\\_HUMAN                                                                                                                                                                                                                                                                                                                                                                                                                                                 & tr\\textbar{}H7BYR8\\textbar{}H7BYR8\\_HUMAN                                                                                           & 42;10                                                & 5;3                                                  & 2;2                                               & >tr\\textbar{}H7BYR8\\textbar{}H7BYR8\\_HUMAN Myelin basic protein OS=Homo sapiens GN=MBP PE=1 SV=1                                                                                                                                                                                    &  2 & ... & 4858 &  & NA &  & 4787 & 220;2938;3074;5897;6579;6580;6643;6742;6743;11418;11419;12518;12880;12881;13542;14941;15043;15358;15359;16049;16050;16659;16660;17702;22407;28103;28104;29549;29550;33023;33750;34468;35363;35364;35441;37703;37704;39401;39485;39486;45091;45092                                                                                                                                                                                                                                         & True;False;False;True;False;False;False;False;False;False;False;True;True;True;False;False;False;False;False;False;False;False;False;False;False;False;False;False;False;False;False;False;False;False;False;False;False;False;False;False;False;False                                                                                                                                                                    &  &  & 0\\\\\n",
       "\t5 & MBP\\textbar{}P02686-6 & MBP  & P02686-6 & sp\\textbar{}P02686-6\\textbar{}MBP\\_HUMAN;tr\\textbar{}E9PNZ1\\textbar{}E9PNZ1\\_HUMAN;tr\\textbar{}F8WEU6\\textbar{}F8WEU6\\_HUMAN;tr\\textbar{}F5H7N4\\textbar{}F5H7N4\\_HUMAN;tr\\textbar{}E9PLU9\\textbar{}E9PLU9\\_HUMAN;tr\\textbar{}E9PLQ9\\textbar{}E9PLQ9\\_HUMAN;tr\\textbar{}E9PQE7\\textbar{}E9PQE7\\_HUMAN;tr\\textbar{}E9PSE2\\textbar{}E9PSE2\\_HUMAN                                                                                                                                                                                                                                                                                                        & sp\\textbar{}P02686-6\\textbar{}MBP\\_HUMAN                                                                                            & 39;18;15;12;5;5;5;3                                  & 1;0;0;0;0;0;0;0                                      & 0;0;0;0;0;0;0;0                                   & >sp\\textbar{}P02686-6\\textbar{}MBP\\_HUMAN Isoform 6 of Myelin basic protein OS=Homo sapiens GN=MBP                                                                                                                                                                                  &  8 & ... & 4839 &  & NA &  &  795 & 2938;3074;6579;6580;6643;6742;6743;11418;11419;12880;12881;13542;15043;15358;15359;16049;16050;16659;16660;17702;22407;28103;28104;29549;29550;33023;33750;34468;35363;35364;35441;37703;37704;39401;39402;39485;39486;45091;45092                                                                                                                                                                                                                                                        & False;False;False;False;False;False;False;False;False;False;False;False;False;False;False;False;False;False;False;False;False;False;False;False;False;False;False;False;False;False;False;False;False;False;True;False;False;False;False                                                                                                                                                                                  &  &  & 0\\\\\n",
       "\t6 & GFAP\\textbar{}P14136  & GFAP & P14136   & sp\\textbar{}P14136\\textbar{}GFAP\\_HUMAN;sp\\textbar{}P14136-3\\textbar{}GFAP\\_HUMAN;sp\\textbar{}P14136-2\\textbar{}GFAP\\_HUMAN;tr\\textbar{}K7EKH9\\textbar{}K7EKH9\\_HUMAN;tr\\textbar{}K7EJU1\\textbar{}K7EJU1\\_HUMAN;tr\\textbar{}B4DIR1\\textbar{}B4DIR1\\_HUMAN;tr\\textbar{}K7EKH6\\textbar{}K7EKH6\\_HUMAN;tr\\textbar{}K7EJK1\\textbar{}K7EJK1\\_HUMAN;tr\\textbar{}K7EPT8\\textbar{}K7EPT8\\_HUMAN;CON\\_\\_Q61726;sp\\textbar{}P78385\\textbar{}KRT83\\_HUMAN;CON\\_\\_Q6NT21;CON\\_\\_P78385;sp\\textbar{}P78386\\textbar{}KRT85\\_HUMAN;CON\\_\\_P78386;tr\\textbar{}K7EMP8\\textbar{}K7EMP8\\_HUMAN;tr\\textbar{}B0QY86\\textbar{}B0QY86\\_HUMAN;REV\\_\\_sp\\textbar{}Q6UW56-3\\textbar{}ARAID\\_HUMAN;sp\\textbar{}Q6KB66-2\\textbar{}K2C80\\_HUMAN;sp\\textbar{}Q6KB66\\textbar{}K2C80\\_HUMAN;CON\\_\\_Q6KB66-1;sp\\textbar{}Q6KB66-3\\textbar{}K2C80\\_HUMAN;sp\\textbar{}Q8N3F8\\textbar{}MILK1\\_HUMAN & sp\\textbar{}P14136\\textbar{}GFAP\\_HUMAN;sp\\textbar{}P14136-3\\textbar{}GFAP\\_HUMAN;sp\\textbar{}P14136-2\\textbar{}GFAP\\_HUMAN;tr\\textbar{}K7EKH9\\textbar{}K7EKH9\\_HUMAN;tr\\textbar{}K7EJU1\\textbar{}K7EJU1\\_HUMAN & 82;76;76;45;41;29;29;8;3;2;2;2;2;2;2;1;1;1;1;1;1;1;1 & 82;76;76;45;41;29;29;8;3;2;2;2;2;2;2;1;1;1;1;1;1;1;1 & 36;33;33;7;8;0;19;0;0;0;0;0;0;0;0;1;0;0;0;0;0;0;0 & >sp\\textbar{}P14136\\textbar{}GFAP\\_HUMAN Glial fibrillary acidic protein OS=Homo sapiens GN=GFAP PE=1 SV=1;>sp\\textbar{}P14136-3\\textbar{}GFAP\\_HUMAN Isoform 3 of Glial fibrillary acidic protein OS=Homo sapiens GN=GFAP;>sp\\textbar{}P14136-2\\textbar{}GFAP\\_HUMAN Isoform 2 of Glial fibrillary acidic protein OS=Hom & 23 & ... & 6210 &  & NA &  & 1109 & 853;854;1727;1728;1729;2953;2954;4861;6110;7212;7213;7214;8797;8798;9283;9802;10485;10989;10990;10991;11096;11097;11849;15276;15277;15861;15862;16359;16921;17598;17599;17972;17973;19541;19542;20336;20337;20346;20347;20970;20971;20972;21083;21589;21662;21664;21734;21735;22004;22005;22517;22518;23249;23250;23251;24320;24321;24322;24709;26964;26965;27373;29427;30704;31536;31537;31638;31639;31902;31903;33355;33864;34048;34049;37428;37429;37615;37616;39576;40027;40769;42991 & True;True;True;True;True;True;True;True;True;True;True;True;True;True;True;True;True;True;True;True;True;True;True;True;True;True;True;True;True;True;True;True;True;True;True;True;True;True;True;True;True;True;True;True;True;True;True;True;True;True;True;True;True;True;True;True;True;True;True;True;True;True;True;True;True;True;True;True;True;True;True;True;True;True;True;True;True;True;True;True;True;True &  &  & 0\\\\\n",
       "\\end{tabular}\n"
      ],
      "text/markdown": [
       "\n",
       "A data.frame: 6 x 361\n",
       "\n",
       "| <!--/--> | UniqueID &lt;chr&gt; | Symbol.or.Gene.Name &lt;chr&gt; | UniprotID.or.Contam.ID &lt;chr&gt; | Protein.IDs &lt;chr&gt; | Majority.protein.IDs &lt;chr&gt; | Peptide.counts..all. &lt;chr&gt; | Peptide.counts..razor.unique. &lt;chr&gt; | Peptide.counts..unique. &lt;chr&gt; | Fasta.headers &lt;chr&gt; | Number.of.proteins &lt;int&gt; | ... ... | MS.MS.Count &lt;int&gt; | Only.identified.by.site &lt;chr&gt; | Reverse &lt;lgl&gt; | Potential.contaminant &lt;chr&gt; | Numeric.ID &lt;int&gt; | Peptide.IDs &lt;chr&gt; | Peptide.is.razor &lt;chr&gt; | Deamidation..NQ..site.positions &lt;chr&gt; | Oxidation..M..site.positions &lt;chr&gt; | Count.NA..intensity. &lt;int&gt; |\n",
       "|---|---|---|---|---|---|---|---|---|---|---|---|---|---|---|---|---|---|---|---|---|---|\n",
       "| 1 | MBP|P02686-5 | MBP  | P02686-5 | sp|P02686-5|MBP_HUMAN;tr|A8MZH3|A8MZH3_HUMAN;tr|E9PJ72|E9PJ72_HUMAN;tr|J3QL64|J3QL64_HUMAN;tr|E9PMR5|E9PMR5_HUMAN;tr|H0YF02|H0YF02_HUMAN;tr|H0YEA2|H0YEA2_HUMAN;tr|E9PKX9|E9PKX9_HUMAN                                                                                                                                                                                                                                                                                                        | sp|P02686-5|MBP_HUMAN;tr|A8MZH3|A8MZH3_HUMAN;tr|E9PJ72|E9PJ72_HUMAN;tr|J3QL64|J3QL64_HUMAN                       | 42;39;37;37;20;20;20;17                              | 1;1;1;1;1;1;1;1                                      | 0;0;0;0;0;0;0;0                                   | &gt;sp|P02686-5|MBP_HUMAN Isoform 5 of Myelin basic protein OS=Homo sapiens GN=MBP;&gt;tr|A8MZH3|A8MZH3_HUMAN Myelin basic protein OS=Homo sapiens GN=MBP PE=1 SV=1;&gt;tr|E9PJ72|E9PJ72_HUMAN Myelin basic protein OS=Homo sapiens GN=MBP PE=1 SV=1;&gt;tr|J3QL64|J3QL64_HU |  8 | ... | 5225 | <!----> | NA | <!----> |  794 | 2938;3074;6579;6580;6643;6742;6743;11418;11419;12515;12516;12517;13542;14400;14401;14941;15043;15358;15359;16049;16050;16659;16660;17702;22407;28103;28104;29549;29550;33023;33750;34468;35363;35364;35441;37703;37704;39401;39485;39486;45091;45092                                                                                                                                                                                                                                      | False;True;False;False;False;False;False;False;False;False;False;False;False;False;False;False;False;False;False;False;False;False;False;False;False;False;False;False;False;False;False;False;False;False;False;False;False;False;False;False;False;False                                                                                                                                                                | <!----> | <!----> | 0 |\n",
       "| 2 | MBP|P02686   | MBP  | P02686   | sp|P02686|MBP_HUMAN;tr|J3QQK6|J3QQK6_HUMAN;tr|C9J6H1|C9J6H1_HUMAN;sp|P02686-2|MBP_HUMAN;tr|J3KT34|J3KT34_HUMAN;tr|J3KS94|J3KS94_HUMAN;tr|J3QKN5|J3QKN5_HUMAN                                                                                                                                                                                                                                                                                                                                  | sp|P02686|MBP_HUMAN;tr|J3QQK6|J3QQK6_HUMAN;tr|C9J6H1|C9J6H1_HUMAN                                                | 42;27;23;12;11;3;1                                   | 42;27;23;12;11;3;1                                   | 1;1;0;1;0;1;1                                     | &gt;sp|P02686|MBP_HUMAN Myelin basic protein OS=Homo sapiens GN=MBP PE=1 SV=3;&gt;tr|J3QQK6|J3QQK6_HUMAN Myelin basic protein OS=Homo sapiens GN=MBP PE=1 SV=1;&gt;tr|C9J6H1|C9J6H1_HUMAN Myelin basic protein (Fragment) OS=Homo sapiens GN=MBP PE=1 SV=1                |  7 | ... | 5213 | <!----> | NA | <!----> |  792 | 2938;3119;6579;6580;6643;6742;6743;11418;11419;12515;12516;12517;13542;14400;14401;14941;15043;15358;15359;16049;16050;16659;16660;17702;22407;28103;28104;29549;29550;33023;33750;34468;35363;35364;35441;37703;37704;39401;39485;39486;45091;45092                                                                                                                                                                                                                                      | True;True;True;True;True;True;True;True;True;True;True;True;True;True;True;True;True;True;True;True;True;True;True;True;True;True;True;True;True;True;True;True;True;True;True;True;True;True;True;True;True;True                                                                                                                                                                                                         | <!----> | <!----> | 0 |\n",
       "| 3 | MBP|P02686-3 | MBP  | P02686-3 | sp|P02686-3|MBP_HUMAN                                                                                                                                                                                                                                                                                                                                                                                                                                                                         | sp|P02686-3|MBP_HUMAN                                                                                            | 42                                                   | 2                                                    | 0                                                 | &gt;sp|P02686-3|MBP_HUMAN Isoform 3 of Myelin basic protein OS=Homo sapiens GN=MBP                                                                                                                                                                                  |  1 | ... | 5044 | <!----> | NA | <!----> |  793 | 2938;3074;6579;6580;6643;6742;6743;11418;11419;12515;12516;12517;13542;14400;14401;14941;15358;15359;16049;16050;16659;16660;17702;22407;28103;28104;29549;29550;33750;34468;35363;35364;35441;36681;37703;37704;39401;39485;39486;42807;45091;45092                                                                                                                                                                                                                                      | False;False;False;False;False;False;False;False;False;False;False;False;False;False;False;False;False;False;False;False;False;False;False;False;False;False;False;False;False;False;False;False;False;True;False;False;False;False;False;True;False;False                                                                                                                                                                 | <!----> | <!----> | 0 |\n",
       "| 4 | MBP|H7BYR8   | MBP  | H7BYR8   | tr|H7BYR8|H7BYR8_HUMAN;tr|J3KT01|J3KT01_HUMAN                                                                                                                                                                                                                                                                                                                                                                                                                                                 | tr|H7BYR8|H7BYR8_HUMAN                                                                                           | 42;10                                                | 5;3                                                  | 2;2                                               | &gt;tr|H7BYR8|H7BYR8_HUMAN Myelin basic protein OS=Homo sapiens GN=MBP PE=1 SV=1                                                                                                                                                                                    |  2 | ... | 4858 | <!----> | NA | <!----> | 4787 | 220;2938;3074;5897;6579;6580;6643;6742;6743;11418;11419;12518;12880;12881;13542;14941;15043;15358;15359;16049;16050;16659;16660;17702;22407;28103;28104;29549;29550;33023;33750;34468;35363;35364;35441;37703;37704;39401;39485;39486;45091;45092                                                                                                                                                                                                                                         | True;False;False;True;False;False;False;False;False;False;False;True;True;True;False;False;False;False;False;False;False;False;False;False;False;False;False;False;False;False;False;False;False;False;False;False;False;False;False;False;False;False                                                                                                                                                                    | <!----> | <!----> | 0 |\n",
       "| 5 | MBP|P02686-6 | MBP  | P02686-6 | sp|P02686-6|MBP_HUMAN;tr|E9PNZ1|E9PNZ1_HUMAN;tr|F8WEU6|F8WEU6_HUMAN;tr|F5H7N4|F5H7N4_HUMAN;tr|E9PLU9|E9PLU9_HUMAN;tr|E9PLQ9|E9PLQ9_HUMAN;tr|E9PQE7|E9PQE7_HUMAN;tr|E9PSE2|E9PSE2_HUMAN                                                                                                                                                                                                                                                                                                        | sp|P02686-6|MBP_HUMAN                                                                                            | 39;18;15;12;5;5;5;3                                  | 1;0;0;0;0;0;0;0                                      | 0;0;0;0;0;0;0;0                                   | &gt;sp|P02686-6|MBP_HUMAN Isoform 6 of Myelin basic protein OS=Homo sapiens GN=MBP                                                                                                                                                                                  |  8 | ... | 4839 | <!----> | NA | <!----> |  795 | 2938;3074;6579;6580;6643;6742;6743;11418;11419;12880;12881;13542;15043;15358;15359;16049;16050;16659;16660;17702;22407;28103;28104;29549;29550;33023;33750;34468;35363;35364;35441;37703;37704;39401;39402;39485;39486;45091;45092                                                                                                                                                                                                                                                        | False;False;False;False;False;False;False;False;False;False;False;False;False;False;False;False;False;False;False;False;False;False;False;False;False;False;False;False;False;False;False;False;False;False;True;False;False;False;False                                                                                                                                                                                  | <!----> | <!----> | 0 |\n",
       "| 6 | GFAP|P14136  | GFAP | P14136   | sp|P14136|GFAP_HUMAN;sp|P14136-3|GFAP_HUMAN;sp|P14136-2|GFAP_HUMAN;tr|K7EKH9|K7EKH9_HUMAN;tr|K7EJU1|K7EJU1_HUMAN;tr|B4DIR1|B4DIR1_HUMAN;tr|K7EKH6|K7EKH6_HUMAN;tr|K7EJK1|K7EJK1_HUMAN;tr|K7EPT8|K7EPT8_HUMAN;CON__Q61726;sp|P78385|KRT83_HUMAN;CON__Q6NT21;CON__P78385;sp|P78386|KRT85_HUMAN;CON__P78386;tr|K7EMP8|K7EMP8_HUMAN;tr|B0QY86|B0QY86_HUMAN;REV__sp|Q6UW56-3|ARAID_HUMAN;sp|Q6KB66-2|K2C80_HUMAN;sp|Q6KB66|K2C80_HUMAN;CON__Q6KB66-1;sp|Q6KB66-3|K2C80_HUMAN;sp|Q8N3F8|MILK1_HUMAN | sp|P14136|GFAP_HUMAN;sp|P14136-3|GFAP_HUMAN;sp|P14136-2|GFAP_HUMAN;tr|K7EKH9|K7EKH9_HUMAN;tr|K7EJU1|K7EJU1_HUMAN | 82;76;76;45;41;29;29;8;3;2;2;2;2;2;2;1;1;1;1;1;1;1;1 | 82;76;76;45;41;29;29;8;3;2;2;2;2;2;2;1;1;1;1;1;1;1;1 | 36;33;33;7;8;0;19;0;0;0;0;0;0;0;0;1;0;0;0;0;0;0;0 | &gt;sp|P14136|GFAP_HUMAN Glial fibrillary acidic protein OS=Homo sapiens GN=GFAP PE=1 SV=1;&gt;sp|P14136-3|GFAP_HUMAN Isoform 3 of Glial fibrillary acidic protein OS=Homo sapiens GN=GFAP;&gt;sp|P14136-2|GFAP_HUMAN Isoform 2 of Glial fibrillary acidic protein OS=Hom | 23 | ... | 6210 | <!----> | NA | <!----> | 1109 | 853;854;1727;1728;1729;2953;2954;4861;6110;7212;7213;7214;8797;8798;9283;9802;10485;10989;10990;10991;11096;11097;11849;15276;15277;15861;15862;16359;16921;17598;17599;17972;17973;19541;19542;20336;20337;20346;20347;20970;20971;20972;21083;21589;21662;21664;21734;21735;22004;22005;22517;22518;23249;23250;23251;24320;24321;24322;24709;26964;26965;27373;29427;30704;31536;31537;31638;31639;31902;31903;33355;33864;34048;34049;37428;37429;37615;37616;39576;40027;40769;42991 | True;True;True;True;True;True;True;True;True;True;True;True;True;True;True;True;True;True;True;True;True;True;True;True;True;True;True;True;True;True;True;True;True;True;True;True;True;True;True;True;True;True;True;True;True;True;True;True;True;True;True;True;True;True;True;True;True;True;True;True;True;True;True;True;True;True;True;True;True;True;True;True;True;True;True;True;True;True;True;True;True;True | <!----> | <!----> | 0 |\n",
       "\n"
      ],
      "text/plain": [
       "  UniqueID     Symbol.or.Gene.Name UniprotID.or.Contam.ID\n",
       "1 MBP|P02686-5 MBP                 P02686-5              \n",
       "2 MBP|P02686   MBP                 P02686                \n",
       "3 MBP|P02686-3 MBP                 P02686-3              \n",
       "4 MBP|H7BYR8   MBP                 H7BYR8                \n",
       "5 MBP|P02686-6 MBP                 P02686-6              \n",
       "6 GFAP|P14136  GFAP                P14136                \n",
       "  Protein.IDs                                                                                                                                                                                                                                                                                                                                                                                                                                                                                  \n",
       "1 sp|P02686-5|MBP_HUMAN;tr|A8MZH3|A8MZH3_HUMAN;tr|E9PJ72|E9PJ72_HUMAN;tr|J3QL64|J3QL64_HUMAN;tr|E9PMR5|E9PMR5_HUMAN;tr|H0YF02|H0YF02_HUMAN;tr|H0YEA2|H0YEA2_HUMAN;tr|E9PKX9|E9PKX9_HUMAN                                                                                                                                                                                                                                                                                                       \n",
       "2 sp|P02686|MBP_HUMAN;tr|J3QQK6|J3QQK6_HUMAN;tr|C9J6H1|C9J6H1_HUMAN;sp|P02686-2|MBP_HUMAN;tr|J3KT34|J3KT34_HUMAN;tr|J3KS94|J3KS94_HUMAN;tr|J3QKN5|J3QKN5_HUMAN                                                                                                                                                                                                                                                                                                                                 \n",
       "3 sp|P02686-3|MBP_HUMAN                                                                                                                                                                                                                                                                                                                                                                                                                                                                        \n",
       "4 tr|H7BYR8|H7BYR8_HUMAN;tr|J3KT01|J3KT01_HUMAN                                                                                                                                                                                                                                                                                                                                                                                                                                                \n",
       "5 sp|P02686-6|MBP_HUMAN;tr|E9PNZ1|E9PNZ1_HUMAN;tr|F8WEU6|F8WEU6_HUMAN;tr|F5H7N4|F5H7N4_HUMAN;tr|E9PLU9|E9PLU9_HUMAN;tr|E9PLQ9|E9PLQ9_HUMAN;tr|E9PQE7|E9PQE7_HUMAN;tr|E9PSE2|E9PSE2_HUMAN                                                                                                                                                                                                                                                                                                       \n",
       "6 sp|P14136|GFAP_HUMAN;sp|P14136-3|GFAP_HUMAN;sp|P14136-2|GFAP_HUMAN;tr|K7EKH9|K7EKH9_HUMAN;tr|K7EJU1|K7EJU1_HUMAN;tr|B4DIR1|B4DIR1_HUMAN;tr|K7EKH6|K7EKH6_HUMAN;tr|K7EJK1|K7EJK1_HUMAN;tr|K7EPT8|K7EPT8_HUMAN;CON__Q61726;sp|P78385|KRT83_HUMAN;CON__Q6NT21;CON__P78385;sp|P78386|KRT85_HUMAN;CON__P78386;tr|K7EMP8|K7EMP8_HUMAN;tr|B0QY86|B0QY86_HUMAN;REV__sp|Q6UW56-3|ARAID_HUMAN;sp|Q6KB66-2|K2C80_HUMAN;sp|Q6KB66|K2C80_HUMAN;CON__Q6KB66-1;sp|Q6KB66-3|K2C80_HUMAN;sp|Q8N3F8|MILK1_HUMAN\n",
       "  Majority.protein.IDs                                                                                            \n",
       "1 sp|P02686-5|MBP_HUMAN;tr|A8MZH3|A8MZH3_HUMAN;tr|E9PJ72|E9PJ72_HUMAN;tr|J3QL64|J3QL64_HUMAN                      \n",
       "2 sp|P02686|MBP_HUMAN;tr|J3QQK6|J3QQK6_HUMAN;tr|C9J6H1|C9J6H1_HUMAN                                               \n",
       "3 sp|P02686-3|MBP_HUMAN                                                                                           \n",
       "4 tr|H7BYR8|H7BYR8_HUMAN                                                                                          \n",
       "5 sp|P02686-6|MBP_HUMAN                                                                                           \n",
       "6 sp|P14136|GFAP_HUMAN;sp|P14136-3|GFAP_HUMAN;sp|P14136-2|GFAP_HUMAN;tr|K7EKH9|K7EKH9_HUMAN;tr|K7EJU1|K7EJU1_HUMAN\n",
       "  Peptide.counts..all.                                \n",
       "1 42;39;37;37;20;20;20;17                             \n",
       "2 42;27;23;12;11;3;1                                  \n",
       "3 42                                                  \n",
       "4 42;10                                               \n",
       "5 39;18;15;12;5;5;5;3                                 \n",
       "6 82;76;76;45;41;29;29;8;3;2;2;2;2;2;2;1;1;1;1;1;1;1;1\n",
       "  Peptide.counts..razor.unique.                       \n",
       "1 1;1;1;1;1;1;1;1                                     \n",
       "2 42;27;23;12;11;3;1                                  \n",
       "3 2                                                   \n",
       "4 5;3                                                 \n",
       "5 1;0;0;0;0;0;0;0                                     \n",
       "6 82;76;76;45;41;29;29;8;3;2;2;2;2;2;2;1;1;1;1;1;1;1;1\n",
       "  Peptide.counts..unique.                          \n",
       "1 0;0;0;0;0;0;0;0                                  \n",
       "2 1;1;0;1;0;1;1                                    \n",
       "3 0                                                \n",
       "4 2;2                                              \n",
       "5 0;0;0;0;0;0;0;0                                  \n",
       "6 36;33;33;7;8;0;19;0;0;0;0;0;0;0;0;1;0;0;0;0;0;0;0\n",
       "  Fasta.headers                                                                                                                                                                                                                                                   \n",
       "1 >sp|P02686-5|MBP_HUMAN Isoform 5 of Myelin basic protein OS=Homo sapiens GN=MBP;>tr|A8MZH3|A8MZH3_HUMAN Myelin basic protein OS=Homo sapiens GN=MBP PE=1 SV=1;>tr|E9PJ72|E9PJ72_HUMAN Myelin basic protein OS=Homo sapiens GN=MBP PE=1 SV=1;>tr|J3QL64|J3QL64_HU\n",
       "2 >sp|P02686|MBP_HUMAN Myelin basic protein OS=Homo sapiens GN=MBP PE=1 SV=3;>tr|J3QQK6|J3QQK6_HUMAN Myelin basic protein OS=Homo sapiens GN=MBP PE=1 SV=1;>tr|C9J6H1|C9J6H1_HUMAN Myelin basic protein (Fragment) OS=Homo sapiens GN=MBP PE=1 SV=1               \n",
       "3 >sp|P02686-3|MBP_HUMAN Isoform 3 of Myelin basic protein OS=Homo sapiens GN=MBP                                                                                                                                                                                 \n",
       "4 >tr|H7BYR8|H7BYR8_HUMAN Myelin basic protein OS=Homo sapiens GN=MBP PE=1 SV=1                                                                                                                                                                                   \n",
       "5 >sp|P02686-6|MBP_HUMAN Isoform 6 of Myelin basic protein OS=Homo sapiens GN=MBP                                                                                                                                                                                 \n",
       "6 >sp|P14136|GFAP_HUMAN Glial fibrillary acidic protein OS=Homo sapiens GN=GFAP PE=1 SV=1;>sp|P14136-3|GFAP_HUMAN Isoform 3 of Glial fibrillary acidic protein OS=Homo sapiens GN=GFAP;>sp|P14136-2|GFAP_HUMAN Isoform 2 of Glial fibrillary acidic protein OS=Hom\n",
       "  Number.of.proteins ... MS.MS.Count Only.identified.by.site Reverse\n",
       "1  8                 ... 5225                                NA     \n",
       "2  7                 ... 5213                                NA     \n",
       "3  1                 ... 5044                                NA     \n",
       "4  2                 ... 4858                                NA     \n",
       "5  8                 ... 4839                                NA     \n",
       "6 23                 ... 6210                                NA     \n",
       "  Potential.contaminant Numeric.ID\n",
       "1                        794      \n",
       "2                        792      \n",
       "3                        793      \n",
       "4                       4787      \n",
       "5                        795      \n",
       "6                       1109      \n",
       "  Peptide.IDs                                                                                                                                                                                                                                                                                                                                                                                                                                                                              \n",
       "1 2938;3074;6579;6580;6643;6742;6743;11418;11419;12515;12516;12517;13542;14400;14401;14941;15043;15358;15359;16049;16050;16659;16660;17702;22407;28103;28104;29549;29550;33023;33750;34468;35363;35364;35441;37703;37704;39401;39485;39486;45091;45092                                                                                                                                                                                                                                     \n",
       "2 2938;3119;6579;6580;6643;6742;6743;11418;11419;12515;12516;12517;13542;14400;14401;14941;15043;15358;15359;16049;16050;16659;16660;17702;22407;28103;28104;29549;29550;33023;33750;34468;35363;35364;35441;37703;37704;39401;39485;39486;45091;45092                                                                                                                                                                                                                                     \n",
       "3 2938;3074;6579;6580;6643;6742;6743;11418;11419;12515;12516;12517;13542;14400;14401;14941;15358;15359;16049;16050;16659;16660;17702;22407;28103;28104;29549;29550;33750;34468;35363;35364;35441;36681;37703;37704;39401;39485;39486;42807;45091;45092                                                                                                                                                                                                                                     \n",
       "4 220;2938;3074;5897;6579;6580;6643;6742;6743;11418;11419;12518;12880;12881;13542;14941;15043;15358;15359;16049;16050;16659;16660;17702;22407;28103;28104;29549;29550;33023;33750;34468;35363;35364;35441;37703;37704;39401;39485;39486;45091;45092                                                                                                                                                                                                                                        \n",
       "5 2938;3074;6579;6580;6643;6742;6743;11418;11419;12880;12881;13542;15043;15358;15359;16049;16050;16659;16660;17702;22407;28103;28104;29549;29550;33023;33750;34468;35363;35364;35441;37703;37704;39401;39402;39485;39486;45091;45092                                                                                                                                                                                                                                                       \n",
       "6 853;854;1727;1728;1729;2953;2954;4861;6110;7212;7213;7214;8797;8798;9283;9802;10485;10989;10990;10991;11096;11097;11849;15276;15277;15861;15862;16359;16921;17598;17599;17972;17973;19541;19542;20336;20337;20346;20347;20970;20971;20972;21083;21589;21662;21664;21734;21735;22004;22005;22517;22518;23249;23250;23251;24320;24321;24322;24709;26964;26965;27373;29427;30704;31536;31537;31638;31639;31902;31903;33355;33864;34048;34049;37428;37429;37615;37616;39576;40027;40769;42991\n",
       "  Peptide.is.razor                                                                                                                                                                                                                                                                                                                                                                                                         \n",
       "1 False;True;False;False;False;False;False;False;False;False;False;False;False;False;False;False;False;False;False;False;False;False;False;False;False;False;False;False;False;False;False;False;False;False;False;False;False;False;False;False;False;False                                                                                                                                                               \n",
       "2 True;True;True;True;True;True;True;True;True;True;True;True;True;True;True;True;True;True;True;True;True;True;True;True;True;True;True;True;True;True;True;True;True;True;True;True;True;True;True;True;True;True                                                                                                                                                                                                        \n",
       "3 False;False;False;False;False;False;False;False;False;False;False;False;False;False;False;False;False;False;False;False;False;False;False;False;False;False;False;False;False;False;False;False;False;True;False;False;False;False;False;True;False;False                                                                                                                                                                \n",
       "4 True;False;False;True;False;False;False;False;False;False;False;True;True;True;False;False;False;False;False;False;False;False;False;False;False;False;False;False;False;False;False;False;False;False;False;False;False;False;False;False;False;False                                                                                                                                                                   \n",
       "5 False;False;False;False;False;False;False;False;False;False;False;False;False;False;False;False;False;False;False;False;False;False;False;False;False;False;False;False;False;False;False;False;False;False;True;False;False;False;False                                                                                                                                                                                 \n",
       "6 True;True;True;True;True;True;True;True;True;True;True;True;True;True;True;True;True;True;True;True;True;True;True;True;True;True;True;True;True;True;True;True;True;True;True;True;True;True;True;True;True;True;True;True;True;True;True;True;True;True;True;True;True;True;True;True;True;True;True;True;True;True;True;True;True;True;True;True;True;True;True;True;True;True;True;True;True;True;True;True;True;True\n",
       "  Deamidation..NQ..site.positions Oxidation..M..site.positions\n",
       "1                                                             \n",
       "2                                                             \n",
       "3                                                             \n",
       "4                                                             \n",
       "5                                                             \n",
       "6                                                             \n",
       "  Count.NA..intensity.\n",
       "1 0                   \n",
       "2 0                   \n",
       "3 0                   \n",
       "4 0                   \n",
       "5 0                   \n",
       "6 0                   "
      ]
     },
     "metadata": {},
     "output_type": "display_data"
    }
   ],
   "source": [
    "intensity.data<- read.table(\"/mnt/data/Proteomics//input/MaxQuantCorrIntensityUniprot.csv\",sep=\",\",header=T,row.names=1)\n",
    "dim(intensity.data)\n",
    "head(intensity.data)"
   ]
  },
  {
   "cell_type": "markdown",
   "id": "sitting-complex",
   "metadata": {},
   "source": [
    "* Remove decoy matches and matches to contaminant"
   ]
  },
  {
   "cell_type": "code",
   "execution_count": 10,
   "id": "hindu-tuning",
   "metadata": {},
   "outputs": [
    {
     "data": {
      "text/html": [
       "&lt;NA&gt;"
      ],
      "text/latex": [
       "<NA>"
      ],
      "text/markdown": [
       "&lt;NA&gt;"
      ],
      "text/plain": [
       "[1] NA"
      ]
     },
     "metadata": {},
     "output_type": "display_data"
    },
    {
     "data": {
      "text/html": [
       "<style>\n",
       ".list-inline {list-style: none; margin:0; padding: 0}\n",
       ".list-inline>li {display: inline-block}\n",
       ".list-inline>li:not(:last-child)::after {content: \"\\00b7\"; padding: 0 .5ex}\n",
       "</style>\n",
       "<ol class=list-inline><li>''</li><li>'+'</li></ol>\n"
      ],
      "text/latex": [
       "\\begin{enumerate*}\n",
       "\\item ''\n",
       "\\item '+'\n",
       "\\end{enumerate*}\n"
      ],
      "text/markdown": [
       "1. ''\n",
       "2. '+'\n",
       "\n",
       "\n"
      ],
      "text/plain": [
       "[1] \"\"  \"+\""
      ]
     },
     "metadata": {},
     "output_type": "display_data"
    }
   ],
   "source": [
    "unique(intensity.data$Reverse)\n",
    "unique(intensity.data$Potential.contaminant)"
   ]
  },
  {
   "cell_type": "code",
   "execution_count": 11,
   "id": "proof-istanbul",
   "metadata": {},
   "outputs": [
    {
     "data": {
      "text/html": [
       "<style>\n",
       ".list-inline {list-style: none; margin:0; padding: 0}\n",
       ".list-inline>li {display: inline-block}\n",
       ".list-inline>li:not(:last-child)::after {content: \"\\00b7\"; padding: 0 .5ex}\n",
       "</style>\n",
       "<ol class=list-inline><li>4697</li><li>361</li></ol>\n"
      ],
      "text/latex": [
       "\\begin{enumerate*}\n",
       "\\item 4697\n",
       "\\item 361\n",
       "\\end{enumerate*}\n"
      ],
      "text/markdown": [
       "1. 4697\n",
       "2. 361\n",
       "\n",
       "\n"
      ],
      "text/plain": [
       "[1] 4697  361"
      ]
     },
     "metadata": {},
     "output_type": "display_data"
    }
   ],
   "source": [
    "intensity.data <- intensity.data[!intensity.data$Potential.contaminant==\"+\",]\n",
    "#intensity.data <- intensity.data[!intensity.data$Reverse==\"+\",] # only NA in this dataframe\n",
    "dim(intensity.data)"
   ]
  },
  {
   "cell_type": "markdown",
   "id": "exempt-biography",
   "metadata": {},
   "source": [
    "*  Extract columns of LFQ intensites"
   ]
  },
  {
   "cell_type": "code",
   "execution_count": 12,
   "id": "continent-oxide",
   "metadata": {},
   "outputs": [
    {
     "data": {
      "text/html": [
       "<table class=\"dataframe\">\n",
       "<caption>A data.frame: 3 x 47</caption>\n",
       "<thead>\n",
       "\t<tr><th></th><th scope=col>Intensity.ad059</th><th scope=col>Intensity.ad061</th><th scope=col>Intensity.ad063</th><th scope=col>Intensity.ad065</th><th scope=col>Intensity.ad067</th><th scope=col>Intensity.ad069</th><th scope=col>Intensity.ad071</th><th scope=col>Intensity.ad073</th><th scope=col>Intensity.ad075</th><th scope=col>Intensity.ad077</th><th scope=col>...</th><th scope=col>Intensity.ctl039</th><th scope=col>Intensity.ctl041</th><th scope=col>Intensity.ctl043</th><th scope=col>Intensity.ctl045</th><th scope=col>Intensity.ctl047</th><th scope=col>Intensity.ctl049</th><th scope=col>Intensity.ctl051</th><th scope=col>Intensity.ctl053</th><th scope=col>Intensity.ctl055</th><th scope=col>Intensity.ctl057</th></tr>\n",
       "\t<tr><th></th><th scope=col>&lt;dbl&gt;</th><th scope=col>&lt;dbl&gt;</th><th scope=col>&lt;dbl&gt;</th><th scope=col>&lt;dbl&gt;</th><th scope=col>&lt;dbl&gt;</th><th scope=col>&lt;dbl&gt;</th><th scope=col>&lt;dbl&gt;</th><th scope=col>&lt;dbl&gt;</th><th scope=col>&lt;dbl&gt;</th><th scope=col>&lt;dbl&gt;</th><th scope=col>...</th><th scope=col>&lt;dbl&gt;</th><th scope=col>&lt;dbl&gt;</th><th scope=col>&lt;dbl&gt;</th><th scope=col>&lt;dbl&gt;</th><th scope=col>&lt;dbl&gt;</th><th scope=col>&lt;dbl&gt;</th><th scope=col>&lt;dbl&gt;</th><th scope=col>&lt;dbl&gt;</th><th scope=col>&lt;dbl&gt;</th><th scope=col>&lt;dbl&gt;</th></tr>\n",
       "</thead>\n",
       "<tbody>\n",
       "\t<tr><th scope=row>MBP|P02686-5</th><td>1.72606e+11</td><td>1.06621e+11</td><td>1.46884e+11</td><td>99711379238</td><td>1.27924e+11</td><td>1.20897e+11</td><td>1.23047e+11</td><td>1.14472e+11</td><td>1.20151e+11</td><td>2.53384e+11</td><td>...</td><td>74719262730</td><td>1.14940e+11</td><td>62287139150</td><td>1.67132e+11</td><td>33099479968</td><td>55998417054</td><td>88815414877</td><td>1.23970e+11</td><td>73515257851</td><td>64057889008</td></tr>\n",
       "\t<tr><th scope=row>MBP|P02686</th><td>1.72596e+11</td><td>1.06589e+11</td><td>1.46854e+11</td><td>99691871974</td><td>1.27894e+11</td><td>1.20876e+11</td><td>1.22985e+11</td><td>1.14441e+11</td><td>1.20084e+11</td><td>2.53285e+11</td><td>...</td><td>74707984220</td><td>1.14938e+11</td><td>62284493999</td><td>1.67132e+11</td><td>33103860988</td><td>55988666020</td><td>88815414877</td><td>1.23951e+11</td><td>73513396163</td><td>64048396649</td></tr>\n",
       "\t<tr><th scope=row>MBP|P02686-3</th><td>1.69671e+11</td><td>1.03551e+11</td><td>1.46246e+11</td><td>99165175850</td><td>1.26450e+11</td><td>1.18639e+11</td><td>1.18040e+11</td><td>1.13118e+11</td><td>1.19274e+11</td><td>2.51523e+11</td><td>...</td><td>73830863155</td><td>1.13019e+11</td><td>62012925140</td><td>1.61191e+11</td><td>32917229549</td><td>55784780757</td><td>87897191964</td><td>1.23534e+11</td><td>71664740199</td><td>62860988856</td></tr>\n",
       "</tbody>\n",
       "</table>\n"
      ],
      "text/latex": [
       "A data.frame: 3 x 47\n",
       "\\begin{tabular}{r|lllllllllllllllllllll}\n",
       "  & Intensity.ad059 & Intensity.ad061 & Intensity.ad063 & Intensity.ad065 & Intensity.ad067 & Intensity.ad069 & Intensity.ad071 & Intensity.ad073 & Intensity.ad075 & Intensity.ad077 & ... & Intensity.ctl039 & Intensity.ctl041 & Intensity.ctl043 & Intensity.ctl045 & Intensity.ctl047 & Intensity.ctl049 & Intensity.ctl051 & Intensity.ctl053 & Intensity.ctl055 & Intensity.ctl057\\\\\n",
       "  & <dbl> & <dbl> & <dbl> & <dbl> & <dbl> & <dbl> & <dbl> & <dbl> & <dbl> & <dbl> & ... & <dbl> & <dbl> & <dbl> & <dbl> & <dbl> & <dbl> & <dbl> & <dbl> & <dbl> & <dbl>\\\\\n",
       "\\hline\n",
       "\tMBP\\textbar{}P02686-5 & 1.72606e+11 & 1.06621e+11 & 1.46884e+11 & 99711379238 & 1.27924e+11 & 1.20897e+11 & 1.23047e+11 & 1.14472e+11 & 1.20151e+11 & 2.53384e+11 & ... & 74719262730 & 1.14940e+11 & 62287139150 & 1.67132e+11 & 33099479968 & 55998417054 & 88815414877 & 1.23970e+11 & 73515257851 & 64057889008\\\\\n",
       "\tMBP\\textbar{}P02686 & 1.72596e+11 & 1.06589e+11 & 1.46854e+11 & 99691871974 & 1.27894e+11 & 1.20876e+11 & 1.22985e+11 & 1.14441e+11 & 1.20084e+11 & 2.53285e+11 & ... & 74707984220 & 1.14938e+11 & 62284493999 & 1.67132e+11 & 33103860988 & 55988666020 & 88815414877 & 1.23951e+11 & 73513396163 & 64048396649\\\\\n",
       "\tMBP\\textbar{}P02686-3 & 1.69671e+11 & 1.03551e+11 & 1.46246e+11 & 99165175850 & 1.26450e+11 & 1.18639e+11 & 1.18040e+11 & 1.13118e+11 & 1.19274e+11 & 2.51523e+11 & ... & 73830863155 & 1.13019e+11 & 62012925140 & 1.61191e+11 & 32917229549 & 55784780757 & 87897191964 & 1.23534e+11 & 71664740199 & 62860988856\\\\\n",
       "\\end{tabular}\n"
      ],
      "text/markdown": [
       "\n",
       "A data.frame: 3 x 47\n",
       "\n",
       "| <!--/--> | Intensity.ad059 &lt;dbl&gt; | Intensity.ad061 &lt;dbl&gt; | Intensity.ad063 &lt;dbl&gt; | Intensity.ad065 &lt;dbl&gt; | Intensity.ad067 &lt;dbl&gt; | Intensity.ad069 &lt;dbl&gt; | Intensity.ad071 &lt;dbl&gt; | Intensity.ad073 &lt;dbl&gt; | Intensity.ad075 &lt;dbl&gt; | Intensity.ad077 &lt;dbl&gt; | ... ... | Intensity.ctl039 &lt;dbl&gt; | Intensity.ctl041 &lt;dbl&gt; | Intensity.ctl043 &lt;dbl&gt; | Intensity.ctl045 &lt;dbl&gt; | Intensity.ctl047 &lt;dbl&gt; | Intensity.ctl049 &lt;dbl&gt; | Intensity.ctl051 &lt;dbl&gt; | Intensity.ctl053 &lt;dbl&gt; | Intensity.ctl055 &lt;dbl&gt; | Intensity.ctl057 &lt;dbl&gt; |\n",
       "|---|---|---|---|---|---|---|---|---|---|---|---|---|---|---|---|---|---|---|---|---|---|\n",
       "| MBP|P02686-5 | 1.72606e+11 | 1.06621e+11 | 1.46884e+11 | 99711379238 | 1.27924e+11 | 1.20897e+11 | 1.23047e+11 | 1.14472e+11 | 1.20151e+11 | 2.53384e+11 | ... | 74719262730 | 1.14940e+11 | 62287139150 | 1.67132e+11 | 33099479968 | 55998417054 | 88815414877 | 1.23970e+11 | 73515257851 | 64057889008 |\n",
       "| MBP|P02686 | 1.72596e+11 | 1.06589e+11 | 1.46854e+11 | 99691871974 | 1.27894e+11 | 1.20876e+11 | 1.22985e+11 | 1.14441e+11 | 1.20084e+11 | 2.53285e+11 | ... | 74707984220 | 1.14938e+11 | 62284493999 | 1.67132e+11 | 33103860988 | 55988666020 | 88815414877 | 1.23951e+11 | 73513396163 | 64048396649 |\n",
       "| MBP|P02686-3 | 1.69671e+11 | 1.03551e+11 | 1.46246e+11 | 99165175850 | 1.26450e+11 | 1.18639e+11 | 1.18040e+11 | 1.13118e+11 | 1.19274e+11 | 2.51523e+11 | ... | 73830863155 | 1.13019e+11 | 62012925140 | 1.61191e+11 | 32917229549 | 55784780757 | 87897191964 | 1.23534e+11 | 71664740199 | 62860988856 |\n",
       "\n"
      ],
      "text/plain": [
       "             Intensity.ad059 Intensity.ad061 Intensity.ad063 Intensity.ad065\n",
       "MBP|P02686-5 1.72606e+11     1.06621e+11     1.46884e+11     99711379238    \n",
       "MBP|P02686   1.72596e+11     1.06589e+11     1.46854e+11     99691871974    \n",
       "MBP|P02686-3 1.69671e+11     1.03551e+11     1.46246e+11     99165175850    \n",
       "             Intensity.ad067 Intensity.ad069 Intensity.ad071 Intensity.ad073\n",
       "MBP|P02686-5 1.27924e+11     1.20897e+11     1.23047e+11     1.14472e+11    \n",
       "MBP|P02686   1.27894e+11     1.20876e+11     1.22985e+11     1.14441e+11    \n",
       "MBP|P02686-3 1.26450e+11     1.18639e+11     1.18040e+11     1.13118e+11    \n",
       "             Intensity.ad075 Intensity.ad077 ... Intensity.ctl039\n",
       "MBP|P02686-5 1.20151e+11     2.53384e+11     ... 74719262730     \n",
       "MBP|P02686   1.20084e+11     2.53285e+11     ... 74707984220     \n",
       "MBP|P02686-3 1.19274e+11     2.51523e+11     ... 73830863155     \n",
       "             Intensity.ctl041 Intensity.ctl043 Intensity.ctl045\n",
       "MBP|P02686-5 1.14940e+11      62287139150      1.67132e+11     \n",
       "MBP|P02686   1.14938e+11      62284493999      1.67132e+11     \n",
       "MBP|P02686-3 1.13019e+11      62012925140      1.61191e+11     \n",
       "             Intensity.ctl047 Intensity.ctl049 Intensity.ctl051\n",
       "MBP|P02686-5 33099479968      55998417054      88815414877     \n",
       "MBP|P02686   33103860988      55988666020      88815414877     \n",
       "MBP|P02686-3 32917229549      55784780757      87897191964     \n",
       "             Intensity.ctl053 Intensity.ctl055 Intensity.ctl057\n",
       "MBP|P02686-5 1.23970e+11      73515257851      64057889008     \n",
       "MBP|P02686   1.23951e+11      73513396163      64048396649     \n",
       "MBP|P02686-3 1.23534e+11      71664740199      62860988856     "
      ]
     },
     "metadata": {},
     "output_type": "display_data"
    }
   ],
   "source": [
    "# Extract columns of LFQ intensites\n",
    "intensity.data.LFQ <- intensity.data[,grep(pattern=\"^Intensity.\",colnames(intensity.data))]\n",
    "rownames(intensity.data.LFQ) <- intensity.data$UniqueID\n",
    "head(intensity.data.LFQ,n=3)"
   ]
  },
  {
   "cell_type": "markdown",
   "id": "engaged-ethernet",
   "metadata": {},
   "source": [
    "* Keep only columns that are present in the metadata table and reasure the same order."
   ]
  },
  {
   "cell_type": "code",
   "execution_count": 13,
   "id": "supposed-bobby",
   "metadata": {},
   "outputs": [
    {
     "data": {
      "text/html": [
       "<style>\n",
       ".list-inline {list-style: none; margin:0; padding: 0}\n",
       ".list-inline>li {display: inline-block}\n",
       ".list-inline>li:not(:last-child)::after {content: \"\\00b7\"; padding: 0 .5ex}\n",
       "</style>\n",
       "<ol class=list-inline><li>4697</li><li>33</li></ol>\n"
      ],
      "text/latex": [
       "\\begin{enumerate*}\n",
       "\\item 4697\n",
       "\\item 33\n",
       "\\end{enumerate*}\n"
      ],
      "text/markdown": [
       "1. 4697\n",
       "2. 33\n",
       "\n",
       "\n"
      ],
      "text/plain": [
       "[1] 4697   33"
      ]
     },
     "metadata": {},
     "output_type": "display_data"
    },
    {
     "data": {
      "text/plain": [
       "\n",
       "TRUE \n",
       "  33 "
      ]
     },
     "metadata": {},
     "output_type": "display_data"
    }
   ],
   "source": [
    "intensity.data.LFQ <- intensity.data.LFQ[, colnames(intensity.data.LFQ) %in% metadata$sampleID ]\n",
    "dim(intensity.data.LFQ)\n",
    "# order\n",
    "intensity.data.LFQ <- intensity.data.LFQ[, metadata$sampleID]\n",
    "table(metadata$sampleID == colnames(intensity.data.LFQ))"
   ]
  },
  {
   "cell_type": "markdown",
   "id": "molecular-bedroom",
   "metadata": {},
   "source": [
    "* Filter on missing values\n",
    "\n",
    "Usually data contains proteins which are not quantified in all samples. As we are doing differential expression next, the minimum requirement is two values per group. A good practise is to impute the rest of missing values after this filtering (this is not cover here).\n",
    "\n",
    "A more stringent approach is to filter out all proteins with any missing. "
   ]
  },
  {
   "cell_type": "code",
   "execution_count": 15,
   "id": "valued-display",
   "metadata": {},
   "outputs": [],
   "source": [
    "# count number of NA per row for each condition/group\n",
    "intensity.data.LFQ$na_count_ctl = rowSums(is.na(intensity.data.LFQ[, grep(pattern=\"ctl\",colnames(intensity.data.LFQ))]))\n",
    "intensity.data.LFQ$na_count_ad = rowSums(is.na(intensity.data.LFQ[, grep(pattern=\"ad\",colnames(intensity.data.LFQ))]))"
   ]
  },
  {
   "cell_type": "code",
   "execution_count": 17,
   "id": "reflected-writer",
   "metadata": {},
   "outputs": [
    {
     "data": {
      "text/html": [
       "<style>\n",
       ".list-inline {list-style: none; margin:0; padding: 0}\n",
       ".list-inline>li {display: inline-block}\n",
       ".list-inline>li:not(:last-child)::after {content: \"\\00b7\"; padding: 0 .5ex}\n",
       "</style>\n",
       "<ol class=list-inline><li>3093</li><li>33</li></ol>\n"
      ],
      "text/latex": [
       "\\begin{enumerate*}\n",
       "\\item 3093\n",
       "\\item 33\n",
       "\\end{enumerate*}\n"
      ],
      "text/markdown": [
       "1. 3093\n",
       "2. 33\n",
       "\n",
       "\n"
      ],
      "text/plain": [
       "[1] 3093   33"
      ]
     },
     "metadata": {},
     "output_type": "display_data"
    }
   ],
   "source": [
    "# min 2 values per group, do not include counts columns in the final dataset\n",
    "intensity.data.LFQ.filter = intensity.data.LFQ[intensity.data.LFQ$na_count_ctl<2 & intensity.data.LFQ$na_count_ad<2, -c(34,35)]\n",
    "dim(intensity.data.LFQ.filter)"
   ]
  },
  {
   "cell_type": "code",
   "execution_count": 19,
   "id": "numerical-coaching",
   "metadata": {},
   "outputs": [
    {
     "data": {
      "text/html": [
       "<style>\n",
       ".list-inline {list-style: none; margin:0; padding: 0}\n",
       ".list-inline>li {display: inline-block}\n",
       ".list-inline>li:not(:last-child)::after {content: \"\\00b7\"; padding: 0 .5ex}\n",
       "</style>\n",
       "<ol class=list-inline><li>2745</li><li>35</li></ol>\n"
      ],
      "text/latex": [
       "\\begin{enumerate*}\n",
       "\\item 2745\n",
       "\\item 35\n",
       "\\end{enumerate*}\n"
      ],
      "text/markdown": [
       "1. 2745\n",
       "2. 35\n",
       "\n",
       "\n"
      ],
      "text/plain": [
       "[1] 2745   35"
      ]
     },
     "metadata": {},
     "output_type": "display_data"
    }
   ],
   "source": [
    "# if removing all NAs\n",
    "intensity.data.dropna<-intensity.data.LFQ[complete.cases(intensity.data.LFQ), ]\n",
    "dim(intensity.data.dropna)"
   ]
  },
  {
   "cell_type": "markdown",
   "id": "considerable-beauty",
   "metadata": {},
   "source": [
    "* Transform to log scale"
   ]
  },
  {
   "cell_type": "code",
   "execution_count": 20,
   "id": "prostate-european",
   "metadata": {},
   "outputs": [],
   "source": [
    "protein.table <- log2(intensity.data.LFQ.filter)"
   ]
  },
  {
   "cell_type": "markdown",
   "id": "successful-title",
   "metadata": {},
   "source": [
    "* Normalization\n",
    "\n",
    "Normalization is necessary before analysis is performed, in order to ensure that differences in intensities are indeed due to differential expression and not experimental artifacts.\n",
    "\n",
    "preprocessCore: normalize.quantiles algorithm maps every value on any one chip to the corresponding quantile of the standard distribution. It makes the distribution of probe intensities the same for all arrays (samples). No special allowances are made for outliers. [1]. This functions will handle missing data (ie NA values), based on the assumption that the data is missing at random.\n",
    "\n",
    "[1]Benjamin Milo Bolstad (2017). preprocessCore: A collection of pre-processing functions. R package version 1.38.1."
   ]
  },
  {
   "cell_type": "code",
   "execution_count": 21,
   "id": "norwegian-barrel",
   "metadata": {},
   "outputs": [],
   "source": [
    "suppressPackageStartupMessages(library(preprocessCore))"
   ]
  },
  {
   "cell_type": "code",
   "execution_count": 22,
   "id": "accepting-indianapolis",
   "metadata": {},
   "outputs": [
    {
     "data": {
      "text/html": [
       "<table class=\"dataframe\">\n",
       "<caption>A matrix: 3 x 33 of type dbl</caption>\n",
       "<thead>\n",
       "\t<tr><th></th><th scope=col>Intensity.ctl033</th><th scope=col>Intensity.ad059</th><th scope=col>Intensity.ctl035</th><th scope=col>Intensity.ctl037</th><th scope=col>Intensity.ad061</th><th scope=col>Intensity.ad063</th><th scope=col>Intensity.ctl039</th><th scope=col>Intensity.ctl041</th><th scope=col>Intensity.ad065</th><th scope=col>Intensity.ad067</th><th scope=col>...</th><th scope=col>Intensity.ad087</th><th scope=col>Intensity.ad089</th><th scope=col>Intensity.ctl051</th><th scope=col>Intensity.ctl053</th><th scope=col>Intensity.ad091</th><th scope=col>Intensity.ad093</th><th scope=col>Intensity.ad095</th><th scope=col>Intensity.ctl055</th><th scope=col>Intensity.ad097</th><th scope=col>Intensity.ctl057</th></tr>\n",
       "</thead>\n",
       "<tbody>\n",
       "\t<tr><th scope=row>MBP|P02686-5</th><td>36.63710</td><td>36.63710</td><td>36.63710</td><td>36.63710</td><td>36.63710</td><td>36.63710</td><td>36.54592</td><td>36.63710</td><td>36.54589</td><td>36.63710</td><td>...</td><td>36.12127</td><td>35.86841</td><td>36.59142</td><td>36.63710</td><td>36.63710</td><td>36.63710</td><td>36.54583</td><td>36.63710</td><td>36.63710</td><td>36.51194</td></tr>\n",
       "\t<tr><th scope=row>MBP|P02686</th><td>36.54586</td><td>36.54588</td><td>36.54593</td><td>36.54582</td><td>36.54583</td><td>36.54584</td><td>36.51220</td><td>36.54492</td><td>36.51211</td><td>36.54592</td><td>...</td><td>35.90475</td><td>35.79846</td><td>36.59142</td><td>36.54578</td><td>36.54587</td><td>36.54590</td><td>36.51197</td><td>36.54587</td><td>36.54586</td><td>36.46777</td></tr>\n",
       "\t<tr><th scope=row>MBP|P02686-3</th><td>36.51203</td><td>36.51208</td><td>36.51223</td><td>36.51194</td><td>36.51197</td><td>36.51200</td><td>36.46792</td><td>36.50957</td><td>36.46787</td><td>36.51220</td><td>...</td><td>35.86745</td><td>35.76364</td><td>36.51208</td><td>36.51182</td><td>36.51205</td><td>36.51214</td><td>36.46778</td><td>36.51205</td><td>36.51203</td><td>36.44552</td></tr>\n",
       "</tbody>\n",
       "</table>\n"
      ],
      "text/latex": [
       "A matrix: 3 x 33 of type dbl\n",
       "\\begin{tabular}{r|lllllllllllllllllllll}\n",
       "  & Intensity.ctl033 & Intensity.ad059 & Intensity.ctl035 & Intensity.ctl037 & Intensity.ad061 & Intensity.ad063 & Intensity.ctl039 & Intensity.ctl041 & Intensity.ad065 & Intensity.ad067 & ... & Intensity.ad087 & Intensity.ad089 & Intensity.ctl051 & Intensity.ctl053 & Intensity.ad091 & Intensity.ad093 & Intensity.ad095 & Intensity.ctl055 & Intensity.ad097 & Intensity.ctl057\\\\\n",
       "\\hline\n",
       "\tMBP\\textbar{}P02686-5 & 36.63710 & 36.63710 & 36.63710 & 36.63710 & 36.63710 & 36.63710 & 36.54592 & 36.63710 & 36.54589 & 36.63710 & ... & 36.12127 & 35.86841 & 36.59142 & 36.63710 & 36.63710 & 36.63710 & 36.54583 & 36.63710 & 36.63710 & 36.51194\\\\\n",
       "\tMBP\\textbar{}P02686 & 36.54586 & 36.54588 & 36.54593 & 36.54582 & 36.54583 & 36.54584 & 36.51220 & 36.54492 & 36.51211 & 36.54592 & ... & 35.90475 & 35.79846 & 36.59142 & 36.54578 & 36.54587 & 36.54590 & 36.51197 & 36.54587 & 36.54586 & 36.46777\\\\\n",
       "\tMBP\\textbar{}P02686-3 & 36.51203 & 36.51208 & 36.51223 & 36.51194 & 36.51197 & 36.51200 & 36.46792 & 36.50957 & 36.46787 & 36.51220 & ... & 35.86745 & 35.76364 & 36.51208 & 36.51182 & 36.51205 & 36.51214 & 36.46778 & 36.51205 & 36.51203 & 36.44552\\\\\n",
       "\\end{tabular}\n"
      ],
      "text/markdown": [
       "\n",
       "A matrix: 3 x 33 of type dbl\n",
       "\n",
       "| <!--/--> | Intensity.ctl033 | Intensity.ad059 | Intensity.ctl035 | Intensity.ctl037 | Intensity.ad061 | Intensity.ad063 | Intensity.ctl039 | Intensity.ctl041 | Intensity.ad065 | Intensity.ad067 | ... | Intensity.ad087 | Intensity.ad089 | Intensity.ctl051 | Intensity.ctl053 | Intensity.ad091 | Intensity.ad093 | Intensity.ad095 | Intensity.ctl055 | Intensity.ad097 | Intensity.ctl057 |\n",
       "|---|---|---|---|---|---|---|---|---|---|---|---|---|---|---|---|---|---|---|---|---|---|\n",
       "| MBP|P02686-5 | 36.63710 | 36.63710 | 36.63710 | 36.63710 | 36.63710 | 36.63710 | 36.54592 | 36.63710 | 36.54589 | 36.63710 | ... | 36.12127 | 35.86841 | 36.59142 | 36.63710 | 36.63710 | 36.63710 | 36.54583 | 36.63710 | 36.63710 | 36.51194 |\n",
       "| MBP|P02686 | 36.54586 | 36.54588 | 36.54593 | 36.54582 | 36.54583 | 36.54584 | 36.51220 | 36.54492 | 36.51211 | 36.54592 | ... | 35.90475 | 35.79846 | 36.59142 | 36.54578 | 36.54587 | 36.54590 | 36.51197 | 36.54587 | 36.54586 | 36.46777 |\n",
       "| MBP|P02686-3 | 36.51203 | 36.51208 | 36.51223 | 36.51194 | 36.51197 | 36.51200 | 36.46792 | 36.50957 | 36.46787 | 36.51220 | ... | 35.86745 | 35.76364 | 36.51208 | 36.51182 | 36.51205 | 36.51214 | 36.46778 | 36.51205 | 36.51203 | 36.44552 |\n",
       "\n"
      ],
      "text/plain": [
       "             Intensity.ctl033 Intensity.ad059 Intensity.ctl035 Intensity.ctl037\n",
       "MBP|P02686-5 36.63710         36.63710        36.63710         36.63710        \n",
       "MBP|P02686   36.54586         36.54588        36.54593         36.54582        \n",
       "MBP|P02686-3 36.51203         36.51208        36.51223         36.51194        \n",
       "             Intensity.ad061 Intensity.ad063 Intensity.ctl039 Intensity.ctl041\n",
       "MBP|P02686-5 36.63710        36.63710        36.54592         36.63710        \n",
       "MBP|P02686   36.54583        36.54584        36.51220         36.54492        \n",
       "MBP|P02686-3 36.51197        36.51200        36.46792         36.50957        \n",
       "             Intensity.ad065 Intensity.ad067 ... Intensity.ad087\n",
       "MBP|P02686-5 36.54589        36.63710        ... 36.12127       \n",
       "MBP|P02686   36.51211        36.54592        ... 35.90475       \n",
       "MBP|P02686-3 36.46787        36.51220        ... 35.86745       \n",
       "             Intensity.ad089 Intensity.ctl051 Intensity.ctl053 Intensity.ad091\n",
       "MBP|P02686-5 35.86841        36.59142         36.63710         36.63710       \n",
       "MBP|P02686   35.79846        36.59142         36.54578         36.54587       \n",
       "MBP|P02686-3 35.76364        36.51208         36.51182         36.51205       \n",
       "             Intensity.ad093 Intensity.ad095 Intensity.ctl055 Intensity.ad097\n",
       "MBP|P02686-5 36.63710        36.54583        36.63710         36.63710       \n",
       "MBP|P02686   36.54590        36.51197        36.54587         36.54586       \n",
       "MBP|P02686-3 36.51214        36.46778        36.51205         36.51203       \n",
       "             Intensity.ctl057\n",
       "MBP|P02686-5 36.51194        \n",
       "MBP|P02686   36.46777        \n",
       "MBP|P02686-3 36.44552        "
      ]
     },
     "metadata": {},
     "output_type": "display_data"
    }
   ],
   "source": [
    "protein.table.norm<-normalize.quantiles(as.matrix(protein.table))\n",
    "rownames(protein.table.norm)<-rownames(protein.table)\n",
    "colnames(protein.table.norm)<-colnames(protein.table)\n",
    "head(protein.table.norm,n=3L)"
   ]
  },
  {
   "cell_type": "code",
   "execution_count": 23,
   "id": "buried-trust",
   "metadata": {},
   "outputs": [
    {
     "data": {
      "image/png": "[encoded data removed]",
      "text/plain": [
       "plot without title"
      ]
     },
     "metadata": {
      "image/png": {
       "height": 420,
       "width": 420
      }
     },
     "output_type": "display_data"
    }
   ],
   "source": [
    "boxplot(protein.table.norm)"
   ]
  },
  {
   "cell_type": "markdown",
   "id": "aware-restaurant",
   "metadata": {},
   "source": [
    "#### Unique peptide counts"
   ]
  },
  {
   "cell_type": "code",
   "execution_count": 27,
   "id": "under-lloyd",
   "metadata": {},
   "outputs": [
    {
     "data": {
      "text/html": [
       "<table class=\"dataframe\">\n",
       "<caption>A data.frame: 6 x 1</caption>\n",
       "<thead>\n",
       "\t<tr><th></th><th scope=col>count</th></tr>\n",
       "\t<tr><th></th><th scope=col>&lt;dbl&gt;</th></tr>\n",
       "</thead>\n",
       "<tbody>\n",
       "\t<tr><th scope=row>MBP|P02686-5</th><td> 1</td></tr>\n",
       "\t<tr><th scope=row>MBP|P02686</th><td>21</td></tr>\n",
       "\t<tr><th scope=row>MBP|P02686-3</th><td> 1</td></tr>\n",
       "\t<tr><th scope=row>MBP|H7BYR8</th><td> 2</td></tr>\n",
       "\t<tr><th scope=row>MBP|P02686-6</th><td> 1</td></tr>\n",
       "\t<tr><th scope=row>GFAP|P14136</th><td>46</td></tr>\n",
       "</tbody>\n",
       "</table>\n"
      ],
      "text/latex": [
       "A data.frame: 6 x 1\n",
       "\\begin{tabular}{r|l}\n",
       "  & count\\\\\n",
       "  & <dbl>\\\\\n",
       "\\hline\n",
       "\tMBP\\textbar{}P02686-5 &  1\\\\\n",
       "\tMBP\\textbar{}P02686 & 21\\\\\n",
       "\tMBP\\textbar{}P02686-3 &  1\\\\\n",
       "\tMBP\\textbar{}H7BYR8 &  2\\\\\n",
       "\tMBP\\textbar{}P02686-6 &  1\\\\\n",
       "\tGFAP\\textbar{}P14136 & 46\\\\\n",
       "\\end{tabular}\n"
      ],
      "text/markdown": [
       "\n",
       "A data.frame: 6 x 1\n",
       "\n",
       "| <!--/--> | count &lt;dbl&gt; |\n",
       "|---|---|\n",
       "| MBP|P02686-5 |  1 |\n",
       "| MBP|P02686 | 21 |\n",
       "| MBP|P02686-3 |  1 |\n",
       "| MBP|H7BYR8 |  2 |\n",
       "| MBP|P02686-6 |  1 |\n",
       "| GFAP|P14136 | 46 |\n",
       "\n"
      ],
      "text/plain": [
       "             count\n",
       "MBP|P02686-5  1   \n",
       "MBP|P02686   21   \n",
       "MBP|P02686-3  1   \n",
       "MBP|H7BYR8    2   \n",
       "MBP|P02686-6  1   \n",
       "GFAP|P14136  46   "
      ]
     },
     "metadata": {},
     "output_type": "display_data"
    }
   ],
   "source": [
    "library(matrixStats)\n",
    "# we use minimum peptide count among samples\n",
    "# count unique+razor peptides used for quantification (use column Razor...unique)\n",
    "pep.count.table = data.frame(count = rowMins(as.matrix(intensity.data[, grep(pattern=\"^Razor...unique\",colnames(intensity.data))])),\n",
    "                             row.names = intensity.data$UniqueID)\n",
    "# Minimum peptide count of some proteins can be 0\n",
    "# add pseudocount 1 to all proteins\n",
    "pep.count.table$count = pep.count.table$count+1\n",
    "head(pep.count.table)"
   ]
  },
  {
   "cell_type": "code",
   "execution_count": 28,
   "id": "strong-pastor",
   "metadata": {},
   "outputs": [],
   "source": [
    "save(metadata, protein.table.norm, pep.count.table, file=\"/mnt/data/Proteomics/output/protein_objects.RData\")"
   ]
  },
  {
   "cell_type": "markdown",
   "id": "incomplete-journey",
   "metadata": {},
   "source": [
    "**For the next step, Differential Analysis, you need the following:**\n",
    "* protein_objects.RData"
   ]
  }
 ],
 "metadata": {
  "kernelspec": {
   "display_name": "R",
   "language": "R",
   "name": "ir"
  },
  "language_info": {
   "codemirror_mode": "r",
   "file_extension": ".r",
   "mimetype": "text/x-r-source",
   "name": "R",
   "pygments_lexer": "r",
   "version": "4.0.4"
  }
 },
 "nbformat": 4,
 "nbformat_minor": 5
}
