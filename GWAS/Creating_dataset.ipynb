{
 "cells": [
  {
   "cell_type": "markdown",
   "metadata": {},
   "source": [
    "# Create working dataset\n",
    "\n",
    "To be able to illustrate all analysis steps using realistic genetic data, we have prepared a dataset using data from the HapMap Project.\n",
    "\n",
    "This preparation consist on updating the datasets to rs, removing SNPs with minor allele frequency and adding fake case/control phenotypes. We have also purposely duplicated one individual to check that the algorithms detects it.\n",
    "\n",
    "Working dataset is on build 36 purposely, in order to demonstrate how to change builds. This is done in Task1_preQC_template.ipynb."
   ]
  },
  {
   "cell_type": "markdown",
   "metadata": {},
   "source": [
    "**TODO comment and execute. Copy ref files from Zeus**"
   ]
  },
  {
   "cell_type": "code",
   "execution_count": 3,
   "metadata": {
    "ExecuteTime": {
     "end_time": "2020-06-19T05:48:58.743498Z",
     "start_time": "2020-06-19T05:48:58.736226Z"
    }
   },
   "outputs": [
    {
     "name": "stdout",
     "output_type": "stream",
     "text": [
      "env: Path=/mnt/data/GWAS\n"
     ]
    }
   ],
   "source": [
    "%env Path=/mnt/data/GWAS"
   ]
  },
  {
   "cell_type": "code",
   "execution_count": 7,
   "metadata": {
    "ExecuteTime": {
     "end_time": "2020-06-19T05:50:44.471859Z",
     "start_time": "2020-06-19T05:50:44.447909Z"
    }
   },
   "outputs": [
    {
     "name": "stdout",
     "output_type": "stream",
     "text": [
      "1\t1:10177\t0\t10177\tAC\tA\n",
      "1\t1:10352\t0\t10352\tTA\tT\n",
      "1\t1:11008\t0\t11008\tG\tC\n",
      "1\t1:11012\t0\t11012\tG\tC\n",
      "1\t1:13110\t0\t13110\tA\tG\n",
      "1\t1:13116\t0\t13116\tG\tT\n",
      "1\t1:13118\t0\t13118\tG\tA\n",
      "1\t1:13273\t0\t13273\tC\tG\n",
      "1\t1:14464\t0\t14464\tT\tA\n",
      "1\t1:14599\t0\t14599\tA\tT\n",
      "23\t23:155258431\t0\t155258431\tG\tC\n",
      "23\t23:155258654\t0\t155258654\tG\tC\n",
      "23\t23:155259767\t0\t155259767\tT\tTA\n",
      "23\t23:155259783\t0\t155259783\tGT\tG\n",
      "23\t23:155259821\t0\t155259821\tTG\tT\n",
      "23\t23:155259882\t0\t155259882\tA\tAGGGTTAGGGTTAGGGGTTAG\n",
      "23\t23:155259986\t0\t155259986\tA\tAG\n",
      "23\t23:155260016\t0\t155260016\tG\tGTT\n",
      "23\t23:155260472\t0\t155260472\tTG\tT\n",
      "23\t23:155260478\t0\t155260478\tTTA\tT\n",
      "  504  3024 12604 /mnt/Almacen6/Adapted/protocol/1K_Genome/Phase3_v5_reduced/mydataset.b37.rs.fam\n"
     ]
    }
   ],
   "source": [
    "%%bash\n",
    "head $Path/input/mydataset.b37.rs.bim\n",
    "tail $Path/input/mydataset.b37.rs.bim\n",
    "wc $Path/input/mydataset.b37.rs.fam"
   ]
  },
  {
   "cell_type": "code",
   "execution_count": 8,
   "metadata": {
    "ExecuteTime": {
     "end_time": "2020-06-19T05:57:38.422004Z",
     "start_time": "2020-06-19T05:57:32.248442Z"
    }
   },
   "outputs": [
    {
     "name": "stdout",
     "output_type": "stream",
     "text": [
      "chr1\t10177\t10178\t1:10177\n",
      "chr1\t10352\t10353\t1:10352\n",
      "chr1\t11008\t11009\t1:11008\n",
      "chr1\t11012\t11013\t1:11012\n",
      "chr1\t13110\t13111\t1:13110\n",
      "chr1\t13116\t13117\t1:13116\n",
      "chr1\t13118\t13119\t1:13118\n",
      "chr1\t13273\t13274\t1:13273\n",
      "chr1\t14464\t14465\t1:14464\n",
      "chr1\t14599\t14600\t1:14599\n"
     ]
    }
   ],
   "source": [
    "%%bash\n",
    "awk '{OFS=\"\\t\"; print \"chr\"$1,$4,$4+1,$2}' $Path/input/mydataset.b37.bim | sed 's/chr23/chrX/g' | sed 's/chr24/chrY/g' | sed 's/chr26/chrM/g' > $Path/output/UCSC_b37.bed\n",
    "head $Path/UCSC_b37.bed"
   ]
  },
  {
   "cell_type": "code",
   "execution_count": 10,
   "metadata": {
    "ExecuteTime": {
     "end_time": "2020-06-19T06:04:17.886363Z",
     "start_time": "2020-06-19T06:04:01.418473Z"
    }
   },
   "outputs": [
    {
     "name": "stderr",
     "output_type": "stream",
     "text": [
      "Reading liftover chains\n",
      "Mapping coordinates\n"
     ]
    }
   ],
   "source": [
    "%%bash\n",
    "# UCSC liftOver to get the same reference build. It creates two output files, hglft_genome.bed and unmapped.bed\n",
    "# 1st parameter: bed file\n",
    "# 2nd parameter: fixed path - do not change it\n",
    "# 3rd parameter: path to output file\n",
    "# 4th parameter: unmapped SNPs\n",
    "$Path/liftOver $Path/output/UCSC_b37.bed $Path/ref_files/Phase3_v5/hg19ToHg18.over.chain.gz $Path/output/hglft_genome.bed $Path/output/unmapped.bed"
   ]
  },
  {
   "cell_type": "code",
   "execution_count": 11,
   "metadata": {
    "ExecuteTime": {
     "end_time": "2020-06-19T06:04:17.902067Z",
     "start_time": "2020-06-19T06:04:17.888189Z"
    }
   },
   "outputs": [
    {
     "name": "stdout",
     "output_type": "stream",
     "text": [
      "chr1\t177\t178\t1:10177\n",
      "chr1\t352\t353\t1:10352\n",
      "chr1\t871\t872\t1:11008\n",
      "chr1\t875\t876\t1:11012\n",
      "chr1\t2973\t2974\t1:13110\n",
      "chr1\t2979\t2980\t1:13116\n",
      "chr1\t2981\t2982\t1:13118\n",
      "chr1\t3136\t3137\t1:13273\n",
      "chr1\t4327\t4328\t1:14464\n",
      "chr1\t4462\t4463\t1:14599\n"
     ]
    }
   ],
   "source": [
    "%%bash\n",
    "head $Path/hglft_genome.bed"
   ]
  },
  {
   "cell_type": "code",
   "execution_count": 22,
   "metadata": {
    "ExecuteTime": {
     "end_time": "2020-06-19T06:38:16.054269Z",
     "start_time": "2020-06-19T06:38:15.986947Z"
    }
   },
   "outputs": [
    {
     "name": "stdout",
     "output_type": "stream",
     "text": [
      "#bin\tchrom\tchromStart\tname\n",
      "1\tchr1\t16775073\trs72059099\n",
      "1\tchr1\t16775613\trs71260122\n",
      "1\tchr1\t16776311\trs72496645\n",
      "2\tchr1\t100658226\trs71808286\n",
      "14\tchr1\t45080556\trs71711725\n",
      "26\tchr1\t149940941\trs71775793\n",
      "30\tchr1\t177209325\trs71794609\n",
      "33\tchr1\t202372482\trs72451924\n",
      "35\tchr1\t220190850\trs72487224\n",
      "SNP\tRS\n",
      "1:16775073\trs72059099\n",
      "1:16775613\trs71260122\n",
      "1:16776311\trs72496645\n",
      "1:100658226\trs71808286\n",
      "1:45080556\trs71711725\n",
      "1:149940941\trs71775793\n",
      "1:177209325\trs71794609\n",
      "1:202372482\trs72451924\n",
      "1:220190850\trs72487224\n"
     ]
    }
   ],
   "source": [
    "%%bash\n",
    "head /mnt/Almacen6/Adapted/protocol/ref_files/UCSC.b36.rs.txt\n",
    "sed 's/chr//g' /mnt/Almacen6/Adapted/protocol/ref_files/UCSC.b36.rs.txt | awk 'BEGIN{OFS=\"\\t\";print \"SNP\",\"RS\"};{OFS=\"\\t\"; if (NR>1) print $2\":\"$3,$4}' > /mnt/Almacen6/Adapted/protocol/ref_files/UCSC.b36.temp\n",
    "head /mnt/Almacen6/Adapted/protocol/ref_files/UCSC.b36.temp\n",
    "mv /mnt/Almacen6/Adapted/protocol/ref_files/UCSC.b36.temp > /mnt/Almacen6/Adapted/protocol/ref_files/UCSC.b36.rs.txt"
   ]
  },
  {
   "cell_type": "code",
   "execution_count": 24,
   "metadata": {
    "ExecuteTime": {
     "end_time": "2020-06-19T06:40:05.533487Z",
     "start_time": "2020-06-19T06:40:05.466933Z"
    }
   },
   "outputs": [
    {
     "name": "stdout",
     "output_type": "stream",
     "text": [
      "chr1\t177\t178\t1:10177\n",
      "chr1\t352\t353\t1:10352\n",
      "chr1\t871\t872\t1:11008\n",
      "chr1\t875\t876\t1:11012\n",
      "chr1\t2973\t2974\t1:13110\n",
      "chr1\t2979\t2980\t1:13116\n",
      "chr1\t2981\t2982\t1:13118\n",
      "chr1\t3136\t3137\t1:13273\n",
      "chr1\t4327\t4328\t1:14464\n",
      "chr1\t4462\t4463\t1:14599\n"
     ]
    }
   ],
   "source": [
    "%%bash\n",
    "head $Path/hglft_genome.bed"
   ]
  },
  {
   "cell_type": "code",
   "execution_count": 25,
   "metadata": {
    "ExecuteTime": {
     "end_time": "2020-06-19T06:40:30.003418Z",
     "start_time": "2020-06-19T06:40:16.179639Z"
    }
   },
   "outputs": [],
   "source": [
    "%%bash\n",
    "awk '{OFS=\"\\t\"; print $4,$1}' $Path/hglft_genome.bed | sed 's/chrX/chr23/g' | sed 's/chrY/chr24/g' | sed 's/chrM/chr26/g'| sed 's/chr//g'  > $Path/update_chr.txt\n",
    "awk '{OFS=\"\\t\"; print $4,$2}' $Path/hglft_genome.bed > $Path/update_bp.txt\n",
    "awk '{OFS=\"\\t\"; print $4,$1\":\"$2}' $Path/hglft_genome.bed | sed 's/chr//g' > $Path/update_name.txt\n",
    "awk '{OFS=\"\"; print $1,\":\",$2}' $Path/hglft_genome.bed  | sed 's/chr//g' > $Path/UCSC_b36.txt\n",
    "# fgrep -wf /mnt/Almacen6/Adapted/protocol/ref_files/UCSC.b36.rs.txt > $Path/UCSC_b37_rs.txt\n"
   ]
  },
  {
   "cell_type": "code",
   "execution_count": 28,
   "metadata": {
    "ExecuteTime": {
     "end_time": "2020-06-19T06:41:59.904221Z",
     "start_time": "2020-06-19T06:41:59.887692Z"
    }
   },
   "outputs": [
    {
     "name": "stdout",
     "output_type": "stream",
     "text": [
      "1:10177\t1:177\n",
      "1:10352\t1:352\n",
      "1:11008\t1:871\n",
      "1:11012\t1:875\n",
      "1:13110\t1:2973\n",
      "1:13116\t1:2979\n",
      "1:13118\t1:2981\n",
      "1:13273\t1:3136\n",
      "1:14464\t1:4327\n",
      "1:14599\t1:4462\n"
     ]
    }
   ],
   "source": [
    "%%bash\n",
    "head $Path/update_name.txt"
   ]
  },
  {
   "cell_type": "code",
   "execution_count": 26,
   "metadata": {
    "ExecuteTime": {
     "end_time": "2020-06-19T06:40:34.200272Z",
     "start_time": "2020-06-19T06:40:34.019290Z"
    }
   },
   "outputs": [
    {
     "name": "stdout",
     "output_type": "stream",
     "text": [
      "1:2499283\n",
      "1:5435388\n",
      "1:5436036\n",
      "1:5437120\n",
      "1:5437257\n",
      "1:5437512\n",
      "1:5437521\n",
      "1:5438738\n",
      "1:5439068\n",
      "1:5439069\n",
      "  9891   9891 107260 /mnt/Almacen6/Adapted/protocol/1K_Genome/Phase3_v5_reduced/rs_to_exclude\n"
     ]
    }
   ],
   "source": [
    "%%bash\n",
    "awk '{OFS=\"\\t\"; print $4}' $Path/unmapped.bed | sed '/^$/d' > $Path/rs_to_exclude\n",
    "head $Path/rs_to_exclude\n",
    "wc $Path/rs_to_exclude"
   ]
  },
  {
   "cell_type": "code",
   "execution_count": 30,
   "metadata": {
    "ExecuteTime": {
     "end_time": "2020-06-19T06:43:59.280537Z",
     "start_time": "2020-06-19T06:42:55.437904Z"
    },
    "scrolled": true
   },
   "outputs": [
    {
     "name": "stdout",
     "output_type": "stream",
     "text": [
      "PLINK v1.90b6.17 64-bit (28 Apr 2020)          www.cog-genomics.org/plink/1.9/\n",
      "(C) 2005-2020 Shaun Purcell, Christopher Chang   GNU General Public License v3\n",
      "Logging to /mnt/Almacen6/Adapted/protocol/1K_Genome/Phase3_v5_reduced/temp1.log.\n",
      "Options in effect:\n",
      "  --allow-extra-chr\n",
      "  --bfile /mnt/Almacen6/Adapted/protocol/1K_Genome/Phase3_v5_reduced/mydataset.b37\n",
      "  --exclude /mnt/Almacen6/Adapted/protocol/1K_Genome/Phase3_v5_reduced/rs_to_exclude\n",
      "  --make-bed\n",
      "  --out /mnt/Almacen6/Adapted/protocol/1K_Genome/Phase3_v5_reduced/temp1\n",
      "  --update-chr /mnt/Almacen6/Adapted/protocol/1K_Genome/Phase3_v5_reduced/update_chr.txt\n",
      "  --zero-cms\n",
      "\n",
      "257718 MB RAM detected; reserving 128859 MB for main workspace.\n",
      "Allocated 96644 MB successfully, after larger attempt(s) failed.\n",
      "10061649 variants loaded from .bim file.\n",
      "504 people (241 males, 263 females) loaded from .fam.\n",
      "--exclude: 10051758 variants remaining.\n",
      "Using 1 thread (no multithreaded calculations invoked).\n",
      "Before main variant filters, 504 founders and 0 nonfounders present.\n",
      "Calculating allele frequencies... 10111213141516171819202122232425262728293031323334353637383940414243444546474849505152535455565758596061626364656667686970717273747576777879808182838485868788899091929394959697989 done.\n",
      "Total genotyping rate is 0.998925.\n",
      "10051758 variants and 504 people pass filters and QC.\n",
      "Note: No phenotypes present.\n",
      "--update-chr: 10051758 values updated.\n",
      "--make-bed to\n",
      "/mnt/Almacen6/Adapted/protocol/1K_Genome/Phase3_v5_reduced/temp1.bed +\n",
      "/mnt/Almacen6/Adapted/protocol/1K_Genome/Phase3_v5_reduced/temp1.bim +\n",
      "/mnt/Almacen6/Adapted/protocol/1K_Genome/Phase3_v5_reduced/temp1.fam ... 10101111121213131414151516161717181819192020212122222323242425252626272728282929303031313232333334343535363637373838393940404141424243434444454546464747484849505051515252535354545555565657575858595960606161626263636464656566666767686869697070717172727373747475757676777778787979808081818282838384848585868687878888898990909191929293939494959596969797989899done.\n",
      "PLINK v1.90b6.17 64-bit (28 Apr 2020)          www.cog-genomics.org/plink/1.9/\n",
      "(C) 2005-2020 Shaun Purcell, Christopher Chang   GNU General Public License v3\n",
      "Logging to /mnt/Almacen6/Adapted/protocol/1K_Genome/Phase3_v5_reduced/temp2.log.\n",
      "Options in effect:\n",
      "  --allow-extra-chr\n",
      "  --bfile /mnt/Almacen6/Adapted/protocol/1K_Genome/Phase3_v5_reduced/temp1\n",
      "  --make-bed\n",
      "  --out /mnt/Almacen6/Adapted/protocol/1K_Genome/Phase3_v5_reduced/temp2\n",
      "  --update-map /mnt/Almacen6/Adapted/protocol/1K_Genome/Phase3_v5_reduced/update_bp.txt\n",
      "\n",
      "257718 MB RAM detected; reserving 128859 MB for main workspace.\n",
      "Allocated 96644 MB successfully, after larger attempt(s) failed.\n",
      "10051758 variants loaded from .bim file.\n",
      "504 people (241 males, 263 females) loaded from .fam.\n",
      "--update-map: 10051758 values updated.\n",
      "Using 1 thread (no multithreaded calculations invoked).\n",
      "Before main variant filters, 504 founders and 0 nonfounders present.\n",
      "Calculating allele frequencies... 10111213141516171819202122232425262728293031323334353637383940414243444546474849505152535455565758596061626364656667686970717273747576777879808182838485868788899091929394959697989 done.\n",
      "Total genotyping rate is 0.998925.\n",
      "10051758 variants and 504 people pass filters and QC.\n",
      "Note: No phenotypes present.\n",
      "--make-bed to\n",
      "/mnt/Almacen6/Adapted/protocol/1K_Genome/Phase3_v5_reduced/temp2.bed +\n",
      "/mnt/Almacen6/Adapted/protocol/1K_Genome/Phase3_v5_reduced/temp2.bim +\n",
      "/mnt/Almacen6/Adapted/protocol/1K_Genome/Phase3_v5_reduced/temp2.fam ... 10101111121213131414151516161717181819192020212122222323242425252626272728282929303031313232333334343535363637373838393940404141424243434444454546464747484849505051515252535354545555565657575858595960606161626263636464656566666767686869697070717172727373747475757676777778787979808081818282838384848585868687878888898990909191929293939494959596969797989899done.\n",
      "PLINK v1.90b6.17 64-bit (28 Apr 2020)          www.cog-genomics.org/plink/1.9/\n",
      "(C) 2005-2020 Shaun Purcell, Christopher Chang   GNU General Public License v3\n",
      "Logging to /mnt/Almacen6/Adapted/protocol/1K_Genome/Phase3_v5_reduced/temp3.log.\n",
      "Options in effect:\n",
      "  --allow-extra-chr\n",
      "  --bfile /mnt/Almacen6/Adapted/protocol/1K_Genome/Phase3_v5_reduced/temp2\n",
      "  --chr 1-26\n",
      "  --make-bed\n",
      "  --out /mnt/Almacen6/Adapted/protocol/1K_Genome/Phase3_v5_reduced/temp3\n",
      "  --update-name /mnt/Almacen6/Adapted/protocol/1K_Genome/Phase3_v5_reduced/update_name.txt\n",
      "\n",
      "257718 MB RAM detected; reserving 128859 MB for main workspace.\n",
      "Allocated 96644 MB successfully, after larger attempt(s) failed.\n",
      "10048906 out of 10051758 variants loaded from .bim file.\n",
      "504 people (241 males, 263 females) loaded from .fam.\n",
      "--update-name: 10048906 values updated, 2852 variant IDs not present.\n",
      "Using 1 thread (no multithreaded calculations invoked).\n",
      "Before main variant filters, 504 founders and 0 nonfounders present.\n",
      "Calculating allele frequencies... 10111213141516171819202122232425262728293031323334353637383940414243444546474849505152535455565758596061626364656667686970717273747576777879808182838485868788899091929394959697989 done.\n",
      "Total genotyping rate is 0.998926.\n",
      "10048906 variants and 504 people pass filters and QC.\n",
      "Note: No phenotypes present.\n",
      "--make-bed to\n",
      "/mnt/Almacen6/Adapted/protocol/1K_Genome/Phase3_v5_reduced/temp3.bed +\n",
      "/mnt/Almacen6/Adapted/protocol/1K_Genome/Phase3_v5_reduced/temp3.bim +\n",
      "/mnt/Almacen6/Adapted/protocol/1K_Genome/Phase3_v5_reduced/temp3.fam ... 101112131415161718192021222324252627282930313233343536373839404142434445464748495051525354555657585960616263646566676869707172737475767778798081828384858687888990919293949596979899done.\n"
     ]
    },
    {
     "name": "stderr",
     "output_type": "stream",
     "text": [
      "Warning: 1181875 het. haploid genotypes present (see\n",
      "/mnt/Almacen6/Adapted/protocol/1K_Genome/Phase3_v5_reduced/temp1.hh ); many\n",
      "commands treat these as missing.\n",
      "Warning: Base-pair positions are now unsorted!\n",
      "Warning: 1183716 het. haploid genotypes present (see\n",
      "/mnt/Almacen6/Adapted/protocol/1K_Genome/Phase3_v5_reduced/temp2.hh ); many\n",
      "commands treat these as missing.\n",
      "Warning: Nonmissing nonmale Y chromosome genotype(s) present; many commands\n",
      "treat these as missing.\n",
      "Warning: 1183716 het. haploid genotypes present (see\n",
      "/mnt/Almacen6/Adapted/protocol/1K_Genome/Phase3_v5_reduced/temp3.hh ); many\n",
      "commands treat these as missing.\n",
      "Warning: Nonmissing nonmale Y chromosome genotype(s) present; many commands\n",
      "treat these as missing.\n"
     ]
    }
   ],
   "source": [
    "%%bash\n",
    "# Find plink logs in the Jupyter File view in this working directory\n",
    "/mnt/Almacen6/Adapted/Tools/Plink/plink --bfile $Path/mydataset.b37 --exclude $Path/rs_to_exclude --update-chr $Path/update_chr.txt --allow-extra-chr --make-bed --zero-cms --out $Path/temp1\n",
    "/mnt/Almacen6/Adapted/Tools/Plink/plink --bfile $Path/temp1 --update-map $Path/update_bp.txt --allow-extra-chr  --make-bed --out $Path/temp2\n",
    "/mnt/Almacen6/Adapted/Tools/Plink/plink --bfile $Path/temp2 --update-name $Path/update_name.txt --allow-extra-chr --chr 1-26 --make-bed --out $Path/temp3"
   ]
  },
  {
   "cell_type": "code",
   "execution_count": 33,
   "metadata": {
    "ExecuteTime": {
     "end_time": "2020-06-19T06:52:23.092146Z",
     "start_time": "2020-06-19T06:52:17.167561Z"
    },
    "scrolled": true
   },
   "outputs": [
    {
     "name": "stdout",
     "output_type": "stream",
     "text": [
      "1\t1:107\t0\t107\tT\tTA\n",
      "1\t1:177\t0\t177\tAC\tA\n",
      "1\t1:350\t0\t350\tT\tA\n",
      "1\t1:352\t0\t352\tTA\tT\n",
      "1\t1:352\t0\t352\tGT\tG\n",
      "1\t1:352\t0\t352\tGT\tG\n",
      "1\t1:352\t0\t352\tGT\tG\n",
      "1\t1:355\t0\t355\tG\tA\n",
      "1\t1:462\t0\t462\tGT\tG\n",
      "1\t1:871\t0\t871\tG\tC\n",
      " 10048906  60293436 297555288 /mnt/Almacen6/Adapted/protocol/1K_Genome/Phase3_v5_reduced/temp3.bim\n",
      "1\t1:10177\t0\t10177\tAC\tA\n",
      "1\t1:10352\t0\t10352\tTA\tT\n",
      "1\t1:11008\t0\t11008\tG\tC\n",
      "1\t1:11012\t0\t11012\tG\tC\n",
      "1\t1:13110\t0\t13110\tA\tG\n",
      "1\t1:13116\t0\t13116\tG\tT\n",
      "1\t1:13118\t0\t13118\tG\tA\n",
      "1\t1:13273\t0\t13273\tC\tG\n",
      "1\t1:14464\t0\t14464\tT\tA\n",
      "1\t1:14599\t0\t14599\tA\tT\n",
      " 10061649  60369894 298312818 /mnt/Almacen6/Adapted/protocol/1K_Genome/Phase3_v5_reduced/mydataset.b37.bim\n"
     ]
    }
   ],
   "source": [
    "%%bash\n",
    "head $Path/temp3.bim\n",
    "wc $Path/temp3.bim\n",
    "head $Path/mydataset.b37.bim\n",
    "wc $Path/mydataset.b37.bim"
   ]
  },
  {
   "cell_type": "code",
   "execution_count": 35,
   "metadata": {
    "ExecuteTime": {
     "end_time": "2020-06-19T06:55:29.429531Z",
     "start_time": "2020-06-19T06:55:09.240039Z"
    }
   },
   "outputs": [],
   "source": [
    "%%bash\n",
    "#  Remove SNP duplicates\n",
    "sed 's/ /\\t/g' $Path/temp3.bim  | awk '{print $2}' | sort | uniq -c| awk '{if($1>1) print $2}'> $Path/remove_duplicates.txt"
   ]
  },
  {
   "cell_type": "code",
   "execution_count": 37,
   "metadata": {
    "ExecuteTime": {
     "end_time": "2020-06-19T06:56:00.452158Z",
     "start_time": "2020-06-19T06:55:45.680617Z"
    }
   },
   "outputs": [
    {
     "name": "stdout",
     "output_type": "stream",
     "text": [
      "PLINK v1.90b6.17 64-bit (28 Apr 2020)          www.cog-genomics.org/plink/1.9/\n",
      "(C) 2005-2020 Shaun Purcell, Christopher Chang   GNU General Public License v3\n",
      "Logging to /mnt/Almacen6/Adapted/protocol/1K_Genome/Phase3_v5_reduced/temp4.log.\n",
      "Options in effect:\n",
      "  --bfile /mnt/Almacen6/Adapted/protocol/1K_Genome/Phase3_v5_reduced/temp3\n",
      "  --exclude /mnt/Almacen6/Adapted/protocol/1K_Genome/Phase3_v5_reduced/remove_duplicates.txt\n",
      "  --make-bed\n",
      "  --out /mnt/Almacen6/Adapted/protocol/1K_Genome/Phase3_v5_reduced/temp4\n",
      "\n",
      "257718 MB RAM detected; reserving 128859 MB for main workspace.\n",
      "Allocated 96644 MB successfully, after larger attempt(s) failed.\n",
      "10048906 variants loaded from .bim file.\n",
      "504 people (241 males, 263 females) loaded from .fam.\n",
      "--exclude: 10048790 variants remaining.\n",
      "Using 1 thread (no multithreaded calculations invoked).\n",
      "Before main variant filters, 504 founders and 0 nonfounders present.\n",
      "Calculating allele frequencies... 10111213141516171819202122232425262728293031323334353637383940414243444546474849505152535455565758596061626364656667686970717273747576777879808182838485868788899091929394959697989 done.\n",
      "Total genotyping rate is 0.998926.\n",
      "10048790 variants and 504 people pass filters and QC.\n",
      "Note: No phenotypes present.\n",
      "--make-bed to\n",
      "/mnt/Almacen6/Adapted/protocol/1K_Genome/Phase3_v5_reduced/temp4.bed +\n",
      "/mnt/Almacen6/Adapted/protocol/1K_Genome/Phase3_v5_reduced/temp4.bim +\n",
      "/mnt/Almacen6/Adapted/protocol/1K_Genome/Phase3_v5_reduced/temp4.fam ... 101112131415161718192021222324252627282930313233343536373839404142434445464748495051525354555657585960616263646566676869707172737475767778798081828384858687888990919293949596979899done.\n"
     ]
    },
    {
     "name": "stderr",
     "output_type": "stream",
     "text": [
      "Warning: 1183651 het. haploid genotypes present (see\n",
      "/mnt/Almacen6/Adapted/protocol/1K_Genome/Phase3_v5_reduced/temp4.hh ); many\n",
      "commands treat these as missing.\n",
      "Warning: Nonmissing nonmale Y chromosome genotype(s) present; many commands\n",
      "treat these as missing.\n"
     ]
    }
   ],
   "source": [
    "%%bash\n",
    "/mnt/Almacen6/Adapted/Tools/Plink/plink --bfile $Path/temp3 --exclude $Path/remove_duplicates.txt --make-bed --out $Path/temp4"
   ]
  },
  {
   "cell_type": "markdown",
   "metadata": {},
   "source": [
    "**Create the dataset in build 36 also in order to demonstrate in another notebook how to change builds.**"
   ]
  },
  {
   "cell_type": "code",
   "execution_count": 38,
   "metadata": {
    "ExecuteTime": {
     "end_time": "2020-06-19T06:56:17.354075Z",
     "start_time": "2020-06-19T06:56:00.455389Z"
    }
   },
   "outputs": [
    {
     "name": "stdout",
     "output_type": "stream",
     "text": [
      "PLINK v1.90b6.17 64-bit (28 Apr 2020)          www.cog-genomics.org/plink/1.9/\n",
      "(C) 2005-2020 Shaun Purcell, Christopher Chang   GNU General Public License v3\n",
      "Logging to /mnt/Almacen6/Adapted/jupyterAnalisis_others/Genomic_pipeline/dataset.b36.log.\n",
      "Options in effect:\n",
      "  --bfile /mnt/Almacen6/Adapted/protocol/1K_Genome/Phase3_v5_reduced/temp4\n",
      "  --make-bed\n",
      "  --out /mnt/Almacen6/Adapted/jupyterAnalisis_others/Genomic_pipeline/dataset.b36\n",
      "  --update-name /mnt/Almacen6/Adapted/protocol/ref_files/UCSC.b36.rs.txt\n",
      "\n",
      "257718 MB RAM detected; reserving 128859 MB for main workspace.\n",
      "Allocated 96644 MB successfully, after larger attempt(s) failed.\n",
      "10048790 variants loaded from .bim file.\n",
      "504 people (241 males, 263 females) loaded from .fam.\n",
      "--update-name: 0 values updated, 55617 variant IDs not present.\n",
      "Using 1 thread (no multithreaded calculations invoked).\n",
      "Before main variant filters, 504 founders and 0 nonfounders present.\n",
      "Calculating allele frequencies... 10111213141516171819202122232425262728293031323334353637383940414243444546474849505152535455565758596061626364656667686970717273747576777879808182838485868788899091929394959697989 done.\n",
      "Total genotyping rate is 0.998926.\n",
      "10048790 variants and 504 people pass filters and QC.\n",
      "Note: No phenotypes present.\n",
      "--make-bed to\n",
      "/mnt/Almacen6/Adapted/jupyterAnalisis_others/Genomic_pipeline/dataset.b36.bed +\n",
      "/mnt/Almacen6/Adapted/jupyterAnalisis_others/Genomic_pipeline/dataset.b36.bim +\n",
      "/mnt/Almacen6/Adapted/jupyterAnalisis_others/Genomic_pipeline/dataset.b36.fam\n",
      "... 101112131415161718192021222324252627282930313233343536373839404142434445464748495051525354555657585960616263646566676869707172737475767778798081828384858687888990919293949596979899done.\n"
     ]
    },
    {
     "name": "stderr",
     "output_type": "stream",
     "text": [
      "Warning: 1183651 het. haploid genotypes present (see\n",
      "/mnt/Almacen6/Adapted/jupyterAnalisis_others/Genomic_pipeline/dataset.b36.hh );\n",
      "many commands treat these as missing.\n",
      "Warning: Nonmissing nonmale Y chromosome genotype(s) present; many commands\n",
      "treat these as missing.\n"
     ]
    }
   ],
   "source": [
    "%%bash\n",
    "/mnt/Almacen6/Adapted/Tools/Plink/plink --bfile $Path/temp4 --update-name /mnt/Almacen6/Adapted/protocol/ref_files/UCSC.b36.rs.txt --make-bed --out /mnt/Almacen6/Adapted/jupyterAnalisis_others/Genomic_pipeline/dataset.b36\n",
    "rm $Path/temp*"
   ]
  },
  {
   "cell_type": "code",
   "execution_count": null,
   "metadata": {},
   "outputs": [],
   "source": []
  }
 ],
 "metadata": {
  "kernelspec": {
   "display_name": "Python 3",
   "language": "python",
   "name": "python3"
  },
  "language_info": {
   "codemirror_mode": {
    "name": "ipython",
    "version": 3
   },
   "file_extension": ".py",
   "mimetype": "text/x-python",
   "name": "python",
   "nbconvert_exporter": "python",
   "pygments_lexer": "ipython3",
   "version": "3.5.2"
  },
  "toc": {
   "base_numbering": 1,
   "nav_menu": {},
   "number_sections": true,
   "sideBar": true,
   "skip_h1_title": false,
   "title_cell": "Table of Contents",
   "title_sidebar": "Contents",
   "toc_cell": false,
   "toc_position": {},
   "toc_section_display": true,
   "toc_window_display": false
  }
 },
 "nbformat": 4,
 "nbformat_minor": 4
}
