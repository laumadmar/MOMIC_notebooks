{
 "cells": [
  {
   "cell_type": "markdown",
   "metadata": {},
   "source": [
    "# Task 6 Gene-wise statistics (MAGMA)\n",
    "\n",
    "In gene analysis, genetic marker data is aggregated to the level of whole genes, testing the joint association of all markers in the gene with the phenotype. Similarly, in gene-set analysis individual genes are aggregated to groups of genes sharing certain biological, functional or other characteristics.\n",
    "\n",
    "This is done using MAGMA[1]. The gene-set analysis is divided into two distinct and largely independent parts. In the first part a gene analysis is performed to quantify the degree of association each gene has with the phenotype. In addition the correlations between genes are estimated. These correlations reflect the LD between genes, and are needed in order to compensate for the dependencies between genes during the gene-set analysis. The gene p-values and gene correlation matrix are then used in the second part to perform the actual gene-set analysis.\n",
    "\n",
    "\n",
    "[1] de Leeuw CA, Mooij JM, Heskes T, Posthuma D. MAGMA: generalized gene-set analysis of GWAS data. PLoS computational biology. https://www.ncbi.nlm.nih.gov/pmc/articles/PMC4401657/. Published April 17, 2015. Accessed August 18, 2020."
   ]
  },
  {
   "cell_type": "code",
   "execution_count": 2,
   "metadata": {
    "ExecuteTime": {
     "end_time": "2020-08-18T14:11:34.262741Z",
     "start_time": "2020-08-18T14:11:34.259937Z"
    }
   },
   "outputs": [
    {
     "name": "stdout",
     "output_type": "stream",
     "text": [
      "The rpy2.ipython extension is already loaded. To reload it, use:\n",
      "  %reload_ext rpy2.ipython\n"
     ]
    }
   ],
   "source": [
    "%load_ext rpy2.ipython"
   ]
  },
  {
   "cell_type": "code",
   "execution_count": null,
   "metadata": {},
   "outputs": [],
   "source": [
    "%env path=/mnt/data/GWAS/output/task6_genewise\n",
    "%env task3path= /mnt/data/GWAS/output/task3_imputation/imputed_files"
   ]
  },
  {
   "cell_type": "markdown",
   "metadata": {},
   "source": [
    "**Filter out low frequency SNPs (MAF<0.01) for MAGMA**"
   ]
  },
  {
   "cell_type": "code",
   "execution_count": 50,
   "metadata": {
    "ExecuteTime": {
     "end_time": "2019-11-11T16:58:43.422025Z",
     "start_time": "2019-11-11T16:58:35.319572Z"
    }
   },
   "outputs": [],
   "source": [
    "%%bash\n",
    "awk '{OFS=\"\\t\"; if($6>0.01 && $6<0.99) print $0}' | sed 's/ /\\t/g' $task3path/dataset.b37.imputed.assoc.dosage.clean.rs.200kb.annot > $path/dataset.b37.imputed.assoc.dosage.clean.rs.200kb.annot.maf.0.01\n",
    "wc $path/dataset.b37.imputed.assoc.dosage.clean.rs.200kb.annot.maf.0.01\n"
   ]
  },
  {
   "cell_type": "code",
   "execution_count": 53,
   "metadata": {
    "ExecuteTime": {
     "end_time": "2019-11-11T17:01:19.824608Z",
     "start_time": "2019-11-11T17:01:11.944437Z"
    }
   },
   "outputs": [
    {
     "name": "stdout",
     "output_type": "stream",
     "text": [
      "   7813810   93765720 1061436709 /mnt/Almacen6/Adapted/jupyterAnalisis_others/Genomic_pipeline/outputs/Imputed_files/dataset.b37.imputed.dosage.full.assoc.dosage.clean.rs.200kb.annotated.annot.maf.0.01\n",
      "   7813810   93765720 1061436709 /mnt/Almacen6/Adapted/jupyterAnalisis_others/Genomic_pipeline/outputs/Imputed_files/dataset.b37.imputed.dosage.full.assoc.dosage.clean.rs.200kb.annotated.annot\n"
     ]
    }
   ],
   "source": [
    "%%bash\n",
    "wc $path/dataset.b37.imputed.assoc.dosage.clean.rs.200kb.annot.maf.0.01\n",
    "wc $task3path/dataset.b37.imputed.assoc.dosage.clean.rs.200kb.annot"
   ]
  },
  {
   "cell_type": "code",
   "execution_count": 73,
   "metadata": {
    "ExecuteTime": {
     "end_time": "2019-11-12T08:34:52.485999Z",
     "start_time": "2019-11-12T08:34:52.050973Z"
    }
   },
   "outputs": [
    {
     "name": "stdout",
     "output_type": "stream",
     "text": [
      "CHR\tBP\tSNP\tA1\tA2\tFRQ\tINFO\tOR\tSE\tP\tRS\tANNOT\n",
      "10\t100000625\t10:100000625:A:G\tA\tG\t0.44\t0.9621\t0.8031\t0.2456\t0.3718\trs7899632\tHPS1(-175.3kb)|LOXL4(-6.817kb)|MIR1287(-154.3kb)|MIR4685(-190.4kb)|PYROXD2(-142.7kb)|R3HCC1L(0)\n",
      "10\t100000645\t10:100000645:A:C\tA\tC\t0.2199\t0.8997\t0.9008\t0.2801\t0.709\trs61875309\tHPS1(-175.3kb)|LOXL4(-6.797kb)|MIR1287(-154.3kb)|MIR4685(-190.4kb)|PYROXD2(-142.7kb)|R3HCC1L(0)\n",
      "10\t100001867\t10:100001867:C:T\tC\tT\t0.0101\t0.894\t2.8564\t0.9312\t0.2597\trs150203744\tHPS1(-174.1kb)|LOXL4(-5.575kb)|MIR1287(-153.1kb)|MIR4685(-189.2kb)|PYROXD2(-141.5kb)|R3HCC1L(0)\n",
      "10\t100002464\t10:100002464:T:C\tT\tC\t0.0121\t0.9859\t0.1214\t1.2119\t0.08183\trs111551711\tHPS1(-173.5kb)|LOXL4(-4.978kb)|MIR1287(-152.5kb)|MIR4685(-188.6kb)|PYROXD2(-140.9kb)|R3HCC1L(0)\n",
      "10\t100003242\t10:100003242:T:G\tT\tG\t0.1317\t0.972\t1.7964\t0.3379\t0.08294\trs12258651\tHPS1(-172.7kb)|LOXL4(-4.2kb)|MIR1287(-151.7kb)|MIR4685(-187.8kb)|PYROXD2(-140.1kb)|R3HCC1L(0)\n",
      "10\t100003304\t10:100003304:A:G\tA\tG\t0.0341\t0.8722\t3.4588\t0.7188\t0.08427\trs72828461\tHPS1(-172.6kb)|LOXL4(-4.138kb)|MIR1287(-151.7kb)|MIR4685(-187.7kb)|PYROXD2(-140kb)|R3HCC1L(0)\n",
      "10\t100003785\t10:100003785:T:C\tT\tC\t0.3154\t0.9054\t1.3537\t0.2523\t0.23\trs1359508\tHPS1(-172.2kb)|LOXL4(-3.657kb)|MIR1287(-151.2kb)|MIR4685(-187.3kb)|PYROXD2(-139.5kb)|R3HCC1L(0)\n",
      "10\t100004360\t10:100004360:G:A\tG\tA\t0.2199\t0.8997\t0.9008\t0.2801\t0.7091\trs1048754\tHPS1(-171.6kb)|LOXL4(-3.082kb)|MIR1287(-150.6kb)|MIR4685(-186.7kb)|PYROXD2(-139kb)|R3HCC1L(0)\n",
      "10\t100004441\t10:100004441:G:C\tG\tC\t0.6599\t0.8675\t0.7306\t0.2537\t0.2161\trs1048757\tHPS1(-171.5kb)|LOXL4(-3.001kb)|MIR1287(-150.5kb)|MIR4685(-186.6kb)|PYROXD2(-138.9kb)|R3HCC1L(0)\n"
     ]
    }
   ],
   "source": [
    "%%bash\n",
    "head $path/dataset.b37.imputed.assoc.dosage.clean.rs.200kb.annot.maf.0.01"
   ]
  },
  {
   "cell_type": "code",
   "execution_count": 74,
   "metadata": {
    "ExecuteTime": {
     "end_time": "2019-11-12T08:35:12.485850Z",
     "start_time": "2019-11-12T08:35:04.280230Z"
    }
   },
   "outputs": [
    {
     "name": "stdout",
     "output_type": "stream",
     "text": [
      "SNP\tCHR\tBP\n",
      "rs7899632\t10\t100000625\n",
      "rs61875309\t10\t100000645\n",
      "SNP\tP\n",
      "rs7899632\t0.3718\n",
      "rs61875309\t0.709\n"
     ]
    }
   ],
   "source": [
    "%%bash\n",
    "# Generate  *.SNP.LOC (SNP, CHR,BP) and *.SNP.VAL files\n",
    "\n",
    "awk 'BEGIN{OFS=\"\\t\";print \"SNP\",\"CHR\",\"BP\"};{OFS=\"\\t\"; if(NR>1)  print $11,$1,$2}' $path/dataset.b37.imputed.assoc.dosage.clean.rs.200kb.annot.maf.0.01 > $path/dataset.b37.imputed.dosage.maf.0.01.SNP.LOC\n",
    "awk 'BEGIN{OFS=\"\\t\";print \"SNP\",\"P\"};{OFS=\"\\t\"; if(NR>1) print $11,$10}' $path/dataset.b37.imputed.assoc.dosage.clean.rs.200kb.annot.maf.0.01 | sed 's/e/E/g' > $path/dataset.b37.imputed.dosage.maf.0.01.SNP.PVAL\n",
    "\n",
    "head -3 $path/dataset.b37.imputed.dosage.maf.0.01.SNP.LOC \n",
    "head -3  $path/dataset.b37.imputed.dosage.maf.0.01.SNP.PVAL\n",
    "\n"
   ]
  },
  {
   "cell_type": "markdown",
   "metadata": {},
   "source": [
    "**de 200 kb pasa a 50kb - esta bien?**"
   ]
  },
  {
   "cell_type": "code",
   "execution_count": 75,
   "metadata": {
    "ExecuteTime": {
     "end_time": "2019-11-12T08:35:23.242731Z",
     "start_time": "2019-11-12T08:35:12.488848Z"
    },
    "scrolled": true
   },
   "outputs": [
    {
     "name": "stdout",
     "output_type": "stream",
     "text": [
      "Welcome to MAGMA v1.06 (linux)\n",
      "Using flags:\n",
      "\t--annotate window=50,50\n",
      "\t--snp-loc /mnt/Almacen6/Adapted/jupyterAnalisis_others/Genomic_pipeline/outputs/Imputed_files/dataset.b37.imputed.dosage.maf.0.01.SNP.LOC\n",
      "\t--gene-loc /mnt/Almacen6/Adapted/protocol/ref_files/NCBI37.3.gene.loc\n",
      "\t--out /mnt/Almacen6/Adapted/jupyterAnalisis_others/Genomic_pipeline/outputs/Imputed_files/dataset.b37.imputed.dosage.maf.0.01.LOC.50kb\n",
      "\n",
      "Start time is 08:35:12, Tuesday 12 Nov 2019\n",
      "\n",
      "Starting annotation...\n",
      "Reading gene locations from file /mnt/Almacen6/Adapted/protocol/ref_files/NCBI37.3.gene.loc... \n",
      "\tadding window: 50000bp\n",
      "\t19427 gene locations read from file\n",
      "\tchromosome  1: 2016 genes\n",
      "\tchromosome  2: 1226 genes\n",
      "\tchromosome  3: 1050 genes\n",
      "\tchromosome  4: 745 genes\n",
      "\tchromosome  5: 856 genes\n",
      "\tchromosome  6: 1016 genes\n",
      "\tchromosome  7: 906 genes\n",
      "\tchromosome  8: 669 genes\n",
      "\tchromosome  9: 775 genes\n",
      "\tchromosome 10: 723 genes\n",
      "\tchromosome 11: 1275 genes\n",
      "\tchromosome 12: 1009 genes\n",
      "\tchromosome 13: 320 genes\n",
      "\tchromosome 14: 595 genes\n",
      "\tchromosome 15: 586 genes\n",
      "\tchromosome 16: 817 genes\n",
      "\tchromosome 17: 1147 genes\n",
      "\tchromosome 18: 271 genes\n",
      "\tchromosome 19: 1389 genes\n",
      "\tchromosome 20: 527 genes\n",
      "\tchromosome 21: 215 genes\n",
      "\tchromosome 22: 442 genes\n",
      "\tchromosome  X: 805 genes\n",
      "\tchromosome  Y: 47 genes\n",
      "Reading SNP locations from file /mnt/Almacen6/Adapted/jupyterAnalisis_others/Genomic_pipeline/outputs/Imputed_files/dataset.b37.imputed.dosage.maf.0.01.SNP.LOC... \n",
      "\tWARNING: on line 1, chromosome code 'CHR' not recognised; skipping SNP (ID = SNP)\n",
      "\t7813809 SNP locations read from file                                                            \n",
      "\tof those, 4881069 (62.47%) mapped to at least one gene\n",
      "Writing annotation to file /mnt/Almacen6/Adapted/jupyterAnalisis_others/Genomic_pipeline/outputs/Imputed_files/dataset.b37.imputed.dosage.maf.0.01.LOC.50kb.genes.annot\n",
      "\tfor chromosome  1, 13 genes are empty (out of 2016)\n",
      "\tfor chromosome  2, 2 genes are empty (out of 1226)\n",
      "\tfor chromosome  4, 2 genes are empty (out of 745)\n",
      "\tfor chromosome  5, 2 genes are empty (out of 856)\n",
      "\tfor chromosome  9, 20 genes are empty (out of 775)\n",
      "\tfor chromosome 10, 1 gene is empty (out of 723)\n",
      "\tfor chromosome 14, 2 genes are empty (out of 595)\n",
      "\tfor chromosome 15, 2 genes are empty (out of 586)\n",
      "\tfor chromosome 16, 2 genes are empty (out of 817)\n",
      "\tfor chromosome 21, 1 gene is empty (out of 215)\n",
      "\tfor chromosome  X, 805 genes are empty (out of 805)\n",
      "\tfor chromosome  Y, 47 genes are empty (out of 47)\n",
      "\tat least one SNP mapped to each of a total of 18528 genes (out of 19427)\n",
      "\n",
      "\n",
      "End time is 08:35:23, Tuesday 12 Nov 2019 (elapsed: 00:00:11)\n",
      "# window_up = 50000\n",
      "# window_down = 50000\n",
      "148398\t1:809993:929961\trs28410559\trs58686784\trs114224245\trs4970340\trs6605064\trs74461805\trs143695105\trs35660652\trs7538305\trs34232102\trs149168804\trs55745762\trs28444699\trs4970385\trs9697642\trs9697380\trs4500250\trs9697294\trs4553118\trs28765502\trs13303211\trs28752186\trs28594623\trs28484835\trs28593608\trs28482280\trs28385272\trs143031236\trs4411088\trs116452738\trs4411087\trs4422949\trs7518581\trs28570054\trs72631887\trs77180534\trs4422948\trs28731045\trs74460547\trs28705752\trs72890788\trs57494724\trs72631888\trs149737509\trs4970384\trs4970383\trs28678693\trs28477624\trs28437697\trs28539852\trs7523690\trs28562941\trs78238606\trs113341842\trs115928763\trs114543760\trs4970382\trs1574243\trs7419119\trs28540380\trs11516185\trs61769713\trs7366404\trs117086422\trs57760052\trs28612348\trs4970334\trs58781670\trs60454217\trs4970333\trs79396034\trs4475691\trs950122\trs3905286\trs28407778\trs4246505\trs4246504\trs4626817\trs11507767\trs143735118\trs3829741\trs13303222\trs28723578\trs28622257\trs6664536\trs6679046\trs150405211\trs6657440\trs28609852\trs28552953\trs72631889\trs4970465\trs4970463\trs28436996\trs7518702\trs116447845\trs28605311\trs4970462\trs13303369\trs4970461\trs4970380\trs3748591\trs1806509\trs7537756\trs72902552\trs13303019\trs13303057\trs6673914\trs143596056\trs61769717\trs28534711\trs28742275\trs7414599\trs4040605\trs147866846\trs28409649\trs4970460\trs4970459\trs7418179\trs61464428\trs60837925\trs2879816\trs192998324\trs3892970\trs79585663\trs147534364\trs35485427\trs35599603\trs35854196\trs1806501\trs55678698\trs2340587\trs75551395\trs2880024\trs74047407\trs76964081\trs148132814\trs2001729\trs28546443\trs141958931\trs184313849\trs28576697\trs76294260\trs77579483\trs4072383\trs1806780\trs76723341\trs1110051\trs1110052\trs75790500\trs4970379\trs145881258\trs71628924\trs114982608\trs142558220\trs148327885\trs191952374\trs554151824\trs7523549\trs149880798\trs143853699\trs3748593\trs2272757\trs35471880\trs2272756\trs111463901\trs149281644\trs61769752\trs4970455\trs67274836\trs114631528\trs182740910\trs3748594\trs77573237\trs10465242\trs76456117\trs41285800\trs3828049\trs13303206\trs13303051\trs148363371\trs28631199\trs6661531\trs13302957\trs13303065\trs13303106\trs41285802\trs4970445\trs115438739\trs13303010\trs13303327\trs113034360\trs144174542\trs4970441\trs7549631\trs6696971\trs6605071\trs41285808\trs114635344\trs4970435\trs28705211\trs188543688\trs3935066\trs13303351\trs13303160\trs13302996\trs2879815\trs186208904\trs116147894\trs62639981\trs77359280\trs7524174\trs6696281\trs28690976\trs6669800\trs6696609\trs193194073\trs7555426\trs28507236\trs79890672\trs28542142\trs28504611\trs28687780\trs3892467\trs62639985\trs3829740\trs3829739\trs3829738\trs28548431\trs28477686\trs28536514\trs6685581\trs28561399\trs74424855\trs4970429\trs2340592\trs3748588\trs7417106\trs74045046\trs7367995\trs540371076\trs74045047\trs2340596\trs2340595\trs13302979\trs145616017\trs34903276\trs13303368\trs13302983\trs13303033\trs13303355\trs6660139\trs28566954\trs56028034\trs6694632\trs6605058\trs7547878\trs28434575\trs41285816\trs28552711\trs6659460\trs13303118\trs2341354\trs4970418\trs28469033\trs6605059\trs61606412\trs4970414\trs116781904\trs61770779\trs28896913\trs28869591\trs6677020\trs6677131\trs55692389\trs78164078\trs6662128\trs6703008\trs13303278\trs6693747\trs150074085\trs114583033\trs6605060\trs183861325\trs9442609\trs9442610\trs28447224\trs35562283\trs34712273\trs28422907\trs28622096\trs6665000\trs6605061\trs6671243\trs4970403\trs4970351\trs140144962\trs2341362\trs6665587\trs201766573\trs79271194\trs111754459\trs35002855\trs28394749\trs9777703\trs9777939\trs13302924\trs138560419\trs144071868\n"
     ]
    }
   ],
   "source": [
    "%%bash\n",
    "# Annotate\n",
    "/usr/lib/magma/magma --annotate window=50,50 --snp-loc $path/dataset.b37.imputed.dosage.maf.0.01.SNP.LOC --gene-loc /mnt/Almacen6/Adapted/protocol/ref_files/NCBI37.3.gene.loc --out $path/dataset.b37.imputed.dosage.maf.0.01.LOC.50kb\n",
    "head -3 $path/dataset.b37.imputed.dosage.maf.0.01.LOC.50kb.genes.annot"
   ]
  },
  {
   "cell_type": "code",
   "execution_count": 3,
   "metadata": {
    "ExecuteTime": {
     "end_time": "2020-08-20T10:37:34.844137Z",
     "start_time": "2020-08-20T10:37:34.703213Z"
    }
   },
   "outputs": [
    {
     "name": "stderr",
     "output_type": "stream",
     "text": [
      "nohup: nohup: nohup: failed to run command '/usr/lib/magma/magma'failed to run command '/usr/lib/magma/magma'failed to run command '/usr/lib/magma/magma': Permission denied\n",
      ": Permission denied: Permission denied\n",
      "\n",
      "nohup: failed to run command '/usr/lib/magma/magma': Permission denied\n",
      "nohup: failed to run command '/usr/lib/magma/magma': Permission denied\n",
      "nohup: failed to run command '/usr/lib/magma/magma': Permission denied\n",
      "nohup: failed to run command '/usr/lib/magma/magma': Permission denied\n",
      "nohup: failed to run command '/usr/lib/magma/magma': Permission denied\n",
      "nohup: nohup: failed to run command '/usr/lib/magma/magma'failed to run command '/usr/lib/magma/magma': Permission denied: Permission denied\n",
      "\n",
      "nohup: failed to run command '/usr/lib/magma/magma': Permission denied\n",
      "nohup: failed to run command '/usr/lib/magma/magma': Permission denied\n",
      "nohup: nohup: failed to run command '/usr/lib/magma/magma': Permission denied\n",
      "nohup: failed to run command '/usr/lib/magma/magma': Permission denied\n",
      "nohup: nohup: failed to run command '/usr/lib/magma/magma'failed to run command '/usr/lib/magma/magma': Permission denied\n",
      ": Permission denied\n",
      "nohup: failed to run command '/usr/lib/magma/magma': Permission denied\n",
      "nohup: failed to run command '/usr/lib/magma/magma': Permission denied\n",
      "nohup: nohup: failed to run command '/usr/lib/magma/magma'failed to run command '/usr/lib/magma/magma': Permission denied\n",
      ": Permission denied\n",
      "nohup: failed to run command '/usr/lib/magma/magma': Permission denied\n",
      "failed to run command '/usr/lib/magma/magma': Permission denied\n"
     ]
    }
   ],
   "source": [
    "%%bash\n",
    "#Gene level analysis is performed using MAGMA, which compute gene-wise statistics taking into account physical distance and linkage disequilibrium (LD) between markers (de Leeuw et al. 2015). \n",
    "# All SNPs with MAF above 5% are used in these analyses, setting a distance threshold of 50kb. \n",
    "for i in {1..22}\n",
    "do\n",
    "nohup /usr/lib/magma/magma  --batch $i chr --big-data --seed 1234 --genes-only --bfile /mnt/Almacen6/Adapted/protocol/1K_Genome/Phase3_v5_reduced/mydataset.b37.rs --gene-annot $path/dataset.b37.imputed.dosage.maf.0.01.LOC.50kb.genes.annot  --pval $path/dataset.b37.imputed.dosage.maf.0.01.SNP.PVAL  N=10000 --gene-model multi --out $path/dataset.b37.imputed.dosage.maf.0.01.LOC.50kb.genes.annot.magma &\n",
    "done"
   ]
  },
  {
   "cell_type": "code",
   "execution_count": 86,
   "metadata": {
    "ExecuteTime": {
     "end_time": "2019-11-12T09:19:36.853278Z",
     "start_time": "2019-11-12T09:19:36.247662Z"
    },
    "scrolled": true
   },
   "outputs": [
    {
     "name": "stdout",
     "output_type": "stream",
     "text": [
      "Welcome to MAGMA v1.06 (linux)\n",
      "Using flags:\n",
      "\t--merge /mnt/Almacen6/Adapted/jupyterAnalisis_others/Genomic_pipeline/outputs/Imputed_files/dataset.b37.imputed.dosage.maf.0.01.LOC.50kb.genes.annot.magma\n",
      "\t--out /mnt/Almacen6/Adapted/jupyterAnalisis_others/Genomic_pipeline/outputs/Imputed_files/dataset.b37.imputed.dosage.maf.0.01.LOC.50kb.genes.annot.magma\n",
      "\n",
      "Start time is 09:19:36, Tuesday 12 Nov 2019\n",
      "\n",
      "Merging gene results files with prefix '/mnt/Almacen6/Adapted/jupyterAnalisis_others/Genomic_pipeline/outputs/Imputed_files/dataset.b37.imputed.dosage.maf.0.01.LOC.50kb.genes.annot.magma'... \n",
      "\tWARNING: found only 0 .genes.raw batch files for chromosomes 1-22\n",
      "Reading file /mnt/Almacen6/Adapted/jupyterAnalisis_others/Genomic_pipeline/outputs/Imputed_files/dataset.b37.imputed.dosage.maf.0.01.LOC.50kb.genes.annot.magma.batch1_chr.genes.out... \n",
      "\t2001 genes read from file\n",
      "Reading file /mnt/Almacen6/Adapted/jupyterAnalisis_others/Genomic_pipeline/outputs/Imputed_files/dataset.b37.imputed.dosage.maf.0.01.LOC.50kb.genes.annot.magma.batch2_chr.genes.out... \n",
      "\t1223 genes read from file\n",
      "Reading file /mnt/Almacen6/Adapted/jupyterAnalisis_others/Genomic_pipeline/outputs/Imputed_files/dataset.b37.imputed.dosage.maf.0.01.LOC.50kb.genes.annot.magma.batch3_chr.genes.out... \n",
      "\t1050 genes read from file\n",
      "Reading file /mnt/Almacen6/Adapted/jupyterAnalisis_others/Genomic_pipeline/outputs/Imputed_files/dataset.b37.imputed.dosage.maf.0.01.LOC.50kb.genes.annot.magma.batch4_chr.genes.out... \n",
      "\t743 genes read from file\n",
      "Reading file /mnt/Almacen6/Adapted/jupyterAnalisis_others/Genomic_pipeline/outputs/Imputed_files/dataset.b37.imputed.dosage.maf.0.01.LOC.50kb.genes.annot.magma.batch5_chr.genes.out... \n",
      "\t854 genes read from file\n",
      "Reading file /mnt/Almacen6/Adapted/jupyterAnalisis_others/Genomic_pipeline/outputs/Imputed_files/dataset.b37.imputed.dosage.maf.0.01.LOC.50kb.genes.annot.magma.batch6_chr.genes.out... \n",
      "\t1016 genes read from file\n",
      "Reading file /mnt/Almacen6/Adapted/jupyterAnalisis_others/Genomic_pipeline/outputs/Imputed_files/dataset.b37.imputed.dosage.maf.0.01.LOC.50kb.genes.annot.magma.batch7_chr.genes.out... \n",
      "\t906 genes read from file\n",
      "Reading file /mnt/Almacen6/Adapted/jupyterAnalisis_others/Genomic_pipeline/outputs/Imputed_files/dataset.b37.imputed.dosage.maf.0.01.LOC.50kb.genes.annot.magma.batch8_chr.genes.out... \n",
      "\t666 genes read from file\n",
      "Reading file /mnt/Almacen6/Adapted/jupyterAnalisis_others/Genomic_pipeline/outputs/Imputed_files/dataset.b37.imputed.dosage.maf.0.01.LOC.50kb.genes.annot.magma.batch9_chr.genes.out... \n",
      "\t755 genes read from file\n",
      "Reading file /mnt/Almacen6/Adapted/jupyterAnalisis_others/Genomic_pipeline/outputs/Imputed_files/dataset.b37.imputed.dosage.maf.0.01.LOC.50kb.genes.annot.magma.batch10_chr.genes.out... \n",
      "\t721 genes read from file\n",
      "Reading file /mnt/Almacen6/Adapted/jupyterAnalisis_others/Genomic_pipeline/outputs/Imputed_files/dataset.b37.imputed.dosage.maf.0.01.LOC.50kb.genes.annot.magma.batch11_chr.genes.out... \n",
      "\t1275 genes read from file\n",
      "Reading file /mnt/Almacen6/Adapted/jupyterAnalisis_others/Genomic_pipeline/outputs/Imputed_files/dataset.b37.imputed.dosage.maf.0.01.LOC.50kb.genes.annot.magma.batch12_chr.genes.out... \n",
      "\t1009 genes read from file\n",
      "Reading file /mnt/Almacen6/Adapted/jupyterAnalisis_others/Genomic_pipeline/outputs/Imputed_files/dataset.b37.imputed.dosage.maf.0.01.LOC.50kb.genes.annot.magma.batch13_chr.genes.out... \n",
      "\t320 genes read from file\n",
      "Reading file /mnt/Almacen6/Adapted/jupyterAnalisis_others/Genomic_pipeline/outputs/Imputed_files/dataset.b37.imputed.dosage.maf.0.01.LOC.50kb.genes.annot.magma.batch14_chr.genes.out... \n",
      "\t592 genes read from file\n",
      "Reading file /mnt/Almacen6/Adapted/jupyterAnalisis_others/Genomic_pipeline/outputs/Imputed_files/dataset.b37.imputed.dosage.maf.0.01.LOC.50kb.genes.annot.magma.batch15_chr.genes.out... \n",
      "\t578 genes read from file\n",
      "Reading file /mnt/Almacen6/Adapted/jupyterAnalisis_others/Genomic_pipeline/outputs/Imputed_files/dataset.b37.imputed.dosage.maf.0.01.LOC.50kb.genes.annot.magma.batch16_chr.genes.out... \n",
      "\t813 genes read from file\n",
      "Reading file /mnt/Almacen6/Adapted/jupyterAnalisis_others/Genomic_pipeline/outputs/Imputed_files/dataset.b37.imputed.dosage.maf.0.01.LOC.50kb.genes.annot.magma.batch17_chr.genes.out... \n",
      "\t1145 genes read from file\n",
      "Reading file /mnt/Almacen6/Adapted/jupyterAnalisis_others/Genomic_pipeline/outputs/Imputed_files/dataset.b37.imputed.dosage.maf.0.01.LOC.50kb.genes.annot.magma.batch18_chr.genes.out... \n",
      "\t271 genes read from file\n",
      "Reading file /mnt/Almacen6/Adapted/jupyterAnalisis_others/Genomic_pipeline/outputs/Imputed_files/dataset.b37.imputed.dosage.maf.0.01.LOC.50kb.genes.annot.magma.batch19_chr.genes.out... \n",
      "\t1388 genes read from file\n",
      "Reading file /mnt/Almacen6/Adapted/jupyterAnalisis_others/Genomic_pipeline/outputs/Imputed_files/dataset.b37.imputed.dosage.maf.0.01.LOC.50kb.genes.annot.magma.batch20_chr.genes.out... \n",
      "\t527 genes read from file\n",
      "Reading file /mnt/Almacen6/Adapted/jupyterAnalisis_others/Genomic_pipeline/outputs/Imputed_files/dataset.b37.imputed.dosage.maf.0.01.LOC.50kb.genes.annot.magma.batch21_chr.genes.out... \n",
      "\t214 genes read from file\n",
      "Reading file /mnt/Almacen6/Adapted/jupyterAnalisis_others/Genomic_pipeline/outputs/Imputed_files/dataset.b37.imputed.dosage.maf.0.01.LOC.50kb.genes.annot.magma.batch22_chr.genes.out... \n",
      "\t441 genes read from file\n",
      "Writing merged gene analysis results to file /mnt/Almacen6/Adapted/jupyterAnalisis_others/Genomic_pipeline/outputs/Imputed_files/dataset.b37.imputed.dosage.maf.0.01.LOC.50kb.genes.annot.magma.genes.out\n",
      "\n",
      "\n",
      "End time is 09:19:36, Tuesday 12 Nov 2019 (elapsed: 00:00:00)\n",
      "GENE       CHR      START       STOP  NSNPS  NPARAM      N        ZSTAT      P_JOINT  P_SNPWISE_MEAN  P_SNPWISE_TOP1\n",
      "148398       1     809993     929961    300      48  10000       1.5958     0.055262        0.099243        0.053089\n",
      "26155        1     829583     944679    343      53  10000       1.3353     0.090882         0.20502          0.0535\n",
      "339451       1     845967     951099    311      48  10000      0.68702      0.24603         0.15062         0.40774\n",
      "84069        1     851872     960488    310      47  10000      0.75178      0.22609         0.12708         0.41438\n",
      "84808        1     860579     967473    297      46  10000      0.84324      0.19955         0.11095         0.38041\n",
      "57801        1     884342     986608    299      37  10000       0.5136      0.30376         0.26716         0.33402\n",
      "9636         1     898847     999920    305      36  10000     0.051544      0.47945         0.56083         0.35924\n",
      "375790       1     905503    1041499    405      46  10000     -0.44131      0.67051         0.83823         0.45627\n",
      "401934       1     957126    1059687    300      38  10000     -0.36779      0.64348         0.84257         0.39737\n"
     ]
    }
   ],
   "source": [
    "%%bash\n",
    "#merge batches\n",
    "#/usr/lib/magma/magma\n",
    "magma --merge $path/dataset.b37.imputed.dosage.maf.0.01.LOC.50kb.genes.annot.magma --out $path/dataset.b37.imputed.dosage.maf.0.01.LOC.50kb.genes.annot.magma\n",
    "head $path/dataset.b37.imputed.dosage.maf.0.01.LOC.50kb.genes.annot.magma.genes.out\n"
   ]
  },
  {
   "cell_type": "code",
   "execution_count": 88,
   "metadata": {
    "ExecuteTime": {
     "end_time": "2019-11-12T09:20:13.633421Z",
     "start_time": "2019-11-12T09:20:13.054616Z"
    }
   },
   "outputs": [
    {
     "name": "stdout",
     "output_type": "stream",
     "text": [
      "GENE       CHR      START       STOP  NSNPS  NPARAM      N        ZSTAT      P_JOINT  P_SNPWISE_MEAN  P_SNPWISE_TOP1\n",
      "6869         2   75223590   75476645    729      80  10000       3.8263   6.5051e-05      1.6509e-05       0.0092927\n",
      "7031        21   43732391   43836644    485      67  10000       3.4969   0.00023536      2.5108e-05        0.039246\n",
      "8698        19    3128250    3230335    495      71  10000       3.2452   0.00058691      5.7742e-05        0.073409\n",
      "223075       7   31503685   31748334    734      47  10000       3.1313   0.00087013      8.6048e-05         0.10956\n",
      "5145         5  149187519  149374356    495      66  10000       3.7089   0.00010407      9.1283e-05       0.0041425\n",
      "284257      18   54764293   54867639    338      33  10000       3.5861   0.00016785      9.2579e-05        0.003654\n",
      "11214       15   85873818   86342589   1637      47  10000       3.5958   0.00016172      0.00010182        0.016458\n",
      "114112       3  126275895  126425056    449      37  10000       3.7148   0.00010167      0.00015436       0.0031081\n",
      "54848        4  106423704  106652070    640      56  10000       2.9462    0.0016085      0.00018888         0.15471\n"
     ]
    }
   ],
   "source": [
    "%%bash\n",
    "sort -gk10,10 $path/dataset.b37.imputed.dosage.maf.0.01.LOC.50kb.genes.annot.magma.genes.out >$path/dataset.b37.imputed.dosage.maf.0.01.LOC.50kb.genes.annot.magma.genes.out.sorted\n",
    "head $path/dataset.b37.imputed.dosage.maf.0.01.LOC.50kb.genes.annot.magma.genes.out.sorted\n"
   ]
  },
  {
   "cell_type": "code",
   "execution_count": 91,
   "metadata": {
    "ExecuteTime": {
     "end_time": "2019-11-12T09:23:49.202385Z",
     "start_time": "2019-11-12T09:23:48.793407Z"
    }
   },
   "outputs": [],
   "source": [
    "%%R\n",
    "# Annotate genes using the reference file NCBI37.3.gene.loc\n",
    "magma<-read.table(\"/mnt/data/GWAS/output/task6_genewise/dataset.b37.imputed.dosage.maf.0.01.LOC.50kb.genes.annot.magma.genes.out.sorted\", header=TRUE)\n",
    "genes<-read.table(\"/mnt/data/GWAS/ref_files/NCBI37.3.gene.loc\")\n",
    "colnames(genes) <- c(\"GENE\",\"CHR\",\"START\",\"STOP\",\"STRAND\",\"HUGO\")\n",
    "\n",
    "magma_merged<-merge(magma,genes, by=\"GENE\")\n",
    "magma_merged <- magma_merged[order(magma_merged$P_SNPWISE_MEAN), ]\n",
    "magma_rank<-rank(magma_merged[,10],na.last = \"keep\", ties.method = \"min\")\n",
    "magma_ranked=cbind(magma_rank, magma_merged)\n",
    "\n",
    "write.table(magma_ranked, \"/mnt/data/GWAS/output/task6_genewise/dataset.b37.imputed.dosage.maf.0.01.LOC.50kb.genes.annot.magma.genes.out.sorted.annot\", quote=FALSE, sep=\"\\t\", row.names = FALSE)\n"
   ]
  },
  {
   "cell_type": "code",
   "execution_count": 4,
   "metadata": {},
   "outputs": [
    {
     "name": "stderr",
     "output_type": "stream",
     "text": [
      "UsageError: Cell magic `%%R` not found.\n"
     ]
    }
   ],
   "source": [
    "%%R\n",
    "magma<-read.table(\"/mnt/data/GWAS/output/task6_genewise/Imputed_files/dataset.b37.imputed.dosage.maf.0.01.LOC.50kb.genes.annot.magma.genes.out.sorted\", header=TRUE)\n",
    "head(magma)"
   ]
  },
  {
   "cell_type": "code",
   "execution_count": 3,
   "metadata": {},
   "outputs": [
    {
     "name": "stdout",
     "output_type": "stream",
     "text": [
      "hello\n"
     ]
    }
   ],
   "source": [
    "genes<-read.table(\"/mnt/data/GWAS/ref_files/NCBI37.3.gene.loc\")\n",
    "colnames(genes) <- c(\"GENE\",\"CHR\",\"START\",\"STOP\",\"STRAND\",\"HUGO\")\n",
    "head(genes)"
   ]
  },
  {
   "cell_type": "code",
   "execution_count": 93,
   "metadata": {
    "ExecuteTime": {
     "end_time": "2019-11-12T09:24:15.606932Z",
     "start_time": "2019-11-12T09:24:15.153136Z"
    }
   },
   "outputs": [
    {
     "name": "stdout",
     "output_type": "stream",
     "text": [
      "magma_rank\tGENE\tCHR.x\tSTART.x\tSTOP.x\tNSNPS\tNPARAM\tN\tZSTAT\tP_JOINT\tP_SNPWISE_MEAN\tP_SNPWISE_TOP1\tCHR.y\tSTART.y\tSTOP.y\tSTRAND\tHUGO\n",
      "1\t6869\t2\t75223590\t75476645\t729\t80\t10000\t3.8263\t6.5051e-05\t1.6509e-05\t0.0092927\t2\t75273590\t75426645\t-\tTACR1\n",
      "2\t7031\t21\t43732391\t43836644\t485\t67\t10000\t3.4969\t0.00023536\t2.5108e-05\t0.039246\t21\t43782391\t43786644\t-\tTFF1\n",
      "3\t8698\t19\t3128250\t3230335\t495\t71\t10000\t3.2452\t0.00058691\t5.7742e-05\t0.073409\t19\t3178250\t3180335\t+\tS1PR4\n",
      "4\t223075\t7\t31503685\t31748334\t734\t47\t10000\t3.1313\t0.00087013\t8.6048e-05\t0.10956\t7\t31553685\t31698334\t+\tCCDC129\n",
      "5\t5145\t5\t149187519\t149374356\t495\t66\t10000\t3.7089\t0.00010407\t9.1283e-05\t0.0041425\t5\t149237519\t149324356\t-\tPDE6A\n",
      "6\t284257\t18\t54764293\t54867639\t338\t33\t10000\t3.5861\t0.00016785\t9.2579e-05\t0.003654\t18\t54814293\t54817639\t+\tBOD1L2\n",
      "7\t11214\t15\t85873818\t86342589\t1637\t47\t10000\t3.5958\t0.00016172\t0.00010182\t0.016458\t15\t85923818\t86292589\t+\tAKAP13\n",
      "8\t114112\t3\t126275895\t126425056\t449\t37\t10000\t3.7148\t0.00010167\t0.00015436\t0.0031081\t3\t126325895\t126375056\t-\tTXNRD3\n",
      "9\t54848\t4\t106423704\t106652070\t640\t56\t10000\t2.9462\t0.0016085\t0.00018888\t0.15471\t4\t106473704\t106602070\t+\tARHGEF38\n",
      "18499\t3927\t17\t36976112\t37128023\t355\t59\t10000\t-2.8211\t0.99761\t0.99439\t0.98498\t17\t37026112\t37078023\t+\tLASP1\n",
      "18500\t5081\t1\t18907500\t19125360\t726\t95\t10000\t-0.64751\t0.74135\t0.99468\t0.46882\t1\t18957500\t19075360\t+\tPAX7\n",
      "18501\t55667\t9\t19180763\t19424137\t646\t38\t10000\t-1.5834\t0.94333\t0.99527\t0.82691\t9\t19230763\t19374137\t+\tDENND4C\n",
      "18502\t731\t1\t57270443\t57433894\t578\t62\t10000\t-3.2941\t0.99951\t0.99535\t0.99631\t1\t57320443\t57383894\t+\tC8A\n",
      "18503\t4745\t11\t20641117\t21647232\t3400\t230\t10000\t-2.6916\t0.99644\t0.99586\t0.97209\t11\t20691117\t21597232\t+\tNELL1\n",
      "18504\t79609\t14\t50522967\t50633626\t293\t28\t10000\t-1.6367\t0.94916\t0.99594\t0.82185\t14\t50572967\t50583626\t-\tVCPKMT\n",
      "18505\t8574\t1\t19579202\t19688640\t451\t45\t10000\t-0.29561\t0.61624\t0.9961\t0.30128\t1\t19629202\t19638640\t-\tAKR7A2\n",
      "18506\t23012\t12\t27347078\t27528892\t546\t38\t10000\t-1.0728\t0.85832\t0.99659\t0.61223\t12\t27397078\t27478892\t+\tSTK38L\n",
      "18507\t5581\t2\t45828454\t46465129\t2340\t190\t10000\t-1.9355\t0.97353\t0.99772\t0.86344\t2\t45878454\t46415129\t+\tPRKCE\n",
      "18508\t5137\t7\t31741666\t32389016\t2340\t119\t10000\t-1.5825\t0.94323\t0.99889\t0.76253\t7\t31791666\t32339016\t-\tPDE1C\n"
     ]
    }
   ],
   "source": [
    "%%bash\n",
    "head /mnt/data/GWAS/output/task6_genewise/dataset.b37.imputed.dosage.maf.0.01.LOC.50kb.genes.annot.magma.genes.out.sorted.annot\n",
    "tail /mnt/data/GWAS/output/task6_genewise/Imputed_files/dataset.b37.imputed.dosage.maf.0.01.LOC.50kb.genes.annot.magma.genes.out.sorted.annot"
   ]
  },
  {
   "cell_type": "markdown",
   "metadata": {},
   "source": [
    "**TODO: decide a shorter name for the output file and verify it on the user manual**"
   ]
  },
  {
   "cell_type": "code",
   "execution_count": null,
   "metadata": {},
   "outputs": [],
   "source": [
    "%%bash\n",
    "head /mnt/data/GWAS/output/task6_genewise/dataset.b37.imputed.dosage.maf.0.01.LOC.50kb.genes.annot.magma.genes.out.sorted.annot"
   ]
  }
 ],
 "metadata": {
  "kernelspec": {
   "display_name": "Python3.6",
   "language": "python",
   "name": "python3.6"
  },
  "language_info": {
   "codemirror_mode": {
    "name": "ipython",
    "version": 3
   },
   "file_extension": ".py",
   "mimetype": "text/x-python",
   "name": "python",
   "nbconvert_exporter": "python",
   "pygments_lexer": "ipython3",
   "version": "3.6.12"
  },
  "toc": {
   "base_numbering": 1,
   "nav_menu": {},
   "number_sections": true,
   "sideBar": true,
   "skip_h1_title": true,
   "title_cell": "Table of Contents",
   "title_sidebar": "Contents",
   "toc_cell": true,
   "toc_position": {},
   "toc_section_display": true,
   "toc_window_display": false
  },
  "varInspector": {
   "cols": {
    "lenName": 16,
    "lenType": 16,
    "lenVar": 40
   },
   "kernels_config": {
    "python": {
     "delete_cmd_postfix": "",
     "delete_cmd_prefix": "del ",
     "library": "var_list.py",
     "varRefreshCmd": "print(var_dic_list())"
    },
    "r": {
     "delete_cmd_postfix": ") ",
     "delete_cmd_prefix": "rm(",
     "library": "var_list.r",
     "varRefreshCmd": "cat(var_dic_list()) "
    }
   },
   "types_to_exclude": [
    "module",
    "function",
    "builtin_function_or_method",
    "instance",
    "_Feature"
   ],
   "window_display": false
  }
 },
 "nbformat": 4,
 "nbformat_minor": 4
}
