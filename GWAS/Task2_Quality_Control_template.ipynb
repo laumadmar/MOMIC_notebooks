{
 "cells": [
  {
   "cell_type": "markdown",
   "metadata": {},
   "source": [
    "# Task_2: Quality Control \n",
    "\n",
    "Quality Control procedures are essential in order for GWAS analysis to generate reliable results. This step consist on removing individuals and markers with particularly high error rates. \n",
    "\n",
    "The steps recommended are:\n",
    "\n",
    "1. Exclusion of SNPs:\n",
    "    - Missingness\n",
    "    - Hardy–Weinberg equilibrium (HWE)\n",
    "    - Minor allele frequency (MAF)\n",
    "2. Exclusion of individuals:\n",
    "    - Missingness\n",
    "    - Heterozygosity\n",
    "    - Sex discrepancy\n",
    "    - Relatedness\n",
    "    - Population stratification\n",
    "    \n",
    "This task starts from a working dataset in PLINK v1.9."
   ]
  },
  {
   "cell_type": "markdown",
   "metadata": {},
   "source": [
    "<h1>Table of Contents<span class=\"tocSkip\"></span></h1>\n",
    "<div class=\"toc\"><ul class=\"toc-item\"><li><span><a href=\"#Exclusion of SNPs\" data-toc-modified-id=\"Exclusion-of-SNPs-1\"><span class=\"toc-item-num\">1&nbsp;&nbsp;</span>Exclusion of SNPs</a></span></li><li><span><a href=\"#Exclusion of individuals\" data-toc-modified-id=\"Exclusion-of-individuals-2\"><span class=\"toc-item-num\">2&nbsp;&nbsp;</span>Exclusion of individuals</a></span></li></ul></div>"
   ]
  },
  {
   "cell_type": "code",
   "execution_count": 6,
   "metadata": {
    "ExecuteTime": {
     "end_time": "2020-08-17T10:56:22.622601Z",
     "start_time": "2020-08-17T10:56:19.616825Z"
    }
   },
   "outputs": [
    {
     "name": "stdout",
     "output_type": "stream",
     "text": [
      "The rpy2.ipython extension is already loaded. To reload it, use:\n",
      "  %reload_ext rpy2.ipython\n"
     ]
    }
   ],
   "source": [
    "%load_ext rpy2.ipython"
   ]
  },
  {
   "cell_type": "code",
   "execution_count": 9,
   "metadata": {
    "ExecuteTime": {
     "end_time": "2020-08-17T10:56:24.234004Z",
     "start_time": "2020-08-17T10:56:24.224651Z"
    }
   },
   "outputs": [
    {
     "name": "stdout",
     "output_type": "stream",
     "text": [
      "env: path=/mnt/data/GWAS/output/task2_QC\n",
      "env: intpath=/mnt/data/GWAS/output/task2_QC/intermediate_datasets\n"
     ]
    }
   ],
   "source": [
    "# set the path where to ouput files to an environment variable\n",
    "%env path=/mnt/data/GWAS/output/task2_QC\n",
    "%env intpath=/mnt/data/GWAS/output/task2_QC/intermediate_datasets"
   ]
  },
  {
   "cell_type": "code",
   "execution_count": 3,
   "metadata": {
    "ExecuteTime": {
     "end_time": "2020-08-17T10:56:26.784515Z",
     "start_time": "2020-08-17T10:56:26.266317Z"
    }
   },
   "outputs": [],
   "source": [
    "%%R\n",
    "# Import functions for visualisation\n",
    "source(\"scripts/QC_functions_task2.R\")"
   ]
  },
  {
   "cell_type": "markdown",
   "metadata": {},
   "source": [
    "## Exclusion of SNPs"
   ]
  },
  {
   "cell_type": "markdown",
   "metadata": {},
   "source": [
    "### Missingness of SNPs \n",
    "\n",
    "SNP‐level missingness: This is the number of individuals in the sample for whom information on a specific SNP is missing. SNPs with a high level of missingness can potentially lead to bias.\n",
    "\n",
    "We delete here those SNPs with a missingness rate greater then 5%."
   ]
  },
  {
   "cell_type": "code",
   "execution_count": 10,
   "metadata": {
    "ExecuteTime": {
     "end_time": "2020-08-20T08:46:27.851281Z",
     "start_time": "2020-08-20T08:45:59.540892Z"
    }
   },
   "outputs": [
    {
     "name": "stdout",
     "output_type": "stream",
     "text": [
      "PLINK v1.90b3.45 64-bit (13 Jan 2017)      https://www.cog-genomics.org/plink2\n",
      "(C) 2005-2017 Shaun Purcell, Christopher Chang   GNU General Public License v3\n",
      "Logging to /mnt/data/GWAS/output/task2_QC/plink.log.\n",
      "Options in effect:\n",
      "  --allow-no-sex\n",
      "  --bfile /mnt/data/GWAS/input/dataset.b37\n",
      "  --missing\n",
      "  --out /mnt/data/GWAS/output/task2_QC/plink\n",
      "\n",
      "32127 MB RAM detected; reserving 16063 MB for main workspace.\n",
      "10048588 variants loaded from .bim file.\n",
      "504 people (241 males, 263 females) loaded from .fam.\n",
      "504 phenotype values loaded from .fam.\n",
      "Using 1 thread (no multithreaded calculations invoked).\n",
      "Before main variant filters, 504 founders and 0 nonfounders present.\n",
      "Calculating allele frequencies... 10111213141516171819202122232425262728293031323334353637383940414243444546474849505152535455565758596061626364656667686970717273747576777879808182838485868788899091929394959697989 done.\n",
      "Total genotyping rate is 0.998926.\n",
      "--missing: Sample missing data report written to\n",
      "/mnt/data/GWAS/output/task2_QC/plink.imiss, and variant-based missing data\n",
      "report written to /mnt/data/GWAS/output/task2_QC/plink.lmiss.\n"
     ]
    },
    {
     "name": "stderr",
     "output_type": "stream",
     "text": [
      "Warning: 1183651 het. haploid genotypes present (see\n",
      "/mnt/data/GWAS/output/task2_QC/plink.hh ); many commands treat these as\n",
      "missing.\n",
      "Warning: Nonmissing nonmale Y chromosome genotype(s) present; many commands\n",
      "treat these as missing.\n"
     ]
    }
   ],
   "source": [
    "%%bash\n",
    "# Investigate missingness per individual and make histograms.\n",
    "# Providing an output path is advisable. (Usage: --out output/path/filename)\n",
    "plink --bfile /mnt/data/GWAS/input/dataset.b37 --missing --allow-no-sex --out $path/plink\n",
    "# output: plink.imiss shows the proportion of missing individuals per SNP\n",
    "# output: plink.lmiss shows the proportion of missing SNPs per individual"
   ]
  },
  {
   "cell_type": "code",
   "execution_count": 11,
   "metadata": {
    "ExecuteTime": {
     "end_time": "2020-08-20T08:48:04.749290Z",
     "start_time": "2020-08-20T08:48:04.625046Z"
    }
   },
   "outputs": [
    {
     "name": "stdout",
     "output_type": "stream",
     "text": [
      " CHR           SNP   N_MISS   N_GENO   F_MISS\n",
      "   1       1:10107        0      504        0\n",
      "   1       1:10177        0      504        0\n",
      "   1       1:10350        0      504        0\n",
      "   1       1:10355        2      504 0.003968\n",
      "   1       1:10462        0      504        0\n",
      "   1       1:11008        0      504        0\n",
      "   1       1:11012        0      504        0\n",
      "   1       1:13110        0      504        0\n",
      "   1   rs201725126        0      504        0\n"
     ]
    }
   ],
   "source": [
    "%%bash\n",
    "head /mnt/data/GWAS/output/task2_QC/plink.lmiss"
   ]
  },
  {
   "cell_type": "code",
   "execution_count": 12,
   "metadata": {
    "ExecuteTime": {
     "end_time": "2020-08-20T08:49:24.007158Z",
     "start_time": "2020-08-20T08:48:37.995159Z"
    }
   },
   "outputs": [
    {
     "data": {
      "image/png": "[encoded data removed]"
     },
     "metadata": {},
     "output_type": "display_data"
    }
   ],
   "source": [
    "%%R\n",
    "# Generate plots to visualize the missingness results.\n",
    "# 1st parameter: optional - full path to missing data report - with no extension. (Same as --out parameter for previous plink command)\n",
    "# If not provided it looks for plink.imiss and plink.lmiss in the current directory.\n",
    "# 2nd parameter: option - boolean indicating whereas plots are sent to standard output \n",
    "# 3rd parameter: option - boolean indicating whereas plots are stored as pdf. (In the same directory as the input file)\n",
    "snp_missingness_function(misspath=\"/mnt/data/GWAS/output/task2_QC/plink\",pdf=FALSE)"
   ]
  },
  {
   "cell_type": "code",
   "execution_count": 13,
   "metadata": {
    "ExecuteTime": {
     "end_time": "2020-08-20T08:49:52.000220Z",
     "start_time": "2020-08-20T08:49:24.015462Z"
    }
   },
   "outputs": [
    {
     "name": "stdout",
     "output_type": "stream",
     "text": [
      "PLINK v1.90b3.45 64-bit (13 Jan 2017)      https://www.cog-genomics.org/plink2\n",
      "(C) 2005-2017 Shaun Purcell, Christopher Chang   GNU General Public License v3\n",
      "Logging to /mnt/data/GWAS/output/task2_QC/intermediate_datasets/dataset.b37.lmiss.log.\n",
      "Options in effect:\n",
      "  --bfile /mnt/data/GWAS/input/dataset.b37\n",
      "  --geno 0.05\n",
      "  --make-bed\n",
      "  --out /mnt/data/GWAS/output/task2_QC/intermediate_datasets/dataset.b37.lmiss\n",
      "\n",
      "32127 MB RAM detected; reserving 16063 MB for main workspace.\n",
      "10048588 variants loaded from .bim file.\n",
      "504 people (241 males, 263 females) loaded from .fam.\n",
      "504 phenotype values loaded from .fam.\n",
      "Using 1 thread (no multithreaded calculations invoked).\n",
      "Before main variant filters, 504 founders and 0 nonfounders present.\n",
      "Calculating allele frequencies... 10111213141516171819202122232425262728293031323334353637383940414243444546474849505152535455565758596061626364656667686970717273747576777879808182838485868788899091929394959697989 done.\n",
      "Total genotyping rate is 0.998926.\n",
      "39000 variants removed due to missing genotype data (--geno).\n",
      "10009588 variants and 504 people pass filters and QC.\n",
      "Among remaining phenotypes, 206 are cases and 298 are controls.\n",
      "--make-bed to\n",
      "/mnt/data/GWAS/output/task2_QC/intermediate_datasets/dataset.b37.lmiss.bed +\n",
      "/mnt/data/GWAS/output/task2_QC/intermediate_datasets/dataset.b37.lmiss.bim +\n",
      "/mnt/data/GWAS/output/task2_QC/intermediate_datasets/dataset.b37.lmiss.fam ...\n",
      "101112131415161718192021222324252627282930313233343536373839404142434445464748495051525354555657585960616263646566676869707172737475767778798081828384858687888990919293949596979899done.\n"
     ]
    },
    {
     "name": "stderr",
     "output_type": "stream",
     "text": [
      "Warning: 1183651 het. haploid genotypes present (see\n",
      "/mnt/data/GWAS/output/task2_QC/intermediate_datasets/dataset.b37.lmiss.hh );\n",
      "many commands treat these as missing.\n",
      "Warning: Nonmissing nonmale Y chromosome genotype(s) present; many commands\n",
      "treat these as missing.\n"
     ]
    }
   ],
   "source": [
    "%%bash\n",
    "# Delete SNPs with missingness >5%\n",
    "plink --bfile /mnt/data/GWAS/input/dataset.b37 --geno 0.05 --make-bed --out $intpath/dataset.b37.lmiss\n"
   ]
  },
  {
   "cell_type": "markdown",
   "metadata": {},
   "source": [
    "### Identify different genotype call rates between cases and controls"
   ]
  },
  {
   "cell_type": "code",
   "execution_count": 14,
   "metadata": {
    "ExecuteTime": {
     "end_time": "2020-08-20T08:49:55.508784Z",
     "start_time": "2020-08-20T08:49:52.007383Z"
    }
   },
   "outputs": [
    {
     "name": "stdout",
     "output_type": "stream",
     "text": [
      "PLINK v1.90b3.45 64-bit (13 Jan 2017)      https://www.cog-genomics.org/plink2\n",
      "(C) 2005-2017 Shaun Purcell, Christopher Chang   GNU General Public License v3\n",
      "Logging to /mnt/data/GWAS/output/task2_QC/intermediate_datasets/dataset.b37.tMiss.log.\n",
      "Options in effect:\n",
      "  --bfile /mnt/data/GWAS/output/task2_QC/intermediate_datasets/dataset.b37.lmiss\n",
      "  --out /mnt/data/GWAS/output/task2_QC/intermediate_datasets/dataset.b37.tMiss\n",
      "  --test-missing\n",
      "\n",
      "32127 MB RAM detected; reserving 16063 MB for main workspace.\n",
      "10009588 variants loaded from .bim file.\n",
      "504 people (241 males, 263 females) loaded from .fam.\n",
      "504 phenotype values loaded from .fam.\n",
      "Using 1 thread (no multithreaded calculations invoked).\n",
      "Before main variant filters, 504 founders and 0 nonfounders present.\n",
      "Calculating allele frequencies... 10111213141516171819202122232425262728293031323334353637383940414243444546474849505152535455565758596061626364656667686970717273747576777879808182838485868788899091929394959697989 done.\n",
      "Total genotyping rate is 0.999872.\n",
      "10009588 variants and 504 people pass filters and QC.\n",
      "Among remaining phenotypes, 206 are cases and 298 are controls.\n",
      "Writing --test-missing report to\n",
      "/mnt/data/GWAS/output/task2_QC/intermediate_datasets/dataset.b37.tMiss.missing\n",
      "... done.\n"
     ]
    },
    {
     "name": "stderr",
     "output_type": "stream",
     "text": [
      "Warning: 1174790 het. haploid genotypes present (see\n",
      "/mnt/data/GWAS/output/task2_QC/intermediate_datasets/dataset.b37.tMiss.hh );\n",
      "many commands treat these as missing.\n",
      "Warning: Nonmissing nonmale Y chromosome genotype(s) present; many commands\n",
      "treat these as missing.\n"
     ]
    }
   ],
   "source": [
    "%%bash\n",
    "# If you dont have cases and controls skip this step\n",
    "plink --bfile $intpath/dataset.b37.lmiss --test-missing --out $intpath/dataset.b37.tMiss"
   ]
  },
  {
   "cell_type": "code",
   "execution_count": 15,
   "metadata": {
    "ExecuteTime": {
     "end_time": "2020-08-20T08:49:56.555981Z",
     "start_time": "2020-08-20T08:49:55.514174Z"
    }
   },
   "outputs": [],
   "source": [
    "%%bash\n",
    "# The ouput file contains all SNPs with a significantly different (P <0.00001) missing data rate between cases and controls.\n",
    "# 1st parameter: path to database\n",
    "# 2nd parameter: output file path\n",
    "perl scripts/diffmiss-qc.pl $intpath/dataset.b37 $path/fail-diffmiss-qc.txt"
   ]
  },
  {
   "cell_type": "code",
   "execution_count": 16,
   "metadata": {
    "ExecuteTime": {
     "end_time": "2020-08-20T08:49:56.757644Z",
     "start_time": "2020-08-20T08:49:56.560766Z"
    }
   },
   "outputs": [
    {
     "name": "stdout",
     "output_type": "stream",
     "text": [
      "0 /mnt/data/GWAS/output/task2_QC/fail-diffmiss-qc.txt\n"
     ]
    }
   ],
   "source": [
    "%%bash\n",
    "wc -l $path/fail-diffmiss-qc.txt\n",
    "cat $path/fail-diffmiss-qc.txt"
   ]
  },
  {
   "cell_type": "markdown",
   "metadata": {},
   "source": [
    "**Conclusion: there are no different genotype call rates between cases and controls**"
   ]
  },
  {
   "cell_type": "code",
   "execution_count": 17,
   "metadata": {
    "ExecuteTime": {
     "end_time": "2020-08-20T08:50:23.154002Z",
     "start_time": "2020-08-20T08:49:56.762330Z"
    }
   },
   "outputs": [
    {
     "name": "stdout",
     "output_type": "stream",
     "text": [
      "PLINK v1.90b3.45 64-bit (13 Jan 2017)      https://www.cog-genomics.org/plink2\n",
      "(C) 2005-2017 Shaun Purcell, Christopher Chang   GNU General Public License v3\n",
      "Logging to /mnt/data/GWAS/output/task2_QC/intermediate_datasets/dataset.b37.diffmiss.log.\n",
      "Options in effect:\n",
      "  --bfile /mnt/data/GWAS/output/task2_QC/intermediate_datasets/dataset.b37.lmiss\n",
      "  --exclude /mnt/data/GWAS/output/task2_QC/fail-diffmiss-qc.txt\n",
      "  --make-bed\n",
      "  --out /mnt/data/GWAS/output/task2_QC/intermediate_datasets/dataset.b37.diffmiss\n",
      "\n",
      "32127 MB RAM detected; reserving 16063 MB for main workspace.\n",
      "10009588 variants loaded from .bim file.\n",
      "504 people (241 males, 263 females) loaded from .fam.\n",
      "504 phenotype values loaded from .fam.\n",
      "--exclude: 10009588 variants remaining.\n",
      "Using 1 thread (no multithreaded calculations invoked).\n",
      "Before main variant filters, 504 founders and 0 nonfounders present.\n",
      "Calculating allele frequencies... 10111213141516171819202122232425262728293031323334353637383940414243444546474849505152535455565758596061626364656667686970717273747576777879808182838485868788899091929394959697989 done.\n",
      "Total genotyping rate is 0.999872.\n",
      "10009588 variants and 504 people pass filters and QC.\n",
      "Among remaining phenotypes, 206 are cases and 298 are controls.\n",
      "--make-bed to\n",
      "/mnt/data/GWAS/output/task2_QC/intermediate_datasets/dataset.b37.diffmiss.bed +\n",
      "/mnt/data/GWAS/output/task2_QC/intermediate_datasets/dataset.b37.diffmiss.bim +\n",
      "/mnt/data/GWAS/output/task2_QC/intermediate_datasets/dataset.b37.diffmiss.fam\n",
      "... 101112131415161718192021222324252627282930313233343536373839404142434445464748495051525354555657585960616263646566676869707172737475767778798081828384858687888990919293949596979899done.\n"
     ]
    },
    {
     "name": "stderr",
     "output_type": "stream",
     "text": [
      "Warning: 1174790 het. haploid genotypes present (see\n",
      "/mnt/data/GWAS/output/task2_QC/intermediate_datasets/dataset.b37.diffmiss.hh );\n",
      "many commands treat these as missing.\n",
      "Warning: Nonmissing nonmale Y chromosome genotype(s) present; many commands\n",
      "treat these as missing.\n"
     ]
    }
   ],
   "source": [
    "%%bash\n",
    "# remove those SNPs\n",
    "plink --bfile $intpath/dataset.b37.lmiss --make-bed --exclude $path/fail-diffmiss-qc.txt --out $intpath/dataset.b37.diffmiss\n",
    "# This will not remove any SNPs but for the purpose of the tutorial we will run this line"
   ]
  },
  {
   "cell_type": "markdown",
   "metadata": {},
   "source": [
    "### Hardy–Weinberg equilibrium (HWE)\n",
    "\n",
    "This concerns the relation between the allele and genotype frequencies. Violation of the HWE law indicates that genotype frequencies are significantly different from expectations (constant over generations). This is the result of genotyping errors."
   ]
  },
  {
   "cell_type": "code",
   "execution_count": 18,
   "metadata": {
    "ExecuteTime": {
     "end_time": "2020-08-20T08:51:12.229756Z",
     "start_time": "2020-08-20T08:50:23.162644Z"
    }
   },
   "outputs": [
    {
     "name": "stdout",
     "output_type": "stream",
     "text": [
      "PLINK v1.90b3.45 64-bit (13 Jan 2017)      https://www.cog-genomics.org/plink2\n",
      "(C) 2005-2017 Shaun Purcell, Christopher Chang   GNU General Public License v3\n",
      "Logging to /mnt/data/GWAS/output/task2_QC/plink.log.\n",
      "Options in effect:\n",
      "  --bfile /mnt/data/GWAS/output/task2_QC/intermediate_datasets/dataset.b37.diffmiss\n",
      "  --hardy\n",
      "  --out /mnt/data/GWAS/output/task2_QC/plink\n",
      "\n",
      "32127 MB RAM detected; reserving 16063 MB for main workspace.\n",
      "10009588 variants loaded from .bim file.\n",
      "504 people (241 males, 263 females) loaded from .fam.\n",
      "504 phenotype values loaded from .fam.\n",
      "Using 1 thread (no multithreaded calculations invoked).\n",
      "Before main variant filters, 504 founders and 0 nonfounders present.\n",
      "Calculating allele frequencies... 10111213141516171819202122232425262728293031323334353637383940414243444546474849505152535455565758596061626364656667686970717273747576777879808182838485868788899091929394959697989 done.\n",
      "Total genotyping rate is 0.999872.\n",
      "--hardy: Writing Hardy-Weinberg report (founders only) to\n",
      "/mnt/data/GWAS/output/task2_QC/plink.hwe ... 101112131415161718192021222324252627282930313233343536373839404142434445464748495051525354555657585960616263646566676869707172737475767778798081828384858687888990919293949596979899done.\n"
     ]
    },
    {
     "name": "stderr",
     "output_type": "stream",
     "text": [
      "Warning: 1174790 het. haploid genotypes present (see\n",
      "/mnt/data/GWAS/output/task2_QC/plink.hh ); many commands treat these as\n",
      "missing.\n",
      "Warning: Nonmissing nonmale Y chromosome genotype(s) present; many commands\n",
      "treat these as missing.\n"
     ]
    }
   ],
   "source": [
    "%%bash\n",
    "# Check the distribution of HWE p-values of all SNPs.\n",
    "plink --bfile $intpath/dataset.b37.diffmiss --hardy --out $path/plink"
   ]
  },
  {
   "cell_type": "code",
   "execution_count": 19,
   "metadata": {
    "ExecuteTime": {
     "end_time": "2020-08-20T08:51:22.200580Z",
     "start_time": "2020-08-20T08:51:12.234706Z"
    }
   },
   "outputs": [],
   "source": [
    "%%bash\n",
    "# Selecting SNPs with HWE p-value below 0.00001, required for one of the two plot generated by the next R script, allows to zoom in on strongly deviating SNPs. \n",
    "awk '{ if ($9 <0.00001) print $0 }' $path/plink.hwe>$path/plinkzoomhwe.hwe"
   ]
  },
  {
   "cell_type": "code",
   "execution_count": 20,
   "metadata": {
    "ExecuteTime": {
     "end_time": "2020-08-20T08:52:44.059705Z",
     "start_time": "2020-08-20T08:51:22.205569Z"
    }
   },
   "outputs": [
    {
     "name": "stdout",
     "output_type": "stream",
     "text": [
      "png \n",
      "  2 \n"
     ]
    },
    {
     "data": {
      "image/png": "[encoded data removed]"
     },
     "metadata": {},
     "output_type": "display_data"
    },
    {
     "data": {
      "image/png": "[encoded data removed]"
     },
     "metadata": {},
     "output_type": "display_data"
    }
   ],
   "source": [
    "%%R\n",
    "# Generate a histogram for HWE results.\n",
    "# 1st parameter: optional - full path to hwe report. If not provided it looks for a plink.hwe file in the current directory.\n",
    "# 2nd parameter: optional - full path to hew zoom file (SNPs with HWE p-value below 0.00001)\n",
    "# Output pdf is stored in the same directory as the input file\n",
    "hwe_function(filepath=\"/mnt/data/GWAS/output/task2_QC/plink.hwe\",zoomfilepath=\"/mnt/data/GWAS/output/task2_QC/plinkzoomhwe.hwe\")"
   ]
  },
  {
   "cell_type": "code",
   "execution_count": 21,
   "metadata": {
    "ExecuteTime": {
     "end_time": "2020-08-20T08:53:11.204728Z",
     "start_time": "2020-08-20T08:52:44.063454Z"
    }
   },
   "outputs": [
    {
     "name": "stdout",
     "output_type": "stream",
     "text": [
      "PLINK v1.90b3.45 64-bit (13 Jan 2017)      https://www.cog-genomics.org/plink2\n",
      "(C) 2005-2017 Shaun Purcell, Christopher Chang   GNU General Public License v3\n",
      "Logging to /mnt/data/GWAS/output/task2_QC/intermediate_datasets/dataset.b37.hwecontrols.log.\n",
      "Options in effect:\n",
      "  --bfile /mnt/data/GWAS/output/task2_QC/intermediate_datasets/dataset.b37.diffmiss\n",
      "  --hwe 1e-6\n",
      "  --make-bed\n",
      "  --out /mnt/data/GWAS/output/task2_QC/intermediate_datasets/dataset.b37.hwecontrols\n",
      "\n",
      "32127 MB RAM detected; reserving 16063 MB for main workspace.\n",
      "10009588 variants loaded from .bim file.\n",
      "504 people (241 males, 263 females) loaded from .fam.\n",
      "504 phenotype values loaded from .fam.\n",
      "Using 1 thread (no multithreaded calculations invoked).\n",
      "Before main variant filters, 504 founders and 0 nonfounders present.\n",
      "Calculating allele frequencies... 10111213141516171819202122232425262728293031323334353637383940414243444546474849505152535455565758596061626364656667686970717273747576777879808182838485868788899091929394959697989 done.\n",
      "Total genotyping rate is 0.999872.\n",
      "--hwe: 69135 variants removed due to Hardy-Weinberg exact test.\n",
      "9940453 variants and 504 people pass filters and QC.\n",
      "Among remaining phenotypes, 206 are cases and 298 are controls.\n",
      "--make-bed to\n",
      "/mnt/data/GWAS/output/task2_QC/intermediate_datasets/dataset.b37.hwecontrols.bed\n",
      "+\n",
      "/mnt/data/GWAS/output/task2_QC/intermediate_datasets/dataset.b37.hwecontrols.bim\n",
      "+\n",
      "/mnt/data/GWAS/output/task2_QC/intermediate_datasets/dataset.b37.hwecontrols.fam\n",
      "... 101112131415161718192021222324252627282930313233343536373839404142434445464748495051525354555657585960616263646566676869707172737475767778798081828384858687888990919293949596979899done.\n"
     ]
    },
    {
     "name": "stderr",
     "output_type": "stream",
     "text": [
      "Warning: 1174790 het. haploid genotypes present (see\n",
      "/mnt/data/GWAS/output/task2_QC/intermediate_datasets/dataset.b37.hwecontrols.hh\n",
      "); many commands treat these as missing.\n",
      "Warning: Nonmissing nonmale Y chromosome genotype(s) present; many commands\n",
      "treat these as missing.\n",
      "Warning: --hwe observation counts vary by more than 10%, due to the X\n",
      "chromosome.  You may want to use a less stringent --hwe p-value threshold for X\n",
      "chromosome variants.\n"
     ]
    }
   ],
   "source": [
    "%%bash\n",
    "# Remove in the controls all SNPs with a HWE p-value < hwe 1e-6 \n",
    "plink --bfile $intpath/dataset.b37.diffmiss --hwe 1e-6 --make-bed --out $intpath/dataset.b37.hwecontrols\n"
   ]
  },
  {
   "cell_type": "markdown",
   "metadata": {},
   "source": [
    "### Minor allele frequency (MAF)\n",
    "\n",
    "This is the frequency of the least often occurring allele at a specific location. It provides information to differentiate between common and rare variants (MAF<0.05) in the population.\n",
    "\n",
    "Generate a bfile with autosomal SNPs only and delete SNPs with a low minor allele frequency (MAF). The MAF threshold should depend on your sample size, larger samples can use lower MAF thresholds. Respectively, for large (N = 100.000) vs. moderate samples (N = 10000), 0.01 and 0.05 are commonly used as MAF threshold."
   ]
  },
  {
   "cell_type": "code",
   "execution_count": 22,
   "metadata": {
    "ExecuteTime": {
     "end_time": "2020-08-20T09:07:21.880006Z",
     "start_time": "2020-08-20T09:07:12.493821Z"
    }
   },
   "outputs": [
    {
     "name": "stdout",
     "output_type": "stream",
     "text": [
      "PLINK v1.90b3.45 64-bit (13 Jan 2017)      https://www.cog-genomics.org/plink2\n",
      "(C) 2005-2017 Shaun Purcell, Christopher Chang   GNU General Public License v3\n",
      "Logging to /mnt/data/GWAS/output/task2_QC/MAF_check.log.\n",
      "Options in effect:\n",
      "  --bfile /mnt/data/GWAS/output/task2_QC/intermediate_datasets/dataset.b37.hwecontrols\n",
      "  --freq\n",
      "  --out /mnt/data/GWAS/output/task2_QC/MAF_check\n",
      "\n",
      "32127 MB RAM detected; reserving 16063 MB for main workspace.\n",
      "9940453 variants loaded from .bim file.\n",
      "504 people (241 males, 263 females) loaded from .fam.\n",
      "504 phenotype values loaded from .fam.\n",
      "Using 1 thread (no multithreaded calculations invoked).\n",
      "Before main variant filters, 504 founders and 0 nonfounders present.\n",
      "Calculating allele frequencies... 10111213141516171819202122232425262728293031323334353637383940414243444546474849505152535455565758596061626364656667686970717273747576777879808182838485868788899091929394959697989 done.\n",
      "Total genotyping rate is 0.999872.\n",
      "--freq: Allele frequencies (founders only) written to\n",
      "/mnt/data/GWAS/output/task2_QC/MAF_check.frq .\n"
     ]
    },
    {
     "name": "stderr",
     "output_type": "stream",
     "text": [
      "Warning: 1149221 het. haploid genotypes present (see\n",
      "/mnt/data/GWAS/output/task2_QC/MAF_check.hh ); many commands treat these as\n",
      "missing.\n",
      "Warning: Nonmissing nonmale Y chromosome genotype(s) present; many commands\n",
      "treat these as missing.\n"
     ]
    }
   ],
   "source": [
    "%%bash\n",
    "# MAF distribution.\n",
    "plink --bfile $intpath/dataset.b37.hwecontrols --freq --out $path/MAF_check"
   ]
  },
  {
   "cell_type": "code",
   "execution_count": 23,
   "metadata": {
    "ExecuteTime": {
     "end_time": "2020-08-20T09:07:21.983082Z",
     "start_time": "2020-08-20T09:07:21.884892Z"
    }
   },
   "outputs": [
    {
     "name": "stdout",
     "output_type": "stream",
     "text": [
      " CHR           SNP   A1   A2          MAF  NCHROBS\n",
      "   1       1:10177   AC    A       0.4058     1008\n",
      "   1       1:10355    G    A      0.01793     1004\n",
      "   1       1:11008    G    C      0.08829     1008\n",
      "   1       1:11012    G    C      0.08829     1008\n",
      "   1       1:13110    A    G      0.05655     1008\n",
      "   1   rs201725126    G    T       0.1865     1008\n",
      "   1   rs200579949    G    A       0.1865     1008\n",
      "   1       1:13273    C    G       0.1468     1008\n",
      "   1       1:14464    T    A       0.1875     1008\n"
     ]
    }
   ],
   "source": [
    "%%bash\n",
    "head /mnt/data/GWAS/output/task2_QC/MAF_check.frq"
   ]
  },
  {
   "cell_type": "code",
   "execution_count": 24,
   "metadata": {
    "ExecuteTime": {
     "end_time": "2020-08-20T09:07:40.407654Z",
     "start_time": "2020-08-20T09:07:21.987893Z"
    }
   },
   "outputs": [
    {
     "name": "stdout",
     "output_type": "stream",
     "text": [
      "png \n",
      "  2 \n"
     ]
    },
    {
     "data": {
      "image/png": "[encoded data removed]"
     },
     "metadata": {},
     "output_type": "display_data"
    }
   ],
   "source": [
    "%%R\n",
    "# Generate a plot of the MAF distribution.\n",
    "maf_freq_function(\"/mnt/data/GWAS/output/task2_QC/MAF_check.frq\")"
   ]
  },
  {
   "cell_type": "code",
   "execution_count": 27,
   "metadata": {
    "ExecuteTime": {
     "end_time": "2020-08-20T09:11:42.429387Z",
     "start_time": "2020-08-20T09:11:16.969092Z"
    }
   },
   "outputs": [
    {
     "name": "stdout",
     "output_type": "stream",
     "text": [
      "PLINK v1.90b3.45 64-bit (13 Jan 2017)      https://www.cog-genomics.org/plink2\n",
      "(C) 2005-2017 Shaun Purcell, Christopher Chang   GNU General Public License v3\n",
      "Logging to /mnt/data/GWAS/output/task2_QC/intermediate_datasets/dataset.b37.maf5.log.\n",
      "Options in effect:\n",
      "  --bfile /mnt/data/GWAS/output/task2_QC/intermediate_datasets/dataset.b37.hwecontrols\n",
      "  --maf 0.05\n",
      "  --make-bed\n",
      "  --out /mnt/data/GWAS/output/task2_QC/intermediate_datasets/dataset.b37.maf5\n",
      "\n",
      "32127 MB RAM detected; reserving 16063 MB for main workspace.\n",
      "9940453 variants loaded from .bim file.\n",
      "504 people (241 males, 263 females) loaded from .fam.\n",
      "504 phenotype values loaded from .fam.\n",
      "Using 1 thread (no multithreaded calculations invoked).\n",
      "Before main variant filters, 504 founders and 0 nonfounders present.\n",
      "Calculating allele frequencies... 10111213141516171819202122232425262728293031323334353637383940414243444546474849505152535455565758596061626364656667686970717273747576777879808182838485868788899091929394959697989 done.\n",
      "Total genotyping rate is 0.999872.\n",
      "2864366 variants removed due to minor allele threshold(s)\n",
      "(--maf/--max-maf/--mac/--max-mac).\n",
      "7076087 variants and 504 people pass filters and QC.\n",
      "Among remaining phenotypes, 206 are cases and 298 are controls.\n",
      "--make-bed to\n",
      "/mnt/data/GWAS/output/task2_QC/intermediate_datasets/dataset.b37.maf5.bed +\n",
      "/mnt/data/GWAS/output/task2_QC/intermediate_datasets/dataset.b37.maf5.bim +\n",
      "/mnt/data/GWAS/output/task2_QC/intermediate_datasets/dataset.b37.maf5.fam ...\n",
      "101112131415161718192021222324252627282930313233343536373839404142434445464748495051525354555657585960616263646566676869707172737475767778798081828384858687888990919293949596979899done.\n"
     ]
    },
    {
     "name": "stderr",
     "output_type": "stream",
     "text": [
      "Warning: 1149221 het. haploid genotypes present (see\n",
      "/mnt/data/GWAS/output/task2_QC/intermediate_datasets/dataset.b37.maf5.hh );\n",
      "many commands treat these as missing.\n",
      "Warning: Nonmissing nonmale Y chromosome genotype(s) present; many commands\n",
      "treat these as missing.\n"
     ]
    }
   ],
   "source": [
    "%%bash\n",
    "# Remove SNPs with a low MAF frequency.\n",
    "plink --bfile $intpath/dataset.b37.hwecontrols --maf 0.05 --make-bed --out $intpath/dataset.b37.maf5\n",
    "# A conventional MAF threshold for a regular GWAS is between 0.01 or 0.05, depending on sample size."
   ]
  },
  {
   "cell_type": "markdown",
   "metadata": {},
   "source": [
    "**2864366 variants removed due to minor allele 0.05 threshold**"
   ]
  },
  {
   "cell_type": "markdown",
   "metadata": {},
   "source": [
    "## Exclusion of individuals"
   ]
  },
  {
   "cell_type": "markdown",
   "metadata": {},
   "source": [
    "### Missingness\n",
    "\n",
    "Individual‐level missingness: This is the number of SNPs that is missing for a specific individual. High levels\n",
    "of missingness can be an indication of poor DNA quality or technical problems."
   ]
  },
  {
   "cell_type": "code",
   "execution_count": 28,
   "metadata": {
    "ExecuteTime": {
     "end_time": "2020-08-20T09:11:42.455240Z",
     "start_time": "2020-08-20T09:11:42.436226Z"
    }
   },
   "outputs": [
    {
     "data": {
      "image/png": "[encoded data removed]"
     },
     "metadata": {},
     "output_type": "display_data"
    }
   ],
   "source": [
    "%%R\n",
    "# Generate plots to visualize the missingness results.\n",
    "# 1st parameter: optional - full path to missing data report - with no extension. (Same as --out parameter for previous plink command)\n",
    "# If not provided it looks for plink.imiss and plink.lmiss in the current directory.\n",
    "# 2nd parameter: option - boolean indicating whereas plots are sent to standard output \n",
    "# 3rd parameter: option - boolean indicating whereas plots are stored as pdf. (In the same directory as the input file)\n",
    "ind_missingness_function(misspath=\"/mnt/data/GWAS/output/task2_QC/plink\",pdf=FALSE)"
   ]
  },
  {
   "cell_type": "code",
   "execution_count": 29,
   "metadata": {
    "ExecuteTime": {
     "end_time": "2020-08-20T09:12:33.274584Z",
     "start_time": "2020-08-20T09:12:09.747182Z"
    }
   },
   "outputs": [
    {
     "name": "stdout",
     "output_type": "stream",
     "text": [
      "PLINK v1.90b3.45 64-bit (13 Jan 2017)      https://www.cog-genomics.org/plink2\n",
      "(C) 2005-2017 Shaun Purcell, Christopher Chang   GNU General Public License v3\n",
      "Logging to /mnt/data/GWAS/output/task2_QC/intermediate_datasets/dataset.b37.imiss.log.\n",
      "Options in effect:\n",
      "  --bfile /mnt/data/GWAS/output/task2_QC/intermediate_datasets/dataset.b37.maf5\n",
      "  --make-bed\n",
      "  --mind 0.03\n",
      "  --out /mnt/data/GWAS/output/task2_QC/intermediate_datasets/dataset.b37.imiss\n",
      "\n",
      "32127 MB RAM detected; reserving 16063 MB for main workspace.\n",
      "7076087 variants loaded from .bim file.\n",
      "504 people (241 males, 263 females) loaded from .fam.\n",
      "504 phenotype values loaded from .fam.\n",
      "1 person removed due to missing genotype data (--mind).\n",
      "ID written to\n",
      "/mnt/data/GWAS/output/task2_QC/intermediate_datasets/dataset.b37.imiss.irem .\n",
      "Using 1 thread (no multithreaded calculations invoked).\n",
      "Before main variant filters, 503 founders and 0 nonfounders present.\n",
      "Calculating allele frequencies... 10111213141516171819202122232425262728293031323334353637383940414243444546474849505152535455565758596061626364656667686970717273747576777879808182838485868788899091929394959697989 done.\n",
      "Total genotyping rate in remaining samples is 0.999931.\n",
      "7076087 variants and 503 people pass filters and QC.\n",
      "Among remaining phenotypes, 206 are cases and 297 are controls.\n",
      "--make-bed to\n",
      "/mnt/data/GWAS/output/task2_QC/intermediate_datasets/dataset.b37.imiss.bed +\n",
      "/mnt/data/GWAS/output/task2_QC/intermediate_datasets/dataset.b37.imiss.bim +\n",
      "/mnt/data/GWAS/output/task2_QC/intermediate_datasets/dataset.b37.imiss.fam ...\n",
      "101112131415161718192021222324252627282930313233343536373839404142434445464748495051525354555657585960616263646566676869707172737475767778798081828384858687888990919293949596979899done.\n"
     ]
    },
    {
     "name": "stderr",
     "output_type": "stream",
     "text": [
      "Warning: 1073967 het. haploid genotypes present (see\n",
      "/mnt/data/GWAS/output/task2_QC/intermediate_datasets/dataset.b37.imiss.hh );\n",
      "many commands treat these as missing.\n"
     ]
    }
   ],
   "source": [
    "%%bash\n",
    "# Delete individuals with missingness >0.03\n",
    "plink --bfile $intpath/dataset.b37.maf5 --mind 0.03 --make-bed --out $intpath/dataset.b37.imiss\n"
   ]
  },
  {
   "cell_type": "markdown",
   "metadata": {},
   "source": [
    "### Heterozygosity\n",
    "\n",
    "This is the carrying of two different alleles of a specific SNP. The heterozygosity rate of an individual is the proportion of heterozygous genotypes. High levels of heterozygosity within an individual might be an indication of low sample quality whereas low levels of heterozygosity may be due to inbreeding.\n",
    "\n",
    "Generate a plot of the distribution of the heterozygosity rate of your subjects. And remove individuals with a heterozygosity rate deviating more than 3 sd from the mean."
   ]
  },
  {
   "cell_type": "code",
   "execution_count": 30,
   "metadata": {
    "ExecuteTime": {
     "end_time": "2020-08-20T09:12:43.739745Z",
     "start_time": "2020-08-20T09:12:33.281675Z"
    }
   },
   "outputs": [
    {
     "name": "stdout",
     "output_type": "stream",
     "text": [
      "PLINK v1.90b3.45 64-bit (13 Jan 2017)      https://www.cog-genomics.org/plink2\n",
      "(C) 2005-2017 Shaun Purcell, Christopher Chang   GNU General Public License v3\n",
      "Logging to /mnt/data/GWAS/output/task2_QC/indepSNP.log.\n",
      "Options in effect:\n",
      "  --bfile /mnt/data/GWAS/output/task2_QC/intermediate_datasets/dataset.b37.imiss\n",
      "  --exclude /mnt/data/GWAS/ref_files/inversion.txt\n",
      "  --indep-pairwise 50 5 0.2\n",
      "  --out /mnt/data/GWAS/output/task2_QC/indepSNP\n",
      "  --range\n",
      "\n",
      "Note: --range flag deprecated.  Use e.g. '--extract range [filename]'.\n",
      "32127 MB RAM detected; reserving 16063 MB for main workspace.\n",
      "7076087 variants loaded from .bim file.\n",
      "503 people (240 males, 263 females) loaded from .fam.\n",
      "503 phenotype values loaded from .fam.\n",
      "--exclude range: 71281 variants excluded.\n",
      "--exclude range: 7004806 variants remaining.\n",
      "Using 1 thread (no multithreaded calculations invoked).\n",
      "Before main variant filters, 503 founders and 0 nonfounders present.\n",
      "Calculating allele frequencies... 10111213141516171819202122232425262728293031323334353637383940414243444546474849505152535455565758596061626364656667686970717273747576777879808182838485868788899091929394959697989 done.\n",
      "Total genotyping rate is 0.999931.\n",
      "7004806 variants and 503 people pass filters and QC.\n",
      "Among remaining phenotypes, 206 are cases and 297 are controls.\n",
      "Pruned 488262 variants from chromosome 1, leaving 36452.\n",
      "Pruned 532290 variants from chromosome 2, leaving 36650.\n",
      "Pruned 453889 variants from chromosome 3, leaving 31366.\n",
      "Pruned 467266 variants from chromosome 4, leaving 31119.\n",
      "Pruned 404386 variants from chromosome 5, leaving 27655.\n",
      "Pruned 391556 variants from chromosome 6, leaving 26799.\n",
      "Pruned 378768 variants from chromosome 7, leaving 26492.\n",
      "Pruned 334236 variants from chromosome 8, leaving 22626.\n",
      "Pruned 275421 variants from chromosome 9, leaving 20474.\n",
      "Pruned 330060 variants from chromosome 10, leaving 23441.\n",
      "Pruned 321624 variants from chromosome 11, leaving 22346.\n",
      "Pruned 308992 variants from chromosome 12, leaving 22595.\n",
      "Pruned 238189 variants from chromosome 13, leaving 16711.\n",
      "Pruned 209069 variants from chromosome 14, leaving 15383.\n",
      "Pruned 181524 variants from chromosome 15, leaving 14271.\n",
      "Pruned 194034 variants from chromosome 16, leaving 15175.\n",
      "Pruned 164302 variants from chromosome 17, leaving 13958.\n",
      "Pruned 181288 variants from chromosome 18, leaving 13531.\n",
      "Pruned 151648 variants from chromosome 19, leaving 12579.\n",
      "Pruned 140418 variants from chromosome 20, leaving 10894.\n",
      "Pruned 91339 variants from chromosome 21, leaving 6784.\n",
      "Pruned 89147 variants from chromosome 22, leaving 7562.\n",
      "Pruned 203290 variants from chromosome 23, leaving 18945.\n",
      "Pruning complete.  6530998 of 7004806 variants removed.\n",
      "Marker lists written to /mnt/data/GWAS/output/task2_QC/indepSNP.prune.in and\n",
      "/mnt/data/GWAS/output/task2_QC/indepSNP.prune.out .\n"
     ]
    },
    {
     "name": "stderr",
     "output_type": "stream",
     "text": [
      "Warning: 1073967 het. haploid genotypes present (see\n",
      "/mnt/data/GWAS/output/task2_QC/indepSNP.hh ); many commands treat these as\n",
      "missing.\n"
     ]
    }
   ],
   "source": [
    "%%bash\n",
    "# Checks for heterozygosity are performed on a set of SNPs which are not highly correlated.\n",
    "# Therefore, to generate a list of non-(highly)correlated SNPs, we exclude high inversion regions (inversion.txt [High LD regions]) and prune the SNPs using the command --indep-pairwise.\n",
    "# The parameters 50 5 0.2 stand respectively for: the window size, the number of SNPs to shift the window at each step, and the multiple correlation coefficient for a SNP being regressed on all other SNPs simultaneously.\n",
    "plink --bfile $intpath/dataset.b37.imiss --exclude /mnt/data/GWAS/ref_files/inversion.txt --range --indep-pairwise 50 5 0.2 --out $path/indepSNP\n",
    "# Note, don't delete the file indepSNP.prune.in, we will use this file in later steps of the tutorial."
   ]
  },
  {
   "cell_type": "code",
   "execution_count": 31,
   "metadata": {
    "ExecuteTime": {
     "end_time": "2020-08-20T09:16:52.447880Z",
     "start_time": "2020-08-20T09:16:49.739432Z"
    }
   },
   "outputs": [
    {
     "name": "stdout",
     "output_type": "stream",
     "text": [
      "PLINK v1.90b3.45 64-bit (13 Jan 2017)      https://www.cog-genomics.org/plink2\n",
      "(C) 2005-2017 Shaun Purcell, Christopher Chang   GNU General Public License v3\n",
      "Logging to /mnt/data/GWAS/output/task2_QC/R_check.log.\n",
      "Options in effect:\n",
      "  --bfile /mnt/data/GWAS/output/task2_QC/intermediate_datasets/dataset.b37.imiss\n",
      "  --extract /mnt/data/GWAS/output/task2_QC/indepSNP.prune.in\n",
      "  --het\n",
      "  --out /mnt/data/GWAS/output/task2_QC/R_check\n",
      "\n",
      "32127 MB RAM detected; reserving 16063 MB for main workspace.\n",
      "7076087 variants loaded from .bim file.\n",
      "503 people (240 males, 263 females) loaded from .fam.\n",
      "503 phenotype values loaded from .fam.\n",
      "--extract: 473808 variants remaining.\n",
      "Using 1 thread (no multithreaded calculations invoked).\n",
      "Before main variant filters, 503 founders and 0 nonfounders present.\n",
      "Calculating allele frequencies... 10111213141516171819202122232425262728293031323334353637383940414243444546474849505152535455565758596061626364656667686970717273747576777879808182838485868788899091929394959697989 done.\n",
      "Total genotyping rate is 0.999881.\n",
      "473808 variants and 503 people pass filters and QC.\n",
      "Among remaining phenotypes, 206 are cases and 297 are controls.\n",
      "--het: 454863 variants scanned, report written to\n",
      "/mnt/data/GWAS/output/task2_QC/R_check.het .\n"
     ]
    },
    {
     "name": "stderr",
     "output_type": "stream",
     "text": [
      "Warning: 118057 het. haploid genotypes present (see\n",
      "/mnt/data/GWAS/output/task2_QC/R_check.hh ); many commands treat these as\n",
      "missing.\n"
     ]
    }
   ],
   "source": [
    "%%bash\n",
    "# This file contains your pruned data set in order to plot the heterozygosity rate distribution in the next step\n",
    "plink --bfile $intpath/dataset.b37.imiss --extract $path/indepSNP.prune.in --het --out $path/R_check"
   ]
  },
  {
   "cell_type": "code",
   "execution_count": 32,
   "metadata": {
    "ExecuteTime": {
     "end_time": "2020-08-20T09:16:52.705565Z",
     "start_time": "2020-08-20T09:16:52.452763Z"
    }
   },
   "outputs": [
    {
     "name": "stdout",
     "output_type": "stream",
     "text": [
      "png \n",
      "  2 \n"
     ]
    },
    {
     "data": {
      "image/png": "[encoded data removed]"
     },
     "metadata": {},
     "output_type": "display_data"
    }
   ],
   "source": [
    "%%R\n",
    "# Plot of the heterozygosity rate distribution\n",
    "het_function(\"/mnt/data/GWAS/output/task2_QC/R_check.het\")"
   ]
  },
  {
   "cell_type": "code",
   "execution_count": 33,
   "metadata": {
    "ExecuteTime": {
     "end_time": "2020-08-20T09:16:52.815109Z",
     "start_time": "2020-08-20T09:16:52.709635Z"
    }
   },
   "outputs": [],
   "source": [
    "%%R\n",
    "# The following code generates a list of individuals who deviate more than 3 standard deviations from the heterozygosity rate mean.\n",
    "# This outputs the file fail-het-qc.txt\n",
    "het_outliers_list_function(\"/mnt/data/GWAS/output/task2_QC/R_check.het\")"
   ]
  },
  {
   "cell_type": "code",
   "execution_count": 34,
   "metadata": {
    "ExecuteTime": {
     "end_time": "2020-08-20T09:16:53.590401Z",
     "start_time": "2020-08-20T09:16:53.493262Z"
    }
   },
   "outputs": [
    {
     "name": "stdout",
     "output_type": "stream",
     "text": [
      "3 /mnt/data/GWAS/output/task2_QC/fail-het-qc.txt\n",
      "\"FID\" \"IID\" \"O.HOM.\" \"E.HOM.\" \"N.NM.\" \"F\" \"HET_RATE\" \"HET_DST\"\n",
      "\"HGX01756\" \"HGX01756\" 308976 319100 454785 -0.07463 0.320610838088327 3.09456406687962\n",
      "\"HGX01761\" \"HGX01761\" 307925 319100 454803 -0.08247 0.32294861731343 3.53769820197418\n"
     ]
    }
   ],
   "source": [
    "%%bash\n",
    "wc -l $path/fail-het-qc.txt\n",
    "cat $path/fail-het-qc.txt"
   ]
  },
  {
   "cell_type": "code",
   "execution_count": 35,
   "metadata": {
    "ExecuteTime": {
     "end_time": "2020-08-20T09:17:35.746047Z",
     "start_time": "2020-08-20T09:17:20.693854Z"
    }
   },
   "outputs": [
    {
     "name": "stdout",
     "output_type": "stream",
     "text": [
      "PLINK v1.90b3.45 64-bit (13 Jan 2017)      https://www.cog-genomics.org/plink2\n",
      "(C) 2005-2017 Shaun Purcell, Christopher Chang   GNU General Public License v3\n",
      "Logging to /mnt/data/GWAS/output/task2_QC/intermediate_datasets/dataset.b37.het.log.\n",
      "Options in effect:\n",
      "  --bfile /mnt/data/GWAS/output/task2_QC/intermediate_datasets/dataset.b37.imiss\n",
      "  --make-bed\n",
      "  --out /mnt/data/GWAS/output/task2_QC/intermediate_datasets/dataset.b37.het\n",
      "  --remove /mnt/data/GWAS/output/task2_QC/het_fail_ind.txt\n",
      "\n",
      "32127 MB RAM detected; reserving 16063 MB for main workspace.\n",
      "7076087 variants loaded from .bim file.\n",
      "503 people (240 males, 263 females) loaded from .fam.\n",
      "503 phenotype values loaded from .fam.\n",
      "--remove: 501 people remaining.\n",
      "Using 1 thread (no multithreaded calculations invoked).\n",
      "Before main variant filters, 501 founders and 0 nonfounders present.\n",
      "Calculating allele frequencies... 10111213141516171819202122232425262728293031323334353637383940414243444546474849505152535455565758596061626364656667686970717273747576777879808182838485868788899091929394959697989 done.\n",
      "Total genotyping rate in remaining samples is 0.999931.\n",
      "7076087 variants and 501 people pass filters and QC.\n",
      "Among remaining phenotypes, 206 are cases and 295 are controls.\n",
      "--make-bed to\n",
      "/mnt/data/GWAS/output/task2_QC/intermediate_datasets/dataset.b37.het.bed +\n",
      "/mnt/data/GWAS/output/task2_QC/intermediate_datasets/dataset.b37.het.bim +\n",
      "/mnt/data/GWAS/output/task2_QC/intermediate_datasets/dataset.b37.het.fam ...\n",
      "101112131415161718192021222324252627282930313233343536373839404142434445464748495051525354555657585960616263646566676869707172737475767778798081828384858687888990919293949596979899done.\n"
     ]
    },
    {
     "name": "stderr",
     "output_type": "stream",
     "text": [
      "Warning: 1064087 het. haploid genotypes present (see\n",
      "/mnt/data/GWAS/output/task2_QC/intermediate_datasets/dataset.b37.het.hh ); many\n",
      "commands treat these as missing.\n"
     ]
    }
   ],
   "source": [
    "%%bash\n",
    "# Adapt this file to make it compatible for PLINK, by removing all quotation marks from the file and selecting only the first two columns.\n",
    "sed 's/\"// g' $path/fail-het-qc.txt | awk '{print$1, $2}'> $path/het_fail_ind.txt\n",
    "\n",
    "# Remove heterozygosity rate outliers.\n",
    "plink --bfile $intpath/dataset.b37.imiss --remove $path/het_fail_ind.txt --make-bed --out $intpath/dataset.b37.het\n"
   ]
  },
  {
   "cell_type": "markdown",
   "metadata": {},
   "source": [
    "### Sex discrepancy\n",
    "\n",
    "This is the difference between the assigned sex and the sex determined based on the genotype. A discrepancy likely points to sample mix‐ups in the lab. Note, this test can only be conducted when SNPs \n",
    "on the sex chromosomes (X and Y) have been assessed."
   ]
  },
  {
   "cell_type": "code",
   "execution_count": 36,
   "metadata": {
    "ExecuteTime": {
     "end_time": "2020-08-20T09:17:58.647316Z",
     "start_time": "2020-08-20T09:17:35.753739Z"
    }
   },
   "outputs": [
    {
     "name": "stdout",
     "output_type": "stream",
     "text": [
      "PLINK v1.90b3.45 64-bit (13 Jan 2017)      https://www.cog-genomics.org/plink2\n",
      "(C) 2005-2017 Shaun Purcell, Christopher Chang   GNU General Public License v3\n",
      "Logging to /mnt/data/GWAS/output/task2_QC/intermediate_datasets/dataset.b37.splitted.log.\n",
      "Options in effect:\n",
      "  --bfile /mnt/data/GWAS/output/task2_QC/intermediate_datasets/dataset.b37.het\n",
      "  --make-bed\n",
      "  --out /mnt/data/GWAS/output/task2_QC/intermediate_datasets/dataset.b37.splitted\n",
      "  --split-x 2699520 154931044 no-fail\n",
      "\n",
      "32127 MB RAM detected; reserving 16063 MB for main workspace.\n",
      "7076087 variants loaded from .bim file.\n",
      "501 people (238 males, 263 females) loaded from .fam.\n",
      "501 phenotype values loaded from .fam.\n",
      "Using 1 thread (no multithreaded calculations invoked).\n",
      "Before main variant filters, 501 founders and 0 nonfounders present.\n",
      "Calculating allele frequencies... 10111213141516171819202122232425262728293031323334353637383940414243444546474849505152535455565758596061626364656667686970717273747576777879808182838485868788899091929394959697989 done.\n",
      "Total genotyping rate is 0.999931.\n",
      "7076087 variants and 501 people pass filters and QC.\n",
      "Among remaining phenotypes, 206 are cases and 295 are controls.\n",
      "--split-x: 12889 chromosome codes changed.\n",
      "--make-bed to\n",
      "/mnt/data/GWAS/output/task2_QC/intermediate_datasets/dataset.b37.splitted.bed +\n",
      "/mnt/data/GWAS/output/task2_QC/intermediate_datasets/dataset.b37.splitted.bim +\n",
      "/mnt/data/GWAS/output/task2_QC/intermediate_datasets/dataset.b37.splitted.fam\n",
      "... 1010111112121313141415151616171718181919202021212222232324242525262627272828292930303131323233333434353536363737383839394040414142424343444445454646474748484949505051515252535354545555565657575858595960606161626263636464656566666767686869697070717172727373747475757676777778787979808081818282838384848585868687878888898990909191929293939494959596969797989899done.\n",
      "PLINK v1.90b3.45 64-bit (13 Jan 2017)      https://www.cog-genomics.org/plink2\n",
      "(C) 2005-2017 Shaun Purcell, Christopher Chang   GNU General Public License v3\n",
      "Logging to /mnt/data/GWAS/output/task2_QC/plink.log.\n",
      "Options in effect:\n",
      "  --bfile /mnt/data/GWAS/output/task2_QC/intermediate_datasets/dataset.b37.splitted\n",
      "  --check-sex\n",
      "  --out /mnt/data/GWAS/output/task2_QC/plink\n",
      "\n",
      "32127 MB RAM detected; reserving 16063 MB for main workspace.\n",
      "7076087 variants loaded from .bim file.\n",
      "501 people (238 males, 263 females) loaded from .fam.\n",
      "501 phenotype values loaded from .fam.\n",
      "Using 1 thread (no multithreaded calculations invoked).\n",
      "Before main variant filters, 501 founders and 0 nonfounders present.\n",
      "Calculating allele frequencies... 10111213141516171819202122232425262728293031323334353637383940414243444546474849505152535455565758596061626364656667686970717273747576777879808182838485868788899091929394959697989 done.\n",
      "Total genotyping rate is 0.999931.\n",
      "7076087 variants and 501 people pass filters and QC.\n",
      "Among remaining phenotypes, 206 are cases and 295 are controls.\n",
      "--check-sex: 209346 Xchr and 0 Ychr variant(s) scanned, 4 problems detected.\n",
      "Report written to /mnt/data/GWAS/output/task2_QC/plink.sexcheck .\n"
     ]
    },
    {
     "name": "stderr",
     "output_type": "stream",
     "text": [
      "Warning: 1064087 het. haploid genotypes present (see\n",
      "/mnt/data/GWAS/output/task2_QC/intermediate_datasets/dataset.b37.splitted.hh );\n",
      "many commands treat these as missing.\n",
      "Warning: 842 het. haploid genotypes present (see\n",
      "/mnt/data/GWAS/output/task2_QC/plink.hh ); many commands treat these as\n",
      "missing.\n"
     ]
    }
   ],
   "source": [
    "%%bash\n",
    "# Subjects who were a priori determined as females must have a F value of <0.2, and subjects who were a priori determined as males must have a F value >0.8. This F value is based on the X chromosome inbreeding (homozygosity) estimate.\n",
    "# Subjects who do not fulfil these requirements are flagged \"PROBLEM\" by PLINK.\n",
    "# If your DB has been already splitted, skip the first step\n",
    "plink --bfile $intpath/dataset.b37.het --split-x 2699520 154931044 no-fail --make-bed --out $intpath/dataset.b37.splitted\n",
    "#plink --bfile $intpath/dataset.b37.imiss --check-sex --out $path/plink\n",
    "plink --bfile $intpath/dataset.b37.splitted --check-sex --out $path/plink"
   ]
  },
  {
   "cell_type": "markdown",
   "metadata": {},
   "source": [
    "**4 problems detected**"
   ]
  },
  {
   "cell_type": "code",
   "execution_count": 37,
   "metadata": {
    "ExecuteTime": {
     "end_time": "2020-08-20T09:19:35.786735Z",
     "start_time": "2020-08-20T09:19:35.661488Z"
    }
   },
   "outputs": [
    {
     "name": "stdout",
     "output_type": "stream",
     "text": [
      "png \n",
      "  2 \n"
     ]
    },
    {
     "data": {
      "image/png": "[encoded data removed]"
     },
     "metadata": {},
     "output_type": "display_data"
    },
    {
     "data": {
      "image/png": "[encoded data removed]"
     },
     "metadata": {},
     "output_type": "display_data"
    },
    {
     "data": {
      "image/png": "[encoded data removed]"
     },
     "metadata": {},
     "output_type": "display_data"
    }
   ],
   "source": [
    "%%R\n",
    "# Generate plots to visualize the sex-check results.\n",
    "gender_check_function(\"/mnt/data/GWAS/output/task2_QC/plink.sexcheck\")"
   ]
  },
  {
   "cell_type": "code",
   "execution_count": 39,
   "metadata": {
    "ExecuteTime": {
     "end_time": "2020-08-20T09:21:35.962485Z",
     "start_time": "2020-08-20T09:21:35.856150Z"
    }
   },
   "outputs": [
    {
     "name": "stdout",
     "output_type": "stream",
     "text": [
      "  HGX00361   HGX00361            2            0      PROBLEM       0.6966\n",
      "  NAX20506   NAX20506            2            1      PROBLEM       0.8885\n",
      "  NAX20530   NAX20530            2            1      PROBLEM       0.8627\n",
      "  NAX20533   NAX20533            2            0      PROBLEM       0.5048\n"
     ]
    }
   ],
   "source": [
    "%%bash\n",
    "# Individuals with sex discrepancy.\n",
    "grep \"PROBLEM\" $path/plink.sexcheck"
   ]
  },
  {
   "cell_type": "code",
   "execution_count": 38,
   "metadata": {
    "ExecuteTime": {
     "end_time": "2020-08-20T09:20:24.127962Z",
     "start_time": "2020-08-20T09:20:03.334498Z"
    }
   },
   "outputs": [
    {
     "name": "stdout",
     "output_type": "stream",
     "text": [
      "HGX00361 HGX00361\n",
      "NAX20506 NAX20506\n",
      "NAX20530 NAX20530\n",
      "NAX20533 NAX20533\n",
      "PLINK v1.90b3.45 64-bit (13 Jan 2017)      https://www.cog-genomics.org/plink2\n",
      "(C) 2005-2017 Shaun Purcell, Christopher Chang   GNU General Public License v3\n",
      "Logging to /mnt/data/GWAS/output/task2_QC/intermediate_datasets/dataset.b37.sex.log.\n",
      "Options in effect:\n",
      "  --bfile /mnt/data/GWAS/output/task2_QC/intermediate_datasets/dataset.b37.het\n",
      "  --make-bed\n",
      "  --out /mnt/data/GWAS/output/task2_QC/intermediate_datasets/dataset.b37.sex\n",
      "  --remove /mnt/data/GWAS/output/task2_QC/sex_discrepancy.txt\n",
      "\n",
      "32127 MB RAM detected; reserving 16063 MB for main workspace.\n",
      "7076087 variants loaded from .bim file.\n",
      "501 people (238 males, 263 females) loaded from .fam.\n",
      "501 phenotype values loaded from .fam.\n",
      "--remove: 497 people remaining.\n",
      "Using 1 thread (no multithreaded calculations invoked).\n",
      "Before main variant filters, 497 founders and 0 nonfounders present.\n",
      "Calculating allele frequencies... 10111213141516171819202122232425262728293031323334353637383940414243444546474849505152535455565758596061626364656667686970717273747576777879808182838485868788899091929394959697989 done.\n",
      "Total genotyping rate in remaining samples is 0.999931.\n",
      "7076087 variants and 497 people pass filters and QC.\n",
      "Among remaining phenotypes, 203 are cases and 294 are controls.\n",
      "--make-bed to\n",
      "/mnt/data/GWAS/output/task2_QC/intermediate_datasets/dataset.b37.sex.bed +\n",
      "/mnt/data/GWAS/output/task2_QC/intermediate_datasets/dataset.b37.sex.bim +\n",
      "/mnt/data/GWAS/output/task2_QC/intermediate_datasets/dataset.b37.sex.fam ...\n",
      "101112131415161718192021222324252627282930313233343536373839404142434445464748495051525354555657585960616263646566676869707172737475767778798081828384858687888990919293949596979899done.\n"
     ]
    },
    {
     "name": "stderr",
     "output_type": "stream",
     "text": [
      "Warning: 1064087 het. haploid genotypes present (see\n",
      "/mnt/data/GWAS/output/task2_QC/intermediate_datasets/dataset.b37.sex.hh ); many\n",
      "commands treat these as missing.\n"
     ]
    }
   ],
   "source": [
    "%%bash\n",
    "# Delete individuals with sex discrepancy.\n",
    "grep \"PROBLEM\" $path/plink.sexcheck| awk '{print$1,$2}'> $path/sex_discrepancy.txt # This command generates a list of individuals with the status PROBLEM.\n",
    "\n",
    "# This command removes the list of individuals with the status PROBLEM.\n",
    "plink --bfile $intpath/dataset.b37.het --remove $path/sex_discrepancy.txt --make-bed --out $intpath/dataset.b37.sex "
   ]
  },
  {
   "cell_type": "markdown",
   "metadata": {},
   "source": [
    "### Relatedness\n",
    "\n",
    "This indicates how strongly a pair of individuals is genetically related. A conventional GWAS assumes that all subjects are unrelated. The inclusion of relatives could lead to biased estimations of standard errors of SNP effect sizes.\n",
    "\n",
    "We are going to exclude all individuals above the pihat threshold of 0.1875."
   ]
  },
  {
   "cell_type": "code",
   "execution_count": 40,
   "metadata": {
    "ExecuteTime": {
     "end_time": "2020-08-20T09:22:10.875335Z",
     "start_time": "2020-08-20T09:22:06.065914Z"
    }
   },
   "outputs": [
    {
     "name": "stdout",
     "output_type": "stream",
     "text": [
      "PLINK v1.90b3.45 64-bit (13 Jan 2017)      https://www.cog-genomics.org/plink2\n",
      "(C) 2005-2017 Shaun Purcell, Christopher Chang   GNU General Public License v3\n",
      "Logging to /mnt/data/GWAS/output/task2_QC/checkIBS.log.\n",
      "Options in effect:\n",
      "  --bfile /mnt/data/GWAS/output/task2_QC/intermediate_datasets/dataset.b37.sex\n",
      "  --extract /mnt/data/GWAS/output/task2_QC/indepSNP.prune.in\n",
      "  --genome\n",
      "  --missing\n",
      "  --out /mnt/data/GWAS/output/task2_QC/checkIBS\n",
      "\n",
      "32127 MB RAM detected; reserving 16063 MB for main workspace.\n",
      "7076087 variants loaded from .bim file.\n",
      "497 people (238 males, 259 females) loaded from .fam.\n",
      "497 phenotype values loaded from .fam.\n",
      "--extract: 473808 variants remaining.\n",
      "Using up to 8 threads (change this with --threads).\n",
      "Before main variant filters, 497 founders and 0 nonfounders present.\n",
      "Calculating allele frequencies... 10111213141516171819202122232425262728293031323334353637383940414243444546474849505152535455565758596061626364656667686970717273747576777879808182838485868788899091929394959697989 done.\n",
      "Total genotyping rate is 0.999881.\n",
      "--missing: Sample missing data report written to\n",
      "/mnt/data/GWAS/output/task2_QC/checkIBS.imiss, and variant-based missing data\n",
      "report written to /mnt/data/GWAS/output/task2_QC/checkIBS.lmiss.\n",
      "473808 variants and 497 people pass filters and QC.\n",
      "Among remaining phenotypes, 203 are cases and 294 are controls.\n",
      "Excluding 18945 variants on non-autosomes from IBD calculation.\n",
      "IBD calculations complete.  \n",
      "Finished writing /mnt/data/GWAS/output/task2_QC/checkIBS.genome .\n"
     ]
    },
    {
     "name": "stderr",
     "output_type": "stream",
     "text": [
      "Warning: 117032 het. haploid genotypes present (see\n",
      "/mnt/data/GWAS/output/task2_QC/checkIBS.hh ); many commands treat these as\n",
      "missing.\n"
     ]
    }
   ],
   "source": [
    "%%bash\n",
    "#Generate pair-wise IBS for all pairs of individuals in the study based on the reduced marker set.\n",
    "plink --bfile $intpath/dataset.b37.sex  --extract $path/indepSNP.prune.in --genome --out $path/checkIBS --missing"
   ]
  },
  {
   "cell_type": "code",
   "execution_count": 41,
   "metadata": {
    "ExecuteTime": {
     "end_time": "2020-08-20T09:22:15.575408Z",
     "start_time": "2020-08-20T09:22:10.879957Z"
    }
   },
   "outputs": [
    {
     "name": "stdout",
     "output_type": "stream",
     "text": [
      "PLINK v1.90b3.45 64-bit (13 Jan 2017)      https://www.cog-genomics.org/plink2\n",
      "(C) 2005-2017 Shaun Purcell, Christopher Chang   GNU General Public License v3\n",
      "Logging to /mnt/data/GWAS/output/task2_QC/pihat_min.log.\n",
      "Options in effect:\n",
      "  --bfile /mnt/data/GWAS/output/task2_QC/intermediate_datasets/dataset.b37.sex\n",
      "  --extract /mnt/data/GWAS/output/task2_QC/indepSNP.prune.in\n",
      "  --genome\n",
      "  --min 0.1875\n",
      "  --missing\n",
      "  --out /mnt/data/GWAS/output/task2_QC/pihat_min\n",
      "\n",
      "32127 MB RAM detected; reserving 16063 MB for main workspace.\n",
      "7076087 variants loaded from .bim file.\n",
      "497 people (238 males, 259 females) loaded from .fam.\n",
      "497 phenotype values loaded from .fam.\n",
      "--extract: 473808 variants remaining.\n",
      "Using up to 8 threads (change this with --threads).\n",
      "Before main variant filters, 497 founders and 0 nonfounders present.\n",
      "Calculating allele frequencies... 10111213141516171819202122232425262728293031323334353637383940414243444546474849505152535455565758596061626364656667686970717273747576777879808182838485868788899091929394959697989 done.\n",
      "Total genotyping rate is 0.999881.\n",
      "--missing: Sample missing data report written to\n",
      "/mnt/data/GWAS/output/task2_QC/pihat_min.imiss, and variant-based missing data\n",
      "report written to /mnt/data/GWAS/output/task2_QC/pihat_min.lmiss.\n",
      "473808 variants and 497 people pass filters and QC.\n",
      "Among remaining phenotypes, 203 are cases and 294 are controls.\n",
      "Excluding 18945 variants on non-autosomes from IBD calculation.\n",
      "IBD calculations complete.  \n",
      "Finished writing /mnt/data/GWAS/output/task2_QC/pihat_min.genome .\n"
     ]
    },
    {
     "name": "stderr",
     "output_type": "stream",
     "text": [
      "Warning: 117032 het. haploid genotypes present (see\n",
      "/mnt/data/GWAS/output/task2_QC/pihat_min.hh ); many commands treat these as\n",
      "missing.\n"
     ]
    }
   ],
   "source": [
    "%%bash\n",
    "# Write only IBS for related individuals (pihat>0.1875)\n",
    "plink --bfile $intpath/dataset.b37.sex  --min 0.1875 --extract $path/indepSNP.prune.in --genome --out $path/pihat_min --missing"
   ]
  },
  {
   "cell_type": "code",
   "execution_count": 42,
   "metadata": {
    "ExecuteTime": {
     "end_time": "2020-08-20T09:22:15.725342Z",
     "start_time": "2020-08-20T09:22:15.580491Z"
    }
   },
   "outputs": [
    {
     "name": "stdout",
     "output_type": "stream",
     "text": [
      "2 /mnt/data/GWAS/output/task2_QC/pihat_min.genome\n",
      "      FID1      IID1      FID2      IID2 RT    EZ      Z0      Z1      Z2  PI_HAT PHE       DST     PPC   RATIO\n",
      "  HGX00116  HGX00116  HGX00120  HGX00120 UN    NA  0.6127  0.3873  0.0000  0.1937  -1  0.788899  1.0000  3.5811\n"
     ]
    }
   ],
   "source": [
    "%%bash\n",
    "wc -l $path/pihat_min.genome\n",
    "cat $path/pihat_min.genome"
   ]
  },
  {
   "cell_type": "code",
   "execution_count": 43,
   "metadata": {
    "ExecuteTime": {
     "end_time": "2020-08-20T09:22:16.465376Z",
     "start_time": "2020-08-20T09:22:15.729853Z"
    }
   },
   "outputs": [
    {
     "name": "stdout",
     "output_type": "stream",
     "text": [
      "png \n",
      "  2 \n"
     ]
    },
    {
     "data": {
      "image/png": "[encoded data removed]"
     },
     "metadata": {},
     "output_type": "display_data"
    }
   ],
   "source": [
    "%%R\n",
    "# Generate a plot to assess the type of relationship.\n",
    "relatedness_function(\"/mnt/data/GWAS/output/task2_QC/checkIBS.genome\")"
   ]
  },
  {
   "cell_type": "markdown",
   "metadata": {},
   "source": [
    "**Generate a list of FID and IID of the individual(s) with the lowest call rate in 'related' pairs - Pihat above 0.1875.**"
   ]
  },
  {
   "cell_type": "code",
   "execution_count": 44,
   "metadata": {
    "ExecuteTime": {
     "end_time": "2020-08-20T09:22:17.261878Z",
     "start_time": "2020-08-20T09:22:16.469909Z"
    }
   },
   "outputs": [
    {
     "name": "stdout",
     "output_type": "stream",
     "text": [
      "Reading PLINK .imiss file /mnt/data/GWAS/output/task2_QC/checkIBS.imiss\n",
      "Reading PLINK .genome file /mnt/data/GWAS/output/task2_QC/checkIBS.imiss\n",
      "1 /mnt/data/GWAS/output/task2_QC/fail-IBD-QC.txt\n",
      "HGX00116 HGX00116\n"
     ]
    }
   ],
   "source": [
    "%%bash \n",
    "# Identifies the individual(s) with the lowest call rate in 'related' pairs with the lower call rate\n",
    "# 1st parameter: lmiss file from previous step\n",
    "# 2nd parameter: genome file from previous step\n",
    "# 3rd parameter: Pihat threshold\n",
    "# 4th parameter: output file\n",
    "perl scripts/IBD_list.pl $path/checkIBS.imiss $path/checkIBS.genome 0.1875 $path/fail-IBD-QC.txt\n",
    "wc -l $path/fail-IBD-QC.txt\n",
    "cat $path/fail-IBD-QC.txt"
   ]
  },
  {
   "cell_type": "code",
   "execution_count": 48,
   "metadata": {
    "ExecuteTime": {
     "end_time": "2020-08-21T09:57:08.775464Z",
     "start_time": "2020-08-21T09:56:50.622235Z"
    }
   },
   "outputs": [
    {
     "name": "stdout",
     "output_type": "stream",
     "text": [
      "PLINK v1.90b3.45 64-bit (13 Jan 2017)      https://www.cog-genomics.org/plink2\n",
      "(C) 2005-2017 Shaun Purcell, Christopher Chang   GNU General Public License v3\n",
      "Logging to /mnt/data/GWAS/output/task2_QC/intermediate_datasets/dataset.b37.IBD.log.\n",
      "Options in effect:\n",
      "  --bfile /mnt/data/GWAS/output/task2_QC/intermediate_datasets/dataset.b37.sex\n",
      "  --make-bed\n",
      "  --out /mnt/data/GWAS/output/task2_QC/intermediate_datasets/dataset.b37.IBD\n",
      "  --remove /mnt/data/GWAS/output/task2_QC/fail-IBD-QC.txt\n",
      "\n",
      "32127 MB RAM detected; reserving 16063 MB for main workspace.\n",
      "7076087 variants loaded from .bim file.\n",
      "497 people (238 males, 259 females) loaded from .fam.\n",
      "497 phenotype values loaded from .fam.\n",
      "--remove: 496 people remaining.\n",
      "Using 1 thread (no multithreaded calculations invoked).\n",
      "Before main variant filters, 496 founders and 0 nonfounders present.\n",
      "Calculating allele frequencies... 10111213141516171819202122232425262728293031323334353637383940414243444546474849505152535455565758596061626364656667686970717273747576777879808182838485868788899091929394959697989 done.\n",
      "Total genotyping rate in remaining samples is 0.999931.\n",
      "7076087 variants and 496 people pass filters and QC.\n",
      "Among remaining phenotypes, 203 are cases and 293 are controls.\n",
      "--make-bed to\n",
      "/mnt/data/GWAS/output/task2_QC/intermediate_datasets/dataset.b37.IBD.bed +\n",
      "/mnt/data/GWAS/output/task2_QC/intermediate_datasets/dataset.b37.IBD.bim +\n",
      "/mnt/data/GWAS/output/task2_QC/intermediate_datasets/dataset.b37.IBD.fam ...\n",
      "101112131415161718192021222324252627282930313233343536373839404142434445464748495051525354555657585960616263646566676869707172737475767778798081828384858687888990919293949596979899done.\n"
     ]
    },
    {
     "name": "stderr",
     "output_type": "stream",
     "text": [
      "Warning: 1060176 het. haploid genotypes present (see\n",
      "/mnt/data/GWAS/output/task2_QC/intermediate_datasets/dataset.b37.IBD.hh ); many\n",
      "commands treat these as missing.\n"
     ]
    }
   ],
   "source": [
    "%%bash\n",
    "# Delete those individuals\n",
    "plink --bfile $intpath/dataset.b37.sex --remove $path/fail-IBD-QC.txt --make-bed --out $intpath/dataset.b37.IBD\n"
   ]
  },
  {
   "cell_type": "markdown",
   "metadata": {},
   "source": [
    " **For the next step, population stratification, you need the following files:**\n",
    " - The bfile /mnt/data/GWAS/output/task2_QC/intermediate_datasets/dataset.b37.IBD (.fam,.bed, and .bim)\n",
    " - /mnt/data/GWAS_data/indepSNP.prune.in"
   ]
  }
 ],
 "metadata": {
  "kernelspec": {
   "display_name": "Python3.6",
   "language": "python",
   "name": "python3.6"
  },
  "language_info": {
   "codemirror_mode": {
    "name": "ipython",
    "version": 3
   },
   "file_extension": ".py",
   "mimetype": "text/x-python",
   "name": "python",
   "nbconvert_exporter": "python",
   "pygments_lexer": "ipython3",
   "version": "3.6.12"
  },
  "toc": {
   "base_numbering": 1,
   "nav_menu": {},
   "number_sections": true,
   "sideBar": true,
   "skip_h1_title": false,
   "title_cell": "Table of Contents",
   "title_sidebar": "Contents",
   "toc_cell": false,
   "toc_position": {
    "height": "calc(100% - 180px)",
    "left": "10px",
    "top": "150px",
    "width": "256px"
   },
   "toc_section_display": true,
   "toc_window_display": false
  },
  "varInspector": {
   "cols": {
    "lenName": 16,
    "lenType": 16,
    "lenVar": 40
   },
   "kernels_config": {
    "python": {
     "delete_cmd_postfix": "",
     "delete_cmd_prefix": "del ",
     "library": "var_list.py",
     "varRefreshCmd": "print(var_dic_list())"
    },
    "r": {
     "delete_cmd_postfix": ") ",
     "delete_cmd_prefix": "rm(",
     "library": "var_list.r",
     "varRefreshCmd": "cat(var_dic_list()) "
    }
   },
   "types_to_exclude": [
    "module",
    "function",
    "builtin_function_or_method",
    "instance",
    "_Feature"
   ],
   "window_display": false
  }
 },
 "nbformat": 4,
 "nbformat_minor": 4
}
