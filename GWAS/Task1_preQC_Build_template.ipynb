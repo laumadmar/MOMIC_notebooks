{
 "cells": [
  {
   "cell_type": "markdown",
   "metadata": {},
   "source": [
    "# Task_1: Preparing the dataset.\n",
    "\n",
    "This first task of the protocol is aimed at preparing a working dataset in PLINK v1.9 binary format with all SNPs identified by the rs number and coordinates based on the genome build GRCh37/hg19; as required by the Michigan imputation server.\n",
    "\n",
    "Unmapped and uncertain location variants will be removed.\n",
    "\n",
    "Run this template if you need to change the build; otherwise you can skip this and go to task 2. \n",
    "\n",
    "*These steps are much quicker in bash than in R, even though some steps can take a while as the input dataset is usually big.*"
   ]
  },
  {
   "cell_type": "markdown",
   "metadata": {
    "toc": true
   },
   "source": [
    "<h1>Table of Contents<span class=\"tocSkip\"></span></h1>\n",
    "<div class=\"toc\"><ul class=\"toc-item\"><li><span><a href=\"#UCSC--LiftOver.-Change-the-genomic-assembly-to-build-hg19/GRCh37-(requiered-for-imputation-at-Michigan-Server)\" data-toc-modified-id=\"UCSC--LiftOver.-Change-the-genomic-assembly-to-build-hg19/GRCh37-(requiered-for-imputation-at-Michigan-Server)-1\"><span class=\"toc-item-num\">1&nbsp;&nbsp;</span>UCSC  LiftOver. Change the genomic assembly to build hg19/GRCh37 (requiered for imputation at Michigan Server)</a></span></li><li><span><a href=\"#Update-the-database\" data-toc-modified-id=\"Update-the-database-2\"><span class=\"toc-item-num\">2&nbsp;&nbsp;</span>Update the database</a></span></li><li><span><a href=\"#Check-for-duplicates\" data-toc-modified-id=\"Check-for-duplicates-3\"><span class=\"toc-item-num\">3&nbsp;&nbsp;</span>Check for duplicates</a></span></li><li><span><a href=\"#Update-to-rs-to-obtain-Final-DB-for-QC\" data-toc-modified-id=\"Update-to-rs-to-obtain-Final-DB-for-QC-4\"><span class=\"toc-item-num\">4&nbsp;&nbsp;</span>Update to rs to obtain Final DB for QC</a></span></li></ul></div>"
   ]
  },
  {
   "cell_type": "code",
   "execution_count": 2,
   "metadata": {
    "ExecuteTime": {
     "end_time": "2020-08-20T08:39:08.336116Z",
     "start_time": "2020-08-20T08:39:07.764384Z"
    },
    "scrolled": true
   },
   "outputs": [],
   "source": [
    "%load_ext rpy2.ipython"
   ]
  },
  {
   "cell_type": "code",
   "execution_count": 3,
   "metadata": {
    "ExecuteTime": {
     "end_time": "2020-08-20T08:43:21.598614Z",
     "start_time": "2020-08-20T08:43:21.594760Z"
    }
   },
   "outputs": [
    {
     "name": "stdout",
     "output_type": "stream",
     "text": [
      "env: Path=/mnt/data/GWAS/output/task1_preQC\n"
     ]
    }
   ],
   "source": [
    "%env Path=/mnt/data/GWAS/output/task1_preQC"
   ]
  },
  {
   "cell_type": "markdown",
   "metadata": {},
   "source": [
    "## UCSC  LiftOver. Change the genomic assembly to build hg19/GRCh37 (requiered for imputation at Michigan Server)"
   ]
  },
  {
   "cell_type": "code",
   "execution_count": 4,
   "metadata": {},
   "outputs": [
    {
     "name": "stdout",
     "output_type": "stream",
     "text": [
      "1\t1:107\t0\t107\tT\tTA\n",
      "1\t1:177\t0\t177\tAC\tA\n",
      "1\t1:350\t0\t350\tT\tA\n",
      "1\t1:355\t0\t355\tG\tA\n",
      "1\t1:462\t0\t462\tGT\tG\n",
      "1\t1:871\t0\t871\tG\tC\n",
      "1\t1:875\t0\t875\tG\tC\n",
      "1\t1:2973\t0\t2973\tA\tG\n",
      "1\t1:2979\t0\t2979\tG\tT\n",
      "1\t1:2981\t0\t2981\tG\tA\n"
     ]
    }
   ],
   "source": [
    "%%bash\n",
    "# Update b36 to b37\n",
    "head /mnt/data/GWAS/input/dataset.b36.bim"
   ]
  },
  {
   "cell_type": "code",
   "execution_count": 5,
   "metadata": {},
   "outputs": [
    {
     "name": "stdout",
     "output_type": "stream",
     "text": [
      "chr1\t107\t108\t1:107\n",
      "chr1\t177\t178\t1:177\n",
      "chr1\t350\t351\t1:350\n",
      "chr1\t355\t356\t1:355\n",
      "chr1\t462\t463\t1:462\n",
      "chr1\t871\t872\t1:871\n",
      "chr1\t875\t876\t1:875\n",
      "chr1\t2973\t2974\t1:2973\n",
      "chr1\t2979\t2980\t1:2979\n",
      "chr1\t2981\t2982\t1:2981\n"
     ]
    }
   ],
   "source": [
    "%%bash\n",
    "awk '{OFS=\"\\t\"; print \"chr\"$1,$4,$4+1,$2}' /mnt/data/GWAS/input/dataset.b36.bim | sed 's/chr23/chrX/g' | sed 's/chr24/chrY/g' | sed 's/chr26/chrM/g' > $Path/UCSC_b36.bed\n",
    "head $Path/UCSC_b36.bed"
   ]
  },
  {
   "cell_type": "code",
   "execution_count": 10,
   "metadata": {
    "ExecuteTime": {
     "end_time": "2020-08-20T08:43:56.364037Z",
     "start_time": "2020-08-20T08:43:56.335937Z"
    }
   },
   "outputs": [
    {
     "name": "stderr",
     "output_type": "stream",
     "text": [
      "Reading liftover chains\n",
      "Mapping coordinates\n"
     ]
    }
   ],
   "source": [
    "%%bash\n",
    "# UCSC liftOver to get the same reference build. It creates two output files, hglft_genome.bed and unmapped.bed\n",
    "# 1st parameter: bed file\n",
    "# 2nd parameter: fixed path - do not change it\n",
    "# 3rd parameter: path to output file\n",
    "# 4th parameter: unmapped SNPs\n",
    "/mnt/data/GWAS/tools/liftOver $Path/UCSC_b36.bed /mnt/data/GWAS/ref_files/hg18ToHg19.over.chain.gz $Path/hglft_genome.bed $Path/unmapped.bed"
   ]
  },
  {
   "cell_type": "code",
   "execution_count": 6,
   "metadata": {},
   "outputs": [
    {
     "name": "stdout",
     "output_type": "stream",
     "text": [
      "chr1\t10107\t10108\t1:107\n",
      "chr1\t10177\t10178\t1:177\n",
      "chr1\t10350\t10351\t1:350\n",
      "chr1\t10355\t10356\t1:355\n",
      "chr1\t10462\t10463\t1:462\n",
      "chr1\t11008\t11009\t1:871\n",
      "chr1\t11012\t11013\t1:875\n",
      "chr1\t13110\t13111\t1:2973\n",
      "chr1\t13116\t13117\t1:2979\n",
      "chr1\t13118\t13119\t1:2981\n"
     ]
    }
   ],
   "source": [
    "%%bash\n",
    "head $Path/hglft_genome.bed"
   ]
  },
  {
   "cell_type": "markdown",
   "metadata": {},
   "source": [
    "**hglft_genome.bed file is not the same as the execution before!!**"
   ]
  },
  {
   "cell_type": "code",
   "execution_count": 7,
   "metadata": {
    "ExecuteTime": {
     "end_time": "2019-11-04T11:23:27.445441Z",
     "start_time": "2019-11-04T11:23:27.430575Z"
    }
   },
   "outputs": [
    {
     "name": "stdout",
     "output_type": "stream",
     "text": [
      "chr1\t10107\t10108\t1:107\n",
      "chr1\t10177\t10178\t1:177\n",
      "chr1\t10350\t10351\t1:350\n",
      "chr1\t10355\t10356\t1:355\n",
      "chr1\t10462\t10463\t1:462\n",
      "chr1\t11008\t11009\t1:871\n",
      "chr1\t11012\t11013\t1:875\n",
      "chr1\t13110\t13111\t1:2973\n",
      "chr1\t13116\t13117\t1:2979\n",
      "chr1\t13118\t13119\t1:2981\n"
     ]
    }
   ],
   "source": [
    "%%bash\n",
    "head $Path/hglft_genome.bed"
   ]
  },
  {
   "cell_type": "markdown",
   "metadata": {},
   "source": [
    "##  Update the database"
   ]
  },
  {
   "cell_type": "markdown",
   "metadata": {},
   "source": [
    "Update the chr, the basepair and the name for each SNP."
   ]
  },
  {
   "cell_type": "code",
   "execution_count": 8,
   "metadata": {},
   "outputs": [],
   "source": [
    "%%bash\n",
    "awk '{OFS=\"\\t\"; print $4,$1}' $Path/hglft_genome.bed | sed 's/chrX/chr23/g' | sed 's/chrY/chr24/g' | sed 's/chrM/chr26/g'| sed 's/chr//g'  > $Path/update_chr.txt\n",
    "awk '{OFS=\"\\t\"; print $4,$2}' $Path/hglft_genome.bed > $Path/update_bp.txt\n",
    "awk '{OFS=\"\\t\"; print $4,$1\":\"$2}' $Path/hglft_genome.bed | sed 's/chr//g' > $Path/update_name.txt\n",
    "awk '{OFS=\"\"; print $1,\":\",$2}' $Path/hglft_genome.bed  | sed 's/chr//g' > $Path/UCSC_b37.txt"
   ]
  },
  {
   "cell_type": "raw",
   "metadata": {},
   "source": [
    "Next get the corresponding rsID.\n",
    "fgrep -wf $Path/UCSC_b37.txt /mnt/data/GWAS/ref_files/1000G_to_rs_dbSNP37_Phase3_single_rs > $Path/UCSC_b37_rs.txt\n",
    "\n",
    "This requires high memory, you can split the file instead."
   ]
  },
  {
   "cell_type": "code",
   "execution_count": 26,
   "metadata": {},
   "outputs": [],
   "source": [
    "%%bash\n",
    "split -l 3349530 --numeric-suffixes $Path/UCSC_b37.txt  $Path/UCSC_b37_"
   ]
  },
  {
   "cell_type": "code",
   "execution_count": 9,
   "metadata": {
    "ExecuteTime": {
     "end_time": "2019-11-04T11:25:26.028807Z",
     "start_time": "2019-11-04T11:24:09.295547Z"
    }
   },
   "outputs": [
    {
     "name": "stdout",
     "output_type": "stream",
     "text": [
      "Process is terminated.\n"
     ]
    }
   ],
   "source": [
    "%%bash\n",
    "fgrep -wf $Path/UCSC_b37_00 /mnt/data/GWAS/ref_files/1000G_to_rs_dbSNP37_Phase3_single_rs > $Path/UCSC_b37_rs_00.txt\n",
    "fgrep -wf $Path/UCSC_b37_01 /mnt/data/GWAS/ref_files/1000G_to_rs_dbSNP37_Phase3_single_rs > $Path/UCSC_b37_rs_01.txt\n",
    "fgrep -wf $Path/UCSC_b37_02 /mnt/data/GWAS/ref_files/1000G_to_rs_dbSNP37_Phase3_single_rs > $Path/UCSC_b37_rs_02.txt\n",
    "cat $Path/UCSC_b37_rs_00.txt $Path/UCSC_b37_rs_01.txt $Path/UCSC_b37_rs_02.txt > $Path/UCSC_b37_rs.txt\n",
    "rm $Path/UCSC_b37_rs_0*"
   ]
  },
  {
   "cell_type": "markdown",
   "metadata": {},
   "source": [
    "Prepare the unmapped SNPs list to PLINK"
   ]
  },
  {
   "cell_type": "code",
   "execution_count": 68,
   "metadata": {
    "ExecuteTime": {
     "end_time": "2019-11-04T11:25:26.055874Z",
     "start_time": "2019-11-04T11:25:26.031797Z"
    }
   },
   "outputs": [
    {
     "name": "stdout",
     "output_type": "stream",
     "text": [
      "4:3964514\n",
      "7:130526\n",
      "7:142154515\n",
      "8:17394388\n",
      "8:86068608\n",
      " 5  5 53 /mnt/Almacen6/Adapted/jupyterAnalisis_others/Genomic_pipeline/rs_to_exclude\n"
     ]
    }
   ],
   "source": [
    "%%bash\n",
    "awk '{OFS=\"\\t\"; print $4}' $Path/unmapped.bed | sed '/^$/d' > $Path/rs_to_exclude\n",
    "head $Path/rs_to_exclude\n",
    "wc $Path/rs_to_exclude"
   ]
  },
  {
   "cell_type": "markdown",
   "metadata": {},
   "source": [
    "Start prunning with PLINK. Remove Unmapped SNP. Update position (--update-map chr and bp). "
   ]
  },
  {
   "cell_type": "code",
   "execution_count": 69,
   "metadata": {
    "ExecuteTime": {
     "end_time": "2019-11-04T11:25:27.949300Z",
     "start_time": "2019-11-04T11:25:26.058348Z"
    },
    "scrolled": true
   },
   "outputs": [
    {
     "name": "stdout",
     "output_type": "stream",
     "text": [
      "PLINK v1.90b3.45 64-bit (13 Jan 2017)      https://www.cog-genomics.org/plink2\n",
      "(C) 2005-2017 Shaun Purcell, Christopher Chang   GNU General Public License v3\n",
      "Logging to /mnt/Almacen6/Adapted/jupyterAnalisis_others/Genomic_pipeline/temp1.log.\n",
      "Options in effect:\n",
      "  --allow-extra-chr\n",
      "  --bfile /mnt/Almacen6/Adapted/jupyterAnalisis_others/Genomic_pipeline/dataset.b36\n",
      "  --exclude /mnt/Almacen6/Adapted/jupyterAnalisis_others/Genomic_pipeline/rs_to_exclude\n",
      "  --make-bed\n",
      "  --out /mnt/Almacen6/Adapted/jupyterAnalisis_others/Genomic_pipeline/temp1\n",
      "  --update-chr /mnt/Almacen6/Adapted/jupyterAnalisis_others/Genomic_pipeline/update_chr.txt\n",
      "  --zero-cms\n",
      "\n",
      "257718 MB RAM detected; reserving 128859 MB for main workspace.\n",
      "551154 variants loaded from .bim file.\n",
      "503 people (240 males, 263 females) loaded from .fam.\n",
      "503 phenotype values loaded from .fam.\n",
      "--exclude: 551149 variants remaining.\n",
      "Using 1 thread (no multithreaded calculations invoked).\n",
      "Before main variant filters, 503 founders and 0 nonfounders present.\n",
      "Calculating allele frequencies... 10111213141516171819202122232425262728293031323334353637383940414243444546474849505152535455565758596061626364656667686970717273747576777879808182838485868788899091929394959697989 done.\n",
      "Total genotyping rate is 0.999287.\n",
      "551149 variants and 503 people pass filters and QC.\n",
      "Among remaining phenotypes, 206 are cases and 297 are controls.\n",
      "--update-chr: 551149 values updated.\n",
      "--make-bed to\n",
      "/mnt/Almacen6/Adapted/jupyterAnalisis_others/Genomic_pipeline/temp1.bed +\n",
      "/mnt/Almacen6/Adapted/jupyterAnalisis_others/Genomic_pipeline/temp1.bim +\n",
      "/mnt/Almacen6/Adapted/jupyterAnalisis_others/Genomic_pipeline/temp1.fam ...\n",
      "1010111112121313141415151616171718181919202021212222232324242525262627272828292930303131323233333434353536363737383839394040414142424343444445454646474748484949505051515252535354545555565657575858595960606161626263636464656566666767686869697070717172727373747475757676777778787979808081818282838384848585868687878888898990909191929293939494959596969797989899done.\n",
      "PLINK v1.90b3.45 64-bit (13 Jan 2017)      https://www.cog-genomics.org/plink2\n",
      "(C) 2005-2017 Shaun Purcell, Christopher Chang   GNU General Public License v3\n",
      "Logging to /mnt/Almacen6/Adapted/jupyterAnalisis_others/Genomic_pipeline/temp2.log.\n",
      "Options in effect:\n",
      "  --allow-extra-chr\n",
      "  --bfile /mnt/Almacen6/Adapted/jupyterAnalisis_others/Genomic_pipeline/temp1\n",
      "  --make-bed\n",
      "  --out /mnt/Almacen6/Adapted/jupyterAnalisis_others/Genomic_pipeline/temp2\n",
      "  --update-map /mnt/Almacen6/Adapted/jupyterAnalisis_others/Genomic_pipeline/update_bp.txt\n",
      "\n",
      "257718 MB RAM detected; reserving 128859 MB for main workspace.\n",
      "551149 variants loaded from .bim file.\n",
      "503 people (240 males, 263 females) loaded from .fam.\n",
      "503 phenotype values loaded from .fam.\n",
      "--update-map: 551149 values updated.\n",
      "Using 1 thread (no multithreaded calculations invoked).\n",
      "Before main variant filters, 503 founders and 0 nonfounders present.\n",
      "Calculating allele frequencies... 10111213141516171819202122232425262728293031323334353637383940414243444546474849505152535455565758596061626364656667686970717273747576777879808182838485868788899091929394959697989 done.\n",
      "Total genotyping rate is 0.999287.\n",
      "551149 variants and 503 people pass filters and QC.\n",
      "Among remaining phenotypes, 206 are cases and 297 are controls.\n",
      "--make-bed to\n",
      "/mnt/Almacen6/Adapted/jupyterAnalisis_others/Genomic_pipeline/temp2.bed +\n",
      "/mnt/Almacen6/Adapted/jupyterAnalisis_others/Genomic_pipeline/temp2.bim +\n",
      "/mnt/Almacen6/Adapted/jupyterAnalisis_others/Genomic_pipeline/temp2.fam ...\n",
      "1010111112121313141415151616171718181919202021212222232324242525262627272828292930303131323233333434353536363737383839394040414142424343444445454646474748484949505051515252535354545555565657575858595960606161626263636464656566666767686869697070717172727373747475757676777778787979808081818282838384848585868687878888898990909191929293939494959596969797989899done.\n",
      "PLINK v1.90b3.45 64-bit (13 Jan 2017)      https://www.cog-genomics.org/plink2\n",
      "(C) 2005-2017 Shaun Purcell, Christopher Chang   GNU General Public License v3\n",
      "Logging to /mnt/Almacen6/Adapted/jupyterAnalisis_others/Genomic_pipeline/temp3.log.\n",
      "Options in effect:\n",
      "  --allow-extra-chr\n",
      "  --bfile /mnt/Almacen6/Adapted/jupyterAnalisis_others/Genomic_pipeline/temp2\n",
      "  --chr 1-26\n",
      "  --make-bed\n",
      "  --out /mnt/Almacen6/Adapted/jupyterAnalisis_others/Genomic_pipeline/temp3\n",
      "  --update-name /mnt/Almacen6/Adapted/jupyterAnalisis_others/Genomic_pipeline/update_name.txt\n",
      "\n",
      "257718 MB RAM detected; reserving 128859 MB for main workspace.\n",
      "551149 variants loaded from .bim file.\n",
      "503 people (240 males, 263 females) loaded from .fam.\n",
      "503 phenotype values loaded from .fam.\n",
      "--update-name: 551149 values updated.\n",
      "Using 1 thread (no multithreaded calculations invoked).\n",
      "Before main variant filters, 503 founders and 0 nonfounders present.\n",
      "Calculating allele frequencies... 10111213141516171819202122232425262728293031323334353637383940414243444546474849505152535455565758596061626364656667686970717273747576777879808182838485868788899091929394959697989 done.\n",
      "Total genotyping rate is 0.999287.\n",
      "551149 variants and 503 people pass filters and QC.\n",
      "Among remaining phenotypes, 206 are cases and 297 are controls.\n",
      "--make-bed to\n",
      "/mnt/Almacen6/Adapted/jupyterAnalisis_others/Genomic_pipeline/temp3.bed +\n",
      "/mnt/Almacen6/Adapted/jupyterAnalisis_others/Genomic_pipeline/temp3.bim +\n",
      "/mnt/Almacen6/Adapted/jupyterAnalisis_others/Genomic_pipeline/temp3.fam ...\n",
      "101112131415161718192021222324252627282930313233343536373839404142434445464748495051525354555657585960616263646566676869707172737475767778798081828384858687888990919293949596979899done.\n"
     ]
    },
    {
     "name": "stderr",
     "output_type": "stream",
     "text": [
      "Warning: 1 het. haploid genotype present (see\n",
      "/mnt/Almacen6/Adapted/jupyterAnalisis_others/Genomic_pipeline/temp1.hh ); many\n",
      "commands treat these as missing.\n",
      "Warning: Base-pair positions are now unsorted!\n",
      "Warning: 1 het. haploid genotype present (see\n",
      "/mnt/Almacen6/Adapted/jupyterAnalisis_others/Genomic_pipeline/temp2.hh ); many\n",
      "commands treat these as missing.\n",
      "Warning: 1 het. haploid genotype present (see\n",
      "/mnt/Almacen6/Adapted/jupyterAnalisis_others/Genomic_pipeline/temp3.hh ); many\n",
      "commands treat these as missing.\n"
     ]
    }
   ],
   "source": [
    "%%bash\n",
    "# Find plink logs in the Jupyter File view, in this working directory\n",
    "/usr/lib/plink1.9/plink --bfile $Path/dataset.b36 --exclude $Path/rs_to_exclude --update-chr $Path/update_chr.txt --allow-extra-chr --make-bed --zero-cms --out $Path/temp1\n",
    "/usr/lib/plink1.9/plink --bfile $Path/temp1 --update-map $Path/update_bp.txt --allow-extra-chr  --make-bed --out $Path/temp2\n",
    "/usr/lib/plink1.9/plink --bfile $Path/temp2 --update-name $Path/update_name.txt --allow-extra-chr --chr 1-26 --make-bed --out $Path/temp3"
   ]
  },
  {
   "cell_type": "markdown",
   "metadata": {},
   "source": [
    "##  Check for duplicates"
   ]
  },
  {
   "cell_type": "code",
   "execution_count": 70,
   "metadata": {
    "ExecuteTime": {
     "end_time": "2019-11-04T11:25:28.553916Z",
     "start_time": "2019-11-04T11:25:27.952154Z"
    },
    "collapsed": true,
    "jupyter": {
     "outputs_hidden": true
    }
   },
   "outputs": [],
   "source": [
    "%%bash\n",
    "#  Remove SNP duplicates\n",
    "sed 's/ /\\t/g' $Path/temp3.bim  | awk '{print $2}' | sort | uniq -c| awk '{if($1>1) print $2}'> $Path/remove_duplicates.txt"
   ]
  },
  {
   "cell_type": "code",
   "execution_count": 71,
   "metadata": {
    "ExecuteTime": {
     "end_time": "2019-11-04T11:25:30.821227Z",
     "start_time": "2019-11-04T11:25:28.556919Z"
    }
   },
   "outputs": [
    {
     "name": "stdout",
     "output_type": "stream",
     "text": [
      "PLINK v1.90b3.45 64-bit (13 Jan 2017)      https://www.cog-genomics.org/plink2\n",
      "(C) 2005-2017 Shaun Purcell, Christopher Chang   GNU General Public License v3\n",
      "Logging to /mnt/Almacen6/Adapted/jupyterAnalisis_others/Genomic_pipeline/temp4.log.\n",
      "Options in effect:\n",
      "  --bfile /mnt/Almacen6/Adapted/jupyterAnalisis_others/Genomic_pipeline/temp3\n",
      "  --exclude /mnt/Almacen6/Adapted/jupyterAnalisis_others/Genomic_pipeline/remove_duplicates.txt\n",
      "  --make-bed\n",
      "  --out /mnt/Almacen6/Adapted/jupyterAnalisis_others/Genomic_pipeline/temp4\n",
      "\n",
      "257718 MB RAM detected; reserving 128859 MB for main workspace.\n",
      "551149 variants loaded from .bim file.\n",
      "503 people (240 males, 263 females) loaded from .fam.\n",
      "503 phenotype values loaded from .fam.\n",
      "--exclude: 551149 variants remaining.\n",
      "Using 1 thread (no multithreaded calculations invoked).\n",
      "Before main variant filters, 503 founders and 0 nonfounders present.\n",
      "Calculating allele frequencies... 10111213141516171819202122232425262728293031323334353637383940414243444546474849505152535455565758596061626364656667686970717273747576777879808182838485868788899091929394959697989 done.\n",
      "Total genotyping rate is 0.999287.\n",
      "551149 variants and 503 people pass filters and QC.\n",
      "Among remaining phenotypes, 206 are cases and 297 are controls.\n",
      "--make-bed to\n",
      "/mnt/Almacen6/Adapted/jupyterAnalisis_others/Genomic_pipeline/temp4.bed +\n",
      "/mnt/Almacen6/Adapted/jupyterAnalisis_others/Genomic_pipeline/temp4.bim +\n",
      "/mnt/Almacen6/Adapted/jupyterAnalisis_others/Genomic_pipeline/temp4.fam ...\n",
      "101112131415161718192021222324252627282930313233343536373839404142434445464748495051525354555657585960616263646566676869707172737475767778798081828384858687888990919293949596979899done.\n"
     ]
    },
    {
     "name": "stderr",
     "output_type": "stream",
     "text": [
      "Warning: 1 het. haploid genotype present (see\n",
      "/mnt/Almacen6/Adapted/jupyterAnalisis_others/Genomic_pipeline/temp4.hh ); many\n",
      "commands treat these as missing.\n"
     ]
    }
   ],
   "source": [
    "%%bash\n",
    "/usr/lib/plink1.9/plink --bfile $Path/temp3 --exclude $Path/remove_duplicates.txt --make-bed --out $Path/temp4"
   ]
  },
  {
   "cell_type": "markdown",
   "metadata": {},
   "source": [
    "## Update to rs to obtain Final DB for QC\n"
   ]
  },
  {
   "cell_type": "code",
   "execution_count": 73,
   "metadata": {
    "ExecuteTime": {
     "end_time": "2019-11-04T11:29:34.277790Z",
     "start_time": "2019-11-04T11:29:33.486052Z"
    }
   },
   "outputs": [
    {
     "name": "stdout",
     "output_type": "stream",
     "text": [
      "PLINK v1.90b3.45 64-bit (13 Jan 2017)      https://www.cog-genomics.org/plink2\n",
      "(C) 2005-2017 Shaun Purcell, Christopher Chang   GNU General Public License v3\n",
      "Logging to /mnt/Almacen6/Adapted/jupyterAnalisis_others/Genomic_pipeline/dataset.b37.log.\n",
      "Options in effect:\n",
      "  --bfile /mnt/Almacen6/Adapted/jupyterAnalisis_others/Genomic_pipeline/temp4\n",
      "  --make-bed\n",
      "  --out /mnt/Almacen6/Adapted/jupyterAnalisis_others/Genomic_pipeline/dataset.b37\n",
      "  --update-name /mnt/Almacen6/Adapted/jupyterAnalisis_others/Genomic_pipeline/UCSC_b37_rs.txt\n",
      "\n",
      "257718 MB RAM detected; reserving 128859 MB for main workspace.\n",
      "551149 variants loaded from .bim file.\n",
      "503 people (240 males, 263 females) loaded from .fam.\n",
      "503 phenotype values loaded from .fam.\n",
      "--update-name: 496363 values updated.\n",
      "Using 1 thread (no multithreaded calculations invoked).\n",
      "Before main variant filters, 503 founders and 0 nonfounders present.\n",
      "Calculating allele frequencies... 10111213141516171819202122232425262728293031323334353637383940414243444546474849505152535455565758596061626364656667686970717273747576777879808182838485868788899091929394959697989 done.\n",
      "Total genotyping rate is 0.999287.\n",
      "551149 variants and 503 people pass filters and QC.\n",
      "Among remaining phenotypes, 206 are cases and 297 are controls.\n",
      "--make-bed to\n",
      "/mnt/Almacen6/Adapted/jupyterAnalisis_others/Genomic_pipeline/dataset.b37.bed +\n",
      "/mnt/Almacen6/Adapted/jupyterAnalisis_others/Genomic_pipeline/dataset.b37.bim +\n",
      "/mnt/Almacen6/Adapted/jupyterAnalisis_others/Genomic_pipeline/dataset.b37.fam\n",
      "... 101112131415161718192021222324252627282930313233343536373839404142434445464748495051525354555657585960616263646566676869707172737475767778798081828384858687888990919293949596979899done.\n"
     ]
    },
    {
     "name": "stderr",
     "output_type": "stream",
     "text": [
      "Warning: 1 het. haploid genotype present (see\n",
      "/mnt/Almacen6/Adapted/jupyterAnalisis_others/Genomic_pipeline/dataset.b37.hh );\n",
      "many commands treat these as missing.\n"
     ]
    }
   ],
   "source": [
    "%%bash\n",
    "/usr/lib/plink1.9/plink --bfile $Path/temp4 --update-name $Path/UCSC_b37_rs.txt --make-bed --out $Path/dataset.b37\n",
    "rm $Path/temp*"
   ]
  },
  {
   "cell_type": "markdown",
   "metadata": {},
   "source": [
    "**my notes:** este es el notebook original de Mariu - no lo vuelvo a correr. Se queda como definitivo."
   ]
  }
 ],
 "metadata": {
  "kernelspec": {
   "display_name": "Python3.6",
   "language": "python",
   "name": "python3.6"
  },
  "language_info": {
   "codemirror_mode": {
    "name": "ipython",
    "version": 3
   },
   "file_extension": ".py",
   "mimetype": "text/x-python",
   "name": "python",
   "nbconvert_exporter": "python",
   "pygments_lexer": "ipython3",
   "version": "3.6.12"
  },
  "toc": {
   "base_numbering": 1,
   "nav_menu": {},
   "number_sections": true,
   "sideBar": true,
   "skip_h1_title": true,
   "title_cell": "Table of Contents",
   "title_sidebar": "Contents",
   "toc_cell": true,
   "toc_position": {},
   "toc_section_display": true,
   "toc_window_display": false
  },
  "varInspector": {
   "cols": {
    "lenName": 16,
    "lenType": 16,
    "lenVar": 40
   },
   "kernels_config": {
    "python": {
     "delete_cmd_postfix": "",
     "delete_cmd_prefix": "del ",
     "library": "var_list.py",
     "varRefreshCmd": "print(var_dic_list())"
    },
    "r": {
     "delete_cmd_postfix": ") ",
     "delete_cmd_prefix": "rm(",
     "library": "var_list.r",
     "varRefreshCmd": "cat(var_dic_list()) "
    }
   },
   "types_to_exclude": [
    "module",
    "function",
    "builtin_function_or_method",
    "instance",
    "_Feature"
   ],
   "window_display": false
  }
 },
 "nbformat": 4,
 "nbformat_minor": 4
}
