{
 "cells": [
  {
   "cell_type": "markdown",
   "metadata": {},
   "source": [
    "# Task 3: Imputation\n",
    "\n",
    "After the QC, genotype imputation can be performed with the minimac 3 algorithm at the University of Michigan server (https://imputationserver.sph.umich.edu/) using the HRC reference panel, and the SHAPEIT tool for haplotype phasing. After imputation, SNPs with an R2 quality estimate lower than 0.3 are excluded from further analyses according to the software recommendations. \n",
    "\n",
    "To run this notebook you need the bfile dataset.b3.QCed, generated on previous task Population stratification.\n",
    "\n",
    "https://rstudio-pubs-static.s3.amazonaws.com/452627_d519d1c86bd249e6a2d9638ef1ea836c.html"
   ]
  },
  {
   "cell_type": "markdown",
   "metadata": {
    "toc": true
   },
   "source": [
    "<h1>Table of Contents<span class=\"tocSkip\"></span></h1>\n",
    "<div class=\"toc\"><ul class=\"toc-item\"><li><span><a href=\"#Preparing-the-dataset-for-imputation\" data-toc-modified-id=\"Preparing-the-dataset-for-imputation-1\"><span class=\"toc-item-num\">1&nbsp;&nbsp;</span>Preparing the dataset for imputation</a></span></li><li><span><a href=\"#Upload-vcf.gz-files-to-the-Michigan-server-(phasing:-SHAPE-IT;-reference:HRC;-mode:-QC&amp;imputation)\" data-toc-modified-id=\"Upload-vcf.gz-files-to-the-Michigan-server-(phasing:-SHAPE-IT;-reference:HRC;-mode:-QC&amp;imputation)-2\"><span class=\"toc-item-num\">2&nbsp;&nbsp;</span>Upload vcf.gz files to the Michigan server (phasing: SHAPE-IT; reference:HRC; mode: QC&amp;imputation)</a></span></li><li><span><a href=\"#QC-of-the-imputed-genotypes\" data-toc-modified-id=\"QC-of-the-imputed-genotypes-3\"><span class=\"toc-item-num\">3&nbsp;&nbsp;</span>QC of the imputed genotypes</a></span></li></ul></div>"
   ]
  },
  {
   "cell_type": "code",
   "execution_count": 1,
   "metadata": {
    "ExecuteTime": {
     "end_time": "2020-08-22T08:31:09.380193Z",
     "start_time": "2020-08-22T08:31:09.361243Z"
    }
   },
   "outputs": [],
   "source": [
    "%load_ext rpy2.ipython"
   ]
  },
  {
   "cell_type": "code",
   "execution_count": 2,
   "metadata": {
    "ExecuteTime": {
     "end_time": "2020-08-18T10:18:12.360263Z",
     "start_time": "2020-08-18T10:18:12.357423Z"
    }
   },
   "outputs": [
    {
     "name": "stdout",
     "output_type": "stream",
     "text": [
      "env: path=/mnt/data/GWAS/output/build37/task3_imputation\n"
     ]
    }
   ],
   "source": [
    "%env path=/mnt/data/GWAS/output/build37/task3_imputation"
   ]
  },
  {
   "cell_type": "markdown",
   "metadata": {},
   "source": [
    "##  Preparing the dataset for imputation\n",
    "\n",
    "We will use Will Rayner's toolbox to prepare the data. (https://www.well.ox.ac.uk/~wrayner/tools/)"
   ]
  },
  {
   "cell_type": "code",
   "execution_count": 3,
   "metadata": {
    "ExecuteTime": {
     "end_time": "2020-08-22T10:38:10.337578Z",
     "start_time": "2020-08-22T10:38:05.134254Z"
    }
   },
   "outputs": [
    {
     "name": "stdout",
     "output_type": "stream",
     "text": [
      "PLINK v1.90b3.45 64-bit (13 Jan 2017)      https://www.cog-genomics.org/plink2\n",
      "(C) 2005-2017 Shaun Purcell, Christopher Chang   GNU General Public License v3\n",
      "Logging to /mnt/data/GWAS/output/build37/task3_imputation/dataset.b37.QCed.freq.log.\n",
      "Options in effect:\n",
      "  --bfile /mnt/data/GWAS/output/build37/task2_QC/dataset.b37.QCed\n",
      "  --freq\n",
      "  --out /mnt/data/GWAS/output/build37/task3_imputation/dataset.b37.QCed.freq\n",
      "\n",
      "257659 MB RAM detected; reserving 128829 MB for main workspace.\n",
      "7076087 variants loaded from .bim file.\n",
      "496 people (237 males, 259 females) loaded from .fam.\n",
      "496 phenotype values loaded from .fam.\n",
      "Using 1 thread (no multithreaded calculations invoked).\n",
      "Before main variant filters, 496 founders and 0 nonfounders present.\n",
      "Calculating allele frequencies... 10111213141516171819202122232425262728293031323334353637383940414243444546474849505152535455565758596061626364656667686970717273747576777879808182838485868788899091929394959697989 done.\n",
      "Total genotyping rate is 0.999931.\n",
      "--freq: Allele frequencies (founders only) written to\n",
      "/mnt/data/GWAS/output/build37/task3_imputation/dataset.b37.QCed.freq.frq .\n"
     ]
    },
    {
     "name": "stderr",
     "output_type": "stream",
     "text": [
      "Warning: 1060176 het. haploid genotypes present (see\n",
      "/mnt/data/GWAS/output/build37/task3_imputation/dataset.b37.QCed.freq.hh ); many\n",
      "commands treat these as missing.\n"
     ]
    }
   ],
   "source": [
    "%%bash\n",
    "# Determine allele frequencies in the dataset\n",
    "plink --bfile /mnt/data/GWAS/output/build37/task2_QC/dataset.b37.QCed  --freq --out $path/dataset.b37.QCed.freq"
   ]
  },
  {
   "cell_type": "markdown",
   "metadata": {},
   "source": [
    "**Run the perl script from Will Rayner's toolbox to check plink .bim files against HRC/1000G for strand, id names, positions, alleles, ref/alt assignment.** \n",
    "\n",
    "A specific population to check frequency against can be changed with -p (Default ALL, options ALL, EUR, AFR, AMR, SAS, EAS) \n",
    "\n",
    "Using the terminal (New->Terminal from Jupyter panel or from the terminal inside your docker container) create a bash script containing the perl command. Provide execution permission (chmod +x) and run it (./HRC.sh). Place the script where the path environment variable points.\n",
    "\n",
    "Next, run from terminal the Run-plink.sh created by the perl one.\n",
    "\n",
    "**IMPORTANT: Do not run this script on momic.us.es.** This script needs 30Gb of RAM to run. The ouput of this command is stored in the path where the environment variable 'path' points to. If the user needs to impute his own data, install this pipeline locally following the User Manual."
   ]
  },
  {
   "cell_type": "raw",
   "metadata": {},
   "source": [
    "#!bin/bash\n",
    "perl /mnt/data/GWAS/scripts/HRC-1000G-check-bim.pl -v -b dataset.b37.QCed.bim  -f dataset.b37.QCed.freq.frq -r /mnt/data/GWAS/ref_files/HRC.r1-1.GRCh37.wgs.mac5.sites.tab -h > dataset.b37.HRC-check.log "
   ]
  },
  {
   "cell_type": "raw",
   "metadata": {
    "ExecuteTime": {
     "end_time": "2020-08-22T13:27:02.111012Z",
     "start_time": "2020-08-22T13:27:02.079592Z"
    }
   },
   "source": [
    "bash Run-plink.sh > Run-plink.log"
   ]
  },
  {
   "cell_type": "raw",
   "metadata": {
    "ExecuteTime": {
     "end_time": "2020-08-22T16:11:45.516710Z",
     "start_time": "2020-08-22T16:06:35.093239Z"
    }
   },
   "source": [
    "compress the vcf files to upload to Michigan Server\n",
    "for i in {1..22}\n",
    "do\n",
    "    vcf-sort $path/dataset.b37-updated-chr$i.vcf | bgzip -c > $path/dataset.b37-sorted-chr$i.vcf.gz  \n",
    "done\n",
    "\n"
   ]
  },
  {
   "cell_type": "markdown",
   "metadata": {},
   "source": [
    "## Upload vcf.gz files to the Michigan server (phasing: SHAPE-IT; reference:HRC; mode: QC&imputation)\n",
    "\n",
    "Log into the Michigan Imputation Server site and click on Run -> Michigan Imputation Server from the menu located at the top.\n",
    "\n",
    "Select HRC r1.1 2016 reference panel, GRCh37/hg19 array built, 0.3 rsq filter, Eagle v2.4 as the phasing algoruthm, EUR population and \"Quality control& Imputation\" as the mode; you can also selecet AES 256 encryption. Upload vcf.gz files generated in the previous step and wait for a succesfull upload and initial QC.\n",
    "\n",
    "You will receive an email when the job is completed with the link and paswword to access the results. Download them."
   ]
  },
  {
   "cell_type": "markdown",
   "metadata": {},
   "source": [
    "## QC of the imputed genotypes"
   ]
  },
  {
   "cell_type": "raw",
   "metadata": {
    "ExecuteTime": {
     "end_time": "2020-08-23T10:39:27.991381Z",
     "start_time": "2020-08-23T10:38:02.955506Z"
    }
   },
   "source": [
    "\n",
    "# Unzip the chromosomes files. Provide the password (in double quotes) supplied by the Michigan server\n",
    "for i in {1..22}\n",
    "do\n",
    "unzip -P \"HOfK3mXPunr4Xl\" $path/imputed_files/chr_$i.zip -d $path/imputed_files \n",
    "done"
   ]
  },
  {
   "cell_type": "markdown",
   "metadata": {},
   "source": [
    " **Extract genotype doses**"
   ]
  },
  {
   "cell_type": "raw",
   "metadata": {
    "ExecuteTime": {
     "start_time": "2020-08-23T15:45:29.274Z"
    },
    "tags": []
   },
   "source": [
    "%%bash\n",
    "# Extract genotype doses from vcf files and generate dosage files for PLINK software.\n",
    "# 1st parameter: path to extracted zip files (from previous step). Output files will be stored in this path\n",
    "# 2nd parameter: boolean indicating whereas the rsquare filter was applied during imputation\n",
    "bash scripts/extract_dose.sh $path/imputed_files true"
   ]
  },
  {
   "cell_type": "markdown",
   "metadata": {},
   "source": [
    "**Generate a .fam file for PLINK from the chr22 vcf. Then update sex and pheno with the QCed fam from task 2.2 (i.e. dataset.b37.outliers)**"
   ]
  },
  {
   "cell_type": "code",
   "execution_count": 9,
   "metadata": {
    "ExecuteTime": {
     "end_time": "2020-08-24T07:17:45.398598Z",
     "start_time": "2020-08-24T07:17:41.155149Z"
    }
   },
   "outputs": [
    {
     "name": "stdout",
     "output_type": "stream",
     "text": [
      "PLINK v1.90b3.45 64-bit (13 Jan 2017)      https://www.cog-genomics.org/plink2\n",
      "(C) 2005-2017 Shaun Purcell, Christopher Chang   GNU General Public License v3\n",
      "Logging to /mnt/data/GWAS/output/build37/task3_imputation/imputed_files/chr22.dose.log.\n",
      "Options in effect:\n",
      "  --make-bed\n",
      "  --out /mnt/data/GWAS/output/build37/task3_imputation/imputed_files/chr22.dose\n",
      "  --vcf /mnt/data/GWAS/output/build37/task3_imputation/imputed_files/chr22.dose.vcf.gz\n",
      "\n",
      "257659 MB RAM detected; reserving 128829 MB for main workspace.\n",
      "--vcf: 218k variants complete.\n",
      "/mnt/data/GWAS/output/build37/task3_imputation/imputed_files/chr22.dose-temporary.bed\n",
      "+\n",
      "/mnt/data/GWAS/output/build37/task3_imputation/imputed_files/chr22.dose-temporary.bim\n",
      "+\n",
      "/mnt/data/GWAS/output/build37/task3_imputation/imputed_files/chr22.dose-temporary.fam\n",
      "written.\n",
      "218642 variants loaded from .bim file.\n",
      "496 people (0 males, 0 females, 496 ambiguous) loaded from .fam.\n",
      "Ambiguous sex IDs written to\n",
      "/mnt/data/GWAS/output/build37/task3_imputation/imputed_files/chr22.dose.nosex .\n",
      "Using 1 thread (no multithreaded calculations invoked).\n",
      "Before main variant filters, 496 founders and 0 nonfounders present.\n",
      "Calculating allele frequencies... 10111213141516171819202122232425262728293031323334353637383940414243444546474849505152535455565758596061626364656667686970717273747576777879808182838485868788899091929394959697989 done.\n",
      "218642 variants and 496 people pass filters and QC.\n",
      "Note: No phenotypes present.\n",
      "--make-bed to\n",
      "/mnt/data/GWAS/output/build37/task3_imputation/imputed_files/chr22.dose.bed +\n",
      "/mnt/data/GWAS/output/build37/task3_imputation/imputed_files/chr22.dose.bim +\n",
      "/mnt/data/GWAS/output/build37/task3_imputation/imputed_files/chr22.dose.fam ...\n",
      "101112131415161718192021222324252627282930313233343536373839404142434445464748495051525354555657585960616263646566676869707172737475767778798081828384858687888990919293949596979899done.\n"
     ]
    }
   ],
   "source": [
    "%%bash\n",
    "plink --vcf $path/imputed_files/chr22.dose.vcf.gz --make-bed --out $path/imputed_files/chr22.dose\n"
   ]
  },
  {
   "cell_type": "code",
   "execution_count": 10,
   "metadata": {
    "ExecuteTime": {
     "end_time": "2020-08-24T07:17:45.413643Z",
     "start_time": "2020-08-24T07:17:45.403432Z"
    }
   },
   "outputs": [
    {
     "name": "stdout",
     "output_type": "stream",
     "text": [
      "HGX00096 HGX00096 0 0 0 -9\n",
      "HGX00097 HGX00097 0 0 0 -9\n",
      "HGX00099 HGX00099 0 0 0 -9\n",
      "HGX00100 HGX00100 0 0 0 -9\n",
      "HGX00101 HGX00101 0 0 0 -9\n",
      "HGX00102 HGX00102 0 0 0 -9\n",
      "HGX00103 HGX00103 0 0 0 -9\n",
      "HGX00105 HGX00105 0 0 0 -9\n",
      "HGX00106 HGX00106 0 0 0 -9\n",
      "HGX00107 HGX00107 0 0 0 -9\n"
     ]
    }
   ],
   "source": [
    "%%bash\n",
    "head $path/imputed_files/chr22.dose.fam"
   ]
  },
  {
   "cell_type": "code",
   "execution_count": 11,
   "metadata": {
    "ExecuteTime": {
     "end_time": "2020-08-24T07:17:52.050939Z",
     "start_time": "2020-08-24T07:17:51.925187Z"
    }
   },
   "outputs": [
    {
     "name": "stdout",
     "output_type": "stream",
     "text": [
      "PLINK v1.90b3.45 64-bit (13 Jan 2017)      https://www.cog-genomics.org/plink2\n",
      "(C) 2005-2017 Shaun Purcell, Christopher Chang   GNU General Public License v3\n",
      "Logging to /mnt/data/GWAS/output/build37/task3_imputation/imputed_files/chr22.dose.for.assoc.log.\n",
      "Options in effect:\n",
      "  --bfile /mnt/data/GWAS/output/build37/task3_imputation/imputed_files/chr22.dose\n",
      "  --make-bed\n",
      "  --mpheno 4\n",
      "  --out /mnt/data/GWAS/output/build37/task3_imputation/imputed_files/chr22.dose.for.assoc\n",
      "  --pheno /mnt/data/GWAS/output/build37/task2_QC/dataset.b37.QCed.fam\n",
      "  --update-sex /mnt/data/GWAS/output/build37/task2_QC/dataset.b37.QCed.fam 3\n",
      "\n",
      "257659 MB RAM detected; reserving 128829 MB for main workspace.\n",
      "218642 variants loaded from .bim file.\n",
      "496 people (0 males, 0 females, 496 ambiguous) loaded from .fam.\n",
      "Ambiguous sex IDs written to\n",
      "/mnt/data/GWAS/output/build37/task3_imputation/imputed_files/chr22.dose.for.assoc.nosex\n",
      ".\n",
      "496 phenotype values present after --pheno.\n",
      "--update-sex: 496 people updated.\n",
      "Using 1 thread (no multithreaded calculations invoked).\n",
      "Before main variant filters, 496 founders and 0 nonfounders present.\n",
      "Calculating allele frequencies... 10111213141516171819202122232425262728293031323334353637383940414243444546474849505152535455565758596061626364656667686970717273747576777879808182838485868788899091929394959697989 done.\n",
      "218642 variants and 496 people pass filters and QC.\n",
      "Among remaining phenotypes, 203 are cases and 293 are controls.\n",
      "--make-bed to\n",
      "/mnt/data/GWAS/output/build37/task3_imputation/imputed_files/chr22.dose.for.assoc.bed\n",
      "+\n",
      "/mnt/data/GWAS/output/build37/task3_imputation/imputed_files/chr22.dose.for.assoc.bim\n",
      "+\n",
      "/mnt/data/GWAS/output/build37/task3_imputation/imputed_files/chr22.dose.for.assoc.fam\n",
      "... 101112131415161718192021222324252627282930313233343536373839404142434445464748495051525354555657585960616263646566676869707172737475767778798081828384858687888990919293949596979899done.\n"
     ]
    }
   ],
   "source": [
    "%%bash\n",
    "plink --bfile $path/imputed_files/chr22.dose --make-bed --update-sex /mnt/data/GWAS/output/build37/task2_QC/dataset.b37.QCed.fam 3 --pheno /mnt/data/GWAS/output/build37/task2_QC/dataset.b37.QCed.fam  --mpheno 4 --out  $path/imputed_files/chr22.dose.for.assoc\n"
   ]
  },
  {
   "cell_type": "code",
   "execution_count": 12,
   "metadata": {
    "ExecuteTime": {
     "end_time": "2020-08-24T07:17:54.154521Z",
     "start_time": "2020-08-24T07:17:54.135712Z"
    }
   },
   "outputs": [
    {
     "name": "stdout",
     "output_type": "stream",
     "text": [
      "HGX00096 HGX00096 0 0 1 1\n",
      "HGX00097 HGX00097 0 0 2 1\n",
      "HGX00099 HGX00099 0 0 2 1\n",
      "HGX00100 HGX00100 0 0 2 1\n",
      "HGX00101 HGX00101 0 0 1 1\n",
      "HGX00102 HGX00102 0 0 2 1\n",
      "HGX00103 HGX00103 0 0 1 1\n",
      "HGX00105 HGX00105 0 0 1 1\n",
      "HGX00106 HGX00106 0 0 2 1\n",
      "HGX00107 HGX00107 0 0 1 1\n",
      "  496  2976 12896 /mnt/data/GWAS/output/build37/task3_imputation/imputed_files/chr22.dose.for.assoc.fam\n"
     ]
    }
   ],
   "source": [
    "%%bash\n",
    "head $path/imputed_files/chr22.dose.for.assoc.fam\n",
    "wc $path/imputed_files/chr22.dose.for.assoc.fam"
   ]
  },
  {
   "cell_type": "code",
   "execution_count": 13,
   "metadata": {
    "ExecuteTime": {
     "end_time": "2020-08-24T07:17:56.067109Z",
     "start_time": "2020-08-24T07:17:56.053644Z"
    }
   },
   "outputs": [],
   "source": [
    "%%bash\n",
    "rm $path/imputed_files/chr22.dose.fam"
   ]
  },
  {
   "cell_type": "markdown",
   "metadata": {},
   "source": [
    "**For the next step you need the following files:**\n",
    "- chr22.dose.for.assoc.fam\n",
    "- chri.dose.rsq.DS.vcf.gz"
   ]
  },
  {
   "cell_type": "code",
   "execution_count": null,
   "metadata": {},
   "outputs": [],
   "source": []
  }
 ],
 "metadata": {
  "kernelspec": {
   "display_name": "Python 3",
   "language": "python",
   "name": "python3"
  },
  "language_info": {
   "codemirror_mode": {
    "name": "ipython",
    "version": 3
   },
   "file_extension": ".py",
   "mimetype": "text/x-python",
   "name": "python",
   "nbconvert_exporter": "python",
   "pygments_lexer": "ipython3",
   "version": "3.6.9"
  },
  "toc": {
   "base_numbering": 1,
   "nav_menu": {},
   "number_sections": true,
   "sideBar": true,
   "skip_h1_title": true,
   "title_cell": "Table of Contents",
   "title_sidebar": "Contents",
   "toc_cell": true,
   "toc_position": {},
   "toc_section_display": true,
   "toc_window_display": false
  },
  "varInspector": {
   "cols": {
    "lenName": 16,
    "lenType": 16,
    "lenVar": 40
   },
   "kernels_config": {
    "python": {
     "delete_cmd_postfix": "",
     "delete_cmd_prefix": "del ",
     "library": "var_list.py",
     "varRefreshCmd": "print(var_dic_list())"
    },
    "r": {
     "delete_cmd_postfix": ") ",
     "delete_cmd_prefix": "rm(",
     "library": "var_list.r",
     "varRefreshCmd": "cat(var_dic_list()) "
    }
   },
   "types_to_exclude": [
    "module",
    "function",
    "builtin_function_or_method",
    "instance",
    "_Feature"
   ],
   "window_display": false
  }
 },
 "nbformat": 4,
 "nbformat_minor": 4
}
