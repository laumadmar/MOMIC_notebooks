{
 "cells": [
  {
   "cell_type": "markdown",
   "metadata": {},
   "source": [
    "# Population Stratification \n",
    "\n",
    "This is the presence of multiple subpopulations (e.g., individuals with different ethnic background) in a study. Because allele frequencies can differ between subpopulations, population stratification can lead to false positive associations and/or mask true associations. \n",
    "\n",
    "To complete this task it is necessary to have generated the bfile 'dataset.b37_IBD' and the file 'indepSNP.prune.in' from the previous tutorial (Task_2_QC). This bfile is going to checked for population stratification using data from the 1000 Genomes Project. Individuals with a non-European ethnic background will be removed. 1000 Genomes data need to undergo QC before hand; this is ready here but you / the user can also do it following the template Task_2.2.1_PopulationStratification_Prepare1000GenomeDataset.\n",
    "\n",
    "Furthermore, this guide will generate a covariate file which helps to adust for remaining population stratification within the European subjects.\n",
    "\n",
    "This protocol follows the tutorial explained in Marees AT, de Kluiver H, Stringer S, et al. A tutorial on conducting genome-wide association studies: Quality control and statistical analysis. Int J Methods Psychiatr Res. 2018;27(2):e1608.doi:10.1002/mpr.1608"
   ]
  },
  {
   "cell_type": "code",
   "execution_count": 1,
   "metadata": {
    "ExecuteTime": {
     "end_time": "2020-08-17T12:36:31.843678Z",
     "start_time": "2020-08-17T12:36:30.386157Z"
    }
   },
   "outputs": [],
   "source": [
    "%load_ext rpy2.ipython"
   ]
  },
  {
   "cell_type": "code",
   "execution_count": 2,
   "metadata": {
    "ExecuteTime": {
     "end_time": "2020-08-17T12:36:33.810600Z",
     "start_time": "2020-08-17T12:36:33.806595Z"
    }
   },
   "outputs": [
    {
     "name": "stdout",
     "output_type": "stream",
     "text": [
      "env: path=/mnt/data/GWAS/output/task2.2_stratification\n",
      "env: intpath=/mnt/data/GWAS/output/task2.2_stratification/intermediate_datasets\n"
     ]
    }
   ],
   "source": [
    "%env path= /mnt/data/GWAS/output/task2.2_stratification\n",
    "%env intpath=/mnt/data/GWAS/output/task2.2_stratification/intermediate_datasets"
   ]
  },
  {
   "cell_type": "code",
   "execution_count": 168,
   "metadata": {
    "ExecuteTime": {
     "end_time": "2020-08-21T17:58:27.574242Z",
     "start_time": "2020-08-21T17:58:27.565876Z"
    }
   },
   "outputs": [],
   "source": [
    "%%R\n",
    "# Import functions for visualisation\n",
    "source(\"scripts/QC_functions_task2.R\")"
   ]
  },
  {
   "cell_type": "markdown",
   "metadata": {},
   "source": [
    "## Merge the working dataset (a.k.a. HapMap) and 1000 Genomes data sets \n",
    "\n",
    "Prior to merging 1000 Genomes data with the HapMap data we want to make sure that the files are mergeable, for this we conduct 5 steps:\n",
    "1. Extract the variants present in one dataset from the other\n",
    "2. Make sure the datasets have the same build\n",
    "3. Make sure the reference genome is similar in the working dataset and the 1000 Genomes Project datasets.\n",
    "4. Resolve strand issues.\n",
    "5. Remove the SNPs which after the previous two steps still differ between datasets."
   ]
  },
  {
   "cell_type": "markdown",
   "metadata": {},
   "source": [
    "### Extract the variants present in one dataset from the other"
   ]
  },
  {
   "cell_type": "code",
   "execution_count": 110,
   "metadata": {
    "ExecuteTime": {
     "end_time": "2020-08-21T14:18:22.309551Z",
     "start_time": "2020-08-21T14:18:01.351231Z"
    }
   },
   "outputs": [
    {
     "name": "stdout",
     "output_type": "stream",
     "text": [
      "PLINK v1.90b3.45 64-bit (13 Jan 2017)      https://www.cog-genomics.org/plink2\n",
      "(C) 2005-2017 Shaun Purcell, Christopher Chang   GNU General Public License v3\n",
      "Logging to /mnt/data/GWAS/output/task2.2_stratification/intermediate_datasets/1kG_MDS4.log.\n",
      "Options in effect:\n",
      "  --bfile /mnt/data/GWAS/output/task2.2_stratification/intermediate_datasets/1kG_MDS3\n",
      "  --extract /mnt/data/GWAS/output/task2.2_stratification/dataset.b37_SNPs.txt\n",
      "  --make-bed\n",
      "  --out /mnt/data/GWAS/output/task2.2_stratification/intermediate_datasets/1kG_MDS4\n",
      "\n",
      "32127 MB RAM detected; reserving 16063 MB for main workspace.\n",
      "6047414 variants loaded from .bim file.\n",
      "2504 people (0 males, 0 females, 2504 ambiguous) loaded from .fam.\n",
      "Ambiguous sex IDs written to\n",
      "/mnt/data/GWAS/output/task2.2_stratification/intermediate_datasets/1kG_MDS4.nosex\n",
      ".\n",
      "--extract: 6047414 variants remaining.\n",
      "Using 1 thread (no multithreaded calculations invoked).\n",
      "Before main variant filters, 2504 founders and 0 nonfounders present.\n",
      "Calculating allele frequencies... 10111213141516171819202122232425262728293031323334353637383940414243444546474849505152535455565758596061626364656667686970717273747576777879808182838485868788899091929394959697989 done.\n",
      "Total genotyping rate is 0.999931.\n",
      "6047414 variants and 2504 people pass filters and QC.\n",
      "Note: No phenotypes present.\n",
      "--make-bed to\n",
      "/mnt/data/GWAS/output/task2.2_stratification/intermediate_datasets/1kG_MDS4.bed\n",
      "+\n",
      "/mnt/data/GWAS/output/task2.2_stratification/intermediate_datasets/1kG_MDS4.bim\n",
      "+\n",
      "/mnt/data/GWAS/output/task2.2_stratification/intermediate_datasets/1kG_MDS4.fam\n",
      "... 101112131415161718192021222324252627282930313233343536373839404142434445464748495051525354555657585960616263646566676869707172737475767778798081828384858687888990919293949596979899done.\n"
     ]
    }
   ],
   "source": [
    "%%bash\n",
    "# Extract the variants present in the working dataset from the 1000 genomes dataset.\n",
    "awk '{print$2}' $path/../task2_QC/intermediate_datasets/dataset.b37.IBD.bim > $path/dataset.b37_SNPs.txt\n",
    "plink --bfile $intpath/1kG_MDS3 --extract $path/dataset.b37_SNPs.txt --make-bed --out $intpath/1kG_MDS4"
   ]
  },
  {
   "cell_type": "code",
   "execution_count": 111,
   "metadata": {
    "ExecuteTime": {
     "end_time": "2020-08-21T14:19:16.449187Z",
     "start_time": "2020-08-21T14:19:16.373020Z"
    }
   },
   "outputs": [
    {
     "name": "stdout",
     "output_type": "stream",
     "text": [
      "1:10177\n",
      "1:11008\n",
      "1:11012\n",
      "1:13110\n",
      "rs201725126\n",
      "rs200579949\n",
      "1:13273\n",
      "1:14464\n",
      "1:14599\n",
      "1:14604\n"
     ]
    }
   ],
   "source": [
    "%%bash\n",
    "head $path/dataset.b37_SNPs.txt"
   ]
  },
  {
   "cell_type": "code",
   "execution_count": 112,
   "metadata": {
    "ExecuteTime": {
     "end_time": "2020-08-21T14:25:56.677760Z",
     "start_time": "2020-08-21T14:23:12.036073Z"
    }
   },
   "outputs": [
    {
     "name": "stdout",
     "output_type": "stream",
     "text": [
      "PLINK v1.90b3.45 64-bit (13 Jan 2017)      https://www.cog-genomics.org/plink2\n",
      "(C) 2005-2017 Shaun Purcell, Christopher Chang   GNU General Public License v3\n",
      "Logging to /mnt/data/GWAS/output/task2.2_stratification/intermediate_datasets/dataset.b37_MDS.log.\n",
      "Options in effect:\n",
      "  --bfile /mnt/data/GWAS/output/task2_QC/intermediate_datasets/dataset.b37.IBD\n",
      "  --extract /mnt/data/GWAS/output/task2.2_stratification/1kG_MDS_SNPs.txt\n",
      "  --make-bed\n",
      "  --out /mnt/data/GWAS/output/task2.2_stratification/intermediate_datasets/dataset.b37_MDS\n",
      "  --recode\n",
      "\n",
      "32127 MB RAM detected; reserving 16063 MB for main workspace.\n",
      "7076087 variants loaded from .bim file.\n",
      "496 people (237 males, 259 females) loaded from .fam.\n",
      "496 phenotype values loaded from .fam.\n",
      "--extract: 6047414 variants remaining.\n",
      "Using 1 thread (no multithreaded calculations invoked).\n",
      "Before main variant filters, 496 founders and 0 nonfounders present.\n",
      "Calculating allele frequencies... 10111213141516171819202122232425262728293031323334353637383940414243444546474849505152535455565758596061626364656667686970717273747576777879808182838485868788899091929394959697989 done.\n",
      "Total genotyping rate is 0.99998.\n",
      "6047414 variants and 496 people pass filters and QC.\n",
      "Among remaining phenotypes, 203 are cases and 293 are controls.\n",
      "--make-bed to\n",
      "/mnt/data/GWAS/output/task2.2_stratification/intermediate_datasets/dataset.b37_MDS.bed\n",
      "+\n",
      "/mnt/data/GWAS/output/task2.2_stratification/intermediate_datasets/dataset.b37_MDS.bim\n",
      "+\n",
      "/mnt/data/GWAS/output/task2.2_stratification/intermediate_datasets/dataset.b37_MDS.fam\n",
      "... 101112131415161718192021222324252627282930313233343536373839404142434445464748495051525354555657585960616263646566676869707172737475767778798081828384858687888990919293949596979899done.\n",
      "--recode ped to\n",
      "/mnt/data/GWAS/output/task2.2_stratification/intermediate_datasets/dataset.b37_MDS.ped\n",
      "+\n",
      "/mnt/data/GWAS/output/task2.2_stratification/intermediate_datasets/dataset.b37_MDS.map\n",
      "... 101112131415161718192021222324252627282930313233343536373839404142434445464748495051525354555657585960616263646566676869707172737475767778798081828384858687888990919293949596979899done.\n"
     ]
    }
   ],
   "source": [
    "%%bash\n",
    "# Extract the variants present in 1000 Genomes dataset from the working dataset.\n",
    "awk '{print$2}' $intpath/1kG_MDS4.bim > $path/1kG_MDS_SNPs.txt\n",
    "plink --bfile $path/../task2_QC/intermediate_datasets/dataset.b37.IBD --extract $path/1kG_MDS_SNPs.txt --recode --make-bed --out $intpath/dataset.b37_MDS\n",
    "# The datasets now contain the exact same variants.\n"
   ]
  },
  {
   "cell_type": "markdown",
   "metadata": {
    "ExecuteTime": {
     "end_time": "2020-08-21T11:30:21.230342Z",
     "start_time": "2020-08-21T11:30:21.227533Z"
    }
   },
   "source": [
    "### Build\n",
    "\n",
    "The datasets must have the same build. Change the build 1000 Genomes data build."
   ]
  },
  {
   "cell_type": "code",
   "execution_count": 114,
   "metadata": {
    "ExecuteTime": {
     "end_time": "2020-08-21T15:07:45.015676Z",
     "start_time": "2020-08-21T15:07:43.558015Z"
    }
   },
   "outputs": [
    {
     "name": "stdout",
     "output_type": "stream",
     "text": [
      "rs200579949 13118\n",
      "rs141149254 54490\n",
      "rs114420996 58814\n",
      "rs201888535 63735\n",
      "rs115209712 86331\n",
      "rs940550 88169\n",
      "rs55700207 88338\n",
      "rs377161483 129010\n",
      "rs371474651 158006\n",
      "rs144169752 232449\n"
     ]
    }
   ],
   "source": [
    "%%bash\n",
    "awk '{print$2,$4}' $intpath/dataset.b37_MDS.map > $path/buildhapmap.txt\n",
    "# buildhapmap.txt contains one SNP-id and physical position per line.\n",
    "head $path/buildhapmap.txt"
   ]
  },
  {
   "cell_type": "code",
   "execution_count": 115,
   "metadata": {
    "ExecuteTime": {
     "end_time": "2020-08-21T15:09:54.882619Z",
     "start_time": "2020-08-21T15:08:01.533686Z"
    }
   },
   "outputs": [
    {
     "name": "stdout",
     "output_type": "stream",
     "text": [
      "PLINK v1.90b3.45 64-bit (13 Jan 2017)      https://www.cog-genomics.org/plink2\n",
      "(C) 2005-2017 Shaun Purcell, Christopher Chang   GNU General Public License v3\n",
      "Logging to /mnt/data/GWAS/output/task2.2_stratification/intermediate_datasets/1kG_MDS5.log.\n",
      "Options in effect:\n",
      "  --bfile /mnt/data/GWAS/output/task2.2_stratification/intermediate_datasets/1kG_MDS4\n",
      "  --make-bed\n",
      "  --out /mnt/data/GWAS/output/task2.2_stratification/intermediate_datasets/1kG_MDS5\n",
      "  --update-map /mnt/data/GWAS/output/task2.2_stratification/buildhapmap.txt\n",
      "\n",
      "32127 MB RAM detected; reserving 16063 MB for main workspace.\n",
      "6047414 variants loaded from .bim file.\n",
      "2504 people (0 males, 0 females, 2504 ambiguous) loaded from .fam.\n",
      "Ambiguous sex IDs written to\n",
      "/mnt/data/GWAS/output/task2.2_stratification/intermediate_datasets/1kG_MDS5.nosex\n",
      ".\n",
      "--update-map: 6047414 values updated.\n",
      "Using 1 thread (no multithreaded calculations invoked).\n",
      "Before main variant filters, 2504 founders and 0 nonfounders present.\n",
      "Calculating allele frequencies... 10111213141516171819202122232425262728293031323334353637383940414243444546474849505152535455565758596061626364656667686970717273747576777879808182838485868788899091929394959697989 done.\n",
      "Total genotyping rate is 0.999931.\n",
      "6047414 variants and 2504 people pass filters and QC.\n",
      "Note: No phenotypes present.\n",
      "--make-bed to\n",
      "/mnt/data/GWAS/output/task2.2_stratification/intermediate_datasets/1kG_MDS5.bed\n",
      "+\n",
      "/mnt/data/GWAS/output/task2.2_stratification/intermediate_datasets/1kG_MDS5.bim\n",
      "+\n",
      "/mnt/data/GWAS/output/task2.2_stratification/intermediate_datasets/1kG_MDS5.fam\n",
      "... 10101111121213131414151516161717181819192020212122222323242425252626272728282929303031313232333334343535363637373838393940404141424243434444454546464747484849505051515252535354545555565657575858595960606161626263636464656566666767686869697070717172727373747475757676777778787979808081818282838384848585868687878888898990909191929293939494959596969797989899done.\n"
     ]
    },
    {
     "name": "stderr",
     "output_type": "stream",
     "text": [
      "Warning: Base-pair positions are now unsorted!\n"
     ]
    }
   ],
   "source": [
    "%%bash\n",
    "plink --bfile $intpath/1kG_MDS4 --update-map $path/buildhapmap.txt --make-bed --out $intpath/1kG_MDS5\n",
    "# 1kG_MDS5 and the dataset under study now have the same build."
   ]
  },
  {
   "cell_type": "markdown",
   "metadata": {},
   "source": [
    "### set reference genome"
   ]
  },
  {
   "cell_type": "code",
   "execution_count": 116,
   "metadata": {
    "ExecuteTime": {
     "end_time": "2020-08-21T15:10:51.611204Z",
     "start_time": "2020-08-21T15:10:32.281080Z"
    },
    "collapsed": true,
    "jupyter": {
     "outputs_hidden": true
    }
   },
   "outputs": [
    {
     "name": "stdout",
     "output_type": "stream",
     "text": [
      "PLINK v1.90b3.45 64-bit (13 Jan 2017)      https://www.cog-genomics.org/plink2\n",
      "(C) 2005-2017 Shaun Purcell, Christopher Chang   GNU General Public License v3\n",
      "Logging to /mnt/data/GWAS/output/task2.2_stratification/intermediate_datasets/dataset.b37_adj.log.\n",
      "Options in effect:\n",
      "  --a1-allele /mnt/data/GWAS/output/task2.2_stratification/1kg_ref-list.txt\n",
      "  --bfile /mnt/data/GWAS/output/task2.2_stratification/intermediate_datasets/dataset.b37_MDS\n",
      "  --make-bed\n",
      "  --out /mnt/data/GWAS/output/task2.2_stratification/intermediate_datasets/dataset.b37_adj\n",
      "\n",
      "32127 MB RAM detected; reserving 16063 MB for main workspace.\n",
      "6047414 variants loaded from .bim file.\n",
      "496 people (237 males, 259 females) loaded from .fam.\n",
      "496 phenotype values loaded from .fam.\n",
      "Using 1 thread (no multithreaded calculations invoked).\n",
      "Before main variant filters, 496 founders and 0 nonfounders present.\n",
      "Calculating allele frequencies... 10111213141516171819202122232425262728293031323334353637383940414243444546474849505152535455565758596061626364656667686970717273747576777879808182838485868788899091929394959697989 done.\n",
      "Total genotyping rate is 0.99998.\n",
      "--a1-allele: 6047414 assignments made.\n",
      "6047414 variants and 496 people pass filters and QC.\n",
      "Among remaining phenotypes, 203 are cases and 293 are controls.\n",
      "--make-bed to\n",
      "/mnt/data/GWAS/output/task2.2_stratification/intermediate_datasets/dataset.b37_adj.bed\n",
      "+\n",
      "/mnt/data/GWAS/output/task2.2_stratification/intermediate_datasets/dataset.b37_adj.bim\n",
      "+\n",
      "/mnt/data/GWAS/output/task2.2_stratification/intermediate_datasets/dataset.b37_adj.fam\n",
      "... 101112131415161718192021222324252627282930313233343536373839404142434445464748495051525354555657585960616263646566676869707172737475767778798081828384858687888990919293949596979899done.\n"
     ]
    },
    {
     "name": "stderr",
     "output_type": "stream",
     "text": [
      "Warning: Impossible A1 allele assignment for variant rs147619543.\n",
      "Warning: Impossible A1 allele assignment for variant rs137984339.\n",
      "Warning: Impossible A1 allele assignment for variant rs201618615.\n",
      "Warning: Impossible A1 allele assignment for variant rs111369971.\n",
      "Warning: Impossible A1 allele assignment for variant rs139796930.\n",
      "Warning: Impossible A1 allele assignment for variant rs137892494.\n",
      "Warning: Impossible A1 allele assignment for variant rs71093259.\n",
      "Warning: Impossible A1 allele assignment for variant rs145912288.\n",
      "Warning: Impossible A1 allele assignment for variant rs34109939.\n",
      "Warning: Impossible A1 allele assignment for variant rs148153906.\n",
      "Warning: Impossible A1 allele assignment for variant rs71407496.\n",
      "Warning: Impossible A1 allele assignment for variant rs146528263.\n",
      "Warning: Impossible A1 allele assignment for variant rs147872509.\n",
      "Warning: Impossible A1 allele assignment for variant rs113258194.\n",
      "Warning: Impossible A1 allele assignment for variant rs3835759.\n",
      "Warning: Impossible A1 allele assignment for variant rs5831472.\n",
      "Warning: Impossible A1 allele assignment for variant rs72339534.\n",
      "Warning: Impossible A1 allele assignment for variant rs71390158.\n",
      "Warning: Impossible A1 allele assignment for variant rs149286053.\n",
      "Warning: Impossible A1 allele assignment for variant rs113282615.\n",
      "Warning: Impossible A1 allele assignment for variant rs72077160.\n",
      "Warning: Impossible A1 allele assignment for variant rs143937474.\n",
      "Warning: Impossible A1 allele assignment for variant rs201407212.\n",
      "Warning: Impossible A1 allele assignment for variant rs35965969.\n",
      "Warning: Impossible A1 allele assignment for variant rs67029113.\n",
      "Warning: Impossible A1 allele assignment for variant rs67949386.\n",
      "Warning: Impossible A1 allele assignment for variant rs141935407.\n",
      "Warning: Impossible A1 allele assignment for variant rs1966896.\n",
      "Warning: Impossible A1 allele assignment for variant rs200822642.\n",
      "Warning: Impossible A1 allele assignment for variant rs58612314.\n",
      "Warning: Impossible A1 allele assignment for variant rs141821078.\n",
      "Warning: Impossible A1 allele assignment for variant rs35159863.\n",
      "Warning: Impossible A1 allele assignment for variant rs9814775.\n",
      "Warning: Impossible A1 allele assignment for variant rs10663307.\n",
      "Warning: Impossible A1 allele assignment for variant rs61324533.\n",
      "Warning: Impossible A1 allele assignment for variant rs34762839.\n",
      "Warning: Impossible A1 allele assignment for variant rs7436539.\n",
      "Warning: Impossible A1 allele assignment for variant rs148548225.\n",
      "Warning: Impossible A1 allele assignment for variant rs35746929.\n",
      "Warning: Impossible A1 allele assignment for variant rs34812158.\n",
      "Warning: Impossible A1 allele assignment for variant rs10013793.\n",
      "Warning: Impossible A1 allele assignment for variant rs113842049.\n",
      "Warning: Impossible A1 allele assignment for variant rs71964935.\n",
      "Warning: Impossible A1 allele assignment for variant rs70961801.\n",
      "Warning: Impossible A1 allele assignment for variant rs58890122.\n",
      "Warning: Impossible A1 allele assignment for variant rs60465499.\n",
      "Warning: Impossible A1 allele assignment for variant rs202183072.\n",
      "Warning: Impossible A1 allele assignment for variant rs71584391.\n",
      "Warning: Impossible A1 allele assignment for variant rs34497958.\n",
      "Warning: Impossible A1 allele assignment for variant rs57216995.\n",
      "Warning: Impossible A1 allele assignment for variant rs34278906.\n",
      "Warning: Impossible A1 allele assignment for variant rs376653011.\n",
      "Warning: Impossible A1 allele assignment for variant rs146771059.\n",
      "Warning: Impossible A1 allele assignment for variant rs33999637.\n",
      "Warning: Impossible A1 allele assignment for variant rs70938251.\n",
      "Warning: Impossible A1 allele assignment for variant rs149654848.\n",
      "Warning: Impossible A1 allele assignment for variant rs112912857.\n",
      "Warning: Impossible A1 allele assignment for variant rs76139278.\n",
      "Warning: Impossible A1 allele assignment for variant rs370121313.\n",
      "Warning: Impossible A1 allele assignment for variant rs35540828.\n",
      "Warning: Impossible A1 allele assignment for variant rs10671428.\n",
      "Warning: Impossible A1 allele assignment for variant rs34768415.\n",
      "Warning: Impossible A1 allele assignment for variant rs58893321.\n",
      "Warning: Impossible A1 allele assignment for variant rs60383041.\n",
      "Warning: Impossible A1 allele assignment for variant rs202034055.\n",
      "Warning: Impossible A1 allele assignment for variant rs200589655.\n",
      "Warning: Impossible A1 allele assignment for variant rs143772814.\n",
      "Warning: Impossible A1 allele assignment for variant rs71536404.\n",
      "Warning: Impossible A1 allele assignment for variant rs3035346.\n",
      "Warning: Impossible A1 allele assignment for variant rs12200694.\n",
      "Warning: Impossible A1 allele assignment for variant rs58774833.\n",
      "Warning: Impossible A1 allele assignment for variant rs71541270.\n",
      "Warning: Impossible A1 allele assignment for variant rs144366744.\n",
      "Warning: Impossible A1 allele assignment for variant rs200474568.\n",
      "Warning: Impossible A1 allele assignment for variant rs148588315.\n",
      "Warning: Impossible A1 allele assignment for variant rs9371847.\n",
      "Warning: Impossible A1 allele assignment for variant rs11377175.\n",
      "Warning: Impossible A1 allele assignment for variant rs5883347.\n",
      "Warning: Impossible A1 allele assignment for variant rs149316964.\n",
      "Warning: Impossible A1 allele assignment for variant rs145164759.\n",
      "Warning: Impossible A1 allele assignment for variant rs150201843.\n",
      "Warning: Impossible A1 allele assignment for variant rs2855925.\n",
      "Warning: Impossible A1 allele assignment for variant rs148802556.\n",
      "Warning: Impossible A1 allele assignment for variant rs141623426.\n",
      "Warning: Impossible A1 allele assignment for variant rs113055548.\n",
      "Warning: Impossible A1 allele assignment for variant rs147693269.\n",
      "Warning: Impossible A1 allele assignment for variant rs5889534.\n",
      "Warning: Impossible A1 allele assignment for variant rs59255004.\n",
      "Warning: Impossible A1 allele assignment for variant rs143645350.\n",
      "Warning: Impossible A1 allele assignment for variant rs34188615.\n",
      "Warning: Impossible A1 allele assignment for variant rs71264185.\n",
      "Warning: Impossible A1 allele assignment for variant rs5892663.\n",
      "Warning: Impossible A1 allele assignment for variant rs199976662.\n",
      "Warning: Impossible A1 allele assignment for variant rs143602363.\n",
      "Warning: Impossible A1 allele assignment for variant rs3073777.\n",
      "Warning: Impossible A1 allele assignment for variant rs34378799.\n",
      "Warning: Impossible A1 allele assignment for variant rs137860744.\n",
      "Warning: Impossible A1 allele assignment for variant rs74176994.\n",
      "Warning: Impossible A1 allele assignment for variant rs11139348.\n",
      "Warning: Impossible A1 allele assignment for variant rs145306304.\n",
      "Warning: Impossible A1 allele assignment for variant rs10546076.\n",
      "Warning: Impossible A1 allele assignment for variant rs34428620.\n",
      "Warning: Impossible A1 allele assignment for variant rs10544831.\n",
      "Warning: Impossible A1 allele assignment for variant rs148981849.\n",
      "Warning: Impossible A1 allele assignment for variant rs200516560.\n",
      "Warning: Impossible A1 allele assignment for variant rs200148222.\n",
      "Warning: Impossible A1 allele assignment for variant rs60225229.\n",
      "Warning: Impossible A1 allele assignment for variant rs35017955.\n",
      "Warning: Impossible A1 allele assignment for variant rs111532670.\n",
      "Warning: Impossible A1 allele assignment for variant rs147050495.\n",
      "Warning: Impossible A1 allele assignment for variant rs11281146.\n",
      "Warning: Impossible A1 allele assignment for variant rs10598951.\n",
      "Warning: Impossible A1 allele assignment for variant rs55976849.\n",
      "Warning: Impossible A1 allele assignment for variant rs34446072.\n",
      "Warning: Impossible A1 allele assignment for variant rs72240657.\n",
      "Warning: Impossible A1 allele assignment for variant rs35692523.\n",
      "Warning: Impossible A1 allele assignment for variant rs34730979.\n",
      "Warning: Impossible A1 allele assignment for variant rs147359460.\n",
      "Warning: Impossible A1 allele assignment for variant rs10676423.\n",
      "Warning: Impossible A1 allele assignment for variant rs5792633.\n",
      "Warning: Impossible A1 allele assignment for variant rs5794069.\n",
      "Warning: Impossible A1 allele assignment for variant rs11389863.\n",
      "Warning: Impossible A1 allele assignment for variant rs200765236.\n",
      "Warning: Impossible A1 allele assignment for variant rs11410265.\n",
      "Warning: Impossible A1 allele assignment for variant rs145053170.\n",
      "Warning: Impossible A1 allele assignment for variant rs34967117.\n",
      "Warning: Impossible A1 allele assignment for variant rs148744178.\n",
      "Warning: Impossible A1 allele assignment for variant rs56808655.\n",
      "Warning: Impossible A1 allele assignment for variant rs36121482.\n",
      "Warning: Impossible A1 allele assignment for variant rs112398485.\n",
      "Warning: Impossible A1 allele assignment for variant rs35136338.\n",
      "Warning: Impossible A1 allele assignment for variant rs35814981.\n",
      "Warning: Impossible A1 allele assignment for variant rs3075437.\n",
      "Warning: Impossible A1 allele assignment for variant rs200381946.\n",
      "Warning: Impossible A1 allele assignment for variant rs9530195.\n",
      "Warning: Impossible A1 allele assignment for variant rs35720894.\n",
      "Warning: Impossible A1 allele assignment for variant rs34703149.\n",
      "Warning: Impossible A1 allele assignment for variant rs36196814.\n",
      "Warning: Impossible A1 allele assignment for variant rs61400710.\n",
      "Warning: Impossible A1 allele assignment for variant rs140845066.\n",
      "Warning: Impossible A1 allele assignment for variant rs111864429.\n",
      "Warning: Impossible A1 allele assignment for variant rs149532947.\n",
      "Warning: Impossible A1 allele assignment for variant rs11379794.\n",
      "Warning: Impossible A1 allele assignment for variant rs113786826.\n",
      "Warning: Impossible A1 allele assignment for variant rs79697112.\n",
      "Warning: Impossible A1 allele assignment for variant rs10686797.\n",
      "Warning: Impossible A1 allele assignment for variant rs112038713.\n",
      "Warning: Impossible A1 allele assignment for variant rs201825062.\n",
      "Warning: Impossible A1 allele assignment for variant rs58300596.\n",
      "Warning: Impossible A1 allele assignment for variant rs71280728.\n",
      "Warning: Impossible A1 allele assignment for variant rs59912939.\n",
      "Warning: Impossible A1 allele assignment for variant rs374142105.\n",
      "Warning: Impossible A1 allele assignment for variant rs71378042.\n",
      "Warning: Impossible A1 allele assignment for variant rs5816868.\n",
      "Warning: Impossible A1 allele assignment for variant rs7188256.\n",
      "Warning: Impossible A1 allele assignment for variant rs56031703.\n",
      "Warning: Impossible A1 allele assignment for variant rs142646570.\n",
      "Warning: Impossible A1 allele assignment for variant rs71382034.\n",
      "Warning: Impossible A1 allele assignment for variant rs112542398.\n",
      "Warning: Impossible A1 allele assignment for variant rs150906505.\n",
      "Warning: Impossible A1 allele assignment for variant rs142032070.\n",
      "Warning: Impossible A1 allele assignment for variant rs58183353.\n",
      "Warning: Impossible A1 allele assignment for variant rs147258226.\n",
      "Warning: Impossible A1 allele assignment for variant rs71172027.\n",
      "Warning: Impossible A1 allele assignment for variant rs34990450.\n",
      "Warning: Impossible A1 allele assignment for variant rs141406346.\n",
      "Warning: Impossible A1 allele assignment for variant rs146092313.\n",
      "Warning: Impossible A1 allele assignment for variant rs137914150.\n",
      "Warning: Impossible A1 allele assignment for variant rs11373675.\n",
      "Warning: Impossible A1 allele assignment for variant rs137928326.\n",
      "Warning: Impossible A1 allele assignment for variant rs34699436.\n",
      "Warning: Impossible A1 allele assignment for variant rs35954284.\n",
      "Warning: Impossible A1 allele assignment for variant rs146055611.\n",
      "Warning: Impossible A1 allele assignment for variant rs112839858.\n",
      "Warning: Impossible A1 allele assignment for variant rs67204288.\n",
      "Warning: Impossible A1 allele assignment for variant rs35299917.\n",
      "Warning: Impossible A1 allele assignment for variant rs71168622.\n",
      "Warning: Impossible A1 allele assignment for variant rs60779505.\n",
      "Warning: Impossible A1 allele assignment for variant rs138312876.\n",
      "Warning: Impossible A1 allele assignment for variant rs202099727.\n",
      "Warning: Impossible A1 allele assignment for variant rs61542044.\n",
      "Warning: Impossible A1 allele assignment for variant rs11428307.\n",
      "Warning: Impossible A1 allele assignment for variant rs112329508.\n",
      "Warning: Impossible A1 allele assignment for variant rs113050087.\n",
      "Warning: Impossible A1 allele assignment for variant rs71912127.\n",
      "Warning: Impossible A1 allele assignment for variant rs141872150.\n",
      "Warning: Impossible A1 allele assignment for variant rs149102978.\n",
      "Warning: Impossible A1 allele assignment for variant rs34394527.\n",
      "Warning: Impossible A1 allele assignment for variant rs201423572.\n",
      "Warning: Impossible A1 allele assignment for variant rs145852171.\n"
     ]
    }
   ],
   "source": [
    "%%bash\n",
    "awk '{print$2,$5}' $intpath/1kG_MDS5.bim > $path/1kg_ref-list.txt\n",
    "plink --bfile $intpath/dataset.b37_MDS --reference-allele $path/1kg_ref-list.txt --make-bed --out $intpath/dataset.b37_adj\n",
    "# The 1kG_MDS7 and the dataset.b37_adj have the same reference genome for all SNPs.\n",
    "# This command will generate some warnings for impossible A1 allele assignment.\n"
   ]
  },
  {
   "cell_type": "code",
   "execution_count": 117,
   "metadata": {
    "ExecuteTime": {
     "end_time": "2020-08-21T15:10:51.640766Z",
     "start_time": "2020-08-21T15:10:51.629942Z"
    }
   },
   "outputs": [
    {
     "name": "stdout",
     "output_type": "stream",
     "text": [
      "rs200579949 G\n",
      "rs141149254 A\n",
      "rs114420996 A\n",
      "rs201888535 C\n",
      "rs115209712 G\n",
      "rs940550 T\n",
      "rs55700207 A\n",
      "rs377161483 A\n",
      "rs371474651 T\n",
      "rs144169752 A\n"
     ]
    }
   ],
   "source": [
    "%%bash\n",
    "head $path/1kg_ref-list.txt"
   ]
  },
  {
   "cell_type": "markdown",
   "metadata": {},
   "source": [
    "### Resolve strand issues"
   ]
  },
  {
   "cell_type": "code",
   "execution_count": 123,
   "metadata": {
    "ExecuteTime": {
     "end_time": "2020-08-21T15:16:15.285458Z",
     "start_time": "2020-08-21T15:16:09.515127Z"
    }
   },
   "outputs": [
    {
     "name": "stdout",
     "output_type": "stream",
     "text": [
      "rs10013793 G T\n",
      "rs10013793 T TTG\n",
      "rs10544831 A ATT\n",
      "rs10544831 C T\n",
      "rs10546076 C T\n",
      "rs10546076 T TGTTC\n",
      "rs10566332 C CAT\n",
      "rs10566332 C T\n",
      "rs10569851 A AAC\n",
      "rs10569851 A C\n"
     ]
    }
   ],
   "source": [
    "%%bash\n",
    "# Check for potential strand issues.\n",
    "awk '{print$2,$5,$6}' $intpath/1kG_MDS5.bim > $intpath/1kGMDS5_tmp\n",
    "awk '{print$2,$5,$6}' $intpath/dataset.b37_adj.bim > $intpath/dataset.b37_adj_tmp\n",
    "sort $intpath/1kGMDS5_tmp $intpath/dataset.b37_adj_tmp |uniq -u > $path/all_differences.txt\n",
    "# 1624 differences between the files, some of these might be due to strand issues.\n",
    "head $path/all_differences.txt"
   ]
  },
  {
   "cell_type": "code",
   "execution_count": 124,
   "metadata": {
    "ExecuteTime": {
     "end_time": "2020-08-21T15:16:31.673606Z",
     "start_time": "2020-08-21T15:16:15.311578Z"
    },
    "collapsed": true,
    "jupyter": {
     "outputs_hidden": true
    }
   },
   "outputs": [
    {
     "name": "stdout",
     "output_type": "stream",
     "text": [
      "PLINK v1.90b3.45 64-bit (13 Jan 2017)      https://www.cog-genomics.org/plink2\n",
      "(C) 2005-2017 Shaun Purcell, Christopher Chang   GNU General Public License v3\n",
      "Logging to /mnt/data/GWAS/output/task2.2_stratification/intermediate_datasets/dataset.b37.corrected.log.\n",
      "Options in effect:\n",
      "  --a1-allele /mnt/data/GWAS/output/task2.2_stratification/1kg_ref-list.txt\n",
      "  --bfile /mnt/data/GWAS/output/task2.2_stratification/intermediate_datasets/dataset.b37_adj\n",
      "  --flip /mnt/data/GWAS/output/task2.2_stratification/flip_list.txt\n",
      "  --make-bed\n",
      "  --out /mnt/data/GWAS/output/task2.2_stratification/intermediate_datasets/dataset.b37.corrected\n",
      "\n",
      "32127 MB RAM detected; reserving 16063 MB for main workspace.\n",
      "6047414 variants loaded from .bim file.\n",
      "496 people (237 males, 259 females) loaded from .fam.\n",
      "496 phenotype values loaded from .fam.\n",
      "--flip: 329 SNPs flipped.\n",
      "Using 1 thread (no multithreaded calculations invoked).\n",
      "Before main variant filters, 496 founders and 0 nonfounders present.\n",
      "Calculating allele frequencies... 10111213141516171819202122232425262728293031323334353637383940414243444546474849505152535455565758596061626364656667686970717273747576777879808182838485868788899091929394959697989 done.\n",
      "Total genotyping rate is 0.99998.\n",
      "--a1-allele: 6047414 assignments made.\n",
      "6047414 variants and 496 people pass filters and QC.\n",
      "Among remaining phenotypes, 203 are cases and 293 are controls.\n",
      "--make-bed to\n",
      "/mnt/data/GWAS/output/task2.2_stratification/intermediate_datasets/dataset.b37.corrected.bed\n",
      "+\n",
      "/mnt/data/GWAS/output/task2.2_stratification/intermediate_datasets/dataset.b37.corrected.bim\n",
      "+\n",
      "/mnt/data/GWAS/output/task2.2_stratification/intermediate_datasets/dataset.b37.corrected.fam\n",
      "... 101112131415161718192021222324252627282930313233343536373839404142434445464748495051525354555657585960616263646566676869707172737475767778798081828384858687888990919293949596979899done.\n"
     ]
    },
    {
     "name": "stderr",
     "output_type": "stream",
     "text": [
      "Warning: 56 variants had at least one non-A/C/G/T allele name.\n",
      "Warning: Impossible A1 allele assignment for variant rs147619543.\n",
      "Warning: Impossible A1 allele assignment for variant rs137984339.\n",
      "Warning: Impossible A1 allele assignment for variant rs201618615.\n",
      "Warning: Impossible A1 allele assignment for variant rs111369971.\n",
      "Warning: Impossible A1 allele assignment for variant rs142949573.\n",
      "Warning: Impossible A1 allele assignment for variant rs139796930.\n",
      "Warning: Impossible A1 allele assignment for variant rs56378853.\n",
      "Warning: Impossible A1 allele assignment for variant rs137892494.\n",
      "Warning: Impossible A1 allele assignment for variant rs111279774.\n",
      "Warning: Impossible A1 allele assignment for variant rs71093259.\n",
      "Warning: Impossible A1 allele assignment for variant rs34176728.\n",
      "Warning: Impossible A1 allele assignment for variant rs7544642.\n",
      "Warning: Impossible A1 allele assignment for variant rs11452685.\n",
      "Warning: Impossible A1 allele assignment for variant rs71104850.\n",
      "Warning: Impossible A1 allele assignment for variant rs34827379.\n",
      "Warning: Impossible A1 allele assignment for variant rs5781390.\n",
      "Warning: Impossible A1 allele assignment for variant rs145912288.\n",
      "Warning: Impossible A1 allele assignment for variant rs34461703.\n",
      "Warning: Impossible A1 allele assignment for variant rs34109939.\n",
      "Warning: Impossible A1 allele assignment for variant rs112058391.\n",
      "Warning: Impossible A1 allele assignment for variant rs370986157.\n",
      "Warning: Impossible A1 allele assignment for variant rs148153906.\n",
      "Warning: Impossible A1 allele assignment for variant rs71407496.\n",
      "Warning: Impossible A1 allele assignment for variant rs146528263.\n",
      "Warning: Impossible A1 allele assignment for variant rs147872509.\n",
      "Warning: Impossible A1 allele assignment for variant rs70946958.\n",
      "Warning: Impossible A1 allele assignment for variant rs3835759.\n",
      "Warning: Impossible A1 allele assignment for variant rs5831472.\n",
      "Warning: Impossible A1 allele assignment for variant rs36101912.\n",
      "Warning: Impossible A1 allele assignment for variant rs72339534.\n",
      "Warning: Impossible A1 allele assignment for variant rs71390158.\n",
      "Warning: Impossible A1 allele assignment for variant rs149286053.\n",
      "Warning: Impossible A1 allele assignment for variant rs150724730.\n",
      "Warning: Impossible A1 allele assignment for variant rs113282615.\n",
      "Warning: Impossible A1 allele assignment for variant rs11418215.\n",
      "Warning: Impossible A1 allele assignment for variant rs72077160.\n",
      "Warning: Impossible A1 allele assignment for variant rs143937474.\n",
      "Warning: Impossible A1 allele assignment for variant rs111879402.\n",
      "Warning: Impossible A1 allele assignment for variant rs200688788.\n",
      "Warning: Impossible A1 allele assignment for variant rs201407212.\n",
      "Warning: Impossible A1 allele assignment for variant rs35965969.\n",
      "Warning: Impossible A1 allele assignment for variant rs67029113.\n",
      "Warning: Impossible A1 allele assignment for variant rs67949386.\n",
      "Warning: Impossible A1 allele assignment for variant rs5836500.\n",
      "Warning: Impossible A1 allele assignment for variant rs57569510.\n",
      "Warning: Impossible A1 allele assignment for variant rs34819411.\n",
      "Warning: Impossible A1 allele assignment for variant rs11414538.\n",
      "Warning: Impossible A1 allele assignment for variant rs6764009.\n",
      "Warning: Impossible A1 allele assignment for variant rs148298277.\n",
      "Warning: Impossible A1 allele assignment for variant rs36004545.\n",
      "Warning: Impossible A1 allele assignment for variant rs141935407.\n",
      "Warning: Impossible A1 allele assignment for variant rs1966896.\n",
      "Warning: Impossible A1 allele assignment for variant rs200822642.\n",
      "Warning: Impossible A1 allele assignment for variant rs34971732.\n",
      "Warning: Impossible A1 allele assignment for variant rs35159863.\n",
      "Warning: Impossible A1 allele assignment for variant rs202138300.\n",
      "Warning: Impossible A1 allele assignment for variant rs9814775.\n",
      "Warning: Impossible A1 allele assignment for variant rs150563753.\n",
      "Warning: Impossible A1 allele assignment for variant rs10663307.\n",
      "Warning: Impossible A1 allele assignment for variant rs61324533.\n",
      "Warning: Impossible A1 allele assignment for variant rs150552425.\n",
      "Warning: Impossible A1 allele assignment for variant rs34762839.\n",
      "Warning: Impossible A1 allele assignment for variant rs59749772.\n",
      "Warning: Impossible A1 allele assignment for variant rs7436539.\n",
      "Warning: Impossible A1 allele assignment for variant rs148548225.\n",
      "Warning: Impossible A1 allele assignment for variant rs35347672.\n",
      "Warning: Impossible A1 allele assignment for variant rs35746929.\n",
      "Warning: Impossible A1 allele assignment for variant rs34812158.\n",
      "Warning: Impossible A1 allele assignment for variant rs10013793.\n",
      "Warning: Impossible A1 allele assignment for variant rs113842049.\n",
      "Warning: Impossible A1 allele assignment for variant rs71964935.\n",
      "Warning: Impossible A1 allele assignment for variant rs3066106.\n",
      "Warning: Impossible A1 allele assignment for variant rs70961801.\n",
      "Warning: Impossible A1 allele assignment for variant rs58890122.\n",
      "Warning: Impossible A1 allele assignment for variant rs201549105.\n",
      "Warning: Impossible A1 allele assignment for variant rs60465499.\n",
      "Warning: Impossible A1 allele assignment for variant rs202183072.\n",
      "Warning: Impossible A1 allele assignment for variant rs71584391.\n",
      "Warning: Impossible A1 allele assignment for variant rs150452407.\n",
      "Warning: Impossible A1 allele assignment for variant rs34497958.\n",
      "Warning: Impossible A1 allele assignment for variant rs57216995.\n",
      "Warning: Impossible A1 allele assignment for variant rs35226602.\n",
      "Warning: Impossible A1 allele assignment for variant rs34278906.\n",
      "Warning: Impossible A1 allele assignment for variant rs376653011.\n",
      "Warning: Impossible A1 allele assignment for variant rs146771059.\n",
      "Warning: Impossible A1 allele assignment for variant rs33999637.\n",
      "Warning: Impossible A1 allele assignment for variant rs70938251.\n",
      "Warning: Impossible A1 allele assignment for variant rs142795569.\n",
      "Warning: Impossible A1 allele assignment for variant rs149654848.\n",
      "Warning: Impossible A1 allele assignment for variant rs35290606.\n",
      "Warning: Impossible A1 allele assignment for variant rs58450772.\n",
      "Warning: Impossible A1 allele assignment for variant rs112912857.\n",
      "Warning: Impossible A1 allele assignment for variant rs76139278.\n",
      "Warning: Impossible A1 allele assignment for variant rs67231143.\n",
      "Warning: Impossible A1 allele assignment for variant rs370121313.\n",
      "Warning: Impossible A1 allele assignment for variant rs143078150.\n",
      "Warning: Impossible A1 allele assignment for variant rs35540828.\n",
      "Warning: Impossible A1 allele assignment for variant rs141641983.\n",
      "Warning: Impossible A1 allele assignment for variant rs10671428.\n",
      "Warning: Impossible A1 allele assignment for variant rs34768415.\n",
      "Warning: Impossible A1 allele assignment for variant rs58893321.\n",
      "Warning: Impossible A1 allele assignment for variant rs55705262.\n",
      "Warning: Impossible A1 allele assignment for variant rs60383041.\n",
      "Warning: Impossible A1 allele assignment for variant rs71542640.\n",
      "Warning: Impossible A1 allele assignment for variant rs202034055.\n",
      "Warning: Impossible A1 allele assignment for variant rs200589655.\n",
      "Warning: Impossible A1 allele assignment for variant rs143772814.\n",
      "Warning: Impossible A1 allele assignment for variant rs35509700.\n",
      "Warning: Impossible A1 allele assignment for variant rs34696372.\n",
      "Warning: Impossible A1 allele assignment for variant rs71536404.\n",
      "Warning: Impossible A1 allele assignment for variant rs202087713.\n",
      "Warning: Impossible A1 allele assignment for variant rs3035346.\n",
      "Warning: Impossible A1 allele assignment for variant rs12200694.\n",
      "Warning: Impossible A1 allele assignment for variant rs150511523.\n",
      "Warning: Impossible A1 allele assignment for variant rs58774833.\n",
      "Warning: Impossible A1 allele assignment for variant rs71541270.\n",
      "Warning: Impossible A1 allele assignment for variant rs144366744.\n",
      "Warning: Impossible A1 allele assignment for variant rs200474568.\n",
      "Warning: Impossible A1 allele assignment for variant rs148588315.\n",
      "Warning: Impossible A1 allele assignment for variant rs9371847.\n",
      "Warning: Impossible A1 allele assignment for variant rs11377175.\n",
      "Warning: Impossible A1 allele assignment for variant rs142171671.\n",
      "Warning: Impossible A1 allele assignment for variant rs202130155.\n",
      "Warning: Impossible A1 allele assignment for variant rs143156307.\n",
      "Warning: Impossible A1 allele assignment for variant rs5883347.\n",
      "Warning: Impossible A1 allele assignment for variant rs112532470.\n",
      "Warning: Impossible A1 allele assignment for variant rs149316964.\n",
      "Warning: Impossible A1 allele assignment for variant rs145164759.\n",
      "Warning: Impossible A1 allele assignment for variant rs150201843.\n",
      "Warning: Impossible A1 allele assignment for variant rs140222950.\n",
      "Warning: Impossible A1 allele assignment for variant rs148802556.\n",
      "Warning: Impossible A1 allele assignment for variant rs141623426.\n",
      "Warning: Impossible A1 allele assignment for variant rs79404395.\n",
      "Warning: Impossible A1 allele assignment for variant rs113055548.\n",
      "Warning: Impossible A1 allele assignment for variant rs147693269.\n",
      "Warning: Impossible A1 allele assignment for variant rs5889534.\n",
      "Warning: Impossible A1 allele assignment for variant rs59255004.\n",
      "Warning: Impossible A1 allele assignment for variant rs143645350.\n",
      "Warning: Impossible A1 allele assignment for variant rs34188615.\n",
      "Warning: Impossible A1 allele assignment for variant rs71264185.\n",
      "Warning: Impossible A1 allele assignment for variant rs5892663.\n",
      "Warning: Impossible A1 allele assignment for variant rs199976662.\n",
      "Warning: Impossible A1 allele assignment for variant rs201150792.\n",
      "Warning: Impossible A1 allele assignment for variant rs143602363.\n",
      "Warning: Impossible A1 allele assignment for variant rs374892516.\n",
      "Warning: Impossible A1 allele assignment for variant rs3073777.\n",
      "Warning: Impossible A1 allele assignment for variant rs34378799.\n",
      "Warning: Impossible A1 allele assignment for variant rs137860744.\n",
      "Warning: Impossible A1 allele assignment for variant rs74176994.\n",
      "Warning: Impossible A1 allele assignment for variant rs201243915.\n",
      "Warning: Impossible A1 allele assignment for variant rs35759919.\n",
      "Warning: Impossible A1 allele assignment for variant rs35789695.\n",
      "Warning: Impossible A1 allele assignment for variant rs71362130.\n",
      "Warning: Impossible A1 allele assignment for variant rs145306304.\n",
      "Warning: Impossible A1 allele assignment for variant rs71366046.\n",
      "Warning: Impossible A1 allele assignment for variant rs10546076.\n",
      "Warning: Impossible A1 allele assignment for variant rs71855060.\n",
      "Warning: Impossible A1 allele assignment for variant rs34428620.\n",
      "Warning: Impossible A1 allele assignment for variant rs10544831.\n",
      "Warning: Impossible A1 allele assignment for variant rs144135557.\n",
      "Warning: Impossible A1 allele assignment for variant rs148981849.\n",
      "Warning: Impossible A1 allele assignment for variant rs200516560.\n",
      "Warning: Impossible A1 allele assignment for variant rs200148222.\n",
      "Warning: Impossible A1 allele assignment for variant rs111563455.\n",
      "Warning: Impossible A1 allele assignment for variant rs60225229.\n",
      "Warning: Impossible A1 allele assignment for variant rs57872451.\n",
      "Warning: Impossible A1 allele assignment for variant rs35017955.\n",
      "Warning: Impossible A1 allele assignment for variant rs111532670.\n",
      "Warning: Impossible A1 allele assignment for variant rs148435065.\n",
      "Warning: Impossible A1 allele assignment for variant rs147050495.\n",
      "Warning: Impossible A1 allele assignment for variant rs150287660.\n",
      "Warning: Impossible A1 allele assignment for variant rs150480149.\n",
      "Warning: Impossible A1 allele assignment for variant rs11281146.\n",
      "Warning: Impossible A1 allele assignment for variant rs10598951.\n",
      "Warning: Impossible A1 allele assignment for variant rs55976849.\n",
      "Warning: Impossible A1 allele assignment for variant rs56871830.\n",
      "Warning: Impossible A1 allele assignment for variant rs202152850.\n",
      "Warning: Impossible A1 allele assignment for variant rs199932595.\n",
      "Warning: Impossible A1 allele assignment for variant rs34446072.\n",
      "Warning: Impossible A1 allele assignment for variant rs72240657.\n",
      "Warning: Impossible A1 allele assignment for variant rs5788827.\n",
      "Warning: Impossible A1 allele assignment for variant rs111467735.\n",
      "Warning: Impossible A1 allele assignment for variant rs35692523.\n",
      "Warning: Impossible A1 allele assignment for variant rs5789515.\n",
      "Warning: Impossible A1 allele assignment for variant rs138140225.\n",
      "Warning: Impossible A1 allele assignment for variant rs10627420.\n",
      "Warning: Impossible A1 allele assignment for variant rs34730979.\n",
      "Warning: Impossible A1 allele assignment for variant rs147359460.\n",
      "Warning: Impossible A1 allele assignment for variant rs10676423.\n",
      "Warning: Impossible A1 allele assignment for variant rs34088736.\n",
      "Warning: Impossible A1 allele assignment for variant rs59677985.\n",
      "Warning: Impossible A1 allele assignment for variant rs5792633.\n",
      "Warning: Impossible A1 allele assignment for variant rs71046975.\n",
      "Warning: Impossible A1 allele assignment for variant rs60728415.\n",
      "Warning: Impossible A1 allele assignment for variant rs5794069.\n",
      "Warning: Impossible A1 allele assignment for variant rs11389863.\n",
      "Warning: Impossible A1 allele assignment for variant rs58386771.\n",
      "Warning: Impossible A1 allele assignment for variant rs149989855.\n",
      "Warning: Impossible A1 allele assignment for variant rs200765236.\n",
      "Warning: Impossible A1 allele assignment for variant rs10845439.\n",
      "Warning: Impossible A1 allele assignment for variant rs11410265.\n",
      "Warning: Impossible A1 allele assignment for variant rs145053170.\n",
      "Warning: Impossible A1 allele assignment for variant rs34967117.\n",
      "Warning: Impossible A1 allele assignment for variant rs146159837.\n",
      "Warning: Impossible A1 allele assignment for variant rs141872617.\n",
      "Warning: Impossible A1 allele assignment for variant rs148744178.\n",
      "Warning: Impossible A1 allele assignment for variant rs144445994.\n",
      "Warning: Impossible A1 allele assignment for variant rs377288546.\n",
      "Warning: Impossible A1 allele assignment for variant rs57025244.\n",
      "Warning: Impossible A1 allele assignment for variant rs56808655.\n",
      "Warning: Impossible A1 allele assignment for variant rs36121482.\n",
      "Warning: Impossible A1 allele assignment for variant rs112398485.\n",
      "Warning: Impossible A1 allele assignment for variant rs35136338.\n",
      "Warning: Impossible A1 allele assignment for variant rs35814981.\n",
      "Warning: Impossible A1 allele assignment for variant rs9599171.\n",
      "Warning: Impossible A1 allele assignment for variant rs3075437.\n",
      "Warning: Impossible A1 allele assignment for variant rs200381946.\n",
      "Warning: Impossible A1 allele assignment for variant rs9530195.\n",
      "Warning: Impossible A1 allele assignment for variant rs35720894.\n",
      "Warning: Impossible A1 allele assignment for variant rs34703149.\n",
      "Warning: Impossible A1 allele assignment for variant rs142694972.\n",
      "Warning: Impossible A1 allele assignment for variant rs148340685.\n",
      "Warning: Impossible A1 allele assignment for variant rs36196814.\n",
      "Warning: Impossible A1 allele assignment for variant rs61400710.\n",
      "Warning: Impossible A1 allele assignment for variant rs140845066.\n",
      "Warning: Impossible A1 allele assignment for variant rs111864429.\n",
      "Warning: Impossible A1 allele assignment for variant rs149532947.\n",
      "Warning: Impossible A1 allele assignment for variant rs11379794.\n",
      "Warning: Impossible A1 allele assignment for variant rs113786826.\n",
      "Warning: Impossible A1 allele assignment for variant rs79697112.\n",
      "Warning: Impossible A1 allele assignment for variant rs10686797.\n",
      "Warning: Impossible A1 allele assignment for variant rs33911018.\n",
      "Warning: Impossible A1 allele assignment for variant rs112183174.\n",
      "Warning: Impossible A1 allele assignment for variant rs112038713.\n",
      "Warning: Impossible A1 allele assignment for variant rs201825062.\n",
      "Warning: Impossible A1 allele assignment for variant rs58300596.\n",
      "Warning: Impossible A1 allele assignment for variant rs145730606.\n",
      "Warning: Impossible A1 allele assignment for variant rs71280728.\n",
      "Warning: Impossible A1 allele assignment for variant rs59912939.\n",
      "Warning: Impossible A1 allele assignment for variant rs374142105.\n",
      "Warning: Impossible A1 allele assignment for variant rs55720616.\n",
      "Warning: Impossible A1 allele assignment for variant rs71378042.\n",
      "Warning: Impossible A1 allele assignment for variant rs5816868.\n",
      "Warning: Impossible A1 allele assignment for variant rs56031703.\n",
      "Warning: Impossible A1 allele assignment for variant rs142646570.\n",
      "Warning: Impossible A1 allele assignment for variant rs71382034.\n",
      "Warning: Impossible A1 allele assignment for variant rs112542398.\n",
      "Warning: Impossible A1 allele assignment for variant rs5818623.\n",
      "Warning: Impossible A1 allele assignment for variant rs10569851.\n",
      "Warning: Impossible A1 allele assignment for variant rs139049457.\n",
      "Warning: Impossible A1 allele assignment for variant rs150906505.\n",
      "Warning: Impossible A1 allele assignment for variant rs142032070.\n",
      "Warning: Impossible A1 allele assignment for variant rs193038927.\n",
      "Warning: Impossible A1 allele assignment for variant rs199817361.\n",
      "Warning: Impossible A1 allele assignment for variant rs58183353.\n",
      "Warning: Impossible A1 allele assignment for variant rs147258226.\n",
      "Warning: Impossible A1 allele assignment for variant rs10650743.\n",
      "Warning: Impossible A1 allele assignment for variant rs71172027.\n",
      "Warning: Impossible A1 allele assignment for variant rs35808714.\n",
      "Warning: Impossible A1 allele assignment for variant rs34990450.\n",
      "Warning: Impossible A1 allele assignment for variant rs141406346.\n",
      "Warning: Impossible A1 allele assignment for variant rs34238208.\n",
      "Warning: Impossible A1 allele assignment for variant rs146092313.\n",
      "Warning: Impossible A1 allele assignment for variant rs137914150.\n",
      "Warning: Impossible A1 allele assignment for variant rs72155611.\n",
      "Warning: Impossible A1 allele assignment for variant rs11373675.\n",
      "Warning: Impossible A1 allele assignment for variant rs137928326.\n",
      "Warning: Impossible A1 allele assignment for variant rs34699436.\n",
      "Warning: Impossible A1 allele assignment for variant rs35954284.\n",
      "Warning: Impossible A1 allele assignment for variant rs146055611.\n",
      "Warning: Impossible A1 allele assignment for variant rs112839858.\n",
      "Warning: Impossible A1 allele assignment for variant rs140822316.\n",
      "Warning: Impossible A1 allele assignment for variant rs67204288.\n",
      "Warning: Impossible A1 allele assignment for variant rs35299917.\n",
      "Warning: Impossible A1 allele assignment for variant rs71168622.\n",
      "Warning: Impossible A1 allele assignment for variant rs71170536.\n",
      "Warning: Impossible A1 allele assignment for variant rs60779505.\n",
      "Warning: Impossible A1 allele assignment for variant rs139488448.\n",
      "Warning: Impossible A1 allele assignment for variant rs138312876.\n",
      "Warning: Impossible A1 allele assignment for variant rs55997903.\n",
      "Warning: Impossible A1 allele assignment for variant rs202099727.\n",
      "Warning: Impossible A1 allele assignment for variant rs10566332.\n",
      "Warning: Impossible A1 allele assignment for variant rs138569031.\n",
      "Warning: Impossible A1 allele assignment for variant rs61542044.\n",
      "Warning: Impossible A1 allele assignment for variant rs151208523.\n",
      "Warning: Impossible A1 allele assignment for variant rs10684409.\n",
      "Warning: Impossible A1 allele assignment for variant rs11480817.\n",
      "Warning: Impossible A1 allele assignment for variant rs11428307.\n",
      "Warning: Impossible A1 allele assignment for variant rs57337201.\n",
      "Warning: Impossible A1 allele assignment for variant rs112329508.\n",
      "Warning: Impossible A1 allele assignment for variant rs113050087.\n",
      "Warning: Impossible A1 allele assignment for variant rs71912127.\n",
      "Warning: Impossible A1 allele assignment for variant rs141872150.\n",
      "Warning: Impossible A1 allele assignment for variant rs149102978.\n",
      "Warning: Impossible A1 allele assignment for variant rs146884741.\n",
      "Warning: Impossible A1 allele assignment for variant rs71192922.\n",
      "Warning: Impossible A1 allele assignment for variant rs34394527.\n",
      "Warning: Impossible A1 allele assignment for variant rs201423572.\n",
      "Warning: Impossible A1 allele assignment for variant rs145852171.\n"
     ]
    }
   ],
   "source": [
    "%%bash\n",
    "# Flip SNPs for resolving strand issues.\n",
    "# Print SNP-identifier and remove duplicates.\n",
    "awk '{print$1}' $path/all_differences.txt | sort -u > $path/flip_list.txt\n",
    "# Generates a file of 329 SNPs. These are the non-corresponding SNPs between the two files. \n",
    "# Flip the 329 non-corresponding SNPs. \n",
    "plink --bfile $intpath/dataset.b37_adj --flip $path/flip_list.txt --reference-allele $path/1kg_ref-list.txt --make-bed --out $intpath/dataset.b37.corrected\n",
    "# This command will generate some warnings for impossible A1 allele assignment."
   ]
  },
  {
   "cell_type": "code",
   "execution_count": 120,
   "metadata": {
    "ExecuteTime": {
     "end_time": "2020-08-21T15:13:56.136457Z",
     "start_time": "2020-08-21T15:13:51.610837Z"
    }
   },
   "outputs": [],
   "source": [
    "%%bash\n",
    "# Check for SNPs which are still problematic after they have been flipped.\n",
    "awk '{print$2,$5,$6}' $intpath/dataset.b37.corrected.bim > $intpath/dataset.b37.corrected_tmp\n",
    "sort $intpath/1kGMDS6_tmp $intpath/dataset.b37.corrected_tmp |uniq -u  > $path/uncorresponding_SNPs.txt"
   ]
  },
  {
   "cell_type": "code",
   "execution_count": 121,
   "metadata": {
    "ExecuteTime": {
     "end_time": "2020-08-21T15:13:56.389613Z",
     "start_time": "2020-08-21T15:13:56.163628Z"
    }
   },
   "outputs": [
    {
     "name": "stdout",
     "output_type": "stream",
     "text": [
      "652 /mnt/data/GWAS/output/task2.2_stratification/uncorresponding_SNPs.txt\n",
      "rs10013793 A TTG\n",
      "rs10013793 G T\n",
      "rs10544831 C T\n",
      "rs10544831 T ATT\n",
      "rs10546076 A TGTTC\n",
      "rs10546076 C T\n",
      "rs10566332 A G\n",
      "rs10566332 C CAT\n",
      "rs10569851 A C\n",
      "rs10569851 T AAC\n"
     ]
    }
   ],
   "source": [
    "%%bash\n",
    "# This file demonstrates that there are 652 differences between the files.\n",
    "wc -l $path/uncorresponding_SNPs.txt\n",
    "head $path/uncorresponding_SNPs.txt"
   ]
  },
  {
   "cell_type": "markdown",
   "metadata": {},
   "source": [
    "### Remove problematic SNPs from the dataset under study and 1000 Genomes"
   ]
  },
  {
   "cell_type": "code",
   "execution_count": 122,
   "metadata": {
    "ExecuteTime": {
     "end_time": "2020-08-21T15:14:57.105272Z",
     "start_time": "2020-08-21T15:14:57.021551Z"
    }
   },
   "outputs": [
    {
     "name": "stdout",
     "output_type": "stream",
     "text": [
      "rs10013793\n",
      "rs10544831\n",
      "rs10546076\n",
      "rs10566332\n",
      "rs10569851\n",
      "rs10598951\n",
      "rs10627420\n",
      "rs10650743\n",
      "rs10654837\n",
      "rs10663307\n"
     ]
    }
   ],
   "source": [
    "%%bash\n",
    "awk '{print$1}' $path/uncorresponding_SNPs.txt | sort -u > $path/SNPs_for_exlusion.txt\n",
    "# The command above generates a list of the SNPs which caused the 652 differences between the working dataset (i.e HapMap) and the 1000 Genomes data sets after flipping and setting of the reference genome.\n",
    "head $path/SNPs_for_exlusion.txt"
   ]
  },
  {
   "cell_type": "code",
   "execution_count": 125,
   "metadata": {
    "ExecuteTime": {
     "end_time": "2020-08-21T15:19:35.548308Z",
     "start_time": "2020-08-21T15:18:18.134123Z"
    }
   },
   "outputs": [
    {
     "name": "stdout",
     "output_type": "stream",
     "text": [
      "PLINK v1.90b3.45 64-bit (13 Jan 2017)      https://www.cog-genomics.org/plink2\n",
      "(C) 2005-2017 Shaun Purcell, Christopher Chang   GNU General Public License v3\n",
      "Logging to /mnt/data/GWAS/output/task2.2_stratification/intermediate_datasets/dataset.b37_MDS2.log.\n",
      "Options in effect:\n",
      "  --bfile /mnt/data/GWAS/output/task2.2_stratification/intermediate_datasets/dataset.b37.corrected\n",
      "  --exclude /mnt/data/GWAS/output/task2.2_stratification/SNPs_for_exlusion.txt\n",
      "  --make-bed\n",
      "  --out /mnt/data/GWAS/output/task2.2_stratification/intermediate_datasets/dataset.b37_MDS2\n",
      "\n",
      "32127 MB RAM detected; reserving 16063 MB for main workspace.\n",
      "6047414 variants loaded from .bim file.\n",
      "496 people (237 males, 259 females) loaded from .fam.\n",
      "496 phenotype values loaded from .fam.\n",
      "--exclude: 6047088 variants remaining.\n",
      "Using 1 thread (no multithreaded calculations invoked).\n",
      "Before main variant filters, 496 founders and 0 nonfounders present.\n",
      "Calculating allele frequencies... 10111213141516171819202122232425262728293031323334353637383940414243444546474849505152535455565758596061626364656667686970717273747576777879808182838485868788899091929394959697989 done.\n",
      "Total genotyping rate is 0.99998.\n",
      "6047088 variants and 496 people pass filters and QC.\n",
      "Among remaining phenotypes, 203 are cases and 293 are controls.\n",
      "--make-bed to\n",
      "/mnt/data/GWAS/output/task2.2_stratification/intermediate_datasets/dataset.b37_MDS2.bed\n",
      "+\n",
      "/mnt/data/GWAS/output/task2.2_stratification/intermediate_datasets/dataset.b37_MDS2.bim\n",
      "+\n",
      "/mnt/data/GWAS/output/task2.2_stratification/intermediate_datasets/dataset.b37_MDS2.fam\n",
      "... 101112131415161718192021222324252627282930313233343536373839404142434445464748495051525354555657585960616263646566676869707172737475767778798081828384858687888990919293949596979899done.\n",
      "PLINK v1.90b3.45 64-bit (13 Jan 2017)      https://www.cog-genomics.org/plink2\n",
      "(C) 2005-2017 Shaun Purcell, Christopher Chang   GNU General Public License v3\n",
      "Logging to /mnt/data/GWAS/output/task2.2_stratification/intermediate_datasets/1kG_MDS6.log.\n",
      "Options in effect:\n",
      "  --bfile /mnt/data/GWAS/output/task2.2_stratification/intermediate_datasets/1kG_MDS5\n",
      "  --exclude /mnt/data/GWAS/output/task2.2_stratification/SNPs_for_exlusion.txt\n",
      "  --make-bed\n",
      "  --out /mnt/data/GWAS/output/task2.2_stratification/intermediate_datasets/1kG_MDS6\n",
      "\n",
      "32127 MB RAM detected; reserving 16063 MB for main workspace.\n",
      "6047414 variants loaded from .bim file.\n",
      "2504 people (0 males, 0 females, 2504 ambiguous) loaded from .fam.\n",
      "Ambiguous sex IDs written to\n",
      "/mnt/data/GWAS/output/task2.2_stratification/intermediate_datasets/1kG_MDS6.nosex\n",
      ".\n",
      "--exclude: 6047088 variants remaining.\n",
      "Using 1 thread (no multithreaded calculations invoked).\n",
      "Before main variant filters, 2504 founders and 0 nonfounders present.\n",
      "Calculating allele frequencies... 10111213141516171819202122232425262728293031323334353637383940414243444546474849505152535455565758596061626364656667686970717273747576777879808182838485868788899091929394959697989 done.\n",
      "Total genotyping rate is 0.999931.\n",
      "6047088 variants and 2504 people pass filters and QC.\n",
      "Note: No phenotypes present.\n",
      "--make-bed to\n",
      "/mnt/data/GWAS/output/task2.2_stratification/intermediate_datasets/1kG_MDS6.bed\n",
      "+\n",
      "/mnt/data/GWAS/output/task2.2_stratification/intermediate_datasets/1kG_MDS6.bim\n",
      "+\n",
      "/mnt/data/GWAS/output/task2.2_stratification/intermediate_datasets/1kG_MDS6.fam\n",
      "... 101112131415161718192021222324252627282930313233343536373839404142434445464748495051525354555657585960616263646566676869707172737475767778798081828384858687888990919293949596979899done.\n"
     ]
    }
   ],
   "source": [
    "%%bash\n",
    "# Remove the problematic SNPs from both datasets.\n",
    "plink --bfile $intpath/dataset.b37.corrected --exclude $path/SNPs_for_exlusion.txt --make-bed --out $intpath/dataset.b37_MDS2\n",
    "plink --bfile $intpath/1kG_MDS5 --exclude $path/SNPs_for_exlusion.txt --make-bed --out $intpath/1kG_MDS6\n"
   ]
  },
  {
   "cell_type": "markdown",
   "metadata": {},
   "source": [
    "### Merge the dataset under study (HapMap) with 1000 Genomes Data"
   ]
  },
  {
   "cell_type": "code",
   "execution_count": 126,
   "metadata": {
    "ExecuteTime": {
     "end_time": "2020-08-21T15:24:22.386318Z",
     "start_time": "2020-08-21T15:20:22.108347Z"
    }
   },
   "outputs": [
    {
     "name": "stdout",
     "output_type": "stream",
     "text": [
      "PLINK v1.90b3.45 64-bit (13 Jan 2017)      https://www.cog-genomics.org/plink2\n",
      "(C) 2005-2017 Shaun Purcell, Christopher Chang   GNU General Public License v3\n",
      "Logging to /mnt/data/GWAS/output/task2.2_stratification/MDS_merge2.log.\n",
      "Options in effect:\n",
      "  --allow-no-sex\n",
      "  --bfile /mnt/data/GWAS/output/task2.2_stratification/intermediate_datasets/dataset.b37_MDS2\n",
      "  --bmerge /mnt/data/GWAS/output/task2.2_stratification/intermediate_datasets/1kG_MDS6.bed /mnt/data/GWAS/output/task2.2_stratification/intermediate_datasets/1kG_MDS6.bim /mnt/data/GWAS/output/task2.2_stratification/intermediate_datasets/1kG_MDS6.fam\n",
      "  --make-bed\n",
      "  --out /mnt/data/GWAS/output/task2.2_stratification/MDS_merge2\n",
      "\n",
      "32127 MB RAM detected; reserving 16063 MB for main workspace.\n",
      "496 people loaded from\n",
      "/mnt/data/GWAS/output/task2.2_stratification/intermediate_datasets/dataset.b37_MDS2.fam.\n",
      "2504 people to be merged from\n",
      "/mnt/data/GWAS/output/task2.2_stratification/intermediate_datasets/1kG_MDS6.fam.\n",
      "Of these, 2504 are new, while 0 are present in the base dataset.\n",
      "6047088 markers loaded from\n",
      "/mnt/data/GWAS/output/task2.2_stratification/intermediate_datasets/dataset.b37_MDS2.bim.\n",
      "6047088 markers to be merged from\n",
      "/mnt/data/GWAS/output/task2.2_stratification/intermediate_datasets/1kG_MDS6.bim.\n",
      "Of these, 0 are new, while 6047088 are present in the base dataset.\n",
      "Performing single-pass merge (3000 people, 6047088 variants).\n",
      "Merged fileset written to                     \n",
      "/mnt/data/GWAS/output/task2.2_stratification/MDS_merge2-merge.bed +\n",
      "/mnt/data/GWAS/output/task2.2_stratification/MDS_merge2-merge.bim +\n",
      "/mnt/data/GWAS/output/task2.2_stratification/MDS_merge2-merge.fam .\n",
      "6047088 variants loaded from .bim file.\n",
      "3000 people (237 males, 259 females, 2504 ambiguous) loaded from .fam.\n",
      "Ambiguous sex IDs written to\n",
      "/mnt/data/GWAS/output/task2.2_stratification/MDS_merge2.nosex .\n",
      "496 phenotype values loaded from .fam.\n",
      "Using 1 thread (no multithreaded calculations invoked).\n",
      "Before main variant filters, 3000 founders and 0 nonfounders present.\n",
      "Calculating allele frequencies... 10111213141516171819202122232425262728293031323334353637383940414243444546474849505152535455565758596061626364656667686970717273747576777879808182838485868788899091929394959697989 done.\n",
      "Total genotyping rate is 0.999939.\n",
      "6047088 variants and 3000 people pass filters and QC.\n",
      "Among remaining phenotypes, 203 are cases and 293 are controls.  (2504\n",
      "phenotypes are missing.)\n",
      "--make-bed to /mnt/data/GWAS/output/task2.2_stratification/MDS_merge2.bed +\n",
      "/mnt/data/GWAS/output/task2.2_stratification/MDS_merge2.bim +\n",
      "/mnt/data/GWAS/output/task2.2_stratification/MDS_merge2.fam ... 101112131415161718192021222324252627282930313233343536373839404142434445464748495051525354555657585960616263646566676869707172737475767778798081828384858687888990919293949596979899done.\n"
     ]
    },
    {
     "name": "stderr",
     "output_type": "stream",
     "text": [
      "Warning: Multiple chromosomes seen for variant 'rs113258194'.\n"
     ]
    }
   ],
   "source": [
    "%%bash\n",
    "# Merge HapMap with 1000 Genomes Data.\n",
    "plink --bfile $intpath/dataset.b37_MDS2 --bmerge $intpath/1kG_MDS6.bed $intpath/1kG_MDS6.bim $intpath/1kG_MDS6.fam --allow-no-sex --make-bed --out $path/MDS_merge2\n",
    "\n",
    "# Note, we are fully aware of the sample overlap between the HapMap and 1000 Genomes datasets. However, for the purpose of this tutorial this is not important.\n"
   ]
  },
  {
   "cell_type": "markdown",
   "metadata": {},
   "source": [
    "## Perform Multidimensional Scaling (MDS) on HapMap-CEU data anchored by 1000 Genomes data"
   ]
  },
  {
   "cell_type": "code",
   "execution_count": 127,
   "metadata": {
    "ExecuteTime": {
     "end_time": "2020-08-21T16:06:48.997065Z",
     "start_time": "2020-08-21T16:04:20.453729Z"
    }
   },
   "outputs": [
    {
     "name": "stdout",
     "output_type": "stream",
     "text": [
      "PLINK v1.90b3.45 64-bit (13 Jan 2017)      https://www.cog-genomics.org/plink2\n",
      "(C) 2005-2017 Shaun Purcell, Christopher Chang   GNU General Public License v3\n",
      "Logging to /mnt/data/GWAS/output/task2.2_stratification/MDS_merge2.log.\n",
      "Options in effect:\n",
      "  --bfile /mnt/data/GWAS/output/task2.2_stratification/MDS_merge2\n",
      "  --extract /mnt/data/GWAS/output/task2.2_stratification/../task2_QC/indepSNP.prune.in\n",
      "  --genome\n",
      "  --out /mnt/data/GWAS/output/task2.2_stratification/MDS_merge2\n",
      "\n",
      "32127 MB RAM detected; reserving 16063 MB for main workspace.\n",
      "6047088 variants loaded from .bim file.\n",
      "3000 people (237 males, 259 females, 2504 ambiguous) loaded from .fam.\n",
      "Ambiguous sex IDs written to\n",
      "/mnt/data/GWAS/output/task2.2_stratification/MDS_merge2.nosex .\n",
      "496 phenotype values loaded from .fam.\n",
      "--extract: 307793 variants remaining.\n",
      "Using up to 8 threads (change this with --threads).\n",
      "Before main variant filters, 3000 founders and 0 nonfounders present.\n",
      "Calculating allele frequencies... 10111213141516171819202122232425262728293031323334353637383940414243444546474849505152535455565758596061626364656667686970717273747576777879808182838485868788899091929394959697989 done.\n",
      "Total genotyping rate is 0.99993.\n",
      "307793 variants and 3000 people pass filters and QC.\n",
      "Among remaining phenotypes, 203 are cases and 293 are controls.  (2504\n",
      "phenotypes are missing.)\n",
      "IBD calculations complete.  \n",
      "Finished writing /mnt/data/GWAS/output/task2.2_stratification/MDS_merge2.genome\n",
      ".\n",
      "PLINK v1.90b3.45 64-bit (13 Jan 2017)      https://www.cog-genomics.org/plink2\n",
      "(C) 2005-2017 Shaun Purcell, Christopher Chang   GNU General Public License v3\n",
      "Logging to /mnt/data/GWAS/output/task2.2_stratification/MDS_merge2.log.\n",
      "Options in effect:\n",
      "  --bfile /mnt/data/GWAS/output/task2.2_stratification/MDS_merge2\n",
      "  --cluster\n",
      "  --mds-plot 10\n",
      "  --out /mnt/data/GWAS/output/task2.2_stratification/MDS_merge2\n",
      "  --read-genome /mnt/data/GWAS/output/task2.2_stratification/MDS_merge2.genome\n",
      "\n",
      "32127 MB RAM detected; reserving 16063 MB for main workspace.\n",
      "6047088 variants loaded from .bim file.\n",
      "3000 people (237 males, 259 females, 2504 ambiguous) loaded from .fam.\n",
      "Ambiguous sex IDs written to\n",
      "/mnt/data/GWAS/output/task2.2_stratification/MDS_merge2.nosex .\n",
      "496 phenotype values loaded from .fam.\n",
      "Using 1 thread (no multithreaded calculations invoked).\n",
      "Before main variant filters, 3000 founders and 0 nonfounders present.\n",
      "Calculating allele frequencies... 10111213141516171819202122232425262728293031323334353637383940414243444546474849505152535455565758596061626364656667686970717273747576777879808182838485868788899091929394959697989 done.\n",
      "Total genotyping rate is 0.999939.\n",
      "6047088 variants and 3000 people pass filters and QC.\n",
      "Among remaining phenotypes, 203 are cases and 293 are controls.  (2504\n",
      "phenotypes are missing.)\n",
      "Clustering... done.                        \n",
      "Cluster solution written to 101112131415161718192021222324252627282930313233343536373839404142434445464748495051525354555657585960616263646566676869707172737475767778798081828384858687888990919293949596979899100%\n",
      "/mnt/data/GWAS/output/task2.2_stratification/MDS_merge2.cluster1 ,\n",
      "/mnt/data/GWAS/output/task2.2_stratification/MDS_merge2.cluster2 , and\n",
      "/mnt/data/GWAS/output/task2.2_stratification/MDS_merge2.cluster3 .\n",
      "Performing multidimensional scaling analysis (SVD algorithm, 10\n",
      "dimensions)... done.\n",
      "MDS solution written to\n",
      "/mnt/data/GWAS/output/task2.2_stratification/MDS_merge2.mds .\n"
     ]
    }
   ],
   "source": [
    "%%bash\n",
    "# Using a set of pruned SNPs\n",
    "plink --bfile $path/MDS_merge2 --extract $path/../task2_QC/indepSNP.prune.in --genome --out $path/MDS_merge2\n",
    "plink --bfile $path/MDS_merge2 --read-genome $path/MDS_merge2.genome --cluster --mds-plot 10 --out $path/MDS_merge2\n"
   ]
  },
  {
   "cell_type": "markdown",
   "metadata": {},
   "source": [
    "## MDS-plot"
   ]
  },
  {
   "cell_type": "code",
   "execution_count": 130,
   "metadata": {
    "ExecuteTime": {
     "end_time": "2020-08-21T16:09:23.006005Z",
     "start_time": "2020-08-21T16:09:22.929378Z"
    }
   },
   "outputs": [
    {
     "name": "stdout",
     "output_type": "stream",
     "text": [
      "2505 /mnt/data/GWAS/ref_files/1000G_superpopulation_codes.txt\n",
      "FID\tIID\tSuperPop\n",
      "HG00096\tHG00096\tEUR\n",
      "HG00097\tHG00097\tEUR\n",
      "HG00099\tHG00099\tEUR\n",
      "HG00100\tHG00100\tEUR\n",
      "HG00101\tHG00101\tEUR\n",
      "HG00102\tHG00102\tEUR\n",
      "HG00103\tHG00103\tEUR\n",
      "HG00105\tHG00105\tEUR\n",
      "HG00106\tHG00106\tEUR\n"
     ]
    }
   ],
   "source": [
    "%%bash\n",
    "# 1000 Genomes superpopulation codes\n",
    "wc -l /mnt/data/GWAS/ref_files/1000G_superpopulation_codes.txt\n",
    "head /mnt/data/GWAS/ref_files/1000G_superpopulation_codes.txt"
   ]
  },
  {
   "cell_type": "code",
   "execution_count": 131,
   "metadata": {
    "ExecuteTime": {
     "end_time": "2020-08-21T16:10:58.808579Z",
     "start_time": "2020-08-21T16:10:58.562367Z"
    }
   },
   "outputs": [
    {
     "name": "stdout",
     "output_type": "stream",
     "text": [
      "HGX00096 HGX00096 OWN\n",
      "HGX00097 HGX00097 OWN\n",
      "HGX00099 HGX00099 OWN\n",
      "HGX00100 HGX00100 OWN\n",
      "HGX00101 HGX00101 OWN\n",
      "HGX00102 HGX00102 OWN\n",
      "HGX00103 HGX00103 OWN\n",
      "HGX00105 HGX00105 OWN\n",
      "HGX00106 HGX00106 OWN\n",
      "HGX00107 HGX00107 OWN\n"
     ]
    }
   ],
   "source": [
    "%%bash\n",
    "# Create a racefile of your own data.\n",
    "awk '{print$1,$2,\"OWN\"}' $intpath/dataset.b37_MDS.fam>$path/racefile_own.txt\n",
    "head $path/racefile_own.txt"
   ]
  },
  {
   "cell_type": "code",
   "execution_count": 154,
   "metadata": {
    "ExecuteTime": {
     "end_time": "2020-08-21T17:30:17.224101Z",
     "start_time": "2020-08-21T17:30:17.207642Z"
    }
   },
   "outputs": [
    {
     "name": "stdout",
     "output_type": "stream",
     "text": [
      "FID\tIID\tSuperPop\n",
      "HG00096\tHG00096\tEUR\n",
      "HG00097\tHG00097\tEUR\n",
      "HG00099\tHG00099\tEUR\n",
      "HG00100\tHG00100\tEUR\n",
      "HG00101\tHG00101\tEUR\n",
      "HG00102\tHG00102\tEUR\n",
      "HG00103\tHG00103\tEUR\n",
      "HG00105\tHG00105\tEUR\n",
      "HG00106\tHG00106\tEUR\n"
     ]
    }
   ],
   "source": [
    "%%bash\n",
    "# Concatenate racefiles.\n",
    "cat /mnt/data/GWAS/ref_files/1000G_superpopulation_codes.txt $path/racefile_own.txt  > $path/racefile.txt\n",
    "head $path/racefile.txt\n"
   ]
  },
  {
   "cell_type": "code",
   "execution_count": 187,
   "metadata": {
    "ExecuteTime": {
     "end_time": "2020-08-21T18:16:21.770176Z",
     "start_time": "2020-08-21T18:16:18.687121Z"
    }
   },
   "outputs": [
    {
     "data": {
      "image/png": "[encoded data removed]"
     },
     "metadata": {},
     "output_type": "display_data"
    }
   ],
   "source": [
    "%%R\n",
    "MDS_function(\"/mnt/data/GWAS/output/task2.2_stratification/MDS_merge2.mds\",\"/mnt/data/GWAS/output/task2.2_stratification/racefile.txt\")\n"
   ]
  },
  {
   "cell_type": "markdown",
   "metadata": {},
   "source": [
    "**The plot shows that our \"own\" data falls within the European group of the 1000 genomes data. Therefore, we do not have to remove subjects.**\n",
    "\n",
    "Anyway we are running the filtering step for educational purposes."
   ]
  },
  {
   "cell_type": "code",
   "execution_count": 159,
   "metadata": {
    "ExecuteTime": {
     "end_time": "2020-08-21T17:31:45.343297Z",
     "start_time": "2020-08-21T17:31:45.326897Z"
    }
   },
   "outputs": [
    {
     "name": "stdout",
     "output_type": "stream",
     "text": [
      "1000 /mnt/data/GWAS/output/task2.2_stratification/EURracefile.txt\n"
     ]
    }
   ],
   "source": [
    "%%bash\n",
    "# to make zoom - but the plot axis are fixed / hard coded so it is not possible with the current code\n",
    "grep \"EUR\\|OWN\" $path/racefile.txt | sed -e '1i\\FID IID race' > $path/EURracefile.txt\n",
    "wc -l $path/EURracefile.txt"
   ]
  },
  {
   "cell_type": "markdown",
   "metadata": {},
   "source": [
    "### Filter out population stratification outliers"
   ]
  },
  {
   "cell_type": "markdown",
   "metadata": {},
   "source": [
    "#### Exclude ethnic outliers"
   ]
  },
  {
   "cell_type": "code",
   "execution_count": 161,
   "metadata": {
    "ExecuteTime": {
     "end_time": "2020-08-21T17:34:59.840291Z",
     "start_time": "2020-08-21T17:34:59.825033Z"
    }
   },
   "outputs": [
    {
     "name": "stdout",
     "output_type": "stream",
     "text": [
      "      FID       IID    SOL           C1           C2           C3           C4           C5           C6           C7           C8           C9          C10 \n",
      "  HG00096   HG00096      0   -0.0477257   -0.0508167    0.0102372    0.0109444  -0.00121588 -0.000614106   0.00489702   -0.0118193   0.00952079   -0.0102924 \n",
      "  HG00097   HG00097      0   -0.0481964   -0.0508435   0.00967419   0.00906823  -0.00110833  -0.00162257  -0.00463493   -0.0135497    0.0162267   -0.0107302 \n",
      "  HG00099   HG00099      0   -0.0500857   -0.0512144   0.00970879   0.00773405  -0.00362059  -0.00205046    0.0233334  -0.00833883   0.00876377   -0.0121939 \n",
      "  HG00100   HG00100      0   -0.0452664   -0.0512332   0.00938461    0.0102627   0.00122994 -2.58053e-05    0.0148318    -0.018067   0.00318354    0.0036782 \n",
      "  HG00101   HG00101      0   -0.0468008   -0.0505854   0.00986659   0.00841507  -0.00295276  -0.00155352    0.0226476   -0.0149448   0.00676548  -0.00827814 \n",
      "  HG00102   HG00102      0   -0.0493259   -0.0505265   0.00897812   0.00889167  -0.00468692   0.00116827   0.00235255   -0.0148147    0.0170412   -0.0070884 \n",
      "  HG00103   HG00103      0   -0.0480545   -0.0499155    0.0104057    0.0095917  -0.00131328   0.00177087  -0.00155357  -0.00968217    0.0167427  -0.00596751 \n",
      "  HG00105   HG00105      0   -0.0467437   -0.0506912   0.00986914   0.00908791 -0.000809486  -0.00208349    0.0106308   -0.0121047    0.0108567   -0.0131038 \n",
      "  HG00106   HG00106      0   -0.0496365   -0.0513879   0.00883273   0.00803613 -0.000911874  -0.00239182    0.0100994   -0.0121159   0.00760664  -0.00989094 \n"
     ]
    }
   ],
   "source": [
    "%%bash\n",
    "head $path/MDS_merge2.mds"
   ]
  },
  {
   "cell_type": "code",
   "execution_count": 210,
   "metadata": {
    "ExecuteTime": {
     "end_time": "2020-08-21T18:26:17.845531Z",
     "start_time": "2020-08-21T18:26:17.827604Z"
    }
   },
   "outputs": [
    {
     "name": "stdout",
     "output_type": "stream",
     "text": [
      "3001 /mnt/data/GWAS/output/task2.2_stratification/MDS_merge2.mds\n",
      "1100 /mnt/data/GWAS/output/task2.2_stratification/EUR_MDS_merge2\n"
     ]
    }
   ],
   "source": [
    "%%bash\n",
    "# Select individuals in the working data below cut-off thresholds. The cut-off levels are not fixed thresholds but have to be determined based on the visualization of the first two dimensions. \n",
    "# To exclude ethnic outliers, the thresholds need to be set around the cluster of population of interest.\n",
    "awk '{ if ($4 <-0.02 && $5 < -0.02)  print $1,$2 }' $path/MDS_merge2.mds > $path/EUR_MDS_merge2\n",
    "wc -l $path/MDS_merge2.mds\n",
    "wc -l $path/EUR_MDS_merge2"
   ]
  },
  {
   "cell_type": "code",
   "execution_count": 214,
   "metadata": {
    "ExecuteTime": {
     "end_time": "2020-08-22T10:36:43.399139Z",
     "start_time": "2020-08-22T10:36:21.693776Z"
    }
   },
   "outputs": [
    {
     "name": "stdout",
     "output_type": "stream",
     "text": [
      "PLINK v1.90b3.45 64-bit (13 Jan 2017)      https://www.cog-genomics.org/plink2\n",
      "(C) 2005-2017 Shaun Purcell, Christopher Chang   GNU General Public License v3\n",
      "Logging to /mnt/data/GWAS/output/task2.2_stratification/intermediate_datasets/dataset.b37.outliers.log.\n",
      "Options in effect:\n",
      "  --bfile /mnt/data/GWAS/output/task2.2_stratification/../task2_QC/intermediate_datasets/dataset.b37.IBD\n",
      "  --keep /mnt/data/GWAS/output/task2.2_stratification/EUR_MDS_merge2\n",
      "  --make-bed\n",
      "  --out /mnt/data/GWAS/output/task2.2_stratification/intermediate_datasets/dataset.b37.outliers\n",
      "\n",
      "32127 MB RAM detected; reserving 16063 MB for main workspace.\n",
      "7076087 variants loaded from .bim file.\n",
      "496 people (237 males, 259 females) loaded from .fam.\n",
      "496 phenotype values loaded from .fam.\n",
      "--keep: 496 people remaining.\n",
      "Using 1 thread (no multithreaded calculations invoked).\n",
      "Before main variant filters, 496 founders and 0 nonfounders present.\n",
      "Calculating allele frequencies... 10111213141516171819202122232425262728293031323334353637383940414243444546474849505152535455565758596061626364656667686970717273747576777879808182838485868788899091929394959697989 done.\n",
      "Total genotyping rate is 0.999931.\n",
      "7076087 variants and 496 people pass filters and QC.\n",
      "Among remaining phenotypes, 203 are cases and 293 are controls.\n",
      "--make-bed to\n",
      "/mnt/data/GWAS/output/task2.2_stratification/intermediate_datasets/dataset.b37.outliers.bed\n",
      "+\n",
      "/mnt/data/GWAS/output/task2.2_stratification/intermediate_datasets/dataset.b37.outliers.bim\n",
      "+\n",
      "/mnt/data/GWAS/output/task2.2_stratification/intermediate_datasets/dataset.b37.outliers.fam\n",
      "... 101112131415161718192021222324252627282930313233343536373839404142434445464748495051525354555657585960616263646566676869707172737475767778798081828384858687888990919293949596979899done.\n"
     ]
    },
    {
     "name": "stderr",
     "output_type": "stream",
     "text": [
      "Warning: 1060176 het. haploid genotypes present (see\n",
      "/mnt/data/GWAS/output/task2.2_stratification/intermediate_datasets/dataset.b37.outliers.hh\n",
      "); many commands treat these as missing.\n"
     ]
    }
   ],
   "source": [
    "%%bash\n",
    "# Extract these individuals in the working dataset.\n",
    "plink --bfile $path/../task2_QC/intermediate_datasets/dataset.b37.IBD --keep $path/EUR_MDS_merge2 --make-bed --out $intpath/dataset.b37.outliers\n"
   ]
  },
  {
   "cell_type": "markdown",
   "metadata": {},
   "source": [
    "#### Create covariates based on MDS"
   ]
  },
  {
   "cell_type": "code",
   "execution_count": 215,
   "metadata": {
    "ExecuteTime": {
     "end_time": "2020-08-22T10:37:08.308693Z",
     "start_time": "2020-08-22T10:37:01.119835Z"
    }
   },
   "outputs": [
    {
     "name": "stdout",
     "output_type": "stream",
     "text": [
      "PLINK v1.90b3.45 64-bit (13 Jan 2017)      https://www.cog-genomics.org/plink2\n",
      "(C) 2005-2017 Shaun Purcell, Christopher Chang   GNU General Public License v3\n",
      "Logging to /mnt/data/GWAS/output/task2.2_stratification/dataset.b37.outliers.log.\n",
      "Options in effect:\n",
      "  --bfile /mnt/data/GWAS/output/task2.2_stratification/intermediate_datasets/dataset.b37.outliers\n",
      "  --extract /mnt/data/GWAS/output/task2.2_stratification/../task2_QC/indepSNP.prune.in\n",
      "  --genome\n",
      "  --out /mnt/data/GWAS/output/task2.2_stratification/dataset.b37.outliers\n",
      "\n",
      "32127 MB RAM detected; reserving 16063 MB for main workspace.\n",
      "7076087 variants loaded from .bim file.\n",
      "496 people (237 males, 259 females) loaded from .fam.\n",
      "496 phenotype values loaded from .fam.\n",
      "--extract: 473808 variants remaining.\n",
      "Using up to 8 threads (change this with --threads).\n",
      "Before main variant filters, 496 founders and 0 nonfounders present.\n",
      "Calculating allele frequencies... 10111213141516171819202122232425262728293031323334353637383940414243444546474849505152535455565758596061626364656667686970717273747576777879808182838485868788899091929394959697989 done.\n",
      "Total genotyping rate is 0.999881.\n",
      "473808 variants and 496 people pass filters and QC.\n",
      "Among remaining phenotypes, 203 are cases and 293 are controls.\n",
      "Excluding 18945 variants on non-autosomes from IBD calculation.\n",
      "IBD calculations complete.  \n",
      "Finished writing\n",
      "/mnt/data/GWAS/output/task2.2_stratification/dataset.b37.outliers.genome .\n",
      "PLINK v1.90b3.45 64-bit (13 Jan 2017)      https://www.cog-genomics.org/plink2\n",
      "(C) 2005-2017 Shaun Purcell, Christopher Chang   GNU General Public License v3\n",
      "Logging to /mnt/data/GWAS/output/task2.2_stratification/dataset.b37.mds.log.\n",
      "Options in effect:\n",
      "  --bfile /mnt/data/GWAS/output/task2.2_stratification/intermediate_datasets/dataset.b37.outliers\n",
      "  --cluster\n",
      "  --mds-plot 10\n",
      "  --out /mnt/data/GWAS/output/task2.2_stratification/dataset.b37.mds\n",
      "  --read-genome /mnt/data/GWAS/output/task2.2_stratification/dataset.b37.outliers.genome\n",
      "\n",
      "32127 MB RAM detected; reserving 16063 MB for main workspace.\n",
      "7076087 variants loaded from .bim file.\n",
      "496 people (237 males, 259 females) loaded from .fam.\n",
      "496 phenotype values loaded from .fam.\n",
      "Using 1 thread (no multithreaded calculations invoked).\n",
      "Before main variant filters, 496 founders and 0 nonfounders present.\n",
      "Calculating allele frequencies... 10111213141516171819202122232425262728293031323334353637383940414243444546474849505152535455565758596061626364656667686970717273747576777879808182838485868788899091929394959697989 done.\n",
      "Total genotyping rate is 0.999931.\n",
      "7076087 variants and 496 people pass filters and QC.\n",
      "Among remaining phenotypes, 203 are cases and 293 are controls.\n",
      "Clustering... done.                        \n",
      "Cluster solution written to 101112131415161718192021222324252627282930313233343536373839404142434445464748495051525354555657585960616263646566676869707172737475767778798081828384858687888990919293949596979899100%\n",
      "/mnt/data/GWAS/output/task2.2_stratification/dataset.b37.mds.cluster1 ,\n",
      "/mnt/data/GWAS/output/task2.2_stratification/dataset.b37.mds.cluster2 , and\n",
      "/mnt/data/GWAS/output/task2.2_stratification/dataset.b37.mds.cluster3 .\n",
      "Performing multidimensional scaling analysis (SVD algorithm, 10\n",
      "dimensions)... done.\n",
      "MDS solution written to\n",
      "/mnt/data/GWAS/output/task2.2_stratification/dataset.b37.mds.mds .\n"
     ]
    },
    {
     "name": "stderr",
     "output_type": "stream",
     "text": [
      "Warning: 116599 het. haploid genotypes present (see\n",
      "/mnt/data/GWAS/output/task2.2_stratification/dataset.b37.outliers.hh ); many\n",
      "commands treat these as missing.\n",
      "Warning: 1060176 het. haploid genotypes present (see\n",
      "/mnt/data/GWAS/output/task2.2_stratification/dataset.b37.mds.hh ); many\n",
      "commands treat these as missing.\n"
     ]
    }
   ],
   "source": [
    "%%bash\n",
    "# Perform an MDS ONLY on HapMap data without ethnic outliers. The values of the 10 MDS dimensions are subsequently used as covariates in the association analysis in the third tutorial.\n",
    "plink --bfile $intpath/dataset.b37.outliers --extract $path/../task2_QC/indepSNP.prune.in --genome --out $path/dataset.b37.outliers\n",
    "plink --bfile $intpath/dataset.b37.outliers --read-genome $path/dataset.b37.outliers.genome --cluster --mds-plot 10 --out $path/dataset.b37.mds\n"
   ]
  },
  {
   "cell_type": "code",
   "execution_count": 217,
   "metadata": {
    "ExecuteTime": {
     "end_time": "2020-08-24T17:52:21.360961Z",
     "start_time": "2020-08-24T17:52:21.328111Z"
    }
   },
   "outputs": [
    {
     "name": "stdout",
     "output_type": "stream",
     "text": [
      "HGX00096 HGX00096 0 0 1 1\n",
      "HGX00097 HGX00097 0 0 2 1\n",
      "HGX00099 HGX00099 0 0 2 1\n",
      "HGX00100 HGX00100 0 0 2 1\n",
      "HGX00101 HGX00101 0 0 1 1\n",
      "HGX00102 HGX00102 0 0 2 1\n",
      "HGX00103 HGX00103 0 0 1 1\n",
      "HGX00105 HGX00105 0 0 1 1\n",
      "HGX00106 HGX00106 0 0 2 1\n",
      "HGX00107 HGX00107 0 0 1 1\n"
     ]
    }
   ],
   "source": [
    "%%bash\n",
    "paste awk '{print$5, $6,}' /mnt/data/GWAS/output/task2.2_stratification/intermediate_datasets/dataset.b37.outliers.fam $path/covar_mds.txt > $path/covar_mds_age_pheno.txt\n",
    "head $path/covar_mds_age_pheno.txt"
   ]
  },
  {
   "cell_type": "code",
   "execution_count": null,
   "metadata": {},
   "outputs": [],
   "source": [
    "%%bash\n",
    "cp $path/covar_mds.txt $path/covar_mds_age_pheno.txt\n",
    "paste -d' ' $path/covar_mds_age_pheno.txt <(cut -d' ' -f2 file2)"
   ]
  },
  {
   "cell_type": "code",
   "execution_count": 213,
   "metadata": {
    "ExecuteTime": {
     "end_time": "2020-08-21T18:28:08.700407Z",
     "start_time": "2020-08-21T18:28:08.682896Z"
    }
   },
   "outputs": [
    {
     "name": "stdout",
     "output_type": "stream",
     "text": [
      "FID IID C1 C2 C3 C4 C5 C6 C7 C8 C9 C10\n",
      "HGX00096 HGX00096 -0.000130168 0.0148262 -0.00246446 -0.00800308 0.00270028 -0.00956846 0.00552736 0.0035352 -0.0125891 0.0173253\n",
      "HGX00097 HGX00097 -0.000255721 0.0139714 -0.00270998 -0.0107841 0.0176906 -0.00404297 -0.000167033 -0.0165653 -0.00459382 0.0126304\n",
      "HGX00099 HGX00099 0.00133495 0.0184345 -0.00508777 -0.0169761 -0.0099984 -0.00443926 0.00353687 0.00513696 -0.00120698 0.0253017\n",
      "HGX00100 HGX00100 -0.00332729 0.0183462 0.0179926 -0.00526761 -0.00754295 -0.00621013 -0.000163235 -0.00216034 -0.029367 0.026805\n",
      "HGX00101 HGX00101 0.000702511 0.0211981 -0.00266448 -0.0127535 -0.00542672 -0.00392478 -0.00215021 -0.00114056 -0.0138876 0.0281407\n",
      "HGX00102 HGX00102 0.00240392 0.0189573 -0.00523283 -0.00730245 0.0144611 -0.00904578 0.00350927 0.00110892 -0.0118359 0.0204098\n",
      "HGX00103 HGX00103 0.000293596 0.0129437 -0.00398425 -0.00442949 0.0150845 0.000305078 0.00590681 0.00564816 -0.000408353 -0.00234775\n",
      "HGX00105 HGX00105 -0.000439395 0.0169464 -0.0077837 -0.0139003 0.00431063 0.00565619 -0.00403705 0.0110402 0.00550992 0.00879913\n",
      "HGX00106 HGX00106 -0.00107784 0.0154828 0.00139142 -0.0113328 -0.000484044 -0.00598903 -0.0103982 0.0123405 -0.0104462 0.0088006\n"
     ]
    }
   ],
   "source": [
    "%%bash\n",
    "# Change the format of the .mds file into a plink covariate file.\n",
    "awk '{print$1, $2, $4, $5, $6, $7, $8, $9, $10, $11, $12, $13}' $path/dataset.b37.mds.mds > $path/covar_mds.txt\n",
    "head $path/covar_mds.txt\n",
    "# The values in covar_mds.txt will be used as covariates, to adjust for remaining population stratification, in the next pipeline/protocol/task where we will perform a genome-wide association analysis."
   ]
  },
  {
   "cell_type": "markdown",
   "metadata": {},
   "source": [
    "## TODO: rename dataset.b37.outliers to dataset.b37.QCed"
   ]
  },
  {
   "cell_type": "markdown",
   "metadata": {},
   "source": [
    "**For the next step you need the following files:**\n",
    "- dataset.b37.QCed (the bfile, i.e., dataset.b37.QCed.bed,dataset.b37.QCed.bim,and dataset.b37.QCed.fam)\n",
    "- covar_mds.txt"
   ]
  }
 ],
 "metadata": {
  "kernelspec": {
   "display_name": "Python3.6",
   "language": "python",
   "name": "python3.6"
  },
  "language_info": {
   "codemirror_mode": {
    "name": "ipython",
    "version": 3
   },
   "file_extension": ".py",
   "mimetype": "text/x-python",
   "name": "python",
   "nbconvert_exporter": "python",
   "pygments_lexer": "ipython3",
   "version": "3.6.12"
  },
  "toc": {
   "base_numbering": 1,
   "nav_menu": {},
   "number_sections": true,
   "sideBar": true,
   "skip_h1_title": false,
   "title_cell": "Table of Contents",
   "title_sidebar": "Contents",
   "toc_cell": false,
   "toc_position": {},
   "toc_section_display": true,
   "toc_window_display": false
  },
  "varInspector": {
   "cols": {
    "lenName": 16,
    "lenType": 16,
    "lenVar": 40
   },
   "kernels_config": {
    "python": {
     "delete_cmd_postfix": "",
     "delete_cmd_prefix": "del ",
     "library": "var_list.py",
     "varRefreshCmd": "print(var_dic_list())"
    },
    "r": {
     "delete_cmd_postfix": ") ",
     "delete_cmd_prefix": "rm(",
     "library": "var_list.r",
     "varRefreshCmd": "cat(var_dic_list()) "
    }
   },
   "types_to_exclude": [
    "module",
    "function",
    "builtin_function_or_method",
    "instance",
    "_Feature"
   ],
   "window_display": false
  }
 },
 "nbformat": 4,
 "nbformat_minor": 4
}
