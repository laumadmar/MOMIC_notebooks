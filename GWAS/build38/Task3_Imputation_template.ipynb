{
 "cells": [
  {
   "cell_type": "markdown",
   "metadata": {},
   "source": [
    "# Task 3: Imputation\n",
    "\n",
    "After the QC, genotype imputation can be performed with the minimac 3 algorithm at the University of Michigan server using the HRC reference panel, and the SHAPEIT tool for haplotype phasing. After imputation, SNPs with an R2 quality estimate lower than 0.3 are excluded from further analyses according to the software recommendations. \n",
    "\n",
    "To run this notebook you need the bfile dataset.b3.QCed, generated on previous task Population stratification.\n"
   ]
  },
  {
   "cell_type": "markdown",
   "metadata": {
    "toc": true
   },
   "source": [
    "<h1>Table of Contents<span class=\"tocSkip\"></span></h1>\n",
    "<div class=\"toc\"><ul class=\"toc-item\"><li><span><a href=\"#Preparing-the-dataset-for-imputation\" referrerpolicy=\"origin\" data-toc-modified-id=\"Preparing-the-dataset-for-imputation-1\"><span class=\"toc-item-num\">1&nbsp;&nbsp;</span>Preparing the dataset for imputation</a></span></li><li><span><a href=\"#Upload-vcf.gz-files-to-the-TopMed-server-(rsq-Filter:-0.3-;-phasing:-Eagle-v-2.4;-reference:-TopMed-r2;-QC-Frequency-Check:-vs.-TOPMed-panel;-mode:-QC&amp;imputation)\" referrerpolicy=\"origin\" data-toc-modified-id=\"Upload-vcf.gz-files-to-the-TopMed-server-(rsq-Filter:-0.3-;-phasing:-Eagle-v-2.4;-reference:-TopMed-r2;-QC-Frequency-Check:-vs.-TOPMed-panel;-mode:-QC&amp;imputation)-2\"><span class=\"toc-item-num\">2&nbsp;&nbsp;</span>Upload vcf.gz files to the TopMed server (rsq Filter: 0.3 ; phasing: Eagle v 2.4; reference: TopMed r2; QC Frequency Check: vs. TOPMed panel; mode: QC&amp;imputation)</a></span></li><li><span><a href=\"#QC-of-the-imputed-genotypes\" referrerpolicy=\"origin\" data-toc-modified-id=\"QC-of-the-imputed-genotypes-3\"><span class=\"toc-item-num\">3&nbsp;&nbsp;</span>QC of the imputed genotypes</a></span></li></ul></div>"
   ]
  },
  {
   "cell_type": "code",
   "execution_count": 5,
   "metadata": {
    "ExecuteTime": {
     "end_time": "2020-08-22T08:31:09.380193Z",
     "start_time": "2020-08-22T08:31:09.361243Z"
    }
   },
   "outputs": [
    {
     "name": "stdout",
     "output_type": "stream",
     "text": [
      "The rpy2.ipython extension is already loaded. To reload it, use:\n",
      "  %reload_ext rpy2.ipython\n"
     ]
    }
   ],
   "source": [
    "%load_ext rpy2.ipython"
   ]
  },
  {
   "cell_type": "code",
   "execution_count": 6,
   "metadata": {},
   "outputs": [],
   "source": [
    "import os\n",
    "\n",
    "# Create directories for the output files\n",
    "path=\"/mnt/data/GWAS/output/build38/task3_imputation\"\n",
    "if not os.path.exists(path):\n",
    "    os.makedirs(path)"
   ]
  },
  {
   "cell_type": "code",
   "execution_count": 28,
   "metadata": {
    "ExecuteTime": {
     "end_time": "2020-08-18T10:18:12.360263Z",
     "start_time": "2020-08-18T10:18:12.357423Z"
    }
   },
   "outputs": [
    {
     "name": "stdout",
     "output_type": "stream",
     "text": [
      "env: path=/mnt/data/GWAS/output/build38/task3_imputation\n"
     ]
    }
   ],
   "source": [
    "%env path=/mnt/data/GWAS/output/build38/task3_imputation"
   ]
  },
  {
   "cell_type": "markdown",
   "metadata": {},
   "source": [
    "##  Preparing the dataset for imputation\n",
    "\n",
    "We will use Will Rayner's toolbox to prepare the data. (https://www.well.ox.ac.uk/~wrayner/tools/)"
   ]
  },
  {
   "cell_type": "code",
   "execution_count": 8,
   "metadata": {
    "ExecuteTime": {
     "end_time": "2020-08-22T10:38:10.337578Z",
     "start_time": "2020-08-22T10:38:05.134254Z"
    }
   },
   "outputs": [
    {
     "name": "stdout",
     "output_type": "stream",
     "text": [
      "PLINK v1.90b3.45 64-bit (13 Jan 2017)      https://www.cog-genomics.org/plink2\n",
      "(C) 2005-2017 Shaun Purcell, Christopher Chang   GNU General Public License v3\n",
      "Logging to /mnt/data/GWAS/output/build38/task3_imputation/dataset.b38.QCed.freq.log.\n",
      "Options in effect:\n",
      "  --bfile /mnt/data/GWAS/output/build38/task2.2_stratification/intermediate_datasets/dataset.b38.QCed\n",
      "  --freq\n",
      "  --out /mnt/data/GWAS/output/build38/task3_imputation/dataset.b38.QCed.freq\n",
      "\n",
      "257659 MB RAM detected; reserving 128829 MB for main workspace.\n",
      "316140 variants loaded from .bim file.\n",
      "495 people (237 males, 258 females) loaded from .fam.\n",
      "495 phenotype values loaded from .fam.\n",
      "Using 1 thread (no multithreaded calculations invoked).\n",
      "Before main variant filters, 495 founders and 0 nonfounders present.\n",
      "Calculating allele frequencies... 10111213141516171819202122232425262728293031323334353637383940414243444546474849505152535455565758596061626364656667686970717273747576777879808182838485868788899091929394959697989 done.\n",
      "Total genotyping rate is 0.999876.\n",
      "--freq: Allele frequencies (founders only) written to\n",
      "/mnt/data/GWAS/output/build38/task3_imputation/dataset.b38.QCed.freq.frq .\n"
     ]
    },
    {
     "name": "stderr",
     "output_type": "stream",
     "text": [
      "Warning: 84090 het. haploid genotypes present (see\n",
      "/mnt/data/GWAS/output/build38/task3_imputation/dataset.b38.QCed.freq.hh ); many\n",
      "commands treat these as missing.\n"
     ]
    }
   ],
   "source": [
    "%%bash\n",
    "# Determine allele frequencies in the dataset\n",
    "plink --bfile /mnt/data/GWAS/output/build38/task2.2_stratification/intermediate_datasets/dataset.b38.QCed  --freq --out $path/dataset.b38.QCed.freq"
   ]
  },
  {
   "cell_type": "markdown",
   "metadata": {},
   "source": [
    "**Run the perl script from Will Rayner's toolbox to check plink .bim files against TopMed for strand, id names, positions, alleles, ref/alt assignment.** \n",
    "\n",
    "Using the terminal (New->Terminal from Jupyter panel or from the terminal inside your docker container) create a bash script containing the perl command. Provide execution permission (chmod +x) and run it (./HRC.sh). Place the script where the path environment variable points.\n",
    "\n",
    "Next, run from terminal the Run-plink.sh created by the perl one.\n",
    "\n",
    "**IMPORTANT: Do not run this script on momic.us.es.** This script needs 30Gb of RAM to run. The ouput of this command is stored in the path where the environment variable 'path' points to. If the user needs to impute his own data, install this pipeline locally following the User Manual."
   ]
  },
  {
   "cell_type": "raw",
   "metadata": {},
   "source": [
    "#!bin/bash\n",
    "perl /mnt/data/GWAS/scripts/HRC-1000G-check-bim_TopMed.pl -v -b dataset.b38.QCed.bim  -f dataset.b38.QCed.freq.frq -r /mnt/data/GWAS/ref_files/PASS.Variants.TOPMed_freeze5_hg38_dbSNP.tab.gz -h > dataset.b37.HRC-check.log "
   ]
  },
  {
   "cell_type": "raw",
   "metadata": {
    "ExecuteTime": {
     "end_time": "2020-08-22T13:27:02.111012Z",
     "start_time": "2020-08-22T13:27:02.079592Z"
    }
   },
   "source": [
    "bash Run-plink.sh > Run-plink.log"
   ]
  },
  {
   "cell_type": "raw",
   "metadata": {
    "ExecuteTime": {
     "end_time": "2020-08-22T16:45:21.402685Z",
     "start_time": "2020-08-22T16:45:21.390962Z"
    },
    "jupyter": {
     "outputs_hidden": true
    }
   },
   "source": [
    "%%bash\n",
    "cat $path/run-plink.log"
   ]
  },
  {
   "cell_type": "raw",
   "metadata": {
    "ExecuteTime": {
     "end_time": "2020-08-22T16:11:45.516710Z",
     "start_time": "2020-08-22T16:06:35.093239Z"
    }
   },
   "source": [
    "\n",
    "# compress the vcf files to upload to Michigan Server\n",
    "for i in {1..22}\n",
    "do\n",
    "    vcf-sort $path/dataset.b38.QCed-updated-chr$i.vcf | bgzip -c > $path/dataset.b38-sorted-chr$i.vcf.gz\n",
    "done"
   ]
  },
  {
   "cell_type": "markdown",
   "metadata": {},
   "source": [
    "## Upload vcf.gz files to the TopMed server (rsq Filter: 0.3 ; phasing: Eagle v 2.4; reference: TopMed r2; QC Frequency Check: vs. TOPMed panel; mode: QC&imputation)\n",
    "\n",
    "Log into the TopMedn Imputation Server site and click on Run from the menu located at the top.\n",
    "\n",
    "Select TopMed r2 reference panel, GRCh38/hg38 array built, 0.3 rsq filter, Eagle v2.4 as the phasing algoruthm, EUR population and \"Quality control& Imputation\" as the mode; you can also select AES 256 encryption. Upload vcf.gz files generated in the previous step and wait for a succesfull upload and initial QC.\n",
    "\n",
    "You will receive an email when the job is completed with the link and paswword to access the results. Download them."
   ]
  },
  {
   "cell_type": "markdown",
   "metadata": {},
   "source": [
    "## QC of the imputed genotypes"
   ]
  },
  {
   "cell_type": "code",
   "execution_count": 31,
   "metadata": {},
   "outputs": [
    {
     "name": "stdout",
     "output_type": "stream",
     "text": [
      "chr1.dose.rsq.0.3.DS.vcf.gz\n",
      "chr1.dose.vcf.gz\n",
      "chr1.info.gz\n",
      "chr10.dose.rsq.0.3.DS.vcf.gz\n",
      "chr10.dose.vcf.gz\n",
      "chr10.info.gz\n",
      "chr11.dose.rsq.0.3.DS.vcf.gz\n",
      "chr11.dose.vcf.gz\n",
      "chr11.info.gz\n",
      "chr12.dose.rsq.0.3.DS.vcf.gz\n",
      "chr12.dose.vcf.gz\n",
      "chr12.info.gz\n",
      "chr13.dose.rsq.0.3.DS.vcf.gz\n",
      "chr13.dose.vcf.gz\n",
      "chr13.info.gz\n",
      "chr14.dose.rsq.0.3.DS.vcf.gz\n",
      "chr14.dose.vcf.gz\n",
      "chr14.info.gz\n",
      "chr15.dose.rsq.0.3.DS.vcf.gz\n",
      "chr15.dose.vcf.gz\n",
      "chr15.info.gz\n",
      "chr16.dose.rsq.0.3.DS.vcf.gz\n",
      "chr16.dose.vcf.gz\n",
      "chr16.info.gz\n",
      "chr17.dose.rsq.0.3.DS.vcf.gz\n",
      "chr17.dose.vcf.gz\n",
      "chr17.info.gz\n",
      "chr18.dose.rsq.0.3.DS.vcf.gz\n",
      "chr18.dose.vcf.gz\n",
      "chr18.info.gz\n",
      "chr19.dose.rsq.0.3.DS.vcf.gz\n",
      "chr19.dose.vcf.gz\n",
      "chr19.info.gz\n",
      "chr2.dose.rsq.0.3.DS.vcf.gz\n",
      "chr2.dose.vcf.gz\n",
      "chr2.info.gz\n",
      "chr20.dose.rsq.0.3.DS.vcf.gz\n",
      "chr20.dose.vcf.gz\n",
      "chr20.info.gz\n",
      "chr21.dose.rsq.0.3.DS.vcf.gz\n",
      "chr21.dose.vcf.gz\n",
      "chr21.info.gz\n",
      "chr22.dose.bed\n",
      "chr22.dose.bim\n",
      "chr22.dose.fam\n",
      "chr22.dose.for.assoc.log\n",
      "chr22.dose.for.assoc.nosex\n",
      "chr22.dose.log\n",
      "chr22.dose.nosex\n",
      "chr22.dose.rsq.0.3.DS.vcf.gz\n",
      "chr22.dose.vcf.gz\n",
      "chr22.info.gz\n",
      "chr3.dose.rsq.0.3.DS.vcf.gz\n",
      "chr3.dose.vcf.gz\n",
      "chr3.info.gz\n",
      "chr4.dose.rsq.0.3.DS.vcf.gz\n",
      "chr4.dose.vcf.gz\n",
      "chr4.info.gz\n",
      "chr5.dose.rsq.0.3.DS.vcf.gz\n",
      "chr5.dose.vcf.gz\n",
      "chr5.info.gz\n",
      "chr6.dose.rsq.0.3.DS.vcf.gz\n",
      "chr6.dose.vcf.gz\n",
      "chr6.info.gz\n",
      "chr7.dose.rsq.0.3.DS.vcf.gz\n",
      "chr7.dose.vcf.gz\n",
      "chr7.info.gz\n",
      "chr8.dose.rsq.0.3.DS.vcf.gz\n",
      "chr8.dose.vcf.gz\n",
      "chr8.info.gz\n",
      "chr9.dose.rsq.0.3.DS.vcf.gz\n",
      "chr9.dose.vcf.gz\n",
      "chr9.info.gz\n",
      "chr_1.zip\n",
      "chr_10.zip\n",
      "chr_11.zip\n",
      "chr_12.zip\n",
      "chr_13.zip\n",
      "chr_14.zip\n",
      "chr_15.zip\n",
      "chr_16.zip\n",
      "chr_17.zip\n",
      "chr_18.zip\n",
      "chr_19.zip\n",
      "chr_2.zip\n",
      "chr_20.zip\n",
      "chr_21.zip\n",
      "chr_22.zip\n",
      "chr_3.zip\n",
      "chr_4.zip\n",
      "chr_5.zip\n",
      "chr_6.zip\n",
      "chr_7.zip\n",
      "chr_8.zip\n",
      "chr_9.zip\n",
      "chr_X.zip\n"
     ]
    }
   ],
   "source": [
    "%%bash\n",
    "ls $path/Imputed_files"
   ]
  },
  {
   "cell_type": "code",
   "execution_count": 13,
   "metadata": {
    "ExecuteTime": {
     "end_time": "2020-08-23T10:39:27.991381Z",
     "start_time": "2020-08-23T10:38:02.955506Z"
    },
    "scrolled": true
   },
   "outputs": [
    {
     "name": "stdout",
     "output_type": "stream",
     "text": [
      "Archive:  /mnt/data/GWAS/output/build38/task3_imputation/Imputed_files/chr_1.zip\n",
      "  inflating: /mnt/data/GWAS/output/build38/task3_imputation/Imputed_files/chr1.dose.vcf.gz  \n",
      "  inflating: /mnt/data/GWAS/output/build38/task3_imputation/Imputed_files/chr1.info.gz  \n",
      "Archive:  /mnt/data/GWAS/output/build38/task3_imputation/Imputed_files/chr_2.zip\n",
      "  inflating: /mnt/data/GWAS/output/build38/task3_imputation/Imputed_files/chr2.dose.vcf.gz  \n",
      "  inflating: /mnt/data/GWAS/output/build38/task3_imputation/Imputed_files/chr2.info.gz  \n",
      "Archive:  /mnt/data/GWAS/output/build38/task3_imputation/Imputed_files/chr_3.zip\n",
      "  inflating: /mnt/data/GWAS/output/build38/task3_imputation/Imputed_files/chr3.dose.vcf.gz  \n",
      "  inflating: /mnt/data/GWAS/output/build38/task3_imputation/Imputed_files/chr3.info.gz  \n",
      "Archive:  /mnt/data/GWAS/output/build38/task3_imputation/Imputed_files/chr_4.zip\n",
      "  inflating: /mnt/data/GWAS/output/build38/task3_imputation/Imputed_files/chr4.dose.vcf.gz  \n",
      "  inflating: /mnt/data/GWAS/output/build38/task3_imputation/Imputed_files/chr4.info.gz  \n",
      "Archive:  /mnt/data/GWAS/output/build38/task3_imputation/Imputed_files/chr_5.zip\n",
      "  inflating: /mnt/data/GWAS/output/build38/task3_imputation/Imputed_files/chr5.dose.vcf.gz  \n",
      "  inflating: /mnt/data/GWAS/output/build38/task3_imputation/Imputed_files/chr5.info.gz  \n",
      "Archive:  /mnt/data/GWAS/output/build38/task3_imputation/Imputed_files/chr_6.zip\n",
      "  inflating: /mnt/data/GWAS/output/build38/task3_imputation/Imputed_files/chr6.dose.vcf.gz  \n",
      "  inflating: /mnt/data/GWAS/output/build38/task3_imputation/Imputed_files/chr6.info.gz  \n",
      "Archive:  /mnt/data/GWAS/output/build38/task3_imputation/Imputed_files/chr_7.zip\n",
      "  inflating: /mnt/data/GWAS/output/build38/task3_imputation/Imputed_files/chr7.dose.vcf.gz  \n",
      "  inflating: /mnt/data/GWAS/output/build38/task3_imputation/Imputed_files/chr7.info.gz  \n",
      "Archive:  /mnt/data/GWAS/output/build38/task3_imputation/Imputed_files/chr_8.zip\n",
      "  inflating: /mnt/data/GWAS/output/build38/task3_imputation/Imputed_files/chr8.dose.vcf.gz  \n",
      "  inflating: /mnt/data/GWAS/output/build38/task3_imputation/Imputed_files/chr8.info.gz  \n",
      "Archive:  /mnt/data/GWAS/output/build38/task3_imputation/Imputed_files/chr_9.zip\n",
      "  inflating: /mnt/data/GWAS/output/build38/task3_imputation/Imputed_files/chr9.dose.vcf.gz  \n",
      "  inflating: /mnt/data/GWAS/output/build38/task3_imputation/Imputed_files/chr9.info.gz  \n",
      "Archive:  /mnt/data/GWAS/output/build38/task3_imputation/Imputed_files/chr_10.zip\n",
      "  inflating: /mnt/data/GWAS/output/build38/task3_imputation/Imputed_files/chr10.dose.vcf.gz  \n",
      "  inflating: /mnt/data/GWAS/output/build38/task3_imputation/Imputed_files/chr10.info.gz  \n",
      "Archive:  /mnt/data/GWAS/output/build38/task3_imputation/Imputed_files/chr_11.zip\n",
      "  inflating: /mnt/data/GWAS/output/build38/task3_imputation/Imputed_files/chr11.dose.vcf.gz  \n",
      "  inflating: /mnt/data/GWAS/output/build38/task3_imputation/Imputed_files/chr11.info.gz  \n",
      "Archive:  /mnt/data/GWAS/output/build38/task3_imputation/Imputed_files/chr_12.zip\n",
      "  inflating: /mnt/data/GWAS/output/build38/task3_imputation/Imputed_files/chr12.dose.vcf.gz  \n",
      "  inflating: /mnt/data/GWAS/output/build38/task3_imputation/Imputed_files/chr12.info.gz  \n",
      "Archive:  /mnt/data/GWAS/output/build38/task3_imputation/Imputed_files/chr_13.zip\n",
      "  inflating: /mnt/data/GWAS/output/build38/task3_imputation/Imputed_files/chr13.dose.vcf.gz  \n",
      "  inflating: /mnt/data/GWAS/output/build38/task3_imputation/Imputed_files/chr13.info.gz  \n",
      "Archive:  /mnt/data/GWAS/output/build38/task3_imputation/Imputed_files/chr_14.zip\n",
      "  inflating: /mnt/data/GWAS/output/build38/task3_imputation/Imputed_files/chr14.dose.vcf.gz  \n",
      "  inflating: /mnt/data/GWAS/output/build38/task3_imputation/Imputed_files/chr14.info.gz  \n",
      "Archive:  /mnt/data/GWAS/output/build38/task3_imputation/Imputed_files/chr_15.zip\n",
      "  inflating: /mnt/data/GWAS/output/build38/task3_imputation/Imputed_files/chr15.dose.vcf.gz  \n",
      "  inflating: /mnt/data/GWAS/output/build38/task3_imputation/Imputed_files/chr15.info.gz  \n",
      "Archive:  /mnt/data/GWAS/output/build38/task3_imputation/Imputed_files/chr_16.zip\n",
      "  inflating: /mnt/data/GWAS/output/build38/task3_imputation/Imputed_files/chr16.dose.vcf.gz  \n",
      "  inflating: /mnt/data/GWAS/output/build38/task3_imputation/Imputed_files/chr16.info.gz  \n",
      "Archive:  /mnt/data/GWAS/output/build38/task3_imputation/Imputed_files/chr_17.zip\n",
      "  inflating: /mnt/data/GWAS/output/build38/task3_imputation/Imputed_files/chr17.dose.vcf.gz  \n",
      "  inflating: /mnt/data/GWAS/output/build38/task3_imputation/Imputed_files/chr17.info.gz  \n",
      "Archive:  /mnt/data/GWAS/output/build38/task3_imputation/Imputed_files/chr_18.zip\n",
      "  inflating: /mnt/data/GWAS/output/build38/task3_imputation/Imputed_files/chr18.dose.vcf.gz  \n",
      "  inflating: /mnt/data/GWAS/output/build38/task3_imputation/Imputed_files/chr18.info.gz  \n",
      "Archive:  /mnt/data/GWAS/output/build38/task3_imputation/Imputed_files/chr_19.zip\n",
      "  inflating: /mnt/data/GWAS/output/build38/task3_imputation/Imputed_files/chr19.dose.vcf.gz  \n",
      "  inflating: /mnt/data/GWAS/output/build38/task3_imputation/Imputed_files/chr19.info.gz  \n",
      "Archive:  /mnt/data/GWAS/output/build38/task3_imputation/Imputed_files/chr_20.zip\n",
      "  inflating: /mnt/data/GWAS/output/build38/task3_imputation/Imputed_files/chr20.dose.vcf.gz  \n",
      "  inflating: /mnt/data/GWAS/output/build38/task3_imputation/Imputed_files/chr20.info.gz  \n",
      "Archive:  /mnt/data/GWAS/output/build38/task3_imputation/Imputed_files/chr_21.zip\n",
      "  inflating: /mnt/data/GWAS/output/build38/task3_imputation/Imputed_files/chr21.dose.vcf.gz  \n",
      "  inflating: /mnt/data/GWAS/output/build38/task3_imputation/Imputed_files/chr21.info.gz  \n",
      "Archive:  /mnt/data/GWAS/output/build38/task3_imputation/Imputed_files/chr_22.zip\n",
      "  inflating: /mnt/data/GWAS/output/build38/task3_imputation/Imputed_files/chr22.dose.vcf.gz  \n",
      "  inflating: /mnt/data/GWAS/output/build38/task3_imputation/Imputed_files/chr22.info.gz  \n"
     ]
    }
   ],
   "source": [
    "%%bash\n",
    "# Unzip the chromosomes files. Provide the password (in double quotes) supplied by the Michigan server\n",
    "for i in {1..22}\n",
    "do\n",
    "unzip -P \"XshQEGXh_v8Vy9\" $path/Imputed_files/chr_$i.zip -d $path/Imputed_files \n",
    "done"
   ]
  },
  {
   "cell_type": "markdown",
   "metadata": {},
   "source": [
    " **Extract genotype doses**"
   ]
  },
  {
   "cell_type": "code",
   "execution_count": 20,
   "metadata": {
    "ExecuteTime": {
     "start_time": "2020-08-23T15:45:29.274Z"
    }
   },
   "outputs": [],
   "source": [
    "%%bash\n",
    "# Extract genotype doses from vcf files and generate dosage files for PLINK software.\n",
    "# 1st parameter: path to extracted zip files (from previous step). Output files will be stored in this path\n",
    "# 2nd parameter: boolean indicating whereas the rsquare filter was applied during imputation\n",
    "bash scripts/extract_dose.sh $path/Imputed_files true"
   ]
  },
  {
   "cell_type": "markdown",
   "metadata": {},
   "source": [
    "**Generate a .fam file for PLINK from the chr22 vcf. Then update sex and pheno**"
   ]
  },
  {
   "cell_type": "code",
   "execution_count": 25,
   "metadata": {
    "ExecuteTime": {
     "end_time": "2020-08-24T07:17:45.398598Z",
     "start_time": "2020-08-24T07:17:41.155149Z"
    }
   },
   "outputs": [
    {
     "name": "stdout",
     "output_type": "stream",
     "text": [
      "PLINK v1.90b3.45 64-bit (13 Jan 2017)      https://www.cog-genomics.org/plink2\n",
      "(C) 2005-2017 Shaun Purcell, Christopher Chang   GNU General Public License v3\n",
      "Logging to /mnt/data/GWAS/output/build38/task3_imputation/Imputed_files/chr22.dose.log.\n",
      "Options in effect:\n",
      "  --make-bed\n",
      "  --out /mnt/data/GWAS/output/build38/task3_imputation/Imputed_files/chr22.dose\n",
      "  --vcf /mnt/data/GWAS/output/build38/task3_imputation/Imputed_files/chr22.dose.vcf.gz\n",
      "\n",
      "257659 MB RAM detected; reserving 128829 MB for main workspace.\n",
      "--vcf: 288k variants complete.\n",
      "/mnt/data/GWAS/output/build38/task3_imputation/Imputed_files/chr22.dose-temporary.bed\n",
      "+\n",
      "/mnt/data/GWAS/output/build38/task3_imputation/Imputed_files/chr22.dose-temporary.bim\n",
      "+\n",
      "/mnt/data/GWAS/output/build38/task3_imputation/Imputed_files/chr22.dose-temporary.fam\n",
      "written.\n",
      "288606 variants loaded from .bim file.\n",
      "495 people (0 males, 0 females, 495 ambiguous) loaded from .fam.\n",
      "Ambiguous sex IDs written to\n",
      "/mnt/data/GWAS/output/build38/task3_imputation/Imputed_files/chr22.dose.nosex .\n",
      "Using 1 thread (no multithreaded calculations invoked).\n",
      "Before main variant filters, 495 founders and 0 nonfounders present.\n",
      "Calculating allele frequencies... 10111213141516171819202122232425262728293031323334353637383940414243444546474849505152535455565758596061626364656667686970717273747576777879808182838485868788899091929394959697989 done.\n",
      "288606 variants and 495 people pass filters and QC.\n",
      "Note: No phenotypes present.\n",
      "--make-bed to\n",
      "/mnt/data/GWAS/output/build38/task3_imputation/Imputed_files/chr22.dose.bed +\n",
      "/mnt/data/GWAS/output/build38/task3_imputation/Imputed_files/chr22.dose.bim +\n",
      "/mnt/data/GWAS/output/build38/task3_imputation/Imputed_files/chr22.dose.fam ...\n",
      "101112131415161718192021222324252627282930313233343536373839404142434445464748495051525354555657585960616263646566676869707172737475767778798081828384858687888990919293949596979899done.\n"
     ]
    }
   ],
   "source": [
    "%%bash\n",
    "plink --vcf $path/Imputed_files/chr22.dose.vcf.gz --make-bed --out $path/Imputed_files/chr22.dose\n"
   ]
  },
  {
   "cell_type": "code",
   "execution_count": 32,
   "metadata": {
    "ExecuteTime": {
     "end_time": "2020-08-24T07:17:45.413643Z",
     "start_time": "2020-08-24T07:17:45.403432Z"
    }
   },
   "outputs": [
    {
     "name": "stdout",
     "output_type": "stream",
     "text": [
      "HGX00096 HGX00096 0 0 0 -9\n",
      "HGX00097 HGX00097 0 0 0 -9\n",
      "HGX00099 HGX00099 0 0 0 -9\n",
      "HGX00100 HGX00100 0 0 0 -9\n",
      "HGX00101 HGX00101 0 0 0 -9\n",
      "HGX00102 HGX00102 0 0 0 -9\n",
      "HGX00103 HGX00103 0 0 0 -9\n",
      "HGX00105 HGX00105 0 0 0 -9\n",
      "HGX00106 HGX00106 0 0 0 -9\n",
      "HGX00107 HGX00107 0 0 0 -9\n"
     ]
    }
   ],
   "source": [
    "%%bash\n",
    "head $path/Imputed_files/chr22.dose.fam"
   ]
  },
  {
   "cell_type": "code",
   "execution_count": 35,
   "metadata": {
    "ExecuteTime": {
     "end_time": "2020-08-24T07:17:52.050939Z",
     "start_time": "2020-08-24T07:17:51.925187Z"
    }
   },
   "outputs": [
    {
     "name": "stdout",
     "output_type": "stream",
     "text": [
      "PLINK v1.90b3.45 64-bit (13 Jan 2017)      https://www.cog-genomics.org/plink2\n",
      "(C) 2005-2017 Shaun Purcell, Christopher Chang   GNU General Public License v3\n",
      "Logging to /mnt/data/GWAS/output/build38/task3_imputation/Imputed_files/chr22.dose.for.assoc.log.\n",
      "Options in effect:\n",
      "  --bfile /mnt/data/GWAS/output/build38/task3_imputation/Imputed_files/chr22.dose\n",
      "  --make-bed\n",
      "  --mpheno 12\n",
      "  --out /mnt/data/GWAS/output/build38/task3_imputation/Imputed_files/chr22.dose.for.assoc\n",
      "  --pheno /mnt/data/GWAS/output/build38/task2.2_stratification/covar_mds_sex_pheno.txt\n",
      "  --update-sex /mnt/data/GWAS/output/build38/task2.2_stratification/covar_mds_sex_pheno.txt 11\n",
      "\n",
      "257659 MB RAM detected; reserving 128829 MB for main workspace.\n",
      "288606 variants loaded from .bim file.\n",
      "495 people (0 males, 0 females, 495 ambiguous) loaded from .fam.\n",
      "Ambiguous sex IDs written to\n",
      "/mnt/data/GWAS/output/build38/task3_imputation/Imputed_files/chr22.dose.for.assoc.nosex\n",
      ".\n",
      "495 phenotype values present after --pheno.\n",
      "--update-sex: 495 people updated, 1 ID not present.\n",
      "Using 1 thread (no multithreaded calculations invoked).\n",
      "Before main variant filters, 495 founders and 0 nonfounders present.\n",
      "Calculating allele frequencies... 10111213141516171819202122232425262728293031323334353637383940414243444546474849505152535455565758596061626364656667686970717273747576777879808182838485868788899091929394959697989 done.\n",
      "288606 variants and 495 people pass filters and QC.\n",
      "Among remaining phenotypes, 203 are cases and 292 are controls.\n",
      "--make-bed to\n",
      "/mnt/data/GWAS/output/build38/task3_imputation/Imputed_files/chr22.dose.for.assoc.bed\n",
      "+\n",
      "/mnt/data/GWAS/output/build38/task3_imputation/Imputed_files/chr22.dose.for.assoc.bim\n",
      "+\n",
      "/mnt/data/GWAS/output/build38/task3_imputation/Imputed_files/chr22.dose.for.assoc.fam\n",
      "... 101112131415161718192021222324252627282930313233343536373839404142434445464748495051525354555657585960616263646566676869707172737475767778798081828384858687888990919293949596979899done.\n"
     ]
    }
   ],
   "source": [
    "%%bash\n",
    "plink --bfile $path/Imputed_files/chr22.dose --make-bed --update-sex /mnt/data/GWAS/output/build38/task2.2_stratification/covar_mds_sex_pheno.txt 11 --pheno /mnt/data/GWAS/output/build38/task2.2_stratification/covar_mds_sex_pheno.txt --mpheno 12 --out  $path/Imputed_files/chr22.dose.for.assoc\n"
   ]
  },
  {
   "cell_type": "code",
   "execution_count": 36,
   "metadata": {
    "ExecuteTime": {
     "end_time": "2020-08-24T07:17:54.154521Z",
     "start_time": "2020-08-24T07:17:54.135712Z"
    }
   },
   "outputs": [
    {
     "name": "stdout",
     "output_type": "stream",
     "text": [
      "HGX00096 HGX00096 0 0 1 1\n",
      "HGX00097 HGX00097 0 0 2 1\n",
      "HGX00099 HGX00099 0 0 2 1\n",
      "HGX00100 HGX00100 0 0 2 1\n",
      "HGX00101 HGX00101 0 0 1 1\n",
      "HGX00102 HGX00102 0 0 2 1\n",
      "HGX00103 HGX00103 0 0 1 1\n",
      "HGX00105 HGX00105 0 0 1 1\n",
      "HGX00106 HGX00106 0 0 2 1\n",
      "HGX00107 HGX00107 0 0 1 1\n"
     ]
    }
   ],
   "source": [
    "%%bash\n",
    "head $path/Imputed_files/chr22.dose.for.assoc.fam"
   ]
  },
  {
   "cell_type": "code",
   "execution_count": null,
   "metadata": {
    "ExecuteTime": {
     "end_time": "2020-08-24T07:17:56.067109Z",
     "start_time": "2020-08-24T07:17:56.053644Z"
    }
   },
   "outputs": [],
   "source": [
    "%%bash\n",
    "rm $path/Imputed_files/chr22.dose.fam"
   ]
  },
  {
   "cell_type": "markdown",
   "metadata": {},
   "source": [
    "**For the next step you need the following files:**\n",
    "- chr22.dose.for.assoc.fam\n",
    "- chri.dose.rsq.DS.vcf.gz"
   ]
  }
 ],
 "metadata": {
  "kernelspec": {
   "display_name": "Python 3",
   "language": "python",
   "name": "python3"
  },
  "language_info": {
   "codemirror_mode": {
    "name": "ipython",
    "version": 3
   },
   "file_extension": ".py",
   "mimetype": "text/x-python",
   "name": "python",
   "nbconvert_exporter": "python",
   "pygments_lexer": "ipython3",
   "version": "3.6.9"
  },
  "toc": {
   "base_numbering": 1,
   "nav_menu": {},
   "number_sections": true,
   "sideBar": true,
   "skip_h1_title": true,
   "title_cell": "Table of Contents",
   "title_sidebar": "Contents",
   "toc_cell": true,
   "toc_position": {},
   "toc_section_display": true,
   "toc_window_display": true
  },
  "varInspector": {
   "cols": {
    "lenName": 16,
    "lenType": 16,
    "lenVar": 40
   },
   "kernels_config": {
    "python": {
     "delete_cmd_postfix": "",
     "delete_cmd_prefix": "del ",
     "library": "var_list.py",
     "varRefreshCmd": "print(var_dic_list())"
    },
    "r": {
     "delete_cmd_postfix": ") ",
     "delete_cmd_prefix": "rm(",
     "library": "var_list.r",
     "varRefreshCmd": "cat(var_dic_list()) "
    }
   },
   "types_to_exclude": [
    "module",
    "function",
    "builtin_function_or_method",
    "instance",
    "_Feature"
   ],
   "window_display": false
  }
 },
 "nbformat": 4,
 "nbformat_minor": 4
}
