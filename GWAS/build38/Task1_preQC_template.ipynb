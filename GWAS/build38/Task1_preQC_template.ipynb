{
 "cells": [
  {
   "cell_type": "markdown",
   "metadata": {},
   "source": [
    "# Task_1: Preparing the dataset.\n",
    "\n",
    "This first task of the protocol is aimed at preparing a working dataset in PLINK v1.9 binary format with all SNPs identified by the rs number and coordinates based on the genome build GRCh38/hg38; as required by the TopMed imputation server. The working dataset used to illustrate this GWAS protocol is a subset of the HapMap population.\n",
    "\n",
    "Unmapped and uncertain location variants will be removed.\n",
    "\n",
    "Run this template if you need to update the build from GRCh37/hg19 to GRCh38/hg38; otherwise you can skip this and go to task 2.  \n",
    "\n",
    "*These steps are much quicker in bash than in R, even though some steps can take a while as the input dataset is usually big.*"
   ]
  },
  {
   "cell_type": "markdown",
   "metadata": {
    "toc": true
   },
   "source": [
    "<h1>Table of Contents<span class=\"tocSkip\"></span></h1>\n",
    "<div class=\"toc\"><ul class=\"toc-item\"><li><span><a href=\"#UCSC--LiftOver.-Change-the-genomic-assembly-to-build-hg19/GRCh37-(requiered-for-imputation-at-Michigan-Server)\" data-toc-modified-id=\"UCSC--LiftOver.-Change-the-genomic-assembly-to-build-hg19/GRCh37-(requiered-for-imputation-at-Michigan-Server)-1\"><span class=\"toc-item-num\">1&nbsp;&nbsp;</span>UCSC  LiftOver. Change the genomic assembly to build hg19/GRCh37 (requiered for imputation at Michigan Server)</a></span></li><li><span><a href=\"#Update-the-database\" data-toc-modified-id=\"Update-the-database-2\"><span class=\"toc-item-num\">2&nbsp;&nbsp;</span>Update the database</a></span></li><li><span><a href=\"#Check-for-duplicates\" data-toc-modified-id=\"Check-for-duplicates-3\"><span class=\"toc-item-num\">3&nbsp;&nbsp;</span>Check for duplicates</a></span></li><li><span><a href=\"#Update-to-rs-to-obtain-Final-DB-for-QC\" data-toc-modified-id=\"Update-to-rs-to-obtain-Final-DB-for-QC-4\"><span class=\"toc-item-num\">4&nbsp;&nbsp;</span>Update to rs to obtain Final DB for QC</a></span></li></ul></div>"
   ]
  },
  {
   "cell_type": "code",
   "execution_count": 1,
   "metadata": {
    "ExecuteTime": {
     "end_time": "2020-08-20T08:39:08.336116Z",
     "start_time": "2020-08-20T08:39:07.764384Z"
    },
    "scrolled": true
   },
   "outputs": [],
   "source": [
    "%load_ext rpy2.ipython"
   ]
  },
  {
   "cell_type": "code",
   "execution_count": 2,
   "metadata": {
    "ExecuteTime": {
     "end_time": "2020-08-20T08:43:21.598614Z",
     "start_time": "2020-08-20T08:43:21.594760Z"
    }
   },
   "outputs": [
    {
     "name": "stdout",
     "output_type": "stream",
     "text": [
      "env: Path=/mnt/data/GWAS/output/build38/task1_preQC\n"
     ]
    }
   ],
   "source": [
    "%env Path=/mnt/data/GWAS/output/build38/task1_preQC"
   ]
  },
  {
   "cell_type": "markdown",
   "metadata": {},
   "source": [
    "## UCSC  LiftOver. Change the genomic assembly to build GRCh38/hg38 (requiered for imputation at TopMed Imputation Server)"
   ]
  },
  {
   "cell_type": "code",
   "execution_count": 30,
   "metadata": {},
   "outputs": [
    {
     "name": "stdout",
     "output_type": "stream",
     "text": [
      "1\t1:10107\t0\t10107\tT\tTA\n",
      "1\t1:10177\t0\t10177\tAC\tA\n",
      "1\t1:10350\t0\t10350\tT\tA\n",
      "1\t1:10355\t0\t10355\tG\tA\n",
      "1\t1:10462\t0\t10462\tGT\tG\n",
      "1\t1:11008\t0\t11008\tG\tC\n",
      "1\t1:13110\t0\t13110\tA\tG\n",
      "1\trs201725126\t0\t13116\tG\tT\n",
      "1\t1:13273\t0\t13273\tC\tG\n",
      "1\t1:14599\t0\t14599\tA\tT\n"
     ]
    }
   ],
   "source": [
    "%%bash\n",
    "# Update b37 to b38\n",
    "head /mnt/data/GWAS/input/dataset.b37.pruned.bim"
   ]
  },
  {
   "cell_type": "code",
   "execution_count": 9,
   "metadata": {},
   "outputs": [
    {
     "name": "stdout",
     "output_type": "stream",
     "text": [
      "chr1\t10107\t10108\t1:10107\n",
      "chr1\t10177\t10178\t1:10177\n",
      "chr1\t10350\t10351\t1:10350\n",
      "chr1\t10355\t10356\t1:10355\n",
      "chr1\t10462\t10463\t1:10462\n",
      "chr1\t11008\t11009\t1:11008\n",
      "chr1\t13110\t13111\t1:13110\n",
      "chr1\t13116\t13117\trs201725126\n",
      "chr1\t13273\t13274\t1:13273\n",
      "chr1\t14599\t14600\t1:14599\n"
     ]
    }
   ],
   "source": [
    "%%bash\n",
    "awk '{OFS=\"\\t\"; print \"chr\"$1,$4,$4+1,$2}' /mnt/data/GWAS/input/dataset.b37.pruned.bim | sed 's/chr23/chrX/g' | sed 's/chr24/chrY/g' | sed 's/chr26/chrM/g' > $Path/UCSC_b37.bed\n",
    "head $Path/UCSC_b37.bed"
   ]
  },
  {
   "cell_type": "code",
   "execution_count": 10,
   "metadata": {
    "ExecuteTime": {
     "end_time": "2020-08-20T08:43:56.364037Z",
     "start_time": "2020-08-20T08:43:56.335937Z"
    }
   },
   "outputs": [
    {
     "name": "stderr",
     "output_type": "stream",
     "text": [
      "Reading liftover chains\n",
      "Mapping coordinates\n"
     ]
    }
   ],
   "source": [
    "%%bash\n",
    "# UCSC liftOver to get the same reference build. It creates two output files, hglft_genome.bed and unmapped.bed\n",
    "# 1st parameter: bed file\n",
    "# 2nd parameter: fixed path - do not change it\n",
    "# 3rd parameter: path to output file\n",
    "# 4th parameter: unmapped SNPs\n",
    "/mnt/data/GWAS/tools/liftOver $Path/UCSC_b37.bed /mnt/data/GWAS/ref_files/build38/hg19ToHg38.over.chain.gz $Path/hglft_genome.bed $Path/unmapped.bed"
   ]
  },
  {
   "cell_type": "code",
   "execution_count": 7,
   "metadata": {},
   "outputs": [
    {
     "name": "stdout",
     "output_type": "stream",
     "text": [
      "chr1\t10107\t10108\t1:10107\n",
      "chr1\t10177\t10178\t1:10177\n",
      "chr1\t10350\t10351\t1:10350\n",
      "chr1\t10355\t10356\t1:10355\n",
      "chr1\t10462\t10463\t1:10462\n",
      "chr1\t11008\t11009\t1:11008\n",
      "chr1\t13110\t13111\t1:13110\n",
      "chr1\t13116\t13117\trs201725126\n",
      "chr1\t13273\t13274\t1:13273\n",
      "chr1\t14599\t14600\t1:14599\n"
     ]
    }
   ],
   "source": [
    "%%bash\n",
    "head $Path/hglft_genome.bed"
   ]
  },
  {
   "cell_type": "markdown",
   "metadata": {},
   "source": [
    "##  Update the database"
   ]
  },
  {
   "cell_type": "markdown",
   "metadata": {},
   "source": [
    "Update the chr, the basepair and the name for each SNP."
   ]
  },
  {
   "cell_type": "code",
   "execution_count": 13,
   "metadata": {},
   "outputs": [],
   "source": [
    "%%bash\n",
    "awk '{OFS=\"\\t\"; print $4,$1}' $Path/hglft_genome.bed | sed 's/chrX/chr23/g' | sed 's/chrY/chr24/g' | sed 's/chrM/chr26/g'| sed 's/chr//g'  > $Path/update_chr.txt\n",
    "awk '{OFS=\"\\t\"; print $4,$2}' $Path/hglft_genome.bed > $Path/update_bp.txt\n",
    "awk '{OFS=\"\\t\"; print $4,$1\":\"$2}' $Path/hglft_genome.bed | sed 's/chr//g' > $Path/update_name.txt\n"
   ]
  },
  {
   "cell_type": "markdown",
   "metadata": {},
   "source": [
    "Prepare the unmapped SNPs list to PLINK"
   ]
  },
  {
   "cell_type": "code",
   "execution_count": 20,
   "metadata": {
    "ExecuteTime": {
     "end_time": "2019-11-04T11:25:26.055874Z",
     "start_time": "2019-11-04T11:25:26.031797Z"
    }
   },
   "outputs": [
    {
     "name": "stdout",
     "output_type": "stream",
     "text": [
      "1:12611561\n",
      "rs76760850\n",
      "rs70987258\n",
      "rs113855685\n",
      "rs34558133\n",
      "1:12817301\n",
      "rs141509525\n",
      "rs56659575\n",
      "rs34493018\n",
      "rs200938605\n",
      "  928   928 10514 /mnt/data/GWAS/output/build38/task1_preQC/rs_to_exclude\n"
     ]
    }
   ],
   "source": [
    "%%bash\n",
    "awk '{OFS=\"\\t\"; print $4}' $Path/unmapped.bed | sed '/^$/d' > $Path/rs_to_exclude\n",
    "head $Path/rs_to_exclude\n",
    "wc $Path/rs_to_exclude"
   ]
  },
  {
   "cell_type": "markdown",
   "metadata": {},
   "source": [
    "Start prunning with PLINK. Remove Unmapped SNP. Update position (--update-map chr and bp). "
   ]
  },
  {
   "cell_type": "code",
   "execution_count": 24,
   "metadata": {
    "ExecuteTime": {
     "end_time": "2019-11-04T11:25:27.949300Z",
     "start_time": "2019-11-04T11:25:26.058348Z"
    },
    "scrolled": true
   },
   "outputs": [
    {
     "name": "stdout",
     "output_type": "stream",
     "text": [
      "PLINK v1.90b3.45 64-bit (13 Jan 2017)      https://www.cog-genomics.org/plink2\n",
      "(C) 2005-2017 Shaun Purcell, Christopher Chang   GNU General Public License v3\n",
      "Logging to /mnt/data/GWAS/output/build38/task1_preQC/temp1.log.\n",
      "Options in effect:\n",
      "  --allow-extra-chr\n",
      "  --bfile /mnt/data/GWAS/input/dataset.b37.pruned\n",
      "  --exclude /mnt/data/GWAS/output/build38/task1_preQC/rs_to_exclude\n",
      "  --make-bed\n",
      "  --out /mnt/data/GWAS/output/build38/task1_preQC/temp1\n",
      "  --update-chr /mnt/data/GWAS/output/build38/task1_preQC/update_chr.txt\n",
      "  --zero-cms\n",
      "\n",
      "36413 MB RAM detected; reserving 18206 MB for main workspace.\n",
      "1022685 variants loaded from .bim file.\n",
      "504 people (241 males, 263 females) loaded from .fam.\n",
      "504 phenotype values loaded from .fam.\n",
      "--exclude: 1021757 variants remaining.\n",
      "Using 1 thread (no multithreaded calculations invoked).\n",
      "Before main variant filters, 504 founders and 0 nonfounders present.\n",
      "Calculating allele frequencies... 10111213141516171819202122232425262728293031323334353637383940414243444546474849505152535455565758596061626364656667686970717273747576777879808182838485868788899091929394959697989 done.\n",
      "Total genotyping rate is 0.998478.\n",
      "1021757 variants and 504 people pass filters and QC.\n",
      "Among remaining phenotypes, 206 are cases and 298 are controls.\n",
      "--update-chr: 1021757 values updated.\n",
      "--make-bed to /mnt/data/GWAS/output/build38/task1_preQC/temp1.bed +\n",
      "/mnt/data/GWAS/output/build38/task1_preQC/temp1.bim +\n",
      "/mnt/data/GWAS/output/build38/task1_preQC/temp1.fam ... 1010111112121313141415151616171718181919202021212222232324242525262627272828292930303131323233333434353536363737383839394040414142424343444445454646474748484949505051515252535354545555565657575858595960606161626263636464656566666767686869697070717172727373747475757676777778787979808081818282838384848585868687878888898990909191929293939494959596969797989899done.\n",
      "PLINK v1.90b3.45 64-bit (13 Jan 2017)      https://www.cog-genomics.org/plink2\n",
      "(C) 2005-2017 Shaun Purcell, Christopher Chang   GNU General Public License v3\n",
      "Logging to /mnt/data/GWAS/output/build38/task1_preQC/temp2.log.\n",
      "Options in effect:\n",
      "  --allow-extra-chr\n",
      "  --bfile /mnt/data/GWAS/output/build38/task1_preQC/temp1\n",
      "  --make-bed\n",
      "  --out /mnt/data/GWAS/output/build38/task1_preQC/temp2\n",
      "  --update-map /mnt/data/GWAS/output/build38/task1_preQC/update_bp.txt\n",
      "\n",
      "36413 MB RAM detected; reserving 18206 MB for main workspace.\n",
      "1021757 variants loaded from .bim file.\n",
      "504 people (241 males, 263 females) loaded from .fam.\n",
      "504 phenotype values loaded from .fam.\n",
      "--update-map: 1021757 values updated.\n",
      "Using 1 thread (no multithreaded calculations invoked).\n",
      "Before main variant filters, 504 founders and 0 nonfounders present.\n",
      "Calculating allele frequencies... 10111213141516171819202122232425262728293031323334353637383940414243444546474849505152535455565758596061626364656667686970717273747576777879808182838485868788899091929394959697989 done.\n",
      "Total genotyping rate is 0.998478.\n",
      "1021757 variants and 504 people pass filters and QC.\n",
      "Among remaining phenotypes, 206 are cases and 298 are controls.\n",
      "--make-bed to /mnt/data/GWAS/output/build38/task1_preQC/temp2.bed +\n",
      "/mnt/data/GWAS/output/build38/task1_preQC/temp2.bim +\n",
      "/mnt/data/GWAS/output/build38/task1_preQC/temp2.fam ... 1010111112121313141415151616171718181919202021212222232324242525262627272828292930303131323233333434353536363737383839394040414142424343444445454646474748484949505051515252535354545555565657575858595960606161626263636464656566666767686869697070717172727373747475757676777778787979808081818282838384848585868687878888898990909191929293939494959596969797989899done.\n",
      "PLINK v1.90b3.45 64-bit (13 Jan 2017)      https://www.cog-genomics.org/plink2\n",
      "(C) 2005-2017 Shaun Purcell, Christopher Chang   GNU General Public License v3\n",
      "Logging to /mnt/data/GWAS/output/build38/task1_preQC/temp3.log.\n",
      "Options in effect:\n",
      "  --allow-extra-chr\n",
      "  --bfile /mnt/data/GWAS/output/build38/task1_preQC/temp2\n",
      "  --chr 1-26\n",
      "  --make-bed\n",
      "  --out /mnt/data/GWAS/output/build38/task1_preQC/temp3\n",
      "  --update-name /mnt/data/GWAS/output/build38/task1_preQC/update_name.txt\n",
      "\n",
      "36413 MB RAM detected; reserving 18206 MB for main workspace.\n",
      "1021014 out of 1021757 variants loaded from .bim file.\n",
      "504 people (241 males, 263 females) loaded from .fam.\n",
      "504 phenotype values loaded from .fam.\n",
      "--update-name: 1021014 values updated, 743 variant IDs not present.\n",
      "Using 1 thread (no multithreaded calculations invoked).\n",
      "Before main variant filters, 504 founders and 0 nonfounders present.\n",
      "Calculating allele frequencies... 10111213141516171819202122232425262728293031323334353637383940414243444546474849505152535455565758596061626364656667686970717273747576777879808182838485868788899091929394959697989 done.\n",
      "Total genotyping rate is 0.998479.\n",
      "1021014 variants and 504 people pass filters and QC.\n",
      "Among remaining phenotypes, 206 are cases and 298 are controls.\n",
      "--make-bed to /mnt/data/GWAS/output/build38/task1_preQC/temp3.bed +\n",
      "/mnt/data/GWAS/output/build38/task1_preQC/temp3.bim +\n",
      "/mnt/data/GWAS/output/build38/task1_preQC/temp3.fam ... 101112131415161718192021222324252627282930313233343536373839404142434445464748495051525354555657585960616263646566676869707172737475767778798081828384858687888990919293949596979899done.\n"
     ]
    },
    {
     "name": "stderr",
     "output_type": "stream",
     "text": [
      "Warning: 114045 het. haploid genotypes present (see\n",
      "/mnt/data/GWAS/output/build38/task1_preQC/temp1.hh ); many commands treat these\n",
      "as missing.\n",
      "Warning: Nonmissing nonmale Y chromosome genotype(s) present; many commands\n",
      "treat these as missing.\n",
      "Warning: Base-pair positions are now unsorted!\n",
      "Warning: 114256 het. haploid genotypes present (see\n",
      "/mnt/data/GWAS/output/build38/task1_preQC/temp2.hh ); many commands treat these\n",
      "as missing.\n",
      "Warning: Nonmissing nonmale Y chromosome genotype(s) present; many commands\n",
      "treat these as missing.\n",
      "Warning: 114256 het. haploid genotypes present (see\n",
      "/mnt/data/GWAS/output/build38/task1_preQC/temp3.hh ); many commands treat these\n",
      "as missing.\n",
      "Warning: Nonmissing nonmale Y chromosome genotype(s) present; many commands\n",
      "treat these as missing.\n"
     ]
    }
   ],
   "source": [
    "%%bash\n",
    "# Find plink logs in the Jupyter File view, in this working directory\n",
    "/usr/lib/plink1.9/plink --bfile /mnt/data/GWAS/input/dataset.b37.pruned --exclude $Path/rs_to_exclude --update-chr $Path/update_chr.txt --allow-extra-chr --make-bed --zero-cms --out $Path/temp1\n",
    "/usr/lib/plink1.9/plink --bfile $Path/temp1 --update-map $Path/update_bp.txt --allow-extra-chr  --make-bed --out $Path/temp2\n",
    "/usr/lib/plink1.9/plink --bfile $Path/temp2 --update-name $Path/update_name.txt --allow-extra-chr --chr 1-26 --make-bed --out $Path/temp3"
   ]
  },
  {
   "cell_type": "markdown",
   "metadata": {},
   "source": [
    "##  Check for duplicates"
   ]
  },
  {
   "cell_type": "code",
   "execution_count": 25,
   "metadata": {
    "ExecuteTime": {
     "end_time": "2019-11-04T11:25:28.553916Z",
     "start_time": "2019-11-04T11:25:27.952154Z"
    },
    "tags": []
   },
   "outputs": [],
   "source": [
    "%%bash\n",
    "#  Remove SNP duplicates\n",
    "sed 's/ /\\t/g' $Path/temp3.bim  | awk '{print $2}' | sort | uniq -c| awk '{if($1>1) print $2}'> $Path/remove_duplicates.txt"
   ]
  },
  {
   "cell_type": "code",
   "execution_count": 26,
   "metadata": {
    "ExecuteTime": {
     "end_time": "2019-11-04T11:25:30.821227Z",
     "start_time": "2019-11-04T11:25:28.556919Z"
    }
   },
   "outputs": [
    {
     "name": "stdout",
     "output_type": "stream",
     "text": [
      "PLINK v1.90b3.45 64-bit (13 Jan 2017)      https://www.cog-genomics.org/plink2\n",
      "(C) 2005-2017 Shaun Purcell, Christopher Chang   GNU General Public License v3\n",
      "Logging to /mnt/data/GWAS/output/build38/task1_preQC/temp4.log.\n",
      "Options in effect:\n",
      "  --bfile /mnt/data/GWAS/output/build38/task1_preQC/temp3\n",
      "  --exclude /mnt/data/GWAS/output/build38/task1_preQC/remove_duplicates.txt\n",
      "  --make-bed\n",
      "  --out /mnt/data/GWAS/output/build38/task1_preQC/temp4\n",
      "\n",
      "36413 MB RAM detected; reserving 18206 MB for main workspace.\n",
      "1021014 variants loaded from .bim file.\n",
      "504 people (241 males, 263 females) loaded from .fam.\n",
      "504 phenotype values loaded from .fam.\n",
      "--exclude: 1020992 variants remaining.\n",
      "Using 1 thread (no multithreaded calculations invoked).\n",
      "Before main variant filters, 504 founders and 0 nonfounders present.\n",
      "Calculating allele frequencies... 10111213141516171819202122232425262728293031323334353637383940414243444546474849505152535455565758596061626364656667686970717273747576777879808182838485868788899091929394959697989 done.\n",
      "Total genotyping rate is 0.998479.\n",
      "1020992 variants and 504 people pass filters and QC.\n",
      "Among remaining phenotypes, 206 are cases and 298 are controls.\n",
      "--make-bed to /mnt/data/GWAS/output/build38/task1_preQC/temp4.bed +\n",
      "/mnt/data/GWAS/output/build38/task1_preQC/temp4.bim +\n",
      "/mnt/data/GWAS/output/build38/task1_preQC/temp4.fam ... 101112131415161718192021222324252627282930313233343536373839404142434445464748495051525354555657585960616263646566676869707172737475767778798081828384858687888990919293949596979899done.\n"
     ]
    },
    {
     "name": "stderr",
     "output_type": "stream",
     "text": [
      "Warning: 114155 het. haploid genotypes present (see\n",
      "/mnt/data/GWAS/output/build38/task1_preQC/temp4.hh ); many commands treat these\n",
      "as missing.\n",
      "Warning: Nonmissing nonmale Y chromosome genotype(s) present; many commands\n",
      "treat these as missing.\n"
     ]
    }
   ],
   "source": [
    "%%bash\n",
    "/usr/lib/plink1.9/plink --bfile $Path/temp3 --exclude $Path/remove_duplicates.txt --make-bed --out $Path/temp4"
   ]
  },
  {
   "cell_type": "markdown",
   "metadata": {},
   "source": [
    "## Update to rs to obtain Final DB for QC\n"
   ]
  },
  {
   "cell_type": "code",
   "execution_count": 29,
   "metadata": {
    "ExecuteTime": {
     "end_time": "2019-11-04T11:29:34.277790Z",
     "start_time": "2019-11-04T11:29:33.486052Z"
    }
   },
   "outputs": [
    {
     "name": "stdout",
     "output_type": "stream",
     "text": [
      "PLINK v1.90b3.45 64-bit (13 Jan 2017)      https://www.cog-genomics.org/plink2\n",
      "(C) 2005-2017 Shaun Purcell, Christopher Chang   GNU General Public License v3\n",
      "Logging to /mnt/data/GWAS/output/build38/task1_preQC/dataset.b38.log.\n",
      "Options in effect:\n",
      "  --bfile /mnt/data/GWAS/output/build38/task1_preQC/temp4\n",
      "  --make-bed\n",
      "  --out /mnt/data/GWAS/output/build38/task1_preQC/dataset.b38\n",
      "  --update-name /mnt/data/GWAS/ref_files/build38/All.dbSNP151.chr.bp.b38.rs.update.name.unique.woalleles.txt\n",
      "\n",
      "36413 MB RAM detected; reserving 18206 MB for main workspace.\n",
      "1020992 variants loaded from .bim file.\n",
      "504 people (241 males, 263 females) loaded from .fam.\n",
      "504 phenotype values loaded from .fam.\n",
      "--update-name: 834894 values updated, 617269376 variant IDs not present.\n",
      "Using 1 thread (no multithreaded calculations invoked).\n",
      "Before main variant filters, 504 founders and 0 nonfounders present.\n",
      "Calculating allele frequencies... 10111213141516171819202122232425262728293031323334353637383940414243444546474849505152535455565758596061626364656667686970717273747576777879808182838485868788899091929394959697989 done.\n",
      "Total genotyping rate is 0.998479.\n",
      "1020992 variants and 504 people pass filters and QC.\n",
      "Among remaining phenotypes, 206 are cases and 298 are controls.\n",
      "--make-bed to /mnt/data/GWAS/output/build38/task1_preQC/dataset.b38.bed +\n",
      "/mnt/data/GWAS/output/build38/task1_preQC/dataset.b38.bim +\n",
      "/mnt/data/GWAS/output/build38/task1_preQC/dataset.b38.fam ... 101112131415161718192021222324252627282930313233343536373839404142434445464748495051525354555657585960616263646566676869707172737475767778798081828384858687888990919293949596979899done.\n"
     ]
    },
    {
     "name": "stderr",
     "output_type": "stream",
     "text": [
      "Warning: 114155 het. haploid genotypes present (see\n",
      "/mnt/data/GWAS/output/build38/task1_preQC/dataset.b38.hh ); many commands treat\n",
      "these as missing.\n",
      "Warning: Nonmissing nonmale Y chromosome genotype(s) present; many commands\n",
      "treat these as missing.\n"
     ]
    }
   ],
   "source": [
    "%%bash\n",
    "/usr/lib/plink1.9/plink --bfile $Path/temp4 --update-name /mnt/data/GWAS/ref_files/build38/All.dbSNP151.chr.bp.b38.rs.update.name.unique.woalleles.txt --make-bed --out $Path/dataset.b38\n",
    "rm $Path/temp*"
   ]
  },
  {
   "cell_type": "code",
   "execution_count": 31,
   "metadata": {},
   "outputs": [
    {
     "name": "stdout",
     "output_type": "stream",
     "text": [
      "1\t1:10107\t0\t10107\tT\tTA\n",
      "1\t1:10177\t0\t10177\tAC\tA\n",
      "1\t1:10350\t0\t10350\tT\tA\n",
      "1\t1:10355\t0\t10355\tG\tA\n",
      "1\trs1200541360\t0\t10462\tGT\tG\n",
      "1\trs575272151\t0\t11008\tG\tC\n",
      "1\trs540538026\t0\t13110\tA\tG\n",
      "1\trs62635286\t0\t13116\tG\tT\n",
      "1\trs531730856\t0\t13273\tC\tG\n",
      "1\trs707680\t0\t14599\tA\tT\n"
     ]
    }
   ],
   "source": [
    "%%bash\n",
    "head $Path/dataset.b38.bim"
   ]
  }
 ],
 "metadata": {
  "kernelspec": {
   "display_name": "Python 3",
   "language": "python",
   "name": "python3"
  },
  "language_info": {
   "codemirror_mode": {
    "name": "ipython",
    "version": 3
   },
   "file_extension": ".py",
   "mimetype": "text/x-python",
   "name": "python",
   "nbconvert_exporter": "python",
   "pygments_lexer": "ipython3",
   "version": "3.6.9"
  },
  "toc": {
   "base_numbering": 1,
   "nav_menu": {},
   "number_sections": true,
   "sideBar": true,
   "skip_h1_title": true,
   "title_cell": "Table of Contents",
   "title_sidebar": "Contents",
   "toc_cell": true,
   "toc_position": {},
   "toc_section_display": true,
   "toc_window_display": false
  },
  "varInspector": {
   "cols": {
    "lenName": 16,
    "lenType": 16,
    "lenVar": 40
   },
   "kernels_config": {
    "python": {
     "delete_cmd_postfix": "",
     "delete_cmd_prefix": "del ",
     "library": "var_list.py",
     "varRefreshCmd": "print(var_dic_list())"
    },
    "r": {
     "delete_cmd_postfix": ") ",
     "delete_cmd_prefix": "rm(",
     "library": "var_list.r",
     "varRefreshCmd": "cat(var_dic_list()) "
    }
   },
   "types_to_exclude": [
    "module",
    "function",
    "builtin_function_or_method",
    "instance",
    "_Feature"
   ],
   "window_display": false
  }
 },
 "nbformat": 4,
 "nbformat_minor": 4
}
