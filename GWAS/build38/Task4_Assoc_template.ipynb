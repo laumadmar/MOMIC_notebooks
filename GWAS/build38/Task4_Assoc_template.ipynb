{
 "cells": [
  {
   "cell_type": "markdown",
   "metadata": {},
   "source": [
    "# Task 4 Association analysis\n",
    "\n",
    "The association analysis tries to identify genetic variants (SNPs) that can be associated with a trait.\n",
    "\n",
    "To complete this task it is necessary to have generated the genotypes dossages 'chri.dose.rsq.DS.vcf.gz', the fam file 'chr22.dose.for.assoc.fam' updated with phenotype and sex and the covariates file 'covar_mds.txt' from the Task 2.2 Stratification Analysis."
   ]
  },
  {
   "cell_type": "code",
   "execution_count": 19,
   "metadata": {
    "ExecuteTime": {
     "end_time": "2020-08-26T16:34:28.366878Z",
     "start_time": "2020-08-26T16:34:26.281738Z"
    }
   },
   "outputs": [
    {
     "name": "stdout",
     "output_type": "stream",
     "text": [
      "The rpy2.ipython extension is already loaded. To reload it, use:\n",
      "  %reload_ext rpy2.ipython\n"
     ]
    }
   ],
   "source": [
    "%load_ext rpy2.ipython"
   ]
  },
  {
   "cell_type": "code",
   "execution_count": 2,
   "metadata": {},
   "outputs": [],
   "source": [
    "import os\n",
    "\n",
    "# Create directories for the output files\n",
    "path=\"/mnt/data/GWAS/output/build38/task4_assoc\"\n",
    "if not os.path.exists(path):\n",
    "    os.makedirs(path)"
   ]
  },
  {
   "cell_type": "code",
   "execution_count": 10,
   "metadata": {
    "ExecuteTime": {
     "end_time": "2020-08-26T16:34:28.836773Z",
     "start_time": "2020-08-26T16:34:28.829382Z"
    }
   },
   "outputs": [
    {
     "name": "stdout",
     "output_type": "stream",
     "text": [
      "env: path=/mnt/data/GWAS/output/build38/task4_assoc\n",
      "env: task3path=/mnt/data/GWAS/output/build38/task3_imputation/Imputed_files\n"
     ]
    }
   ],
   "source": [
    "# Set an environment variable to hold the path to the output directory\n",
    "# It is recommended to send the output to the datavolume (so that you don't fill up the home directory). You will be able to acces it from your host machine\n",
    "%env path= /mnt/data/GWAS/output/build38/task4_assoc\n",
    "%env task3path= /mnt/data/GWAS/output/build38/task3_imputation/Imputed_files"
   ]
  },
  {
   "cell_type": "markdown",
   "metadata": {},
   "source": [
    "## Association analysis"
   ]
  },
  {
   "cell_type": "code",
   "execution_count": 11,
   "metadata": {
    "ExecuteTime": {
     "end_time": "2020-08-24T07:33:00.643036Z",
     "start_time": "2020-08-24T07:19:41.169738Z"
    },
    "tags": []
   },
   "outputs": [
    {
     "name": "stdout",
     "output_type": "stream",
     "text": [
      "PLINK v1.90b3.45 64-bit (13 Jan 2017)      https://www.cog-genomics.org/plink2\n",
      "(C) 2005-2017 Shaun Purcell, Christopher Chang   GNU General Public License v3\n",
      "Logging to /mnt/data/GWAS/output/build38/task4_assoc/chr1.imputed.dosage.log.\n",
      "Options in effect:\n",
      "  --ci 0.95\n",
      "  --covar /mnt/data/GWAS/output/task2.2_stratification/covar_mds.txt\n",
      "  --dosage /mnt/data/GWAS/output/build38/task3_imputation/Imputed_files/chr1.dose.rsq.0.3.DS.vcf.gz format=1 noheader\n",
      "  --fam /mnt/data/GWAS/output/build38/task3_imputation/Imputed_files/chr22.dose.for.assoc.fam\n",
      "  --hide-covar\n",
      "  --out /mnt/data/GWAS/output/build38/task4_assoc/chr1.imputed.dosage\n",
      "\n",
      "Note: --hide-covar flag deprecated.  Use e.g. '--linear hide-covar'.\n",
      "257659 MB RAM detected; reserving 128829 MB for main workspace.\n",
      "495 people (237 males, 258 females) loaded from .fam.\n",
      "495 phenotype values loaded from .fam.\n",
      "Using 1 thread (no multithreaded calculations invoked).\n",
      "--covar: 10 covariates loaded.\n",
      "495 people pass filters and QC.\n",
      "Among remaining phenotypes, 203 are cases and 292 are controls.\n",
      "--dosage: Reading from\n",
      "/mnt/data/GWAS/output/build38/task3_imputation/Imputed_files/chr1.dose.rsq.0.3.DS.vcf.gz.\n",
      "--dosage: Results saved to\n",
      "/mnt/data/GWAS/output/build38/task4_assoc/chr1.imputed.dosage.assoc.dosage .\n",
      "PLINK v1.90b3.45 64-bit (13 Jan 2017)      https://www.cog-genomics.org/plink2\n",
      "(C) 2005-2017 Shaun Purcell, Christopher Chang   GNU General Public License v3\n",
      "Logging to /mnt/data/GWAS/output/build38/task4_assoc/chr2.imputed.dosage.log.\n",
      "Options in effect:\n",
      "  --ci 0.95\n",
      "  --covar /mnt/data/GWAS/output/task2.2_stratification/covar_mds.txt\n",
      "  --dosage /mnt/data/GWAS/output/build38/task3_imputation/Imputed_files/chr2.dose.rsq.0.3.DS.vcf.gz format=1 noheader\n",
      "  --fam /mnt/data/GWAS/output/build38/task3_imputation/Imputed_files/chr22.dose.for.assoc.fam\n",
      "  --hide-covar\n",
      "  --out /mnt/data/GWAS/output/build38/task4_assoc/chr2.imputed.dosage\n",
      "\n",
      "Note: --hide-covar flag deprecated.  Use e.g. '--linear hide-covar'.\n",
      "257659 MB RAM detected; reserving 128829 MB for main workspace.\n",
      "495 people (237 males, 258 females) loaded from .fam.\n",
      "495 phenotype values loaded from .fam.\n",
      "Using 1 thread (no multithreaded calculations invoked).\n",
      "--covar: 10 covariates loaded.\n",
      "495 people pass filters and QC.\n",
      "Among remaining phenotypes, 203 are cases and 292 are controls.\n",
      "--dosage: Reading from\n",
      "/mnt/data/GWAS/output/build38/task3_imputation/Imputed_files/chr2.dose.rsq.0.3.DS.vcf.gz.\n",
      "--dosage: Results saved to\n",
      "/mnt/data/GWAS/output/build38/task4_assoc/chr2.imputed.dosage.assoc.dosage .\n",
      "PLINK v1.90b3.45 64-bit (13 Jan 2017)      https://www.cog-genomics.org/plink2\n",
      "(C) 2005-2017 Shaun Purcell, Christopher Chang   GNU General Public License v3\n",
      "Logging to /mnt/data/GWAS/output/build38/task4_assoc/chr3.imputed.dosage.log.\n",
      "Options in effect:\n",
      "  --ci 0.95\n",
      "  --covar /mnt/data/GWAS/output/task2.2_stratification/covar_mds.txt\n",
      "  --dosage /mnt/data/GWAS/output/build38/task3_imputation/Imputed_files/chr3.dose.rsq.0.3.DS.vcf.gz format=1 noheader\n",
      "  --fam /mnt/data/GWAS/output/build38/task3_imputation/Imputed_files/chr22.dose.for.assoc.fam\n",
      "  --hide-covar\n",
      "  --out /mnt/data/GWAS/output/build38/task4_assoc/chr3.imputed.dosage\n",
      "\n",
      "Note: --hide-covar flag deprecated.  Use e.g. '--linear hide-covar'.\n",
      "257659 MB RAM detected; reserving 128829 MB for main workspace.\n",
      "495 people (237 males, 258 females) loaded from .fam.\n",
      "495 phenotype values loaded from .fam.\n",
      "Using 1 thread (no multithreaded calculations invoked).\n",
      "--covar: 10 covariates loaded.\n",
      "495 people pass filters and QC.\n",
      "Among remaining phenotypes, 203 are cases and 292 are controls.\n",
      "--dosage: Reading from\n",
      "/mnt/data/GWAS/output/build38/task3_imputation/Imputed_files/chr3.dose.rsq.0.3.DS.vcf.gz.\n",
      "--dosage: Results saved to\n",
      "/mnt/data/GWAS/output/build38/task4_assoc/chr3.imputed.dosage.assoc.dosage .\n",
      "PLINK v1.90b3.45 64-bit (13 Jan 2017)      https://www.cog-genomics.org/plink2\n",
      "(C) 2005-2017 Shaun Purcell, Christopher Chang   GNU General Public License v3\n",
      "Logging to /mnt/data/GWAS/output/build38/task4_assoc/chr4.imputed.dosage.log.\n",
      "Options in effect:\n",
      "  --ci 0.95\n",
      "  --covar /mnt/data/GWAS/output/task2.2_stratification/covar_mds.txt\n",
      "  --dosage /mnt/data/GWAS/output/build38/task3_imputation/Imputed_files/chr4.dose.rsq.0.3.DS.vcf.gz format=1 noheader\n",
      "  --fam /mnt/data/GWAS/output/build38/task3_imputation/Imputed_files/chr22.dose.for.assoc.fam\n",
      "  --hide-covar\n",
      "  --out /mnt/data/GWAS/output/build38/task4_assoc/chr4.imputed.dosage\n",
      "\n",
      "Note: --hide-covar flag deprecated.  Use e.g. '--linear hide-covar'.\n",
      "257659 MB RAM detected; reserving 128829 MB for main workspace.\n",
      "495 people (237 males, 258 females) loaded from .fam.\n",
      "495 phenotype values loaded from .fam.\n",
      "Using 1 thread (no multithreaded calculations invoked).\n",
      "--covar: 10 covariates loaded.\n",
      "495 people pass filters and QC.\n",
      "Among remaining phenotypes, 203 are cases and 292 are controls.\n",
      "--dosage: Reading from\n",
      "/mnt/data/GWAS/output/build38/task3_imputation/Imputed_files/chr4.dose.rsq.0.3.DS.vcf.gz.\n",
      "--dosage: Results saved to\n",
      "/mnt/data/GWAS/output/build38/task4_assoc/chr4.imputed.dosage.assoc.dosage .\n",
      "PLINK v1.90b3.45 64-bit (13 Jan 2017)      https://www.cog-genomics.org/plink2\n",
      "(C) 2005-2017 Shaun Purcell, Christopher Chang   GNU General Public License v3\n",
      "Logging to /mnt/data/GWAS/output/build38/task4_assoc/chr5.imputed.dosage.log.\n",
      "Options in effect:\n",
      "  --ci 0.95\n",
      "  --covar /mnt/data/GWAS/output/task2.2_stratification/covar_mds.txt\n",
      "  --dosage /mnt/data/GWAS/output/build38/task3_imputation/Imputed_files/chr5.dose.rsq.0.3.DS.vcf.gz format=1 noheader\n",
      "  --fam /mnt/data/GWAS/output/build38/task3_imputation/Imputed_files/chr22.dose.for.assoc.fam\n",
      "  --hide-covar\n",
      "  --out /mnt/data/GWAS/output/build38/task4_assoc/chr5.imputed.dosage\n",
      "\n",
      "Note: --hide-covar flag deprecated.  Use e.g. '--linear hide-covar'.\n",
      "257659 MB RAM detected; reserving 128829 MB for main workspace.\n",
      "495 people (237 males, 258 females) loaded from .fam.\n",
      "495 phenotype values loaded from .fam.\n",
      "Using 1 thread (no multithreaded calculations invoked).\n",
      "--covar: 10 covariates loaded.\n",
      "495 people pass filters and QC.\n",
      "Among remaining phenotypes, 203 are cases and 292 are controls.\n",
      "--dosage: Reading from\n",
      "/mnt/data/GWAS/output/build38/task3_imputation/Imputed_files/chr5.dose.rsq.0.3.DS.vcf.gz.\n",
      "--dosage: Results saved to\n",
      "/mnt/data/GWAS/output/build38/task4_assoc/chr5.imputed.dosage.assoc.dosage .\n",
      "PLINK v1.90b3.45 64-bit (13 Jan 2017)      https://www.cog-genomics.org/plink2\n",
      "(C) 2005-2017 Shaun Purcell, Christopher Chang   GNU General Public License v3\n",
      "Logging to /mnt/data/GWAS/output/build38/task4_assoc/chr6.imputed.dosage.log.\n",
      "Options in effect:\n",
      "  --ci 0.95\n",
      "  --covar /mnt/data/GWAS/output/task2.2_stratification/covar_mds.txt\n",
      "  --dosage /mnt/data/GWAS/output/build38/task3_imputation/Imputed_files/chr6.dose.rsq.0.3.DS.vcf.gz format=1 noheader\n",
      "  --fam /mnt/data/GWAS/output/build38/task3_imputation/Imputed_files/chr22.dose.for.assoc.fam\n",
      "  --hide-covar\n",
      "  --out /mnt/data/GWAS/output/build38/task4_assoc/chr6.imputed.dosage\n",
      "\n",
      "Note: --hide-covar flag deprecated.  Use e.g. '--linear hide-covar'.\n",
      "257659 MB RAM detected; reserving 128829 MB for main workspace.\n",
      "495 people (237 males, 258 females) loaded from .fam.\n",
      "495 phenotype values loaded from .fam.\n",
      "Using 1 thread (no multithreaded calculations invoked).\n",
      "--covar: 10 covariates loaded.\n",
      "495 people pass filters and QC.\n",
      "Among remaining phenotypes, 203 are cases and 292 are controls.\n",
      "--dosage: Reading from\n",
      "/mnt/data/GWAS/output/build38/task3_imputation/Imputed_files/chr6.dose.rsq.0.3.DS.vcf.gz.\n",
      "--dosage: Results saved to\n",
      "/mnt/data/GWAS/output/build38/task4_assoc/chr6.imputed.dosage.assoc.dosage .\n",
      "PLINK v1.90b3.45 64-bit (13 Jan 2017)      https://www.cog-genomics.org/plink2\n",
      "(C) 2005-2017 Shaun Purcell, Christopher Chang   GNU General Public License v3\n",
      "Logging to /mnt/data/GWAS/output/build38/task4_assoc/chr7.imputed.dosage.log.\n",
      "Options in effect:\n",
      "  --ci 0.95\n",
      "  --covar /mnt/data/GWAS/output/task2.2_stratification/covar_mds.txt\n",
      "  --dosage /mnt/data/GWAS/output/build38/task3_imputation/Imputed_files/chr7.dose.rsq.0.3.DS.vcf.gz format=1 noheader\n",
      "  --fam /mnt/data/GWAS/output/build38/task3_imputation/Imputed_files/chr22.dose.for.assoc.fam\n",
      "  --hide-covar\n",
      "  --out /mnt/data/GWAS/output/build38/task4_assoc/chr7.imputed.dosage\n",
      "\n",
      "Note: --hide-covar flag deprecated.  Use e.g. '--linear hide-covar'.\n",
      "257659 MB RAM detected; reserving 128829 MB for main workspace.\n",
      "495 people (237 males, 258 females) loaded from .fam.\n",
      "495 phenotype values loaded from .fam.\n",
      "Using 1 thread (no multithreaded calculations invoked).\n",
      "--covar: 10 covariates loaded.\n",
      "495 people pass filters and QC.\n",
      "Among remaining phenotypes, 203 are cases and 292 are controls.\n",
      "--dosage: Reading from\n",
      "/mnt/data/GWAS/output/build38/task3_imputation/Imputed_files/chr7.dose.rsq.0.3.DS.vcf.gz.\n",
      "--dosage: Results saved to\n",
      "/mnt/data/GWAS/output/build38/task4_assoc/chr7.imputed.dosage.assoc.dosage .\n",
      "PLINK v1.90b3.45 64-bit (13 Jan 2017)      https://www.cog-genomics.org/plink2\n",
      "(C) 2005-2017 Shaun Purcell, Christopher Chang   GNU General Public License v3\n",
      "Logging to /mnt/data/GWAS/output/build38/task4_assoc/chr8.imputed.dosage.log.\n",
      "Options in effect:\n",
      "  --ci 0.95\n",
      "  --covar /mnt/data/GWAS/output/task2.2_stratification/covar_mds.txt\n",
      "  --dosage /mnt/data/GWAS/output/build38/task3_imputation/Imputed_files/chr8.dose.rsq.0.3.DS.vcf.gz format=1 noheader\n",
      "  --fam /mnt/data/GWAS/output/build38/task3_imputation/Imputed_files/chr22.dose.for.assoc.fam\n",
      "  --hide-covar\n",
      "  --out /mnt/data/GWAS/output/build38/task4_assoc/chr8.imputed.dosage\n",
      "\n",
      "Note: --hide-covar flag deprecated.  Use e.g. '--linear hide-covar'.\n",
      "257659 MB RAM detected; reserving 128829 MB for main workspace.\n",
      "495 people (237 males, 258 females) loaded from .fam.\n",
      "495 phenotype values loaded from .fam.\n",
      "Using 1 thread (no multithreaded calculations invoked).\n",
      "--covar: 10 covariates loaded.\n",
      "495 people pass filters and QC.\n",
      "Among remaining phenotypes, 203 are cases and 292 are controls.\n",
      "--dosage: Reading from\n",
      "/mnt/data/GWAS/output/build38/task3_imputation/Imputed_files/chr8.dose.rsq.0.3.DS.vcf.gz.\n",
      "--dosage: Results saved to\n",
      "/mnt/data/GWAS/output/build38/task4_assoc/chr8.imputed.dosage.assoc.dosage .\n",
      "PLINK v1.90b3.45 64-bit (13 Jan 2017)      https://www.cog-genomics.org/plink2\n",
      "(C) 2005-2017 Shaun Purcell, Christopher Chang   GNU General Public License v3\n",
      "Logging to /mnt/data/GWAS/output/build38/task4_assoc/chr9.imputed.dosage.log.\n",
      "Options in effect:\n",
      "  --ci 0.95\n",
      "  --covar /mnt/data/GWAS/output/task2.2_stratification/covar_mds.txt\n",
      "  --dosage /mnt/data/GWAS/output/build38/task3_imputation/Imputed_files/chr9.dose.rsq.0.3.DS.vcf.gz format=1 noheader\n",
      "  --fam /mnt/data/GWAS/output/build38/task3_imputation/Imputed_files/chr22.dose.for.assoc.fam\n",
      "  --hide-covar\n",
      "  --out /mnt/data/GWAS/output/build38/task4_assoc/chr9.imputed.dosage\n",
      "\n",
      "Note: --hide-covar flag deprecated.  Use e.g. '--linear hide-covar'.\n",
      "257659 MB RAM detected; reserving 128829 MB for main workspace.\n",
      "495 people (237 males, 258 females) loaded from .fam.\n",
      "495 phenotype values loaded from .fam.\n",
      "Using 1 thread (no multithreaded calculations invoked).\n",
      "--covar: 10 covariates loaded.\n",
      "495 people pass filters and QC.\n",
      "Among remaining phenotypes, 203 are cases and 292 are controls.\n",
      "--dosage: Reading from\n",
      "/mnt/data/GWAS/output/build38/task3_imputation/Imputed_files/chr9.dose.rsq.0.3.DS.vcf.gz.\n",
      "--dosage: Results saved to\n",
      "/mnt/data/GWAS/output/build38/task4_assoc/chr9.imputed.dosage.assoc.dosage .\n",
      "PLINK v1.90b3.45 64-bit (13 Jan 2017)      https://www.cog-genomics.org/plink2\n",
      "(C) 2005-2017 Shaun Purcell, Christopher Chang   GNU General Public License v3\n",
      "Logging to /mnt/data/GWAS/output/build38/task4_assoc/chr10.imputed.dosage.log.\n",
      "Options in effect:\n",
      "  --ci 0.95\n",
      "  --covar /mnt/data/GWAS/output/task2.2_stratification/covar_mds.txt\n",
      "  --dosage /mnt/data/GWAS/output/build38/task3_imputation/Imputed_files/chr10.dose.rsq.0.3.DS.vcf.gz format=1 noheader\n",
      "  --fam /mnt/data/GWAS/output/build38/task3_imputation/Imputed_files/chr22.dose.for.assoc.fam\n",
      "  --hide-covar\n",
      "  --out /mnt/data/GWAS/output/build38/task4_assoc/chr10.imputed.dosage\n",
      "\n",
      "Note: --hide-covar flag deprecated.  Use e.g. '--linear hide-covar'.\n",
      "257659 MB RAM detected; reserving 128829 MB for main workspace.\n",
      "495 people (237 males, 258 females) loaded from .fam.\n",
      "495 phenotype values loaded from .fam.\n",
      "Using 1 thread (no multithreaded calculations invoked).\n",
      "--covar: 10 covariates loaded.\n",
      "495 people pass filters and QC.\n",
      "Among remaining phenotypes, 203 are cases and 292 are controls.\n",
      "--dosage: Reading from\n",
      "/mnt/data/GWAS/output/build38/task3_imputation/Imputed_files/chr10.dose.rsq.0.3.DS.vcf.gz.\n",
      "--dosage: Results saved to\n",
      "/mnt/data/GWAS/output/build38/task4_assoc/chr10.imputed.dosage.assoc.dosage .\n",
      "PLINK v1.90b3.45 64-bit (13 Jan 2017)      https://www.cog-genomics.org/plink2\n",
      "(C) 2005-2017 Shaun Purcell, Christopher Chang   GNU General Public License v3\n",
      "Logging to /mnt/data/GWAS/output/build38/task4_assoc/chr11.imputed.dosage.log.\n",
      "Options in effect:\n",
      "  --ci 0.95\n",
      "  --covar /mnt/data/GWAS/output/task2.2_stratification/covar_mds.txt\n",
      "  --dosage /mnt/data/GWAS/output/build38/task3_imputation/Imputed_files/chr11.dose.rsq.0.3.DS.vcf.gz format=1 noheader\n",
      "  --fam /mnt/data/GWAS/output/build38/task3_imputation/Imputed_files/chr22.dose.for.assoc.fam\n",
      "  --hide-covar\n",
      "  --out /mnt/data/GWAS/output/build38/task4_assoc/chr11.imputed.dosage\n",
      "\n",
      "Note: --hide-covar flag deprecated.  Use e.g. '--linear hide-covar'.\n",
      "257659 MB RAM detected; reserving 128829 MB for main workspace.\n",
      "495 people (237 males, 258 females) loaded from .fam.\n",
      "495 phenotype values loaded from .fam.\n",
      "Using 1 thread (no multithreaded calculations invoked).\n",
      "--covar: 10 covariates loaded.\n",
      "495 people pass filters and QC.\n",
      "Among remaining phenotypes, 203 are cases and 292 are controls.\n",
      "--dosage: Reading from\n",
      "/mnt/data/GWAS/output/build38/task3_imputation/Imputed_files/chr11.dose.rsq.0.3.DS.vcf.gz.\n",
      "--dosage: Results saved to\n",
      "/mnt/data/GWAS/output/build38/task4_assoc/chr11.imputed.dosage.assoc.dosage .\n",
      "PLINK v1.90b3.45 64-bit (13 Jan 2017)      https://www.cog-genomics.org/plink2\n",
      "(C) 2005-2017 Shaun Purcell, Christopher Chang   GNU General Public License v3\n",
      "Logging to /mnt/data/GWAS/output/build38/task4_assoc/chr12.imputed.dosage.log.\n",
      "Options in effect:\n",
      "  --ci 0.95\n",
      "  --covar /mnt/data/GWAS/output/task2.2_stratification/covar_mds.txt\n",
      "  --dosage /mnt/data/GWAS/output/build38/task3_imputation/Imputed_files/chr12.dose.rsq.0.3.DS.vcf.gz format=1 noheader\n",
      "  --fam /mnt/data/GWAS/output/build38/task3_imputation/Imputed_files/chr22.dose.for.assoc.fam\n",
      "  --hide-covar\n",
      "  --out /mnt/data/GWAS/output/build38/task4_assoc/chr12.imputed.dosage\n",
      "\n",
      "Note: --hide-covar flag deprecated.  Use e.g. '--linear hide-covar'.\n",
      "257659 MB RAM detected; reserving 128829 MB for main workspace.\n",
      "495 people (237 males, 258 females) loaded from .fam.\n",
      "495 phenotype values loaded from .fam.\n",
      "Using 1 thread (no multithreaded calculations invoked).\n",
      "--covar: 10 covariates loaded.\n",
      "495 people pass filters and QC.\n",
      "Among remaining phenotypes, 203 are cases and 292 are controls.\n",
      "--dosage: Reading from\n",
      "/mnt/data/GWAS/output/build38/task3_imputation/Imputed_files/chr12.dose.rsq.0.3.DS.vcf.gz.\n",
      "--dosage: Results saved to\n",
      "/mnt/data/GWAS/output/build38/task4_assoc/chr12.imputed.dosage.assoc.dosage .\n",
      "PLINK v1.90b3.45 64-bit (13 Jan 2017)      https://www.cog-genomics.org/plink2\n",
      "(C) 2005-2017 Shaun Purcell, Christopher Chang   GNU General Public License v3\n",
      "Logging to /mnt/data/GWAS/output/build38/task4_assoc/chr13.imputed.dosage.log.\n",
      "Options in effect:\n",
      "  --ci 0.95\n",
      "  --covar /mnt/data/GWAS/output/task2.2_stratification/covar_mds.txt\n",
      "  --dosage /mnt/data/GWAS/output/build38/task3_imputation/Imputed_files/chr13.dose.rsq.0.3.DS.vcf.gz format=1 noheader\n",
      "  --fam /mnt/data/GWAS/output/build38/task3_imputation/Imputed_files/chr22.dose.for.assoc.fam\n",
      "  --hide-covar\n",
      "  --out /mnt/data/GWAS/output/build38/task4_assoc/chr13.imputed.dosage\n",
      "\n",
      "Note: --hide-covar flag deprecated.  Use e.g. '--linear hide-covar'.\n",
      "257659 MB RAM detected; reserving 128829 MB for main workspace.\n",
      "495 people (237 males, 258 females) loaded from .fam.\n",
      "495 phenotype values loaded from .fam.\n",
      "Using 1 thread (no multithreaded calculations invoked).\n",
      "--covar: 10 covariates loaded.\n",
      "495 people pass filters and QC.\n",
      "Among remaining phenotypes, 203 are cases and 292 are controls.\n",
      "--dosage: Reading from\n",
      "/mnt/data/GWAS/output/build38/task3_imputation/Imputed_files/chr13.dose.rsq.0.3.DS.vcf.gz.\n",
      "--dosage: Results saved to\n",
      "/mnt/data/GWAS/output/build38/task4_assoc/chr13.imputed.dosage.assoc.dosage .\n",
      "PLINK v1.90b3.45 64-bit (13 Jan 2017)      https://www.cog-genomics.org/plink2\n",
      "(C) 2005-2017 Shaun Purcell, Christopher Chang   GNU General Public License v3\n",
      "Logging to /mnt/data/GWAS/output/build38/task4_assoc/chr14.imputed.dosage.log.\n",
      "Options in effect:\n",
      "  --ci 0.95\n",
      "  --covar /mnt/data/GWAS/output/task2.2_stratification/covar_mds.txt\n",
      "  --dosage /mnt/data/GWAS/output/build38/task3_imputation/Imputed_files/chr14.dose.rsq.0.3.DS.vcf.gz format=1 noheader\n",
      "  --fam /mnt/data/GWAS/output/build38/task3_imputation/Imputed_files/chr22.dose.for.assoc.fam\n",
      "  --hide-covar\n",
      "  --out /mnt/data/GWAS/output/build38/task4_assoc/chr14.imputed.dosage\n",
      "\n",
      "Note: --hide-covar flag deprecated.  Use e.g. '--linear hide-covar'.\n",
      "257659 MB RAM detected; reserving 128829 MB for main workspace.\n",
      "495 people (237 males, 258 females) loaded from .fam.\n",
      "495 phenotype values loaded from .fam.\n",
      "Using 1 thread (no multithreaded calculations invoked).\n",
      "--covar: 10 covariates loaded.\n",
      "495 people pass filters and QC.\n",
      "Among remaining phenotypes, 203 are cases and 292 are controls.\n",
      "--dosage: Reading from\n",
      "/mnt/data/GWAS/output/build38/task3_imputation/Imputed_files/chr14.dose.rsq.0.3.DS.vcf.gz.\n",
      "--dosage: Results saved to\n",
      "/mnt/data/GWAS/output/build38/task4_assoc/chr14.imputed.dosage.assoc.dosage .\n",
      "PLINK v1.90b3.45 64-bit (13 Jan 2017)      https://www.cog-genomics.org/plink2\n",
      "(C) 2005-2017 Shaun Purcell, Christopher Chang   GNU General Public License v3\n",
      "Logging to /mnt/data/GWAS/output/build38/task4_assoc/chr15.imputed.dosage.log.\n",
      "Options in effect:\n",
      "  --ci 0.95\n",
      "  --covar /mnt/data/GWAS/output/task2.2_stratification/covar_mds.txt\n",
      "  --dosage /mnt/data/GWAS/output/build38/task3_imputation/Imputed_files/chr15.dose.rsq.0.3.DS.vcf.gz format=1 noheader\n",
      "  --fam /mnt/data/GWAS/output/build38/task3_imputation/Imputed_files/chr22.dose.for.assoc.fam\n",
      "  --hide-covar\n",
      "  --out /mnt/data/GWAS/output/build38/task4_assoc/chr15.imputed.dosage\n",
      "\n",
      "Note: --hide-covar flag deprecated.  Use e.g. '--linear hide-covar'.\n",
      "257659 MB RAM detected; reserving 128829 MB for main workspace.\n",
      "495 people (237 males, 258 females) loaded from .fam.\n",
      "495 phenotype values loaded from .fam.\n",
      "Using 1 thread (no multithreaded calculations invoked).\n",
      "--covar: 10 covariates loaded.\n",
      "495 people pass filters and QC.\n",
      "Among remaining phenotypes, 203 are cases and 292 are controls.\n",
      "--dosage: Reading from\n",
      "/mnt/data/GWAS/output/build38/task3_imputation/Imputed_files/chr15.dose.rsq.0.3.DS.vcf.gz.\n",
      "--dosage: Results saved to\n",
      "/mnt/data/GWAS/output/build38/task4_assoc/chr15.imputed.dosage.assoc.dosage .\n",
      "PLINK v1.90b3.45 64-bit (13 Jan 2017)      https://www.cog-genomics.org/plink2\n",
      "(C) 2005-2017 Shaun Purcell, Christopher Chang   GNU General Public License v3\n",
      "Logging to /mnt/data/GWAS/output/build38/task4_assoc/chr16.imputed.dosage.log.\n",
      "Options in effect:\n",
      "  --ci 0.95\n",
      "  --covar /mnt/data/GWAS/output/task2.2_stratification/covar_mds.txt\n",
      "  --dosage /mnt/data/GWAS/output/build38/task3_imputation/Imputed_files/chr16.dose.rsq.0.3.DS.vcf.gz format=1 noheader\n",
      "  --fam /mnt/data/GWAS/output/build38/task3_imputation/Imputed_files/chr22.dose.for.assoc.fam\n",
      "  --hide-covar\n",
      "  --out /mnt/data/GWAS/output/build38/task4_assoc/chr16.imputed.dosage\n",
      "\n",
      "Note: --hide-covar flag deprecated.  Use e.g. '--linear hide-covar'.\n",
      "257659 MB RAM detected; reserving 128829 MB for main workspace.\n",
      "495 people (237 males, 258 females) loaded from .fam.\n",
      "495 phenotype values loaded from .fam.\n",
      "Using 1 thread (no multithreaded calculations invoked).\n",
      "--covar: 10 covariates loaded.\n",
      "495 people pass filters and QC.\n",
      "Among remaining phenotypes, 203 are cases and 292 are controls.\n",
      "--dosage: Reading from\n",
      "/mnt/data/GWAS/output/build38/task3_imputation/Imputed_files/chr16.dose.rsq.0.3.DS.vcf.gz.\n",
      "--dosage: Results saved to\n",
      "/mnt/data/GWAS/output/build38/task4_assoc/chr16.imputed.dosage.assoc.dosage .\n",
      "PLINK v1.90b3.45 64-bit (13 Jan 2017)      https://www.cog-genomics.org/plink2\n",
      "(C) 2005-2017 Shaun Purcell, Christopher Chang   GNU General Public License v3\n",
      "Logging to /mnt/data/GWAS/output/build38/task4_assoc/chr17.imputed.dosage.log.\n",
      "Options in effect:\n",
      "  --ci 0.95\n",
      "  --covar /mnt/data/GWAS/output/task2.2_stratification/covar_mds.txt\n",
      "  --dosage /mnt/data/GWAS/output/build38/task3_imputation/Imputed_files/chr17.dose.rsq.0.3.DS.vcf.gz format=1 noheader\n",
      "  --fam /mnt/data/GWAS/output/build38/task3_imputation/Imputed_files/chr22.dose.for.assoc.fam\n",
      "  --hide-covar\n",
      "  --out /mnt/data/GWAS/output/build38/task4_assoc/chr17.imputed.dosage\n",
      "\n",
      "Note: --hide-covar flag deprecated.  Use e.g. '--linear hide-covar'.\n",
      "257659 MB RAM detected; reserving 128829 MB for main workspace.\n",
      "495 people (237 males, 258 females) loaded from .fam.\n",
      "495 phenotype values loaded from .fam.\n",
      "Using 1 thread (no multithreaded calculations invoked).\n",
      "--covar: 10 covariates loaded.\n",
      "495 people pass filters and QC.\n",
      "Among remaining phenotypes, 203 are cases and 292 are controls.\n",
      "--dosage: Reading from\n",
      "/mnt/data/GWAS/output/build38/task3_imputation/Imputed_files/chr17.dose.rsq.0.3.DS.vcf.gz.\n",
      "--dosage: Results saved to\n",
      "/mnt/data/GWAS/output/build38/task4_assoc/chr17.imputed.dosage.assoc.dosage .\n",
      "PLINK v1.90b3.45 64-bit (13 Jan 2017)      https://www.cog-genomics.org/plink2\n",
      "(C) 2005-2017 Shaun Purcell, Christopher Chang   GNU General Public License v3\n",
      "Logging to /mnt/data/GWAS/output/build38/task4_assoc/chr18.imputed.dosage.log.\n",
      "Options in effect:\n",
      "  --ci 0.95\n",
      "  --covar /mnt/data/GWAS/output/task2.2_stratification/covar_mds.txt\n",
      "  --dosage /mnt/data/GWAS/output/build38/task3_imputation/Imputed_files/chr18.dose.rsq.0.3.DS.vcf.gz format=1 noheader\n",
      "  --fam /mnt/data/GWAS/output/build38/task3_imputation/Imputed_files/chr22.dose.for.assoc.fam\n",
      "  --hide-covar\n",
      "  --out /mnt/data/GWAS/output/build38/task4_assoc/chr18.imputed.dosage\n",
      "\n",
      "Note: --hide-covar flag deprecated.  Use e.g. '--linear hide-covar'.\n",
      "257659 MB RAM detected; reserving 128829 MB for main workspace.\n",
      "495 people (237 males, 258 females) loaded from .fam.\n",
      "495 phenotype values loaded from .fam.\n",
      "Using 1 thread (no multithreaded calculations invoked).\n",
      "--covar: 10 covariates loaded.\n",
      "495 people pass filters and QC.\n",
      "Among remaining phenotypes, 203 are cases and 292 are controls.\n",
      "--dosage: Reading from\n",
      "/mnt/data/GWAS/output/build38/task3_imputation/Imputed_files/chr18.dose.rsq.0.3.DS.vcf.gz.\n",
      "--dosage: Results saved to\n",
      "/mnt/data/GWAS/output/build38/task4_assoc/chr18.imputed.dosage.assoc.dosage .\n",
      "PLINK v1.90b3.45 64-bit (13 Jan 2017)      https://www.cog-genomics.org/plink2\n",
      "(C) 2005-2017 Shaun Purcell, Christopher Chang   GNU General Public License v3\n",
      "Logging to /mnt/data/GWAS/output/build38/task4_assoc/chr19.imputed.dosage.log.\n",
      "Options in effect:\n",
      "  --ci 0.95\n",
      "  --covar /mnt/data/GWAS/output/task2.2_stratification/covar_mds.txt\n",
      "  --dosage /mnt/data/GWAS/output/build38/task3_imputation/Imputed_files/chr19.dose.rsq.0.3.DS.vcf.gz format=1 noheader\n",
      "  --fam /mnt/data/GWAS/output/build38/task3_imputation/Imputed_files/chr22.dose.for.assoc.fam\n",
      "  --hide-covar\n",
      "  --out /mnt/data/GWAS/output/build38/task4_assoc/chr19.imputed.dosage\n",
      "\n",
      "Note: --hide-covar flag deprecated.  Use e.g. '--linear hide-covar'.\n",
      "257659 MB RAM detected; reserving 128829 MB for main workspace.\n",
      "495 people (237 males, 258 females) loaded from .fam.\n",
      "495 phenotype values loaded from .fam.\n",
      "Using 1 thread (no multithreaded calculations invoked).\n",
      "--covar: 10 covariates loaded.\n",
      "495 people pass filters and QC.\n",
      "Among remaining phenotypes, 203 are cases and 292 are controls.\n",
      "--dosage: Reading from\n",
      "/mnt/data/GWAS/output/build38/task3_imputation/Imputed_files/chr19.dose.rsq.0.3.DS.vcf.gz.\n",
      "--dosage: Results saved to\n",
      "/mnt/data/GWAS/output/build38/task4_assoc/chr19.imputed.dosage.assoc.dosage .\n",
      "PLINK v1.90b3.45 64-bit (13 Jan 2017)      https://www.cog-genomics.org/plink2\n",
      "(C) 2005-2017 Shaun Purcell, Christopher Chang   GNU General Public License v3\n",
      "Logging to /mnt/data/GWAS/output/build38/task4_assoc/chr20.imputed.dosage.log.\n",
      "Options in effect:\n",
      "  --ci 0.95\n",
      "  --covar /mnt/data/GWAS/output/task2.2_stratification/covar_mds.txt\n",
      "  --dosage /mnt/data/GWAS/output/build38/task3_imputation/Imputed_files/chr20.dose.rsq.0.3.DS.vcf.gz format=1 noheader\n",
      "  --fam /mnt/data/GWAS/output/build38/task3_imputation/Imputed_files/chr22.dose.for.assoc.fam\n",
      "  --hide-covar\n",
      "  --out /mnt/data/GWAS/output/build38/task4_assoc/chr20.imputed.dosage\n",
      "\n",
      "Note: --hide-covar flag deprecated.  Use e.g. '--linear hide-covar'.\n",
      "257659 MB RAM detected; reserving 128829 MB for main workspace.\n",
      "495 people (237 males, 258 females) loaded from .fam.\n",
      "495 phenotype values loaded from .fam.\n",
      "Using 1 thread (no multithreaded calculations invoked).\n",
      "--covar: 10 covariates loaded.\n",
      "495 people pass filters and QC.\n",
      "Among remaining phenotypes, 203 are cases and 292 are controls.\n",
      "--dosage: Reading from\n",
      "/mnt/data/GWAS/output/build38/task3_imputation/Imputed_files/chr20.dose.rsq.0.3.DS.vcf.gz.\n",
      "--dosage: Results saved to\n",
      "/mnt/data/GWAS/output/build38/task4_assoc/chr20.imputed.dosage.assoc.dosage .\n",
      "PLINK v1.90b3.45 64-bit (13 Jan 2017)      https://www.cog-genomics.org/plink2\n",
      "(C) 2005-2017 Shaun Purcell, Christopher Chang   GNU General Public License v3\n",
      "Logging to /mnt/data/GWAS/output/build38/task4_assoc/chr21.imputed.dosage.log.\n",
      "Options in effect:\n",
      "  --ci 0.95\n",
      "  --covar /mnt/data/GWAS/output/task2.2_stratification/covar_mds.txt\n",
      "  --dosage /mnt/data/GWAS/output/build38/task3_imputation/Imputed_files/chr21.dose.rsq.0.3.DS.vcf.gz format=1 noheader\n",
      "  --fam /mnt/data/GWAS/output/build38/task3_imputation/Imputed_files/chr22.dose.for.assoc.fam\n",
      "  --hide-covar\n",
      "  --out /mnt/data/GWAS/output/build38/task4_assoc/chr21.imputed.dosage\n",
      "\n",
      "Note: --hide-covar flag deprecated.  Use e.g. '--linear hide-covar'.\n",
      "257659 MB RAM detected; reserving 128829 MB for main workspace.\n",
      "495 people (237 males, 258 females) loaded from .fam.\n",
      "495 phenotype values loaded from .fam.\n",
      "Using 1 thread (no multithreaded calculations invoked).\n",
      "--covar: 10 covariates loaded.\n",
      "495 people pass filters and QC.\n",
      "Among remaining phenotypes, 203 are cases and 292 are controls.\n",
      "--dosage: Reading from\n",
      "/mnt/data/GWAS/output/build38/task3_imputation/Imputed_files/chr21.dose.rsq.0.3.DS.vcf.gz.\n",
      "--dosage: Results saved to\n",
      "/mnt/data/GWAS/output/build38/task4_assoc/chr21.imputed.dosage.assoc.dosage .\n",
      "PLINK v1.90b3.45 64-bit (13 Jan 2017)      https://www.cog-genomics.org/plink2\n",
      "(C) 2005-2017 Shaun Purcell, Christopher Chang   GNU General Public License v3\n",
      "Logging to /mnt/data/GWAS/output/build38/task4_assoc/chr22.imputed.dosage.log.\n",
      "Options in effect:\n",
      "  --ci 0.95\n",
      "  --covar /mnt/data/GWAS/output/task2.2_stratification/covar_mds.txt\n",
      "  --dosage /mnt/data/GWAS/output/build38/task3_imputation/Imputed_files/chr22.dose.rsq.0.3.DS.vcf.gz format=1 noheader\n",
      "  --fam /mnt/data/GWAS/output/build38/task3_imputation/Imputed_files/chr22.dose.for.assoc.fam\n",
      "  --hide-covar\n",
      "  --out /mnt/data/GWAS/output/build38/task4_assoc/chr22.imputed.dosage\n",
      "\n",
      "Note: --hide-covar flag deprecated.  Use e.g. '--linear hide-covar'.\n",
      "257659 MB RAM detected; reserving 128829 MB for main workspace.\n",
      "495 people (237 males, 258 females) loaded from .fam.\n",
      "495 phenotype values loaded from .fam.\n",
      "Using 1 thread (no multithreaded calculations invoked).\n",
      "--covar: 10 covariates loaded.\n",
      "495 people pass filters and QC.\n",
      "Among remaining phenotypes, 203 are cases and 292 are controls.\n",
      "--dosage: Reading from\n",
      "/mnt/data/GWAS/output/build38/task3_imputation/Imputed_files/chr22.dose.rsq.0.3.DS.vcf.gz.\n",
      "--dosage: Results saved to\n",
      "/mnt/data/GWAS/output/build38/task4_assoc/chr22.imputed.dosage.assoc.dosage .\n"
     ]
    }
   ],
   "source": [
    "%%bash\n",
    "# Perform association analysis with PLINK (Purcell et al. 2007)\n",
    "# Association of genotype dosages with the AD case-control status is explored through regression model adjusted by sex, and the 10 MDS dimensions as covariates using PLINK.\n",
    "for i in {1..22}\n",
    "do\n",
    "plink --fam $task3path/chr22.dose.for.assoc.fam --out $path/chr$i.imputed.dosage --ci 0.95 --covar /mnt/data/GWAS/output/build38/task2.2_stratification/covar_mds.txt --hide-covar --dosage $task3path/chr$i.dose.rsq.0.3.DS.vcf.gz format=1 noheader\n",
    "done"
   ]
  },
  {
   "cell_type": "code",
   "execution_count": 12,
   "metadata": {
    "ExecuteTime": {
     "end_time": "2020-08-24T10:34:52.669368Z",
     "start_time": "2020-08-24T10:34:49.420082Z"
    }
   },
   "outputs": [],
   "source": [
    "%%bash\n",
    "#Merge chr results in a single file\n",
    "for i in {2..22}\n",
    "do\n",
    "awk '{if (NR>1) print $0}' $path/chr$i.imputed.dosage.assoc.dosage > $path/chr$i.imputed.dosage.assoc.dosage.nh\n",
    "done\n",
    "for i in {2..22}\n",
    "do cat $path/chr$i.imputed.dosage.assoc.dosage.nh; done > $path/chr2-22.imputed.dosage.assoc.dosage.nh\n",
    "cat $path/chr1.imputed.dosage.assoc.dosage $path/chr2-22.imputed.dosage.assoc.dosage.nh > $path/dataset.b38.imputed.dosage.full.assoc.dosage"
   ]
  },
  {
   "cell_type": "code",
   "execution_count": 33,
   "metadata": {
    "ExecuteTime": {
     "end_time": "2020-08-24T10:35:09.069403Z",
     "start_time": "2020-08-24T10:34:52.674425Z"
    }
   },
   "outputs": [
    {
     "name": "stdout",
     "output_type": "stream",
     "text": [
      "20854453 /mnt/data/GWAS/output/build38/task4_assoc/dataset.b38.imputed.dosage.full.assoc.dosage\n",
      "8908105 /mnt/data/GWAS/output/build38/task4_assoc/dataset.b38.imputed.dosage.full.assoc.dosage.clean\n",
      "SNP\tA1\tA2\tFRQ\tINFO\tOR\tSE\tP\n",
      "1:710225:T:A\tT\tA\t0.0558\t0.6204\t1.6517\t0.7604\t0.5093\n",
      "1:714325:TAGA:T\tTAGA\tT\t0.0129\t0.4120\t0.4997\t2.2725\t0.7601\n",
      "1:716799:ATTT:A\tATTT\tA\t0.0156\t0.2991\t45.0793\t1.7215\t0.02695\n",
      "1:722408:G:C\tG\tC\t0.6782\t0.3486\t1.2899\t0.4709\t0.5887\n",
      "1:722700:G:A\tG\tA\t0.0222\t0.5887\t1.8617\t1.1152\t0.5774\n",
      "1:727233:G:A\tG\tA\t0.0162\t0.6254\t0.7898\t1.4863\t0.8738\n",
      "1:727242:G:A\tG\tA\t0.0858\t0.4554\t1.4763\t0.7089\t0.5827\n",
      "1:727717:G:C\tG\tC\t0.6976\t0.3587\t0.9375\t0.5058\t0.8985\n",
      "1:729272:G:A\tG\tA\t0.0181\t0.4581\t7.8951\t1.1374\t0.06928\n"
     ]
    }
   ],
   "source": [
    "%%bash\n",
    "# Remove missing values\n",
    "wc -l $path/dataset.b38.imputed.dosage.full.assoc.dosage\n",
    "awk '{OFS=\"\\t\"; gsub(\"^ +\",\"\",$0); gsub(\" +\",\"\\t\",$0); gsub(\"chr\",\"\",$0); print $0}'  $path/dataset.b38.imputed.dosage.full.assoc.dosage |awk '{if ($8!=\"NA\") print $0}' > $path/dataset.b38.imputed.dosage.full.assoc.dosage.clean\n",
    "wc -l $path/dataset.b38.imputed.dosage.full.assoc.dosage.clean\n",
    "head $path/dataset.b38.imputed.dosage.full.assoc.dosage.clean"
   ]
  },
  {
   "cell_type": "markdown",
   "metadata": {},
   "source": [
    "## Add rs ID"
   ]
  },
  {
   "cell_type": "code",
   "execution_count": 48,
   "metadata": {},
   "outputs": [
    {
     "name": "stdout",
     "output_type": "stream",
     "text": [
      "x\n",
      "/mnt/data/GWAS/output/build38/task4_assoc/dataset.b38.imputed.dosage.full.assoc.dosage.clean.rs\n"
     ]
    }
   ],
   "source": [
    "%%R\n",
    "## Add rs ID\n",
    "path= \"/mnt/data/GWAS/output/build38/task4_assoc\"\n",
    "# assoc_results<-read.table(\"/mnt/data/GWAS/output/build38/task4_assoc/dataset.b38.imputed.dosage.full.assoc.dosage.clean\", sep=\"\\t\", header=T)\n",
    "annot<-read.table(\"/mnt/data/GWAS/ref_files/build38/TopMed.snps.0.001.rs.txt\", sep=\"\\t\", header=F)\n",
    "merged <-merge(assoc_results,annot, by.x=\"SNP\", by.y=\"V1\", all.x=TRUE)\n",
    "write.table (merged,\"/mnt/data/GWAS/output/build38/task4_assoc/dataset.b38.imputed.dosage.full.assoc.dosage.clean.rs\", sep=\"\\t\", row.names=FALSE , quote=FALSE)\n",
    "\n"
   ]
  },
  {
   "cell_type": "code",
   "execution_count": 59,
   "metadata": {},
   "outputs": [],
   "source": [
    "%%R\n",
    "head(merged)\n",
    "write.table (merged,\"/mnt/data/GWAS/output/build38/task4_assoc/dataset.b38.imputed.dosage.full.assoc.dosage.clean.rs\", sep=\"\\t\", row.names=FALSE , quote=FALSE)\n"
   ]
  },
  {
   "cell_type": "code",
   "execution_count": 60,
   "metadata": {
    "ExecuteTime": {
     "end_time": "2020-08-24T10:48:02.008608Z",
     "start_time": "2020-08-24T10:47:56.032761Z"
    }
   },
   "outputs": [
    {
     "name": "stdout",
     "output_type": "stream",
     "text": [
      "SNP\tA1\tA2\tFRQ\tINFO\tOR\tSE\tP\tV2\n",
      "10:100000235:C:T\tC\tT\t0.2982\t0.7959\t0.6679\t0.3084\t0.1906\trs11596870\n",
      "10:100000943:G:A\tG\tA\t0.0929\t0.7945\t1.2681\t0.5058\t0.6387\trs11190359\n",
      "10:100000979:T:C\tT\tC\t0.0504\t0.7881\t1.7337\t0.7499\t0.4631\trs11190360\n",
      "10:100002012:T:C\tT\tC\t0.0374\t0.8215\t1.0097\t0.6786\t0.9886\trs11190362\n",
      "10:100002038:G:A\tG\tA\t0.0102\t0.8861\t3.051\t1.3529\t0.4097\trs192480913\n",
      "10:100002300:GA:G\tGA\tG\t0.0374\t0.8216\t1.0082\t0.6788\t0.9904\trs111354488\n",
      "10:100002330:AAAAG:A\tAAAAG\tA\t0.0647\t0.8095\t1.3697\t0.6481\t0.6274\tNA\n",
      "10:100002628:A:C\tA\tC\t0.4467\t0.8605\t0.7322\t0.2868\t0.2771\trs11190363\n",
      "10:100002875:A:G\tA\tG\t0.0648\t0.8118\t1.3222\t0.6435\t0.6642\trs7894103\n",
      "CHR\tBP\tSNP\tA1\tA2\tFRQ\tINFO\tOR\tSE\tP\tRS\n",
      "10\t100000235\t10:100000235:C:T\tC\tT\t0.2982\t0.7959\t0.6679\t0.3084\t0.1906\trs11596870\n",
      "10\t100000943\t10:100000943:G:A\tG\tA\t0.0929\t0.7945\t1.2681\t0.5058\t0.6387\trs11190359\n",
      "10\t100000979\t10:100000979:T:C\tT\tC\t0.0504\t0.7881\t1.7337\t0.7499\t0.4631\trs11190360\n",
      "10\t100002012\t10:100002012:T:C\tT\tC\t0.0374\t0.8215\t1.0097\t0.6786\t0.9886\trs11190362\n",
      "10\t100002038\t10:100002038:G:A\tG\tA\t0.0102\t0.8861\t3.051\t1.3529\t0.4097\trs192480913\n",
      "10\t100002300\t10:100002300:GA:G\tGA\tG\t0.0374\t0.8216\t1.0082\t0.6788\t0.9904\trs111354488\n",
      "10\t100002330\t10:100002330:AAAAG:A\tAAAAG\tA\t0.0647\t0.8095\t1.3697\t0.6481\t0.6274\tNA\n",
      "10\t100002628\t10:100002628:A:C\tA\tC\t0.4467\t0.8605\t0.7322\t0.2868\t0.2771\trs11190363\n",
      "10\t100002875\t10:100002875:A:G\tA\tG\t0.0648\t0.8118\t1.3222\t0.6435\t0.6642\trs7894103\n"
     ]
    }
   ],
   "source": [
    "%%bash\n",
    "head $path/dataset.b38.imputed.dosage.full.assoc.dosage.clean.rs\n",
    "sed 's/:/\\t/g' $path/dataset.b38.imputed.dosage.full.assoc.dosage.clean.rs | awk 'BEGIN{OFS=\"\\t\"; print \"CHR\",\"BP\",\"SNP\",\"A1\",\"A2\",\"FRQ\",\"INFO\",\"OR\",\"SE\",\"P\",\"RS\"};{OFS=\"\\t\"; if (NR>1) print $1,$2,$1\":\"$2\":\"$3\":\"$4,$5,$6,$7,$8,$9,$10,$11,$12}' > $path/dataset.b38.imputed.dosage.full.assoc.dosage.clean.rs.chr.bp\n",
    "head $path/dataset.b38.imputed.dosage.full.assoc.dosage.clean.rs.chr.bp"
   ]
  },
  {
   "cell_type": "markdown",
   "metadata": {},
   "source": [
    "## Add nearest genes"
   ]
  },
  {
   "cell_type": "code",
   "execution_count": 61,
   "metadata": {
    "ExecuteTime": {
     "end_time": "2020-08-26T16:38:55.189416Z",
     "start_time": "2020-08-26T16:37:34.016604Z"
    }
   },
   "outputs": [
    {
     "name": "stdout",
     "output_type": "stream",
     "text": [
      "PLINK v1.90b3.45 64-bit (13 Jan 2017)      https://www.cog-genomics.org/plink2\n",
      "(C) 2005-2017 Shaun Purcell, Christopher Chang   GNU General Public License v3\n",
      "Logging to /mnt/data/GWAS/output/build38/task4_assoc/dataset.b38.imputed.dosage.full.assoc.dosage.clean.rs.200kb.annotated.log.\n",
      "Options in effect:\n",
      "  --annotate /mnt/data/GWAS/output/build38/task4_assoc/dataset.b38.imputed.dosage.full.assoc.dosage.clean.rs.chr.bp ranges=/mnt/data/GWAS/ref_files/build38/glist-hg38\n",
      "  --border 200\n",
      "  --out /mnt/data/GWAS/output/build38/task4_assoc/dataset.b38.imputed.dosage.full.assoc.dosage.clean.rs.200kb.annotated\n",
      "\n",
      "257659 MB RAM detected; reserving 128829 MB for main workspace.\n",
      "--annotate ranges: 25804 annotations loaded from\n",
      "/mnt/data/GWAS/ref_files/build38/glist-hg38 (counting multi-chromosome\n",
      "annotations once per spanned chromosome).\n",
      "--annotate: 7615467 out of 8976886 rows annotated; new report written to\n",
      "/mnt/data/GWAS/output/build38/task4_assoc/dataset.b38.imputed.dosage.full.assoc.dosage.clean.rs.200kb.annotated.annot\n",
      ".\n"
     ]
    }
   ],
   "source": [
    "%%bash\n",
    "#Annotate results \n",
    "plink --annotate $path/dataset.b38.imputed.dosage.full.assoc.dosage.clean.rs.chr.bp ranges=/mnt/data/GWAS/ref_files/build38/glist-hg38 --border 200 --out $path/dataset.b38.imputed.dosage.full.assoc.dosage.clean.rs.200kb.annotated \n"
   ]
  },
  {
   "cell_type": "code",
   "execution_count": 62,
   "metadata": {
    "ExecuteTime": {
     "end_time": "2020-08-26T16:52:03.201082Z",
     "start_time": "2020-08-26T16:51:47.208209Z"
    }
   },
   "outputs": [
    {
     "name": "stdout",
     "output_type": "stream",
     "text": [
      "  555  6660 93550 /mnt/data/GWAS/output/build38/task4_assoc/dataset.b38.imputed.dosage.assoc.200kb.annot.tops\n",
      "CHR\tBP\tSNP\tA1\tA2\tFRQ\tINFO\tOR\tP\tSE\tRS\tANNOT\n",
      "2\t62287452\t2:62287452:C:G\tC\tG\t0.4079\t0.9443\t5.2055\t0.3446\t1.691e-06\trs12614194\tB3GNT2(+62.72kb)|COMMD1(+151.4kb)|MIR5192(+81.54kb)\n",
      "10\t77350874\t10:77350874:C:T\tC\tT\t0.03\t0.876\t0.0062\t1.0741\t2.268e-06\trs144195574\tKCNMA1(0)\n",
      "10\t77360086\t10:77360086:G:C\tG\tC\t0.0295\t0.8607\t0.0056\t1.107\t2.765e-06\trs118093470\tKCNMA1(0)\n",
      "1\t161424710\t1:161424710:T:C\tT\tC\t0.3682\t0.9168\t5.6367\t0.3802\t5.412e-06\trs3922744\tC1orf192(+56.83kb)|FCGR2A(-80.7kb)|FCGR2C(-156.6kb)|FCGR3A(-117kb)|FCGR3B(-198.5kb)|HSPA6(-99.54kb)|HSPA7(-181.3kb)|MIR5187(+197.4kb)|MPZ(+114.7kb)|NR1I3(+186.5kb)|PCP4L1(+139.3kb)|SDHC(+59.96kb)|TOMM40L(+194kb)\n",
      "1\t161421832\t1:161421832:G:T\tG\tT\t0.3681\t0.9169\t5.6362\t0.3802\t5.413e-06\trs4657021\tAPOA2(+198.2kb)|C1orf192(+53.95kb)|FCGR2A(-83.58kb)|FCGR2C(-159.5kb)|FCGR3A(-119.9kb)|HSPA6(-102.4kb)|HSPA7(-184.2kb)|MIR5187(+194.6kb)|MPZ(+111.9kb)|NR1I3(+183.6kb)|PCP4L1(+136.4kb)|SDHC(+57.09kb)|TOMM40L(+191.1kb)\n",
      "1\t161422496\t1:161422496:A:G\tA\tG\t0.3737\t0.9259\t5.6493\t0.3808\t5.443e-06\trs6691761\tAPOA2(+198.9kb)|C1orf192(+54.61kb)|FCGR2A(-82.92kb)|FCGR2C(-158.8kb)|FCGR3A(-119.3kb)|HSPA6(-101.7kb)|HSPA7(-183.6kb)|MIR5187(+195.2kb)|MPZ(+112.5kb)|NR1I3(+184.3kb)|PCP4L1(+137kb)|SDHC(+57.75kb)|TOMM40L(+191.8kb)\n",
      "1\t161421793\t1:161421793:A:C\tA\tC\t0.3736\t0.9251\t5.6419\t0.3807\t5.491e-06\trs4656298\tAPOA2(+198.2kb)|C1orf192(+53.91kb)|FCGR2A(-83.62kb)|FCGR2C(-159.5kb)|FCGR3A(-120kb)|HSPA6(-102.5kb)|HSPA7(-184.3kb)|MIR5187(+194.5kb)|MPZ(+111.8kb)|NR1I3(+183.6kb)|PCP4L1(+136.3kb)|SDHC(+57.05kb)|TOMM40L(+191kb)\n",
      "1\t161425765\t1:161425765:G:C\tG\tC\t0.3742\t0.9265\t5.6437\t0.3808\t5.491e-06\tNA\tC1orf192(+57.88kb)|FCGR2A(-79.65kb)|FCGR2C(-155.6kb)|FCGR3A(-116kb)|FCGR3B(-197.4kb)|HSPA6(-98.48kb)|HSPA7(-180.3kb)|MIR5187(+198.5kb)|MPZ(+115.8kb)|NR1I3(+187.6kb)|PCP4L1(+140.3kb)|SDHC(+61.02kb)|TOMM40L(+195kb)\n",
      "1\t161426182\t1:161426182:C:T\tC\tT\t0.3751\t0.9251\t5.6334\t0.3807\t5.617e-06\trs9427040\tC1orf192(+58.3kb)|FCGR2A(-79.23kb)|FCGR2C(-155.2kb)|FCGR3A(-115.6kb)|FCGR3B(-197kb)|HSPA6(-98.06kb)|HSPA7(-179.9kb)|MIR5187(+198.9kb)|MPZ(+116.2kb)|NR1I3(+188kb)|PCP4L1(+140.7kb)|SDHC(+61.44kb)|TOMM40L(+195.4kb)\n"
     ]
    }
   ],
   "source": [
    "%%bash\n",
    "sort -gk 10,10 $path/dataset.b38.imputed.dosage.full.assoc.dosage.clean.rs.200kb.annotated.annot | awk '{OFS=\"\\t\"; if($10<0.0001) print $0}' | sed 's/ /\\t/g' > $path/temp\n",
    "awk 'BEGIN {OFS=\"\\t\"; print \"CHR\",\"BP\",\"SNP\",\"A1\",\"A2\",\"FRQ\",\"INFO\",\"OR\",\"P\",\"SE\",\"RS\",\"ANNOT\"};{OFS=\"\\t\"; print $0}' $path/temp > $path/dataset.b38.imputed.dosage.assoc.200kb.annot.tops\n",
    "wc $path/dataset.b38.imputed.dosage.assoc.200kb.annot.tops\n",
    "head $path/dataset.b38.imputed.dosage.assoc.200kb.annot.tops\n",
    "rm $path/temp\n"
   ]
  },
  {
   "cell_type": "code",
   "execution_count": 63,
   "metadata": {
    "ExecuteTime": {
     "end_time": "2020-08-26T16:47:46.312975Z",
     "start_time": "2020-08-26T16:47:31.688027Z"
    }
   },
   "outputs": [],
   "source": [
    "%%bash\n",
    "cp $path/dataset.b38.imputed.dosage.full.assoc.dosage.clean.rs.200kb.annotated.annot $path/dataset.b38.imputed.assoc.dosage.clean.rs.200kb.annot\n"
   ]
  },
  {
   "cell_type": "code",
   "execution_count": 64,
   "metadata": {
    "ExecuteTime": {
     "end_time": "2020-08-26T16:47:46.338721Z",
     "start_time": "2020-08-26T16:47:46.323888Z"
    }
   },
   "outputs": [
    {
     "name": "stdout",
     "output_type": "stream",
     "text": [
      "CHR\tBP\tSNP\tA1\tA2\tFRQ\tINFO\tOR\tSE\tP\tRS ANNOT\n",
      "10\t100000235\t10:100000235:C:T\tC\tT\t0.2982\t0.7959\t0.6679\t0.3084\t0.1906\trs11596870 ABCC2(+148kb)|CHUK(-188.1kb)|CPN1(-42.07kb)|DNMBP(0)|DNMBP-AS1(+41.24kb)|ERLIN1(-149.9kb)\n",
      "10\t100000943\t10:100000943:G:A\tG\tA\t0.0929\t0.7945\t1.2681\t0.5058\t0.6387\trs11190359 ABCC2(+148.8kb)|CHUK(-187.4kb)|CPN1(-41.36kb)|DNMBP(0)|DNMBP-AS1(+41.94kb)|ERLIN1(-149.1kb)\n",
      "10\t100000979\t10:100000979:T:C\tT\tC\t0.0504\t0.7881\t1.7337\t0.7499\t0.4631\trs11190360 ABCC2(+148.8kb)|CHUK(-187.4kb)|CPN1(-41.33kb)|DNMBP(0)|DNMBP-AS1(+41.98kb)|ERLIN1(-149.1kb)\n",
      "10\t100002012\t10:100002012:T:C\tT\tC\t0.0374\t0.8215\t1.0097\t0.6786\t0.9886\trs11190362 ABCC2(+149.8kb)|CHUK(-186.4kb)|CPN1(-40.3kb)|DNMBP(0)|DNMBP-AS1(+43.01kb)|ERLIN1(-148.1kb)\n",
      "10\t100002038\t10:100002038:G:A\tG\tA\t0.0102\t0.8861\t3.051\t1.3529\t0.4097\trs192480913 ABCC2(+149.8kb)|CHUK(-186.3kb)|CPN1(-40.27kb)|DNMBP(0)|DNMBP-AS1(+43.04kb)|ERLIN1(-148.1kb)\n",
      "10\t100002300\t10:100002300:GA:G\tGA\tG\t0.0374\t0.8216\t1.0082\t0.6788\t0.9904\trs111354488 ABCC2(+150.1kb)|CHUK(-186.1kb)|CPN1(-40.01kb)|DNMBP(0)|DNMBP-AS1(+43.3kb)|ERLIN1(-147.8kb)\n",
      "10\t100002330\t10:100002330:AAAAG:A\tAAAAG\tA\t0.0647\t0.8095\t1.3697\t0.6481\t0.6274\tNA ABCC2(+150.1kb)|CHUK(-186kb)|CPN1(-39.98kb)|DNMBP(0)|DNMBP-AS1(+43.33kb)|ERLIN1(-147.8kb)\n",
      "10\t100002628\t10:100002628:A:C\tA\tC\t0.4467\t0.8605\t0.7322\t0.2868\t0.2771\trs11190363 ABCC2(+150.4kb)|CHUK(-185.7kb)|CPN1(-39.68kb)|DNMBP(0)|DNMBP-AS1(+43.63kb)|ERLIN1(-147.5kb)\n",
      "10\t100002875\t10:100002875:A:G\tA\tG\t0.0648\t0.8118\t1.3222\t0.6435\t0.6642\trs7894103 ABCC2(+150.7kb)|CHUK(-185.5kb)|CPN1(-39.43kb)|DNMBP(0)|DNMBP-AS1(+43.88kb)|ERLIN1(-147.2kb)\n"
     ]
    }
   ],
   "source": [
    "%%bash\n",
    "head $path/dataset.b38.imputed.assoc.dosage.clean.rs.200kb.annot"
   ]
  },
  {
   "cell_type": "markdown",
   "metadata": {},
   "source": [
    "**For the next step you need the following file:**\n",
    "- dataset.b38.imputed.assoc.dosage.clean.rs.200kb.annot"
   ]
  }
 ],
 "metadata": {
  "kernelspec": {
   "display_name": "Python 3",
   "language": "python",
   "name": "python3"
  },
  "language_info": {
   "codemirror_mode": {
    "name": "ipython",
    "version": 3
   },
   "file_extension": ".py",
   "mimetype": "text/x-python",
   "name": "python",
   "nbconvert_exporter": "python",
   "pygments_lexer": "ipython3",
   "version": "3.6.9"
  },
  "toc": {
   "base_numbering": 1,
   "nav_menu": {},
   "number_sections": true,
   "sideBar": true,
   "skip_h1_title": false,
   "title_cell": "Table of Contents",
   "title_sidebar": "Contents",
   "toc_cell": false,
   "toc_position": {},
   "toc_section_display": true,
   "toc_window_display": false
  },
  "varInspector": {
   "cols": {
    "lenName": 16,
    "lenType": 16,
    "lenVar": 40
   },
   "kernels_config": {
    "python": {
     "delete_cmd_postfix": "",
     "delete_cmd_prefix": "del ",
     "library": "var_list.py",
     "varRefreshCmd": "print(var_dic_list())"
    },
    "r": {
     "delete_cmd_postfix": ") ",
     "delete_cmd_prefix": "rm(",
     "library": "var_list.r",
     "varRefreshCmd": "cat(var_dic_list()) "
    }
   },
   "types_to_exclude": [
    "module",
    "function",
    "builtin_function_or_method",
    "instance",
    "_Feature"
   ],
   "window_display": false
  }
 },
 "nbformat": 4,
 "nbformat_minor": 4
}
