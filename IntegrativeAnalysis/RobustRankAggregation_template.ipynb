{
 "cells": [
  {
   "cell_type": "markdown",
   "metadata": {},
   "source": [
    "# Integrative Analysis. Robust Rank Aggregation\n",
    "\n",
    "Integrative Analysis aims at combining heterogeneous data at different omic levels. \n",
    "\n",
    "The integration is performed using Robust Rank Aggregation (RRA) method (Kolde R et al., 2012). It detects genes that are ranked consistently better than expected under null hypothesis of uncorrelated inputs and assigns a significance score for each gene.\n",
    "\n",
    "For each item, the algorithm looks at how the item is positioned in the ranked lists and compares this to the baseline case where all the preference lists are randomly shuffled. As a result, it assigns a P-value for all items, showing how much better it is positioned in the ranked lists than expected by chance. This P-value is used both for re-ranking the items and deciding their significance.\n",
    "\n",
    "Since the number of informative ranks is not known, it defines the final score for the rank vector r as the minimum of P-values and order all rank vectors according to their ρ scores. "
   ]
  },
  {
   "cell_type": "code",
   "execution_count": 1,
   "metadata": {},
   "outputs": [],
   "source": [
    "library(RobustRankAggreg)"
   ]
  },
  {
   "cell_type": "markdown",
   "metadata": {},
   "source": [
    "### 1) Have a look at input datasets\n",
    "\n",
    "We are integrating here as an example, the results of the meta analysis of expression data and the meta analysis of GWAS data.\n",
    "\n",
    "Ensure you have common gene symbols in the datasets to integrate."
   ]
  },
  {
   "cell_type": "code",
   "execution_count": 3,
   "metadata": {},
   "outputs": [
    {
     "data": {
      "text/html": [
       "<table>\n",
       "<thead><tr><th></th><th scope=col>rank</th><th scope=col>logFC.case.ctl</th><th scope=col>Var</th><th scope=col>Qpvalue</th><th scope=col>REM.Pvalue</th><th scope=col>REM.FDR</th><th scope=col>Fisher.Pvalue</th><th scope=col>Fisher.FDR</th><th scope=col>n.estimators</th></tr></thead>\n",
       "<tbody>\n",
       "\t<tr><th scope=row>ANKHD1-EIF4EBP3</th><td>1           </td><td> 0.2311820  </td><td>0.14104115  </td><td>5.669907e-12</td><td>0.538174920 </td><td>0.77161190  </td><td>0           </td><td>0           </td><td>2           </td></tr>\n",
       "\t<tr><th scope=row>ARHGEF9</th><td>1           </td><td>-0.3601272  </td><td>0.01322088  </td><td>7.571364e-02</td><td>0.001736033 </td><td>0.02073393  </td><td>0           </td><td>0           </td><td>2           </td></tr>\n",
       "\t<tr><th scope=row>ATP6V1H</th><td>1           </td><td>-0.4756527  </td><td>0.11613876  </td><td>6.065009e-05</td><td>0.162795809 </td><td>0.44010271  </td><td>0           </td><td>0           </td><td>2           </td></tr>\n",
       "</tbody>\n",
       "</table>\n"
      ],
      "text/latex": [
       "\\begin{tabular}{r|lllllllll}\n",
       "  & rank & logFC.case.ctl & Var & Qpvalue & REM.Pvalue & REM.FDR & Fisher.Pvalue & Fisher.FDR & n.estimators\\\\\n",
       "\\hline\n",
       "\tANKHD1-EIF4EBP3 & 1            &  0.2311820   & 0.14104115   & 5.669907e-12 & 0.538174920  & 0.77161190   & 0            & 0            & 2           \\\\\n",
       "\tARHGEF9 & 1            & -0.3601272   & 0.01322088   & 7.571364e-02 & 0.001736033  & 0.02073393   & 0            & 0            & 2           \\\\\n",
       "\tATP6V1H & 1            & -0.4756527   & 0.11613876   & 6.065009e-05 & 0.162795809  & 0.44010271   & 0            & 0            & 2           \\\\\n",
       "\\end{tabular}\n"
      ],
      "text/markdown": [
       "\n",
       "| <!--/--> | rank | logFC.case.ctl | Var | Qpvalue | REM.Pvalue | REM.FDR | Fisher.Pvalue | Fisher.FDR | n.estimators | \n",
       "|---|---|---|\n",
       "| ANKHD1-EIF4EBP3 | 1            |  0.2311820   | 0.14104115   | 5.669907e-12 | 0.538174920  | 0.77161190   | 0            | 0            | 2            | \n",
       "| ARHGEF9 | 1            | -0.3601272   | 0.01322088   | 7.571364e-02 | 0.001736033  | 0.02073393   | 0            | 0            | 2            | \n",
       "| ATP6V1H | 1            | -0.4756527   | 0.11613876   | 6.065009e-05 | 0.162795809  | 0.44010271   | 0            | 0            | 2            | \n",
       "\n",
       "\n"
      ],
      "text/plain": [
       "                rank logFC.case.ctl Var        Qpvalue      REM.Pvalue \n",
       "ANKHD1-EIF4EBP3 1     0.2311820     0.14104115 5.669907e-12 0.538174920\n",
       "ARHGEF9         1    -0.3601272     0.01322088 7.571364e-02 0.001736033\n",
       "ATP6V1H         1    -0.4756527     0.11613876 6.065009e-05 0.162795809\n",
       "                REM.FDR    Fisher.Pvalue Fisher.FDR n.estimators\n",
       "ANKHD1-EIF4EBP3 0.77161190 0             0          2           \n",
       "ARHGEF9         0.02073393 0             0          2           \n",
       "ATP6V1H         0.44010271 0             0          2           "
      ]
     },
     "metadata": {},
     "output_type": "display_data"
    }
   ],
   "source": [
    "metaGWES=read.table(\"/home/guess/MetaAnalysis/GeneExprMeta/meta_result_case-ctl\")\n",
    "head(metaGWES,n=3)"
   ]
  },
  {
   "cell_type": "code",
   "execution_count": 8,
   "metadata": {},
   "outputs": [
    {
     "data": {
      "text/html": [
       "<ol class=list-inline>\n",
       "\t<li>18508</li>\n",
       "\t<li>17</li>\n",
       "</ol>\n"
      ],
      "text/latex": [
       "\\begin{enumerate*}\n",
       "\\item 18508\n",
       "\\item 17\n",
       "\\end{enumerate*}\n"
      ],
      "text/markdown": [
       "1. 18508\n",
       "2. 17\n",
       "\n",
       "\n"
      ],
      "text/plain": [
       "[1] 18508    17"
      ]
     },
     "metadata": {},
     "output_type": "display_data"
    },
    {
     "data": {
      "text/html": [
       "<table>\n",
       "<thead><tr><th scope=col>magma_rank</th><th scope=col>GENE</th><th scope=col>CHR.x</th><th scope=col>START.x</th><th scope=col>STOP.x</th><th scope=col>NSNPS</th><th scope=col>NPARAM</th><th scope=col>N</th><th scope=col>ZSTAT</th><th scope=col>P_JOINT</th><th scope=col>P_SNPWISE_MEAN</th><th scope=col>P_SNPWISE_TOP1</th><th scope=col>CHR.y</th><th scope=col>START.y</th><th scope=col>STOP.y</th><th scope=col>STRAND</th><th scope=col>HUGO</th></tr></thead>\n",
       "<tbody>\n",
       "\t<tr><td>1         </td><td>6869      </td><td> 2        </td><td>75223590  </td><td>75476645  </td><td>729       </td><td>80        </td><td>10000     </td><td>3.8263    </td><td>6.5051e-05</td><td>1.6509e-05</td><td>0.0092927 </td><td> 2        </td><td>75273590  </td><td>75426645  </td><td>-         </td><td>TACR1     </td></tr>\n",
       "\t<tr><td>2         </td><td>7031      </td><td>21        </td><td>43732391  </td><td>43836644  </td><td>485       </td><td>67        </td><td>10000     </td><td>3.4969    </td><td>2.3536e-04</td><td>2.5108e-05</td><td>0.0392460 </td><td>21        </td><td>43782391  </td><td>43786644  </td><td>-         </td><td>TFF1      </td></tr>\n",
       "\t<tr><td>3         </td><td>8698      </td><td>19        </td><td> 3128250  </td><td> 3230335  </td><td>495       </td><td>71        </td><td>10000     </td><td>3.2452    </td><td>5.8691e-04</td><td>5.7742e-05</td><td>0.0734090 </td><td>19        </td><td> 3178250  </td><td> 3180335  </td><td>+         </td><td>S1PR4     </td></tr>\n",
       "</tbody>\n",
       "</table>\n"
      ],
      "text/latex": [
       "\\begin{tabular}{r|lllllllllllllllll}\n",
       " magma\\_rank & GENE & CHR.x & START.x & STOP.x & NSNPS & NPARAM & N & ZSTAT & P\\_JOINT & P\\_SNPWISE\\_MEAN & P\\_SNPWISE\\_TOP1 & CHR.y & START.y & STOP.y & STRAND & HUGO\\\\\n",
       "\\hline\n",
       "\t 1          & 6869       &  2         & 75223590   & 75476645   & 729        & 80         & 10000      & 3.8263     & 6.5051e-05 & 1.6509e-05 & 0.0092927  &  2         & 75273590   & 75426645   & -          & TACR1     \\\\\n",
       "\t 2          & 7031       & 21         & 43732391   & 43836644   & 485        & 67         & 10000      & 3.4969     & 2.3536e-04 & 2.5108e-05 & 0.0392460  & 21         & 43782391   & 43786644   & -          & TFF1      \\\\\n",
       "\t 3          & 8698       & 19         &  3128250   &  3230335   & 495        & 71         & 10000      & 3.2452     & 5.8691e-04 & 5.7742e-05 & 0.0734090  & 19         &  3178250   &  3180335   & +          & S1PR4     \\\\\n",
       "\\end{tabular}\n"
      ],
      "text/markdown": [
       "\n",
       "magma_rank | GENE | CHR.x | START.x | STOP.x | NSNPS | NPARAM | N | ZSTAT | P_JOINT | P_SNPWISE_MEAN | P_SNPWISE_TOP1 | CHR.y | START.y | STOP.y | STRAND | HUGO | \n",
       "|---|---|---|\n",
       "| 1          | 6869       |  2         | 75223590   | 75476645   | 729        | 80         | 10000      | 3.8263     | 6.5051e-05 | 1.6509e-05 | 0.0092927  |  2         | 75273590   | 75426645   | -          | TACR1      | \n",
       "| 2          | 7031       | 21         | 43732391   | 43836644   | 485        | 67         | 10000      | 3.4969     | 2.3536e-04 | 2.5108e-05 | 0.0392460  | 21         | 43782391   | 43786644   | -          | TFF1       | \n",
       "| 3          | 8698       | 19         |  3128250   |  3230335   | 495        | 71         | 10000      | 3.2452     | 5.8691e-04 | 5.7742e-05 | 0.0734090  | 19         |  3178250   |  3180335   | +          | S1PR4      | \n",
       "\n",
       "\n"
      ],
      "text/plain": [
       "  magma_rank GENE CHR.x START.x  STOP.x   NSNPS NPARAM N     ZSTAT  P_JOINT   \n",
       "1 1          6869  2    75223590 75476645 729   80     10000 3.8263 6.5051e-05\n",
       "2 2          7031 21    43732391 43836644 485   67     10000 3.4969 2.3536e-04\n",
       "3 3          8698 19     3128250  3230335 495   71     10000 3.2452 5.8691e-04\n",
       "  P_SNPWISE_MEAN P_SNPWISE_TOP1 CHR.y START.y  STOP.y   STRAND HUGO \n",
       "1 1.6509e-05     0.0092927       2    75273590 75426645 -      TACR1\n",
       "2 2.5108e-05     0.0392460      21    43782391 43786644 -      TFF1 \n",
       "3 5.7742e-05     0.0734090      19     3178250  3180335 +      S1PR4"
      ]
     },
     "metadata": {},
     "output_type": "display_data"
    }
   ],
   "source": [
    "metaGWAS=read.table(\"/mnt/data/GWAS_data/output/imputed_files/dataset.b37.imputed.dosage.maf.0.01.LOC.50kb.genes.annot.magma.genes.out.sorted.annot\", header=TRUE)\n",
    "dim(metaGWAS)\n",
    "head(metaGWAS,n=3)"
   ]
  },
  {
   "cell_type": "markdown",
   "metadata": {},
   "source": [
    "### 2) RRA method\n",
    "\n",
    "Ensure input list are ordered by p value ascending. "
   ]
  },
  {
   "cell_type": "code",
   "execution_count": null,
   "metadata": {},
   "outputs": [],
   "source": [
    "# create a list object with the ordered genes from each dataset to integrate\n",
    "genelist <- list(as.character(rownames(metaGWES)),as.character(rownames(metaGWAS)))"
   ]
  },
  {
   "cell_type": "code",
   "execution_count": null,
   "metadata": {},
   "outputs": [],
   "source": [
    "# call aggregateRanks method from RobustRankAggreg library\n",
    "agglist<-aggregateRanks(rmat=rankMatrix(genelist,full = TRUE),method = \"RRA\") \n",
    "dim(agglist)\n",
    "agglist"
   ]
  },
  {
   "cell_type": "code",
   "execution_count": null,
   "metadata": {},
   "outputs": [],
   "source": [
    "# rank the final list using the Rank library from the R Basic package\n",
    "rank<-rank(agglist$Score,na.last = TRUE, ties.method = \"min\")\n",
    "ranked<-cbind(rank,agglist)\n",
    "head(ranked)"
   ]
  },
  {
   "cell_type": "code",
   "execution_count": null,
   "metadata": {},
   "outputs": [],
   "source": [
    "# rank the final list using the Rank library from the R Basic package - assign the same rank to those genes with NA score\n",
    "rankE2<-rank(agglist_all$Score,na.last = \"keep\", ties.method = \"min\")\n",
    "ranked<-cbind(rank,agglist)\n",
    "head(ranked)"
   ]
  },
  {
   "cell_type": "code",
   "execution_count": null,
   "metadata": {},
   "outputs": [],
   "source": [
    "sum(is.na(ranked.E2$rankE2))"
   ]
  },
  {
   "cell_type": "code",
   "execution_count": null,
   "metadata": {},
   "outputs": [],
   "source": [
    "# get the last non NA index\n",
    "NonNAindex <- which(!is.na(ranked.E2$rankE2))\n",
    "lastNonNA <- max(NonNAindex)\n",
    "lastNonNA\n",
    "# change all NA index to last non NA +1\n",
    "ranked.E2$rankE2[is.na(ranked.E2$rankE2)]<-lastNonNA+1"
   ]
  },
  {
   "cell_type": "code",
   "execution_count": null,
   "metadata": {},
   "outputs": [],
   "source": [
    "write.table(ranked,\"RRAresult\")"
   ]
  }
 ],
 "metadata": {
  "kernelspec": {
   "display_name": "R",
   "language": "R",
   "name": "ir"
  },
  "language_info": {
   "codemirror_mode": "r",
   "file_extension": ".r",
   "mimetype": "text/x-r-source",
   "name": "R",
   "pygments_lexer": "r",
   "version": "4.0.3"
  }
 },
 "nbformat": 4,
 "nbformat_minor": 4
}
