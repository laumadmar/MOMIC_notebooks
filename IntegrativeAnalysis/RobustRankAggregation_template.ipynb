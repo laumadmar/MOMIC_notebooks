{
 "cells": [
  {
   "cell_type": "markdown",
   "metadata": {},
   "source": [
    "# Integrative Analysis. Robust Rank Aggregation\n",
    "\n",
    "Integrative Analysis aims at combining heterogeneous data at different omic levels. \n",
    "\n",
    "The integration is performed using Robust Rank Aggregation (RRA) method (Kolde R et al., 2012). It detects genes that are ranked consistently better than expected under null hypothesis of uncorrelated inputs and assigns a significance score for each gene.\n",
    "\n",
    "For each item, the algorithm looks at how the item is positioned in the ranked lists and compares this to the baseline case where all the preference lists are randomly shuffled. As a result, it assigns a P-value for all items, showing how much better it is positioned in the ranked lists than expected by chance. This P-value is used both for re-ranking the items and deciding their significance.\n",
    "\n",
    "Since the number of informative ranks is not known, it defines the final score for the rank vector r as the minimum of P-values and order all rank vectors according to their ρ scores. "
   ]
  },
  {
   "cell_type": "code",
   "execution_count": 1,
   "metadata": {},
   "outputs": [],
   "source": [
    "library(RobustRankAggreg)"
   ]
  },
  {
   "cell_type": "markdown",
   "metadata": {},
   "source": [
    "### 1) Have a look at input datasets\n",
    "\n",
    "We are combining here the results from the meta analysis of GWES Microarray and the results from the GWAS analysis. Note we just have one GWAS data analysed so there is no meta GWAS results. \n",
    "\n",
    "Ensure you have common gene symbols in the datasets to integrate."
   ]
  },
  {
   "cell_type": "code",
   "execution_count": 2,
   "metadata": {},
   "outputs": [
    {
     "data": {
      "text/html": [
       "<table class=\"dataframe\">\n",
       "<caption>A data.frame: 3 x 9</caption>\n",
       "<thead>\n",
       "\t<tr><th></th><th scope=col>rank</th><th scope=col>logFC.case.ctl</th><th scope=col>Var</th><th scope=col>Qpvalue</th><th scope=col>REM.Pvalue</th><th scope=col>REM.FDR</th><th scope=col>Fisher.Pvalue</th><th scope=col>Fisher.FDR</th><th scope=col>n.estimators</th></tr>\n",
       "\t<tr><th></th><th scope=col>&lt;int&gt;</th><th scope=col>&lt;dbl&gt;</th><th scope=col>&lt;dbl&gt;</th><th scope=col>&lt;dbl&gt;</th><th scope=col>&lt;dbl&gt;</th><th scope=col>&lt;dbl&gt;</th><th scope=col>&lt;dbl&gt;</th><th scope=col>&lt;dbl&gt;</th><th scope=col>&lt;int&gt;</th></tr>\n",
       "</thead>\n",
       "<tbody>\n",
       "\t<tr><th scope=row>ZNF264</th><td>1</td><td> 0.3552904</td><td>0.299334526</td><td>1.502152e-26</td><td>0.516086802</td><td>0.67039523</td><td>1.427335e-31</td><td>1.172413e-27</td><td>2</td></tr>\n",
       "\t<tr><th scope=row>SVOP</th><td>2</td><td>-0.7902721</td><td>0.005249884</td><td>3.104079e-01</td><td>0.000000000</td><td>0.00000000</td><td>2.022028e-27</td><td>8.304468e-24</td><td>2</td></tr>\n",
       "\t<tr><th scope=row>NFKB1</th><td>3</td><td> 0.3817504</td><td>0.016106871</td><td>9.565457e-03</td><td>0.002629964</td><td>0.01517535</td><td>8.712374e-27</td><td>2.263827e-23</td><td>2</td></tr>\n",
       "</tbody>\n",
       "</table>\n"
      ],
      "text/latex": [
       "A data.frame: 3 x 9\n",
       "\\begin{tabular}{r|lllllllll}\n",
       "  & rank & logFC.case.ctl & Var & Qpvalue & REM.Pvalue & REM.FDR & Fisher.Pvalue & Fisher.FDR & n.estimators\\\\\n",
       "  & <int> & <dbl> & <dbl> & <dbl> & <dbl> & <dbl> & <dbl> & <dbl> & <int>\\\\\n",
       "\\hline\n",
       "\tZNF264 & 1 &  0.3552904 & 0.299334526 & 1.502152e-26 & 0.516086802 & 0.67039523 & 1.427335e-31 & 1.172413e-27 & 2\\\\\n",
       "\tSVOP & 2 & -0.7902721 & 0.005249884 & 3.104079e-01 & 0.000000000 & 0.00000000 & 2.022028e-27 & 8.304468e-24 & 2\\\\\n",
       "\tNFKB1 & 3 &  0.3817504 & 0.016106871 & 9.565457e-03 & 0.002629964 & 0.01517535 & 8.712374e-27 & 2.263827e-23 & 2\\\\\n",
       "\\end{tabular}\n"
      ],
      "text/markdown": [
       "\n",
       "A data.frame: 3 x 9\n",
       "\n",
       "| <!--/--> | rank &lt;int&gt; | logFC.case.ctl &lt;dbl&gt; | Var &lt;dbl&gt; | Qpvalue &lt;dbl&gt; | REM.Pvalue &lt;dbl&gt; | REM.FDR &lt;dbl&gt; | Fisher.Pvalue &lt;dbl&gt; | Fisher.FDR &lt;dbl&gt; | n.estimators &lt;int&gt; |\n",
       "|---|---|---|---|---|---|---|---|---|---|\n",
       "| ZNF264 | 1 |  0.3552904 | 0.299334526 | 1.502152e-26 | 0.516086802 | 0.67039523 | 1.427335e-31 | 1.172413e-27 | 2 |\n",
       "| SVOP | 2 | -0.7902721 | 0.005249884 | 3.104079e-01 | 0.000000000 | 0.00000000 | 2.022028e-27 | 8.304468e-24 | 2 |\n",
       "| NFKB1 | 3 |  0.3817504 | 0.016106871 | 9.565457e-03 | 0.002629964 | 0.01517535 | 8.712374e-27 | 2.263827e-23 | 2 |\n",
       "\n"
      ],
      "text/plain": [
       "       rank logFC.case.ctl Var         Qpvalue      REM.Pvalue  REM.FDR   \n",
       "ZNF264 1     0.3552904     0.299334526 1.502152e-26 0.516086802 0.67039523\n",
       "SVOP   2    -0.7902721     0.005249884 3.104079e-01 0.000000000 0.00000000\n",
       "NFKB1  3     0.3817504     0.016106871 9.565457e-03 0.002629964 0.01517535\n",
       "       Fisher.Pvalue Fisher.FDR   n.estimators\n",
       "ZNF264 1.427335e-31  1.172413e-27 2           \n",
       "SVOP   2.022028e-27  8.304468e-24 2           \n",
       "NFKB1  8.712374e-27  2.263827e-23 2           "
      ]
     },
     "metadata": {},
     "output_type": "display_data"
    }
   ],
   "source": [
    "metaGWES=read.table(\"/mnt/data/MetaAnalysis/output/meta_result_case-ctl\")\n",
    "head(metaGWES,n=3)"
   ]
  },
  {
   "cell_type": "code",
   "execution_count": 3,
   "metadata": {},
   "outputs": [
    {
     "data": {
      "text/html": [
       "<table class=\"dataframe\">\n",
       "<caption>A data.frame: 3 x 14</caption>\n",
       "<thead>\n",
       "\t<tr><th></th><th scope=col>magma_rank</th><th scope=col>GENE</th><th scope=col>CHR</th><th scope=col>START</th><th scope=col>STOP</th><th scope=col>NSNPS</th><th scope=col>NPARAM</th><th scope=col>N</th><th scope=col>ZSTAT</th><th scope=col>P_JOINT</th><th scope=col>P_SNPWISE_MEAN</th><th scope=col>P_SNPWISE_TOP1</th><th scope=col>STRAND</th><th scope=col>HUGO</th></tr>\n",
       "\t<tr><th></th><th scope=col>&lt;int&gt;</th><th scope=col>&lt;int&gt;</th><th scope=col>&lt;int&gt;</th><th scope=col>&lt;int&gt;</th><th scope=col>&lt;int&gt;</th><th scope=col>&lt;int&gt;</th><th scope=col>&lt;int&gt;</th><th scope=col>&lt;int&gt;</th><th scope=col>&lt;dbl&gt;</th><th scope=col>&lt;dbl&gt;</th><th scope=col>&lt;dbl&gt;</th><th scope=col>&lt;dbl&gt;</th><th scope=col>&lt;chr&gt;</th><th scope=col>&lt;chr&gt;</th></tr>\n",
       "</thead>\n",
       "<tbody>\n",
       "\t<tr><th scope=row>1</th><td>1</td><td> 11214</td><td>15</td><td>85330616</td><td>85799358</td><td>20</td><td>13</td><td>495</td><td>3.8130</td><td>6.8633e-05</td><td>1.8683e-05</td><td>0.0013226</td><td>+</td><td>AKAP13 </td></tr>\n",
       "\t<tr><th scope=row>2</th><td>2</td><td>134111</td><td> 5</td><td> 6387347</td><td> 6546721</td><td>17</td><td>14</td><td>495</td><td>3.7768</td><td>7.9438e-05</td><td>5.6238e-05</td><td>0.0018005</td><td>+</td><td>UBE2QL1</td></tr>\n",
       "\t<tr><th scope=row>3</th><td>3</td><td> 26074</td><td>20</td><td>20002514</td><td>20410714</td><td>25</td><td>19</td><td>495</td><td>3.6031</td><td>1.5722e-04</td><td>7.9538e-05</td><td>0.0047978</td><td>+</td><td>CFAP61 </td></tr>\n",
       "</tbody>\n",
       "</table>\n"
      ],
      "text/latex": [
       "A data.frame: 3 x 14\n",
       "\\begin{tabular}{r|llllllllllllll}\n",
       "  & magma\\_rank & GENE & CHR & START & STOP & NSNPS & NPARAM & N & ZSTAT & P\\_JOINT & P\\_SNPWISE\\_MEAN & P\\_SNPWISE\\_TOP1 & STRAND & HUGO\\\\\n",
       "  & <int> & <int> & <int> & <int> & <int> & <int> & <int> & <int> & <dbl> & <dbl> & <dbl> & <dbl> & <chr> & <chr>\\\\\n",
       "\\hline\n",
       "\t1 & 1 &  11214 & 15 & 85330616 & 85799358 & 20 & 13 & 495 & 3.8130 & 6.8633e-05 & 1.8683e-05 & 0.0013226 & + & AKAP13 \\\\\n",
       "\t2 & 2 & 134111 &  5 &  6387347 &  6546721 & 17 & 14 & 495 & 3.7768 & 7.9438e-05 & 5.6238e-05 & 0.0018005 & + & UBE2QL1\\\\\n",
       "\t3 & 3 &  26074 & 20 & 20002514 & 20410714 & 25 & 19 & 495 & 3.6031 & 1.5722e-04 & 7.9538e-05 & 0.0047978 & + & CFAP61 \\\\\n",
       "\\end{tabular}\n"
      ],
      "text/markdown": [
       "\n",
       "A data.frame: 3 x 14\n",
       "\n",
       "| <!--/--> | magma_rank &lt;int&gt; | GENE &lt;int&gt; | CHR &lt;int&gt; | START &lt;int&gt; | STOP &lt;int&gt; | NSNPS &lt;int&gt; | NPARAM &lt;int&gt; | N &lt;int&gt; | ZSTAT &lt;dbl&gt; | P_JOINT &lt;dbl&gt; | P_SNPWISE_MEAN &lt;dbl&gt; | P_SNPWISE_TOP1 &lt;dbl&gt; | STRAND &lt;chr&gt; | HUGO &lt;chr&gt; |\n",
       "|---|---|---|---|---|---|---|---|---|---|---|---|---|---|---|\n",
       "| 1 | 1 |  11214 | 15 | 85330616 | 85799358 | 20 | 13 | 495 | 3.8130 | 6.8633e-05 | 1.8683e-05 | 0.0013226 | + | AKAP13  |\n",
       "| 2 | 2 | 134111 |  5 |  6387347 |  6546721 | 17 | 14 | 495 | 3.7768 | 7.9438e-05 | 5.6238e-05 | 0.0018005 | + | UBE2QL1 |\n",
       "| 3 | 3 |  26074 | 20 | 20002514 | 20410714 | 25 | 19 | 495 | 3.6031 | 1.5722e-04 | 7.9538e-05 | 0.0047978 | + | CFAP61  |\n",
       "\n"
      ],
      "text/plain": [
       "  magma_rank GENE   CHR START    STOP     NSNPS NPARAM N   ZSTAT  P_JOINT   \n",
       "1 1           11214 15  85330616 85799358 20    13     495 3.8130 6.8633e-05\n",
       "2 2          134111  5   6387347  6546721 17    14     495 3.7768 7.9438e-05\n",
       "3 3           26074 20  20002514 20410714 25    19     495 3.6031 1.5722e-04\n",
       "  P_SNPWISE_MEAN P_SNPWISE_TOP1 STRAND HUGO   \n",
       "1 1.8683e-05     0.0013226      +      AKAP13 \n",
       "2 5.6238e-05     0.0018005      +      UBE2QL1\n",
       "3 7.9538e-05     0.0047978      +      CFAP61 "
      ]
     },
     "metadata": {},
     "output_type": "display_data"
    }
   ],
   "source": [
    "GWAS=read.table(\"/mnt/data/GWAS/output/build38/task6_genewise/dataset.b38.imputed.dosage.maf.0.01.LOC.50kb.genes.annot.magma.genes.out.sorted.annot\", header=TRUE)\n",
    "head(GWAS,n=3)"
   ]
  },
  {
   "cell_type": "markdown",
   "metadata": {},
   "source": [
    "### 2) RRA method\n",
    "\n",
    "Ensure input list are ordered by p value ascending. "
   ]
  },
  {
   "cell_type": "code",
   "execution_count": 6,
   "metadata": {},
   "outputs": [],
   "source": [
    "# create a list object with the ordered genes from each dataset to integrate\n",
    "genelist <- list(as.character(rownames(metaGWES)),as.character(GWAS$HUGO))"
   ]
  },
  {
   "cell_type": "code",
   "execution_count": 7,
   "metadata": {
    "collapsed": true,
    "jupyter": {
     "outputs_hidden": true
    },
    "tags": []
   },
   "outputs": [
    {
     "data": {
      "text/html": [
       "<style>\n",
       ".list-inline {list-style: none; margin:0; padding: 0}\n",
       ".list-inline>li {display: inline-block}\n",
       ".list-inline>li:not(:last-child)::after {content: \"\\00b7\"; padding: 0 .5ex}\n",
       "</style>\n",
       "<ol class=list-inline><li>24128</li><li>2</li></ol>\n"
      ],
      "text/latex": [
       "\\begin{enumerate*}\n",
       "\\item 24128\n",
       "\\item 2\n",
       "\\end{enumerate*}\n"
      ],
      "text/markdown": [
       "1. 24128\n",
       "2. 2\n",
       "\n",
       "\n"
      ],
      "text/plain": [
       "[1] 24128     2"
      ]
     },
     "metadata": {},
     "output_type": "display_data"
    },
    {
     "data": {
      "text/html": [
       "<table class=\"dataframe\">\n",
       "<caption>A data.frame: 24128 x 2</caption>\n",
       "<thead>\n",
       "\t<tr><th></th><th scope=col>Name</th><th scope=col>Score</th></tr>\n",
       "\t<tr><th></th><th scope=col>&lt;chr&gt;</th><th scope=col>&lt;dbl&gt;</th></tr>\n",
       "</thead>\n",
       "<tbody>\n",
       "\t<tr><th scope=row>ZNF264</th><td>ZNF264      </td><td>0.0001816654</td></tr>\n",
       "\t<tr><th scope=row>AKAP13</th><td>AKAP13      </td><td>0.0002152215</td></tr>\n",
       "\t<tr><th scope=row>SVOP</th><td>SVOP        </td><td>0.0003633226</td></tr>\n",
       "\t<tr><th scope=row>UBE2QL1</th><td>UBE2QL1     </td><td>0.0004304315</td></tr>\n",
       "\t<tr><th scope=row>RAB29</th><td>RAB29       </td><td>0.0004347164</td></tr>\n",
       "\t<tr><th scope=row>AGK</th><td>AGK         </td><td>0.0005351210</td></tr>\n",
       "\t<tr><th scope=row>NFKB1</th><td>NFKB1       </td><td>0.0005449715</td></tr>\n",
       "\t<tr><th scope=row>CFAP61</th><td>CFAP61      </td><td>0.0006456299</td></tr>\n",
       "\t<tr><th scope=row>CLN8</th><td>CLN8        </td><td>0.0006852069</td></tr>\n",
       "\t<tr><th scope=row>SRGAP1</th><td>SRGAP1      </td><td>0.0007266122</td></tr>\n",
       "\t<tr><th scope=row>PSMB4</th><td>PSMB4       </td><td>0.0007521943</td></tr>\n",
       "\t<tr><th scope=row>FIBP</th><td>FIBP        </td><td>0.0007628009</td></tr>\n",
       "\t<tr><th scope=row>INTS12</th><td>INTS12      </td><td>0.0008608167</td></tr>\n",
       "\t<tr><th scope=row>KLHDC9</th><td>KLHDC9      </td><td>0.0009034395</td></tr>\n",
       "\t<tr><th scope=row>DSTYK</th><td>DSTYK       </td><td>0.0009082446</td></tr>\n",
       "\t<tr><th scope=row>EMP3</th><td>EMP3        </td><td>0.0009218296</td></tr>\n",
       "\t<tr><th scope=row>PHF21A</th><td>PHF21A      </td><td>0.0010360617</td></tr>\n",
       "\t<tr><th scope=row>BDNF</th><td>BDNF        </td><td>0.0010458821</td></tr>\n",
       "\t<tr><th scope=row>R3HDM1</th><td>R3HDM1      </td><td>0.0010562708</td></tr>\n",
       "\t<tr><th scope=row>ZNHIT2</th><td>ZNHIT2      </td><td>0.0010759919</td></tr>\n",
       "\t<tr><th scope=row>ATP6V1H</th><td>ATP6V1H     </td><td>0.0010898687</td></tr>\n",
       "\t<tr><th scope=row>PSMA5</th><td>PSMA5       </td><td>0.0011198238</td></tr>\n",
       "\t<tr><th scope=row>BEX5</th><td>BEX5        </td><td>0.0011354346</td></tr>\n",
       "\t<tr><th scope=row>POLDIP3</th><td>POLDIP3     </td><td>0.0012714847</td></tr>\n",
       "\t<tr><th scope=row>FAU</th><td>FAU         </td><td>0.0012911556</td></tr>\n",
       "\t<tr><th scope=row>ZDHHC23</th><td>ZDHHC23     </td><td>0.0014530923</td></tr>\n",
       "\t<tr><th scope=row>MTX2</th><td>MTX2        </td><td>0.0014650108</td></tr>\n",
       "\t<tr><th scope=row>HUNK</th><td>HUNK        </td><td>0.0015063076</td></tr>\n",
       "\t<tr><th scope=row>LOC105370929</th><td>LOC105370929</td><td>0.0015603982</td></tr>\n",
       "\t<tr><th scope=row>ARL6IP1</th><td>ARL6IP1     </td><td>0.0015756190</td></tr>\n",
       "\t<tr><th scope=row>...</th><td>...</td><td>...</td></tr>\n",
       "\t<tr><th scope=row>ZNF831</th><td>ZNF831      </td><td>1</td></tr>\n",
       "\t<tr><th scope=row>ZNF836</th><td>ZNF836      </td><td>1</td></tr>\n",
       "\t<tr><th scope=row>ZNF843</th><td>ZNF843      </td><td>1</td></tr>\n",
       "\t<tr><th scope=row>ZNF844</th><td>ZNF844      </td><td>1</td></tr>\n",
       "\t<tr><th scope=row>ZNF85</th><td>ZNF85       </td><td>1</td></tr>\n",
       "\t<tr><th scope=row>ZNF853</th><td>ZNF853      </td><td>1</td></tr>\n",
       "\t<tr><th scope=row>ZNF862</th><td>ZNF862      </td><td>1</td></tr>\n",
       "\t<tr><th scope=row>ZNF865</th><td>ZNF865      </td><td>1</td></tr>\n",
       "\t<tr><th scope=row>ZNF879</th><td>ZNF879      </td><td>1</td></tr>\n",
       "\t<tr><th scope=row>ZNF891</th><td>ZNF891      </td><td>1</td></tr>\n",
       "\t<tr><th scope=row>ZNF90</th><td>ZNF90       </td><td>1</td></tr>\n",
       "\t<tr><th scope=row>ZNF92</th><td>ZNF92       </td><td>1</td></tr>\n",
       "\t<tr><th scope=row>ZNF93</th><td>ZNF93       </td><td>1</td></tr>\n",
       "\t<tr><th scope=row>ZNRD1</th><td>ZNRD1       </td><td>1</td></tr>\n",
       "\t<tr><th scope=row>ZNRF1</th><td>ZNRF1       </td><td>1</td></tr>\n",
       "\t<tr><th scope=row>ZNRF3</th><td>ZNRF3       </td><td>1</td></tr>\n",
       "\t<tr><th scope=row>ZP1</th><td>ZP1         </td><td>1</td></tr>\n",
       "\t<tr><th scope=row>ZP2</th><td>ZP2         </td><td>1</td></tr>\n",
       "\t<tr><th scope=row>ZP4</th><td>ZP4         </td><td>1</td></tr>\n",
       "\t<tr><th scope=row>ZPBP</th><td>ZPBP        </td><td>1</td></tr>\n",
       "\t<tr><th scope=row>ZSCAN1</th><td>ZSCAN1      </td><td>1</td></tr>\n",
       "\t<tr><th scope=row>ZSCAN10</th><td>ZSCAN10     </td><td>1</td></tr>\n",
       "\t<tr><th scope=row>ZSCAN2</th><td>ZSCAN2      </td><td>1</td></tr>\n",
       "\t<tr><th scope=row>ZSCAN29</th><td>ZSCAN29     </td><td>1</td></tr>\n",
       "\t<tr><th scope=row>ZSCAN30</th><td>ZSCAN30     </td><td>1</td></tr>\n",
       "\t<tr><th scope=row>ZSWIM1</th><td>ZSWIM1      </td><td>1</td></tr>\n",
       "\t<tr><th scope=row>ZSWIM2</th><td>ZSWIM2      </td><td>1</td></tr>\n",
       "\t<tr><th scope=row>ZSWIM3</th><td>ZSWIM3      </td><td>1</td></tr>\n",
       "\t<tr><th scope=row>ZSWIM6</th><td>ZSWIM6      </td><td>1</td></tr>\n",
       "\t<tr><th scope=row>LOC100652833</th><td>LOC100652833</td><td>1</td></tr>\n",
       "</tbody>\n",
       "</table>\n"
      ],
      "text/latex": [
       "A data.frame: 24128 x 2\n",
       "\\begin{tabular}{r|ll}\n",
       "  & Name & Score\\\\\n",
       "  & <chr> & <dbl>\\\\\n",
       "\\hline\n",
       "\tZNF264 & ZNF264       & 0.0001816654\\\\\n",
       "\tAKAP13 & AKAP13       & 0.0002152215\\\\\n",
       "\tSVOP & SVOP         & 0.0003633226\\\\\n",
       "\tUBE2QL1 & UBE2QL1      & 0.0004304315\\\\\n",
       "\tRAB29 & RAB29        & 0.0004347164\\\\\n",
       "\tAGK & AGK          & 0.0005351210\\\\\n",
       "\tNFKB1 & NFKB1        & 0.0005449715\\\\\n",
       "\tCFAP61 & CFAP61       & 0.0006456299\\\\\n",
       "\tCLN8 & CLN8         & 0.0006852069\\\\\n",
       "\tSRGAP1 & SRGAP1       & 0.0007266122\\\\\n",
       "\tPSMB4 & PSMB4        & 0.0007521943\\\\\n",
       "\tFIBP & FIBP         & 0.0007628009\\\\\n",
       "\tINTS12 & INTS12       & 0.0008608167\\\\\n",
       "\tKLHDC9 & KLHDC9       & 0.0009034395\\\\\n",
       "\tDSTYK & DSTYK        & 0.0009082446\\\\\n",
       "\tEMP3 & EMP3         & 0.0009218296\\\\\n",
       "\tPHF21A & PHF21A       & 0.0010360617\\\\\n",
       "\tBDNF & BDNF         & 0.0010458821\\\\\n",
       "\tR3HDM1 & R3HDM1       & 0.0010562708\\\\\n",
       "\tZNHIT2 & ZNHIT2       & 0.0010759919\\\\\n",
       "\tATP6V1H & ATP6V1H      & 0.0010898687\\\\\n",
       "\tPSMA5 & PSMA5        & 0.0011198238\\\\\n",
       "\tBEX5 & BEX5         & 0.0011354346\\\\\n",
       "\tPOLDIP3 & POLDIP3      & 0.0012714847\\\\\n",
       "\tFAU & FAU          & 0.0012911556\\\\\n",
       "\tZDHHC23 & ZDHHC23      & 0.0014530923\\\\\n",
       "\tMTX2 & MTX2         & 0.0014650108\\\\\n",
       "\tHUNK & HUNK         & 0.0015063076\\\\\n",
       "\tLOC105370929 & LOC105370929 & 0.0015603982\\\\\n",
       "\tARL6IP1 & ARL6IP1      & 0.0015756190\\\\\n",
       "\t... & ... & ...\\\\\n",
       "\tZNF831 & ZNF831       & 1\\\\\n",
       "\tZNF836 & ZNF836       & 1\\\\\n",
       "\tZNF843 & ZNF843       & 1\\\\\n",
       "\tZNF844 & ZNF844       & 1\\\\\n",
       "\tZNF85 & ZNF85        & 1\\\\\n",
       "\tZNF853 & ZNF853       & 1\\\\\n",
       "\tZNF862 & ZNF862       & 1\\\\\n",
       "\tZNF865 & ZNF865       & 1\\\\\n",
       "\tZNF879 & ZNF879       & 1\\\\\n",
       "\tZNF891 & ZNF891       & 1\\\\\n",
       "\tZNF90 & ZNF90        & 1\\\\\n",
       "\tZNF92 & ZNF92        & 1\\\\\n",
       "\tZNF93 & ZNF93        & 1\\\\\n",
       "\tZNRD1 & ZNRD1        & 1\\\\\n",
       "\tZNRF1 & ZNRF1        & 1\\\\\n",
       "\tZNRF3 & ZNRF3        & 1\\\\\n",
       "\tZP1 & ZP1          & 1\\\\\n",
       "\tZP2 & ZP2          & 1\\\\\n",
       "\tZP4 & ZP4          & 1\\\\\n",
       "\tZPBP & ZPBP         & 1\\\\\n",
       "\tZSCAN1 & ZSCAN1       & 1\\\\\n",
       "\tZSCAN10 & ZSCAN10      & 1\\\\\n",
       "\tZSCAN2 & ZSCAN2       & 1\\\\\n",
       "\tZSCAN29 & ZSCAN29      & 1\\\\\n",
       "\tZSCAN30 & ZSCAN30      & 1\\\\\n",
       "\tZSWIM1 & ZSWIM1       & 1\\\\\n",
       "\tZSWIM2 & ZSWIM2       & 1\\\\\n",
       "\tZSWIM3 & ZSWIM3       & 1\\\\\n",
       "\tZSWIM6 & ZSWIM6       & 1\\\\\n",
       "\tLOC100652833 & LOC100652833 & 1\\\\\n",
       "\\end{tabular}\n"
      ],
      "text/markdown": [
       "\n",
       "A data.frame: 24128 x 2\n",
       "\n",
       "| <!--/--> | Name &lt;chr&gt; | Score &lt;dbl&gt; |\n",
       "|---|---|---|\n",
       "| ZNF264 | ZNF264       | 0.0001816654 |\n",
       "| AKAP13 | AKAP13       | 0.0002152215 |\n",
       "| SVOP | SVOP         | 0.0003633226 |\n",
       "| UBE2QL1 | UBE2QL1      | 0.0004304315 |\n",
       "| RAB29 | RAB29        | 0.0004347164 |\n",
       "| AGK | AGK          | 0.0005351210 |\n",
       "| NFKB1 | NFKB1        | 0.0005449715 |\n",
       "| CFAP61 | CFAP61       | 0.0006456299 |\n",
       "| CLN8 | CLN8         | 0.0006852069 |\n",
       "| SRGAP1 | SRGAP1       | 0.0007266122 |\n",
       "| PSMB4 | PSMB4        | 0.0007521943 |\n",
       "| FIBP | FIBP         | 0.0007628009 |\n",
       "| INTS12 | INTS12       | 0.0008608167 |\n",
       "| KLHDC9 | KLHDC9       | 0.0009034395 |\n",
       "| DSTYK | DSTYK        | 0.0009082446 |\n",
       "| EMP3 | EMP3         | 0.0009218296 |\n",
       "| PHF21A | PHF21A       | 0.0010360617 |\n",
       "| BDNF | BDNF         | 0.0010458821 |\n",
       "| R3HDM1 | R3HDM1       | 0.0010562708 |\n",
       "| ZNHIT2 | ZNHIT2       | 0.0010759919 |\n",
       "| ATP6V1H | ATP6V1H      | 0.0010898687 |\n",
       "| PSMA5 | PSMA5        | 0.0011198238 |\n",
       "| BEX5 | BEX5         | 0.0011354346 |\n",
       "| POLDIP3 | POLDIP3      | 0.0012714847 |\n",
       "| FAU | FAU          | 0.0012911556 |\n",
       "| ZDHHC23 | ZDHHC23      | 0.0014530923 |\n",
       "| MTX2 | MTX2         | 0.0014650108 |\n",
       "| HUNK | HUNK         | 0.0015063076 |\n",
       "| LOC105370929 | LOC105370929 | 0.0015603982 |\n",
       "| ARL6IP1 | ARL6IP1      | 0.0015756190 |\n",
       "| ... | ... | ... |\n",
       "| ZNF831 | ZNF831       | 1 |\n",
       "| ZNF836 | ZNF836       | 1 |\n",
       "| ZNF843 | ZNF843       | 1 |\n",
       "| ZNF844 | ZNF844       | 1 |\n",
       "| ZNF85 | ZNF85        | 1 |\n",
       "| ZNF853 | ZNF853       | 1 |\n",
       "| ZNF862 | ZNF862       | 1 |\n",
       "| ZNF865 | ZNF865       | 1 |\n",
       "| ZNF879 | ZNF879       | 1 |\n",
       "| ZNF891 | ZNF891       | 1 |\n",
       "| ZNF90 | ZNF90        | 1 |\n",
       "| ZNF92 | ZNF92        | 1 |\n",
       "| ZNF93 | ZNF93        | 1 |\n",
       "| ZNRD1 | ZNRD1        | 1 |\n",
       "| ZNRF1 | ZNRF1        | 1 |\n",
       "| ZNRF3 | ZNRF3        | 1 |\n",
       "| ZP1 | ZP1          | 1 |\n",
       "| ZP2 | ZP2          | 1 |\n",
       "| ZP4 | ZP4          | 1 |\n",
       "| ZPBP | ZPBP         | 1 |\n",
       "| ZSCAN1 | ZSCAN1       | 1 |\n",
       "| ZSCAN10 | ZSCAN10      | 1 |\n",
       "| ZSCAN2 | ZSCAN2       | 1 |\n",
       "| ZSCAN29 | ZSCAN29      | 1 |\n",
       "| ZSCAN30 | ZSCAN30      | 1 |\n",
       "| ZSWIM1 | ZSWIM1       | 1 |\n",
       "| ZSWIM2 | ZSWIM2       | 1 |\n",
       "| ZSWIM3 | ZSWIM3       | 1 |\n",
       "| ZSWIM6 | ZSWIM6       | 1 |\n",
       "| LOC100652833 | LOC100652833 | 1 |\n",
       "\n"
      ],
      "text/plain": [
       "             Name         Score       \n",
       "ZNF264       ZNF264       0.0001816654\n",
       "AKAP13       AKAP13       0.0002152215\n",
       "SVOP         SVOP         0.0003633226\n",
       "UBE2QL1      UBE2QL1      0.0004304315\n",
       "RAB29        RAB29        0.0004347164\n",
       "AGK          AGK          0.0005351210\n",
       "NFKB1        NFKB1        0.0005449715\n",
       "CFAP61       CFAP61       0.0006456299\n",
       "CLN8         CLN8         0.0006852069\n",
       "SRGAP1       SRGAP1       0.0007266122\n",
       "PSMB4        PSMB4        0.0007521943\n",
       "FIBP         FIBP         0.0007628009\n",
       "INTS12       INTS12       0.0008608167\n",
       "KLHDC9       KLHDC9       0.0009034395\n",
       "DSTYK        DSTYK        0.0009082446\n",
       "EMP3         EMP3         0.0009218296\n",
       "PHF21A       PHF21A       0.0010360617\n",
       "BDNF         BDNF         0.0010458821\n",
       "R3HDM1       R3HDM1       0.0010562708\n",
       "ZNHIT2       ZNHIT2       0.0010759919\n",
       "ATP6V1H      ATP6V1H      0.0010898687\n",
       "PSMA5        PSMA5        0.0011198238\n",
       "BEX5         BEX5         0.0011354346\n",
       "POLDIP3      POLDIP3      0.0012714847\n",
       "FAU          FAU          0.0012911556\n",
       "ZDHHC23      ZDHHC23      0.0014530923\n",
       "MTX2         MTX2         0.0014650108\n",
       "HUNK         HUNK         0.0015063076\n",
       "LOC105370929 LOC105370929 0.0015603982\n",
       "ARL6IP1      ARL6IP1      0.0015756190\n",
       "...          ...          ...         \n",
       "ZNF831       ZNF831       1           \n",
       "ZNF836       ZNF836       1           \n",
       "ZNF843       ZNF843       1           \n",
       "ZNF844       ZNF844       1           \n",
       "ZNF85        ZNF85        1           \n",
       "ZNF853       ZNF853       1           \n",
       "ZNF862       ZNF862       1           \n",
       "ZNF865       ZNF865       1           \n",
       "ZNF879       ZNF879       1           \n",
       "ZNF891       ZNF891       1           \n",
       "ZNF90        ZNF90        1           \n",
       "ZNF92        ZNF92        1           \n",
       "ZNF93        ZNF93        1           \n",
       "ZNRD1        ZNRD1        1           \n",
       "ZNRF1        ZNRF1        1           \n",
       "ZNRF3        ZNRF3        1           \n",
       "ZP1          ZP1          1           \n",
       "ZP2          ZP2          1           \n",
       "ZP4          ZP4          1           \n",
       "ZPBP         ZPBP         1           \n",
       "ZSCAN1       ZSCAN1       1           \n",
       "ZSCAN10      ZSCAN10      1           \n",
       "ZSCAN2       ZSCAN2       1           \n",
       "ZSCAN29      ZSCAN29      1           \n",
       "ZSCAN30      ZSCAN30      1           \n",
       "ZSWIM1       ZSWIM1       1           \n",
       "ZSWIM2       ZSWIM2       1           \n",
       "ZSWIM3       ZSWIM3       1           \n",
       "ZSWIM6       ZSWIM6       1           \n",
       "LOC100652833 LOC100652833 1           "
      ]
     },
     "metadata": {},
     "output_type": "display_data"
    }
   ],
   "source": [
    "# call aggregateRanks method from RobustRankAggreg library\n",
    "agglist<-aggregateRanks(rmat=rankMatrix(genelist,full = TRUE),method = \"RRA\") \n",
    "dim(agglist)\n",
    "agglist"
   ]
  },
  {
   "cell_type": "code",
   "execution_count": 10,
   "metadata": {},
   "outputs": [
    {
     "data": {
      "text/html": [
       "<table class=\"dataframe\">\n",
       "<caption>A data.frame: 6 x 3</caption>\n",
       "<thead>\n",
       "\t<tr><th></th><th scope=col>rank</th><th scope=col>Name</th><th scope=col>Score</th></tr>\n",
       "\t<tr><th></th><th scope=col>&lt;int&gt;</th><th scope=col>&lt;chr&gt;</th><th scope=col>&lt;dbl&gt;</th></tr>\n",
       "</thead>\n",
       "<tbody>\n",
       "\t<tr><th scope=row>ZNF264</th><td>1</td><td>ZNF264 </td><td>0.0001816654</td></tr>\n",
       "\t<tr><th scope=row>AKAP13</th><td>2</td><td>AKAP13 </td><td>0.0002152215</td></tr>\n",
       "\t<tr><th scope=row>SVOP</th><td>3</td><td>SVOP   </td><td>0.0003633226</td></tr>\n",
       "\t<tr><th scope=row>UBE2QL1</th><td>4</td><td>UBE2QL1</td><td>0.0004304315</td></tr>\n",
       "\t<tr><th scope=row>RAB29</th><td>5</td><td>RAB29  </td><td>0.0004347164</td></tr>\n",
       "\t<tr><th scope=row>AGK</th><td>6</td><td>AGK    </td><td>0.0005351210</td></tr>\n",
       "</tbody>\n",
       "</table>\n"
      ],
      "text/latex": [
       "A data.frame: 6 x 3\n",
       "\\begin{tabular}{r|lll}\n",
       "  & rank & Name & Score\\\\\n",
       "  & <int> & <chr> & <dbl>\\\\\n",
       "\\hline\n",
       "\tZNF264 & 1 & ZNF264  & 0.0001816654\\\\\n",
       "\tAKAP13 & 2 & AKAP13  & 0.0002152215\\\\\n",
       "\tSVOP & 3 & SVOP    & 0.0003633226\\\\\n",
       "\tUBE2QL1 & 4 & UBE2QL1 & 0.0004304315\\\\\n",
       "\tRAB29 & 5 & RAB29   & 0.0004347164\\\\\n",
       "\tAGK & 6 & AGK     & 0.0005351210\\\\\n",
       "\\end{tabular}\n"
      ],
      "text/markdown": [
       "\n",
       "A data.frame: 6 x 3\n",
       "\n",
       "| <!--/--> | rank &lt;int&gt; | Name &lt;chr&gt; | Score &lt;dbl&gt; |\n",
       "|---|---|---|---|\n",
       "| ZNF264 | 1 | ZNF264  | 0.0001816654 |\n",
       "| AKAP13 | 2 | AKAP13  | 0.0002152215 |\n",
       "| SVOP | 3 | SVOP    | 0.0003633226 |\n",
       "| UBE2QL1 | 4 | UBE2QL1 | 0.0004304315 |\n",
       "| RAB29 | 5 | RAB29   | 0.0004347164 |\n",
       "| AGK | 6 | AGK     | 0.0005351210 |\n",
       "\n"
      ],
      "text/plain": [
       "        rank Name    Score       \n",
       "ZNF264  1    ZNF264  0.0001816654\n",
       "AKAP13  2    AKAP13  0.0002152215\n",
       "SVOP    3    SVOP    0.0003633226\n",
       "UBE2QL1 4    UBE2QL1 0.0004304315\n",
       "RAB29   5    RAB29   0.0004347164\n",
       "AGK     6    AGK     0.0005351210"
      ]
     },
     "metadata": {},
     "output_type": "display_data"
    }
   ],
   "source": [
    "# rank the final list using the Rank library from the R Basic package \n",
    "rank<-rank(agglist$Score,na.last = \"keep\", ties.method = \"min\")\n",
    "ranked<-cbind(rank,agglist)\n",
    "head(ranked)"
   ]
  },
  {
   "cell_type": "code",
   "execution_count": null,
   "metadata": {},
   "outputs": [],
   "source": [
    "# If you have rank to NA, you can set those to last non NA rank +1\n",
    "# get the last non NA index\n",
    "NonNAindex <- which(!is.na(ranked$rank))\n",
    "lastNonNA <- max(NonNAindex)\n",
    "lastNonNA\n",
    "# change all NA index to last non NA +1\n",
    "ranked$rank[is.na(ranked$rank)]<-lastNonNA+1"
   ]
  },
  {
   "cell_type": "code",
   "execution_count": 15,
   "metadata": {},
   "outputs": [],
   "source": [
    "dir.create(\"/mnt/data/IntegrativeAnalysis/output\", recursive = TRUE)"
   ]
  },
  {
   "cell_type": "code",
   "execution_count": 16,
   "metadata": {},
   "outputs": [],
   "source": [
    "write.table(ranked,\"/mnt/data/IntegrativeAnalysis/output/RRAresult\")"
   ]
  }
 ],
 "metadata": {
  "kernelspec": {
   "display_name": "R",
   "language": "R",
   "name": "ir"
  },
  "language_info": {
   "codemirror_mode": "r",
   "file_extension": ".r",
   "mimetype": "text/x-r-source",
   "name": "R",
   "pygments_lexer": "r",
   "version": "4.0.4"
  }
 },
 "nbformat": 4,
 "nbformat_minor": 4
}
