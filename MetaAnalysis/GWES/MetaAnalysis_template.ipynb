{
 "cells": [
  {
   "cell_type": "markdown",
   "metadata": {},
   "source": [
    "## Meta Analysis of expression data\n",
    "\n",
    "Meta-analysis aims at combining the results of the different datasets from the expression analysis, generating average effect sizes and p values for one gene across the different datasets. Genes will be ranked according to this global p value, using the Rank library from the R Basic package.\n",
    "\n",
    "The MetaDE R library (slightly modified) will be used to perform this analysis. The algorithm takes as input the p values, observed effect size (logFC values) and observed variance. More details below. [, which is computed from SE^2, where SE (Standard Error) is the difference of limma 95% CIs divided by 3.92. remove this?]\n"
   ]
  },
  {
   "cell_type": "code",
   "execution_count": 1,
   "metadata": {},
   "outputs": [
    {
     "name": "stderr",
     "output_type": "stream",
     "text": [
      "Warning message:\n",
      "\"replacing previous import 'limma::plotMA' by 'DESeq2::plotMA' when loading 'MetaDE'\"\n"
     ]
    }
   ],
   "source": [
    "# Import pipeline functions for meta analysis\n",
    "source(\"scripts/metaDE.R\")"
   ]
  },
  {
   "cell_type": "markdown",
   "metadata": {},
   "source": [
    "### 1. Prepare datasets for meta analysis"
   ]
  },
  {
   "cell_type": "markdown",
   "metadata": {},
   "source": [
    "Creates a dataframe cointaing estimators needed for metaDE. Estimators are Effect Size, Variance and P value. The input is the result of differential analysis (e.g. limma table) and it must have variance (or SE (Standard Error) or confidence intervals from which the variance can be calculated), ES (=logFC) and p value - or just p value if the meta analysis is to be done just combining p values.\n",
    "\n",
    "The Variance is calculated as SE^2, and SE is calculated as the difference of confidence intervals divided by 3.92.\n",
    "Variance and/or SE can come from other differential expression algorithms, just modify prepare_matrix_function as you need.\n",
    "\n",
    "- 1st parameter: path where the input dataset is located\n",
    "- 2nd parameter: filename of input dataset. The one containing limma/differential analysis results\n",
    "- 3rd parameter: type of dataframe to be prepared. \"onlyP\" if you want to consider only P values to do the meta analysis. By default it calculates all estimators."
   ]
  },
  {
   "cell_type": "code",
   "execution_count": 3,
   "metadata": {},
   "outputs": [],
   "source": [
    "file.gse15222 = \"limma_Case_Control_annot\"\n",
    "path.gse15222 = \"/mnt/data/GWES/Microarray/output/GSE15222\"\n",
    "data.gse15222<-prepare_matrix_function(path.gse15222,file.gse15222)"
   ]
  },
  {
   "cell_type": "code",
   "execution_count": 4,
   "metadata": {},
   "outputs": [
    {
     "data": {
      "text/html": [
       "<table class=\"dataframe\">\n",
       "<caption>A data.frame: 3 x 4</caption>\n",
       "<thead>\n",
       "\t<tr><th></th><th scope=col>ES</th><th scope=col>Var</th><th scope=col>P.Value</th><th scope=col>gene</th></tr>\n",
       "\t<tr><th></th><th scope=col>&lt;dbl&gt;</th><th scope=col>&lt;dbl&gt;</th><th scope=col>&lt;dbl&gt;</th><th scope=col>&lt;chr&gt;</th></tr>\n",
       "</thead>\n",
       "<tbody>\n",
       "\t<tr><th scope=row>ZNF264</th><td> 0.9020393</td><td>0.004864041</td><td>1.618642e-31</td><td>ZNF264</td></tr>\n",
       "\t<tr><th scope=row>NFKB1</th><td> 0.4974747</td><td>0.001849000</td><td>1.932669e-26</td><td>NFKB1 </td></tr>\n",
       "\t<tr><th scope=row>SVOP</th><td>-0.7692022</td><td>0.004666865</td><td>2.547848e-25</td><td>SVOP  </td></tr>\n",
       "</tbody>\n",
       "</table>\n"
      ],
      "text/latex": [
       "A data.frame: 3 x 4\n",
       "\\begin{tabular}{r|llll}\n",
       "  & ES & Var & P.Value & gene\\\\\n",
       "  & <dbl> & <dbl> & <dbl> & <chr>\\\\\n",
       "\\hline\n",
       "\tZNF264 &  0.9020393 & 0.004864041 & 1.618642e-31 & ZNF264\\\\\n",
       "\tNFKB1 &  0.4974747 & 0.001849000 & 1.932669e-26 & NFKB1 \\\\\n",
       "\tSVOP & -0.7692022 & 0.004666865 & 2.547848e-25 & SVOP  \\\\\n",
       "\\end{tabular}\n"
      ],
      "text/markdown": [
       "\n",
       "A data.frame: 3 x 4\n",
       "\n",
       "| <!--/--> | ES &lt;dbl&gt; | Var &lt;dbl&gt; | P.Value &lt;dbl&gt; | gene &lt;chr&gt; |\n",
       "|---|---|---|---|---|\n",
       "| ZNF264 |  0.9020393 | 0.004864041 | 1.618642e-31 | ZNF264 |\n",
       "| NFKB1 |  0.4974747 | 0.001849000 | 1.932669e-26 | NFKB1  |\n",
       "| SVOP | -0.7692022 | 0.004666865 | 2.547848e-25 | SVOP   |\n",
       "\n"
      ],
      "text/plain": [
       "       ES         Var         P.Value      gene  \n",
       "ZNF264  0.9020393 0.004864041 1.618642e-31 ZNF264\n",
       "NFKB1   0.4974747 0.001849000 1.932669e-26 NFKB1 \n",
       "SVOP   -0.7692022 0.004666865 2.547848e-25 SVOP  "
      ]
     },
     "metadata": {},
     "output_type": "display_data"
    }
   ],
   "source": [
    "head(data.gse15222,n=3)"
   ]
  },
  {
   "cell_type": "code",
   "execution_count": 5,
   "metadata": {},
   "outputs": [],
   "source": [
    "file.gse48350 = \"DE_hippocampus_casectrl_annot\" \n",
    "path.gse48350 = \"/mnt/data/GWES/Microarray/output/GSE48350/\"\n",
    "data.gse48350 <- prepare_matrix_function(path.gse48350,file.gse48350)"
   ]
  },
  {
   "cell_type": "raw",
   "metadata": {},
   "source": [
    "# if you have more than one dataset of the same platform, for example, different regions in which you have divided your study:\n",
    "files.gse48350 = c(\"EC_limma_Case_Control_annot\",\"PG_limma_Case_Control_annot\",\"SFG_limma_Case_Control_annot\")\n",
    "names <- c(\"EC\",\"PG\",\"SFG\" ) \n",
    "data.gse48350 <- mapply(prepare_matrix_function,path.gse48350,files.gse48350,SIMPLIFY = FALSE)\n",
    "names(data.gse48350) <- names"
   ]
  },
  {
   "cell_type": "code",
   "execution_count": 6,
   "metadata": {},
   "outputs": [
    {
     "data": {
      "text/html": [
       "<table class=\"dataframe\">\n",
       "<caption>A data.frame: 3 x 4</caption>\n",
       "<thead>\n",
       "\t<tr><th></th><th scope=col>ES</th><th scope=col>Var</th><th scope=col>P.Value</th><th scope=col>gene</th></tr>\n",
       "\t<tr><th></th><th scope=col>&lt;dbl&gt;</th><th scope=col>&lt;dbl&gt;</th><th scope=col>&lt;dbl&gt;</th><th scope=col>&lt;chr&gt;</th></tr>\n",
       "</thead>\n",
       "<tbody>\n",
       "\t<tr><th scope=row>OPA1</th><td>-0.6395910</td><td>0.01142902</td><td>8.460282e-08</td><td>OPA1  </td></tr>\n",
       "\t<tr><th scope=row>INPP5F</th><td>-0.8587221</td><td>0.02068575</td><td>8.871989e-08</td><td>INPP5F</td></tr>\n",
       "\t<tr><th scope=row>SYT13</th><td>-1.1375045</td><td>0.03908325</td><td>2.068461e-07</td><td>SYT13 </td></tr>\n",
       "</tbody>\n",
       "</table>\n"
      ],
      "text/latex": [
       "A data.frame: 3 x 4\n",
       "\\begin{tabular}{r|llll}\n",
       "  & ES & Var & P.Value & gene\\\\\n",
       "  & <dbl> & <dbl> & <dbl> & <chr>\\\\\n",
       "\\hline\n",
       "\tOPA1 & -0.6395910 & 0.01142902 & 8.460282e-08 & OPA1  \\\\\n",
       "\tINPP5F & -0.8587221 & 0.02068575 & 8.871989e-08 & INPP5F\\\\\n",
       "\tSYT13 & -1.1375045 & 0.03908325 & 2.068461e-07 & SYT13 \\\\\n",
       "\\end{tabular}\n"
      ],
      "text/markdown": [
       "\n",
       "A data.frame: 3 x 4\n",
       "\n",
       "| <!--/--> | ES &lt;dbl&gt; | Var &lt;dbl&gt; | P.Value &lt;dbl&gt; | gene &lt;chr&gt; |\n",
       "|---|---|---|---|---|\n",
       "| OPA1 | -0.6395910 | 0.01142902 | 8.460282e-08 | OPA1   |\n",
       "| INPP5F | -0.8587221 | 0.02068575 | 8.871989e-08 | INPP5F |\n",
       "| SYT13 | -1.1375045 | 0.03908325 | 2.068461e-07 | SYT13  |\n",
       "\n"
      ],
      "text/plain": [
       "       ES         Var        P.Value      gene  \n",
       "OPA1   -0.6395910 0.01142902 8.460282e-08 OPA1  \n",
       "INPP5F -0.8587221 0.02068575 8.871989e-08 INPP5F\n",
       "SYT13  -1.1375045 0.03908325 2.068461e-07 SYT13 "
      ]
     },
     "metadata": {},
     "output_type": "display_data"
    }
   ],
   "source": [
    "head(data.gse48350,n=3)\n",
    "# if the function is called with nore than one input file\n",
    "# str(data.gse48350)\n",
    "# head(data.gse48350[[1]])\n",
    "# head(data.gse48350$EC)"
   ]
  },
  {
   "cell_type": "markdown",
   "metadata": {},
   "source": [
    "* **Combine all prepared datasets**\n",
    "\n",
    "Use parameter all = FALSE if you only want common genes to appear in the final ranking."
   ]
  },
  {
   "cell_type": "code",
   "execution_count": 7,
   "metadata": {},
   "outputs": [
    {
     "data": {
      "text/html": [
       "<style>\n",
       ".list-inline {list-style: none; margin:0; padding: 0}\n",
       ".list-inline>li {display: inline-block}\n",
       ".list-inline>li:not(:last-child)::after {content: \"\\00b7\"; padding: 0 .5ex}\n",
       "</style>\n",
       "<ol class=list-inline><li>22018</li><li>7</li></ol>\n"
      ],
      "text/latex": [
       "\\begin{enumerate*}\n",
       "\\item 22018\n",
       "\\item 7\n",
       "\\end{enumerate*}\n"
      ],
      "text/markdown": [
       "1. 22018\n",
       "2. 7\n",
       "\n",
       "\n"
      ],
      "text/plain": [
       "[1] 22018     7"
      ]
     },
     "metadata": {},
     "output_type": "display_data"
    },
    {
     "data": {
      "text/html": [
       "<table class=\"dataframe\">\n",
       "<caption>A data.frame: 6 x 7</caption>\n",
       "<thead>\n",
       "\t<tr><th></th><th scope=col>gene</th><th scope=col>ES.x</th><th scope=col>Var.x</th><th scope=col>P.Value.x</th><th scope=col>ES.y</th><th scope=col>Var.y</th><th scope=col>P.Value.y</th></tr>\n",
       "\t<tr><th></th><th scope=col>&lt;chr&gt;</th><th scope=col>&lt;dbl&gt;</th><th scope=col>&lt;dbl&gt;</th><th scope=col>&lt;dbl&gt;</th><th scope=col>&lt;dbl&gt;</th><th scope=col>&lt;dbl&gt;</th><th scope=col>&lt;dbl&gt;</th></tr>\n",
       "</thead>\n",
       "<tbody>\n",
       "\t<tr><th scope=row>1</th><td>A1BG    </td><td>        NA</td><td>        NA</td><td>       NA</td><td>-0.01313243</td><td>0.003461993</td><td>0.820553511</td></tr>\n",
       "\t<tr><th scope=row>2</th><td>A1BG-AS1</td><td>        NA</td><td>        NA</td><td>       NA</td><td> 0.06210514</td><td>0.006111045</td><td>0.420610767</td></tr>\n",
       "\t<tr><th scope=row>3</th><td>A1CF    </td><td>        NA</td><td>        NA</td><td>       NA</td><td> 0.05883921</td><td>0.002338179</td><td>0.219069560</td></tr>\n",
       "\t<tr><th scope=row>4</th><td>A2M     </td><td>0.08804011</td><td>0.02103422</td><td>0.5427902</td><td> 0.25420002</td><td>0.021272891</td><td>0.080343603</td></tr>\n",
       "\t<tr><th scope=row>5</th><td>A2M-AS1 </td><td>        NA</td><td>        NA</td><td>       NA</td><td> 0.35336664</td><td>0.016523331</td><td>0.006771993</td></tr>\n",
       "\t<tr><th scope=row>6</th><td>A2ML1   </td><td>        NA</td><td>        NA</td><td>       NA</td><td> 0.17755806</td><td>0.003958125</td><td>0.005511303</td></tr>\n",
       "</tbody>\n",
       "</table>\n"
      ],
      "text/latex": [
       "A data.frame: 6 x 7\n",
       "\\begin{tabular}{r|lllllll}\n",
       "  & gene & ES.x & Var.x & P.Value.x & ES.y & Var.y & P.Value.y\\\\\n",
       "  & <chr> & <dbl> & <dbl> & <dbl> & <dbl> & <dbl> & <dbl>\\\\\n",
       "\\hline\n",
       "\t1 & A1BG     &         NA &         NA &        NA & -0.01313243 & 0.003461993 & 0.820553511\\\\\n",
       "\t2 & A1BG-AS1 &         NA &         NA &        NA &  0.06210514 & 0.006111045 & 0.420610767\\\\\n",
       "\t3 & A1CF     &         NA &         NA &        NA &  0.05883921 & 0.002338179 & 0.219069560\\\\\n",
       "\t4 & A2M      & 0.08804011 & 0.02103422 & 0.5427902 &  0.25420002 & 0.021272891 & 0.080343603\\\\\n",
       "\t5 & A2M-AS1  &         NA &         NA &        NA &  0.35336664 & 0.016523331 & 0.006771993\\\\\n",
       "\t6 & A2ML1    &         NA &         NA &        NA &  0.17755806 & 0.003958125 & 0.005511303\\\\\n",
       "\\end{tabular}\n"
      ],
      "text/markdown": [
       "\n",
       "A data.frame: 6 x 7\n",
       "\n",
       "| <!--/--> | gene &lt;chr&gt; | ES.x &lt;dbl&gt; | Var.x &lt;dbl&gt; | P.Value.x &lt;dbl&gt; | ES.y &lt;dbl&gt; | Var.y &lt;dbl&gt; | P.Value.y &lt;dbl&gt; |\n",
       "|---|---|---|---|---|---|---|---|\n",
       "| 1 | A1BG     |         NA |         NA |        NA | -0.01313243 | 0.003461993 | 0.820553511 |\n",
       "| 2 | A1BG-AS1 |         NA |         NA |        NA |  0.06210514 | 0.006111045 | 0.420610767 |\n",
       "| 3 | A1CF     |         NA |         NA |        NA |  0.05883921 | 0.002338179 | 0.219069560 |\n",
       "| 4 | A2M      | 0.08804011 | 0.02103422 | 0.5427902 |  0.25420002 | 0.021272891 | 0.080343603 |\n",
       "| 5 | A2M-AS1  |         NA |         NA |        NA |  0.35336664 | 0.016523331 | 0.006771993 |\n",
       "| 6 | A2ML1    |         NA |         NA |        NA |  0.17755806 | 0.003958125 | 0.005511303 |\n",
       "\n"
      ],
      "text/plain": [
       "  gene     ES.x       Var.x      P.Value.x ES.y        Var.y       P.Value.y  \n",
       "1 A1BG             NA         NA        NA -0.01313243 0.003461993 0.820553511\n",
       "2 A1BG-AS1         NA         NA        NA  0.06210514 0.006111045 0.420610767\n",
       "3 A1CF             NA         NA        NA  0.05883921 0.002338179 0.219069560\n",
       "4 A2M      0.08804011 0.02103422 0.5427902  0.25420002 0.021272891 0.080343603\n",
       "5 A2M-AS1          NA         NA        NA  0.35336664 0.016523331 0.006771993\n",
       "6 A2ML1            NA         NA        NA  0.17755806 0.003958125 0.005511303"
      ]
     },
     "metadata": {},
     "output_type": "display_data"
    }
   ],
   "source": [
    "# Reduce can be use to merge more than two dataframes\n",
    "allmatrix<-Reduce(function(x, y) merge(x, y, all=TRUE,by=\"gene\"), list(data.gse15222,data.gse48350))\n",
    "#allmatrix=merge(data.gse15222,data.gse48350,by=\"gene\", all = TRUE) # merge can be used for just two datasets\n",
    "dim(allmatrix)\n",
    "head(allmatrix)"
   ]
  },
  {
   "cell_type": "markdown",
   "metadata": {},
   "source": [
    "### 2. Perform meta analysis"
   ]
  },
  {
   "cell_type": "markdown",
   "metadata": {},
   "source": [
    "**meta_function** performs a meta analysis using the MetaDE.ES and MetaDE.pvalue algorithms from metaDE R library. This method is customised so that it gives also an estimator when the gene is not present in all datasets. More details in the script itself, scripts/MetaDE.ES_custom.R\n",
    " \n",
    "It ranks the resulting genes in ascending order of Fisher P value, assigning the same rank if p value is NA.\n",
    "\n",
    "- 1st parameter: single dataframe merging datasets obtained from prepare_matrix_function\n",
    "- 2nd parameter: optional - key name to add to logFC column in result table (e.g case-control)\n",
    "- 3rd parmeter: optional - path where to store the output file (default to current directory)\n",
    "- 4rd parameter: optional - output file name "
   ]
  },
  {
   "cell_type": "code",
   "execution_count": 11,
   "metadata": {},
   "outputs": [
    {
     "name": "stdout",
     "output_type": "stream",
     "text": [
      "         ES.x        ES.y\n",
      "A1BG       NA -0.01313243\n",
      "A1BG-AS1   NA  0.06210514\n",
      "A1CF       NA  0.05883921\n",
      "         Var.x       Var.y\n",
      "A1BG        NA 0.003461993\n",
      "A1BG-AS1    NA 0.006111045\n",
      "A1CF        NA 0.002338179\n",
      "\n",
      "\n",
      "* doing Meta DE\n",
      "         P.Value.x P.Value.y\n",
      "A1BG            NA 0.8205535\n",
      "A1BG-AS1        NA 0.4206108\n",
      "A1CF            NA 0.2190696\n",
      "\n",
      "\n",
      "* doing Meta P\n",
      "        rank logFC.case-ctl         Var      Qpvalue  REM.Pvalue    REM.FDR Fisher.Pvalue   Fisher.FDR n estimators\n",
      "ZNF264     1      0.3552904 0.299334526 1.502152e-26 0.516086802 0.67039523  1.427335e-31 1.172413e-27            2\n",
      "SVOP       2     -0.7902721 0.005249884 3.104079e-01 0.000000000 0.00000000  2.022028e-27 8.304468e-24            2\n",
      "NFKB1      3      0.3817504 0.016106871 9.565457e-03 0.002629964 0.01517535  8.712374e-27 2.263827e-23            2\n",
      "SRGAP1     4      0.6532914 0.054017894 1.850492e-04 0.004941036 0.02440919  1.102424e-26 2.263827e-23            2\n",
      "DSTYK      5      0.0477448 0.151225067 2.776195e-14 0.902284314 0.96070874  2.056165e-26 3.377867e-23            2\n",
      "ATP6V1H    6     -0.7845283 0.004810708 5.134318e-01 0.000000000 0.00000000  6.460666e-25 8.703545e-22            2\n",
      "\n",
      "\n",
      " * writing to  /mnt/data/MetaAnalysis/output"
     ]
    }
   ],
   "source": [
    "meta_function(allmatrix = allmatrix,keyname = \"case-ctl\", \"/mnt/data/MetaAnalysis/output\")"
   ]
  },
  {
   "cell_type": "markdown",
   "metadata": {},
   "source": [
    "Note: Fisher p-value is 0 when value is smaller than 10e-16."
   ]
  },
  {
   "cell_type": "markdown",
   "metadata": {},
   "source": [
    "**meta_P_function** performs a meta analysis using the MetaDE.pvalue algorithm from metaDE R library - with just P values. \n",
    "\n",
    "It ranks the resulting genes in ascending order of Fisher P value.\n",
    "- 1st parameter: single dataframe merging datasets obtained from prepare_matrix_function\n",
    "- 2nd parameter (keyname): optional, key name to add to logFC column in result table\n",
    "- 3rd parmeter (output.path): path where to store the output file (default to current directory)\n",
    "- 4rd parameter (output.file): optional - output file name "
   ]
  },
  {
   "cell_type": "code",
   "execution_count": 12,
   "metadata": {},
   "outputs": [
    {
     "name": "stdout",
     "output_type": "stream",
     "text": [
      "         P.Value.x   P.Value.y\n",
      "A1BG            NA 0.820553511\n",
      "A1BG-AS1        NA 0.420610767\n",
      "A1CF            NA 0.219069560\n",
      "A2M      0.5427902 0.080343603\n",
      "A2M-AS1         NA 0.006771993\n",
      "A2ML1           NA 0.005511303\n",
      "\n",
      "\n",
      "* doing Meta P\n",
      "        rank Fisher.Pvalue   Fisher.FDR\n",
      "ZNF264     1  1.427335e-31 1.172413e-27\n",
      "SVOP       2  2.022028e-27 8.304468e-24\n",
      "NFKB1      3  8.712374e-27 2.263827e-23\n",
      "SRGAP1     4  1.102424e-26 2.263827e-23\n",
      "DSTYK      5  2.056165e-26 3.377867e-23\n",
      "ATP6V1H    6  6.460666e-25 8.703545e-22\n",
      "\n",
      "\n",
      " * writing to  /mnt/data/MetaAnalysis/output"
     ]
    }
   ],
   "source": [
    "meta_P_function(allmatrix = allmatrix,output.path = \"/mnt/data/MetaAnalysis/output\",output.file = \"metaP_GSEresult_case_control\" )"
   ]
  }
 ],
 "metadata": {
  "kernelspec": {
   "display_name": "R",
   "language": "R",
   "name": "ir"
  },
  "language_info": {
   "codemirror_mode": "r",
   "file_extension": ".r",
   "mimetype": "text/x-r-source",
   "name": "R",
   "pygments_lexer": "r",
   "version": "4.0.4"
  },
  "toc": {
   "base_numbering": 1,
   "nav_menu": {},
   "number_sections": true,
   "sideBar": true,
   "skip_h1_title": false,
   "title_cell": "Table of Contents",
   "title_sidebar": "Contents",
   "toc_cell": false,
   "toc_position": {},
   "toc_section_display": true,
   "toc_window_display": false
  },
  "varInspector": {
   "cols": {
    "lenName": 16,
    "lenType": 16,
    "lenVar": 40
   },
   "kernels_config": {
    "python": {
     "delete_cmd_postfix": "",
     "delete_cmd_prefix": "del ",
     "library": "var_list.py",
     "varRefreshCmd": "print(var_dic_list())"
    },
    "r": {
     "delete_cmd_postfix": ") ",
     "delete_cmd_prefix": "rm(",
     "library": "var_list.r",
     "varRefreshCmd": "cat(var_dic_list()) "
    }
   },
   "types_to_exclude": [
    "module",
    "function",
    "builtin_function_or_method",
    "instance",
    "_Feature"
   ],
   "window_display": false
  }
 },
 "nbformat": 4,
 "nbformat_minor": 4
}
