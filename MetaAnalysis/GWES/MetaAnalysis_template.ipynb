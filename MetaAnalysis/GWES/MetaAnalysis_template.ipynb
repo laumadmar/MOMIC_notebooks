{
 "cells": [
  {
   "cell_type": "markdown",
   "metadata": {},
   "source": [
    "## Meta Analysis of expression data\n",
    "\n",
    "Meta-analysis aims at combining the results of the different datasets from the expression analysis, generating average effect sizes and p values for one gene across the different datasets. Genes will be ranked according to this global p value, using the Rank library from the R Basic package.\n",
    "\n",
    "The MetaDE R library (slightly modified) will be used to perform this analysis. The algorithm takes as input the p values, observed effect size (logFC values) and observed variance. More details below. [, which is computed from SE^2, where SE (Standard Error) is the difference of limma 95% CIs divided by 3.92. remove this?]\n"
   ]
  },
  {
   "cell_type": "code",
   "execution_count": 2,
   "metadata": {},
   "outputs": [],
   "source": [
    "# Import pipeline functions for meta analysis\n",
    "source(\"scripts/metaDE.R\")\n",
    "#source(\"/mnt/data/scripts/metaDE.R\")"
   ]
  },
  {
   "cell_type": "markdown",
   "metadata": {},
   "source": [
    "### 1. Prepare datasets for meta analysis"
   ]
  },
  {
   "cell_type": "markdown",
   "metadata": {},
   "source": [
    "Creates a dataframe cointaing estimators needed for metaDE. Estimators are Effect Size, Variance and P value. The input is the result of differential analysis (e.g. limma table) and it must have variance (or SE (Standard Error) or confidence intervals from which the variance can be calculated), ES (=logFC) and p value - or just p value if the meta analysis is to be done just combining p values.\n",
    "\n",
    "The Variance is calculated as SE^2, and SE is calculated as the difference of confidence intervals divided by 3.92.\n",
    "Variance and/or SE can come from other differential expression algorithms, just modify prepare_matrix_function as you need.\n",
    "\n",
    "- 1st parameter: path where the input dataset is located\n",
    "- 2nd parameter: filename of input dataset. The one containing limma/differential analysis results\n",
    "- 3rd parameter: type of dataframe to be prepared. \"onlyP\" if you want to consider only P values to do the meta analysis. By default it calculates all estimators."
   ]
  },
  {
   "cell_type": "code",
   "execution_count": 3,
   "metadata": {},
   "outputs": [],
   "source": [
    "file.gse15222 = \"limma_Case_Control_annot\"\n",
    "path.gse15222 = \"/home/guess/GeneExpression/results\"\n",
    "data.gse15222<-prepare_matrix_function(path.gse15222,file.gse15222)"
   ]
  },
  {
   "cell_type": "code",
   "execution_count": 4,
   "metadata": {},
   "outputs": [
    {
     "data": {
      "text/html": [
       "<table>\n",
       "<thead><tr><th></th><th scope=col>ES</th><th scope=col>Var</th><th scope=col>P.Value</th><th scope=col>gene</th></tr></thead>\n",
       "<tbody>\n",
       "\t<tr><th scope=row>ZNF264</th><td>0.9927010   </td><td>0.005860051 </td><td>1.289322e-31</td><td>ZNF264      </td></tr>\n",
       "\t<tr><th scope=row>NFKB1</th><td>0.5218817   </td><td>0.002048756 </td><td>2.816646e-26</td><td>NFKB1       </td></tr>\n",
       "\t<tr><th scope=row>DSTYK</th><td>0.4570696   </td><td>0.001626150 </td><td>1.433735e-25</td><td>DSTYK       </td></tr>\n",
       "</tbody>\n",
       "</table>\n"
      ],
      "text/latex": [
       "\\begin{tabular}{r|llll}\n",
       "  & ES & Var & P.Value & gene\\\\\n",
       "\\hline\n",
       "\tZNF264 & 0.9927010    & 0.005860051  & 1.289322e-31 & ZNF264      \\\\\n",
       "\tNFKB1 & 0.5218817    & 0.002048756  & 2.816646e-26 & NFKB1       \\\\\n",
       "\tDSTYK & 0.4570696    & 0.001626150  & 1.433735e-25 & DSTYK       \\\\\n",
       "\\end{tabular}\n"
      ],
      "text/markdown": [
       "\n",
       "| <!--/--> | ES | Var | P.Value | gene | \n",
       "|---|---|---|\n",
       "| ZNF264 | 0.9927010    | 0.005860051  | 1.289322e-31 | ZNF264       | \n",
       "| NFKB1 | 0.5218817    | 0.002048756  | 2.816646e-26 | NFKB1        | \n",
       "| DSTYK | 0.4570696    | 0.001626150  | 1.433735e-25 | DSTYK        | \n",
       "\n",
       "\n"
      ],
      "text/plain": [
       "       ES        Var         P.Value      gene  \n",
       "ZNF264 0.9927010 0.005860051 1.289322e-31 ZNF264\n",
       "NFKB1  0.5218817 0.002048756 2.816646e-26 NFKB1 \n",
       "DSTYK  0.4570696 0.001626150 1.433735e-25 DSTYK "
      ]
     },
     "metadata": {},
     "output_type": "display_data"
    }
   ],
   "source": [
    "head(data.gse15222,n=3)"
   ]
  },
  {
   "cell_type": "code",
   "execution_count": 5,
   "metadata": {},
   "outputs": [],
   "source": [
    "file.gse48350 = \"limma_Case_Control_annot\" \n",
    "path.gse48350 = \"/home/guess/GeneExpression/results/resultsGSE48350\"\n",
    "data.gse48350 <- prepare_matrix_function(path.gse48350,file.gse48350)\n",
    "# if you have more than one dataset of the same platform, for example, different regions in which you have divided your study:\n",
    "#files.gse48350 = c(\"EC_limma_Case_Control_annot\",\"PG_limma_Case_Control_annot\",\"SFG_limma_Case_Control_annot\")\n",
    "#names <- c(\"EC\",\"PG\",\"SFG\" ) \n",
    "#data.gse48350 <- mapply(prepare_matrix_function,path.gse48350,files.gse48350,SIMPLIFY = FALSE)\n",
    "#names(data.gse48350) <- names"
   ]
  },
  {
   "cell_type": "code",
   "execution_count": 6,
   "metadata": {},
   "outputs": [
    {
     "data": {
      "text/html": [
       "<table>\n",
       "<thead><tr><th></th><th scope=col>ES</th><th scope=col>Var</th><th scope=col>P.Value</th><th scope=col>gene</th></tr></thead>\n",
       "<tbody>\n",
       "\t<tr><th scope=row>C7orf50</th><td>-0.3445536  </td><td>0.003530735 </td><td>1.321551e-07</td><td>C7orf50     </td></tr>\n",
       "\t<tr><th scope=row>SAMSN1</th><td> 0.3674606  </td><td>0.004786039 </td><td>9.269699e-07</td><td>SAMSN1      </td></tr>\n",
       "\t<tr><th scope=row>CES2</th><td>-0.3593238  </td><td>0.004682026 </td><td>1.175101e-06</td><td>CES2        </td></tr>\n",
       "</tbody>\n",
       "</table>\n"
      ],
      "text/latex": [
       "\\begin{tabular}{r|llll}\n",
       "  & ES & Var & P.Value & gene\\\\\n",
       "\\hline\n",
       "\tC7orf50 & -0.3445536   & 0.003530735  & 1.321551e-07 & C7orf50     \\\\\n",
       "\tSAMSN1 &  0.3674606   & 0.004786039  & 9.269699e-07 & SAMSN1      \\\\\n",
       "\tCES2 & -0.3593238   & 0.004682026  & 1.175101e-06 & CES2        \\\\\n",
       "\\end{tabular}\n"
      ],
      "text/markdown": [
       "\n",
       "| <!--/--> | ES | Var | P.Value | gene | \n",
       "|---|---|---|\n",
       "| C7orf50 | -0.3445536   | 0.003530735  | 1.321551e-07 | C7orf50      | \n",
       "| SAMSN1 |  0.3674606   | 0.004786039  | 9.269699e-07 | SAMSN1       | \n",
       "| CES2 | -0.3593238   | 0.004682026  | 1.175101e-06 | CES2         | \n",
       "\n",
       "\n"
      ],
      "text/plain": [
       "        ES         Var         P.Value      gene   \n",
       "C7orf50 -0.3445536 0.003530735 1.321551e-07 C7orf50\n",
       "SAMSN1   0.3674606 0.004786039 9.269699e-07 SAMSN1 \n",
       "CES2    -0.3593238 0.004682026 1.175101e-06 CES2   "
      ]
     },
     "metadata": {},
     "output_type": "display_data"
    }
   ],
   "source": [
    "head(data.gse48350,n=3)\n",
    "# if the function is called with nore than one input file\n",
    "# str(data.gse48350)\n",
    "# head(data.gse48350[[1]])\n",
    "# head(data.gse48350$EC)"
   ]
  },
  {
   "cell_type": "markdown",
   "metadata": {},
   "source": [
    "* **Combine all prepared datasets**\n",
    "\n",
    "Use parameter all = FALSE if you only want common genes to appear in the final ranking."
   ]
  },
  {
   "cell_type": "code",
   "execution_count": 7,
   "metadata": {},
   "outputs": [
    {
     "data": {
      "text/html": [
       "<ol class=list-inline>\n",
       "\t<li>22322</li>\n",
       "\t<li>7</li>\n",
       "</ol>\n"
      ],
      "text/latex": [
       "\\begin{enumerate*}\n",
       "\\item 22322\n",
       "\\item 7\n",
       "\\end{enumerate*}\n"
      ],
      "text/markdown": [
       "1. 22322\n",
       "2. 7\n",
       "\n",
       "\n"
      ],
      "text/plain": [
       "[1] 22322     7"
      ]
     },
     "metadata": {},
     "output_type": "display_data"
    },
    {
     "data": {
      "text/html": [
       "<table>\n",
       "<thead><tr><th scope=col>gene</th><th scope=col>ES.x</th><th scope=col>Var.x</th><th scope=col>P.Value.x</th><th scope=col>ES.y</th><th scope=col>Var.y</th><th scope=col>P.Value.y</th></tr></thead>\n",
       "<tbody>\n",
       "\t<tr><td>A1BG       </td><td>-0.01019883</td><td>0.02079577 </td><td>0.9434428  </td><td> 0.02187616</td><td>0.004188154</td><td>0.73170992 </td></tr>\n",
       "\t<tr><td>A1BG-AS1   </td><td>         NA</td><td>        NA </td><td>       NA  </td><td>-0.03977880</td><td>0.004841772</td><td>0.56235627 </td></tr>\n",
       "\t<tr><td>A1CF       </td><td>         NA</td><td>        NA </td><td>       NA  </td><td>-0.04542535</td><td>0.001528735</td><td>0.24089503 </td></tr>\n",
       "\t<tr><td>A2M        </td><td> 0.21301048</td><td>0.02375735 </td><td>0.1663719  </td><td> 0.10833444</td><td>0.003603714</td><td>0.07052116 </td></tr>\n",
       "\t<tr><td>A2M-AS1    </td><td>         NA</td><td>        NA </td><td>       NA  </td><td> 0.04240487</td><td>0.014496622</td><td>0.72094139 </td></tr>\n",
       "\t<tr><td>A2ML1      </td><td>         NA</td><td>        NA </td><td>       NA  </td><td> 0.08216298</td><td>0.004408500</td><td>0.21193764 </td></tr>\n",
       "</tbody>\n",
       "</table>\n"
      ],
      "text/latex": [
       "\\begin{tabular}{r|lllllll}\n",
       " gene & ES.x & Var.x & P.Value.x & ES.y & Var.y & P.Value.y\\\\\n",
       "\\hline\n",
       "\t A1BG        & -0.01019883 & 0.02079577  & 0.9434428   &  0.02187616 & 0.004188154 & 0.73170992 \\\\\n",
       "\t A1BG-AS1    &          NA &         NA  &        NA   & -0.03977880 & 0.004841772 & 0.56235627 \\\\\n",
       "\t A1CF        &          NA &         NA  &        NA   & -0.04542535 & 0.001528735 & 0.24089503 \\\\\n",
       "\t A2M         &  0.21301048 & 0.02375735  & 0.1663719   &  0.10833444 & 0.003603714 & 0.07052116 \\\\\n",
       "\t A2M-AS1     &          NA &         NA  &        NA   &  0.04240487 & 0.014496622 & 0.72094139 \\\\\n",
       "\t A2ML1       &          NA &         NA  &        NA   &  0.08216298 & 0.004408500 & 0.21193764 \\\\\n",
       "\\end{tabular}\n"
      ],
      "text/markdown": [
       "\n",
       "gene | ES.x | Var.x | P.Value.x | ES.y | Var.y | P.Value.y | \n",
       "|---|---|---|---|---|---|\n",
       "| A1BG        | -0.01019883 | 0.02079577  | 0.9434428   |  0.02187616 | 0.004188154 | 0.73170992  | \n",
       "| A1BG-AS1    |          NA |         NA  |        NA   | -0.03977880 | 0.004841772 | 0.56235627  | \n",
       "| A1CF        |          NA |         NA  |        NA   | -0.04542535 | 0.001528735 | 0.24089503  | \n",
       "| A2M         |  0.21301048 | 0.02375735  | 0.1663719   |  0.10833444 | 0.003603714 | 0.07052116  | \n",
       "| A2M-AS1     |          NA |         NA  |        NA   |  0.04240487 | 0.014496622 | 0.72094139  | \n",
       "| A2ML1       |          NA |         NA  |        NA   |  0.08216298 | 0.004408500 | 0.21193764  | \n",
       "\n",
       "\n"
      ],
      "text/plain": [
       "  gene     ES.x        Var.x      P.Value.x ES.y        Var.y       P.Value.y \n",
       "1 A1BG     -0.01019883 0.02079577 0.9434428  0.02187616 0.004188154 0.73170992\n",
       "2 A1BG-AS1          NA         NA        NA -0.03977880 0.004841772 0.56235627\n",
       "3 A1CF              NA         NA        NA -0.04542535 0.001528735 0.24089503\n",
       "4 A2M       0.21301048 0.02375735 0.1663719  0.10833444 0.003603714 0.07052116\n",
       "5 A2M-AS1           NA         NA        NA  0.04240487 0.014496622 0.72094139\n",
       "6 A2ML1             NA         NA        NA  0.08216298 0.004408500 0.21193764"
      ]
     },
     "metadata": {},
     "output_type": "display_data"
    }
   ],
   "source": [
    "# Reduce can be use to merge more than two dataframes\n",
    "allmatrix<-Reduce(function(x, y) merge(x, y, all=TRUE,by=\"gene\"), list(data.gse15222,data.gse48350))\n",
    "#allmatrix=merge(data.gse15222,data.gse48350,by=\"gene\", all = TRUE) # merge can be used for just two datasets\n",
    "dim(allmatrix)\n",
    "head(allmatrix)"
   ]
  },
  {
   "cell_type": "markdown",
   "metadata": {},
   "source": [
    "### 2. Perform meta analysis"
   ]
  },
  {
   "cell_type": "markdown",
   "metadata": {},
   "source": [
    "Performs a meta analysis using the MetaDE.ES and MetaDE.pvalue algorithms from metaDE R library. This method is customised so that it gives also an estimator when the gene is not present in all datasets. More details in /mnt/data/scripts/MetaDE.ES_custom.R\n",
    " \n",
    "It ranks the resulting genes in ascending order of Fisher P value, assigning the same rank if p value is NA.\n",
    "\n",
    "- 1st parameter: single dataframe merging datasets obtained from prepare_matrix_function\n",
    "- 2nd parameter: optional - key name to add to logFC column in result table (e.g case-control)\n",
    "- 3rd parmeter: optional - path where to store the output file (default to current directory)\n",
    "- 4rd parameter: optional - output file name "
   ]
  },
  {
   "cell_type": "code",
   "execution_count": 8,
   "metadata": {},
   "outputs": [
    {
     "name": "stdout",
     "output_type": "stream",
     "text": [
      "\n",
      "\n",
      "* doing Meta DE\n",
      "         P.Value.x  P.Value.y\n",
      "A1BG     0.9434428 0.73170992\n",
      "A1BG-AS1        NA 0.56235627\n",
      "A1CF            NA 0.24089503\n",
      "A2M      0.1663719 0.07052116\n",
      "A2M-AS1         NA 0.72094139\n",
      "A2ML1           NA 0.21193764\n",
      "\n",
      "\n",
      "* doing Meta P\n",
      "                rank logFC.case-ctl         Var      Qpvalue   REM.Pvalue     REM.FDR Fisher.Pvalue Fisher.FDR\n",
      "ANKHD1-EIF4EBP3    1      0.2311820 0.141041153 5.669907e-12 0.5381749200 0.771611904             0          0\n",
      "ARHGEF9            1     -0.3601272 0.013220883 7.571364e-02 0.0017360325 0.020733932             0          0\n",
      "ATP6V1H            1     -0.4756527 0.116138755 6.065009e-05 0.1627958090 0.440102707             0          0\n",
      "ATPIF1             1     -0.3568552 0.026713434 6.088740e-04 0.0290086240 0.159985593             0          0\n",
      "BRE                1     -0.3331802 0.009351711 1.211878e-02 0.0005703166 0.008601761             0          0\n",
      "C14orf2            1     -0.2799842 0.050154476 1.533024e-08 0.2112273540 0.503021119             0          0\n",
      "                n estimators\n",
      "ANKHD1-EIF4EBP3            2\n",
      "ARHGEF9                    2\n",
      "ATP6V1H                    2\n",
      "ATPIF1                     2\n",
      "BRE                        2\n",
      "C14orf2                    2\n",
      "\n",
      "\n",
      " * writing to  /home/guess/MetaAnalysis/GeneExprMeta"
     ]
    }
   ],
   "source": [
    "meta_function(allmatrix = allmatrix,keyname = \"case-ctl\")"
   ]
  },
  {
   "cell_type": "markdown",
   "metadata": {},
   "source": [
    "Note: Fisher p-value is 0 when value is smaller than 10e-16."
   ]
  },
  {
   "cell_type": "code",
   "execution_count": 9,
   "metadata": {},
   "outputs": [
    {
     "name": "stdout",
     "output_type": "stream",
     "text": [
      "         P.Value.x  P.Value.y\n",
      "A1BG     0.9434428 0.73170992\n",
      "A1BG-AS1        NA 0.56235627\n",
      "A1CF            NA 0.24089503\n",
      "A2M      0.1663719 0.07052116\n",
      "A2M-AS1         NA 0.72094139\n",
      "A2ML1           NA 0.21193764\n",
      "\n",
      "\n",
      "* doing Meta P\n",
      "                rank Fisher.Pvalue Fisher.FDR\n",
      "ANKHD1-EIF4EBP3    1             0          0\n",
      "ARHGEF9            1             0          0\n",
      "ATP6V1H            1             0          0\n",
      "ATPIF1             1             0          0\n",
      "BRE                1             0          0\n",
      "C14orf2            1             0          0\n",
      "\n",
      "\n",
      " * writing to  /home/guess/MetaAnalysis/GeneExprMeta"
     ]
    }
   ],
   "source": [
    "# Performs a meta analysis using the MetaDE.pvalue algorithm from metaDE R library- with just P values.\n",
    "meta_P_function(allmatrix = allmatrix,output.file = \"metaP_GSEresult_case_control\" )"
   ]
  },
  {
   "cell_type": "markdown",
   "metadata": {},
   "source": [
    "Individual logFCs were combined using the Random Effect Model (REM). Given that the analysis included data from different brain regions, genes were ranked according to the Fisher statistics to avoid making assumptions about the directionality of the effect, aimed at identifying candidate markers differentially expressed in the “majority” of studies, where Fisher methods has been described to outperform other methods in terms of power detection, biological association, stability and robustness (Chang et al. 2013). Incluir? En principio no. (Es del paper de ADAPTED)"
   ]
  }
 ],
 "metadata": {
  "kernelspec": {
   "display_name": "R",
   "language": "R",
   "name": "ir"
  },
  "language_info": {
   "codemirror_mode": "r",
   "file_extension": ".r",
   "mimetype": "text/x-r-source",
   "name": "R",
   "pygments_lexer": "r",
   "version": "4.0.3"
  },
  "toc": {
   "base_numbering": 1,
   "nav_menu": {},
   "number_sections": true,
   "sideBar": true,
   "skip_h1_title": false,
   "title_cell": "Table of Contents",
   "title_sidebar": "Contents",
   "toc_cell": false,
   "toc_position": {},
   "toc_section_display": true,
   "toc_window_display": false
  },
  "varInspector": {
   "cols": {
    "lenName": 16,
    "lenType": 16,
    "lenVar": 40
   },
   "kernels_config": {
    "python": {
     "delete_cmd_postfix": "",
     "delete_cmd_prefix": "del ",
     "library": "var_list.py",
     "varRefreshCmd": "print(var_dic_list())"
    },
    "r": {
     "delete_cmd_postfix": ") ",
     "delete_cmd_prefix": "rm(",
     "library": "var_list.r",
     "varRefreshCmd": "cat(var_dic_list()) "
    }
   },
   "types_to_exclude": [
    "module",
    "function",
    "builtin_function_or_method",
    "instance",
    "_Feature"
   ],
   "window_display": false
  }
 },
 "nbformat": 4,
 "nbformat_minor": 4
}
