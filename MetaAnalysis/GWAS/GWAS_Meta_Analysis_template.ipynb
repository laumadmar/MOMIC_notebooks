{
 "cells": [
  {
   "cell_type": "markdown",
   "metadata": {},
   "source": [
    "# Meta Analysis of GWAS data\n",
    "\n",
    "Different GWAS results can be combined by means of the standard error based weights meta-analysis method implemented in METAL, corrected by study-specific inflation factors. A Cochran’s Q test for heterogeneity and I2 estimates is generated to evaluate the potential effect of study heterogeneity on the results.\n",
    "\n",
    "Note this template is not run as only one GWAS dataset is available.\n",
    "\n",
    "https://genome.sph.umich.edu/wiki/METAL_Documentation"
   ]
  },
  {
   "cell_type": "code",
   "execution_count": 1,
   "metadata": {
    "ExecuteTime": {
     "end_time": "2018-02-01T08:39:58.851761Z",
     "start_time": "2018-02-01T08:39:57.886702Z"
    }
   },
   "outputs": [],
   "source": [
    "%load_ext rpy2.ipython"
   ]
  },
  {
   "cell_type": "markdown",
   "metadata": {},
   "source": [
    "**Input File Columns**\n",
    "\n",
    "Each input file should include the following information:\n",
    "\n",
    "- A column with marker name, which should be consistent across studies\n",
    "- A column indicating the tested allele\n",
    "- A column indicating the other allele\n",
    "\n",
    "\n",
    "If you are carrying out a sample size weighted analysis (based on p-values), you will also need:\n",
    "\n",
    "- A column indicating the direction of effect for the tested allele\n",
    "- A column indicating the corresponding p-value\n",
    "- An optional column indicating the sample size (if the sample size varies by marker)\n",
    "\n",
    "\n",
    "If you are carrying out a meta-analysis based on standard errors, you will need:\n",
    "\n",
    "-A column indicating the estimated effect size for each marker\n",
    "- A column indicating the standard error of this effect size estimate\n",
    "\n",
    "The header for each of these columns must be specified so that METAL knows how to interpret the data. Additional columns including allele frequency information, strand information, and others can also be present."
   ]
  },
  {
   "cell_type": "markdown",
   "metadata": {
    "ExecuteTime": {
     "end_time": "2021-01-12T10:33:19.150333Z",
     "start_time": "2021-01-12T10:33:19.141981Z"
    }
   },
   "source": [
    "**Selecting an Analysis Scheme**\n",
    "\n",
    "     1) SCHEME SAMPLESIZE        - default approach, uses p-value and direction of effect, weighted according to sample size\n",
    "     \n",
    "     The weight for each MARKER can be stored in a column in the table (specified with the WEIGHTLABEL or WEIGHT commands). Most commonly, the weight will be the number of individuals contributing to that particular p-value.\n",
    "     \n",
    "     WEIGHTLABEL     N\n",
    "     \n",
    "     Alternatively, the same weight can be used for all markers for that inputfile (in which case the fixed weight can be set  with the DEFAULTWEIGHT command). The WEIGHTLABEL command takes precedence over the DEFAULTWEIGHT command, so the WEIGHT column label in use must not match any columns in the inputfile.\n",
    "     \n",
    "     WEIGHTLABEL     DONTUSECOLUMN\n",
    "     DEFAULTWEIGHT   1000\n",
    "    \n",
    "    \n",
    "    2) SCHEME STDERR            - classical approach, uses effect size estimates and standard errors\n",
    "\n",
    "     For this approach, you need to specify the label for the standard error column:\n",
    "\n",
    "     STDERR SE                "
   ]
  },
  {
   "cell_type": "markdown",
   "metadata": {},
   "source": [
    "## SCHEME SAMPLESIZE "
   ]
  },
  {
   "cell_type": "code",
   "execution_count": null,
   "metadata": {},
   "outputs": [],
   "source": [
    "%%bash\n",
    "metal\n",
    "\n",
    "MARKER SNP\n",
    "ALLELE A2 A1\n",
    "FREQ FRQ\n",
    "EFFECT OR\n",
    "PVAL P\n",
    "SEPARATOR TAB\n",
    "MINMAXFREQ ON\n",
    "GENOMICCONTROL ON\n",
    "SCHEME STDERR\n",
    "STDERR SE\n",
    "\n",
    "\n",
    "PROCESS dataset1\n",
    "PROCESS dataset2\n",
    "\n",
    "\n",
    "ANALYZE HETEROGENEITY"
   ]
  },
  {
   "cell_type": "markdown",
   "metadata": {},
   "source": [
    "## SCHEME STDERR"
   ]
  },
  {
   "cell_type": "code",
   "execution_count": 9,
   "metadata": {
    "collapsed": true,
    "jupyter": {
     "outputs_hidden": true
    }
   },
   "outputs": [],
   "source": [
    "%%bash\n",
    "metal\n",
    "\n",
    "MARKER SNP\n",
    "ALLELE A2 A1\n",
    "FREQ FRQ\n",
    "EFFECT OR\n",
    "PVAL P\n",
    "SEPARATOR TAB\n",
    "MINMAXFREQ ON\n",
    "GENOMICCONTROL ON\n",
    "SCHEME SAMPLESIZE\n",
    "DEFAULTWEIGHT   1000\n",
    "\n",
    "\n",
    "PROCESS dataset1\n",
    "PROCESS dataset2\n",
    "\n",
    "\n",
    "ANALYZE HETEROGENEITY"
   ]
  }
 ],
 "metadata": {
  "hide_input": false,
  "kernelspec": {
   "display_name": "Python 3",
   "language": "python",
   "name": "python3"
  },
  "language_info": {
   "codemirror_mode": {
    "name": "ipython",
    "version": 3
   },
   "file_extension": ".py",
   "mimetype": "text/x-python",
   "name": "python",
   "nbconvert_exporter": "python",
   "pygments_lexer": "ipython3",
   "version": "3.6.9"
  },
  "toc": {
   "base_numbering": 1,
   "nav_menu": {},
   "number_sections": true,
   "sideBar": true,
   "skip_h1_title": false,
   "title_cell": "Table of Contents",
   "title_sidebar": "Contents",
   "toc_cell": false,
   "toc_position": {},
   "toc_section_display": "block",
   "toc_window_display": false
  }
 },
 "nbformat": 4,
 "nbformat_minor": 4
}
