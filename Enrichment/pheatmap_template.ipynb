{
 "cells": [
  {
   "cell_type": "markdown",
   "metadata": {},
   "source": [
    "# Pheatmap representing combined results from meta GWES, meta GWAS, integrative analysis and enrichment of GWES Microarray.\n",
    "\n",
    "Here we visualise the pathways representing the top differentially expressed genes after the GWES meta analysis. Enriching the plot with the pvalues obtained for those genes in the GWAS Meta Analysis and Integrative Analysis of these two."
   ]
  },
  {
   "cell_type": "markdown",
   "metadata": {},
   "source": [
    "## Read datasets"
   ]
  },
  {
   "cell_type": "code",
   "execution_count": 1,
   "metadata": {},
   "outputs": [
    {
     "data": {
      "text/html": [
       "<style>\n",
       ".list-inline {list-style: none; margin:0; padding: 0}\n",
       ".list-inline>li {display: inline-block}\n",
       ".list-inline>li:not(:last-child)::after {content: \"\\00b7\"; padding: 0 .5ex}\n",
       "</style>\n",
       "<ol class=list-inline><li>18585</li><li>14</li></ol>\n"
      ],
      "text/latex": [
       "\\begin{enumerate*}\n",
       "\\item 18585\n",
       "\\item 14\n",
       "\\end{enumerate*}\n"
      ],
      "text/markdown": [
       "1. 18585\n",
       "2. 14\n",
       "\n",
       "\n"
      ],
      "text/plain": [
       "[1] 18585    14"
      ]
     },
     "metadata": {},
     "output_type": "display_data"
    },
    {
     "data": {
      "text/html": [
       "<table class=\"dataframe\">\n",
       "<caption>A data.frame: 3 x 14</caption>\n",
       "<thead>\n",
       "\t<tr><th></th><th scope=col>magma_rank</th><th scope=col>GENE</th><th scope=col>CHR</th><th scope=col>START</th><th scope=col>STOP</th><th scope=col>NSNPS</th><th scope=col>NPARAM</th><th scope=col>N</th><th scope=col>ZSTAT</th><th scope=col>P_JOINT</th><th scope=col>P_SNPWISE_MEAN</th><th scope=col>P_SNPWISE_TOP1</th><th scope=col>STRAND</th><th scope=col>HUGO</th></tr>\n",
       "\t<tr><th></th><th scope=col>&lt;int&gt;</th><th scope=col>&lt;int&gt;</th><th scope=col>&lt;int&gt;</th><th scope=col>&lt;int&gt;</th><th scope=col>&lt;int&gt;</th><th scope=col>&lt;int&gt;</th><th scope=col>&lt;int&gt;</th><th scope=col>&lt;int&gt;</th><th scope=col>&lt;dbl&gt;</th><th scope=col>&lt;dbl&gt;</th><th scope=col>&lt;dbl&gt;</th><th scope=col>&lt;dbl&gt;</th><th scope=col>&lt;chr&gt;</th><th scope=col>&lt;chr&gt;</th></tr>\n",
       "</thead>\n",
       "<tbody>\n",
       "\t<tr><th scope=row>1</th><td>1</td><td> 11214</td><td>15</td><td>85330616</td><td>85799358</td><td>20</td><td>13</td><td>495</td><td>3.8130</td><td>6.8633e-05</td><td>1.8683e-05</td><td>0.0013226</td><td>+</td><td>AKAP13 </td></tr>\n",
       "\t<tr><th scope=row>2</th><td>2</td><td>134111</td><td> 5</td><td> 6387347</td><td> 6546721</td><td>17</td><td>14</td><td>495</td><td>3.7768</td><td>7.9438e-05</td><td>5.6238e-05</td><td>0.0018005</td><td>+</td><td>UBE2QL1</td></tr>\n",
       "\t<tr><th scope=row>3</th><td>3</td><td> 26074</td><td>20</td><td>20002514</td><td>20410714</td><td>25</td><td>19</td><td>495</td><td>3.6031</td><td>1.5722e-04</td><td>7.9538e-05</td><td>0.0047978</td><td>+</td><td>CFAP61 </td></tr>\n",
       "</tbody>\n",
       "</table>\n"
      ],
      "text/latex": [
       "A data.frame: 3 x 14\n",
       "\\begin{tabular}{r|llllllllllllll}\n",
       "  & magma\\_rank & GENE & CHR & START & STOP & NSNPS & NPARAM & N & ZSTAT & P\\_JOINT & P\\_SNPWISE\\_MEAN & P\\_SNPWISE\\_TOP1 & STRAND & HUGO\\\\\n",
       "  & <int> & <int> & <int> & <int> & <int> & <int> & <int> & <int> & <dbl> & <dbl> & <dbl> & <dbl> & <chr> & <chr>\\\\\n",
       "\\hline\n",
       "\t1 & 1 &  11214 & 15 & 85330616 & 85799358 & 20 & 13 & 495 & 3.8130 & 6.8633e-05 & 1.8683e-05 & 0.0013226 & + & AKAP13 \\\\\n",
       "\t2 & 2 & 134111 &  5 &  6387347 &  6546721 & 17 & 14 & 495 & 3.7768 & 7.9438e-05 & 5.6238e-05 & 0.0018005 & + & UBE2QL1\\\\\n",
       "\t3 & 3 &  26074 & 20 & 20002514 & 20410714 & 25 & 19 & 495 & 3.6031 & 1.5722e-04 & 7.9538e-05 & 0.0047978 & + & CFAP61 \\\\\n",
       "\\end{tabular}\n"
      ],
      "text/markdown": [
       "\n",
       "A data.frame: 3 x 14\n",
       "\n",
       "| <!--/--> | magma_rank &lt;int&gt; | GENE &lt;int&gt; | CHR &lt;int&gt; | START &lt;int&gt; | STOP &lt;int&gt; | NSNPS &lt;int&gt; | NPARAM &lt;int&gt; | N &lt;int&gt; | ZSTAT &lt;dbl&gt; | P_JOINT &lt;dbl&gt; | P_SNPWISE_MEAN &lt;dbl&gt; | P_SNPWISE_TOP1 &lt;dbl&gt; | STRAND &lt;chr&gt; | HUGO &lt;chr&gt; |\n",
       "|---|---|---|---|---|---|---|---|---|---|---|---|---|---|---|\n",
       "| 1 | 1 |  11214 | 15 | 85330616 | 85799358 | 20 | 13 | 495 | 3.8130 | 6.8633e-05 | 1.8683e-05 | 0.0013226 | + | AKAP13  |\n",
       "| 2 | 2 | 134111 |  5 |  6387347 |  6546721 | 17 | 14 | 495 | 3.7768 | 7.9438e-05 | 5.6238e-05 | 0.0018005 | + | UBE2QL1 |\n",
       "| 3 | 3 |  26074 | 20 | 20002514 | 20410714 | 25 | 19 | 495 | 3.6031 | 1.5722e-04 | 7.9538e-05 | 0.0047978 | + | CFAP61  |\n",
       "\n"
      ],
      "text/plain": [
       "  magma_rank GENE   CHR START    STOP     NSNPS NPARAM N   ZSTAT  P_JOINT   \n",
       "1 1           11214 15  85330616 85799358 20    13     495 3.8130 6.8633e-05\n",
       "2 2          134111  5   6387347  6546721 17    14     495 3.7768 7.9438e-05\n",
       "3 3           26074 20  20002514 20410714 25    19     495 3.6031 1.5722e-04\n",
       "  P_SNPWISE_MEAN P_SNPWISE_TOP1 STRAND HUGO   \n",
       "1 1.8683e-05     0.0013226      +      AKAP13 \n",
       "2 5.6238e-05     0.0018005      +      UBE2QL1\n",
       "3 7.9538e-05     0.0047978      +      CFAP61 "
      ]
     },
     "metadata": {},
     "output_type": "display_data"
    }
   ],
   "source": [
    "# GWAS \n",
    "gwas_result <- read.table(\"/mnt/data/GWAS/output/build38/task6_genewise/dataset.b38.imputed.dosage.maf.0.01.LOC.50kb.genes.annot.magma.genes.out.sorted.annot\",header=TRUE)\n",
    "dim(gwas_result)\n",
    "head(gwas_result,n=3L)"
   ]
  },
  {
   "cell_type": "code",
   "execution_count": 2,
   "metadata": {
    "ExecuteTime": {
     "end_time": "2019-01-04T10:12:15.705906Z",
     "start_time": "2019-01-04T10:12:15.541Z"
    }
   },
   "outputs": [
    {
     "data": {
      "text/html": [
       "<style>\n",
       ".list-inline {list-style: none; margin:0; padding: 0}\n",
       ".list-inline>li {display: inline-block}\n",
       ".list-inline>li:not(:last-child)::after {content: \"\\00b7\"; padding: 0 .5ex}\n",
       "</style>\n",
       "<ol class=list-inline><li>'magma_rank'</li><li>'GENEID'</li><li>'CHR'</li><li>'START'</li><li>'STOP'</li><li>'NSNPS'</li><li>'NPARAM'</li><li>'N'</li><li>'ZSTAT'</li><li>'P_JOINT'</li><li>'P_SNPWISE_MEAN'</li><li>'P_SNPWISE_TOP1'</li><li>'STRAND'</li><li>'genesymbol'</li></ol>\n"
      ],
      "text/latex": [
       "\\begin{enumerate*}\n",
       "\\item 'magma\\_rank'\n",
       "\\item 'GENEID'\n",
       "\\item 'CHR'\n",
       "\\item 'START'\n",
       "\\item 'STOP'\n",
       "\\item 'NSNPS'\n",
       "\\item 'NPARAM'\n",
       "\\item 'N'\n",
       "\\item 'ZSTAT'\n",
       "\\item 'P\\_JOINT'\n",
       "\\item 'P\\_SNPWISE\\_MEAN'\n",
       "\\item 'P\\_SNPWISE\\_TOP1'\n",
       "\\item 'STRAND'\n",
       "\\item 'genesymbol'\n",
       "\\end{enumerate*}\n"
      ],
      "text/markdown": [
       "1. 'magma_rank'\n",
       "2. 'GENEID'\n",
       "3. 'CHR'\n",
       "4. 'START'\n",
       "5. 'STOP'\n",
       "6. 'NSNPS'\n",
       "7. 'NPARAM'\n",
       "8. 'N'\n",
       "9. 'ZSTAT'\n",
       "10. 'P_JOINT'\n",
       "11. 'P_SNPWISE_MEAN'\n",
       "12. 'P_SNPWISE_TOP1'\n",
       "13. 'STRAND'\n",
       "14. 'genesymbol'\n",
       "\n",
       "\n"
      ],
      "text/plain": [
       " [1] \"magma_rank\"     \"GENEID\"         \"CHR\"            \"START\"         \n",
       " [5] \"STOP\"           \"NSNPS\"          \"NPARAM\"         \"N\"             \n",
       " [9] \"ZSTAT\"          \"P_JOINT\"        \"P_SNPWISE_MEAN\" \"P_SNPWISE_TOP1\"\n",
       "[13] \"STRAND\"         \"genesymbol\"    "
      ]
     },
     "metadata": {},
     "output_type": "display_data"
    }
   ],
   "source": [
    "names(gwas_result)[2]=\"GENEID\"\n",
    "names(gwas_result)[14]=\"genesymbol\"\n",
    "names(gwas_result)"
   ]
  },
  {
   "cell_type": "code",
   "execution_count": 3,
   "metadata": {},
   "outputs": [
    {
     "data": {
      "text/html": [
       "<style>\n",
       ".list-inline {list-style: none; margin:0; padding: 0}\n",
       ".list-inline>li {display: inline-block}\n",
       ".list-inline>li:not(:last-child)::after {content: \"\\00b7\"; padding: 0 .5ex}\n",
       "</style>\n",
       "<ol class=list-inline><li>8214</li><li>10</li></ol>\n"
      ],
      "text/latex": [
       "\\begin{enumerate*}\n",
       "\\item 8214\n",
       "\\item 10\n",
       "\\end{enumerate*}\n"
      ],
      "text/markdown": [
       "1. 8214\n",
       "2. 10\n",
       "\n",
       "\n"
      ],
      "text/plain": [
       "[1] 8214   10"
      ]
     },
     "metadata": {},
     "output_type": "display_data"
    },
    {
     "data": {
      "text/html": [
       "<table class=\"dataframe\">\n",
       "<caption>A data.frame: 3 x 10</caption>\n",
       "<thead>\n",
       "\t<tr><th></th><th scope=col>rank</th><th scope=col>logFC.case.ctl</th><th scope=col>Var</th><th scope=col>Qpvalue</th><th scope=col>REM.Pvalue</th><th scope=col>REM.FDR</th><th scope=col>Fisher.Pvalue</th><th scope=col>Fisher.FDR</th><th scope=col>n.estimators</th><th scope=col>genesymbol</th></tr>\n",
       "\t<tr><th></th><th scope=col>&lt;int&gt;</th><th scope=col>&lt;dbl&gt;</th><th scope=col>&lt;dbl&gt;</th><th scope=col>&lt;dbl&gt;</th><th scope=col>&lt;dbl&gt;</th><th scope=col>&lt;dbl&gt;</th><th scope=col>&lt;dbl&gt;</th><th scope=col>&lt;dbl&gt;</th><th scope=col>&lt;int&gt;</th><th scope=col>&lt;chr&gt;</th></tr>\n",
       "</thead>\n",
       "<tbody>\n",
       "\t<tr><th scope=row>ZNF264</th><td>1</td><td> 0.3552904</td><td>0.299334526</td><td>1.502152e-26</td><td>0.516086802</td><td>0.67039523</td><td>1.427335e-31</td><td>1.172413e-27</td><td>2</td><td>ZNF264</td></tr>\n",
       "\t<tr><th scope=row>SVOP</th><td>2</td><td>-0.7902721</td><td>0.005249884</td><td>3.104079e-01</td><td>0.000000000</td><td>0.00000000</td><td>2.022028e-27</td><td>8.304468e-24</td><td>2</td><td>SVOP  </td></tr>\n",
       "\t<tr><th scope=row>NFKB1</th><td>3</td><td> 0.3817504</td><td>0.016106871</td><td>9.565457e-03</td><td>0.002629964</td><td>0.01517535</td><td>8.712374e-27</td><td>2.263827e-23</td><td>2</td><td>NFKB1 </td></tr>\n",
       "</tbody>\n",
       "</table>\n"
      ],
      "text/latex": [
       "A data.frame: 3 x 10\n",
       "\\begin{tabular}{r|llllllllll}\n",
       "  & rank & logFC.case.ctl & Var & Qpvalue & REM.Pvalue & REM.FDR & Fisher.Pvalue & Fisher.FDR & n.estimators & genesymbol\\\\\n",
       "  & <int> & <dbl> & <dbl> & <dbl> & <dbl> & <dbl> & <dbl> & <dbl> & <int> & <chr>\\\\\n",
       "\\hline\n",
       "\tZNF264 & 1 &  0.3552904 & 0.299334526 & 1.502152e-26 & 0.516086802 & 0.67039523 & 1.427335e-31 & 1.172413e-27 & 2 & ZNF264\\\\\n",
       "\tSVOP & 2 & -0.7902721 & 0.005249884 & 3.104079e-01 & 0.000000000 & 0.00000000 & 2.022028e-27 & 8.304468e-24 & 2 & SVOP  \\\\\n",
       "\tNFKB1 & 3 &  0.3817504 & 0.016106871 & 9.565457e-03 & 0.002629964 & 0.01517535 & 8.712374e-27 & 2.263827e-23 & 2 & NFKB1 \\\\\n",
       "\\end{tabular}\n"
      ],
      "text/markdown": [
       "\n",
       "A data.frame: 3 x 10\n",
       "\n",
       "| <!--/--> | rank &lt;int&gt; | logFC.case.ctl &lt;dbl&gt; | Var &lt;dbl&gt; | Qpvalue &lt;dbl&gt; | REM.Pvalue &lt;dbl&gt; | REM.FDR &lt;dbl&gt; | Fisher.Pvalue &lt;dbl&gt; | Fisher.FDR &lt;dbl&gt; | n.estimators &lt;int&gt; | genesymbol &lt;chr&gt; |\n",
       "|---|---|---|---|---|---|---|---|---|---|---|\n",
       "| ZNF264 | 1 |  0.3552904 | 0.299334526 | 1.502152e-26 | 0.516086802 | 0.67039523 | 1.427335e-31 | 1.172413e-27 | 2 | ZNF264 |\n",
       "| SVOP | 2 | -0.7902721 | 0.005249884 | 3.104079e-01 | 0.000000000 | 0.00000000 | 2.022028e-27 | 8.304468e-24 | 2 | SVOP   |\n",
       "| NFKB1 | 3 |  0.3817504 | 0.016106871 | 9.565457e-03 | 0.002629964 | 0.01517535 | 8.712374e-27 | 2.263827e-23 | 2 | NFKB1  |\n",
       "\n"
      ],
      "text/plain": [
       "       rank logFC.case.ctl Var         Qpvalue      REM.Pvalue  REM.FDR   \n",
       "ZNF264 1     0.3552904     0.299334526 1.502152e-26 0.516086802 0.67039523\n",
       "SVOP   2    -0.7902721     0.005249884 3.104079e-01 0.000000000 0.00000000\n",
       "NFKB1  3     0.3817504     0.016106871 9.565457e-03 0.002629964 0.01517535\n",
       "       Fisher.Pvalue Fisher.FDR   n.estimators genesymbol\n",
       "ZNF264 1.427335e-31  1.172413e-27 2            ZNF264    \n",
       "SVOP   2.022028e-27  8.304468e-24 2            SVOP      \n",
       "NFKB1  8.712374e-27  2.263827e-23 2            NFKB1     "
      ]
     },
     "metadata": {},
     "output_type": "display_data"
    }
   ],
   "source": [
    "# GWES MetaDE\n",
    "expr_result<-read.table(\"/mnt/data/MetaAnalysis/output/meta_result_case-ctl\")\n",
    "expr_result<-expr_result[!(is.na(expr_result$Fisher.Pvalue)), ] # removing or not genes with NA fisher does not have any effect on the merge dataset\n",
    "expr_result$genesymbol <- rownames(expr_result)\n",
    "dim(expr_result) \n",
    "head(expr_result,n=3L)"
   ]
  },
  {
   "cell_type": "code",
   "execution_count": 4,
   "metadata": {
    "ExecuteTime": {
     "end_time": "2019-01-04T10:13:31.211703Z",
     "start_time": "2019-01-04T10:13:30.815Z"
    }
   },
   "outputs": [
    {
     "data": {
      "text/html": [
       "<style>\n",
       ".list-inline {list-style: none; margin:0; padding: 0}\n",
       ".list-inline>li {display: inline-block}\n",
       ".list-inline>li:not(:last-child)::after {content: \"\\00b7\"; padding: 0 .5ex}\n",
       "</style>\n",
       "<ol class=list-inline><li>24128</li><li>3</li></ol>\n"
      ],
      "text/latex": [
       "\\begin{enumerate*}\n",
       "\\item 24128\n",
       "\\item 3\n",
       "\\end{enumerate*}\n"
      ],
      "text/markdown": [
       "1. 24128\n",
       "2. 3\n",
       "\n",
       "\n"
      ],
      "text/plain": [
       "[1] 24128     3"
      ]
     },
     "metadata": {},
     "output_type": "display_data"
    },
    {
     "data": {
      "text/html": [
       "<table class=\"dataframe\">\n",
       "<caption>A data.frame: 3 x 3</caption>\n",
       "<thead>\n",
       "\t<tr><th></th><th scope=col>rank</th><th scope=col>Name</th><th scope=col>Score</th></tr>\n",
       "\t<tr><th></th><th scope=col>&lt;int&gt;</th><th scope=col>&lt;chr&gt;</th><th scope=col>&lt;dbl&gt;</th></tr>\n",
       "</thead>\n",
       "<tbody>\n",
       "\t<tr><th scope=row>ZNF264</th><td>1</td><td>ZNF264</td><td>0.0001816654</td></tr>\n",
       "\t<tr><th scope=row>AKAP13</th><td>2</td><td>AKAP13</td><td>0.0002152215</td></tr>\n",
       "\t<tr><th scope=row>SVOP</th><td>3</td><td>SVOP  </td><td>0.0003633226</td></tr>\n",
       "</tbody>\n",
       "</table>\n"
      ],
      "text/latex": [
       "A data.frame: 3 x 3\n",
       "\\begin{tabular}{r|lll}\n",
       "  & rank & Name & Score\\\\\n",
       "  & <int> & <chr> & <dbl>\\\\\n",
       "\\hline\n",
       "\tZNF264 & 1 & ZNF264 & 0.0001816654\\\\\n",
       "\tAKAP13 & 2 & AKAP13 & 0.0002152215\\\\\n",
       "\tSVOP & 3 & SVOP   & 0.0003633226\\\\\n",
       "\\end{tabular}\n"
      ],
      "text/markdown": [
       "\n",
       "A data.frame: 3 x 3\n",
       "\n",
       "| <!--/--> | rank &lt;int&gt; | Name &lt;chr&gt; | Score &lt;dbl&gt; |\n",
       "|---|---|---|---|\n",
       "| ZNF264 | 1 | ZNF264 | 0.0001816654 |\n",
       "| AKAP13 | 2 | AKAP13 | 0.0002152215 |\n",
       "| SVOP | 3 | SVOP   | 0.0003633226 |\n",
       "\n"
      ],
      "text/plain": [
       "       rank Name   Score       \n",
       "ZNF264 1    ZNF264 0.0001816654\n",
       "AKAP13 2    AKAP13 0.0002152215\n",
       "SVOP   3    SVOP   0.0003633226"
      ]
     },
     "metadata": {},
     "output_type": "display_data"
    }
   ],
   "source": [
    "# Integrative\n",
    "RRA=read.table(\"/mnt/data/IntegrativeAnalysis/output/RRAresult\",header=T)\n",
    "dim(RRA)\n",
    "head(RRA,n=3)"
   ]
  },
  {
   "cell_type": "code",
   "execution_count": 5,
   "metadata": {
    "ExecuteTime": {
     "end_time": "2019-01-04T10:13:37.302904Z",
     "start_time": "2019-01-04T10:13:37.246Z"
    }
   },
   "outputs": [
    {
     "data": {
      "text/html": [
       "<style>\n",
       ".list-inline {list-style: none; margin:0; padding: 0}\n",
       ".list-inline>li {display: inline-block}\n",
       ".list-inline>li:not(:last-child)::after {content: \"\\00b7\"; padding: 0 .5ex}\n",
       "</style>\n",
       "<ol class=list-inline><li>'rank'</li><li>'genesymbol'</li><li>'Score'</li></ol>\n"
      ],
      "text/latex": [
       "\\begin{enumerate*}\n",
       "\\item 'rank'\n",
       "\\item 'genesymbol'\n",
       "\\item 'Score'\n",
       "\\end{enumerate*}\n"
      ],
      "text/markdown": [
       "1. 'rank'\n",
       "2. 'genesymbol'\n",
       "3. 'Score'\n",
       "\n",
       "\n"
      ],
      "text/plain": [
       "[1] \"rank\"       \"genesymbol\" \"Score\"     "
      ]
     },
     "metadata": {},
     "output_type": "display_data"
    }
   ],
   "source": [
    "names(RRA)[2]=\"genesymbol\"\n",
    "names(RRA)"
   ]
  },
  {
   "cell_type": "code",
   "execution_count": 6,
   "metadata": {
    "ExecuteTime": {
     "end_time": "2019-01-04T10:13:50.972015Z",
     "start_time": "2019-01-04T10:13:50.814Z"
    }
   },
   "outputs": [
    {
     "data": {
      "text/html": [
       "<style>\n",
       ".list-inline {list-style: none; margin:0; padding: 0}\n",
       ".list-inline>li {display: inline-block}\n",
       ".list-inline>li:not(:last-child)::after {content: \"\\00b7\"; padding: 0 .5ex}\n",
       "</style>\n",
       "<ol class=list-inline><li>62</li><li>8</li></ol>\n"
      ],
      "text/latex": [
       "\\begin{enumerate*}\n",
       "\\item 62\n",
       "\\item 8\n",
       "\\end{enumerate*}\n"
      ],
      "text/markdown": [
       "1. 62\n",
       "2. 8\n",
       "\n",
       "\n"
      ],
      "text/plain": [
       "[1] 62  8"
      ]
     },
     "metadata": {},
     "output_type": "display_data"
    },
    {
     "data": {
      "text/html": [
       "<table class=\"dataframe\">\n",
       "<caption>A data.frame: 3 x 8</caption>\n",
       "<thead>\n",
       "\t<tr><th></th><th scope=col>category</th><th scope=col>ID</th><th scope=col>term</th><th scope=col>count</th><th scope=col>genes</th><th scope=col>logFC</th><th scope=col>adj_pval</th><th scope=col>zscore</th></tr>\n",
       "\t<tr><th></th><th scope=col>&lt;chr&gt;</th><th scope=col>&lt;chr&gt;</th><th scope=col>&lt;chr&gt;</th><th scope=col>&lt;int&gt;</th><th scope=col>&lt;chr&gt;</th><th scope=col>&lt;dbl&gt;</th><th scope=col>&lt;dbl&gt;</th><th scope=col>&lt;dbl&gt;</th></tr>\n",
       "</thead>\n",
       "<tbody>\n",
       "\t<tr><th scope=row>1</th><td>CC</td><td>GO:0005743</td><td>mitochondrial inner membrane</td><td>12</td><td>OPA1  </td><td>-0.5744116</td><td>7.675239e-05</td><td>-2.309401</td></tr>\n",
       "\t<tr><th scope=row>2</th><td>CC</td><td>GO:0005743</td><td>mitochondrial inner membrane</td><td>12</td><td>MRPL24</td><td>-0.5360031</td><td>7.675239e-05</td><td>-2.309401</td></tr>\n",
       "\t<tr><th scope=row>3</th><td>CC</td><td>GO:0005743</td><td>mitochondrial inner membrane</td><td>12</td><td>LETMD1</td><td>-0.3053266</td><td>7.675239e-05</td><td>-2.309401</td></tr>\n",
       "</tbody>\n",
       "</table>\n"
      ],
      "text/latex": [
       "A data.frame: 3 x 8\n",
       "\\begin{tabular}{r|llllllll}\n",
       "  & category & ID & term & count & genes & logFC & adj\\_pval & zscore\\\\\n",
       "  & <chr> & <chr> & <chr> & <int> & <chr> & <dbl> & <dbl> & <dbl>\\\\\n",
       "\\hline\n",
       "\t1 & CC & GO:0005743 & mitochondrial inner membrane & 12 & OPA1   & -0.5744116 & 7.675239e-05 & -2.309401\\\\\n",
       "\t2 & CC & GO:0005743 & mitochondrial inner membrane & 12 & MRPL24 & -0.5360031 & 7.675239e-05 & -2.309401\\\\\n",
       "\t3 & CC & GO:0005743 & mitochondrial inner membrane & 12 & LETMD1 & -0.3053266 & 7.675239e-05 & -2.309401\\\\\n",
       "\\end{tabular}\n"
      ],
      "text/markdown": [
       "\n",
       "A data.frame: 3 x 8\n",
       "\n",
       "| <!--/--> | category &lt;chr&gt; | ID &lt;chr&gt; | term &lt;chr&gt; | count &lt;int&gt; | genes &lt;chr&gt; | logFC &lt;dbl&gt; | adj_pval &lt;dbl&gt; | zscore &lt;dbl&gt; |\n",
       "|---|---|---|---|---|---|---|---|---|\n",
       "| 1 | CC | GO:0005743 | mitochondrial inner membrane | 12 | OPA1   | -0.5744116 | 7.675239e-05 | -2.309401 |\n",
       "| 2 | CC | GO:0005743 | mitochondrial inner membrane | 12 | MRPL24 | -0.5360031 | 7.675239e-05 | -2.309401 |\n",
       "| 3 | CC | GO:0005743 | mitochondrial inner membrane | 12 | LETMD1 | -0.3053266 | 7.675239e-05 | -2.309401 |\n",
       "\n"
      ],
      "text/plain": [
       "  category ID         term                         count genes  logFC     \n",
       "1 CC       GO:0005743 mitochondrial inner membrane 12    OPA1   -0.5744116\n",
       "2 CC       GO:0005743 mitochondrial inner membrane 12    MRPL24 -0.5360031\n",
       "3 CC       GO:0005743 mitochondrial inner membrane 12    LETMD1 -0.3053266\n",
       "  adj_pval     zscore   \n",
       "1 7.675239e-05 -2.309401\n",
       "2 7.675239e-05 -2.309401\n",
       "3 7.675239e-05 -2.309401"
      ]
     },
     "metadata": {},
     "output_type": "display_data"
    }
   ],
   "source": [
    "# GO dataframe (combined result from Webgestalt and GOplot. GOplot removes redundant terms and calculates zscore )\n",
    "enrich=read.table(\"/mnt/data/Enrichment//output//meta_case_control_GOdataframe\")\n",
    "dim(enrich)\n",
    "head(enrich,n=3)"
   ]
  },
  {
   "cell_type": "code",
   "execution_count": 7,
   "metadata": {
    "ExecuteTime": {
     "end_time": "2019-01-04T10:14:01.888185Z",
     "start_time": "2019-01-04T10:14:01.816Z"
    }
   },
   "outputs": [
    {
     "data": {
      "text/html": [
       "<table class=\"dataframe\">\n",
       "<caption>A data.frame: 3 x 9</caption>\n",
       "<thead>\n",
       "\t<tr><th></th><th scope=col>category</th><th scope=col>ID</th><th scope=col>term</th><th scope=col>count</th><th scope=col>genesymbol</th><th scope=col>logFC</th><th scope=col>adj_pval</th><th scope=col>zscore</th><th scope=col>cat_term</th></tr>\n",
       "\t<tr><th></th><th scope=col>&lt;chr&gt;</th><th scope=col>&lt;chr&gt;</th><th scope=col>&lt;chr&gt;</th><th scope=col>&lt;int&gt;</th><th scope=col>&lt;chr&gt;</th><th scope=col>&lt;dbl&gt;</th><th scope=col>&lt;dbl&gt;</th><th scope=col>&lt;dbl&gt;</th><th scope=col>&lt;chr&gt;</th></tr>\n",
       "</thead>\n",
       "<tbody>\n",
       "\t<tr><th scope=row>1</th><td>CC</td><td>GO:0005743</td><td>mitochondrial inner membrane</td><td>12</td><td>OPA1  </td><td>-0.5744116</td><td>7.675239e-05</td><td>-2.309401</td><td>CC:mitochondrial inner membrane</td></tr>\n",
       "\t<tr><th scope=row>2</th><td>CC</td><td>GO:0005743</td><td>mitochondrial inner membrane</td><td>12</td><td>MRPL24</td><td>-0.5360031</td><td>7.675239e-05</td><td>-2.309401</td><td>CC:mitochondrial inner membrane</td></tr>\n",
       "\t<tr><th scope=row>3</th><td>CC</td><td>GO:0005743</td><td>mitochondrial inner membrane</td><td>12</td><td>LETMD1</td><td>-0.3053266</td><td>7.675239e-05</td><td>-2.309401</td><td>CC:mitochondrial inner membrane</td></tr>\n",
       "</tbody>\n",
       "</table>\n"
      ],
      "text/latex": [
       "A data.frame: 3 x 9\n",
       "\\begin{tabular}{r|lllllllll}\n",
       "  & category & ID & term & count & genesymbol & logFC & adj\\_pval & zscore & cat\\_term\\\\\n",
       "  & <chr> & <chr> & <chr> & <int> & <chr> & <dbl> & <dbl> & <dbl> & <chr>\\\\\n",
       "\\hline\n",
       "\t1 & CC & GO:0005743 & mitochondrial inner membrane & 12 & OPA1   & -0.5744116 & 7.675239e-05 & -2.309401 & CC:mitochondrial inner membrane\\\\\n",
       "\t2 & CC & GO:0005743 & mitochondrial inner membrane & 12 & MRPL24 & -0.5360031 & 7.675239e-05 & -2.309401 & CC:mitochondrial inner membrane\\\\\n",
       "\t3 & CC & GO:0005743 & mitochondrial inner membrane & 12 & LETMD1 & -0.3053266 & 7.675239e-05 & -2.309401 & CC:mitochondrial inner membrane\\\\\n",
       "\\end{tabular}\n"
      ],
      "text/markdown": [
       "\n",
       "A data.frame: 3 x 9\n",
       "\n",
       "| <!--/--> | category &lt;chr&gt; | ID &lt;chr&gt; | term &lt;chr&gt; | count &lt;int&gt; | genesymbol &lt;chr&gt; | logFC &lt;dbl&gt; | adj_pval &lt;dbl&gt; | zscore &lt;dbl&gt; | cat_term &lt;chr&gt; |\n",
       "|---|---|---|---|---|---|---|---|---|---|\n",
       "| 1 | CC | GO:0005743 | mitochondrial inner membrane | 12 | OPA1   | -0.5744116 | 7.675239e-05 | -2.309401 | CC:mitochondrial inner membrane |\n",
       "| 2 | CC | GO:0005743 | mitochondrial inner membrane | 12 | MRPL24 | -0.5360031 | 7.675239e-05 | -2.309401 | CC:mitochondrial inner membrane |\n",
       "| 3 | CC | GO:0005743 | mitochondrial inner membrane | 12 | LETMD1 | -0.3053266 | 7.675239e-05 | -2.309401 | CC:mitochondrial inner membrane |\n",
       "\n"
      ],
      "text/plain": [
       "  category ID         term                         count genesymbol logFC     \n",
       "1 CC       GO:0005743 mitochondrial inner membrane 12    OPA1       -0.5744116\n",
       "2 CC       GO:0005743 mitochondrial inner membrane 12    MRPL24     -0.5360031\n",
       "3 CC       GO:0005743 mitochondrial inner membrane 12    LETMD1     -0.3053266\n",
       "  adj_pval     zscore    cat_term                       \n",
       "1 7.675239e-05 -2.309401 CC:mitochondrial inner membrane\n",
       "2 7.675239e-05 -2.309401 CC:mitochondrial inner membrane\n",
       "3 7.675239e-05 -2.309401 CC:mitochondrial inner membrane"
      ]
     },
     "metadata": {},
     "output_type": "display_data"
    }
   ],
   "source": [
    "names(enrich)[5]=\"genesymbol\"\n",
    "enrich$cat_term=paste(enrich$category,enrich$term,sep=\":\")\n",
    "head(enrich,n=3)"
   ]
  },
  {
   "cell_type": "markdown",
   "metadata": {},
   "source": [
    "## Prepare dataset with the variables needed"
   ]
  },
  {
   "cell_type": "code",
   "execution_count": 8,
   "metadata": {
    "ExecuteTime": {
     "end_time": "2019-01-04T10:14:52.068153Z",
     "start_time": "2019-01-04T10:14:51.876Z"
    }
   },
   "outputs": [
    {
     "data": {
      "text/html": [
       "<style>\n",
       ".list-inline {list-style: none; margin:0; padding: 0}\n",
       ".list-inline>li {display: inline-block}\n",
       ".list-inline>li:not(:last-child)::after {content: \"\\00b7\"; padding: 0 .5ex}\n",
       "</style>\n",
       "<ol class=list-inline><li>60</li><li>33</li></ol>\n"
      ],
      "text/latex": [
       "\\begin{enumerate*}\n",
       "\\item 60\n",
       "\\item 33\n",
       "\\end{enumerate*}\n"
      ],
      "text/markdown": [
       "1. 60\n",
       "2. 33\n",
       "\n",
       "\n"
      ],
      "text/plain": [
       "[1] 60 33"
      ]
     },
     "metadata": {},
     "output_type": "display_data"
    },
    {
     "data": {
      "text/html": [
       "<table class=\"dataframe\">\n",
       "<caption>A data.frame: 3 x 33</caption>\n",
       "<thead>\n",
       "\t<tr><th></th><th scope=col>genesymbol</th><th scope=col>magma_rank</th><th scope=col>GENEID</th><th scope=col>CHR</th><th scope=col>START</th><th scope=col>STOP</th><th scope=col>NSNPS</th><th scope=col>NPARAM</th><th scope=col>N</th><th scope=col>ZSTAT</th><th scope=col>...</th><th scope=col>rank.y</th><th scope=col>Score</th><th scope=col>category</th><th scope=col>ID</th><th scope=col>term</th><th scope=col>count</th><th scope=col>logFC</th><th scope=col>adj_pval</th><th scope=col>zscore</th><th scope=col>cat_term</th></tr>\n",
       "\t<tr><th></th><th scope=col>&lt;chr&gt;</th><th scope=col>&lt;int&gt;</th><th scope=col>&lt;int&gt;</th><th scope=col>&lt;int&gt;</th><th scope=col>&lt;int&gt;</th><th scope=col>&lt;int&gt;</th><th scope=col>&lt;int&gt;</th><th scope=col>&lt;int&gt;</th><th scope=col>&lt;int&gt;</th><th scope=col>&lt;dbl&gt;</th><th scope=col>...</th><th scope=col>&lt;int&gt;</th><th scope=col>&lt;dbl&gt;</th><th scope=col>&lt;chr&gt;</th><th scope=col>&lt;chr&gt;</th><th scope=col>&lt;chr&gt;</th><th scope=col>&lt;int&gt;</th><th scope=col>&lt;dbl&gt;</th><th scope=col>&lt;dbl&gt;</th><th scope=col>&lt;dbl&gt;</th><th scope=col>&lt;chr&gt;</th></tr>\n",
       "</thead>\n",
       "<tbody>\n",
       "\t<tr><th scope=row>1</th><td>AGK  </td><td> 304</td><td>55750</td><td>7</td><td>141501278</td><td>141704409</td><td>10</td><td>7</td><td>495</td><td> 2.34590</td><td>...</td><td>  6</td><td>0.000535121</td><td>CC</td><td>GO:0005743</td><td>mitochondrial inner membrane</td><td>12</td><td>-0.4228629</td><td>7.675239e-05</td><td>-2.309401</td><td>CC:mitochondrial inner membrane</td></tr>\n",
       "\t<tr><th scope=row>2</th><td>AGK  </td><td> 304</td><td>55750</td><td>7</td><td>141501278</td><td>141704409</td><td>10</td><td>7</td><td>495</td><td> 2.34590</td><td>...</td><td>  6</td><td>0.000535121</td><td>CC</td><td>GO:0005741</td><td>mitochondrial outer membrane</td><td> 6</td><td>-0.4228629</td><td>1.599920e-03</td><td>-2.449490</td><td>CC:mitochondrial outer membrane</td></tr>\n",
       "\t<tr><th scope=row>3</th><td>AP3S1</td><td>9287</td><td> 1176</td><td>5</td><td>115791922</td><td>115964081</td><td> 6</td><td>5</td><td>495</td><td>-0.15459</td><td>...</td><td>369</td><td>0.017040484</td><td>CC</td><td>GO:0033267</td><td>axon part                   </td><td>10</td><td>-0.2611915</td><td>2.785301e-04</td><td>-1.897367</td><td>CC:axon part                   </td></tr>\n",
       "</tbody>\n",
       "</table>\n"
      ],
      "text/latex": [
       "A data.frame: 3 x 33\n",
       "\\begin{tabular}{r|lllllllllllllllllllll}\n",
       "  & genesymbol & magma\\_rank & GENEID & CHR & START & STOP & NSNPS & NPARAM & N & ZSTAT & ... & rank.y & Score & category & ID & term & count & logFC & adj\\_pval & zscore & cat\\_term\\\\\n",
       "  & <chr> & <int> & <int> & <int> & <int> & <int> & <int> & <int> & <int> & <dbl> & ... & <int> & <dbl> & <chr> & <chr> & <chr> & <int> & <dbl> & <dbl> & <dbl> & <chr>\\\\\n",
       "\\hline\n",
       "\t1 & AGK   &  304 & 55750 & 7 & 141501278 & 141704409 & 10 & 7 & 495 &  2.34590 & ... &   6 & 0.000535121 & CC & GO:0005743 & mitochondrial inner membrane & 12 & -0.4228629 & 7.675239e-05 & -2.309401 & CC:mitochondrial inner membrane\\\\\n",
       "\t2 & AGK   &  304 & 55750 & 7 & 141501278 & 141704409 & 10 & 7 & 495 &  2.34590 & ... &   6 & 0.000535121 & CC & GO:0005741 & mitochondrial outer membrane &  6 & -0.4228629 & 1.599920e-03 & -2.449490 & CC:mitochondrial outer membrane\\\\\n",
       "\t3 & AP3S1 & 9287 &  1176 & 5 & 115791922 & 115964081 &  6 & 5 & 495 & -0.15459 & ... & 369 & 0.017040484 & CC & GO:0033267 & axon part                    & 10 & -0.2611915 & 2.785301e-04 & -1.897367 & CC:axon part                   \\\\\n",
       "\\end{tabular}\n"
      ],
      "text/markdown": [
       "\n",
       "A data.frame: 3 x 33\n",
       "\n",
       "| <!--/--> | genesymbol &lt;chr&gt; | magma_rank &lt;int&gt; | GENEID &lt;int&gt; | CHR &lt;int&gt; | START &lt;int&gt; | STOP &lt;int&gt; | NSNPS &lt;int&gt; | NPARAM &lt;int&gt; | N &lt;int&gt; | ZSTAT &lt;dbl&gt; | ... ... | rank.y &lt;int&gt; | Score &lt;dbl&gt; | category &lt;chr&gt; | ID &lt;chr&gt; | term &lt;chr&gt; | count &lt;int&gt; | logFC &lt;dbl&gt; | adj_pval &lt;dbl&gt; | zscore &lt;dbl&gt; | cat_term &lt;chr&gt; |\n",
       "|---|---|---|---|---|---|---|---|---|---|---|---|---|---|---|---|---|---|---|---|---|---|\n",
       "| 1 | AGK   |  304 | 55750 | 7 | 141501278 | 141704409 | 10 | 7 | 495 |  2.34590 | ... |   6 | 0.000535121 | CC | GO:0005743 | mitochondrial inner membrane | 12 | -0.4228629 | 7.675239e-05 | -2.309401 | CC:mitochondrial inner membrane |\n",
       "| 2 | AGK   |  304 | 55750 | 7 | 141501278 | 141704409 | 10 | 7 | 495 |  2.34590 | ... |   6 | 0.000535121 | CC | GO:0005741 | mitochondrial outer membrane |  6 | -0.4228629 | 1.599920e-03 | -2.449490 | CC:mitochondrial outer membrane |\n",
       "| 3 | AP3S1 | 9287 |  1176 | 5 | 115791922 | 115964081 |  6 | 5 | 495 | -0.15459 | ... | 369 | 0.017040484 | CC | GO:0033267 | axon part                    | 10 | -0.2611915 | 2.785301e-04 | -1.897367 | CC:axon part                    |\n",
       "\n"
      ],
      "text/plain": [
       "  genesymbol magma_rank GENEID CHR START     STOP      NSNPS NPARAM N  \n",
       "1 AGK         304       55750  7   141501278 141704409 10    7      495\n",
       "2 AGK         304       55750  7   141501278 141704409 10    7      495\n",
       "3 AP3S1      9287        1176  5   115791922 115964081  6    5      495\n",
       "  ZSTAT    ... rank.y Score       category ID        \n",
       "1  2.34590 ...   6    0.000535121 CC       GO:0005743\n",
       "2  2.34590 ...   6    0.000535121 CC       GO:0005741\n",
       "3 -0.15459 ... 369    0.017040484 CC       GO:0033267\n",
       "  term                         count logFC      adj_pval     zscore   \n",
       "1 mitochondrial inner membrane 12    -0.4228629 7.675239e-05 -2.309401\n",
       "2 mitochondrial outer membrane  6    -0.4228629 1.599920e-03 -2.449490\n",
       "3 axon part                    10    -0.2611915 2.785301e-04 -1.897367\n",
       "  cat_term                       \n",
       "1 CC:mitochondrial inner membrane\n",
       "2 CC:mitochondrial outer membrane\n",
       "3 CC:axon part                   "
      ]
     },
     "metadata": {},
     "output_type": "display_data"
    }
   ],
   "source": [
    "pheatmap.merge=Reduce(function(x, y) merge(x, y, by=\"genesymbol\"), list(gwas_result,expr_result,RRA,enrich))\n",
    "dim(pheatmap.merge)\n",
    "head(pheatmap.merge,n=3L)"
   ]
  },
  {
   "cell_type": "code",
   "execution_count": 9,
   "metadata": {
    "ExecuteTime": {
     "end_time": "2019-01-04T10:15:02.248528Z",
     "start_time": "2019-01-04T10:15:02.169Z"
    }
   },
   "outputs": [
    {
     "data": {
      "text/html": [
       "46"
      ],
      "text/latex": [
       "46"
      ],
      "text/markdown": [
       "46"
      ],
      "text/plain": [
       "[1] 46"
      ]
     },
     "metadata": {},
     "output_type": "display_data"
    }
   ],
   "source": [
    "length(unique(pheatmap.merge$genesymbol)) "
   ]
  },
  {
   "cell_type": "code",
   "execution_count": 10,
   "metadata": {
    "ExecuteTime": {
     "end_time": "2019-01-04T10:15:10.531555Z",
     "start_time": "2019-01-04T10:15:10.470Z"
    }
   },
   "outputs": [
    {
     "data": {
      "text/html": [
       "<style>\n",
       ".list-inline {list-style: none; margin:0; padding: 0}\n",
       ".list-inline>li {display: inline-block}\n",
       ".list-inline>li:not(:last-child)::after {content: \"\\00b7\"; padding: 0 .5ex}\n",
       "</style>\n",
       "<ol class=list-inline><li>'genesymbol'</li><li>'magma_rank'</li><li>'GENEID'</li><li>'CHR'</li><li>'START'</li><li>'STOP'</li><li>'NSNPS'</li><li>'NPARAM'</li><li>'N'</li><li>'ZSTAT'</li><li>'P_JOINT'</li><li>'P_SNPWISE_MEAN'</li><li>'P_SNPWISE_TOP1'</li><li>'STRAND'</li><li>'rank.x'</li><li>'logFC.case.ctl'</li><li>'Var'</li><li>'Qpvalue'</li><li>'REM.Pvalue'</li><li>'REM.FDR'</li><li>'Fisher.Pvalue'</li><li>'Fisher.FDR'</li><li>'n.estimators'</li><li>'rank.y'</li><li>'Score'</li><li>'category'</li><li>'ID'</li><li>'term'</li><li>'count'</li><li>'logFC'</li><li>'adj_pval'</li><li>'zscore'</li><li>'cat_term'</li></ol>\n"
      ],
      "text/latex": [
       "\\begin{enumerate*}\n",
       "\\item 'genesymbol'\n",
       "\\item 'magma\\_rank'\n",
       "\\item 'GENEID'\n",
       "\\item 'CHR'\n",
       "\\item 'START'\n",
       "\\item 'STOP'\n",
       "\\item 'NSNPS'\n",
       "\\item 'NPARAM'\n",
       "\\item 'N'\n",
       "\\item 'ZSTAT'\n",
       "\\item 'P\\_JOINT'\n",
       "\\item 'P\\_SNPWISE\\_MEAN'\n",
       "\\item 'P\\_SNPWISE\\_TOP1'\n",
       "\\item 'STRAND'\n",
       "\\item 'rank.x'\n",
       "\\item 'logFC.case.ctl'\n",
       "\\item 'Var'\n",
       "\\item 'Qpvalue'\n",
       "\\item 'REM.Pvalue'\n",
       "\\item 'REM.FDR'\n",
       "\\item 'Fisher.Pvalue'\n",
       "\\item 'Fisher.FDR'\n",
       "\\item 'n.estimators'\n",
       "\\item 'rank.y'\n",
       "\\item 'Score'\n",
       "\\item 'category'\n",
       "\\item 'ID'\n",
       "\\item 'term'\n",
       "\\item 'count'\n",
       "\\item 'logFC'\n",
       "\\item 'adj\\_pval'\n",
       "\\item 'zscore'\n",
       "\\item 'cat\\_term'\n",
       "\\end{enumerate*}\n"
      ],
      "text/markdown": [
       "1. 'genesymbol'\n",
       "2. 'magma_rank'\n",
       "3. 'GENEID'\n",
       "4. 'CHR'\n",
       "5. 'START'\n",
       "6. 'STOP'\n",
       "7. 'NSNPS'\n",
       "8. 'NPARAM'\n",
       "9. 'N'\n",
       "10. 'ZSTAT'\n",
       "11. 'P_JOINT'\n",
       "12. 'P_SNPWISE_MEAN'\n",
       "13. 'P_SNPWISE_TOP1'\n",
       "14. 'STRAND'\n",
       "15. 'rank.x'\n",
       "16. 'logFC.case.ctl'\n",
       "17. 'Var'\n",
       "18. 'Qpvalue'\n",
       "19. 'REM.Pvalue'\n",
       "20. 'REM.FDR'\n",
       "21. 'Fisher.Pvalue'\n",
       "22. 'Fisher.FDR'\n",
       "23. 'n.estimators'\n",
       "24. 'rank.y'\n",
       "25. 'Score'\n",
       "26. 'category'\n",
       "27. 'ID'\n",
       "28. 'term'\n",
       "29. 'count'\n",
       "30. 'logFC'\n",
       "31. 'adj_pval'\n",
       "32. 'zscore'\n",
       "33. 'cat_term'\n",
       "\n",
       "\n"
      ],
      "text/plain": [
       " [1] \"genesymbol\"     \"magma_rank\"     \"GENEID\"         \"CHR\"           \n",
       " [5] \"START\"          \"STOP\"           \"NSNPS\"          \"NPARAM\"        \n",
       " [9] \"N\"              \"ZSTAT\"          \"P_JOINT\"        \"P_SNPWISE_MEAN\"\n",
       "[13] \"P_SNPWISE_TOP1\" \"STRAND\"         \"rank.x\"         \"logFC.case.ctl\"\n",
       "[17] \"Var\"            \"Qpvalue\"        \"REM.Pvalue\"     \"REM.FDR\"       \n",
       "[21] \"Fisher.Pvalue\"  \"Fisher.FDR\"     \"n.estimators\"   \"rank.y\"        \n",
       "[25] \"Score\"          \"category\"       \"ID\"             \"term\"          \n",
       "[29] \"count\"          \"logFC\"          \"adj_pval\"       \"zscore\"        \n",
       "[33] \"cat_term\"      "
      ]
     },
     "metadata": {},
     "output_type": "display_data"
    }
   ],
   "source": [
    "names(pheatmap.merge)"
   ]
  },
  {
   "cell_type": "code",
   "execution_count": 11,
   "metadata": {},
   "outputs": [
    {
     "data": {
      "text/html": [
       "<table class=\"dataframe\">\n",
       "<caption>A data.frame: 3 x 9</caption>\n",
       "<thead>\n",
       "\t<tr><th></th><th scope=col>genesymbol</th><th scope=col>P_SNPWISE_MEAN</th><th scope=col>logFC.case.ctl</th><th scope=col>Fisher.FDR</th><th scope=col>Score</th><th scope=col>logFC</th><th scope=col>adj_pval</th><th scope=col>zscore</th><th scope=col>cat_term</th></tr>\n",
       "\t<tr><th></th><th scope=col>&lt;chr&gt;</th><th scope=col>&lt;dbl&gt;</th><th scope=col>&lt;dbl&gt;</th><th scope=col>&lt;dbl&gt;</th><th scope=col>&lt;dbl&gt;</th><th scope=col>&lt;dbl&gt;</th><th scope=col>&lt;dbl&gt;</th><th scope=col>&lt;dbl&gt;</th><th scope=col>&lt;chr&gt;</th></tr>\n",
       "</thead>\n",
       "<tbody>\n",
       "\t<tr><th scope=row>1</th><td>AGK  </td><td>0.011701</td><td>-0.4228629</td><td>9.770571e-17</td><td>0.000535121</td><td>-0.4228629</td><td>7.675239e-05</td><td>-2.309401</td><td>CC:mitochondrial inner membrane</td></tr>\n",
       "\t<tr><th scope=row>2</th><td>AGK  </td><td>0.011701</td><td>-0.4228629</td><td>9.770571e-17</td><td>0.000535121</td><td>-0.4228629</td><td>1.599920e-03</td><td>-2.449490</td><td>CC:mitochondrial outer membrane</td></tr>\n",
       "\t<tr><th scope=row>3</th><td>AP3S1</td><td>0.452860</td><td>-0.2611915</td><td>4.832733e-16</td><td>0.017040484</td><td>-0.2611915</td><td>2.785301e-04</td><td>-1.897367</td><td>CC:axon part                   </td></tr>\n",
       "</tbody>\n",
       "</table>\n"
      ],
      "text/latex": [
       "A data.frame: 3 x 9\n",
       "\\begin{tabular}{r|lllllllll}\n",
       "  & genesymbol & P\\_SNPWISE\\_MEAN & logFC.case.ctl & Fisher.FDR & Score & logFC & adj\\_pval & zscore & cat\\_term\\\\\n",
       "  & <chr> & <dbl> & <dbl> & <dbl> & <dbl> & <dbl> & <dbl> & <dbl> & <chr>\\\\\n",
       "\\hline\n",
       "\t1 & AGK   & 0.011701 & -0.4228629 & 9.770571e-17 & 0.000535121 & -0.4228629 & 7.675239e-05 & -2.309401 & CC:mitochondrial inner membrane\\\\\n",
       "\t2 & AGK   & 0.011701 & -0.4228629 & 9.770571e-17 & 0.000535121 & -0.4228629 & 1.599920e-03 & -2.449490 & CC:mitochondrial outer membrane\\\\\n",
       "\t3 & AP3S1 & 0.452860 & -0.2611915 & 4.832733e-16 & 0.017040484 & -0.2611915 & 2.785301e-04 & -1.897367 & CC:axon part                   \\\\\n",
       "\\end{tabular}\n"
      ],
      "text/markdown": [
       "\n",
       "A data.frame: 3 x 9\n",
       "\n",
       "| <!--/--> | genesymbol &lt;chr&gt; | P_SNPWISE_MEAN &lt;dbl&gt; | logFC.case.ctl &lt;dbl&gt; | Fisher.FDR &lt;dbl&gt; | Score &lt;dbl&gt; | logFC &lt;dbl&gt; | adj_pval &lt;dbl&gt; | zscore &lt;dbl&gt; | cat_term &lt;chr&gt; |\n",
       "|---|---|---|---|---|---|---|---|---|---|\n",
       "| 1 | AGK   | 0.011701 | -0.4228629 | 9.770571e-17 | 0.000535121 | -0.4228629 | 7.675239e-05 | -2.309401 | CC:mitochondrial inner membrane |\n",
       "| 2 | AGK   | 0.011701 | -0.4228629 | 9.770571e-17 | 0.000535121 | -0.4228629 | 1.599920e-03 | -2.449490 | CC:mitochondrial outer membrane |\n",
       "| 3 | AP3S1 | 0.452860 | -0.2611915 | 4.832733e-16 | 0.017040484 | -0.2611915 | 2.785301e-04 | -1.897367 | CC:axon part                    |\n",
       "\n"
      ],
      "text/plain": [
       "  genesymbol P_SNPWISE_MEAN logFC.case.ctl Fisher.FDR   Score       logFC     \n",
       "1 AGK        0.011701       -0.4228629     9.770571e-17 0.000535121 -0.4228629\n",
       "2 AGK        0.011701       -0.4228629     9.770571e-17 0.000535121 -0.4228629\n",
       "3 AP3S1      0.452860       -0.2611915     4.832733e-16 0.017040484 -0.2611915\n",
       "  adj_pval     zscore    cat_term                       \n",
       "1 7.675239e-05 -2.309401 CC:mitochondrial inner membrane\n",
       "2 1.599920e-03 -2.449490 CC:mitochondrial outer membrane\n",
       "3 2.785301e-04 -1.897367 CC:axon part                   "
      ]
     },
     "metadata": {},
     "output_type": "display_data"
    }
   ],
   "source": [
    "pheatmap.df=pheatmap.merge[, c(1,12,16,22,25,30,31,32,33)]\n",
    "head(pheatmap.df,n=3)"
   ]
  },
  {
   "cell_type": "code",
   "execution_count": 12,
   "metadata": {
    "ExecuteTime": {
     "end_time": "2019-01-04T10:41:03.600521Z",
     "start_time": "2019-01-04T10:41:03.531Z"
    }
   },
   "outputs": [
    {
     "data": {
      "text/html": [
       "<table class=\"dataframe\">\n",
       "<caption>A data.frame: 3 x 9</caption>\n",
       "<thead>\n",
       "\t<tr><th></th><th scope=col>genesymbol</th><th scope=col>GWAS_Metal_pvalue</th><th scope=col>GWES_Meta_logFC</th><th scope=col>GWES_Meta_pvalue</th><th scope=col>RRA_pvalue</th><th scope=col>GO_logFC</th><th scope=col>GO_pvalue</th><th scope=col>GO_zscore</th><th scope=col>GO_term</th></tr>\n",
       "\t<tr><th></th><th scope=col>&lt;chr&gt;</th><th scope=col>&lt;dbl&gt;</th><th scope=col>&lt;dbl&gt;</th><th scope=col>&lt;dbl&gt;</th><th scope=col>&lt;dbl&gt;</th><th scope=col>&lt;dbl&gt;</th><th scope=col>&lt;dbl&gt;</th><th scope=col>&lt;dbl&gt;</th><th scope=col>&lt;chr&gt;</th></tr>\n",
       "</thead>\n",
       "<tbody>\n",
       "\t<tr><th scope=row>1</th><td>AGK  </td><td>0.011701</td><td>-0.4228629</td><td>9.770571e-17</td><td>0.000535121</td><td>-0.4228629</td><td>7.675239e-05</td><td>-2.309401</td><td>CC:mitochondrial inner membrane</td></tr>\n",
       "\t<tr><th scope=row>2</th><td>AGK  </td><td>0.011701</td><td>-0.4228629</td><td>9.770571e-17</td><td>0.000535121</td><td>-0.4228629</td><td>1.599920e-03</td><td>-2.449490</td><td>CC:mitochondrial outer membrane</td></tr>\n",
       "\t<tr><th scope=row>3</th><td>AP3S1</td><td>0.452860</td><td>-0.2611915</td><td>4.832733e-16</td><td>0.017040484</td><td>-0.2611915</td><td>2.785301e-04</td><td>-1.897367</td><td>CC:axon part                   </td></tr>\n",
       "</tbody>\n",
       "</table>\n"
      ],
      "text/latex": [
       "A data.frame: 3 x 9\n",
       "\\begin{tabular}{r|lllllllll}\n",
       "  & genesymbol & GWAS\\_Metal\\_pvalue & GWES\\_Meta\\_logFC & GWES\\_Meta\\_pvalue & RRA\\_pvalue & GO\\_logFC & GO\\_pvalue & GO\\_zscore & GO\\_term\\\\\n",
       "  & <chr> & <dbl> & <dbl> & <dbl> & <dbl> & <dbl> & <dbl> & <dbl> & <chr>\\\\\n",
       "\\hline\n",
       "\t1 & AGK   & 0.011701 & -0.4228629 & 9.770571e-17 & 0.000535121 & -0.4228629 & 7.675239e-05 & -2.309401 & CC:mitochondrial inner membrane\\\\\n",
       "\t2 & AGK   & 0.011701 & -0.4228629 & 9.770571e-17 & 0.000535121 & -0.4228629 & 1.599920e-03 & -2.449490 & CC:mitochondrial outer membrane\\\\\n",
       "\t3 & AP3S1 & 0.452860 & -0.2611915 & 4.832733e-16 & 0.017040484 & -0.2611915 & 2.785301e-04 & -1.897367 & CC:axon part                   \\\\\n",
       "\\end{tabular}\n"
      ],
      "text/markdown": [
       "\n",
       "A data.frame: 3 x 9\n",
       "\n",
       "| <!--/--> | genesymbol &lt;chr&gt; | GWAS_Metal_pvalue &lt;dbl&gt; | GWES_Meta_logFC &lt;dbl&gt; | GWES_Meta_pvalue &lt;dbl&gt; | RRA_pvalue &lt;dbl&gt; | GO_logFC &lt;dbl&gt; | GO_pvalue &lt;dbl&gt; | GO_zscore &lt;dbl&gt; | GO_term &lt;chr&gt; |\n",
       "|---|---|---|---|---|---|---|---|---|---|\n",
       "| 1 | AGK   | 0.011701 | -0.4228629 | 9.770571e-17 | 0.000535121 | -0.4228629 | 7.675239e-05 | -2.309401 | CC:mitochondrial inner membrane |\n",
       "| 2 | AGK   | 0.011701 | -0.4228629 | 9.770571e-17 | 0.000535121 | -0.4228629 | 1.599920e-03 | -2.449490 | CC:mitochondrial outer membrane |\n",
       "| 3 | AP3S1 | 0.452860 | -0.2611915 | 4.832733e-16 | 0.017040484 | -0.2611915 | 2.785301e-04 | -1.897367 | CC:axon part                    |\n",
       "\n"
      ],
      "text/plain": [
       "  genesymbol GWAS_Metal_pvalue GWES_Meta_logFC GWES_Meta_pvalue RRA_pvalue \n",
       "1 AGK        0.011701          -0.4228629      9.770571e-17     0.000535121\n",
       "2 AGK        0.011701          -0.4228629      9.770571e-17     0.000535121\n",
       "3 AP3S1      0.452860          -0.2611915      4.832733e-16     0.017040484\n",
       "  GO_logFC   GO_pvalue    GO_zscore GO_term                        \n",
       "1 -0.4228629 7.675239e-05 -2.309401 CC:mitochondrial inner membrane\n",
       "2 -0.4228629 1.599920e-03 -2.449490 CC:mitochondrial outer membrane\n",
       "3 -0.2611915 2.785301e-04 -1.897367 CC:axon part                   "
      ]
     },
     "metadata": {},
     "output_type": "display_data"
    }
   ],
   "source": [
    "names(pheatmap.df)<-c(\"genesymbol\",\"GWAS_Metal_pvalue\",\"GWES_Meta_logFC\",\"GWES_Meta_pvalue\",\"RRA_pvalue\",\"GO_logFC\",\"GO_pvalue\",\"GO_zscore\",\"GO_term\")\n",
    "head(pheatmap.df,n=3)"
   ]
  },
  {
   "cell_type": "code",
   "execution_count": 13,
   "metadata": {},
   "outputs": [
    {
     "data": {
      "text/html": [
       "<style>\n",
       ".list-inline {list-style: none; margin:0; padding: 0}\n",
       ".list-inline>li {display: inline-block}\n",
       ".list-inline>li:not(:last-child)::after {content: \"\\00b7\"; padding: 0 .5ex}\n",
       "</style>\n",
       "<ol class=list-inline><li>46</li><li>5</li></ol>\n"
      ],
      "text/latex": [
       "\\begin{enumerate*}\n",
       "\\item 46\n",
       "\\item 5\n",
       "\\end{enumerate*}\n"
      ],
      "text/markdown": [
       "1. 46\n",
       "2. 5\n",
       "\n",
       "\n"
      ],
      "text/plain": [
       "[1] 46  5"
      ]
     },
     "metadata": {},
     "output_type": "display_data"
    }
   ],
   "source": [
    "pheatmap.df.unique<-unique(pheatmap.df[, 1:5])\n",
    "dim(pheatmap.df.unique)"
   ]
  },
  {
   "cell_type": "markdown",
   "metadata": {},
   "source": [
    "## pheatmap plot"
   ]
  },
  {
   "cell_type": "markdown",
   "metadata": {},
   "source": [
    " - per rows: GO terms (including kegg, reactome..) -  dataframe reduced_circ needed from notebook: enrichment_GOplots_template.ipynb\n",
    " - per column: genes - reduced_circ \n",
    " - annotation rows (left ): log(pvalue) GoPlot and z-score (per category) - reduced_circ\n",
    " - annotation columns (top):  log(value) GWAS METAL, log(pvalue) GWES MetaDE and log(pvalue) integrative\n",
    " - cell: logFC MetaDE (same log fc in columns - representing genes)\n",
    " \n",
    "logFC MetaDE is equal to logFC of GO enrichment"
   ]
  },
  {
   "cell_type": "markdown",
   "metadata": {},
   "source": [
    "### annotations for columns"
   ]
  },
  {
   "cell_type": "code",
   "execution_count": 14,
   "metadata": {},
   "outputs": [
    {
     "data": {
      "text/html": [
       "46"
      ],
      "text/latex": [
       "46"
      ],
      "text/markdown": [
       "46"
      ],
      "text/plain": [
       "[1] 46"
      ]
     },
     "metadata": {},
     "output_type": "display_data"
    },
    {
     "data": {
      "text/html": [
       "42"
      ],
      "text/latex": [
       "42"
      ],
      "text/markdown": [
       "42"
      ],
      "text/plain": [
       "[1] 42"
      ]
     },
     "metadata": {},
     "output_type": "display_data"
    },
    {
     "data": {
      "text/html": [
       "46"
      ],
      "text/latex": [
       "46"
      ],
      "text/markdown": [
       "46"
      ],
      "text/plain": [
       "[1] 46"
      ]
     },
     "metadata": {},
     "output_type": "display_data"
    }
   ],
   "source": [
    "length(unique(pheatmap.df$GWAS_Metal_pvalue))\n",
    "length(unique(pheatmap.df$GWES_Meta_pvalue))\n",
    "length(unique(pheatmap.df$RRA_pvalue))"
   ]
  },
  {
   "cell_type": "code",
   "execution_count": 15,
   "metadata": {
    "ExecuteTime": {
     "end_time": "2019-01-04T10:42:37.138204Z",
     "start_time": "2019-01-04T10:42:37.054Z"
    },
    "tags": []
   },
   "outputs": [],
   "source": [
    "# Generate annotations for columns\n",
    "annotation_col = data.frame(\n",
    "                    MetaGWASp = -log10(pheatmap.df.unique$GWAS_Metal_pvalue), \n",
    "                    MetaGWESp = -log10(pheatmap.df.unique$GWES_Meta_pvalue),\n",
    "                    RRAp = -log10(pheatmap.df.unique$RRA_pvalue)) \n",
    "rownames(annotation_col) = pheatmap.df.unique$genesymbol\n",
    "colnames(annotation_col)=c(\"-log(MetaGWASpvalue)\",\"-log(MetaGWESpvalue)\",\"-log(RRApvalue)\")"
   ]
  },
  {
   "cell_type": "code",
   "execution_count": 16,
   "metadata": {
    "ExecuteTime": {
     "end_time": "2019-01-04T10:45:16.825557Z",
     "start_time": "2019-01-04T10:45:16.759Z"
    }
   },
   "outputs": [
    {
     "data": {
      "text/html": [
       "<table class=\"dataframe\">\n",
       "<caption>A data.frame: 3 x 3</caption>\n",
       "<thead>\n",
       "\t<tr><th></th><th scope=col>-log(MetaGWASpvalue)</th><th scope=col>-log(MetaGWESpvalue)</th><th scope=col>-log(RRApvalue)</th></tr>\n",
       "\t<tr><th></th><th scope=col>&lt;dbl&gt;</th><th scope=col>&lt;dbl&gt;</th><th scope=col>&lt;dbl&gt;</th></tr>\n",
       "</thead>\n",
       "<tbody>\n",
       "\t<tr><th scope=row>AGK</th><td>1.9317770</td><td>16.01008</td><td>3.271548</td></tr>\n",
       "\t<tr><th scope=row>AP3S1</th><td>0.3440360</td><td>15.31581</td><td>1.768518</td></tr>\n",
       "\t<tr><th scope=row>ARF5</th><td>0.2347041</td><td>14.95569</td><td>1.708361</td></tr>\n",
       "</tbody>\n",
       "</table>\n"
      ],
      "text/latex": [
       "A data.frame: 3 x 3\n",
       "\\begin{tabular}{r|lll}\n",
       "  & -log(MetaGWASpvalue) & -log(MetaGWESpvalue) & -log(RRApvalue)\\\\\n",
       "  & <dbl> & <dbl> & <dbl>\\\\\n",
       "\\hline\n",
       "\tAGK & 1.9317770 & 16.01008 & 3.271548\\\\\n",
       "\tAP3S1 & 0.3440360 & 15.31581 & 1.768518\\\\\n",
       "\tARF5 & 0.2347041 & 14.95569 & 1.708361\\\\\n",
       "\\end{tabular}\n"
      ],
      "text/markdown": [
       "\n",
       "A data.frame: 3 x 3\n",
       "\n",
       "| <!--/--> | -log(MetaGWASpvalue) &lt;dbl&gt; | -log(MetaGWESpvalue) &lt;dbl&gt; | -log(RRApvalue) &lt;dbl&gt; |\n",
       "|---|---|---|---|\n",
       "| AGK | 1.9317770 | 16.01008 | 3.271548 |\n",
       "| AP3S1 | 0.3440360 | 15.31581 | 1.768518 |\n",
       "| ARF5 | 0.2347041 | 14.95569 | 1.708361 |\n",
       "\n"
      ],
      "text/plain": [
       "      -log(MetaGWASpvalue) -log(MetaGWESpvalue) -log(RRApvalue)\n",
       "AGK   1.9317770            16.01008             3.271548       \n",
       "AP3S1 0.3440360            15.31581             1.768518       \n",
       "ARF5  0.2347041            14.95569             1.708361       "
      ]
     },
     "metadata": {},
     "output_type": "display_data"
    }
   ],
   "source": [
    "head(annotation_col,n=3)"
   ]
  },
  {
   "cell_type": "code",
   "execution_count": 17,
   "metadata": {},
   "outputs": [
    {
     "data": {
      "text/html": [
       "<style>\n",
       ".dl-inline {width: auto; margin:0; padding: 0}\n",
       ".dl-inline>dt, .dl-inline>dd {float: none; width: auto; display: inline-block}\n",
       ".dl-inline>dt::after {content: \":\\0020\"; padding-right: .5ex}\n",
       ".dl-inline>dt:not(:first-of-type) {padding-left: .5ex}\n",
       "</style><dl class=dl-inline><dt>-log(MetaGWASpvalue)</dt><dd>FALSE</dd><dt>-log(MetaGWESpvalue)</dt><dd>FALSE</dd><dt>-log(RRApvalue)</dt><dd>FALSE</dd></dl>\n"
      ],
      "text/latex": [
       "\\begin{description*}\n",
       "\\item[-log(MetaGWASpvalue)] FALSE\n",
       "\\item[-log(MetaGWESpvalue)] FALSE\n",
       "\\item[-log(RRApvalue)] FALSE\n",
       "\\end{description*}\n"
      ],
      "text/markdown": [
       "-log(MetaGWASpvalue)\n",
       ":   FALSE-log(MetaGWESpvalue)\n",
       ":   FALSE-log(RRApvalue)\n",
       ":   FALSE\n",
       "\n"
      ],
      "text/plain": [
       "-log(MetaGWASpvalue) -log(MetaGWESpvalue)      -log(RRApvalue) \n",
       "               FALSE                FALSE                FALSE "
      ]
     },
     "metadata": {},
     "output_type": "display_data"
    }
   ],
   "source": [
    "apply(annotation_col, 2, function(x) any(is.infinite(x)))"
   ]
  },
  {
   "cell_type": "markdown",
   "metadata": {},
   "source": [
    "### annotations for rows, same zscore and p value per term"
   ]
  },
  {
   "cell_type": "code",
   "execution_count": 18,
   "metadata": {
    "ExecuteTime": {
     "end_time": "2019-01-04T10:46:51.645012Z",
     "start_time": "2019-01-04T10:46:51.572Z"
    }
   },
   "outputs": [
    {
     "data": {
      "text/html": [
       "<style>\n",
       ".list-inline {list-style: none; margin:0; padding: 0}\n",
       ".list-inline>li {display: inline-block}\n",
       ".list-inline>li:not(:last-child)::after {content: \"\\00b7\"; padding: 0 .5ex}\n",
       "</style>\n",
       "<ol class=list-inline><li>60</li><li>9</li></ol>\n"
      ],
      "text/latex": [
       "\\begin{enumerate*}\n",
       "\\item 60\n",
       "\\item 9\n",
       "\\end{enumerate*}\n"
      ],
      "text/markdown": [
       "1. 60\n",
       "2. 9\n",
       "\n",
       "\n"
      ],
      "text/plain": [
       "[1] 60  9"
      ]
     },
     "metadata": {},
     "output_type": "display_data"
    },
    {
     "data": {
      "text/html": [
       "<table class=\"dataframe\">\n",
       "<caption>A data.frame: 3 x 9</caption>\n",
       "<thead>\n",
       "\t<tr><th></th><th scope=col>genesymbol</th><th scope=col>GWAS_Metal_pvalue</th><th scope=col>GWES_Meta_logFC</th><th scope=col>GWES_Meta_pvalue</th><th scope=col>RRA_pvalue</th><th scope=col>GO_logFC</th><th scope=col>GO_pvalue</th><th scope=col>GO_zscore</th><th scope=col>GO_term</th></tr>\n",
       "\t<tr><th></th><th scope=col>&lt;chr&gt;</th><th scope=col>&lt;dbl&gt;</th><th scope=col>&lt;dbl&gt;</th><th scope=col>&lt;dbl&gt;</th><th scope=col>&lt;dbl&gt;</th><th scope=col>&lt;dbl&gt;</th><th scope=col>&lt;dbl&gt;</th><th scope=col>&lt;dbl&gt;</th><th scope=col>&lt;chr&gt;</th></tr>\n",
       "</thead>\n",
       "<tbody>\n",
       "\t<tr><th scope=row>1</th><td>AGK  </td><td>0.011701</td><td>-0.4228629</td><td>9.770571e-17</td><td>0.000535121</td><td>-0.4228629</td><td>7.675239e-05</td><td>-2.309401</td><td>CC:mitochondrial inner membrane</td></tr>\n",
       "\t<tr><th scope=row>2</th><td>AGK  </td><td>0.011701</td><td>-0.4228629</td><td>9.770571e-17</td><td>0.000535121</td><td>-0.4228629</td><td>1.599920e-03</td><td>-2.449490</td><td>CC:mitochondrial outer membrane</td></tr>\n",
       "\t<tr><th scope=row>3</th><td>AP3S1</td><td>0.452860</td><td>-0.2611915</td><td>4.832733e-16</td><td>0.017040484</td><td>-0.2611915</td><td>2.785301e-04</td><td>-1.897367</td><td>CC:axon part                   </td></tr>\n",
       "</tbody>\n",
       "</table>\n"
      ],
      "text/latex": [
       "A data.frame: 3 x 9\n",
       "\\begin{tabular}{r|lllllllll}\n",
       "  & genesymbol & GWAS\\_Metal\\_pvalue & GWES\\_Meta\\_logFC & GWES\\_Meta\\_pvalue & RRA\\_pvalue & GO\\_logFC & GO\\_pvalue & GO\\_zscore & GO\\_term\\\\\n",
       "  & <chr> & <dbl> & <dbl> & <dbl> & <dbl> & <dbl> & <dbl> & <dbl> & <chr>\\\\\n",
       "\\hline\n",
       "\t1 & AGK   & 0.011701 & -0.4228629 & 9.770571e-17 & 0.000535121 & -0.4228629 & 7.675239e-05 & -2.309401 & CC:mitochondrial inner membrane\\\\\n",
       "\t2 & AGK   & 0.011701 & -0.4228629 & 9.770571e-17 & 0.000535121 & -0.4228629 & 1.599920e-03 & -2.449490 & CC:mitochondrial outer membrane\\\\\n",
       "\t3 & AP3S1 & 0.452860 & -0.2611915 & 4.832733e-16 & 0.017040484 & -0.2611915 & 2.785301e-04 & -1.897367 & CC:axon part                   \\\\\n",
       "\\end{tabular}\n"
      ],
      "text/markdown": [
       "\n",
       "A data.frame: 3 x 9\n",
       "\n",
       "| <!--/--> | genesymbol &lt;chr&gt; | GWAS_Metal_pvalue &lt;dbl&gt; | GWES_Meta_logFC &lt;dbl&gt; | GWES_Meta_pvalue &lt;dbl&gt; | RRA_pvalue &lt;dbl&gt; | GO_logFC &lt;dbl&gt; | GO_pvalue &lt;dbl&gt; | GO_zscore &lt;dbl&gt; | GO_term &lt;chr&gt; |\n",
       "|---|---|---|---|---|---|---|---|---|---|\n",
       "| 1 | AGK   | 0.011701 | -0.4228629 | 9.770571e-17 | 0.000535121 | -0.4228629 | 7.675239e-05 | -2.309401 | CC:mitochondrial inner membrane |\n",
       "| 2 | AGK   | 0.011701 | -0.4228629 | 9.770571e-17 | 0.000535121 | -0.4228629 | 1.599920e-03 | -2.449490 | CC:mitochondrial outer membrane |\n",
       "| 3 | AP3S1 | 0.452860 | -0.2611915 | 4.832733e-16 | 0.017040484 | -0.2611915 | 2.785301e-04 | -1.897367 | CC:axon part                    |\n",
       "\n"
      ],
      "text/plain": [
       "  genesymbol GWAS_Metal_pvalue GWES_Meta_logFC GWES_Meta_pvalue RRA_pvalue \n",
       "1 AGK        0.011701          -0.4228629      9.770571e-17     0.000535121\n",
       "2 AGK        0.011701          -0.4228629      9.770571e-17     0.000535121\n",
       "3 AP3S1      0.452860          -0.2611915      4.832733e-16     0.017040484\n",
       "  GO_logFC   GO_pvalue    GO_zscore GO_term                        \n",
       "1 -0.4228629 7.675239e-05 -2.309401 CC:mitochondrial inner membrane\n",
       "2 -0.4228629 1.599920e-03 -2.449490 CC:mitochondrial outer membrane\n",
       "3 -0.2611915 2.785301e-04 -1.897367 CC:axon part                   "
      ]
     },
     "metadata": {},
     "output_type": "display_data"
    }
   ],
   "source": [
    "dim(pheatmap.df)\n",
    "head(pheatmap.df,n=3)"
   ]
  },
  {
   "cell_type": "code",
   "execution_count": 19,
   "metadata": {
    "ExecuteTime": {
     "end_time": "2019-01-04T10:47:28.814185Z",
     "start_time": "2019-01-04T10:47:28.699Z"
    }
   },
   "outputs": [
    {
     "data": {
      "text/html": [
       "<table class=\"dataframe\">\n",
       "<caption>A data.frame: 3 x 9</caption>\n",
       "<thead>\n",
       "\t<tr><th></th><th scope=col>genesymbol</th><th scope=col>GWAS_Metal_pvalue</th><th scope=col>GWES_Meta_logFC</th><th scope=col>GWES_Meta_pvalue</th><th scope=col>RRA_pvalue</th><th scope=col>GO_logFC</th><th scope=col>GO_pvalue</th><th scope=col>GO_zscore</th><th scope=col>GO_term</th></tr>\n",
       "\t<tr><th></th><th scope=col>&lt;chr&gt;</th><th scope=col>&lt;dbl&gt;</th><th scope=col>&lt;dbl&gt;</th><th scope=col>&lt;dbl&gt;</th><th scope=col>&lt;dbl&gt;</th><th scope=col>&lt;dbl&gt;</th><th scope=col>&lt;dbl&gt;</th><th scope=col>&lt;dbl&gt;</th><th scope=col>&lt;chr&gt;</th></tr>\n",
       "</thead>\n",
       "<tbody>\n",
       "\t<tr><th scope=row>1</th><td>AGK   </td><td>0.011701</td><td>-0.4228629</td><td>9.770571e-17</td><td>0.000535121</td><td>-0.4228629</td><td>7.675239e-05</td><td>-2.309401</td><td>CC:mitochondrial inner membrane</td></tr>\n",
       "\t<tr><th scope=row>13</th><td>CHCHD6</td><td>0.793740</td><td>-0.5635188</td><td>3.505915e-18</td><td>0.006534757</td><td>-0.5635188</td><td>7.675239e-05</td><td>-2.309401</td><td>CC:mitochondrial inner membrane</td></tr>\n",
       "\t<tr><th scope=row>14</th><td>COA1  </td><td>0.236490</td><td> 0.3425142</td><td>2.355818e-16</td><td>0.014326147</td><td> 0.3425142</td><td>7.675239e-05</td><td>-2.309401</td><td>CC:mitochondrial inner membrane</td></tr>\n",
       "</tbody>\n",
       "</table>\n"
      ],
      "text/latex": [
       "A data.frame: 3 x 9\n",
       "\\begin{tabular}{r|lllllllll}\n",
       "  & genesymbol & GWAS\\_Metal\\_pvalue & GWES\\_Meta\\_logFC & GWES\\_Meta\\_pvalue & RRA\\_pvalue & GO\\_logFC & GO\\_pvalue & GO\\_zscore & GO\\_term\\\\\n",
       "  & <chr> & <dbl> & <dbl> & <dbl> & <dbl> & <dbl> & <dbl> & <dbl> & <chr>\\\\\n",
       "\\hline\n",
       "\t1 & AGK    & 0.011701 & -0.4228629 & 9.770571e-17 & 0.000535121 & -0.4228629 & 7.675239e-05 & -2.309401 & CC:mitochondrial inner membrane\\\\\n",
       "\t13 & CHCHD6 & 0.793740 & -0.5635188 & 3.505915e-18 & 0.006534757 & -0.5635188 & 7.675239e-05 & -2.309401 & CC:mitochondrial inner membrane\\\\\n",
       "\t14 & COA1   & 0.236490 &  0.3425142 & 2.355818e-16 & 0.014326147 &  0.3425142 & 7.675239e-05 & -2.309401 & CC:mitochondrial inner membrane\\\\\n",
       "\\end{tabular}\n"
      ],
      "text/markdown": [
       "\n",
       "A data.frame: 3 x 9\n",
       "\n",
       "| <!--/--> | genesymbol &lt;chr&gt; | GWAS_Metal_pvalue &lt;dbl&gt; | GWES_Meta_logFC &lt;dbl&gt; | GWES_Meta_pvalue &lt;dbl&gt; | RRA_pvalue &lt;dbl&gt; | GO_logFC &lt;dbl&gt; | GO_pvalue &lt;dbl&gt; | GO_zscore &lt;dbl&gt; | GO_term &lt;chr&gt; |\n",
       "|---|---|---|---|---|---|---|---|---|---|\n",
       "| 1 | AGK    | 0.011701 | -0.4228629 | 9.770571e-17 | 0.000535121 | -0.4228629 | 7.675239e-05 | -2.309401 | CC:mitochondrial inner membrane |\n",
       "| 13 | CHCHD6 | 0.793740 | -0.5635188 | 3.505915e-18 | 0.006534757 | -0.5635188 | 7.675239e-05 | -2.309401 | CC:mitochondrial inner membrane |\n",
       "| 14 | COA1   | 0.236490 |  0.3425142 | 2.355818e-16 | 0.014326147 |  0.3425142 | 7.675239e-05 | -2.309401 | CC:mitochondrial inner membrane |\n",
       "\n"
      ],
      "text/plain": [
       "   genesymbol GWAS_Metal_pvalue GWES_Meta_logFC GWES_Meta_pvalue RRA_pvalue \n",
       "1  AGK        0.011701          -0.4228629      9.770571e-17     0.000535121\n",
       "13 CHCHD6     0.793740          -0.5635188      3.505915e-18     0.006534757\n",
       "14 COA1       0.236490           0.3425142      2.355818e-16     0.014326147\n",
       "   GO_logFC   GO_pvalue    GO_zscore GO_term                        \n",
       "1  -0.4228629 7.675239e-05 -2.309401 CC:mitochondrial inner membrane\n",
       "13 -0.5635188 7.675239e-05 -2.309401 CC:mitochondrial inner membrane\n",
       "14  0.3425142 7.675239e-05 -2.309401 CC:mitochondrial inner membrane"
      ]
     },
     "metadata": {},
     "output_type": "display_data"
    }
   ],
   "source": [
    "head(pheatmap.df[pheatmap.df$GO_term==\"CC:mitochondrial inner membrane\" ,],n=3)"
   ]
  },
  {
   "cell_type": "code",
   "execution_count": 20,
   "metadata": {
    "ExecuteTime": {
     "end_time": "2019-01-04T10:55:26.305541Z",
     "start_time": "2019-01-04T10:55:26.232Z"
    },
    "tags": []
   },
   "outputs": [],
   "source": [
    "# Generate annotations for rows \n",
    "annotation_row = data.frame(\n",
    "                    GOp = -log10(unique(pheatmap.df$GO_pvalue)),\n",
    "                    GOz = pheatmap.df[!duplicated(pheatmap.df$GO_term),]$GO_zscore)\n",
    "#rownames(annotation_row) = unique(pheatmap.df$GO_term) # also valid\n",
    "rownames(annotation_row) =   pheatmap.df[!duplicated(pheatmap.df$GO_term),]$GO_term\n",
    "colnames(annotation_row)=c(\"-log(GOpvalue)\",\"GOzscore\")"
   ]
  },
  {
   "cell_type": "code",
   "execution_count": 21,
   "metadata": {
    "ExecuteTime": {
     "end_time": "2019-01-04T10:56:15.090434Z",
     "start_time": "2019-01-04T10:56:15.034Z"
    }
   },
   "outputs": [],
   "source": [
    "#-log10(0.002849047) correct"
   ]
  },
  {
   "cell_type": "code",
   "execution_count": 22,
   "metadata": {
    "ExecuteTime": {
     "end_time": "2019-01-04T10:55:28.816519Z",
     "start_time": "2019-01-04T10:55:28.749Z"
    }
   },
   "outputs": [
    {
     "data": {
      "text/html": [
       "<table class=\"dataframe\">\n",
       "<caption>A data.frame: 6 x 2</caption>\n",
       "<thead>\n",
       "\t<tr><th></th><th scope=col>-log(GOpvalue)</th><th scope=col>GOzscore</th></tr>\n",
       "\t<tr><th></th><th scope=col>&lt;dbl&gt;</th><th scope=col>&lt;dbl&gt;</th></tr>\n",
       "</thead>\n",
       "<tbody>\n",
       "\t<tr><th scope=row>CC:mitochondrial inner membrane</th><td>4.114908</td><td>-2.309401</td></tr>\n",
       "\t<tr><th scope=row>CC:mitochondrial outer membrane</th><td>2.795902</td><td>-2.449490</td></tr>\n",
       "\t<tr><th scope=row>CC:axon part</th><td>3.555128</td><td>-1.897367</td></tr>\n",
       "\t<tr><th scope=row>MF:GTP binding</th><td>2.973739</td><td>-1.264911</td></tr>\n",
       "\t<tr><th scope=row>MF:GTPase activity</th><td>3.102152</td><td>-1.666667</td></tr>\n",
       "\t<tr><th scope=row>MF:proton-transporting ATPase activity, rotational mechanism</th><td>3.051104</td><td>-1.732051</td></tr>\n",
       "</tbody>\n",
       "</table>\n"
      ],
      "text/latex": [
       "A data.frame: 6 x 2\n",
       "\\begin{tabular}{r|ll}\n",
       "  & -log(GOpvalue) & GOzscore\\\\\n",
       "  & <dbl> & <dbl>\\\\\n",
       "\\hline\n",
       "\tCC:mitochondrial inner membrane & 4.114908 & -2.309401\\\\\n",
       "\tCC:mitochondrial outer membrane & 2.795902 & -2.449490\\\\\n",
       "\tCC:axon part & 3.555128 & -1.897367\\\\\n",
       "\tMF:GTP binding & 2.973739 & -1.264911\\\\\n",
       "\tMF:GTPase activity & 3.102152 & -1.666667\\\\\n",
       "\tMF:proton-transporting ATPase activity, rotational mechanism & 3.051104 & -1.732051\\\\\n",
       "\\end{tabular}\n"
      ],
      "text/markdown": [
       "\n",
       "A data.frame: 6 x 2\n",
       "\n",
       "| <!--/--> | -log(GOpvalue) &lt;dbl&gt; | GOzscore &lt;dbl&gt; |\n",
       "|---|---|---|\n",
       "| CC:mitochondrial inner membrane | 4.114908 | -2.309401 |\n",
       "| CC:mitochondrial outer membrane | 2.795902 | -2.449490 |\n",
       "| CC:axon part | 3.555128 | -1.897367 |\n",
       "| MF:GTP binding | 2.973739 | -1.264911 |\n",
       "| MF:GTPase activity | 3.102152 | -1.666667 |\n",
       "| MF:proton-transporting ATPase activity, rotational mechanism | 3.051104 | -1.732051 |\n",
       "\n"
      ],
      "text/plain": [
       "                                                             -log(GOpvalue)\n",
       "CC:mitochondrial inner membrane                              4.114908      \n",
       "CC:mitochondrial outer membrane                              2.795902      \n",
       "CC:axon part                                                 3.555128      \n",
       "MF:GTP binding                                               2.973739      \n",
       "MF:GTPase activity                                           3.102152      \n",
       "MF:proton-transporting ATPase activity, rotational mechanism 3.051104      \n",
       "                                                             GOzscore \n",
       "CC:mitochondrial inner membrane                              -2.309401\n",
       "CC:mitochondrial outer membrane                              -2.449490\n",
       "CC:axon part                                                 -1.897367\n",
       "MF:GTP binding                                               -1.264911\n",
       "MF:GTPase activity                                           -1.666667\n",
       "MF:proton-transporting ATPase activity, rotational mechanism -1.732051"
      ]
     },
     "metadata": {},
     "output_type": "display_data"
    }
   ],
   "source": [
    "head(annotation_row)"
   ]
  },
  {
   "cell_type": "code",
   "execution_count": 23,
   "metadata": {},
   "outputs": [
    {
     "data": {
      "text/html": [
       "<style>\n",
       ".dl-inline {width: auto; margin:0; padding: 0}\n",
       ".dl-inline>dt, .dl-inline>dd {float: none; width: auto; display: inline-block}\n",
       ".dl-inline>dt::after {content: \":\\0020\"; padding-right: .5ex}\n",
       ".dl-inline>dt:not(:first-of-type) {padding-left: .5ex}\n",
       "</style><dl class=dl-inline><dt>-log(GOpvalue)</dt><dd>FALSE</dd><dt>GOzscore</dt><dd>FALSE</dd></dl>\n"
      ],
      "text/latex": [
       "\\begin{description*}\n",
       "\\item[-log(GOpvalue)] FALSE\n",
       "\\item[GOzscore] FALSE\n",
       "\\end{description*}\n"
      ],
      "text/markdown": [
       "-log(GOpvalue)\n",
       ":   FALSEGOzscore\n",
       ":   FALSE\n",
       "\n"
      ],
      "text/plain": [
       "-log(GOpvalue)       GOzscore \n",
       "         FALSE          FALSE "
      ]
     },
     "metadata": {},
     "output_type": "display_data"
    }
   ],
   "source": [
    "apply(annotation_row, 2, function(x) any(is.infinite(x)))"
   ]
  },
  {
   "cell_type": "markdown",
   "metadata": {},
   "source": [
    "### Prepare dataset with data that goes into cells (logFC of Meta GWES (same logFC per gene, so same value per column in heatmap.\n",
    "\n",
    "Create it from annotation_col and annotation_row to ensure order of genes and terms are the same so the logFC values correspond to the correct gene."
   ]
  },
  {
   "cell_type": "code",
   "execution_count": 24,
   "metadata": {
    "ExecuteTime": {
     "end_time": "2019-01-04T10:59:13.573667Z",
     "start_time": "2019-01-04T10:59:13.484Z"
    }
   },
   "outputs": [
    {
     "data": {
      "text/html": [
       "<style>\n",
       ".list-inline {list-style: none; margin:0; padding: 0}\n",
       ".list-inline>li {display: inline-block}\n",
       ".list-inline>li:not(:last-child)::after {content: \"\\00b7\"; padding: 0 .5ex}\n",
       "</style>\n",
       "<ol class=list-inline><li>60</li><li>2</li></ol>\n"
      ],
      "text/latex": [
       "\\begin{enumerate*}\n",
       "\\item 60\n",
       "\\item 2\n",
       "\\end{enumerate*}\n"
      ],
      "text/markdown": [
       "1. 60\n",
       "2. 2\n",
       "\n",
       "\n"
      ],
      "text/plain": [
       "[1] 60  2"
      ]
     },
     "metadata": {},
     "output_type": "display_data"
    },
    {
     "data": {
      "text/html": [
       "<style>\n",
       ".list-inline {list-style: none; margin:0; padding: 0}\n",
       ".list-inline>li {display: inline-block}\n",
       ".list-inline>li:not(:last-child)::after {content: \"\\00b7\"; padding: 0 .5ex}\n",
       "</style>\n",
       "<ol class=list-inline><li>46</li><li>2</li></ol>\n"
      ],
      "text/latex": [
       "\\begin{enumerate*}\n",
       "\\item 46\n",
       "\\item 2\n",
       "\\end{enumerate*}\n"
      ],
      "text/markdown": [
       "1. 46\n",
       "2. 2\n",
       "\n",
       "\n"
      ],
      "text/plain": [
       "[1] 46  2"
      ]
     },
     "metadata": {},
     "output_type": "display_data"
    },
    {
     "data": {
      "text/html": [
       "<table class=\"dataframe\">\n",
       "<caption>A data.frame: 3 x 2</caption>\n",
       "<thead>\n",
       "\t<tr><th></th><th scope=col>genesymbol</th><th scope=col>GWES_Meta_logFC</th></tr>\n",
       "\t<tr><th></th><th scope=col>&lt;chr&gt;</th><th scope=col>&lt;dbl&gt;</th></tr>\n",
       "</thead>\n",
       "<tbody>\n",
       "\t<tr><th scope=row>1</th><td>AGK  </td><td>-0.4228629</td></tr>\n",
       "\t<tr><th scope=row>3</th><td>AP3S1</td><td>-0.2611915</td></tr>\n",
       "\t<tr><th scope=row>4</th><td>ARF5 </td><td>-0.3855896</td></tr>\n",
       "</tbody>\n",
       "</table>\n"
      ],
      "text/latex": [
       "A data.frame: 3 x 2\n",
       "\\begin{tabular}{r|ll}\n",
       "  & genesymbol & GWES\\_Meta\\_logFC\\\\\n",
       "  & <chr> & <dbl>\\\\\n",
       "\\hline\n",
       "\t1 & AGK   & -0.4228629\\\\\n",
       "\t3 & AP3S1 & -0.2611915\\\\\n",
       "\t4 & ARF5  & -0.3855896\\\\\n",
       "\\end{tabular}\n"
      ],
      "text/markdown": [
       "\n",
       "A data.frame: 3 x 2\n",
       "\n",
       "| <!--/--> | genesymbol &lt;chr&gt; | GWES_Meta_logFC &lt;dbl&gt; |\n",
       "|---|---|---|\n",
       "| 1 | AGK   | -0.4228629 |\n",
       "| 3 | AP3S1 | -0.2611915 |\n",
       "| 4 | ARF5  | -0.3855896 |\n",
       "\n"
      ],
      "text/plain": [
       "  genesymbol GWES_Meta_logFC\n",
       "1 AGK        -0.4228629     \n",
       "3 AP3S1      -0.2611915     \n",
       "4 ARF5       -0.3855896     "
      ]
     },
     "metadata": {},
     "output_type": "display_data"
    }
   ],
   "source": [
    "gene.logfc.df=pheatmap.df[, c(which(names(pheatmap.df) %in% c(\"genesymbol\",\"GWES_Meta_logFC\")))]\n",
    "dim(gene.logfc.df)\n",
    "gene.logfc.df=unique(gene.logfc.df)\n",
    "dim(gene.logfc.df)\n",
    "head(gene.logfc.df,n=3)"
   ]
  },
  {
   "cell_type": "code",
   "execution_count": 25,
   "metadata": {
    "ExecuteTime": {
     "end_time": "2019-01-04T10:59:35.301229Z",
     "start_time": "2019-01-04T10:59:35.224Z"
    }
   },
   "outputs": [
    {
     "data": {
      "text/html": [
       "<style>\n",
       ".list-inline {list-style: none; margin:0; padding: 0}\n",
       ".list-inline>li {display: inline-block}\n",
       ".list-inline>li:not(:last-child)::after {content: \"\\00b7\"; padding: 0 .5ex}\n",
       "</style>\n",
       "<ol class=list-inline><li>46</li><li>1</li></ol>\n"
      ],
      "text/latex": [
       "\\begin{enumerate*}\n",
       "\\item 46\n",
       "\\item 1\n",
       "\\end{enumerate*}\n"
      ],
      "text/markdown": [
       "1. 46\n",
       "2. 1\n",
       "\n",
       "\n"
      ],
      "text/plain": [
       "[1] 46  1"
      ]
     },
     "metadata": {},
     "output_type": "display_data"
    },
    {
     "data": {
      "text/html": [
       "<table class=\"dataframe\">\n",
       "<caption>A data.frame: 3 x 1</caption>\n",
       "<thead>\n",
       "\t<tr><th></th><th scope=col>GWES_Meta_logFC</th></tr>\n",
       "\t<tr><th></th><th scope=col>&lt;dbl&gt;</th></tr>\n",
       "</thead>\n",
       "<tbody>\n",
       "\t<tr><th scope=row>AGK</th><td>-0.4228629</td></tr>\n",
       "\t<tr><th scope=row>AP3S1</th><td>-0.2611915</td></tr>\n",
       "\t<tr><th scope=row>ARF5</th><td>-0.3855896</td></tr>\n",
       "</tbody>\n",
       "</table>\n"
      ],
      "text/latex": [
       "A data.frame: 3 x 1\n",
       "\\begin{tabular}{r|l}\n",
       "  & GWES\\_Meta\\_logFC\\\\\n",
       "  & <dbl>\\\\\n",
       "\\hline\n",
       "\tAGK & -0.4228629\\\\\n",
       "\tAP3S1 & -0.2611915\\\\\n",
       "\tARF5 & -0.3855896\\\\\n",
       "\\end{tabular}\n"
      ],
      "text/markdown": [
       "\n",
       "A data.frame: 3 x 1\n",
       "\n",
       "| <!--/--> | GWES_Meta_logFC &lt;dbl&gt; |\n",
       "|---|---|\n",
       "| AGK | -0.4228629 |\n",
       "| AP3S1 | -0.2611915 |\n",
       "| ARF5 | -0.3855896 |\n",
       "\n"
      ],
      "text/plain": [
       "      GWES_Meta_logFC\n",
       "AGK   -0.4228629     \n",
       "AP3S1 -0.2611915     \n",
       "ARF5  -0.3855896     "
      ]
     },
     "metadata": {},
     "output_type": "display_data"
    }
   ],
   "source": [
    "gene.logfc.df1=gene.logfc.df[,2, drop=F]\n",
    "rownames(gene.logfc.df1)=gene.logfc.df$genesymbol\n",
    "dim(gene.logfc.df1)\n",
    "head(gene.logfc.df1,n=3)"
   ]
  },
  {
   "cell_type": "raw",
   "metadata": {
    "ExecuteTime": {
     "end_time": "2018-12-11T15:07:04.716917Z",
     "start_time": "2018-12-11T15:07:00.143Z"
    }
   },
   "source": [
    "pheatmap.df[pheatmap.df$genesymbol==\"HLA-DRA\" ,]"
   ]
  },
  {
   "cell_type": "raw",
   "metadata": {
    "ExecuteTime": {
     "end_time": "2018-12-12T08:55:01.566023Z",
     "start_time": "2018-12-12T08:55:01.500Z"
    }
   },
   "source": [
    "annotation_col[\"HLA-DRA\" ,]\n",
    "gene.logfc.df1[\"HLA-DRA\" ,]"
   ]
  },
  {
   "cell_type": "code",
   "execution_count": 26,
   "metadata": {
    "ExecuteTime": {
     "end_time": "2019-01-04T11:00:08.748168Z",
     "start_time": "2019-01-04T11:00:08.517Z"
    }
   },
   "outputs": [
    {
     "data": {
      "text/html": [
       "<table class=\"dataframe\">\n",
       "<caption>A matrix: 1 x 46 of type dbl</caption>\n",
       "<thead>\n",
       "\t<tr><th></th><th scope=col>AGK</th><th scope=col>AP3S1</th><th scope=col>ARF5</th><th scope=col>ATP6V1D</th><th scope=col>ATP6V1E1</th><th scope=col>ATP6V1H</th><th scope=col>CBR4</th><th scope=col>CDC42</th><th scope=col>CHCHD6</th><th scope=col>COA1</th><th scope=col>...</th><th scope=col>SRD5A1</th><th scope=col>SWSAP1</th><th scope=col>TCF3</th><th scope=col>THEM4</th><th scope=col>TRAP1</th><th scope=col>TUBB2A</th><th scope=col>TUBB3</th><th scope=col>TUBG2</th><th scope=col>UQCRC2</th><th scope=col>WDR82</th></tr>\n",
       "</thead>\n",
       "<tbody>\n",
       "\t<tr><th scope=row>GWES_Meta_logFC</th><td>-0.4228629</td><td>-0.2611915</td><td>-0.3855896</td><td>-0.4387399</td><td>-0.4662518</td><td>-0.7845283</td><td>0.4981714</td><td>-0.9239166</td><td>-0.5635188</td><td>0.3425142</td><td>...</td><td>-0.7378637</td><td>0.5000698</td><td>0.343015</td><td>0.2387783</td><td>-0.3342395</td><td>-0.7222265</td><td>-0.6179527</td><td>-0.3456181</td><td>-0.4003298</td><td>0.2865586</td></tr>\n",
       "</tbody>\n",
       "</table>\n"
      ],
      "text/latex": [
       "A matrix: 1 x 46 of type dbl\n",
       "\\begin{tabular}{r|lllllllllllllllllllll}\n",
       "  & AGK & AP3S1 & ARF5 & ATP6V1D & ATP6V1E1 & ATP6V1H & CBR4 & CDC42 & CHCHD6 & COA1 & ... & SRD5A1 & SWSAP1 & TCF3 & THEM4 & TRAP1 & TUBB2A & TUBB3 & TUBG2 & UQCRC2 & WDR82\\\\\n",
       "\\hline\n",
       "\tGWES\\_Meta\\_logFC & -0.4228629 & -0.2611915 & -0.3855896 & -0.4387399 & -0.4662518 & -0.7845283 & 0.4981714 & -0.9239166 & -0.5635188 & 0.3425142 & ... & -0.7378637 & 0.5000698 & 0.343015 & 0.2387783 & -0.3342395 & -0.7222265 & -0.6179527 & -0.3456181 & -0.4003298 & 0.2865586\\\\\n",
       "\\end{tabular}\n"
      ],
      "text/markdown": [
       "\n",
       "A matrix: 1 x 46 of type dbl\n",
       "\n",
       "| <!--/--> | AGK | AP3S1 | ARF5 | ATP6V1D | ATP6V1E1 | ATP6V1H | CBR4 | CDC42 | CHCHD6 | COA1 | ... | SRD5A1 | SWSAP1 | TCF3 | THEM4 | TRAP1 | TUBB2A | TUBB3 | TUBG2 | UQCRC2 | WDR82 |\n",
       "|---|---|---|---|---|---|---|---|---|---|---|---|---|---|---|---|---|---|---|---|---|---|\n",
       "| GWES_Meta_logFC | -0.4228629 | -0.2611915 | -0.3855896 | -0.4387399 | -0.4662518 | -0.7845283 | 0.4981714 | -0.9239166 | -0.5635188 | 0.3425142 | ... | -0.7378637 | 0.5000698 | 0.343015 | 0.2387783 | -0.3342395 | -0.7222265 | -0.6179527 | -0.3456181 | -0.4003298 | 0.2865586 |\n",
       "\n"
      ],
      "text/plain": [
       "                AGK        AP3S1      ARF5       ATP6V1D    ATP6V1E1  \n",
       "GWES_Meta_logFC -0.4228629 -0.2611915 -0.3855896 -0.4387399 -0.4662518\n",
       "                ATP6V1H    CBR4      CDC42      CHCHD6     COA1      ...\n",
       "GWES_Meta_logFC -0.7845283 0.4981714 -0.9239166 -0.5635188 0.3425142 ...\n",
       "                SRD5A1     SWSAP1    TCF3     THEM4     TRAP1      TUBB2A    \n",
       "GWES_Meta_logFC -0.7378637 0.5000698 0.343015 0.2387783 -0.3342395 -0.7222265\n",
       "                TUBB3      TUBG2      UQCRC2     WDR82    \n",
       "GWES_Meta_logFC -0.6179527 -0.3456181 -0.4003298 0.2865586"
      ]
     },
     "metadata": {},
     "output_type": "display_data"
    }
   ],
   "source": [
    "t(gene.logfc.df1)"
   ]
  },
  {
   "cell_type": "code",
   "execution_count": 27,
   "metadata": {
    "ExecuteTime": {
     "end_time": "2019-01-04T11:00:39.928459Z",
     "start_time": "2019-01-04T11:00:39.849Z"
    }
   },
   "outputs": [
    {
     "data": {
      "text/html": [
       "<style>\n",
       ".list-inline {list-style: none; margin:0; padding: 0}\n",
       ".list-inline>li {display: inline-block}\n",
       ".list-inline>li:not(:last-child)::after {content: \"\\00b7\"; padding: 0 .5ex}\n",
       "</style>\n",
       "<ol class=list-inline><li>10</li><li>46</li></ol>\n"
      ],
      "text/latex": [
       "\\begin{enumerate*}\n",
       "\\item 10\n",
       "\\item 46\n",
       "\\end{enumerate*}\n"
      ],
      "text/markdown": [
       "1. 10\n",
       "2. 46\n",
       "\n",
       "\n"
      ],
      "text/plain": [
       "[1] 10 46"
      ]
     },
     "metadata": {},
     "output_type": "display_data"
    },
    {
     "data": {
      "text/html": [
       "<table class=\"dataframe\">\n",
       "<caption>A matrix: 3 x 46 of type dbl</caption>\n",
       "<thead>\n",
       "\t<tr><th></th><th scope=col>AGK</th><th scope=col>AP3S1</th><th scope=col>ARF5</th><th scope=col>ATP6V1D</th><th scope=col>ATP6V1E1</th><th scope=col>ATP6V1H</th><th scope=col>CBR4</th><th scope=col>CDC42</th><th scope=col>CHCHD6</th><th scope=col>COA1</th><th scope=col>...</th><th scope=col>SRD5A1</th><th scope=col>SWSAP1</th><th scope=col>TCF3</th><th scope=col>THEM4</th><th scope=col>TRAP1</th><th scope=col>TUBB2A</th><th scope=col>TUBB3</th><th scope=col>TUBG2</th><th scope=col>UQCRC2</th><th scope=col>WDR82</th></tr>\n",
       "</thead>\n",
       "<tbody>\n",
       "\t<tr><th scope=row>CC:mitochondrial inner membrane</th><td>-0.4228629</td><td>-0.2611915</td><td>-0.3855896</td><td>-0.4387399</td><td>-0.4662518</td><td>-0.7845283</td><td>0.4981714</td><td>-0.9239166</td><td>-0.5635188</td><td>0.3425142</td><td>...</td><td>-0.7378637</td><td>0.5000698</td><td>0.343015</td><td>0.2387783</td><td>-0.3342395</td><td>-0.7222265</td><td>-0.6179527</td><td>-0.3456181</td><td>-0.4003298</td><td>0.2865586</td></tr>\n",
       "\t<tr><th scope=row>CC:mitochondrial outer membrane</th><td>-0.4228629</td><td>-0.2611915</td><td>-0.3855896</td><td>-0.4387399</td><td>-0.4662518</td><td>-0.7845283</td><td>0.4981714</td><td>-0.9239166</td><td>-0.5635188</td><td>0.3425142</td><td>...</td><td>-0.7378637</td><td>0.5000698</td><td>0.343015</td><td>0.2387783</td><td>-0.3342395</td><td>-0.7222265</td><td>-0.6179527</td><td>-0.3456181</td><td>-0.4003298</td><td>0.2865586</td></tr>\n",
       "\t<tr><th scope=row>CC:axon part</th><td>-0.4228629</td><td>-0.2611915</td><td>-0.3855896</td><td>-0.4387399</td><td>-0.4662518</td><td>-0.7845283</td><td>0.4981714</td><td>-0.9239166</td><td>-0.5635188</td><td>0.3425142</td><td>...</td><td>-0.7378637</td><td>0.5000698</td><td>0.343015</td><td>0.2387783</td><td>-0.3342395</td><td>-0.7222265</td><td>-0.6179527</td><td>-0.3456181</td><td>-0.4003298</td><td>0.2865586</td></tr>\n",
       "</tbody>\n",
       "</table>\n"
      ],
      "text/latex": [
       "A matrix: 3 x 46 of type dbl\n",
       "\\begin{tabular}{r|lllllllllllllllllllll}\n",
       "  & AGK & AP3S1 & ARF5 & ATP6V1D & ATP6V1E1 & ATP6V1H & CBR4 & CDC42 & CHCHD6 & COA1 & ... & SRD5A1 & SWSAP1 & TCF3 & THEM4 & TRAP1 & TUBB2A & TUBB3 & TUBG2 & UQCRC2 & WDR82\\\\\n",
       "\\hline\n",
       "\tCC:mitochondrial inner membrane & -0.4228629 & -0.2611915 & -0.3855896 & -0.4387399 & -0.4662518 & -0.7845283 & 0.4981714 & -0.9239166 & -0.5635188 & 0.3425142 & ... & -0.7378637 & 0.5000698 & 0.343015 & 0.2387783 & -0.3342395 & -0.7222265 & -0.6179527 & -0.3456181 & -0.4003298 & 0.2865586\\\\\n",
       "\tCC:mitochondrial outer membrane & -0.4228629 & -0.2611915 & -0.3855896 & -0.4387399 & -0.4662518 & -0.7845283 & 0.4981714 & -0.9239166 & -0.5635188 & 0.3425142 & ... & -0.7378637 & 0.5000698 & 0.343015 & 0.2387783 & -0.3342395 & -0.7222265 & -0.6179527 & -0.3456181 & -0.4003298 & 0.2865586\\\\\n",
       "\tCC:axon part & -0.4228629 & -0.2611915 & -0.3855896 & -0.4387399 & -0.4662518 & -0.7845283 & 0.4981714 & -0.9239166 & -0.5635188 & 0.3425142 & ... & -0.7378637 & 0.5000698 & 0.343015 & 0.2387783 & -0.3342395 & -0.7222265 & -0.6179527 & -0.3456181 & -0.4003298 & 0.2865586\\\\\n",
       "\\end{tabular}\n"
      ],
      "text/markdown": [
       "\n",
       "A matrix: 3 x 46 of type dbl\n",
       "\n",
       "| <!--/--> | AGK | AP3S1 | ARF5 | ATP6V1D | ATP6V1E1 | ATP6V1H | CBR4 | CDC42 | CHCHD6 | COA1 | ... | SRD5A1 | SWSAP1 | TCF3 | THEM4 | TRAP1 | TUBB2A | TUBB3 | TUBG2 | UQCRC2 | WDR82 |\n",
       "|---|---|---|---|---|---|---|---|---|---|---|---|---|---|---|---|---|---|---|---|---|---|\n",
       "| CC:mitochondrial inner membrane | -0.4228629 | -0.2611915 | -0.3855896 | -0.4387399 | -0.4662518 | -0.7845283 | 0.4981714 | -0.9239166 | -0.5635188 | 0.3425142 | ... | -0.7378637 | 0.5000698 | 0.343015 | 0.2387783 | -0.3342395 | -0.7222265 | -0.6179527 | -0.3456181 | -0.4003298 | 0.2865586 |\n",
       "| CC:mitochondrial outer membrane | -0.4228629 | -0.2611915 | -0.3855896 | -0.4387399 | -0.4662518 | -0.7845283 | 0.4981714 | -0.9239166 | -0.5635188 | 0.3425142 | ... | -0.7378637 | 0.5000698 | 0.343015 | 0.2387783 | -0.3342395 | -0.7222265 | -0.6179527 | -0.3456181 | -0.4003298 | 0.2865586 |\n",
       "| CC:axon part | -0.4228629 | -0.2611915 | -0.3855896 | -0.4387399 | -0.4662518 | -0.7845283 | 0.4981714 | -0.9239166 | -0.5635188 | 0.3425142 | ... | -0.7378637 | 0.5000698 | 0.343015 | 0.2387783 | -0.3342395 | -0.7222265 | -0.6179527 | -0.3456181 | -0.4003298 | 0.2865586 |\n",
       "\n"
      ],
      "text/plain": [
       "                                AGK        AP3S1      ARF5       ATP6V1D   \n",
       "CC:mitochondrial inner membrane -0.4228629 -0.2611915 -0.3855896 -0.4387399\n",
       "CC:mitochondrial outer membrane -0.4228629 -0.2611915 -0.3855896 -0.4387399\n",
       "CC:axon part                    -0.4228629 -0.2611915 -0.3855896 -0.4387399\n",
       "                                ATP6V1E1   ATP6V1H    CBR4      CDC42     \n",
       "CC:mitochondrial inner membrane -0.4662518 -0.7845283 0.4981714 -0.9239166\n",
       "CC:mitochondrial outer membrane -0.4662518 -0.7845283 0.4981714 -0.9239166\n",
       "CC:axon part                    -0.4662518 -0.7845283 0.4981714 -0.9239166\n",
       "                                CHCHD6     COA1      ... SRD5A1     SWSAP1   \n",
       "CC:mitochondrial inner membrane -0.5635188 0.3425142 ... -0.7378637 0.5000698\n",
       "CC:mitochondrial outer membrane -0.5635188 0.3425142 ... -0.7378637 0.5000698\n",
       "CC:axon part                    -0.5635188 0.3425142 ... -0.7378637 0.5000698\n",
       "                                TCF3     THEM4     TRAP1      TUBB2A    \n",
       "CC:mitochondrial inner membrane 0.343015 0.2387783 -0.3342395 -0.7222265\n",
       "CC:mitochondrial outer membrane 0.343015 0.2387783 -0.3342395 -0.7222265\n",
       "CC:axon part                    0.343015 0.2387783 -0.3342395 -0.7222265\n",
       "                                TUBB3      TUBG2      UQCRC2     WDR82    \n",
       "CC:mitochondrial inner membrane -0.6179527 -0.3456181 -0.4003298 0.2865586\n",
       "CC:mitochondrial outer membrane -0.6179527 -0.3456181 -0.4003298 0.2865586\n",
       "CC:axon part                    -0.6179527 -0.3456181 -0.4003298 0.2865586"
      ]
     },
     "metadata": {},
     "output_type": "display_data"
    }
   ],
   "source": [
    "nrows=dim(annotation_row)[1] # number of GO terms\n",
    "cell.data=do.call(\"rbind\", replicate(nrows, t(gene.logfc.df1), simplify = FALSE)) # copy same rows as many times as Go terms are\n",
    "rownames(cell.data)=rownames(annotation_row)\n",
    "dim(cell.data)\n",
    "head(cell.data,n=3)"
   ]
  },
  {
   "cell_type": "code",
   "execution_count": 28,
   "metadata": {
    "ExecuteTime": {
     "end_time": "2019-01-04T11:01:06.135296Z",
     "start_time": "2019-01-04T11:01:06.051Z"
    }
   },
   "outputs": [
    {
     "data": {
      "text/html": [
       "<table class=\"dataframe\">\n",
       "<caption>A matrix: 3 x 46 of type dbl</caption>\n",
       "<thead>\n",
       "\t<tr><th></th><th scope=col>AGK</th><th scope=col>AP3S1</th><th scope=col>ARF5</th><th scope=col>ATP6V1D</th><th scope=col>ATP6V1E1</th><th scope=col>ATP6V1H</th><th scope=col>CBR4</th><th scope=col>CDC42</th><th scope=col>CHCHD6</th><th scope=col>COA1</th><th scope=col>...</th><th scope=col>SRD5A1</th><th scope=col>SWSAP1</th><th scope=col>TCF3</th><th scope=col>THEM4</th><th scope=col>TRAP1</th><th scope=col>TUBB2A</th><th scope=col>TUBB3</th><th scope=col>TUBG2</th><th scope=col>UQCRC2</th><th scope=col>WDR82</th></tr>\n",
       "</thead>\n",
       "<tbody>\n",
       "\t<tr><th scope=row>CC:DNA repair complex</th><td>-0.4228629</td><td>-0.2611915</td><td>-0.3855896</td><td>-0.4387399</td><td>-0.4662518</td><td>-0.7845283</td><td>0.4981714</td><td>-0.9239166</td><td>-0.5635188</td><td>0.3425142</td><td>...</td><td>-0.7378637</td><td>0.5000698</td><td>0.343015</td><td>0.2387783</td><td>-0.3342395</td><td>-0.7222265</td><td>-0.6179527</td><td>-0.3456181</td><td>-0.4003298</td><td>0.2865586</td></tr>\n",
       "\t<tr><th scope=row>CC:Set1C/COMPASS complex</th><td>-0.4228629</td><td>-0.2611915</td><td>-0.3855896</td><td>-0.4387399</td><td>-0.4662518</td><td>-0.7845283</td><td>0.4981714</td><td>-0.9239166</td><td>-0.5635188</td><td>0.3425142</td><td>...</td><td>-0.7378637</td><td>0.5000698</td><td>0.343015</td><td>0.2387783</td><td>-0.3342395</td><td>-0.7222265</td><td>-0.6179527</td><td>-0.3456181</td><td>-0.4003298</td><td>0.2865586</td></tr>\n",
       "\t<tr><th scope=row>CC:axon part</th><td>-0.4228629</td><td>-0.2611915</td><td>-0.3855896</td><td>-0.4387399</td><td>-0.4662518</td><td>-0.7845283</td><td>0.4981714</td><td>-0.9239166</td><td>-0.5635188</td><td>0.3425142</td><td>...</td><td>-0.7378637</td><td>0.5000698</td><td>0.343015</td><td>0.2387783</td><td>-0.3342395</td><td>-0.7222265</td><td>-0.6179527</td><td>-0.3456181</td><td>-0.4003298</td><td>0.2865586</td></tr>\n",
       "</tbody>\n",
       "</table>\n"
      ],
      "text/latex": [
       "A matrix: 3 x 46 of type dbl\n",
       "\\begin{tabular}{r|lllllllllllllllllllll}\n",
       "  & AGK & AP3S1 & ARF5 & ATP6V1D & ATP6V1E1 & ATP6V1H & CBR4 & CDC42 & CHCHD6 & COA1 & ... & SRD5A1 & SWSAP1 & TCF3 & THEM4 & TRAP1 & TUBB2A & TUBB3 & TUBG2 & UQCRC2 & WDR82\\\\\n",
       "\\hline\n",
       "\tCC:DNA repair complex & -0.4228629 & -0.2611915 & -0.3855896 & -0.4387399 & -0.4662518 & -0.7845283 & 0.4981714 & -0.9239166 & -0.5635188 & 0.3425142 & ... & -0.7378637 & 0.5000698 & 0.343015 & 0.2387783 & -0.3342395 & -0.7222265 & -0.6179527 & -0.3456181 & -0.4003298 & 0.2865586\\\\\n",
       "\tCC:Set1C/COMPASS complex & -0.4228629 & -0.2611915 & -0.3855896 & -0.4387399 & -0.4662518 & -0.7845283 & 0.4981714 & -0.9239166 & -0.5635188 & 0.3425142 & ... & -0.7378637 & 0.5000698 & 0.343015 & 0.2387783 & -0.3342395 & -0.7222265 & -0.6179527 & -0.3456181 & -0.4003298 & 0.2865586\\\\\n",
       "\tCC:axon part & -0.4228629 & -0.2611915 & -0.3855896 & -0.4387399 & -0.4662518 & -0.7845283 & 0.4981714 & -0.9239166 & -0.5635188 & 0.3425142 & ... & -0.7378637 & 0.5000698 & 0.343015 & 0.2387783 & -0.3342395 & -0.7222265 & -0.6179527 & -0.3456181 & -0.4003298 & 0.2865586\\\\\n",
       "\\end{tabular}\n"
      ],
      "text/markdown": [
       "\n",
       "A matrix: 3 x 46 of type dbl\n",
       "\n",
       "| <!--/--> | AGK | AP3S1 | ARF5 | ATP6V1D | ATP6V1E1 | ATP6V1H | CBR4 | CDC42 | CHCHD6 | COA1 | ... | SRD5A1 | SWSAP1 | TCF3 | THEM4 | TRAP1 | TUBB2A | TUBB3 | TUBG2 | UQCRC2 | WDR82 |\n",
       "|---|---|---|---|---|---|---|---|---|---|---|---|---|---|---|---|---|---|---|---|---|---|\n",
       "| CC:DNA repair complex | -0.4228629 | -0.2611915 | -0.3855896 | -0.4387399 | -0.4662518 | -0.7845283 | 0.4981714 | -0.9239166 | -0.5635188 | 0.3425142 | ... | -0.7378637 | 0.5000698 | 0.343015 | 0.2387783 | -0.3342395 | -0.7222265 | -0.6179527 | -0.3456181 | -0.4003298 | 0.2865586 |\n",
       "| CC:Set1C/COMPASS complex | -0.4228629 | -0.2611915 | -0.3855896 | -0.4387399 | -0.4662518 | -0.7845283 | 0.4981714 | -0.9239166 | -0.5635188 | 0.3425142 | ... | -0.7378637 | 0.5000698 | 0.343015 | 0.2387783 | -0.3342395 | -0.7222265 | -0.6179527 | -0.3456181 | -0.4003298 | 0.2865586 |\n",
       "| CC:axon part | -0.4228629 | -0.2611915 | -0.3855896 | -0.4387399 | -0.4662518 | -0.7845283 | 0.4981714 | -0.9239166 | -0.5635188 | 0.3425142 | ... | -0.7378637 | 0.5000698 | 0.343015 | 0.2387783 | -0.3342395 | -0.7222265 | -0.6179527 | -0.3456181 | -0.4003298 | 0.2865586 |\n",
       "\n"
      ],
      "text/plain": [
       "                         AGK        AP3S1      ARF5       ATP6V1D    ATP6V1E1  \n",
       "CC:DNA repair complex    -0.4228629 -0.2611915 -0.3855896 -0.4387399 -0.4662518\n",
       "CC:Set1C/COMPASS complex -0.4228629 -0.2611915 -0.3855896 -0.4387399 -0.4662518\n",
       "CC:axon part             -0.4228629 -0.2611915 -0.3855896 -0.4387399 -0.4662518\n",
       "                         ATP6V1H    CBR4      CDC42      CHCHD6     COA1     \n",
       "CC:DNA repair complex    -0.7845283 0.4981714 -0.9239166 -0.5635188 0.3425142\n",
       "CC:Set1C/COMPASS complex -0.7845283 0.4981714 -0.9239166 -0.5635188 0.3425142\n",
       "CC:axon part             -0.7845283 0.4981714 -0.9239166 -0.5635188 0.3425142\n",
       "                         ... SRD5A1     SWSAP1    TCF3     THEM4     TRAP1     \n",
       "CC:DNA repair complex    ... -0.7378637 0.5000698 0.343015 0.2387783 -0.3342395\n",
       "CC:Set1C/COMPASS complex ... -0.7378637 0.5000698 0.343015 0.2387783 -0.3342395\n",
       "CC:axon part             ... -0.7378637 0.5000698 0.343015 0.2387783 -0.3342395\n",
       "                         TUBB2A     TUBB3      TUBG2      UQCRC2     WDR82    \n",
       "CC:DNA repair complex    -0.7222265 -0.6179527 -0.3456181 -0.4003298 0.2865586\n",
       "CC:Set1C/COMPASS complex -0.7222265 -0.6179527 -0.3456181 -0.4003298 0.2865586\n",
       "CC:axon part             -0.7222265 -0.6179527 -0.3456181 -0.4003298 0.2865586"
      ]
     },
     "metadata": {},
     "output_type": "display_data"
    }
   ],
   "source": [
    "cell.data <- cell.data[ order(row.names(cell.data)), ]\n",
    "head(cell.data,n=3)"
   ]
  },
  {
   "cell_type": "markdown",
   "metadata": {},
   "source": [
    "* **if the gene does not belong to a category, the cell value will be 0 (it can not be NA because heatmap fails)**"
   ]
  },
  {
   "cell_type": "code",
   "execution_count": 29,
   "metadata": {
    "ExecuteTime": {
     "end_time": "2019-01-04T11:01:24.175838Z",
     "start_time": "2019-01-04T11:01:24.124Z"
    },
    "tags": []
   },
   "outputs": [],
   "source": [
    "cell.data2=cell.data"
   ]
  },
  {
   "cell_type": "raw",
   "metadata": {
    "ExecuteTime": {
     "end_time": "2018-12-11T13:23:28.483838Z",
     "start_time": "2018-12-11T13:23:23.956Z"
    }
   },
   "source": [
    "# test\n",
    "rownames(cell.data2)[1]\n",
    "as.character(enrich.E3[enrich.E3$cat_term==\"BP:DNA conformation change\" ,]$genesymbol)\n",
    "as.character(enrich.E3[enrich.E3$cat_term==rownames(cell.data2)[1] ,]$genesymbol)"
   ]
  },
  {
   "cell_type": "code",
   "execution_count": 30,
   "metadata": {
    "ExecuteTime": {
     "end_time": "2019-01-04T11:01:38.637192Z",
     "start_time": "2019-01-04T11:01:38.546Z"
    },
    "tags": []
   },
   "outputs": [],
   "source": [
    "for (i in 1:nrow(cell.data2)){ # GO terms\n",
    "    genes.in.cat=as.character(enrich[enrich$cat_term==rownames(cell.data2)[i] ,]$genesymbol) # genes in selected Go term\n",
    "    for (j in 1:ncol(cell.data2)){ # genes\n",
    "        if(!colnames(cell.data2)[j] %in% genes.in.cat){ # if gene is not in category\n",
    "            cell.data2[i,j]=0            \n",
    "        }        \n",
    "    }\n",
    "}"
   ]
  },
  {
   "cell_type": "code",
   "execution_count": 31,
   "metadata": {
    "ExecuteTime": {
     "end_time": "2019-01-04T11:01:41.393781Z",
     "start_time": "2019-01-04T11:01:41.313Z"
    }
   },
   "outputs": [
    {
     "data": {
      "text/html": [
       "<table class=\"dataframe\">\n",
       "<caption>A matrix: 3 x 46 of type dbl</caption>\n",
       "<thead>\n",
       "\t<tr><th></th><th scope=col>AGK</th><th scope=col>AP3S1</th><th scope=col>ARF5</th><th scope=col>ATP6V1D</th><th scope=col>ATP6V1E1</th><th scope=col>ATP6V1H</th><th scope=col>CBR4</th><th scope=col>CDC42</th><th scope=col>CHCHD6</th><th scope=col>COA1</th><th scope=col>...</th><th scope=col>SRD5A1</th><th scope=col>SWSAP1</th><th scope=col>TCF3</th><th scope=col>THEM4</th><th scope=col>TRAP1</th><th scope=col>TUBB2A</th><th scope=col>TUBB3</th><th scope=col>TUBG2</th><th scope=col>UQCRC2</th><th scope=col>WDR82</th></tr>\n",
       "</thead>\n",
       "<tbody>\n",
       "\t<tr><th scope=row>CC:DNA repair complex</th><td>0</td><td> 0.0000000</td><td>0</td><td>0</td><td>0</td><td>0</td><td>0</td><td>0</td><td>0</td><td>0</td><td>...</td><td>0</td><td>0.5000698</td><td>0</td><td>0</td><td>0</td><td>0</td><td>0</td><td>0</td><td>0</td><td>0.0000000</td></tr>\n",
       "\t<tr><th scope=row>CC:Set1C/COMPASS complex</th><td>0</td><td> 0.0000000</td><td>0</td><td>0</td><td>0</td><td>0</td><td>0</td><td>0</td><td>0</td><td>0</td><td>...</td><td>0</td><td>0.0000000</td><td>0</td><td>0</td><td>0</td><td>0</td><td>0</td><td>0</td><td>0</td><td>0.2865586</td></tr>\n",
       "\t<tr><th scope=row>CC:axon part</th><td>0</td><td>-0.2611915</td><td>0</td><td>0</td><td>0</td><td>0</td><td>0</td><td>0</td><td>0</td><td>0</td><td>...</td><td>0</td><td>0.0000000</td><td>0</td><td>0</td><td>0</td><td>0</td><td>0</td><td>0</td><td>0</td><td>0.0000000</td></tr>\n",
       "</tbody>\n",
       "</table>\n"
      ],
      "text/latex": [
       "A matrix: 3 x 46 of type dbl\n",
       "\\begin{tabular}{r|lllllllllllllllllllll}\n",
       "  & AGK & AP3S1 & ARF5 & ATP6V1D & ATP6V1E1 & ATP6V1H & CBR4 & CDC42 & CHCHD6 & COA1 & ... & SRD5A1 & SWSAP1 & TCF3 & THEM4 & TRAP1 & TUBB2A & TUBB3 & TUBG2 & UQCRC2 & WDR82\\\\\n",
       "\\hline\n",
       "\tCC:DNA repair complex & 0 &  0.0000000 & 0 & 0 & 0 & 0 & 0 & 0 & 0 & 0 & ... & 0 & 0.5000698 & 0 & 0 & 0 & 0 & 0 & 0 & 0 & 0.0000000\\\\\n",
       "\tCC:Set1C/COMPASS complex & 0 &  0.0000000 & 0 & 0 & 0 & 0 & 0 & 0 & 0 & 0 & ... & 0 & 0.0000000 & 0 & 0 & 0 & 0 & 0 & 0 & 0 & 0.2865586\\\\\n",
       "\tCC:axon part & 0 & -0.2611915 & 0 & 0 & 0 & 0 & 0 & 0 & 0 & 0 & ... & 0 & 0.0000000 & 0 & 0 & 0 & 0 & 0 & 0 & 0 & 0.0000000\\\\\n",
       "\\end{tabular}\n"
      ],
      "text/markdown": [
       "\n",
       "A matrix: 3 x 46 of type dbl\n",
       "\n",
       "| <!--/--> | AGK | AP3S1 | ARF5 | ATP6V1D | ATP6V1E1 | ATP6V1H | CBR4 | CDC42 | CHCHD6 | COA1 | ... | SRD5A1 | SWSAP1 | TCF3 | THEM4 | TRAP1 | TUBB2A | TUBB3 | TUBG2 | UQCRC2 | WDR82 |\n",
       "|---|---|---|---|---|---|---|---|---|---|---|---|---|---|---|---|---|---|---|---|---|---|\n",
       "| CC:DNA repair complex | 0 |  0.0000000 | 0 | 0 | 0 | 0 | 0 | 0 | 0 | 0 | ... | 0 | 0.5000698 | 0 | 0 | 0 | 0 | 0 | 0 | 0 | 0.0000000 |\n",
       "| CC:Set1C/COMPASS complex | 0 |  0.0000000 | 0 | 0 | 0 | 0 | 0 | 0 | 0 | 0 | ... | 0 | 0.0000000 | 0 | 0 | 0 | 0 | 0 | 0 | 0 | 0.2865586 |\n",
       "| CC:axon part | 0 | -0.2611915 | 0 | 0 | 0 | 0 | 0 | 0 | 0 | 0 | ... | 0 | 0.0000000 | 0 | 0 | 0 | 0 | 0 | 0 | 0 | 0.0000000 |\n",
       "\n"
      ],
      "text/plain": [
       "                         AGK AP3S1      ARF5 ATP6V1D ATP6V1E1 ATP6V1H CBR4\n",
       "CC:DNA repair complex    0    0.0000000 0    0       0        0       0   \n",
       "CC:Set1C/COMPASS complex 0    0.0000000 0    0       0        0       0   \n",
       "CC:axon part             0   -0.2611915 0    0       0        0       0   \n",
       "                         CDC42 CHCHD6 COA1 ... SRD5A1 SWSAP1    TCF3 THEM4\n",
       "CC:DNA repair complex    0     0      0    ... 0      0.5000698 0    0    \n",
       "CC:Set1C/COMPASS complex 0     0      0    ... 0      0.0000000 0    0    \n",
       "CC:axon part             0     0      0    ... 0      0.0000000 0    0    \n",
       "                         TRAP1 TUBB2A TUBB3 TUBG2 UQCRC2 WDR82    \n",
       "CC:DNA repair complex    0     0      0     0     0      0.0000000\n",
       "CC:Set1C/COMPASS complex 0     0      0     0     0      0.2865586\n",
       "CC:axon part             0     0      0     0     0      0.0000000"
      ]
     },
     "metadata": {},
     "output_type": "display_data"
    }
   ],
   "source": [
    "head(cell.data2,n=3)"
   ]
  },
  {
   "cell_type": "code",
   "execution_count": 32,
   "metadata": {
    "ExecuteTime": {
     "end_time": "2019-01-04T11:03:51.443659Z",
     "start_time": "2019-01-04T11:03:51.356Z"
    }
   },
   "outputs": [],
   "source": [
    "# test\n",
    "#enrich[enrich$genesymbol==\"ANK3\" ,]\n",
    "#as.character(enrich[enrich$cat_term==\"BP:negative regulation of potassium ion transport\" ,]$genesymbol)"
   ]
  },
  {
   "cell_type": "code",
   "execution_count": 33,
   "metadata": {
    "ExecuteTime": {
     "end_time": "2019-01-04T11:04:33.354278Z",
     "start_time": "2019-01-04T11:04:33.295Z"
    },
    "scrolled": true
   },
   "outputs": [],
   "source": [
    "#cell.data2[, \"ANK3\"] # correct"
   ]
  },
  {
   "cell_type": "markdown",
   "metadata": {},
   "source": [
    "* **pheatmap**"
   ]
  },
  {
   "cell_type": "code",
   "execution_count": 49,
   "metadata": {
    "ExecuteTime": {
     "end_time": "2019-01-04T11:06:39.176112Z",
     "start_time": "2019-01-04T11:06:38.996Z"
    }
   },
   "outputs": [],
   "source": [
    "library(pheatmap)\n",
    "suppressWarnings(suppressMessages(library(repr)))\n",
    "options(repr.plot.width=12, repr.plot.height=8)"
   ]
  },
  {
   "cell_type": "code",
   "execution_count": 35,
   "metadata": {
    "ExecuteTime": {
     "end_time": "2018-12-05T16:06:35.371072Z",
     "start_time": "2018-12-05T16:06:33.812Z"
    },
    "collapsed": true,
    "jupyter": {
     "outputs_hidden": true
    },
    "tags": []
   },
   "outputs": [
    {
     "data": {
      "text/html": [
       "\n",
       "<table width=\"100%\" summary=\"page for pheatmap {pheatmap}\"><tr><td>pheatmap {pheatmap}</td><td style=\"text-align: right;\">R Documentation</td></tr></table>\n",
       "\n",
       "<h2>A function to draw clustered heatmaps.</h2>\n",
       "\n",
       "<h3>Description</h3>\n",
       "\n",
       "<p>A function to draw clustered heatmaps where one has better control over some graphical \n",
       "parameters such as cell size, etc.\n",
       "</p>\n",
       "\n",
       "\n",
       "<h3>Usage</h3>\n",
       "\n",
       "<pre>\n",
       "pheatmap(mat, color = colorRampPalette(rev(brewer.pal(n = 7, name =\n",
       "  \"RdYlBu\")))(100), kmeans_k = NA, breaks = NA, border_color = \"grey60\",\n",
       "  cellwidth = NA, cellheight = NA, scale = \"none\", cluster_rows = TRUE,\n",
       "  cluster_cols = TRUE, clustering_distance_rows = \"euclidean\",\n",
       "  clustering_distance_cols = \"euclidean\", clustering_method = \"complete\",\n",
       "  clustering_callback = identity2, cutree_rows = NA, cutree_cols = NA,\n",
       "  treeheight_row = ifelse((class(cluster_rows) == \"hclust\") || cluster_rows,\n",
       "  50, 0), treeheight_col = ifelse((class(cluster_cols) == \"hclust\") ||\n",
       "  cluster_cols, 50, 0), legend = TRUE, legend_breaks = NA,\n",
       "  legend_labels = NA, annotation_row = NA, annotation_col = NA,\n",
       "  annotation = NA, annotation_colors = NA, annotation_legend = TRUE,\n",
       "  annotation_names_row = TRUE, annotation_names_col = TRUE,\n",
       "  drop_levels = TRUE, show_rownames = T, show_colnames = T, main = NA,\n",
       "  fontsize = 10, fontsize_row = fontsize, fontsize_col = fontsize,\n",
       "  angle_col = c(\"270\", \"0\", \"45\", \"90\", \"315\"), display_numbers = F,\n",
       "  number_format = \"%.2f\", number_color = \"grey30\", fontsize_number = 0.8\n",
       "  * fontsize, gaps_row = NULL, gaps_col = NULL, labels_row = NULL,\n",
       "  labels_col = NULL, filename = NA, width = NA, height = NA,\n",
       "  silent = FALSE, na_col = \"#DDDDDD\", ...)\n",
       "</pre>\n",
       "\n",
       "\n",
       "<h3>Arguments</h3>\n",
       "\n",
       "<table summary=\"R argblock\">\n",
       "<tr valign=\"top\"><td><code>mat</code></td>\n",
       "<td>\n",
       "<p>numeric matrix of the values to be plotted.</p>\n",
       "</td></tr>\n",
       "<tr valign=\"top\"><td><code>color</code></td>\n",
       "<td>\n",
       "<p>vector of colors used in heatmap.</p>\n",
       "</td></tr>\n",
       "<tr valign=\"top\"><td><code>kmeans_k</code></td>\n",
       "<td>\n",
       "<p>the number of kmeans clusters to make, if we want to aggregate the \n",
       "rows before drawing heatmap. If NA then the rows are not aggregated.</p>\n",
       "</td></tr>\n",
       "<tr valign=\"top\"><td><code>breaks</code></td>\n",
       "<td>\n",
       "<p>a sequence of numbers that covers the range of values in mat and is one \n",
       "element longer than color vector. Used for mapping values to colors. Useful, if needed \n",
       "to map certain values to certain colors, to certain values. If value is NA then the \n",
       "breaks are calculated automatically. When breaks do not cover the range of values, \n",
       "then any value larger than <code>max(breaks)</code> will have the largest color and any value \n",
       "lower than<code> min(breaks)</code> will get the lowest color.</p>\n",
       "</td></tr>\n",
       "<tr valign=\"top\"><td><code>border_color</code></td>\n",
       "<td>\n",
       "<p>color of cell borders on heatmap, use NA if no border should be \n",
       "drawn.</p>\n",
       "</td></tr>\n",
       "<tr valign=\"top\"><td><code>cellwidth</code></td>\n",
       "<td>\n",
       "<p>individual cell width in points. If left as NA, then the values \n",
       "depend on the size of plotting window.</p>\n",
       "</td></tr>\n",
       "<tr valign=\"top\"><td><code>cellheight</code></td>\n",
       "<td>\n",
       "<p>individual cell height in points. If left as NA, \n",
       "then the values depend on the size of plotting window.</p>\n",
       "</td></tr>\n",
       "<tr valign=\"top\"><td><code>scale</code></td>\n",
       "<td>\n",
       "<p>character indicating if the values should be centered and scaled in \n",
       "either the row direction or the column direction, or none. Corresponding values are \n",
       "<code>\"row\"</code>, <code>\"column\"</code> and <code>\"none\"</code></p>\n",
       "</td></tr>\n",
       "<tr valign=\"top\"><td><code>cluster_rows</code></td>\n",
       "<td>\n",
       "<p>boolean values determining if rows should be clustered or <code>hclust</code> object,</p>\n",
       "</td></tr>\n",
       "<tr valign=\"top\"><td><code>cluster_cols</code></td>\n",
       "<td>\n",
       "<p>boolean values determining if columns should be clustered or <code>hclust</code> object.</p>\n",
       "</td></tr>\n",
       "<tr valign=\"top\"><td><code>clustering_distance_rows</code></td>\n",
       "<td>\n",
       "<p>distance measure used in clustering rows. Possible \n",
       "values are <code>\"correlation\"</code> for Pearson correlation and all the distances \n",
       "supported by <code>dist</code>, such as <code>\"euclidean\"</code>, etc. If the value is none \n",
       "of the above it is assumed that a distance matrix is provided.</p>\n",
       "</td></tr>\n",
       "<tr valign=\"top\"><td><code>clustering_distance_cols</code></td>\n",
       "<td>\n",
       "<p>distance measure used in clustering columns. Possible \n",
       "values the same as for clustering_distance_rows.</p>\n",
       "</td></tr>\n",
       "<tr valign=\"top\"><td><code>clustering_method</code></td>\n",
       "<td>\n",
       "<p>clustering method used. Accepts the same values as \n",
       "<code>hclust</code>.</p>\n",
       "</td></tr>\n",
       "<tr valign=\"top\"><td><code>clustering_callback</code></td>\n",
       "<td>\n",
       "<p>callback function to modify the clustering. Is \n",
       "called with two parameters: original <code>hclust</code> object and the matrix \n",
       "used for clustering. Must return a <code>hclust</code> object.</p>\n",
       "</td></tr>\n",
       "<tr valign=\"top\"><td><code>cutree_rows</code></td>\n",
       "<td>\n",
       "<p>number of clusters the rows are divided into, based on the\n",
       "hierarchical clustering (using cutree), if rows are not clustered, the \n",
       "argument is ignored</p>\n",
       "</td></tr>\n",
       "<tr valign=\"top\"><td><code>cutree_cols</code></td>\n",
       "<td>\n",
       "<p>similar to <code>cutree_rows</code>, but for columns</p>\n",
       "</td></tr>\n",
       "<tr valign=\"top\"><td><code>treeheight_row</code></td>\n",
       "<td>\n",
       "<p>the height of a tree for rows, if these are clustered. \n",
       "Default value 50 points.</p>\n",
       "</td></tr>\n",
       "<tr valign=\"top\"><td><code>treeheight_col</code></td>\n",
       "<td>\n",
       "<p>the height of a tree for columns, if these are clustered. \n",
       "Default value 50 points.</p>\n",
       "</td></tr>\n",
       "<tr valign=\"top\"><td><code>legend</code></td>\n",
       "<td>\n",
       "<p>logical to determine if legend should be drawn or not.</p>\n",
       "</td></tr>\n",
       "<tr valign=\"top\"><td><code>legend_breaks</code></td>\n",
       "<td>\n",
       "<p>vector of breakpoints for the legend.</p>\n",
       "</td></tr>\n",
       "<tr valign=\"top\"><td><code>legend_labels</code></td>\n",
       "<td>\n",
       "<p>vector of labels for the <code>legend_breaks</code>.</p>\n",
       "</td></tr>\n",
       "<tr valign=\"top\"><td><code>annotation_row</code></td>\n",
       "<td>\n",
       "<p>data frame that specifies the annotations shown on left\n",
       "side of the heatmap. Each row defines the features for a specific row. The \n",
       "rows in the data and in the annotation are matched using corresponding row\n",
       "names. Note that color schemes takes into account if variable is continuous\n",
       "or discrete.</p>\n",
       "</td></tr>\n",
       "<tr valign=\"top\"><td><code>annotation_col</code></td>\n",
       "<td>\n",
       "<p>similar to annotation_row, but for columns.</p>\n",
       "</td></tr>\n",
       "<tr valign=\"top\"><td><code>annotation</code></td>\n",
       "<td>\n",
       "<p>deprecated parameter that currently sets the annotation_col if it is missing</p>\n",
       "</td></tr>\n",
       "<tr valign=\"top\"><td><code>annotation_colors</code></td>\n",
       "<td>\n",
       "<p>list for specifying annotation_row and \n",
       "annotation_col track colors manually. It is  possible to define the colors \n",
       "for only some of the features. Check examples for  details.</p>\n",
       "</td></tr>\n",
       "<tr valign=\"top\"><td><code>annotation_legend</code></td>\n",
       "<td>\n",
       "<p>boolean value showing if the legend for annotation \n",
       "tracks should be drawn.</p>\n",
       "</td></tr>\n",
       "<tr valign=\"top\"><td><code>annotation_names_row</code></td>\n",
       "<td>\n",
       "<p>boolean value showing if the names for row annotation \n",
       "tracks should be drawn.</p>\n",
       "</td></tr>\n",
       "<tr valign=\"top\"><td><code>annotation_names_col</code></td>\n",
       "<td>\n",
       "<p>boolean value showing if the names for column annotation \n",
       "tracks should be drawn.</p>\n",
       "</td></tr>\n",
       "<tr valign=\"top\"><td><code>drop_levels</code></td>\n",
       "<td>\n",
       "<p>logical to determine if unused levels are also shown in \n",
       "the legend</p>\n",
       "</td></tr>\n",
       "<tr valign=\"top\"><td><code>show_rownames</code></td>\n",
       "<td>\n",
       "<p>boolean specifying if column names are be shown.</p>\n",
       "</td></tr>\n",
       "<tr valign=\"top\"><td><code>show_colnames</code></td>\n",
       "<td>\n",
       "<p>boolean specifying if column names are be shown.</p>\n",
       "</td></tr>\n",
       "<tr valign=\"top\"><td><code>main</code></td>\n",
       "<td>\n",
       "<p>the title of the plot</p>\n",
       "</td></tr>\n",
       "<tr valign=\"top\"><td><code>fontsize</code></td>\n",
       "<td>\n",
       "<p>base fontsize for the plot</p>\n",
       "</td></tr>\n",
       "<tr valign=\"top\"><td><code>fontsize_row</code></td>\n",
       "<td>\n",
       "<p>fontsize for rownames (Default: fontsize)</p>\n",
       "</td></tr>\n",
       "<tr valign=\"top\"><td><code>fontsize_col</code></td>\n",
       "<td>\n",
       "<p>fontsize for colnames (Default: fontsize)</p>\n",
       "</td></tr>\n",
       "<tr valign=\"top\"><td><code>angle_col</code></td>\n",
       "<td>\n",
       "<p>angle of the column labels, right now one can choose only from few \n",
       "predefined options (0, 45, 90, 270 and 315)</p>\n",
       "</td></tr>\n",
       "<tr valign=\"top\"><td><code>display_numbers</code></td>\n",
       "<td>\n",
       "<p>logical determining if the numeric values are also printed to \n",
       "the cells. If this is a matrix (with same dimensions as original matrix), the contents\n",
       "of the matrix are shown instead of original values.</p>\n",
       "</td></tr>\n",
       "<tr valign=\"top\"><td><code>number_format</code></td>\n",
       "<td>\n",
       "<p>format strings (C printf style) of the numbers shown in cells. \n",
       "For example &quot;<code>%.2f</code>&quot; shows 2 decimal places and &quot;<code>%.1e</code>&quot; shows exponential \n",
       "notation (see more in <code>sprintf</code>).</p>\n",
       "</td></tr>\n",
       "<tr valign=\"top\"><td><code>number_color</code></td>\n",
       "<td>\n",
       "<p>color of the text</p>\n",
       "</td></tr>\n",
       "<tr valign=\"top\"><td><code>fontsize_number</code></td>\n",
       "<td>\n",
       "<p>fontsize of the numbers displayed in cells</p>\n",
       "</td></tr>\n",
       "<tr valign=\"top\"><td><code>gaps_row</code></td>\n",
       "<td>\n",
       "<p>vector of row indices that show where to put gaps into\n",
       "heatmap. Used only if the rows are not clustered. See <code>cutree_row</code>\n",
       "to see how to introduce gaps to clustered rows.</p>\n",
       "</td></tr>\n",
       "<tr valign=\"top\"><td><code>gaps_col</code></td>\n",
       "<td>\n",
       "<p>similar to gaps_row, but for columns.</p>\n",
       "</td></tr>\n",
       "<tr valign=\"top\"><td><code>labels_row</code></td>\n",
       "<td>\n",
       "<p>custom labels for rows that are used instead of rownames.</p>\n",
       "</td></tr>\n",
       "<tr valign=\"top\"><td><code>labels_col</code></td>\n",
       "<td>\n",
       "<p>similar to labels_row, but for columns.</p>\n",
       "</td></tr>\n",
       "<tr valign=\"top\"><td><code>filename</code></td>\n",
       "<td>\n",
       "<p>file path where to save the picture. Filetype is decided by \n",
       "the extension in the path. Currently following formats are supported: png, pdf, tiff,\n",
       "bmp, jpeg. Even if the plot does not fit into the plotting window, the file size is \n",
       "calculated so that the plot would fit there, unless specified otherwise.</p>\n",
       "</td></tr>\n",
       "<tr valign=\"top\"><td><code>width</code></td>\n",
       "<td>\n",
       "<p>manual option for determining the output file width in inches.</p>\n",
       "</td></tr>\n",
       "<tr valign=\"top\"><td><code>height</code></td>\n",
       "<td>\n",
       "<p>manual option for determining the output file height in inches.</p>\n",
       "</td></tr>\n",
       "<tr valign=\"top\"><td><code>silent</code></td>\n",
       "<td>\n",
       "<p>do not draw the plot (useful when using the gtable output)</p>\n",
       "</td></tr>\n",
       "<tr valign=\"top\"><td><code>na_col</code></td>\n",
       "<td>\n",
       "<p>specify the color of the NA cell in the matrix.</p>\n",
       "</td></tr>\n",
       "<tr valign=\"top\"><td><code>...</code></td>\n",
       "<td>\n",
       "<p>graphical parameters for the text used in plot. Parameters passed to \n",
       "<code>grid.text</code>, see <code>gpar</code>.</p>\n",
       "</td></tr>\n",
       "</table>\n",
       "\n",
       "\n",
       "<h3>Details</h3>\n",
       "\n",
       "<p>The function also allows to aggregate the rows using kmeans clustering. This is \n",
       "advisable if number of rows is so big that R cannot handle their hierarchical \n",
       "clustering anymore, roughly more than 1000. Instead of showing all the rows \n",
       "separately one can cluster the rows in advance and show only the cluster centers. \n",
       "The number of clusters can be tuned with parameter kmeans_k.\n",
       "</p>\n",
       "\n",
       "\n",
       "<h3>Value</h3>\n",
       "\n",
       "<p>Invisibly a <code>pheatmap</code> object that is a list with components \n",
       "</p>\n",
       "\n",
       "<ul>\n",
       "<li> <p><code>tree_row</code> the clustering of rows as <code>hclust</code> object \n",
       "</p>\n",
       "</li>\n",
       "<li> <p><code>tree_col</code> the clustering of columns as <code>hclust</code> object\n",
       "</p>\n",
       "</li>\n",
       "<li> <p><code>kmeans</code> the kmeans clustering of rows if parameter <code>kmeans_k</code> was \n",
       "specified \n",
       "</p>\n",
       "</li>\n",
       "<li> <p><code>gtable</code> a <code>gtable</code> object containing the heatmap, \n",
       "can be used for combining the heatmap with other plots \n",
       "</p>\n",
       "</li></ul>\n",
       "\n",
       "\n",
       "\n",
       "<h3>Author(s)</h3>\n",
       "\n",
       "<p>Raivo Kolde &lt;rkolde@gmail.com&gt;\n",
       "</p>\n",
       "\n",
       "\n",
       "<h3>Examples</h3>\n",
       "\n",
       "<pre>\n",
       "# Create test matrix\n",
       "test = matrix(rnorm(200), 20, 10)\n",
       "test[1:10, seq(1, 10, 2)] = test[1:10, seq(1, 10, 2)] + 3\n",
       "test[11:20, seq(2, 10, 2)] = test[11:20, seq(2, 10, 2)] + 2\n",
       "test[15:20, seq(2, 10, 2)] = test[15:20, seq(2, 10, 2)] + 4\n",
       "colnames(test) = paste(\"Test\", 1:10, sep = \"\")\n",
       "rownames(test) = paste(\"Gene\", 1:20, sep = \"\")\n",
       "\n",
       "# Draw heatmaps\n",
       "pheatmap(test)\n",
       "pheatmap(test, kmeans_k = 2)\n",
       "pheatmap(test, scale = \"row\", clustering_distance_rows = \"correlation\")\n",
       "pheatmap(test, color = colorRampPalette(c(\"navy\", \"white\", \"firebrick3\"))(50))\n",
       "pheatmap(test, cluster_row = FALSE)\n",
       "pheatmap(test, legend = FALSE)\n",
       "\n",
       "# Show text within cells\n",
       "pheatmap(test, display_numbers = TRUE)\n",
       "pheatmap(test, display_numbers = TRUE, number_format = \"\\%.1e\")\n",
       "pheatmap(test, display_numbers = matrix(ifelse(test &gt; 5, \"*\", \"\"), nrow(test)))\n",
       "pheatmap(test, cluster_row = FALSE, legend_breaks = -1:4, legend_labels = c(\"0\",\n",
       "\"1e-4\", \"1e-3\", \"1e-2\", \"1e-1\", \"1\"))\n",
       "\n",
       "# Fix cell sizes and save to file with correct size\n",
       "pheatmap(test, cellwidth = 15, cellheight = 12, main = \"Example heatmap\")\n",
       "pheatmap(test, cellwidth = 15, cellheight = 12, fontsize = 8, filename = \"test.pdf\")\n",
       "\n",
       "# Generate annotations for rows and columns\n",
       "annotation_col = data.frame(\n",
       "                    CellType = factor(rep(c(\"CT1\", \"CT2\"), 5)), \n",
       "                    Time = 1:5\n",
       "                )\n",
       "rownames(annotation_col) = paste(\"Test\", 1:10, sep = \"\")\n",
       "\n",
       "annotation_row = data.frame(\n",
       "                    GeneClass = factor(rep(c(\"Path1\", \"Path2\", \"Path3\"), c(10, 4, 6)))\n",
       "                )\n",
       "rownames(annotation_row) = paste(\"Gene\", 1:20, sep = \"\")\n",
       "\n",
       "# Display row and color annotations\n",
       "pheatmap(test, annotation_col = annotation_col)\n",
       "pheatmap(test, annotation_col = annotation_col, annotation_legend = FALSE)\n",
       "pheatmap(test, annotation_col = annotation_col, annotation_row = annotation_row)\n",
       "\n",
       "# Change angle of text in the columns\n",
       "pheatmap(test, annotation_col = annotation_col, annotation_row = annotation_row, angle_col = \"45\")\n",
       "pheatmap(test, annotation_col = annotation_col, angle_col = \"0\")\n",
       "\n",
       "# Specify colors\n",
       "ann_colors = list(\n",
       "    Time = c(\"white\", \"firebrick\"),\n",
       "    CellType = c(CT1 = \"#1B9E77\", CT2 = \"#D95F02\"),\n",
       "    GeneClass = c(Path1 = \"#7570B3\", Path2 = \"#E7298A\", Path3 = \"#66A61E\")\n",
       ")\n",
       "\n",
       "pheatmap(test, annotation_col = annotation_col, annotation_colors = ann_colors, main = \"Title\")\n",
       "pheatmap(test, annotation_col = annotation_col, annotation_row = annotation_row, \n",
       "         annotation_colors = ann_colors)\n",
       "pheatmap(test, annotation_col = annotation_col, annotation_colors = ann_colors[2]) \n",
       "\n",
       "# Gaps in heatmaps\n",
       "pheatmap(test, annotation_col = annotation_col, cluster_rows = FALSE, gaps_row = c(10, 14))\n",
       "pheatmap(test, annotation_col = annotation_col, cluster_rows = FALSE, gaps_row = c(10, 14), \n",
       "         cutree_col = 2)\n",
       "\n",
       "# Show custom strings as row/col names\n",
       "labels_row = c(\"\", \"\", \"\", \"\", \"\", \"\", \"\", \"\", \"\", \"\", \"\", \"\", \"\", \"\", \"\", \n",
       "\"\", \"\", \"Il10\", \"Il15\", \"Il1b\")\n",
       "\n",
       "pheatmap(test, annotation_col = annotation_col, labels_row = labels_row)\n",
       "\n",
       "# Specifying clustering from distance matrix\n",
       "drows = dist(test, method = \"minkowski\")\n",
       "dcols = dist(t(test), method = \"minkowski\")\n",
       "pheatmap(test, clustering_distance_rows = drows, clustering_distance_cols = dcols)\n",
       "\n",
       "# Modify ordering of the clusters using clustering callback option\n",
       "callback = function(hc, mat){\n",
       "    sv = svd(t(mat))$v[,1]\n",
       "    dend = reorder(as.dendrogram(hc), wts = sv)\n",
       "    as.hclust(dend)\n",
       "}\n",
       "\n",
       "pheatmap(test, clustering_callback = callback)\n",
       "\n",
       "## Not run: \n",
       "# Same using dendsort package\n",
       "library(dendsort)\n",
       "\n",
       "callback = function(hc, ...){dendsort(hc)}\n",
       "pheatmap(test, clustering_callback = callback)\n",
       "\n",
       "## End(Not run)\n",
       "\n",
       "</pre>\n",
       "\n",
       "<hr /><div style=\"text-align: center;\">[Package <em>pheatmap</em> version 1.0.12 ]</div>"
      ],
      "text/latex": [
       "\\inputencoding{utf8}\n",
       "\\HeaderA{pheatmap}{A function to draw clustered heatmaps.}{pheatmap}\n",
       "%\n",
       "\\begin{Description}\\relax\n",
       "A function to draw clustered heatmaps where one has better control over some graphical \n",
       "parameters such as cell size, etc.\n",
       "\\end{Description}\n",
       "%\n",
       "\\begin{Usage}\n",
       "\\begin{verbatim}\n",
       "pheatmap(mat, color = colorRampPalette(rev(brewer.pal(n = 7, name =\n",
       "  \"RdYlBu\")))(100), kmeans_k = NA, breaks = NA, border_color = \"grey60\",\n",
       "  cellwidth = NA, cellheight = NA, scale = \"none\", cluster_rows = TRUE,\n",
       "  cluster_cols = TRUE, clustering_distance_rows = \"euclidean\",\n",
       "  clustering_distance_cols = \"euclidean\", clustering_method = \"complete\",\n",
       "  clustering_callback = identity2, cutree_rows = NA, cutree_cols = NA,\n",
       "  treeheight_row = ifelse((class(cluster_rows) == \"hclust\") || cluster_rows,\n",
       "  50, 0), treeheight_col = ifelse((class(cluster_cols) == \"hclust\") ||\n",
       "  cluster_cols, 50, 0), legend = TRUE, legend_breaks = NA,\n",
       "  legend_labels = NA, annotation_row = NA, annotation_col = NA,\n",
       "  annotation = NA, annotation_colors = NA, annotation_legend = TRUE,\n",
       "  annotation_names_row = TRUE, annotation_names_col = TRUE,\n",
       "  drop_levels = TRUE, show_rownames = T, show_colnames = T, main = NA,\n",
       "  fontsize = 10, fontsize_row = fontsize, fontsize_col = fontsize,\n",
       "  angle_col = c(\"270\", \"0\", \"45\", \"90\", \"315\"), display_numbers = F,\n",
       "  number_format = \"%.2f\", number_color = \"grey30\", fontsize_number = 0.8\n",
       "  * fontsize, gaps_row = NULL, gaps_col = NULL, labels_row = NULL,\n",
       "  labels_col = NULL, filename = NA, width = NA, height = NA,\n",
       "  silent = FALSE, na_col = \"#DDDDDD\", ...)\n",
       "\\end{verbatim}\n",
       "\\end{Usage}\n",
       "%\n",
       "\\begin{Arguments}\n",
       "\\begin{ldescription}\n",
       "\\item[\\code{mat}] numeric matrix of the values to be plotted.\n",
       "\n",
       "\\item[\\code{color}] vector of colors used in heatmap.\n",
       "\n",
       "\\item[\\code{kmeans\\_k}] the number of kmeans clusters to make, if we want to aggregate the \n",
       "rows before drawing heatmap. If NA then the rows are not aggregated.\n",
       "\n",
       "\\item[\\code{breaks}] a sequence of numbers that covers the range of values in mat and is one \n",
       "element longer than color vector. Used for mapping values to colors. Useful, if needed \n",
       "to map certain values to certain colors, to certain values. If value is NA then the \n",
       "breaks are calculated automatically. When breaks do not cover the range of values, \n",
       "then any value larger than \\code{max(breaks)} will have the largest color and any value \n",
       "lower than\\code{ min(breaks)} will get the lowest color.\n",
       "\n",
       "\\item[\\code{border\\_color}] color of cell borders on heatmap, use NA if no border should be \n",
       "drawn.\n",
       "\n",
       "\\item[\\code{cellwidth}] individual cell width in points. If left as NA, then the values \n",
       "depend on the size of plotting window.\n",
       "\n",
       "\\item[\\code{cellheight}] individual cell height in points. If left as NA, \n",
       "then the values depend on the size of plotting window.\n",
       "\n",
       "\\item[\\code{scale}] character indicating if the values should be centered and scaled in \n",
       "either the row direction or the column direction, or none. Corresponding values are \n",
       "\\code{\"row\"}, \\code{\"column\"} and \\code{\"none\"}\n",
       "\n",
       "\\item[\\code{cluster\\_rows}] boolean values determining if rows should be clustered or \\code{hclust} object,\n",
       "\n",
       "\\item[\\code{cluster\\_cols}] boolean values determining if columns should be clustered or \\code{hclust} object.\n",
       "\n",
       "\\item[\\code{clustering\\_distance\\_rows}] distance measure used in clustering rows. Possible \n",
       "values are \\code{\"correlation\"} for Pearson correlation and all the distances \n",
       "supported by \\code{\\LinkA{dist}{dist}}, such as \\code{\"euclidean\"}, etc. If the value is none \n",
       "of the above it is assumed that a distance matrix is provided.\n",
       "\n",
       "\\item[\\code{clustering\\_distance\\_cols}] distance measure used in clustering columns. Possible \n",
       "values the same as for clustering\\_distance\\_rows.\n",
       "\n",
       "\\item[\\code{clustering\\_method}] clustering method used. Accepts the same values as \n",
       "\\code{\\LinkA{hclust}{hclust}}.\n",
       "\n",
       "\\item[\\code{clustering\\_callback}] callback function to modify the clustering. Is \n",
       "called with two parameters: original \\code{hclust} object and the matrix \n",
       "used for clustering. Must return a \\code{hclust} object.\n",
       "\n",
       "\\item[\\code{cutree\\_rows}] number of clusters the rows are divided into, based on the\n",
       "hierarchical clustering (using cutree), if rows are not clustered, the \n",
       "argument is ignored\n",
       "\n",
       "\\item[\\code{cutree\\_cols}] similar to \\code{cutree\\_rows}, but for columns\n",
       "\n",
       "\\item[\\code{treeheight\\_row}] the height of a tree for rows, if these are clustered. \n",
       "Default value 50 points.\n",
       "\n",
       "\\item[\\code{treeheight\\_col}] the height of a tree for columns, if these are clustered. \n",
       "Default value 50 points.\n",
       "\n",
       "\\item[\\code{legend}] logical to determine if legend should be drawn or not.\n",
       "\n",
       "\\item[\\code{legend\\_breaks}] vector of breakpoints for the legend.\n",
       "\n",
       "\\item[\\code{legend\\_labels}] vector of labels for the \\code{legend\\_breaks}.\n",
       "\n",
       "\\item[\\code{annotation\\_row}] data frame that specifies the annotations shown on left\n",
       "side of the heatmap. Each row defines the features for a specific row. The \n",
       "rows in the data and in the annotation are matched using corresponding row\n",
       "names. Note that color schemes takes into account if variable is continuous\n",
       "or discrete.\n",
       "\n",
       "\\item[\\code{annotation\\_col}] similar to annotation\\_row, but for columns.\n",
       "\n",
       "\\item[\\code{annotation}] deprecated parameter that currently sets the annotation\\_col if it is missing\n",
       "\n",
       "\\item[\\code{annotation\\_colors}] list for specifying annotation\\_row and \n",
       "annotation\\_col track colors manually. It is  possible to define the colors \n",
       "for only some of the features. Check examples for  details.\n",
       "\n",
       "\\item[\\code{annotation\\_legend}] boolean value showing if the legend for annotation \n",
       "tracks should be drawn.\n",
       "\n",
       "\\item[\\code{annotation\\_names\\_row}] boolean value showing if the names for row annotation \n",
       "tracks should be drawn.\n",
       "\n",
       "\\item[\\code{annotation\\_names\\_col}] boolean value showing if the names for column annotation \n",
       "tracks should be drawn.\n",
       "\n",
       "\\item[\\code{drop\\_levels}] logical to determine if unused levels are also shown in \n",
       "the legend\n",
       "\n",
       "\\item[\\code{show\\_rownames}] boolean specifying if column names are be shown.\n",
       "\n",
       "\\item[\\code{show\\_colnames}] boolean specifying if column names are be shown.\n",
       "\n",
       "\\item[\\code{main}] the title of the plot\n",
       "\n",
       "\\item[\\code{fontsize}] base fontsize for the plot\n",
       "\n",
       "\\item[\\code{fontsize\\_row}] fontsize for rownames (Default: fontsize)\n",
       "\n",
       "\\item[\\code{fontsize\\_col}] fontsize for colnames (Default: fontsize)\n",
       "\n",
       "\\item[\\code{angle\\_col}] angle of the column labels, right now one can choose only from few \n",
       "predefined options (0, 45, 90, 270 and 315)\n",
       "\n",
       "\\item[\\code{display\\_numbers}] logical determining if the numeric values are also printed to \n",
       "the cells. If this is a matrix (with same dimensions as original matrix), the contents\n",
       "of the matrix are shown instead of original values.\n",
       "\n",
       "\\item[\\code{number\\_format}] format strings (C printf style) of the numbers shown in cells. \n",
       "For example \"\\code{\\%.2f}\" shows 2 decimal places and \"\\code{\\%.1e}\" shows exponential \n",
       "notation (see more in \\code{\\LinkA{sprintf}{sprintf}}).\n",
       "\n",
       "\\item[\\code{number\\_color}] color of the text\n",
       "\n",
       "\\item[\\code{fontsize\\_number}] fontsize of the numbers displayed in cells\n",
       "\n",
       "\\item[\\code{gaps\\_row}] vector of row indices that show where to put gaps into\n",
       "heatmap. Used only if the rows are not clustered. See \\code{cutree\\_row}\n",
       "to see how to introduce gaps to clustered rows.\n",
       "\n",
       "\\item[\\code{gaps\\_col}] similar to gaps\\_row, but for columns.\n",
       "\n",
       "\\item[\\code{labels\\_row}] custom labels for rows that are used instead of rownames.\n",
       "\n",
       "\\item[\\code{labels\\_col}] similar to labels\\_row, but for columns.\n",
       "\n",
       "\\item[\\code{filename}] file path where to save the picture. Filetype is decided by \n",
       "the extension in the path. Currently following formats are supported: png, pdf, tiff,\n",
       "bmp, jpeg. Even if the plot does not fit into the plotting window, the file size is \n",
       "calculated so that the plot would fit there, unless specified otherwise.\n",
       "\n",
       "\\item[\\code{width}] manual option for determining the output file width in inches.\n",
       "\n",
       "\\item[\\code{height}] manual option for determining the output file height in inches.\n",
       "\n",
       "\\item[\\code{silent}] do not draw the plot (useful when using the gtable output)\n",
       "\n",
       "\\item[\\code{na\\_col}] specify the color of the NA cell in the matrix.\n",
       "\n",
       "\\item[\\code{...}] graphical parameters for the text used in plot. Parameters passed to \n",
       "\\code{\\LinkA{grid.text}{grid.text}}, see \\code{\\LinkA{gpar}{gpar}}.\n",
       "\\end{ldescription}\n",
       "\\end{Arguments}\n",
       "%\n",
       "\\begin{Details}\\relax\n",
       "The function also allows to aggregate the rows using kmeans clustering. This is \n",
       "advisable if number of rows is so big that R cannot handle their hierarchical \n",
       "clustering anymore, roughly more than 1000. Instead of showing all the rows \n",
       "separately one can cluster the rows in advance and show only the cluster centers. \n",
       "The number of clusters can be tuned with parameter kmeans\\_k.\n",
       "\\end{Details}\n",
       "%\n",
       "\\begin{Value}\n",
       "Invisibly a \\code{pheatmap} object that is a list with components \n",
       "\\begin{itemize}\n",
       "\n",
       "\\item{} \\code{tree\\_row} the clustering of rows as \\code{\\LinkA{hclust}{hclust}} object \n",
       "\\item{} \\code{tree\\_col} the clustering of columns as \\code{\\LinkA{hclust}{hclust}} object\n",
       "\\item{} \\code{kmeans} the kmeans clustering of rows if parameter \\code{kmeans\\_k} was \n",
       "specified \n",
       "\\item{} \\code{gtable} a \\code{\\LinkA{gtable}{gtable}} object containing the heatmap, \n",
       "can be used for combining the heatmap with other plots \n",
       "\n",
       "\\end{itemize}\n",
       "\n",
       "\\end{Value}\n",
       "%\n",
       "\\begin{Author}\\relax\n",
       "Raivo Kolde <rkolde@gmail.com>\n",
       "\\end{Author}\n",
       "%\n",
       "\\begin{Examples}\n",
       "\\begin{ExampleCode}\n",
       "# Create test matrix\n",
       "test = matrix(rnorm(200), 20, 10)\n",
       "test[1:10, seq(1, 10, 2)] = test[1:10, seq(1, 10, 2)] + 3\n",
       "test[11:20, seq(2, 10, 2)] = test[11:20, seq(2, 10, 2)] + 2\n",
       "test[15:20, seq(2, 10, 2)] = test[15:20, seq(2, 10, 2)] + 4\n",
       "colnames(test) = paste(\"Test\", 1:10, sep = \"\")\n",
       "rownames(test) = paste(\"Gene\", 1:20, sep = \"\")\n",
       "\n",
       "# Draw heatmaps\n",
       "pheatmap(test)\n",
       "pheatmap(test, kmeans_k = 2)\n",
       "pheatmap(test, scale = \"row\", clustering_distance_rows = \"correlation\")\n",
       "pheatmap(test, color = colorRampPalette(c(\"navy\", \"white\", \"firebrick3\"))(50))\n",
       "pheatmap(test, cluster_row = FALSE)\n",
       "pheatmap(test, legend = FALSE)\n",
       "\n",
       "# Show text within cells\n",
       "pheatmap(test, display_numbers = TRUE)\n",
       "pheatmap(test, display_numbers = TRUE, number_format = \"\\%.1e\")\n",
       "pheatmap(test, display_numbers = matrix(ifelse(test > 5, \"*\", \"\"), nrow(test)))\n",
       "pheatmap(test, cluster_row = FALSE, legend_breaks = -1:4, legend_labels = c(\"0\",\n",
       "\"1e-4\", \"1e-3\", \"1e-2\", \"1e-1\", \"1\"))\n",
       "\n",
       "# Fix cell sizes and save to file with correct size\n",
       "pheatmap(test, cellwidth = 15, cellheight = 12, main = \"Example heatmap\")\n",
       "pheatmap(test, cellwidth = 15, cellheight = 12, fontsize = 8, filename = \"test.pdf\")\n",
       "\n",
       "# Generate annotations for rows and columns\n",
       "annotation_col = data.frame(\n",
       "                    CellType = factor(rep(c(\"CT1\", \"CT2\"), 5)), \n",
       "                    Time = 1:5\n",
       "                )\n",
       "rownames(annotation_col) = paste(\"Test\", 1:10, sep = \"\")\n",
       "\n",
       "annotation_row = data.frame(\n",
       "                    GeneClass = factor(rep(c(\"Path1\", \"Path2\", \"Path3\"), c(10, 4, 6)))\n",
       "                )\n",
       "rownames(annotation_row) = paste(\"Gene\", 1:20, sep = \"\")\n",
       "\n",
       "# Display row and color annotations\n",
       "pheatmap(test, annotation_col = annotation_col)\n",
       "pheatmap(test, annotation_col = annotation_col, annotation_legend = FALSE)\n",
       "pheatmap(test, annotation_col = annotation_col, annotation_row = annotation_row)\n",
       "\n",
       "# Change angle of text in the columns\n",
       "pheatmap(test, annotation_col = annotation_col, annotation_row = annotation_row, angle_col = \"45\")\n",
       "pheatmap(test, annotation_col = annotation_col, angle_col = \"0\")\n",
       "\n",
       "# Specify colors\n",
       "ann_colors = list(\n",
       "    Time = c(\"white\", \"firebrick\"),\n",
       "    CellType = c(CT1 = \"#1B9E77\", CT2 = \"#D95F02\"),\n",
       "    GeneClass = c(Path1 = \"#7570B3\", Path2 = \"#E7298A\", Path3 = \"#66A61E\")\n",
       ")\n",
       "\n",
       "pheatmap(test, annotation_col = annotation_col, annotation_colors = ann_colors, main = \"Title\")\n",
       "pheatmap(test, annotation_col = annotation_col, annotation_row = annotation_row, \n",
       "         annotation_colors = ann_colors)\n",
       "pheatmap(test, annotation_col = annotation_col, annotation_colors = ann_colors[2]) \n",
       "\n",
       "# Gaps in heatmaps\n",
       "pheatmap(test, annotation_col = annotation_col, cluster_rows = FALSE, gaps_row = c(10, 14))\n",
       "pheatmap(test, annotation_col = annotation_col, cluster_rows = FALSE, gaps_row = c(10, 14), \n",
       "         cutree_col = 2)\n",
       "\n",
       "# Show custom strings as row/col names\n",
       "labels_row = c(\"\", \"\", \"\", \"\", \"\", \"\", \"\", \"\", \"\", \"\", \"\", \"\", \"\", \"\", \"\", \n",
       "\"\", \"\", \"Il10\", \"Il15\", \"Il1b\")\n",
       "\n",
       "pheatmap(test, annotation_col = annotation_col, labels_row = labels_row)\n",
       "\n",
       "# Specifying clustering from distance matrix\n",
       "drows = dist(test, method = \"minkowski\")\n",
       "dcols = dist(t(test), method = \"minkowski\")\n",
       "pheatmap(test, clustering_distance_rows = drows, clustering_distance_cols = dcols)\n",
       "\n",
       "# Modify ordering of the clusters using clustering callback option\n",
       "callback = function(hc, mat){\n",
       "    sv = svd(t(mat))$v[,1]\n",
       "    dend = reorder(as.dendrogram(hc), wts = sv)\n",
       "    as.hclust(dend)\n",
       "}\n",
       "\n",
       "pheatmap(test, clustering_callback = callback)\n",
       "\n",
       "## Not run: \n",
       "# Same using dendsort package\n",
       "library(dendsort)\n",
       "\n",
       "callback = function(hc, ...){dendsort(hc)}\n",
       "pheatmap(test, clustering_callback = callback)\n",
       "\n",
       "## End(Not run)\n",
       "\n",
       "\\end{ExampleCode}\n",
       "\\end{Examples}"
      ],
      "text/plain": [
       "pheatmap               package:pheatmap                R Documentation\n",
       "\n",
       "_\bA _\bf_\bu_\bn_\bc_\bt_\bi_\bo_\bn _\bt_\bo _\bd_\br_\ba_\bw _\bc_\bl_\bu_\bs_\bt_\be_\br_\be_\bd _\bh_\be_\ba_\bt_\bm_\ba_\bp_\bs.\n",
       "\n",
       "_\bD_\be_\bs_\bc_\br_\bi_\bp_\bt_\bi_\bo_\bn:\n",
       "\n",
       "     A function to draw clustered heatmaps where one has better control\n",
       "     over some graphical parameters such as cell size, etc.\n",
       "\n",
       "_\bU_\bs_\ba_\bg_\be:\n",
       "\n",
       "     pheatmap(mat, color = colorRampPalette(rev(brewer.pal(n = 7, name =\n",
       "       \"RdYlBu\")))(100), kmeans_k = NA, breaks = NA, border_color = \"grey60\",\n",
       "       cellwidth = NA, cellheight = NA, scale = \"none\", cluster_rows = TRUE,\n",
       "       cluster_cols = TRUE, clustering_distance_rows = \"euclidean\",\n",
       "       clustering_distance_cols = \"euclidean\", clustering_method = \"complete\",\n",
       "       clustering_callback = identity2, cutree_rows = NA, cutree_cols = NA,\n",
       "       treeheight_row = ifelse((class(cluster_rows) == \"hclust\") || cluster_rows,\n",
       "       50, 0), treeheight_col = ifelse((class(cluster_cols) == \"hclust\") ||\n",
       "       cluster_cols, 50, 0), legend = TRUE, legend_breaks = NA,\n",
       "       legend_labels = NA, annotation_row = NA, annotation_col = NA,\n",
       "       annotation = NA, annotation_colors = NA, annotation_legend = TRUE,\n",
       "       annotation_names_row = TRUE, annotation_names_col = TRUE,\n",
       "       drop_levels = TRUE, show_rownames = T, show_colnames = T, main = NA,\n",
       "       fontsize = 10, fontsize_row = fontsize, fontsize_col = fontsize,\n",
       "       angle_col = c(\"270\", \"0\", \"45\", \"90\", \"315\"), display_numbers = F,\n",
       "       number_format = \"%.2f\", number_color = \"grey30\", fontsize_number = 0.8\n",
       "       * fontsize, gaps_row = NULL, gaps_col = NULL, labels_row = NULL,\n",
       "       labels_col = NULL, filename = NA, width = NA, height = NA,\n",
       "       silent = FALSE, na_col = \"#DDDDDD\", ...)\n",
       "     \n",
       "_\bA_\br_\bg_\bu_\bm_\be_\bn_\bt_\bs:\n",
       "\n",
       "     mat: numeric matrix of the values to be plotted.\n",
       "\n",
       "   color: vector of colors used in heatmap.\n",
       "\n",
       "kmeans_k: the number of kmeans clusters to make, if we want to\n",
       "          aggregate the rows before drawing heatmap. If NA then the\n",
       "          rows are not aggregated.\n",
       "\n",
       "  breaks: a sequence of numbers that covers the range of values in mat\n",
       "          and is one element longer than color vector. Used for mapping\n",
       "          values to colors. Useful, if needed to map certain values to\n",
       "          certain colors, to certain values. If value is NA then the\n",
       "          breaks are calculated automatically. When breaks do not cover\n",
       "          the range of values, then any value larger than 'max(breaks)'\n",
       "          will have the largest color and any value lower than'\n",
       "          min(breaks)' will get the lowest color.\n",
       "\n",
       "border_color: color of cell borders on heatmap, use NA if no border\n",
       "          should be drawn.\n",
       "\n",
       "cellwidth: individual cell width in points. If left as NA, then the\n",
       "          values depend on the size of plotting window.\n",
       "\n",
       "cellheight: individual cell height in points. If left as NA, then the\n",
       "          values depend on the size of plotting window.\n",
       "\n",
       "   scale: character indicating if the values should be centered and\n",
       "          scaled in either the row direction or the column direction,\n",
       "          or none. Corresponding values are '\"row\"', '\"column\"' and\n",
       "          '\"none\"'\n",
       "\n",
       "cluster_rows: boolean values determining if rows should be clustered or\n",
       "          'hclust' object,\n",
       "\n",
       "cluster_cols: boolean values determining if columns should be clustered\n",
       "          or 'hclust' object.\n",
       "\n",
       "clustering_distance_rows: distance measure used in clustering rows.\n",
       "          Possible values are '\"correlation\"' for Pearson correlation\n",
       "          and all the distances supported by 'dist', such as\n",
       "          '\"euclidean\"', etc. If the value is none of the above it is\n",
       "          assumed that a distance matrix is provided.\n",
       "\n",
       "clustering_distance_cols: distance measure used in clustering columns.\n",
       "          Possible values the same as for clustering_distance_rows.\n",
       "\n",
       "clustering_method: clustering method used. Accepts the same values as\n",
       "          'hclust'.\n",
       "\n",
       "clustering_callback: callback function to modify the clustering. Is\n",
       "          called with two parameters: original 'hclust' object and the\n",
       "          matrix used for clustering. Must return a 'hclust' object.\n",
       "\n",
       "cutree_rows: number of clusters the rows are divided into, based on the\n",
       "          hierarchical clustering (using cutree), if rows are not\n",
       "          clustered, the argument is ignored\n",
       "\n",
       "cutree_cols: similar to 'cutree_rows', but for columns\n",
       "\n",
       "treeheight_row: the height of a tree for rows, if these are clustered.\n",
       "          Default value 50 points.\n",
       "\n",
       "treeheight_col: the height of a tree for columns, if these are\n",
       "          clustered.  Default value 50 points.\n",
       "\n",
       "  legend: logical to determine if legend should be drawn or not.\n",
       "\n",
       "legend_breaks: vector of breakpoints for the legend.\n",
       "\n",
       "legend_labels: vector of labels for the 'legend_breaks'.\n",
       "\n",
       "annotation_row: data frame that specifies the annotations shown on left\n",
       "          side of the heatmap. Each row defines the features for a\n",
       "          specific row. The rows in the data and in the annotation are\n",
       "          matched using corresponding row names. Note that color\n",
       "          schemes takes into account if variable is continuous or\n",
       "          discrete.\n",
       "\n",
       "annotation_col: similar to annotation_row, but for columns.\n",
       "\n",
       "annotation: deprecated parameter that currently sets the annotation_col\n",
       "          if it is missing\n",
       "\n",
       "annotation_colors: list for specifying annotation_row and\n",
       "          annotation_col track colors manually. It is possible to\n",
       "          define the colors for only some of the features. Check\n",
       "          examples for details.\n",
       "\n",
       "annotation_legend: boolean value showing if the legend for annotation\n",
       "          tracks should be drawn.\n",
       "\n",
       "annotation_names_row: boolean value showing if the names for row\n",
       "          annotation tracks should be drawn.\n",
       "\n",
       "annotation_names_col: boolean value showing if the names for column\n",
       "          annotation tracks should be drawn.\n",
       "\n",
       "drop_levels: logical to determine if unused levels are also shown in\n",
       "          the legend\n",
       "\n",
       "show_rownames: boolean specifying if column names are be shown.\n",
       "\n",
       "show_colnames: boolean specifying if column names are be shown.\n",
       "\n",
       "    main: the title of the plot\n",
       "\n",
       "fontsize: base fontsize for the plot\n",
       "\n",
       "fontsize_row: fontsize for rownames (Default: fontsize)\n",
       "\n",
       "fontsize_col: fontsize for colnames (Default: fontsize)\n",
       "\n",
       "angle_col: angle of the column labels, right now one can choose only\n",
       "          from few predefined options (0, 45, 90, 270 and 315)\n",
       "\n",
       "display_numbers: logical determining if the numeric values are also\n",
       "          printed to the cells. If this is a matrix (with same\n",
       "          dimensions as original matrix), the contents of the matrix\n",
       "          are shown instead of original values.\n",
       "\n",
       "number_format: format strings (C printf style) of the numbers shown in\n",
       "          cells.  For example \"'%.2f'\" shows 2 decimal places and\n",
       "          \"'%.1e'\" shows exponential notation (see more in 'sprintf').\n",
       "\n",
       "number_color: color of the text\n",
       "\n",
       "fontsize_number: fontsize of the numbers displayed in cells\n",
       "\n",
       "gaps_row: vector of row indices that show where to put gaps into\n",
       "          heatmap. Used only if the rows are not clustered. See\n",
       "          'cutree_row' to see how to introduce gaps to clustered rows.\n",
       "\n",
       "gaps_col: similar to gaps_row, but for columns.\n",
       "\n",
       "labels_row: custom labels for rows that are used instead of rownames.\n",
       "\n",
       "labels_col: similar to labels_row, but for columns.\n",
       "\n",
       "filename: file path where to save the picture. Filetype is decided by\n",
       "          the extension in the path. Currently following formats are\n",
       "          supported: png, pdf, tiff, bmp, jpeg. Even if the plot does\n",
       "          not fit into the plotting window, the file size is calculated\n",
       "          so that the plot would fit there, unless specified otherwise.\n",
       "\n",
       "   width: manual option for determining the output file width in\n",
       "          inches.\n",
       "\n",
       "  height: manual option for determining the output file height in\n",
       "          inches.\n",
       "\n",
       "  silent: do not draw the plot (useful when using the gtable output)\n",
       "\n",
       "  na_col: specify the color of the NA cell in the matrix.\n",
       "\n",
       "     ...: graphical parameters for the text used in plot. Parameters\n",
       "          passed to 'grid.text', see 'gpar'.\n",
       "\n",
       "_\bD_\be_\bt_\ba_\bi_\bl_\bs:\n",
       "\n",
       "     The function also allows to aggregate the rows using kmeans\n",
       "     clustering. This is advisable if number of rows is so big that R\n",
       "     cannot handle their hierarchical clustering anymore, roughly more\n",
       "     than 1000. Instead of showing all the rows separately one can\n",
       "     cluster the rows in advance and show only the cluster centers.\n",
       "     The number of clusters can be tuned with parameter kmeans_k.\n",
       "\n",
       "_\bV_\ba_\bl_\bu_\be:\n",
       "\n",
       "     Invisibly a 'pheatmap' object that is a list with components\n",
       "\n",
       "        * 'tree_row' the clustering of rows as 'hclust' object\n",
       "\n",
       "        * 'tree_col' the clustering of columns as 'hclust' object\n",
       "\n",
       "        * 'kmeans' the kmeans clustering of rows if parameter\n",
       "          'kmeans_k' was specified\n",
       "\n",
       "        * 'gtable' a 'gtable' object containing the heatmap, can be\n",
       "          used for combining the heatmap with other plots\n",
       "\n",
       "_\bA_\bu_\bt_\bh_\bo_\br(_\bs):\n",
       "\n",
       "     Raivo Kolde <rkolde@gmail.com>\n",
       "\n",
       "_\bE_\bx_\ba_\bm_\bp_\bl_\be_\bs:\n",
       "\n",
       "     # Create test matrix\n",
       "     test = matrix(rnorm(200), 20, 10)\n",
       "     test[1:10, seq(1, 10, 2)] = test[1:10, seq(1, 10, 2)] + 3\n",
       "     test[11:20, seq(2, 10, 2)] = test[11:20, seq(2, 10, 2)] + 2\n",
       "     test[15:20, seq(2, 10, 2)] = test[15:20, seq(2, 10, 2)] + 4\n",
       "     colnames(test) = paste(\"Test\", 1:10, sep = \"\")\n",
       "     rownames(test) = paste(\"Gene\", 1:20, sep = \"\")\n",
       "     \n",
       "     # Draw heatmaps\n",
       "     pheatmap(test)\n",
       "     pheatmap(test, kmeans_k = 2)\n",
       "     pheatmap(test, scale = \"row\", clustering_distance_rows = \"correlation\")\n",
       "     pheatmap(test, color = colorRampPalette(c(\"navy\", \"white\", \"firebrick3\"))(50))\n",
       "     pheatmap(test, cluster_row = FALSE)\n",
       "     pheatmap(test, legend = FALSE)\n",
       "     \n",
       "     # Show text within cells\n",
       "     pheatmap(test, display_numbers = TRUE)\n",
       "     pheatmap(test, display_numbers = TRUE, number_format = \"\\%.1e\")\n",
       "     pheatmap(test, display_numbers = matrix(ifelse(test > 5, \"*\", \"\"), nrow(test)))\n",
       "     pheatmap(test, cluster_row = FALSE, legend_breaks = -1:4, legend_labels = c(\"0\",\n",
       "     \"1e-4\", \"1e-3\", \"1e-2\", \"1e-1\", \"1\"))\n",
       "     \n",
       "     # Fix cell sizes and save to file with correct size\n",
       "     pheatmap(test, cellwidth = 15, cellheight = 12, main = \"Example heatmap\")\n",
       "     pheatmap(test, cellwidth = 15, cellheight = 12, fontsize = 8, filename = \"test.pdf\")\n",
       "     \n",
       "     # Generate annotations for rows and columns\n",
       "     annotation_col = data.frame(\n",
       "                         CellType = factor(rep(c(\"CT1\", \"CT2\"), 5)), \n",
       "                         Time = 1:5\n",
       "                     )\n",
       "     rownames(annotation_col) = paste(\"Test\", 1:10, sep = \"\")\n",
       "     \n",
       "     annotation_row = data.frame(\n",
       "                         GeneClass = factor(rep(c(\"Path1\", \"Path2\", \"Path3\"), c(10, 4, 6)))\n",
       "                     )\n",
       "     rownames(annotation_row) = paste(\"Gene\", 1:20, sep = \"\")\n",
       "     \n",
       "     # Display row and color annotations\n",
       "     pheatmap(test, annotation_col = annotation_col)\n",
       "     pheatmap(test, annotation_col = annotation_col, annotation_legend = FALSE)\n",
       "     pheatmap(test, annotation_col = annotation_col, annotation_row = annotation_row)\n",
       "     \n",
       "     # Change angle of text in the columns\n",
       "     pheatmap(test, annotation_col = annotation_col, annotation_row = annotation_row, angle_col = \"45\")\n",
       "     pheatmap(test, annotation_col = annotation_col, angle_col = \"0\")\n",
       "     \n",
       "     # Specify colors\n",
       "     ann_colors = list(\n",
       "         Time = c(\"white\", \"firebrick\"),\n",
       "         CellType = c(CT1 = \"#1B9E77\", CT2 = \"#D95F02\"),\n",
       "         GeneClass = c(Path1 = \"#7570B3\", Path2 = \"#E7298A\", Path3 = \"#66A61E\")\n",
       "     )\n",
       "     \n",
       "     pheatmap(test, annotation_col = annotation_col, annotation_colors = ann_colors, main = \"Title\")\n",
       "     pheatmap(test, annotation_col = annotation_col, annotation_row = annotation_row, \n",
       "              annotation_colors = ann_colors)\n",
       "     pheatmap(test, annotation_col = annotation_col, annotation_colors = ann_colors[2]) \n",
       "     \n",
       "     # Gaps in heatmaps\n",
       "     pheatmap(test, annotation_col = annotation_col, cluster_rows = FALSE, gaps_row = c(10, 14))\n",
       "     pheatmap(test, annotation_col = annotation_col, cluster_rows = FALSE, gaps_row = c(10, 14), \n",
       "              cutree_col = 2)\n",
       "     \n",
       "     # Show custom strings as row/col names\n",
       "     labels_row = c(\"\", \"\", \"\", \"\", \"\", \"\", \"\", \"\", \"\", \"\", \"\", \"\", \"\", \"\", \"\", \n",
       "     \"\", \"\", \"Il10\", \"Il15\", \"Il1b\")\n",
       "     \n",
       "     pheatmap(test, annotation_col = annotation_col, labels_row = labels_row)\n",
       "     \n",
       "     # Specifying clustering from distance matrix\n",
       "     drows = dist(test, method = \"minkowski\")\n",
       "     dcols = dist(t(test), method = \"minkowski\")\n",
       "     pheatmap(test, clustering_distance_rows = drows, clustering_distance_cols = dcols)\n",
       "     \n",
       "     # Modify ordering of the clusters using clustering callback option\n",
       "     callback = function(hc, mat){\n",
       "         sv = svd(t(mat))$v[,1]\n",
       "         dend = reorder(as.dendrogram(hc), wts = sv)\n",
       "         as.hclust(dend)\n",
       "     }\n",
       "     \n",
       "     pheatmap(test, clustering_callback = callback)\n",
       "     \n",
       "     ## Not run:\n",
       "     \n",
       "     # Same using dendsort package\n",
       "     library(dendsort)\n",
       "     \n",
       "     callback = function(hc, ...){dendsort(hc)}\n",
       "     pheatmap(test, clustering_callback = callback)\n",
       "     ## End(Not run)\n",
       "     "
      ]
     },
     "metadata": {},
     "output_type": "display_data"
    }
   ],
   "source": [
    "?pheatmap"
   ]
  },
  {
   "cell_type": "code",
   "execution_count": 36,
   "metadata": {
    "ExecuteTime": {
     "end_time": "2019-01-04T11:05:07.525059Z",
     "start_time": "2019-01-04T11:05:07.470Z"
    }
   },
   "outputs": [
    {
     "data": {
      "text/plain": [
       "cat\n",
       "CC MF \n",
       " 5  5 "
      ]
     },
     "metadata": {},
     "output_type": "display_data"
    }
   ],
   "source": [
    "# in order to know the gaps for the plot\n",
    "cat=sapply(strsplit(rownames(cell.data),\":\"),`[`, 1)\n",
    "table(cat)"
   ]
  },
  {
   "cell_type": "code",
   "execution_count": 51,
   "metadata": {
    "ExecuteTime": {
     "end_time": "2019-01-04T11:08:16.671402Z",
     "start_time": "2019-01-04T11:08:16.125Z"
    }
   },
   "outputs": [
    {
     "data": {
      "image/png": "[encoded data removed]",
      "text/plain": [
       "plot without title"
      ]
     },
     "metadata": {
      "image/png": {
       "height": 480,
       "width": 720
      }
     },
     "output_type": "display_data"
    }
   ],
   "source": [
    "pheatmap(cell.data2, annotation_col = annotation_col, annotation_row = annotation_row,  cluster_rows = FALSE, gaps_row = c(5,10),fontsize = 8, fontsize_row = 8, fontsize_col = 6,main = \"Case vs Control\") #, border_color=\"black\"\n"
   ]
  },
  {
   "cell_type": "code",
   "execution_count": 55,
   "metadata": {
    "ExecuteTime": {
     "end_time": "2019-01-04T11:13:52.887417Z",
     "start_time": "2019-01-04T11:13:52.575Z"
    }
   },
   "outputs": [],
   "source": [
    "#pdf(file=\"pheatmapCaseControl.pdf\")\n",
    "#pheatmap(cell.data2, annotation_col = annotation_col, annotation_row = annotation_row,  cluster_rows = FALSE, gaps_row = c(5,10) ,fontsize = 8, fontsize_row = 8, fontsize_col = 6,main = \"Case vs Control\")\n",
    "#dev.off()"
   ]
  },
  {
   "cell_type": "code",
   "execution_count": 54,
   "metadata": {
    "ExecuteTime": {
     "end_time": "2019-01-04T11:14:30.705686Z",
     "start_time": "2019-01-04T11:14:30.304Z"
    }
   },
   "outputs": [
    {
     "data": {
      "image/png": "[encoded data removed]",
      "text/plain": [
       "plot without title"
      ]
     },
     "metadata": {
      "image/png": {
       "height": 540,
       "width": 600
      }
     },
     "output_type": "display_data"
    }
   ],
   "source": [
    "# if leyend=FALSE, the plot is bigger and cell have borders\n",
    "options(repr.plot.width=10, repr.plot.height=9)\n",
    "pheatmap(cell.data2, annotation_col = annotation_col, annotation_row = annotation_row,cluster_rows = FALSE, gaps_row = c(5,10),fontsize = 8, fontsize_row = 8, fontsize_col = 6,main = \"Case vs Control\",legend = FALSE,annotation_legend = FALSE)\n"
   ]
  }
 ],
 "metadata": {
  "kernelspec": {
   "display_name": "R",
   "language": "R",
   "name": "ir"
  },
  "language_info": {
   "codemirror_mode": "r",
   "file_extension": ".r",
   "mimetype": "text/x-r-source",
   "name": "R",
   "pygments_lexer": "r",
   "version": "4.0.4"
  },
  "toc": {
   "base_numbering": 1,
   "nav_menu": {},
   "number_sections": true,
   "sideBar": true,
   "skip_h1_title": false,
   "title_cell": "Table of Contents",
   "title_sidebar": "Contents",
   "toc_cell": false,
   "toc_position": {},
   "toc_section_display": true,
   "toc_window_display": false
  }
 },
 "nbformat": 4,
 "nbformat_minor": 4
}
