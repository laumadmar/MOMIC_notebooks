{
 "cells": [
  {
   "cell_type": "markdown",
   "metadata": {},
   "source": [
    "# Pheatmap representing combined results from meta expression, meta GWAS, integrative analysis and enrichment of meta expr.\n",
    "\n",
    "Here we visualise the pathways representing the top differentially expressed genes after the GWES meta analysis. Enriching the plot with the pvalues obtained for those genes in the GWAS Meta Analysis and Integrative Analysis of this two."
   ]
  },
  {
   "cell_type": "markdown",
   "metadata": {},
   "source": [
    "## Read datasets"
   ]
  },
  {
   "cell_type": "code",
   "execution_count": 1,
   "metadata": {
    "ExecuteTime": {
     "end_time": "2019-01-04T10:12:02.970186Z",
     "start_time": "2019-01-04T10:12:01.640Z"
    }
   },
   "outputs": [
    {
     "data": {
      "text/html": [
       "<ol class=list-inline>\n",
       "\t<li>18221</li>\n",
       "\t<li>14</li>\n",
       "</ol>\n"
      ],
      "text/latex": [
       "\\begin{enumerate*}\n",
       "\\item 18221\n",
       "\\item 14\n",
       "\\end{enumerate*}\n"
      ],
      "text/markdown": [
       "1. 18221\n",
       "2. 14\n",
       "\n",
       "\n"
      ],
      "text/plain": [
       "[1] 18221    14"
      ]
     },
     "metadata": {},
     "output_type": "display_data"
    },
    {
     "data": {
      "text/html": [
       "<table>\n",
       "<thead><tr><th scope=col>RANK</th><th scope=col>GENE</th><th scope=col>CHR</th><th scope=col>START</th><th scope=col>STOP</th><th scope=col>NSNPS</th><th scope=col>NPARAM</th><th scope=col>N</th><th scope=col>ZSTAT</th><th scope=col>P_JOINT</th><th scope=col>P_SNPWISE_MEAN</th><th scope=col>P_SNPWISE_TOP1</th><th scope=col>STRAND</th><th scope=col>HUGO</th></tr></thead>\n",
       "<tbody>\n",
       "\t<tr><td>1         </td><td> 57713    </td><td>10        </td><td>  7000586 </td><td>  7653448 </td><td>1674      </td><td>160       </td><td>10000     </td><td>4.4744    </td><td>3.8314e-06</td><td>9.0305e-07</td><td>0.0024449 </td><td>-         </td><td>SFMBT2    </td></tr>\n",
       "\t<tr><td>2         </td><td>117157    </td><td> 1        </td><td>162165056 </td><td>162581928 </td><td> 854      </td><td> 90       </td><td>10000     </td><td>4.3985    </td><td>5.4508e-06</td><td>2.7958e-06</td><td>0.0033617 </td><td>-         </td><td>SH2D1B    </td></tr>\n",
       "\t<tr><td>3         </td><td>400793    </td><td> 1        </td><td>162148696 </td><td>162556608 </td><td> 874      </td><td> 89       </td><td>10000     </td><td>4.2575    </td><td>1.0336e-05</td><td>4.5441e-06</td><td>0.0043538 </td><td>+         </td><td>C1orf226  </td></tr>\n",
       "</tbody>\n",
       "</table>\n"
      ],
      "text/latex": [
       "\\begin{tabular}{r|llllllllllllll}\n",
       " RANK & GENE & CHR & START & STOP & NSNPS & NPARAM & N & ZSTAT & P\\_JOINT & P\\_SNPWISE\\_MEAN & P\\_SNPWISE\\_TOP1 & STRAND & HUGO\\\\\n",
       "\\hline\n",
       "\t 1          &  57713     & 10         &   7000586  &   7653448  & 1674       & 160        & 10000      & 4.4744     & 3.8314e-06 & 9.0305e-07 & 0.0024449  & -          & SFMBT2    \\\\\n",
       "\t 2          & 117157     &  1         & 162165056  & 162581928  &  854       &  90        & 10000      & 4.3985     & 5.4508e-06 & 2.7958e-06 & 0.0033617  & -          & SH2D1B    \\\\\n",
       "\t 3          & 400793     &  1         & 162148696  & 162556608  &  874       &  89        & 10000      & 4.2575     & 1.0336e-05 & 4.5441e-06 & 0.0043538  & +          & C1orf226  \\\\\n",
       "\\end{tabular}\n"
      ],
      "text/markdown": [
       "\n",
       "RANK | GENE | CHR | START | STOP | NSNPS | NPARAM | N | ZSTAT | P_JOINT | P_SNPWISE_MEAN | P_SNPWISE_TOP1 | STRAND | HUGO | \n",
       "|---|---|---|\n",
       "| 1          |  57713     | 10         |   7000586  |   7653448  | 1674       | 160        | 10000      | 4.4744     | 3.8314e-06 | 9.0305e-07 | 0.0024449  | -          | SFMBT2     | \n",
       "| 2          | 117157     |  1         | 162165056  | 162581928  |  854       |  90        | 10000      | 4.3985     | 5.4508e-06 | 2.7958e-06 | 0.0033617  | -          | SH2D1B     | \n",
       "| 3          | 400793     |  1         | 162148696  | 162556608  |  874       |  89        | 10000      | 4.2575     | 1.0336e-05 | 4.5441e-06 | 0.0043538  | +          | C1orf226   | \n",
       "\n",
       "\n"
      ],
      "text/plain": [
       "  RANK GENE   CHR START     STOP      NSNPS NPARAM N     ZSTAT  P_JOINT   \n",
       "1 1     57713 10    7000586   7653448 1674  160    10000 4.4744 3.8314e-06\n",
       "2 2    117157  1  162165056 162581928  854   90    10000 4.3985 5.4508e-06\n",
       "3 3    400793  1  162148696 162556608  874   89    10000 4.2575 1.0336e-05\n",
       "  P_SNPWISE_MEAN P_SNPWISE_TOP1 STRAND HUGO    \n",
       "1 9.0305e-07     0.0024449      -      SFMBT2  \n",
       "2 2.7958e-06     0.0033617      -      SH2D1B  \n",
       "3 4.5441e-06     0.0043538      +      C1orf226"
      ]
     },
     "metadata": {},
     "output_type": "display_data"
    }
   ],
   "source": [
    "# GWAS METAL\n",
    "gwas_resultE3<-read.table(\"/mnt/Almacen6/Adapted/jupyterAnalisis_others/Meta_Stage_I_Stage_II/GRACEprobable_GERADapr/Magma/StageI_II.GRACEprob.GERADapr.ApoE3.stderr.lnOR.TBL_six_both.maf.05.SNP.LOC.200kb.genes.annot.sorted.HGNC\",header=TRUE)\n",
    "dim(gwas_resultE3)\n",
    "head(gwas_resultE3,n=3L)"
   ]
  },
  {
   "cell_type": "code",
   "execution_count": 2,
   "metadata": {
    "ExecuteTime": {
     "end_time": "2019-01-04T10:12:15.705906Z",
     "start_time": "2019-01-04T10:12:15.541Z"
    }
   },
   "outputs": [
    {
     "data": {
      "text/html": [
       "<ol class=list-inline>\n",
       "\t<li>'RANK'</li>\n",
       "\t<li>'GENEID'</li>\n",
       "\t<li>'CHR'</li>\n",
       "\t<li>'START'</li>\n",
       "\t<li>'STOP'</li>\n",
       "\t<li>'NSNPS'</li>\n",
       "\t<li>'NPARAM'</li>\n",
       "\t<li>'N'</li>\n",
       "\t<li>'ZSTAT'</li>\n",
       "\t<li>'P_JOINT'</li>\n",
       "\t<li>'P_SNPWISE_MEAN'</li>\n",
       "\t<li>'P_SNPWISE_TOP1'</li>\n",
       "\t<li>'STRAND'</li>\n",
       "\t<li>'genesymbol'</li>\n",
       "</ol>\n"
      ],
      "text/latex": [
       "\\begin{enumerate*}\n",
       "\\item 'RANK'\n",
       "\\item 'GENEID'\n",
       "\\item 'CHR'\n",
       "\\item 'START'\n",
       "\\item 'STOP'\n",
       "\\item 'NSNPS'\n",
       "\\item 'NPARAM'\n",
       "\\item 'N'\n",
       "\\item 'ZSTAT'\n",
       "\\item 'P\\_JOINT'\n",
       "\\item 'P\\_SNPWISE\\_MEAN'\n",
       "\\item 'P\\_SNPWISE\\_TOP1'\n",
       "\\item 'STRAND'\n",
       "\\item 'genesymbol'\n",
       "\\end{enumerate*}\n"
      ],
      "text/markdown": [
       "1. 'RANK'\n",
       "2. 'GENEID'\n",
       "3. 'CHR'\n",
       "4. 'START'\n",
       "5. 'STOP'\n",
       "6. 'NSNPS'\n",
       "7. 'NPARAM'\n",
       "8. 'N'\n",
       "9. 'ZSTAT'\n",
       "10. 'P_JOINT'\n",
       "11. 'P_SNPWISE_MEAN'\n",
       "12. 'P_SNPWISE_TOP1'\n",
       "13. 'STRAND'\n",
       "14. 'genesymbol'\n",
       "\n",
       "\n"
      ],
      "text/plain": [
       " [1] \"RANK\"           \"GENEID\"         \"CHR\"            \"START\"         \n",
       " [5] \"STOP\"           \"NSNPS\"          \"NPARAM\"         \"N\"             \n",
       " [9] \"ZSTAT\"          \"P_JOINT\"        \"P_SNPWISE_MEAN\" \"P_SNPWISE_TOP1\"\n",
       "[13] \"STRAND\"         \"genesymbol\"    "
      ]
     },
     "metadata": {},
     "output_type": "display_data"
    }
   ],
   "source": [
    "names(gwas_resultE3)[2]=\"GENEID\"\n",
    "names(gwas_resultE3)[14]=\"genesymbol\"\n",
    "names(gwas_resultE3)"
   ]
  },
  {
   "cell_type": "code",
   "execution_count": 3,
   "metadata": {
    "ExecuteTime": {
     "end_time": "2019-01-04T10:13:10.875066Z",
     "start_time": "2019-01-04T10:13:09.952Z"
    }
   },
   "outputs": [
    {
     "data": {
      "text/html": [
       "<ol class=list-inline>\n",
       "\t<li>18715</li>\n",
       "\t<li>10</li>\n",
       "</ol>\n"
      ],
      "text/latex": [
       "\\begin{enumerate*}\n",
       "\\item 18715\n",
       "\\item 10\n",
       "\\end{enumerate*}\n"
      ],
      "text/markdown": [
       "1. 18715\n",
       "2. 10\n",
       "\n",
       "\n"
      ],
      "text/plain": [
       "[1] 18715    10"
      ]
     },
     "metadata": {},
     "output_type": "display_data"
    },
    {
     "data": {
      "text/html": [
       "<table>\n",
       "<thead><tr><th scope=col>X</th><th scope=col>rankE3</th><th scope=col>logFC..case.vs.ctl.</th><th scope=col>Var</th><th scope=col>Qpvalue</th><th scope=col>REM.Pvalue</th><th scope=col>REM.FDR</th><th scope=col>Fisher.Pvalue</th><th scope=col>Fisher.FDR</th><th scope=col>n.estimators</th></tr></thead>\n",
       "<tbody>\n",
       "\t<tr><td>VEZF1       </td><td>1           </td><td> 0.31808111 </td><td>0.005416184 </td><td>1.278370e-04</td><td>1.545763e-05</td><td>0.00350056  </td><td>0.000000e+00</td><td>0.000000e+00</td><td>11          </td></tr>\n",
       "\t<tr><td>LANCL2      </td><td>2           </td><td>-0.02168236 </td><td>0.003314690 </td><td>7.193712e-13</td><td>7.064679e-01</td><td>0.91494234  </td><td>1.820100e-12</td><td>1.703158e-08</td><td>11          </td></tr>\n",
       "\t<tr><td>AP1S1       </td><td>3           </td><td>-0.06689675 </td><td>0.006172052 </td><td>1.438838e-12</td><td>3.944856e-01</td><td>0.75741050  </td><td>3.889666e-12</td><td>2.150089e-08</td><td>11          </td></tr>\n",
       "</tbody>\n",
       "</table>\n"
      ],
      "text/latex": [
       "\\begin{tabular}{r|llllllllll}\n",
       " X & rankE3 & logFC..case.vs.ctl. & Var & Qpvalue & REM.Pvalue & REM.FDR & Fisher.Pvalue & Fisher.FDR & n.estimators\\\\\n",
       "\\hline\n",
       "\t VEZF1        & 1            &  0.31808111  & 0.005416184  & 1.278370e-04 & 1.545763e-05 & 0.00350056   & 0.000000e+00 & 0.000000e+00 & 11          \\\\\n",
       "\t LANCL2       & 2            & -0.02168236  & 0.003314690  & 7.193712e-13 & 7.064679e-01 & 0.91494234   & 1.820100e-12 & 1.703158e-08 & 11          \\\\\n",
       "\t AP1S1        & 3            & -0.06689675  & 0.006172052  & 1.438838e-12 & 3.944856e-01 & 0.75741050   & 3.889666e-12 & 2.150089e-08 & 11          \\\\\n",
       "\\end{tabular}\n"
      ],
      "text/markdown": [
       "\n",
       "X | rankE3 | logFC..case.vs.ctl. | Var | Qpvalue | REM.Pvalue | REM.FDR | Fisher.Pvalue | Fisher.FDR | n.estimators | \n",
       "|---|---|---|\n",
       "| VEZF1        | 1            |  0.31808111  | 0.005416184  | 1.278370e-04 | 1.545763e-05 | 0.00350056   | 0.000000e+00 | 0.000000e+00 | 11           | \n",
       "| LANCL2       | 2            | -0.02168236  | 0.003314690  | 7.193712e-13 | 7.064679e-01 | 0.91494234   | 1.820100e-12 | 1.703158e-08 | 11           | \n",
       "| AP1S1        | 3            | -0.06689675  | 0.006172052  | 1.438838e-12 | 3.944856e-01 | 0.75741050   | 3.889666e-12 | 2.150089e-08 | 11           | \n",
       "\n",
       "\n"
      ],
      "text/plain": [
       "  X      rankE3 logFC..case.vs.ctl. Var         Qpvalue      REM.Pvalue  \n",
       "1 VEZF1  1       0.31808111         0.005416184 1.278370e-04 1.545763e-05\n",
       "2 LANCL2 2      -0.02168236         0.003314690 7.193712e-13 7.064679e-01\n",
       "3 AP1S1  3      -0.06689675         0.006172052 1.438838e-12 3.944856e-01\n",
       "  REM.FDR    Fisher.Pvalue Fisher.FDR   n.estimators\n",
       "1 0.00350056 0.000000e+00  0.000000e+00 11          \n",
       "2 0.91494234 1.820100e-12  1.703158e-08 11          \n",
       "3 0.75741050 3.889666e-12  2.150089e-08 11          "
      ]
     },
     "metadata": {},
     "output_type": "display_data"
    }
   ],
   "source": [
    "# GWES MetaDE\n",
    "expr_resultE3<-read.table(\"/mnt/Almacen6/Adapted/jupyterAnalisis_others/Meta_DE_All_Genes/StageI_II/cortex/L3-GWES-STAGE_I_II-CORTEX.MetaDE.ApoE3.csv\",sep=\",\",header=TRUE)\n",
    "expr_resultE3<-expr_resultE3[!(is.na(expr_resultE3$Fisher.Pvalue)), ] # removing or not genes with NA ficher does not have any effect on the merge dataset\n",
    "dim(expr_resultE3) \n",
    "head(expr_resultE3,n=3L)"
   ]
  },
  {
   "cell_type": "code",
   "execution_count": 4,
   "metadata": {
    "ExecuteTime": {
     "end_time": "2019-01-04T10:13:20.937272Z",
     "start_time": "2019-01-04T10:13:20.817Z"
    }
   },
   "outputs": [
    {
     "data": {
      "text/html": [
       "<ol class=list-inline>\n",
       "\t<li>'genesymbol'</li>\n",
       "\t<li>'rankE3'</li>\n",
       "\t<li>'logFC..case.vs.ctl.'</li>\n",
       "\t<li>'Var'</li>\n",
       "\t<li>'Qpvalue'</li>\n",
       "\t<li>'REM.Pvalue'</li>\n",
       "\t<li>'REM.FDR'</li>\n",
       "\t<li>'Fisher.Pvalue'</li>\n",
       "\t<li>'Fisher.FDR'</li>\n",
       "\t<li>'n.estimators'</li>\n",
       "</ol>\n"
      ],
      "text/latex": [
       "\\begin{enumerate*}\n",
       "\\item 'genesymbol'\n",
       "\\item 'rankE3'\n",
       "\\item 'logFC..case.vs.ctl.'\n",
       "\\item 'Var'\n",
       "\\item 'Qpvalue'\n",
       "\\item 'REM.Pvalue'\n",
       "\\item 'REM.FDR'\n",
       "\\item 'Fisher.Pvalue'\n",
       "\\item 'Fisher.FDR'\n",
       "\\item 'n.estimators'\n",
       "\\end{enumerate*}\n"
      ],
      "text/markdown": [
       "1. 'genesymbol'\n",
       "2. 'rankE3'\n",
       "3. 'logFC..case.vs.ctl.'\n",
       "4. 'Var'\n",
       "5. 'Qpvalue'\n",
       "6. 'REM.Pvalue'\n",
       "7. 'REM.FDR'\n",
       "8. 'Fisher.Pvalue'\n",
       "9. 'Fisher.FDR'\n",
       "10. 'n.estimators'\n",
       "\n",
       "\n"
      ],
      "text/plain": [
       " [1] \"genesymbol\"          \"rankE3\"              \"logFC..case.vs.ctl.\"\n",
       " [4] \"Var\"                 \"Qpvalue\"             \"REM.Pvalue\"         \n",
       " [7] \"REM.FDR\"             \"Fisher.Pvalue\"       \"Fisher.FDR\"         \n",
       "[10] \"n.estimators\"       "
      ]
     },
     "metadata": {},
     "output_type": "display_data"
    }
   ],
   "source": [
    "names(expr_resultE3)[1]=\"genesymbol\"\n",
    "names(expr_resultE3)"
   ]
  },
  {
   "cell_type": "code",
   "execution_count": 5,
   "metadata": {
    "ExecuteTime": {
     "end_time": "2019-01-04T10:13:31.211703Z",
     "start_time": "2019-01-04T10:13:30.815Z"
    }
   },
   "outputs": [
    {
     "data": {
      "text/html": [
       "<ol class=list-inline>\n",
       "\t<li>21274</li>\n",
       "\t<li>3</li>\n",
       "</ol>\n"
      ],
      "text/latex": [
       "\\begin{enumerate*}\n",
       "\\item 21274\n",
       "\\item 3\n",
       "\\end{enumerate*}\n"
      ],
      "text/markdown": [
       "1. 21274\n",
       "2. 3\n",
       "\n",
       "\n"
      ],
      "text/plain": [
       "[1] 21274     3"
      ]
     },
     "metadata": {},
     "output_type": "display_data"
    },
    {
     "data": {
      "text/html": [
       "<table>\n",
       "<thead><tr><th scope=col>rankE3</th><th scope=col>Name</th><th scope=col>Score</th></tr></thead>\n",
       "<tbody>\n",
       "\t<tr><td>1          </td><td>SH2D1B     </td><td>0.000109763</td></tr>\n",
       "\t<tr><td>2          </td><td>VEZF1      </td><td>0.000213727</td></tr>\n",
       "\t<tr><td>3          </td><td>SFMBT2     </td><td>0.000219521</td></tr>\n",
       "</tbody>\n",
       "</table>\n"
      ],
      "text/latex": [
       "\\begin{tabular}{r|lll}\n",
       " rankE3 & Name & Score\\\\\n",
       "\\hline\n",
       "\t 1           & SH2D1B      & 0.000109763\\\\\n",
       "\t 2           & VEZF1       & 0.000213727\\\\\n",
       "\t 3           & SFMBT2      & 0.000219521\\\\\n",
       "\\end{tabular}\n"
      ],
      "text/markdown": [
       "\n",
       "rankE3 | Name | Score | \n",
       "|---|---|---|\n",
       "| 1           | SH2D1B      | 0.000109763 | \n",
       "| 2           | VEZF1       | 0.000213727 | \n",
       "| 3           | SFMBT2      | 0.000219521 | \n",
       "\n",
       "\n"
      ],
      "text/plain": [
       "  rankE3 Name   Score      \n",
       "1 1      SH2D1B 0.000109763\n",
       "2 2      VEZF1  0.000213727\n",
       "3 3      SFMBT2 0.000219521"
      ]
     },
     "metadata": {},
     "output_type": "display_data"
    }
   ],
   "source": [
    "# Integrative\n",
    "RRA.E3=read.table(\"/mnt//Almacen6/Adapted//jupyterAnalisis_others/Integrative_analysis/Stage_I_Stage_II//GWAS_Cortex/L3-INTEGRA-STAGE_I_II-CORTEX.RRA.ApoE3.tsv\",header=T)\n",
    "dim(RRA.E3)\n",
    "head(RRA.E3,n=3)"
   ]
  },
  {
   "cell_type": "code",
   "execution_count": 6,
   "metadata": {
    "ExecuteTime": {
     "end_time": "2019-01-04T10:13:37.302904Z",
     "start_time": "2019-01-04T10:13:37.246Z"
    }
   },
   "outputs": [
    {
     "data": {
      "text/html": [
       "<ol class=list-inline>\n",
       "\t<li>'rankE3'</li>\n",
       "\t<li>'genesymbol'</li>\n",
       "\t<li>'Score'</li>\n",
       "</ol>\n"
      ],
      "text/latex": [
       "\\begin{enumerate*}\n",
       "\\item 'rankE3'\n",
       "\\item 'genesymbol'\n",
       "\\item 'Score'\n",
       "\\end{enumerate*}\n"
      ],
      "text/markdown": [
       "1. 'rankE3'\n",
       "2. 'genesymbol'\n",
       "3. 'Score'\n",
       "\n",
       "\n"
      ],
      "text/plain": [
       "[1] \"rankE3\"     \"genesymbol\" \"Score\"     "
      ]
     },
     "metadata": {},
     "output_type": "display_data"
    }
   ],
   "source": [
    "names(RRA.E3)[2]=\"genesymbol\"\n",
    "names(RRA.E3)"
   ]
  },
  {
   "cell_type": "code",
   "execution_count": 7,
   "metadata": {
    "ExecuteTime": {
     "end_time": "2019-01-04T10:13:50.972015Z",
     "start_time": "2019-01-04T10:13:50.814Z"
    }
   },
   "outputs": [
    {
     "data": {
      "text/html": [
       "<ol class=list-inline>\n",
       "\t<li>196</li>\n",
       "\t<li>8</li>\n",
       "</ol>\n"
      ],
      "text/latex": [
       "\\begin{enumerate*}\n",
       "\\item 196\n",
       "\\item 8\n",
       "\\end{enumerate*}\n"
      ],
      "text/markdown": [
       "1. 196\n",
       "2. 8\n",
       "\n",
       "\n"
      ],
      "text/plain": [
       "[1] 196   8"
      ]
     },
     "metadata": {},
     "output_type": "display_data"
    },
    {
     "data": {
      "text/html": [
       "<table>\n",
       "<thead><tr><th scope=col>category</th><th scope=col>ID</th><th scope=col>term</th><th scope=col>count</th><th scope=col>genes</th><th scope=col>logFC</th><th scope=col>adj_pval</th><th scope=col>zscore</th></tr></thead>\n",
       "<tbody>\n",
       "\t<tr><td>BP                                                 </td><td>GO:0031346                                         </td><td>positive regulation of cell projection organization</td><td>15                                                 </td><td>ACTR2                                              </td><td> 0.007593696                                       </td><td>7.560775e-07                                       </td><td>-0.2581989                                         </td></tr>\n",
       "\t<tr><td>BP                                                 </td><td>GO:0031346                                         </td><td>positive regulation of cell projection organization</td><td>15                                                 </td><td>ADCYAP1                                            </td><td>-0.207415668                                       </td><td>7.560775e-07                                       </td><td>-0.2581989                                         </td></tr>\n",
       "\t<tr><td>BP                                                 </td><td>GO:0031346                                         </td><td>positive regulation of cell projection organization</td><td>15                                                 </td><td>MARK2                                              </td><td> 0.052524316                                       </td><td>7.560775e-07                                       </td><td>-0.2581989                                         </td></tr>\n",
       "</tbody>\n",
       "</table>\n"
      ],
      "text/latex": [
       "\\begin{tabular}{r|llllllll}\n",
       " category & ID & term & count & genes & logFC & adj\\_pval & zscore\\\\\n",
       "\\hline\n",
       "\t BP                                                  & GO:0031346                                          & positive regulation of cell projection organization & 15                                                  & ACTR2                                               &  0.007593696                                        & 7.560775e-07                                        & -0.2581989                                         \\\\\n",
       "\t BP                                                  & GO:0031346                                          & positive regulation of cell projection organization & 15                                                  & ADCYAP1                                             & -0.207415668                                        & 7.560775e-07                                        & -0.2581989                                         \\\\\n",
       "\t BP                                                  & GO:0031346                                          & positive regulation of cell projection organization & 15                                                  & MARK2                                               &  0.052524316                                        & 7.560775e-07                                        & -0.2581989                                         \\\\\n",
       "\\end{tabular}\n"
      ],
      "text/markdown": [
       "\n",
       "category | ID | term | count | genes | logFC | adj_pval | zscore | \n",
       "|---|---|---|\n",
       "| BP                                                  | GO:0031346                                          | positive regulation of cell projection organization | 15                                                  | ACTR2                                               |  0.007593696                                        | 7.560775e-07                                        | -0.2581989                                          | \n",
       "| BP                                                  | GO:0031346                                          | positive regulation of cell projection organization | 15                                                  | ADCYAP1                                             | -0.207415668                                        | 7.560775e-07                                        | -0.2581989                                          | \n",
       "| BP                                                  | GO:0031346                                          | positive regulation of cell projection organization | 15                                                  | MARK2                                               |  0.052524316                                        | 7.560775e-07                                        | -0.2581989                                          | \n",
       "\n",
       "\n"
      ],
      "text/plain": [
       "  category ID         term                                                count\n",
       "1 BP       GO:0031346 positive regulation of cell projection organization 15   \n",
       "2 BP       GO:0031346 positive regulation of cell projection organization 15   \n",
       "3 BP       GO:0031346 positive regulation of cell projection organization 15   \n",
       "  genes   logFC        adj_pval     zscore    \n",
       "1 ACTR2    0.007593696 7.560775e-07 -0.2581989\n",
       "2 ADCYAP1 -0.207415668 7.560775e-07 -0.2581989\n",
       "3 MARK2    0.052524316 7.560775e-07 -0.2581989"
      ]
     },
     "metadata": {},
     "output_type": "display_data"
    }
   ],
   "source": [
    "# GO dataframe (combined result from Webgestalt and GOplot. GOplot removes redundant terms and calculates zscore )\n",
    "enrich.E3=read.table(\"/mnt/Almacen6/Adapted/jupyterAnalisis_others//Meta_DE_All_Genes/StageI_II/cortex/Enrichments/Renrich_plots/CORTEX.MetaDE.ApoE3_GOdataframe\")\n",
    "dim(enrich.E3)\n",
    "head(enrich.E3,n=3)"
   ]
  },
  {
   "cell_type": "code",
   "execution_count": 8,
   "metadata": {
    "ExecuteTime": {
     "end_time": "2019-01-04T10:14:01.888185Z",
     "start_time": "2019-01-04T10:14:01.816Z"
    }
   },
   "outputs": [
    {
     "data": {
      "text/html": [
       "<table>\n",
       "<thead><tr><th scope=col>category</th><th scope=col>ID</th><th scope=col>term</th><th scope=col>count</th><th scope=col>genesymbol</th><th scope=col>logFC</th><th scope=col>adj_pval</th><th scope=col>zscore</th><th scope=col>cat_term</th></tr></thead>\n",
       "<tbody>\n",
       "\t<tr><td>BP                                                    </td><td>GO:0031346                                            </td><td>positive regulation of cell projection organization   </td><td>15                                                    </td><td>ACTR2                                                 </td><td> 0.007593696                                          </td><td>7.560775e-07                                          </td><td>-0.2581989                                            </td><td>BP:positive regulation of cell projection organization</td></tr>\n",
       "\t<tr><td>BP                                                    </td><td>GO:0031346                                            </td><td>positive regulation of cell projection organization   </td><td>15                                                    </td><td>ADCYAP1                                               </td><td>-0.207415668                                          </td><td>7.560775e-07                                          </td><td>-0.2581989                                            </td><td>BP:positive regulation of cell projection organization</td></tr>\n",
       "\t<tr><td>BP                                                    </td><td>GO:0031346                                            </td><td>positive regulation of cell projection organization   </td><td>15                                                    </td><td>MARK2                                                 </td><td> 0.052524316                                          </td><td>7.560775e-07                                          </td><td>-0.2581989                                            </td><td>BP:positive regulation of cell projection organization</td></tr>\n",
       "</tbody>\n",
       "</table>\n"
      ],
      "text/latex": [
       "\\begin{tabular}{r|lllllllll}\n",
       " category & ID & term & count & genesymbol & logFC & adj\\_pval & zscore & cat\\_term\\\\\n",
       "\\hline\n",
       "\t BP                                                     & GO:0031346                                             & positive regulation of cell projection organization    & 15                                                     & ACTR2                                                  &  0.007593696                                           & 7.560775e-07                                           & -0.2581989                                             & BP:positive regulation of cell projection organization\\\\\n",
       "\t BP                                                     & GO:0031346                                             & positive regulation of cell projection organization    & 15                                                     & ADCYAP1                                                & -0.207415668                                           & 7.560775e-07                                           & -0.2581989                                             & BP:positive regulation of cell projection organization\\\\\n",
       "\t BP                                                     & GO:0031346                                             & positive regulation of cell projection organization    & 15                                                     & MARK2                                                  &  0.052524316                                           & 7.560775e-07                                           & -0.2581989                                             & BP:positive regulation of cell projection organization\\\\\n",
       "\\end{tabular}\n"
      ],
      "text/markdown": [
       "\n",
       "category | ID | term | count | genesymbol | logFC | adj_pval | zscore | cat_term | \n",
       "|---|---|---|\n",
       "| BP                                                     | GO:0031346                                             | positive regulation of cell projection organization    | 15                                                     | ACTR2                                                  |  0.007593696                                           | 7.560775e-07                                           | -0.2581989                                             | BP:positive regulation of cell projection organization | \n",
       "| BP                                                     | GO:0031346                                             | positive regulation of cell projection organization    | 15                                                     | ADCYAP1                                                | -0.207415668                                           | 7.560775e-07                                           | -0.2581989                                             | BP:positive regulation of cell projection organization | \n",
       "| BP                                                     | GO:0031346                                             | positive regulation of cell projection organization    | 15                                                     | MARK2                                                  |  0.052524316                                           | 7.560775e-07                                           | -0.2581989                                             | BP:positive regulation of cell projection organization | \n",
       "\n",
       "\n"
      ],
      "text/plain": [
       "  category ID         term                                                count\n",
       "1 BP       GO:0031346 positive regulation of cell projection organization 15   \n",
       "2 BP       GO:0031346 positive regulation of cell projection organization 15   \n",
       "3 BP       GO:0031346 positive regulation of cell projection organization 15   \n",
       "  genesymbol logFC        adj_pval     zscore    \n",
       "1 ACTR2       0.007593696 7.560775e-07 -0.2581989\n",
       "2 ADCYAP1    -0.207415668 7.560775e-07 -0.2581989\n",
       "3 MARK2       0.052524316 7.560775e-07 -0.2581989\n",
       "  cat_term                                              \n",
       "1 BP:positive regulation of cell projection organization\n",
       "2 BP:positive regulation of cell projection organization\n",
       "3 BP:positive regulation of cell projection organization"
      ]
     },
     "metadata": {},
     "output_type": "display_data"
    }
   ],
   "source": [
    "names(enrich.E3)[5]=\"genesymbol\"\n",
    "enrich.E3$cat_term=paste(enrich.E3$category,enrich.E3$term,sep=\":\")\n",
    "head(enrich.E3,n=3)"
   ]
  },
  {
   "cell_type": "markdown",
   "metadata": {},
   "source": [
    "## Prepare dataset with the variables needed"
   ]
  },
  {
   "cell_type": "code",
   "execution_count": 9,
   "metadata": {
    "ExecuteTime": {
     "end_time": "2019-01-04T10:14:52.068153Z",
     "start_time": "2019-01-04T10:14:51.876Z"
    }
   },
   "outputs": [
    {
     "data": {
      "text/html": [
       "<ol class=list-inline>\n",
       "\t<li>191</li>\n",
       "\t<li>33</li>\n",
       "</ol>\n"
      ],
      "text/latex": [
       "\\begin{enumerate*}\n",
       "\\item 191\n",
       "\\item 33\n",
       "\\end{enumerate*}\n"
      ],
      "text/markdown": [
       "1. 191\n",
       "2. 33\n",
       "\n",
       "\n"
      ],
      "text/plain": [
       "[1] 191  33"
      ]
     },
     "metadata": {},
     "output_type": "display_data"
    },
    {
     "data": {
      "text/html": [
       "<table>\n",
       "<thead><tr><th scope=col>genesymbol</th><th scope=col>RANK</th><th scope=col>GENEID</th><th scope=col>CHR</th><th scope=col>START</th><th scope=col>STOP</th><th scope=col>NSNPS</th><th scope=col>NPARAM</th><th scope=col>N</th><th scope=col>ZSTAT</th><th scope=col>...</th><th scope=col>rankE3.y</th><th scope=col>Score</th><th scope=col>category</th><th scope=col>ID</th><th scope=col>term</th><th scope=col>count</th><th scope=col>logFC</th><th scope=col>adj_pval</th><th scope=col>zscore</th><th scope=col>cat_term</th></tr></thead>\n",
       "<tbody>\n",
       "\t<tr><td>ACP1                                                  </td><td>2335                                                  </td><td>   52                                                 </td><td>2                                                     </td><td>   64869                                              </td><td>  478283                                              </td><td>708                                                   </td><td>60                                                    </td><td>10000                                                 </td><td>0.894400                                              </td><td>...                                                   </td><td>644                                                   </td><td>0.03284425                                            </td><td>CC                                                    </td><td>GO:0098562                                            </td><td>cytoplasmic side of membrane                          </td><td> 6                                                    </td><td>-0.088259870                                          </td><td>1.693486e-03                                          </td><td> 0.8164966                                            </td><td>CC:cytoplasmic side of membrane                       </td></tr>\n",
       "\t<tr><td>ACP1                                                  </td><td>2335                                                  </td><td>   52                                                 </td><td>2                                                     </td><td>   64869                                              </td><td>  478283                                              </td><td>708                                                   </td><td>60                                                    </td><td>10000                                                 </td><td>0.894400                                              </td><td>...                                                   </td><td>644                                                   </td><td>0.03284425                                            </td><td>CC                                                    </td><td>GO:0098552                                            </td><td>side of membrane                                      </td><td> 9                                                    </td><td>-0.088259870                                          </td><td>2.849047e-03                                          </td><td> 1.6666667                                            </td><td>CC:side of membrane                                   </td></tr>\n",
       "\t<tr><td>ACTR2                                                 </td><td>7613                                                  </td><td>10097                                                 </td><td>2                                                     </td><td>65254829                                              </td><td>65698387                                              </td><td>906                                                   </td><td>64                                                    </td><td>10000                                                 </td><td>0.015139                                              </td><td>...                                                   </td><td>446                                                   </td><td>0.02195385                                            </td><td>CC                                                    </td><td>GO:0015629                                            </td><td>actin cytoskeleton                                    </td><td>12                                                    </td><td> 0.007593696                                          </td><td>1.275399e-04                                          </td><td> 2.3094011                                            </td><td>CC:actin cytoskeleton                                 </td></tr>\n",
       "\t<tr><td>ACTR2                                                 </td><td>7613                                                  </td><td>10097                                                 </td><td>2                                                     </td><td>65254829                                              </td><td>65698387                                              </td><td>906                                                   </td><td>64                                                    </td><td>10000                                                 </td><td>0.015139                                              </td><td>...                                                   </td><td>446                                                   </td><td>0.02195385                                            </td><td>BP                                                    </td><td>GO:0010720                                            </td><td>positive regulation of cell development               </td><td>18                                                    </td><td> 0.007593696                                          </td><td>8.753904e-07                                          </td><td> 0.0000000                                            </td><td>BP:positive regulation of cell development            </td></tr>\n",
       "\t<tr><td>ACTR2                                                 </td><td>7613                                                  </td><td>10097                                                 </td><td>2                                                     </td><td>65254829                                              </td><td>65698387                                              </td><td>906                                                   </td><td>64                                                    </td><td>10000                                                 </td><td>0.015139                                              </td><td>...                                                   </td><td>446                                                   </td><td>0.02195385                                            </td><td>BP                                                    </td><td>GO:0031346                                            </td><td>positive regulation of cell projection organization   </td><td>15                                                    </td><td> 0.007593696                                          </td><td>7.560775e-07                                          </td><td>-0.2581989                                            </td><td>BP:positive regulation of cell projection organization</td></tr>\n",
       "\t<tr><td>ACTR2                                                 </td><td>7613                                                  </td><td>10097                                                 </td><td>2                                                     </td><td>65254829                                              </td><td>65698387                                              </td><td>906                                                   </td><td>64                                                    </td><td>10000                                                 </td><td>0.015139                                              </td><td>...                                                   </td><td>446                                                   </td><td>0.02195385                                            </td><td>CC                                                    </td><td>GO:0030055                                            </td><td>cell-substrate junction                               </td><td>15                                                    </td><td> 0.007593696                                          </td><td>2.125339e-07                                          </td><td> 2.3237900                                            </td><td>CC:cell-substrate junction                            </td></tr>\n",
       "</tbody>\n",
       "</table>\n"
      ],
      "text/latex": [
       "\\begin{tabular}{r|lllllllllllllllllllllllllllllllll}\n",
       " genesymbol & RANK & GENEID & CHR & START & STOP & NSNPS & NPARAM & N & ZSTAT & ... & rankE3.y & Score & category & ID & term & count & logFC & adj\\_pval & zscore & cat\\_term\\\\\n",
       "\\hline\n",
       "\t ACP1                                                   & 2335                                                   &    52                                                  & 2                                                      &    64869                                               &   478283                                               & 708                                                    & 60                                                     & 10000                                                  & 0.894400                                               & ...                                                    & 644                                                    & 0.03284425                                             & CC                                                     & GO:0098562                                             & cytoplasmic side of membrane                           &  6                                                     & -0.088259870                                           & 1.693486e-03                                           &  0.8164966                                             & CC:cytoplasmic side of membrane                       \\\\\n",
       "\t ACP1                                                   & 2335                                                   &    52                                                  & 2                                                      &    64869                                               &   478283                                               & 708                                                    & 60                                                     & 10000                                                  & 0.894400                                               & ...                                                    & 644                                                    & 0.03284425                                             & CC                                                     & GO:0098552                                             & side of membrane                                       &  9                                                     & -0.088259870                                           & 2.849047e-03                                           &  1.6666667                                             & CC:side of membrane                                   \\\\\n",
       "\t ACTR2                                                  & 7613                                                   & 10097                                                  & 2                                                      & 65254829                                               & 65698387                                               & 906                                                    & 64                                                     & 10000                                                  & 0.015139                                               & ...                                                    & 446                                                    & 0.02195385                                             & CC                                                     & GO:0015629                                             & actin cytoskeleton                                     & 12                                                     &  0.007593696                                           & 1.275399e-04                                           &  2.3094011                                             & CC:actin cytoskeleton                                 \\\\\n",
       "\t ACTR2                                                  & 7613                                                   & 10097                                                  & 2                                                      & 65254829                                               & 65698387                                               & 906                                                    & 64                                                     & 10000                                                  & 0.015139                                               & ...                                                    & 446                                                    & 0.02195385                                             & BP                                                     & GO:0010720                                             & positive regulation of cell development                & 18                                                     &  0.007593696                                           & 8.753904e-07                                           &  0.0000000                                             & BP:positive regulation of cell development            \\\\\n",
       "\t ACTR2                                                  & 7613                                                   & 10097                                                  & 2                                                      & 65254829                                               & 65698387                                               & 906                                                    & 64                                                     & 10000                                                  & 0.015139                                               & ...                                                    & 446                                                    & 0.02195385                                             & BP                                                     & GO:0031346                                             & positive regulation of cell projection organization    & 15                                                     &  0.007593696                                           & 7.560775e-07                                           & -0.2581989                                             & BP:positive regulation of cell projection organization\\\\\n",
       "\t ACTR2                                                  & 7613                                                   & 10097                                                  & 2                                                      & 65254829                                               & 65698387                                               & 906                                                    & 64                                                     & 10000                                                  & 0.015139                                               & ...                                                    & 446                                                    & 0.02195385                                             & CC                                                     & GO:0030055                                             & cell-substrate junction                                & 15                                                     &  0.007593696                                           & 2.125339e-07                                           &  2.3237900                                             & CC:cell-substrate junction                            \\\\\n",
       "\\end{tabular}\n"
      ],
      "text/markdown": [
       "\n",
       "genesymbol | RANK | GENEID | CHR | START | STOP | NSNPS | NPARAM | N | ZSTAT | ... | rankE3.y | Score | category | ID | term | count | logFC | adj_pval | zscore | cat_term | \n",
       "|---|---|---|---|---|---|\n",
       "| ACP1                                                   | 2335                                                   |    52                                                  | 2                                                      |    64869                                               |   478283                                               | 708                                                    | 60                                                     | 10000                                                  | 0.894400                                               | ...                                                    | 644                                                    | 0.03284425                                             | CC                                                     | GO:0098562                                             | cytoplasmic side of membrane                           |  6                                                     | -0.088259870                                           | 1.693486e-03                                           |  0.8164966                                             | CC:cytoplasmic side of membrane                        | \n",
       "| ACP1                                                   | 2335                                                   |    52                                                  | 2                                                      |    64869                                               |   478283                                               | 708                                                    | 60                                                     | 10000                                                  | 0.894400                                               | ...                                                    | 644                                                    | 0.03284425                                             | CC                                                     | GO:0098552                                             | side of membrane                                       |  9                                                     | -0.088259870                                           | 2.849047e-03                                           |  1.6666667                                             | CC:side of membrane                                    | \n",
       "| ACTR2                                                  | 7613                                                   | 10097                                                  | 2                                                      | 65254829                                               | 65698387                                               | 906                                                    | 64                                                     | 10000                                                  | 0.015139                                               | ...                                                    | 446                                                    | 0.02195385                                             | CC                                                     | GO:0015629                                             | actin cytoskeleton                                     | 12                                                     |  0.007593696                                           | 1.275399e-04                                           |  2.3094011                                             | CC:actin cytoskeleton                                  | \n",
       "| ACTR2                                                  | 7613                                                   | 10097                                                  | 2                                                      | 65254829                                               | 65698387                                               | 906                                                    | 64                                                     | 10000                                                  | 0.015139                                               | ...                                                    | 446                                                    | 0.02195385                                             | BP                                                     | GO:0010720                                             | positive regulation of cell development                | 18                                                     |  0.007593696                                           | 8.753904e-07                                           |  0.0000000                                             | BP:positive regulation of cell development             | \n",
       "| ACTR2                                                  | 7613                                                   | 10097                                                  | 2                                                      | 65254829                                               | 65698387                                               | 906                                                    | 64                                                     | 10000                                                  | 0.015139                                               | ...                                                    | 446                                                    | 0.02195385                                             | BP                                                     | GO:0031346                                             | positive regulation of cell projection organization    | 15                                                     |  0.007593696                                           | 7.560775e-07                                           | -0.2581989                                             | BP:positive regulation of cell projection organization | \n",
       "| ACTR2                                                  | 7613                                                   | 10097                                                  | 2                                                      | 65254829                                               | 65698387                                               | 906                                                    | 64                                                     | 10000                                                  | 0.015139                                               | ...                                                    | 446                                                    | 0.02195385                                             | CC                                                     | GO:0030055                                             | cell-substrate junction                                | 15                                                     |  0.007593696                                           | 2.125339e-07                                           |  2.3237900                                             | CC:cell-substrate junction                             | \n",
       "\n",
       "\n"
      ],
      "text/plain": [
       "  genesymbol RANK GENEID CHR START    STOP     NSNPS NPARAM N     ZSTAT    ...\n",
       "1 ACP1       2335    52  2      64869   478283 708   60     10000 0.894400 ...\n",
       "2 ACP1       2335    52  2      64869   478283 708   60     10000 0.894400 ...\n",
       "3 ACTR2      7613 10097  2   65254829 65698387 906   64     10000 0.015139 ...\n",
       "4 ACTR2      7613 10097  2   65254829 65698387 906   64     10000 0.015139 ...\n",
       "5 ACTR2      7613 10097  2   65254829 65698387 906   64     10000 0.015139 ...\n",
       "6 ACTR2      7613 10097  2   65254829 65698387 906   64     10000 0.015139 ...\n",
       "  rankE3.y Score      category ID        \n",
       "1 644      0.03284425 CC       GO:0098562\n",
       "2 644      0.03284425 CC       GO:0098552\n",
       "3 446      0.02195385 CC       GO:0015629\n",
       "4 446      0.02195385 BP       GO:0010720\n",
       "5 446      0.02195385 BP       GO:0031346\n",
       "6 446      0.02195385 CC       GO:0030055\n",
       "  term                                                count logFC       \n",
       "1 cytoplasmic side of membrane                         6    -0.088259870\n",
       "2 side of membrane                                     9    -0.088259870\n",
       "3 actin cytoskeleton                                  12     0.007593696\n",
       "4 positive regulation of cell development             18     0.007593696\n",
       "5 positive regulation of cell projection organization 15     0.007593696\n",
       "6 cell-substrate junction                             15     0.007593696\n",
       "  adj_pval     zscore    \n",
       "1 1.693486e-03  0.8164966\n",
       "2 2.849047e-03  1.6666667\n",
       "3 1.275399e-04  2.3094011\n",
       "4 8.753904e-07  0.0000000\n",
       "5 7.560775e-07 -0.2581989\n",
       "6 2.125339e-07  2.3237900\n",
       "  cat_term                                              \n",
       "1 CC:cytoplasmic side of membrane                       \n",
       "2 CC:side of membrane                                   \n",
       "3 CC:actin cytoskeleton                                 \n",
       "4 BP:positive regulation of cell development            \n",
       "5 BP:positive regulation of cell projection organization\n",
       "6 CC:cell-substrate junction                            "
      ]
     },
     "metadata": {},
     "output_type": "display_data"
    }
   ],
   "source": [
    "pheatmap.merge=Reduce(function(x, y) merge(x, y, by=\"genesymbol\"), list(gwas_resultE3,expr_resultE3,RRA.E3,enrich.E3))\n",
    "dim(pheatmap.merge)\n",
    "head(pheatmap.merge)"
   ]
  },
  {
   "cell_type": "code",
   "execution_count": 10,
   "metadata": {
    "ExecuteTime": {
     "end_time": "2019-01-04T10:15:02.248528Z",
     "start_time": "2019-01-04T10:15:02.169Z"
    }
   },
   "outputs": [
    {
     "data": {
      "text/html": [
       "71"
      ],
      "text/latex": [
       "71"
      ],
      "text/markdown": [
       "71"
      ],
      "text/plain": [
       "[1] 71"
      ]
     },
     "metadata": {},
     "output_type": "display_data"
    }
   ],
   "source": [
    "length(unique(pheatmap.merge$genesymbol)) "
   ]
  },
  {
   "cell_type": "code",
   "execution_count": 11,
   "metadata": {
    "ExecuteTime": {
     "end_time": "2019-01-04T10:15:10.531555Z",
     "start_time": "2019-01-04T10:15:10.470Z"
    }
   },
   "outputs": [
    {
     "data": {
      "text/html": [
       "<ol class=list-inline>\n",
       "\t<li>'genesymbol'</li>\n",
       "\t<li>'RANK'</li>\n",
       "\t<li>'GENEID'</li>\n",
       "\t<li>'CHR'</li>\n",
       "\t<li>'START'</li>\n",
       "\t<li>'STOP'</li>\n",
       "\t<li>'NSNPS'</li>\n",
       "\t<li>'NPARAM'</li>\n",
       "\t<li>'N'</li>\n",
       "\t<li>'ZSTAT'</li>\n",
       "\t<li>'P_JOINT'</li>\n",
       "\t<li>'P_SNPWISE_MEAN'</li>\n",
       "\t<li>'P_SNPWISE_TOP1'</li>\n",
       "\t<li>'STRAND'</li>\n",
       "\t<li>'rankE3.x'</li>\n",
       "\t<li>'logFC..case.vs.ctl.'</li>\n",
       "\t<li>'Var'</li>\n",
       "\t<li>'Qpvalue'</li>\n",
       "\t<li>'REM.Pvalue'</li>\n",
       "\t<li>'REM.FDR'</li>\n",
       "\t<li>'Fisher.Pvalue'</li>\n",
       "\t<li>'Fisher.FDR'</li>\n",
       "\t<li>'n.estimators'</li>\n",
       "\t<li>'rankE3.y'</li>\n",
       "\t<li>'Score'</li>\n",
       "\t<li>'category'</li>\n",
       "\t<li>'ID'</li>\n",
       "\t<li>'term'</li>\n",
       "\t<li>'count'</li>\n",
       "\t<li>'logFC'</li>\n",
       "\t<li>'adj_pval'</li>\n",
       "\t<li>'zscore'</li>\n",
       "\t<li>'cat_term'</li>\n",
       "</ol>\n"
      ],
      "text/latex": [
       "\\begin{enumerate*}\n",
       "\\item 'genesymbol'\n",
       "\\item 'RANK'\n",
       "\\item 'GENEID'\n",
       "\\item 'CHR'\n",
       "\\item 'START'\n",
       "\\item 'STOP'\n",
       "\\item 'NSNPS'\n",
       "\\item 'NPARAM'\n",
       "\\item 'N'\n",
       "\\item 'ZSTAT'\n",
       "\\item 'P\\_JOINT'\n",
       "\\item 'P\\_SNPWISE\\_MEAN'\n",
       "\\item 'P\\_SNPWISE\\_TOP1'\n",
       "\\item 'STRAND'\n",
       "\\item 'rankE3.x'\n",
       "\\item 'logFC..case.vs.ctl.'\n",
       "\\item 'Var'\n",
       "\\item 'Qpvalue'\n",
       "\\item 'REM.Pvalue'\n",
       "\\item 'REM.FDR'\n",
       "\\item 'Fisher.Pvalue'\n",
       "\\item 'Fisher.FDR'\n",
       "\\item 'n.estimators'\n",
       "\\item 'rankE3.y'\n",
       "\\item 'Score'\n",
       "\\item 'category'\n",
       "\\item 'ID'\n",
       "\\item 'term'\n",
       "\\item 'count'\n",
       "\\item 'logFC'\n",
       "\\item 'adj\\_pval'\n",
       "\\item 'zscore'\n",
       "\\item 'cat\\_term'\n",
       "\\end{enumerate*}\n"
      ],
      "text/markdown": [
       "1. 'genesymbol'\n",
       "2. 'RANK'\n",
       "3. 'GENEID'\n",
       "4. 'CHR'\n",
       "5. 'START'\n",
       "6. 'STOP'\n",
       "7. 'NSNPS'\n",
       "8. 'NPARAM'\n",
       "9. 'N'\n",
       "10. 'ZSTAT'\n",
       "11. 'P_JOINT'\n",
       "12. 'P_SNPWISE_MEAN'\n",
       "13. 'P_SNPWISE_TOP1'\n",
       "14. 'STRAND'\n",
       "15. 'rankE3.x'\n",
       "16. 'logFC..case.vs.ctl.'\n",
       "17. 'Var'\n",
       "18. 'Qpvalue'\n",
       "19. 'REM.Pvalue'\n",
       "20. 'REM.FDR'\n",
       "21. 'Fisher.Pvalue'\n",
       "22. 'Fisher.FDR'\n",
       "23. 'n.estimators'\n",
       "24. 'rankE3.y'\n",
       "25. 'Score'\n",
       "26. 'category'\n",
       "27. 'ID'\n",
       "28. 'term'\n",
       "29. 'count'\n",
       "30. 'logFC'\n",
       "31. 'adj_pval'\n",
       "32. 'zscore'\n",
       "33. 'cat_term'\n",
       "\n",
       "\n"
      ],
      "text/plain": [
       " [1] \"genesymbol\"          \"RANK\"                \"GENEID\"             \n",
       " [4] \"CHR\"                 \"START\"               \"STOP\"               \n",
       " [7] \"NSNPS\"               \"NPARAM\"              \"N\"                  \n",
       "[10] \"ZSTAT\"               \"P_JOINT\"             \"P_SNPWISE_MEAN\"     \n",
       "[13] \"P_SNPWISE_TOP1\"      \"STRAND\"              \"rankE3.x\"           \n",
       "[16] \"logFC..case.vs.ctl.\" \"Var\"                 \"Qpvalue\"            \n",
       "[19] \"REM.Pvalue\"          \"REM.FDR\"             \"Fisher.Pvalue\"      \n",
       "[22] \"Fisher.FDR\"          \"n.estimators\"        \"rankE3.y\"           \n",
       "[25] \"Score\"               \"category\"            \"ID\"                 \n",
       "[28] \"term\"                \"count\"               \"logFC\"              \n",
       "[31] \"adj_pval\"            \"zscore\"              \"cat_term\"           "
      ]
     },
     "metadata": {},
     "output_type": "display_data"
    }
   ],
   "source": [
    "names(pheatmap.merge)"
   ]
  },
  {
   "cell_type": "code",
   "execution_count": 12,
   "metadata": {
    "ExecuteTime": {
     "end_time": "2019-01-04T10:25:46.093446Z",
     "start_time": "2019-01-04T10:25:46.022Z"
    }
   },
   "outputs": [
    {
     "data": {
      "text/html": [
       "<table>\n",
       "<thead><tr><th scope=col>genesymbol</th><th scope=col>P_SNPWISE_MEAN</th><th scope=col>logFC..case.vs.ctl.</th><th scope=col>REM.Pvalue</th><th scope=col>Score</th><th scope=col>logFC</th><th scope=col>adj_pval</th><th scope=col>zscore</th><th scope=col>cat_term</th></tr></thead>\n",
       "<tbody>\n",
       "\t<tr><td>ACP1                           </td><td>0.083462                       </td><td>-0.088259870                   </td><td>0.1456767                      </td><td>0.03284425                     </td><td>-0.088259870                   </td><td>0.0016934862                   </td><td>0.8164966                      </td><td>CC:cytoplasmic side of membrane</td></tr>\n",
       "\t<tr><td>ACP1                           </td><td>0.083462                       </td><td>-0.088259870                   </td><td>0.1456767                      </td><td>0.03284425                     </td><td>-0.088259870                   </td><td>0.0028490465                   </td><td>1.6666667                      </td><td>CC:side of membrane            </td></tr>\n",
       "\t<tr><td>ACTR2                          </td><td>0.368630                       </td><td> 0.007593696                   </td><td>0.9182694                      </td><td>0.02195385                     </td><td> 0.007593696                   </td><td>0.0001275399                   </td><td>2.3094011                      </td><td>CC:actin cytoskeleton          </td></tr>\n",
       "</tbody>\n",
       "</table>\n"
      ],
      "text/latex": [
       "\\begin{tabular}{r|lllllllll}\n",
       " genesymbol & P\\_SNPWISE\\_MEAN & logFC..case.vs.ctl. & REM.Pvalue & Score & logFC & adj\\_pval & zscore & cat\\_term\\\\\n",
       "\\hline\n",
       "\t ACP1                            & 0.083462                        & -0.088259870                    & 0.1456767                       & 0.03284425                      & -0.088259870                    & 0.0016934862                    & 0.8164966                       & CC:cytoplasmic side of membrane\\\\\n",
       "\t ACP1                            & 0.083462                        & -0.088259870                    & 0.1456767                       & 0.03284425                      & -0.088259870                    & 0.0028490465                    & 1.6666667                       & CC:side of membrane            \\\\\n",
       "\t ACTR2                           & 0.368630                        &  0.007593696                    & 0.9182694                       & 0.02195385                      &  0.007593696                    & 0.0001275399                    & 2.3094011                       & CC:actin cytoskeleton          \\\\\n",
       "\\end{tabular}\n"
      ],
      "text/markdown": [
       "\n",
       "genesymbol | P_SNPWISE_MEAN | logFC..case.vs.ctl. | REM.Pvalue | Score | logFC | adj_pval | zscore | cat_term | \n",
       "|---|---|---|\n",
       "| ACP1                            | 0.083462                        | -0.088259870                    | 0.1456767                       | 0.03284425                      | -0.088259870                    | 0.0016934862                    | 0.8164966                       | CC:cytoplasmic side of membrane | \n",
       "| ACP1                            | 0.083462                        | -0.088259870                    | 0.1456767                       | 0.03284425                      | -0.088259870                    | 0.0028490465                    | 1.6666667                       | CC:side of membrane             | \n",
       "| ACTR2                           | 0.368630                        |  0.007593696                    | 0.9182694                       | 0.02195385                      |  0.007593696                    | 0.0001275399                    | 2.3094011                       | CC:actin cytoskeleton           | \n",
       "\n",
       "\n"
      ],
      "text/plain": [
       "  genesymbol P_SNPWISE_MEAN logFC..case.vs.ctl. REM.Pvalue Score     \n",
       "1 ACP1       0.083462       -0.088259870        0.1456767  0.03284425\n",
       "2 ACP1       0.083462       -0.088259870        0.1456767  0.03284425\n",
       "3 ACTR2      0.368630        0.007593696        0.9182694  0.02195385\n",
       "  logFC        adj_pval     zscore    cat_term                       \n",
       "1 -0.088259870 0.0016934862 0.8164966 CC:cytoplasmic side of membrane\n",
       "2 -0.088259870 0.0028490465 1.6666667 CC:side of membrane            \n",
       "3  0.007593696 0.0001275399 2.3094011 CC:actin cytoskeleton          "
      ]
     },
     "metadata": {},
     "output_type": "display_data"
    }
   ],
   "source": [
    "pheatmap.df=pheatmap.merge[, c(1,12,16,19,25,30,31,32,33)]\n",
    "head(pheatmap.df,n=3)"
   ]
  },
  {
   "cell_type": "code",
   "execution_count": 13,
   "metadata": {
    "ExecuteTime": {
     "end_time": "2019-01-04T10:41:03.600521Z",
     "start_time": "2019-01-04T10:41:03.531Z"
    }
   },
   "outputs": [
    {
     "data": {
      "text/html": [
       "<table>\n",
       "<thead><tr><th scope=col>genesymbol</th><th scope=col>GWAS_Metal_pvalue</th><th scope=col>GWES_Meta_logFC</th><th scope=col>GWES_Meta_pvalue</th><th scope=col>RRA_pvalue</th><th scope=col>GO_logFC</th><th scope=col>GO_pvalue</th><th scope=col>GO_zscore</th><th scope=col>GO_term</th></tr></thead>\n",
       "<tbody>\n",
       "\t<tr><td>ACP1                           </td><td>0.083462                       </td><td>-0.088259870                   </td><td>0.1456767                      </td><td>0.03284425                     </td><td>-0.088259870                   </td><td>0.0016934862                   </td><td>0.8164966                      </td><td>CC:cytoplasmic side of membrane</td></tr>\n",
       "\t<tr><td>ACP1                           </td><td>0.083462                       </td><td>-0.088259870                   </td><td>0.1456767                      </td><td>0.03284425                     </td><td>-0.088259870                   </td><td>0.0028490465                   </td><td>1.6666667                      </td><td>CC:side of membrane            </td></tr>\n",
       "\t<tr><td>ACTR2                          </td><td>0.368630                       </td><td> 0.007593696                   </td><td>0.9182694                      </td><td>0.02195385                     </td><td> 0.007593696                   </td><td>0.0001275399                   </td><td>2.3094011                      </td><td>CC:actin cytoskeleton          </td></tr>\n",
       "</tbody>\n",
       "</table>\n"
      ],
      "text/latex": [
       "\\begin{tabular}{r|lllllllll}\n",
       " genesymbol & GWAS\\_Metal\\_pvalue & GWES\\_Meta\\_logFC & GWES\\_Meta\\_pvalue & RRA\\_pvalue & GO\\_logFC & GO\\_pvalue & GO\\_zscore & GO\\_term\\\\\n",
       "\\hline\n",
       "\t ACP1                            & 0.083462                        & -0.088259870                    & 0.1456767                       & 0.03284425                      & -0.088259870                    & 0.0016934862                    & 0.8164966                       & CC:cytoplasmic side of membrane\\\\\n",
       "\t ACP1                            & 0.083462                        & -0.088259870                    & 0.1456767                       & 0.03284425                      & -0.088259870                    & 0.0028490465                    & 1.6666667                       & CC:side of membrane            \\\\\n",
       "\t ACTR2                           & 0.368630                        &  0.007593696                    & 0.9182694                       & 0.02195385                      &  0.007593696                    & 0.0001275399                    & 2.3094011                       & CC:actin cytoskeleton          \\\\\n",
       "\\end{tabular}\n"
      ],
      "text/markdown": [
       "\n",
       "genesymbol | GWAS_Metal_pvalue | GWES_Meta_logFC | GWES_Meta_pvalue | RRA_pvalue | GO_logFC | GO_pvalue | GO_zscore | GO_term | \n",
       "|---|---|---|\n",
       "| ACP1                            | 0.083462                        | -0.088259870                    | 0.1456767                       | 0.03284425                      | -0.088259870                    | 0.0016934862                    | 0.8164966                       | CC:cytoplasmic side of membrane | \n",
       "| ACP1                            | 0.083462                        | -0.088259870                    | 0.1456767                       | 0.03284425                      | -0.088259870                    | 0.0028490465                    | 1.6666667                       | CC:side of membrane             | \n",
       "| ACTR2                           | 0.368630                        |  0.007593696                    | 0.9182694                       | 0.02195385                      |  0.007593696                    | 0.0001275399                    | 2.3094011                       | CC:actin cytoskeleton           | \n",
       "\n",
       "\n"
      ],
      "text/plain": [
       "  genesymbol GWAS_Metal_pvalue GWES_Meta_logFC GWES_Meta_pvalue RRA_pvalue\n",
       "1 ACP1       0.083462          -0.088259870    0.1456767        0.03284425\n",
       "2 ACP1       0.083462          -0.088259870    0.1456767        0.03284425\n",
       "3 ACTR2      0.368630           0.007593696    0.9182694        0.02195385\n",
       "  GO_logFC     GO_pvalue    GO_zscore GO_term                        \n",
       "1 -0.088259870 0.0016934862 0.8164966 CC:cytoplasmic side of membrane\n",
       "2 -0.088259870 0.0028490465 1.6666667 CC:side of membrane            \n",
       "3  0.007593696 0.0001275399 2.3094011 CC:actin cytoskeleton          "
      ]
     },
     "metadata": {},
     "output_type": "display_data"
    }
   ],
   "source": [
    "names(pheatmap.df)<-c(\"genesymbol\",\"GWAS_Metal_pvalue\",\"GWES_Meta_logFC\",\"GWES_Meta_pvalue\",\"RRA_pvalue\",\"GO_logFC\",\"GO_pvalue\",\"GO_zscore\",\"GO_term\")\n",
    "head(pheatmap.df,n=3)"
   ]
  },
  {
   "cell_type": "markdown",
   "metadata": {},
   "source": [
    "* **NOT NEEDED - separate pheatmap because there are duplicates in genes not allowed in the pheatmap plot **"
   ]
  },
  {
   "cell_type": "raw",
   "metadata": {
    "ExecuteTime": {
     "end_time": "2018-12-05T12:42:33.729705Z",
     "start_time": "2018-12-05T12:42:32.338Z"
    }
   },
   "source": [
    "pheatmap.merge1=Reduce(function(x, y) merge(x, y, by=\"genesymbol\", all=FALSE), list(gwas_resultE3,expr_resultE3,RRA.E3))\n",
    "dim(pheatmap.merge1)\n",
    "head(pheatmap.merge1)"
   ]
  },
  {
   "cell_type": "raw",
   "metadata": {
    "ExecuteTime": {
     "end_time": "2018-12-05T12:42:47.309124Z",
     "start_time": "2018-12-05T12:42:46.021Z"
    }
   },
   "source": [
    "pheatmap.merge1=pheatmap.merge1[pheatmap.merge1$genesymbol %in% unique(enrich.E3$genes) ,]\n",
    "dim(pheatmap.merge1) # 108, correct"
   ]
  },
  {
   "cell_type": "raw",
   "metadata": {
    "ExecuteTime": {
     "end_time": "2018-12-05T12:44:05.093188Z",
     "start_time": "2018-12-05T12:44:03.802Z"
    }
   },
   "source": [
    "pheatmap.df1=pheatmap.merge1[, c(1,12,16,19,25)]\n",
    "names(pheatmap.df1)<-c(\"genesymbol\",\"GWAS_Metal_pvalue\",\"GWES_Meta_logFC\",\"GWES_Meta_pvalue\",\"RRA_pvalue\")\n",
    "head(pheatmap.df1,n=3)"
   ]
  },
  {
   "cell_type": "raw",
   "metadata": {
    "ExecuteTime": {
     "end_time": "2018-12-05T12:44:27.402317Z",
     "start_time": "2018-12-05T12:44:26.109Z"
    }
   },
   "source": [
    "length(unique(pheatmap.df1$genesymbol)) # ok - no duplicates"
   ]
  },
  {
   "cell_type": "code",
   "execution_count": null,
   "metadata": {
    "collapsed": true,
    "jupyter": {
     "outputs_hidden": true
    }
   },
   "outputs": [],
   "source": []
  },
  {
   "cell_type": "markdown",
   "metadata": {},
   "source": [
    "## pheatmap plot"
   ]
  },
  {
   "cell_type": "markdown",
   "metadata": {},
   "source": [
    " - per rows: GO terms (including kegg, reactome..) -  dataframe reduced_circ needed\n",
    " - per column: genes - reduced_circ\n",
    " - annotation rows (left ): log(pvalue) GoPlot and z-score (per category) - reduced_circ\n",
    " - annotation columns (top):  log(value) GWAS METAL, log(pvalue) GWES MetaDE and log(pvalue) integrative\n",
    " - cell: logFC MetaDE (same log fc in columns - representing genes)\n",
    " \n",
    "logFC MetaDE is equal to logFC of GO enrichment"
   ]
  },
  {
   "cell_type": "markdown",
   "metadata": {},
   "source": [
    "### annotations for columns"
   ]
  },
  {
   "cell_type": "code",
   "execution_count": 15,
   "metadata": {
    "ExecuteTime": {
     "end_time": "2019-01-04T10:42:37.138204Z",
     "start_time": "2019-01-04T10:42:37.054Z"
    },
    "collapsed": true,
    "jupyter": {
     "outputs_hidden": true
    }
   },
   "outputs": [],
   "source": [
    "# Generate annotations for columns\n",
    "annotation_col = data.frame(\n",
    "                    MetaGWASp = -log10(unique(pheatmap.df$GWAS_Metal_pvalue)), \n",
    "                    MetaGWESp = -log10(unique(pheatmap.df$GWES_Meta_pvalue)),\n",
    "                    RRAp = -log10(unique(pheatmap.df$RRA_pvalue)) )\n",
    "rownames(annotation_col) = unique(pheatmap.df$genesymbol)\n",
    "colnames(annotation_col)=c(\"-log(MetaGWASpvalue)\",\"-log(MetaGWESpvalue)\",\"-log(RRApvalue)\")"
   ]
  },
  {
   "cell_type": "code",
   "execution_count": 16,
   "metadata": {
    "ExecuteTime": {
     "end_time": "2019-01-04T10:45:16.825557Z",
     "start_time": "2019-01-04T10:45:16.759Z"
    }
   },
   "outputs": [
    {
     "data": {
      "text/html": [
       "<table>\n",
       "<thead><tr><th></th><th scope=col>-log(MetaGWASpvalue)</th><th scope=col>-log(MetaGWESpvalue)</th><th scope=col>-log(RRApvalue)</th></tr></thead>\n",
       "<tbody>\n",
       "\t<tr><th scope=row>ACP1</th><td>1.0785112 </td><td>0.83660981</td><td>1.483541  </td></tr>\n",
       "\t<tr><th scope=row>ACTR2</th><td>0.4334093 </td><td>0.03702991</td><td>1.658489  </td></tr>\n",
       "\t<tr><th scope=row>ADCYAP1</th><td>0.6265363 </td><td>1.80438974</td><td>2.892048  </td></tr>\n",
       "</tbody>\n",
       "</table>\n"
      ],
      "text/latex": [
       "\\begin{tabular}{r|lll}\n",
       "  & -log(MetaGWASpvalue) & -log(MetaGWESpvalue) & -log(RRApvalue)\\\\\n",
       "\\hline\n",
       "\tACP1 & 1.0785112  & 0.83660981 & 1.483541  \\\\\n",
       "\tACTR2 & 0.4334093  & 0.03702991 & 1.658489  \\\\\n",
       "\tADCYAP1 & 0.6265363  & 1.80438974 & 2.892048  \\\\\n",
       "\\end{tabular}\n"
      ],
      "text/markdown": [
       "\n",
       "| <!--/--> | -log(MetaGWASpvalue) | -log(MetaGWESpvalue) | -log(RRApvalue) | \n",
       "|---|---|---|\n",
       "| ACP1 | 1.0785112  | 0.83660981 | 1.483541   | \n",
       "| ACTR2 | 0.4334093  | 0.03702991 | 1.658489   | \n",
       "| ADCYAP1 | 0.6265363  | 1.80438974 | 2.892048   | \n",
       "\n",
       "\n"
      ],
      "text/plain": [
       "        -log(MetaGWASpvalue) -log(MetaGWESpvalue) -log(RRApvalue)\n",
       "ACP1    1.0785112            0.83660981           1.483541       \n",
       "ACTR2   0.4334093            0.03702991           1.658489       \n",
       "ADCYAP1 0.6265363            1.80438974           2.892048       "
      ]
     },
     "metadata": {},
     "output_type": "display_data"
    }
   ],
   "source": [
    "head(annotation_col,n=3)"
   ]
  },
  {
   "cell_type": "code",
   "execution_count": null,
   "metadata": {},
   "outputs": [],
   "source": [
    "apply(annotation_col, 2, function(x) any(is.infinite(x)))"
   ]
  },
  {
   "cell_type": "markdown",
   "metadata": {},
   "source": [
    "### annotations for rows, same zscore and p value per term"
   ]
  },
  {
   "cell_type": "code",
   "execution_count": 17,
   "metadata": {
    "ExecuteTime": {
     "end_time": "2019-01-04T10:46:51.645012Z",
     "start_time": "2019-01-04T10:46:51.572Z"
    }
   },
   "outputs": [
    {
     "data": {
      "text/html": [
       "<ol class=list-inline>\n",
       "\t<li>191</li>\n",
       "\t<li>9</li>\n",
       "</ol>\n"
      ],
      "text/latex": [
       "\\begin{enumerate*}\n",
       "\\item 191\n",
       "\\item 9\n",
       "\\end{enumerate*}\n"
      ],
      "text/markdown": [
       "1. 191\n",
       "2. 9\n",
       "\n",
       "\n"
      ],
      "text/plain": [
       "[1] 191   9"
      ]
     },
     "metadata": {},
     "output_type": "display_data"
    },
    {
     "data": {
      "text/html": [
       "<table>\n",
       "<thead><tr><th scope=col>genesymbol</th><th scope=col>GWAS_Metal_pvalue</th><th scope=col>GWES_Meta_logFC</th><th scope=col>GWES_Meta_pvalue</th><th scope=col>RRA_pvalue</th><th scope=col>GO_logFC</th><th scope=col>GO_pvalue</th><th scope=col>GO_zscore</th><th scope=col>GO_term</th></tr></thead>\n",
       "<tbody>\n",
       "\t<tr><td>ACP1                           </td><td>0.083462                       </td><td>-0.088259870                   </td><td>0.1456767                      </td><td>0.03284425                     </td><td>-0.088259870                   </td><td>0.0016934862                   </td><td>0.8164966                      </td><td>CC:cytoplasmic side of membrane</td></tr>\n",
       "\t<tr><td>ACP1                           </td><td>0.083462                       </td><td>-0.088259870                   </td><td>0.1456767                      </td><td>0.03284425                     </td><td>-0.088259870                   </td><td>0.0028490465                   </td><td>1.6666667                      </td><td>CC:side of membrane            </td></tr>\n",
       "\t<tr><td>ACTR2                          </td><td>0.368630                       </td><td> 0.007593696                   </td><td>0.9182694                      </td><td>0.02195385                     </td><td> 0.007593696                   </td><td>0.0001275399                   </td><td>2.3094011                      </td><td>CC:actin cytoskeleton          </td></tr>\n",
       "</tbody>\n",
       "</table>\n"
      ],
      "text/latex": [
       "\\begin{tabular}{r|lllllllll}\n",
       " genesymbol & GWAS\\_Metal\\_pvalue & GWES\\_Meta\\_logFC & GWES\\_Meta\\_pvalue & RRA\\_pvalue & GO\\_logFC & GO\\_pvalue & GO\\_zscore & GO\\_term\\\\\n",
       "\\hline\n",
       "\t ACP1                            & 0.083462                        & -0.088259870                    & 0.1456767                       & 0.03284425                      & -0.088259870                    & 0.0016934862                    & 0.8164966                       & CC:cytoplasmic side of membrane\\\\\n",
       "\t ACP1                            & 0.083462                        & -0.088259870                    & 0.1456767                       & 0.03284425                      & -0.088259870                    & 0.0028490465                    & 1.6666667                       & CC:side of membrane            \\\\\n",
       "\t ACTR2                           & 0.368630                        &  0.007593696                    & 0.9182694                       & 0.02195385                      &  0.007593696                    & 0.0001275399                    & 2.3094011                       & CC:actin cytoskeleton          \\\\\n",
       "\\end{tabular}\n"
      ],
      "text/markdown": [
       "\n",
       "genesymbol | GWAS_Metal_pvalue | GWES_Meta_logFC | GWES_Meta_pvalue | RRA_pvalue | GO_logFC | GO_pvalue | GO_zscore | GO_term | \n",
       "|---|---|---|\n",
       "| ACP1                            | 0.083462                        | -0.088259870                    | 0.1456767                       | 0.03284425                      | -0.088259870                    | 0.0016934862                    | 0.8164966                       | CC:cytoplasmic side of membrane | \n",
       "| ACP1                            | 0.083462                        | -0.088259870                    | 0.1456767                       | 0.03284425                      | -0.088259870                    | 0.0028490465                    | 1.6666667                       | CC:side of membrane             | \n",
       "| ACTR2                           | 0.368630                        |  0.007593696                    | 0.9182694                       | 0.02195385                      |  0.007593696                    | 0.0001275399                    | 2.3094011                       | CC:actin cytoskeleton           | \n",
       "\n",
       "\n"
      ],
      "text/plain": [
       "  genesymbol GWAS_Metal_pvalue GWES_Meta_logFC GWES_Meta_pvalue RRA_pvalue\n",
       "1 ACP1       0.083462          -0.088259870    0.1456767        0.03284425\n",
       "2 ACP1       0.083462          -0.088259870    0.1456767        0.03284425\n",
       "3 ACTR2      0.368630           0.007593696    0.9182694        0.02195385\n",
       "  GO_logFC     GO_pvalue    GO_zscore GO_term                        \n",
       "1 -0.088259870 0.0016934862 0.8164966 CC:cytoplasmic side of membrane\n",
       "2 -0.088259870 0.0028490465 1.6666667 CC:side of membrane            \n",
       "3  0.007593696 0.0001275399 2.3094011 CC:actin cytoskeleton          "
      ]
     },
     "metadata": {},
     "output_type": "display_data"
    }
   ],
   "source": [
    "dim(pheatmap.df)\n",
    "head(pheatmap.df,n=3)"
   ]
  },
  {
   "cell_type": "code",
   "execution_count": 18,
   "metadata": {
    "ExecuteTime": {
     "end_time": "2019-01-04T10:47:28.814185Z",
     "start_time": "2019-01-04T10:47:28.699Z"
    }
   },
   "outputs": [
    {
     "data": {
      "text/html": [
       "<table>\n",
       "<thead><tr><th></th><th scope=col>genesymbol</th><th scope=col>GWAS_Metal_pvalue</th><th scope=col>GWES_Meta_logFC</th><th scope=col>GWES_Meta_pvalue</th><th scope=col>RRA_pvalue</th><th scope=col>GO_logFC</th><th scope=col>GO_pvalue</th><th scope=col>GO_zscore</th><th scope=col>GO_term</th></tr></thead>\n",
       "<tbody>\n",
       "\t<tr><th scope=row>2</th><td>ACP1               </td><td>0.083462           </td><td>-0.08825987        </td><td>0.1456767          </td><td>0.03284425         </td><td>-0.08825987        </td><td>0.002849047        </td><td>1.666667           </td><td>CC:side of membrane</td></tr>\n",
       "\t<tr><th scope=row>17</th><td>ANTXR1             </td><td>0.460650           </td><td> 0.05247301        </td><td>0.2925577          </td><td>0.01557203         </td><td> 0.05247301        </td><td>0.002849047        </td><td>1.666667           </td><td>CC:side of membrane</td></tr>\n",
       "\t<tr><th scope=row>61</th><td>DTNA               </td><td>0.458870           </td><td> 0.16133902        </td><td>0.1151772          </td><td>0.04019143         </td><td> 0.16133902        </td><td>0.002849047        </td><td>1.666667           </td><td>CC:side of membrane</td></tr>\n",
       "</tbody>\n",
       "</table>\n"
      ],
      "text/latex": [
       "\\begin{tabular}{r|lllllllll}\n",
       "  & genesymbol & GWAS\\_Metal\\_pvalue & GWES\\_Meta\\_logFC & GWES\\_Meta\\_pvalue & RRA\\_pvalue & GO\\_logFC & GO\\_pvalue & GO\\_zscore & GO\\_term\\\\\n",
       "\\hline\n",
       "\t2 & ACP1                & 0.083462            & -0.08825987         & 0.1456767           & 0.03284425          & -0.08825987         & 0.002849047         & 1.666667            & CC:side of membrane\\\\\n",
       "\t17 & ANTXR1              & 0.460650            &  0.05247301         & 0.2925577           & 0.01557203          &  0.05247301         & 0.002849047         & 1.666667            & CC:side of membrane\\\\\n",
       "\t61 & DTNA                & 0.458870            &  0.16133902         & 0.1151772           & 0.04019143          &  0.16133902         & 0.002849047         & 1.666667            & CC:side of membrane\\\\\n",
       "\\end{tabular}\n"
      ],
      "text/markdown": [
       "\n",
       "| <!--/--> | genesymbol | GWAS_Metal_pvalue | GWES_Meta_logFC | GWES_Meta_pvalue | RRA_pvalue | GO_logFC | GO_pvalue | GO_zscore | GO_term | \n",
       "|---|---|---|\n",
       "| 2 | ACP1                | 0.083462            | -0.08825987         | 0.1456767           | 0.03284425          | -0.08825987         | 0.002849047         | 1.666667            | CC:side of membrane | \n",
       "| 17 | ANTXR1              | 0.460650            |  0.05247301         | 0.2925577           | 0.01557203          |  0.05247301         | 0.002849047         | 1.666667            | CC:side of membrane | \n",
       "| 61 | DTNA                | 0.458870            |  0.16133902         | 0.1151772           | 0.04019143          |  0.16133902         | 0.002849047         | 1.666667            | CC:side of membrane | \n",
       "\n",
       "\n"
      ],
      "text/plain": [
       "   genesymbol GWAS_Metal_pvalue GWES_Meta_logFC GWES_Meta_pvalue RRA_pvalue\n",
       "2  ACP1       0.083462          -0.08825987     0.1456767        0.03284425\n",
       "17 ANTXR1     0.460650           0.05247301     0.2925577        0.01557203\n",
       "61 DTNA       0.458870           0.16133902     0.1151772        0.04019143\n",
       "   GO_logFC    GO_pvalue   GO_zscore GO_term            \n",
       "2  -0.08825987 0.002849047 1.666667  CC:side of membrane\n",
       "17  0.05247301 0.002849047 1.666667  CC:side of membrane\n",
       "61  0.16133902 0.002849047 1.666667  CC:side of membrane"
      ]
     },
     "metadata": {},
     "output_type": "display_data"
    }
   ],
   "source": [
    "head(pheatmap.df[pheatmap.df$GO_term==\"CC:side of membrane\" ,],n=3)"
   ]
  },
  {
   "cell_type": "code",
   "execution_count": 19,
   "metadata": {
    "ExecuteTime": {
     "end_time": "2019-01-04T10:55:26.305541Z",
     "start_time": "2019-01-04T10:55:26.232Z"
    },
    "collapsed": true,
    "jupyter": {
     "outputs_hidden": true
    }
   },
   "outputs": [],
   "source": [
    "# Generate annotations for rows \n",
    "annotation_row = data.frame(\n",
    "                    GOp = -log10(unique(pheatmap.df$GO_pvalue)),\n",
    "                    GOz = pheatmap.df[!duplicated(pheatmap.df$GO_term),]$GO_zscore)\n",
    "#rownames(annotation_row) = unique(pheatmap.df$GO_term) # also valid\n",
    "rownames(annotation_row) =   pheatmap.df[!duplicated(pheatmap.df$GO_term),]$GO_term\n",
    "colnames(annotation_row)=c(\"-log(GOpvalue)\",\"GOzscore\")"
   ]
  },
  {
   "cell_type": "code",
   "execution_count": 22,
   "metadata": {
    "ExecuteTime": {
     "end_time": "2019-01-04T10:56:15.090434Z",
     "start_time": "2019-01-04T10:56:15.034Z"
    }
   },
   "outputs": [],
   "source": [
    "#-log10(0.002849047) correct"
   ]
  },
  {
   "cell_type": "code",
   "execution_count": 20,
   "metadata": {
    "ExecuteTime": {
     "end_time": "2019-01-04T10:55:28.816519Z",
     "start_time": "2019-01-04T10:55:28.749Z"
    }
   },
   "outputs": [
    {
     "data": {
      "text/html": [
       "<table>\n",
       "<thead><tr><th></th><th scope=col>-log(GOpvalue)</th><th scope=col>GOzscore</th></tr></thead>\n",
       "<tbody>\n",
       "\t<tr><th scope=row>CC:cytoplasmic side of membrane</th><td>2.771218  </td><td> 0.8164966</td></tr>\n",
       "\t<tr><th scope=row>CC:side of membrane</th><td>2.545300  </td><td> 1.6666667</td></tr>\n",
       "\t<tr><th scope=row>CC:actin cytoskeleton</th><td>3.894354  </td><td> 2.3094011</td></tr>\n",
       "\t<tr><th scope=row>BP:positive regulation of cell development</th><td>6.057798  </td><td> 0.0000000</td></tr>\n",
       "\t<tr><th scope=row>BP:positive regulation of cell projection organization</th><td>6.121434  </td><td>-0.2581989</td></tr>\n",
       "\t<tr><th scope=row>CC:cell-substrate junction</th><td>6.672572  </td><td> 2.3237900</td></tr>\n",
       "</tbody>\n",
       "</table>\n"
      ],
      "text/latex": [
       "\\begin{tabular}{r|ll}\n",
       "  & -log(GOpvalue) & GOzscore\\\\\n",
       "\\hline\n",
       "\tCC:cytoplasmic side of membrane & 2.771218   &  0.8164966\\\\\n",
       "\tCC:side of membrane & 2.545300   &  1.6666667\\\\\n",
       "\tCC:actin cytoskeleton & 3.894354   &  2.3094011\\\\\n",
       "\tBP:positive regulation of cell development & 6.057798   &  0.0000000\\\\\n",
       "\tBP:positive regulation of cell projection organization & 6.121434   & -0.2581989\\\\\n",
       "\tCC:cell-substrate junction & 6.672572   &  2.3237900\\\\\n",
       "\\end{tabular}\n"
      ],
      "text/markdown": [
       "\n",
       "| <!--/--> | -log(GOpvalue) | GOzscore | \n",
       "|---|---|---|---|---|---|\n",
       "| CC:cytoplasmic side of membrane | 2.771218   |  0.8164966 | \n",
       "| CC:side of membrane | 2.545300   |  1.6666667 | \n",
       "| CC:actin cytoskeleton | 3.894354   |  2.3094011 | \n",
       "| BP:positive regulation of cell development | 6.057798   |  0.0000000 | \n",
       "| BP:positive regulation of cell projection organization | 6.121434   | -0.2581989 | \n",
       "| CC:cell-substrate junction | 6.672572   |  2.3237900 | \n",
       "\n",
       "\n"
      ],
      "text/plain": [
       "                                                       -log(GOpvalue)\n",
       "CC:cytoplasmic side of membrane                        2.771218      \n",
       "CC:side of membrane                                    2.545300      \n",
       "CC:actin cytoskeleton                                  3.894354      \n",
       "BP:positive regulation of cell development             6.057798      \n",
       "BP:positive regulation of cell projection organization 6.121434      \n",
       "CC:cell-substrate junction                             6.672572      \n",
       "                                                       GOzscore  \n",
       "CC:cytoplasmic side of membrane                         0.8164966\n",
       "CC:side of membrane                                     1.6666667\n",
       "CC:actin cytoskeleton                                   2.3094011\n",
       "BP:positive regulation of cell development              0.0000000\n",
       "BP:positive regulation of cell projection organization -0.2581989\n",
       "CC:cell-substrate junction                              2.3237900"
      ]
     },
     "metadata": {},
     "output_type": "display_data"
    }
   ],
   "source": [
    "head(annotation_row)"
   ]
  },
  {
   "cell_type": "code",
   "execution_count": null,
   "metadata": {},
   "outputs": [],
   "source": [
    "apply(annotation_row, 2, function(x) any(is.infinite(x)))"
   ]
  },
  {
   "cell_type": "markdown",
   "metadata": {},
   "source": [
    "### Prepare dataset with data that goes into cells (logFC of Meta GWES (same logFC per gene, so same value per column in heatmap.\n",
    "\n",
    "Create it from annotation_col and annotation_row to ensure order of genes and terms are the same so the logFC values correspond to the correct gene."
   ]
  },
  {
   "cell_type": "code",
   "execution_count": 23,
   "metadata": {
    "ExecuteTime": {
     "end_time": "2019-01-04T10:59:13.573667Z",
     "start_time": "2019-01-04T10:59:13.484Z"
    }
   },
   "outputs": [
    {
     "data": {
      "text/html": [
       "<ol class=list-inline>\n",
       "\t<li>191</li>\n",
       "\t<li>2</li>\n",
       "</ol>\n"
      ],
      "text/latex": [
       "\\begin{enumerate*}\n",
       "\\item 191\n",
       "\\item 2\n",
       "\\end{enumerate*}\n"
      ],
      "text/markdown": [
       "1. 191\n",
       "2. 2\n",
       "\n",
       "\n"
      ],
      "text/plain": [
       "[1] 191   2"
      ]
     },
     "metadata": {},
     "output_type": "display_data"
    },
    {
     "data": {
      "text/html": [
       "<ol class=list-inline>\n",
       "\t<li>71</li>\n",
       "\t<li>2</li>\n",
       "</ol>\n"
      ],
      "text/latex": [
       "\\begin{enumerate*}\n",
       "\\item 71\n",
       "\\item 2\n",
       "\\end{enumerate*}\n"
      ],
      "text/markdown": [
       "1. 71\n",
       "2. 2\n",
       "\n",
       "\n"
      ],
      "text/plain": [
       "[1] 71  2"
      ]
     },
     "metadata": {},
     "output_type": "display_data"
    },
    {
     "data": {
      "text/html": [
       "<table>\n",
       "<thead><tr><th></th><th scope=col>genesymbol</th><th scope=col>GWES_Meta_logFC</th></tr></thead>\n",
       "<tbody>\n",
       "\t<tr><th scope=row>1</th><td>ACP1        </td><td>-0.088259870</td></tr>\n",
       "\t<tr><th scope=row>3</th><td>ACTR2       </td><td> 0.007593696</td></tr>\n",
       "\t<tr><th scope=row>8</th><td>ADCYAP1     </td><td>-0.207415668</td></tr>\n",
       "</tbody>\n",
       "</table>\n"
      ],
      "text/latex": [
       "\\begin{tabular}{r|ll}\n",
       "  & genesymbol & GWES\\_Meta\\_logFC\\\\\n",
       "\\hline\n",
       "\t1 & ACP1         & -0.088259870\\\\\n",
       "\t3 & ACTR2        &  0.007593696\\\\\n",
       "\t8 & ADCYAP1      & -0.207415668\\\\\n",
       "\\end{tabular}\n"
      ],
      "text/markdown": [
       "\n",
       "| <!--/--> | genesymbol | GWES_Meta_logFC | \n",
       "|---|---|---|\n",
       "| 1 | ACP1         | -0.088259870 | \n",
       "| 3 | ACTR2        |  0.007593696 | \n",
       "| 8 | ADCYAP1      | -0.207415668 | \n",
       "\n",
       "\n"
      ],
      "text/plain": [
       "  genesymbol GWES_Meta_logFC\n",
       "1 ACP1       -0.088259870   \n",
       "3 ACTR2       0.007593696   \n",
       "8 ADCYAP1    -0.207415668   "
      ]
     },
     "metadata": {},
     "output_type": "display_data"
    }
   ],
   "source": [
    "gene.logfc.df=pheatmap.df[, c(which(names(pheatmap.df) %in% c(\"genesymbol\",\"GWES_Meta_logFC\")))]\n",
    "dim(gene.logfc.df)\n",
    "gene.logfc.df=unique(gene.logfc.df)\n",
    "dim(gene.logfc.df)\n",
    "head(gene.logfc.df,n=3)"
   ]
  },
  {
   "cell_type": "code",
   "execution_count": 24,
   "metadata": {
    "ExecuteTime": {
     "end_time": "2019-01-04T10:59:35.301229Z",
     "start_time": "2019-01-04T10:59:35.224Z"
    }
   },
   "outputs": [
    {
     "data": {
      "text/html": [
       "<ol class=list-inline>\n",
       "\t<li>71</li>\n",
       "\t<li>1</li>\n",
       "</ol>\n"
      ],
      "text/latex": [
       "\\begin{enumerate*}\n",
       "\\item 71\n",
       "\\item 1\n",
       "\\end{enumerate*}\n"
      ],
      "text/markdown": [
       "1. 71\n",
       "2. 1\n",
       "\n",
       "\n"
      ],
      "text/plain": [
       "[1] 71  1"
      ]
     },
     "metadata": {},
     "output_type": "display_data"
    },
    {
     "data": {
      "text/html": [
       "<table>\n",
       "<thead><tr><th></th><th scope=col>GWES_Meta_logFC</th></tr></thead>\n",
       "<tbody>\n",
       "\t<tr><th scope=row>ACP1</th><td>-0.088259870</td></tr>\n",
       "\t<tr><th scope=row>ACTR2</th><td> 0.007593696</td></tr>\n",
       "\t<tr><th scope=row>ADCYAP1</th><td>-0.207415668</td></tr>\n",
       "</tbody>\n",
       "</table>\n"
      ],
      "text/latex": [
       "\\begin{tabular}{r|l}\n",
       "  & GWES\\_Meta\\_logFC\\\\\n",
       "\\hline\n",
       "\tACP1 & -0.088259870\\\\\n",
       "\tACTR2 &  0.007593696\\\\\n",
       "\tADCYAP1 & -0.207415668\\\\\n",
       "\\end{tabular}\n"
      ],
      "text/markdown": [
       "\n",
       "| <!--/--> | GWES_Meta_logFC | \n",
       "|---|---|---|\n",
       "| ACP1 | -0.088259870 | \n",
       "| ACTR2 |  0.007593696 | \n",
       "| ADCYAP1 | -0.207415668 | \n",
       "\n",
       "\n"
      ],
      "text/plain": [
       "        GWES_Meta_logFC\n",
       "ACP1    -0.088259870   \n",
       "ACTR2    0.007593696   \n",
       "ADCYAP1 -0.207415668   "
      ]
     },
     "metadata": {},
     "output_type": "display_data"
    }
   ],
   "source": [
    "gene.logfc.df1=gene.logfc.df[,2, drop=F]\n",
    "rownames(gene.logfc.df1)=gene.logfc.df$genesymbol\n",
    "dim(gene.logfc.df1)\n",
    "head(gene.logfc.df1,n=3)"
   ]
  },
  {
   "cell_type": "raw",
   "metadata": {
    "ExecuteTime": {
     "end_time": "2018-12-11T15:07:04.716917Z",
     "start_time": "2018-12-11T15:07:00.143Z"
    }
   },
   "source": [
    "pheatmap.df[pheatmap.df$genesymbol==\"HLA-DRA\" ,]"
   ]
  },
  {
   "cell_type": "raw",
   "metadata": {
    "ExecuteTime": {
     "end_time": "2018-12-12T08:55:01.566023Z",
     "start_time": "2018-12-12T08:55:01.500Z"
    }
   },
   "source": [
    "annotation_col[\"HLA-DRA\" ,]\n",
    "gene.logfc.df1[\"HLA-DRA\" ,]"
   ]
  },
  {
   "cell_type": "code",
   "execution_count": 25,
   "metadata": {
    "ExecuteTime": {
     "end_time": "2019-01-04T11:00:08.748168Z",
     "start_time": "2019-01-04T11:00:08.517Z"
    }
   },
   "outputs": [
    {
     "data": {
      "text/html": [
       "<table>\n",
       "<thead><tr><th></th><th scope=col>ACP1</th><th scope=col>ACTR2</th><th scope=col>ADCYAP1</th><th scope=col>AEBP1</th><th scope=col>ANK3</th><th scope=col>ANTXR1</th><th scope=col>AP1S1</th><th scope=col>ARHGEF7</th><th scope=col>BCL6</th><th scope=col>BDNF</th><th scope=col>...</th><th scope=col>SRD5A1</th><th scope=col>SST</th><th scope=col>STK38</th><th scope=col>TBX3</th><th scope=col>TCF3</th><th scope=col>TNS1</th><th scope=col>TTC17</th><th scope=col>TUBB2A</th><th scope=col>VWC2</th><th scope=col>ZBTB20</th></tr></thead>\n",
       "<tbody>\n",
       "\t<tr><th scope=row>GWES_Meta_logFC</th><td>-0.08825987</td><td>0.007593696</td><td>-0.2074157 </td><td>0.1490635  </td><td>0.02867277 </td><td>0.05247301 </td><td>-0.06689675</td><td>0.06276443 </td><td>0.1166447  </td><td>-0.1619206 </td><td>...        </td><td>-0.1049552 </td><td>-0.2837775 </td><td>0.03532669 </td><td>0.05537279 </td><td>0.08481028 </td><td>0.1142064  </td><td>0.1233219  </td><td>-0.1847108 </td><td>-0.05234301</td><td>0.2790566  </td></tr>\n",
       "</tbody>\n",
       "</table>\n"
      ],
      "text/latex": [
       "\\begin{tabular}{r|lllllllllllllllllllllllllllllllllllllllllllllllllllllllllllllllllllllll}\n",
       "  & ACP1 & ACTR2 & ADCYAP1 & AEBP1 & ANK3 & ANTXR1 & AP1S1 & ARHGEF7 & BCL6 & BDNF & ... & SRD5A1 & SST & STK38 & TBX3 & TCF3 & TNS1 & TTC17 & TUBB2A & VWC2 & ZBTB20\\\\\n",
       "\\hline\n",
       "\tGWES\\_Meta\\_logFC & -0.08825987 & 0.007593696 & -0.2074157  & 0.1490635   & 0.02867277  & 0.05247301  & -0.06689675 & 0.06276443  & 0.1166447   & -0.1619206  & ...         & -0.1049552  & -0.2837775  & 0.03532669  & 0.05537279  & 0.08481028  & 0.1142064   & 0.1233219   & -0.1847108  & -0.05234301 & 0.2790566  \\\\\n",
       "\\end{tabular}\n"
      ],
      "text/markdown": [
       "\n",
       "| <!--/--> | ACP1 | ACTR2 | ADCYAP1 | AEBP1 | ANK3 | ANTXR1 | AP1S1 | ARHGEF7 | BCL6 | BDNF | ... | SRD5A1 | SST | STK38 | TBX3 | TCF3 | TNS1 | TTC17 | TUBB2A | VWC2 | ZBTB20 | \n",
       "|---|\n",
       "| GWES_Meta_logFC | -0.08825987 | 0.007593696 | -0.2074157  | 0.1490635   | 0.02867277  | 0.05247301  | -0.06689675 | 0.06276443  | 0.1166447   | -0.1619206  | ...         | -0.1049552  | -0.2837775  | 0.03532669  | 0.05537279  | 0.08481028  | 0.1142064   | 0.1233219   | -0.1847108  | -0.05234301 | 0.2790566   | \n",
       "\n",
       "\n"
      ],
      "text/plain": [
       "                ACP1        ACTR2       ADCYAP1    AEBP1     ANK3      \n",
       "GWES_Meta_logFC -0.08825987 0.007593696 -0.2074157 0.1490635 0.02867277\n",
       "                ANTXR1     AP1S1       ARHGEF7    BCL6      BDNF       ...\n",
       "GWES_Meta_logFC 0.05247301 -0.06689675 0.06276443 0.1166447 -0.1619206 ...\n",
       "                SRD5A1     SST        STK38      TBX3       TCF3      \n",
       "GWES_Meta_logFC -0.1049552 -0.2837775 0.03532669 0.05537279 0.08481028\n",
       "                TNS1      TTC17     TUBB2A     VWC2        ZBTB20   \n",
       "GWES_Meta_logFC 0.1142064 0.1233219 -0.1847108 -0.05234301 0.2790566"
      ]
     },
     "metadata": {},
     "output_type": "display_data"
    }
   ],
   "source": [
    "t(gene.logfc.df1)"
   ]
  },
  {
   "cell_type": "code",
   "execution_count": 26,
   "metadata": {
    "ExecuteTime": {
     "end_time": "2019-01-04T11:00:39.928459Z",
     "start_time": "2019-01-04T11:00:39.849Z"
    }
   },
   "outputs": [
    {
     "data": {
      "text/html": [
       "<ol class=list-inline>\n",
       "\t<li>21</li>\n",
       "\t<li>71</li>\n",
       "</ol>\n"
      ],
      "text/latex": [
       "\\begin{enumerate*}\n",
       "\\item 21\n",
       "\\item 71\n",
       "\\end{enumerate*}\n"
      ],
      "text/markdown": [
       "1. 21\n",
       "2. 71\n",
       "\n",
       "\n"
      ],
      "text/plain": [
       "[1] 21 71"
      ]
     },
     "metadata": {},
     "output_type": "display_data"
    },
    {
     "data": {
      "text/html": [
       "<table>\n",
       "<thead><tr><th></th><th scope=col>ACP1</th><th scope=col>ACTR2</th><th scope=col>ADCYAP1</th><th scope=col>AEBP1</th><th scope=col>ANK3</th><th scope=col>ANTXR1</th><th scope=col>AP1S1</th><th scope=col>ARHGEF7</th><th scope=col>BCL6</th><th scope=col>BDNF</th><th scope=col>...</th><th scope=col>SRD5A1</th><th scope=col>SST</th><th scope=col>STK38</th><th scope=col>TBX3</th><th scope=col>TCF3</th><th scope=col>TNS1</th><th scope=col>TTC17</th><th scope=col>TUBB2A</th><th scope=col>VWC2</th><th scope=col>ZBTB20</th></tr></thead>\n",
       "<tbody>\n",
       "\t<tr><th scope=row>CC:cytoplasmic side of membrane</th><td>-0.08825987</td><td>0.007593696</td><td>-0.2074157 </td><td>0.1490635  </td><td>0.02867277 </td><td>0.05247301 </td><td>-0.06689675</td><td>0.06276443 </td><td>0.1166447  </td><td>-0.1619206 </td><td>...        </td><td>-0.1049552 </td><td>-0.2837775 </td><td>0.03532669 </td><td>0.05537279 </td><td>0.08481028 </td><td>0.1142064  </td><td>0.1233219  </td><td>-0.1847108 </td><td>-0.05234301</td><td>0.2790566  </td></tr>\n",
       "\t<tr><th scope=row>CC:side of membrane</th><td>-0.08825987</td><td>0.007593696</td><td>-0.2074157 </td><td>0.1490635  </td><td>0.02867277 </td><td>0.05247301 </td><td>-0.06689675</td><td>0.06276443 </td><td>0.1166447  </td><td>-0.1619206 </td><td>...        </td><td>-0.1049552 </td><td>-0.2837775 </td><td>0.03532669 </td><td>0.05537279 </td><td>0.08481028 </td><td>0.1142064  </td><td>0.1233219  </td><td>-0.1847108 </td><td>-0.05234301</td><td>0.2790566  </td></tr>\n",
       "\t<tr><th scope=row>CC:actin cytoskeleton</th><td>-0.08825987</td><td>0.007593696</td><td>-0.2074157 </td><td>0.1490635  </td><td>0.02867277 </td><td>0.05247301 </td><td>-0.06689675</td><td>0.06276443 </td><td>0.1166447  </td><td>-0.1619206 </td><td>...        </td><td>-0.1049552 </td><td>-0.2837775 </td><td>0.03532669 </td><td>0.05537279 </td><td>0.08481028 </td><td>0.1142064  </td><td>0.1233219  </td><td>-0.1847108 </td><td>-0.05234301</td><td>0.2790566  </td></tr>\n",
       "</tbody>\n",
       "</table>\n"
      ],
      "text/latex": [
       "\\begin{tabular}{r|lllllllllllllllllllllllllllllllllllllllllllllllllllllllllllllllllllllll}\n",
       "  & ACP1 & ACTR2 & ADCYAP1 & AEBP1 & ANK3 & ANTXR1 & AP1S1 & ARHGEF7 & BCL6 & BDNF & ... & SRD5A1 & SST & STK38 & TBX3 & TCF3 & TNS1 & TTC17 & TUBB2A & VWC2 & ZBTB20\\\\\n",
       "\\hline\n",
       "\tCC:cytoplasmic side of membrane & -0.08825987 & 0.007593696 & -0.2074157  & 0.1490635   & 0.02867277  & 0.05247301  & -0.06689675 & 0.06276443  & 0.1166447   & -0.1619206  & ...         & -0.1049552  & -0.2837775  & 0.03532669  & 0.05537279  & 0.08481028  & 0.1142064   & 0.1233219   & -0.1847108  & -0.05234301 & 0.2790566  \\\\\n",
       "\tCC:side of membrane & -0.08825987 & 0.007593696 & -0.2074157  & 0.1490635   & 0.02867277  & 0.05247301  & -0.06689675 & 0.06276443  & 0.1166447   & -0.1619206  & ...         & -0.1049552  & -0.2837775  & 0.03532669  & 0.05537279  & 0.08481028  & 0.1142064   & 0.1233219   & -0.1847108  & -0.05234301 & 0.2790566  \\\\\n",
       "\tCC:actin cytoskeleton & -0.08825987 & 0.007593696 & -0.2074157  & 0.1490635   & 0.02867277  & 0.05247301  & -0.06689675 & 0.06276443  & 0.1166447   & -0.1619206  & ...         & -0.1049552  & -0.2837775  & 0.03532669  & 0.05537279  & 0.08481028  & 0.1142064   & 0.1233219   & -0.1847108  & -0.05234301 & 0.2790566  \\\\\n",
       "\\end{tabular}\n"
      ],
      "text/markdown": [
       "\n",
       "| <!--/--> | ACP1 | ACTR2 | ADCYAP1 | AEBP1 | ANK3 | ANTXR1 | AP1S1 | ARHGEF7 | BCL6 | BDNF | ... | SRD5A1 | SST | STK38 | TBX3 | TCF3 | TNS1 | TTC17 | TUBB2A | VWC2 | ZBTB20 | \n",
       "|---|---|---|\n",
       "| CC:cytoplasmic side of membrane | -0.08825987 | 0.007593696 | -0.2074157  | 0.1490635   | 0.02867277  | 0.05247301  | -0.06689675 | 0.06276443  | 0.1166447   | -0.1619206  | ...         | -0.1049552  | -0.2837775  | 0.03532669  | 0.05537279  | 0.08481028  | 0.1142064   | 0.1233219   | -0.1847108  | -0.05234301 | 0.2790566   | \n",
       "| CC:side of membrane | -0.08825987 | 0.007593696 | -0.2074157  | 0.1490635   | 0.02867277  | 0.05247301  | -0.06689675 | 0.06276443  | 0.1166447   | -0.1619206  | ...         | -0.1049552  | -0.2837775  | 0.03532669  | 0.05537279  | 0.08481028  | 0.1142064   | 0.1233219   | -0.1847108  | -0.05234301 | 0.2790566   | \n",
       "| CC:actin cytoskeleton | -0.08825987 | 0.007593696 | -0.2074157  | 0.1490635   | 0.02867277  | 0.05247301  | -0.06689675 | 0.06276443  | 0.1166447   | -0.1619206  | ...         | -0.1049552  | -0.2837775  | 0.03532669  | 0.05537279  | 0.08481028  | 0.1142064   | 0.1233219   | -0.1847108  | -0.05234301 | 0.2790566   | \n",
       "\n",
       "\n"
      ],
      "text/plain": [
       "                                ACP1        ACTR2       ADCYAP1    AEBP1    \n",
       "CC:cytoplasmic side of membrane -0.08825987 0.007593696 -0.2074157 0.1490635\n",
       "CC:side of membrane             -0.08825987 0.007593696 -0.2074157 0.1490635\n",
       "CC:actin cytoskeleton           -0.08825987 0.007593696 -0.2074157 0.1490635\n",
       "                                ANK3       ANTXR1     AP1S1       ARHGEF7   \n",
       "CC:cytoplasmic side of membrane 0.02867277 0.05247301 -0.06689675 0.06276443\n",
       "CC:side of membrane             0.02867277 0.05247301 -0.06689675 0.06276443\n",
       "CC:actin cytoskeleton           0.02867277 0.05247301 -0.06689675 0.06276443\n",
       "                                BCL6      BDNF       ... SRD5A1     SST       \n",
       "CC:cytoplasmic side of membrane 0.1166447 -0.1619206 ... -0.1049552 -0.2837775\n",
       "CC:side of membrane             0.1166447 -0.1619206 ... -0.1049552 -0.2837775\n",
       "CC:actin cytoskeleton           0.1166447 -0.1619206 ... -0.1049552 -0.2837775\n",
       "                                STK38      TBX3       TCF3       TNS1     \n",
       "CC:cytoplasmic side of membrane 0.03532669 0.05537279 0.08481028 0.1142064\n",
       "CC:side of membrane             0.03532669 0.05537279 0.08481028 0.1142064\n",
       "CC:actin cytoskeleton           0.03532669 0.05537279 0.08481028 0.1142064\n",
       "                                TTC17     TUBB2A     VWC2        ZBTB20   \n",
       "CC:cytoplasmic side of membrane 0.1233219 -0.1847108 -0.05234301 0.2790566\n",
       "CC:side of membrane             0.1233219 -0.1847108 -0.05234301 0.2790566\n",
       "CC:actin cytoskeleton           0.1233219 -0.1847108 -0.05234301 0.2790566"
      ]
     },
     "metadata": {},
     "output_type": "display_data"
    }
   ],
   "source": [
    "nrows=dim(annotation_row)[1] # number of GO terms\n",
    "cell.data=do.call(\"rbind\", replicate(nrows, t(gene.logfc.df1), simplify = FALSE)) # copy same rows as many times as Go terms are\n",
    "rownames(cell.data)=rownames(annotation_row)\n",
    "dim(cell.data)\n",
    "head(cell.data,n=3)"
   ]
  },
  {
   "cell_type": "code",
   "execution_count": 27,
   "metadata": {
    "ExecuteTime": {
     "end_time": "2019-01-04T11:01:06.135296Z",
     "start_time": "2019-01-04T11:01:06.051Z"
    }
   },
   "outputs": [
    {
     "data": {
      "text/html": [
       "<table>\n",
       "<thead><tr><th></th><th scope=col>ACP1</th><th scope=col>ACTR2</th><th scope=col>ADCYAP1</th><th scope=col>AEBP1</th><th scope=col>ANK3</th><th scope=col>ANTXR1</th><th scope=col>AP1S1</th><th scope=col>ARHGEF7</th><th scope=col>BCL6</th><th scope=col>BDNF</th><th scope=col>...</th><th scope=col>SRD5A1</th><th scope=col>SST</th><th scope=col>STK38</th><th scope=col>TBX3</th><th scope=col>TCF3</th><th scope=col>TNS1</th><th scope=col>TTC17</th><th scope=col>TUBB2A</th><th scope=col>VWC2</th><th scope=col>ZBTB20</th></tr></thead>\n",
       "<tbody>\n",
       "\t<tr><th scope=row>BP:cell junction assembly</th><td>-0.08825987</td><td>0.007593696</td><td>-0.2074157 </td><td>0.1490635  </td><td>0.02867277 </td><td>0.05247301 </td><td>-0.06689675</td><td>0.06276443 </td><td>0.1166447  </td><td>-0.1619206 </td><td>...        </td><td>-0.1049552 </td><td>-0.2837775 </td><td>0.03532669 </td><td>0.05537279 </td><td>0.08481028 </td><td>0.1142064  </td><td>0.1233219  </td><td>-0.1847108 </td><td>-0.05234301</td><td>0.2790566  </td></tr>\n",
       "\t<tr><th scope=row>BP:cell-substrate junction assembly</th><td>-0.08825987</td><td>0.007593696</td><td>-0.2074157 </td><td>0.1490635  </td><td>0.02867277 </td><td>0.05247301 </td><td>-0.06689675</td><td>0.06276443 </td><td>0.1166447  </td><td>-0.1619206 </td><td>...        </td><td>-0.1049552 </td><td>-0.2837775 </td><td>0.03532669 </td><td>0.05537279 </td><td>0.08481028 </td><td>0.1142064  </td><td>0.1233219  </td><td>-0.1847108 </td><td>-0.05234301</td><td>0.2790566  </td></tr>\n",
       "\t<tr><th scope=row>BP:negative regulation of potassium ion transport</th><td>-0.08825987</td><td>0.007593696</td><td>-0.2074157 </td><td>0.1490635  </td><td>0.02867277 </td><td>0.05247301 </td><td>-0.06689675</td><td>0.06276443 </td><td>0.1166447  </td><td>-0.1619206 </td><td>...        </td><td>-0.1049552 </td><td>-0.2837775 </td><td>0.03532669 </td><td>0.05537279 </td><td>0.08481028 </td><td>0.1142064  </td><td>0.1233219  </td><td>-0.1847108 </td><td>-0.05234301</td><td>0.2790566  </td></tr>\n",
       "</tbody>\n",
       "</table>\n"
      ],
      "text/latex": [
       "\\begin{tabular}{r|lllllllllllllllllllllllllllllllllllllllllllllllllllllllllllllllllllllll}\n",
       "  & ACP1 & ACTR2 & ADCYAP1 & AEBP1 & ANK3 & ANTXR1 & AP1S1 & ARHGEF7 & BCL6 & BDNF & ... & SRD5A1 & SST & STK38 & TBX3 & TCF3 & TNS1 & TTC17 & TUBB2A & VWC2 & ZBTB20\\\\\n",
       "\\hline\n",
       "\tBP:cell junction assembly & -0.08825987 & 0.007593696 & -0.2074157  & 0.1490635   & 0.02867277  & 0.05247301  & -0.06689675 & 0.06276443  & 0.1166447   & -0.1619206  & ...         & -0.1049552  & -0.2837775  & 0.03532669  & 0.05537279  & 0.08481028  & 0.1142064   & 0.1233219   & -0.1847108  & -0.05234301 & 0.2790566  \\\\\n",
       "\tBP:cell-substrate junction assembly & -0.08825987 & 0.007593696 & -0.2074157  & 0.1490635   & 0.02867277  & 0.05247301  & -0.06689675 & 0.06276443  & 0.1166447   & -0.1619206  & ...         & -0.1049552  & -0.2837775  & 0.03532669  & 0.05537279  & 0.08481028  & 0.1142064   & 0.1233219   & -0.1847108  & -0.05234301 & 0.2790566  \\\\\n",
       "\tBP:negative regulation of potassium ion transport & -0.08825987 & 0.007593696 & -0.2074157  & 0.1490635   & 0.02867277  & 0.05247301  & -0.06689675 & 0.06276443  & 0.1166447   & -0.1619206  & ...         & -0.1049552  & -0.2837775  & 0.03532669  & 0.05537279  & 0.08481028  & 0.1142064   & 0.1233219   & -0.1847108  & -0.05234301 & 0.2790566  \\\\\n",
       "\\end{tabular}\n"
      ],
      "text/markdown": [
       "\n",
       "| <!--/--> | ACP1 | ACTR2 | ADCYAP1 | AEBP1 | ANK3 | ANTXR1 | AP1S1 | ARHGEF7 | BCL6 | BDNF | ... | SRD5A1 | SST | STK38 | TBX3 | TCF3 | TNS1 | TTC17 | TUBB2A | VWC2 | ZBTB20 | \n",
       "|---|---|---|\n",
       "| BP:cell junction assembly | -0.08825987 | 0.007593696 | -0.2074157  | 0.1490635   | 0.02867277  | 0.05247301  | -0.06689675 | 0.06276443  | 0.1166447   | -0.1619206  | ...         | -0.1049552  | -0.2837775  | 0.03532669  | 0.05537279  | 0.08481028  | 0.1142064   | 0.1233219   | -0.1847108  | -0.05234301 | 0.2790566   | \n",
       "| BP:cell-substrate junction assembly | -0.08825987 | 0.007593696 | -0.2074157  | 0.1490635   | 0.02867277  | 0.05247301  | -0.06689675 | 0.06276443  | 0.1166447   | -0.1619206  | ...         | -0.1049552  | -0.2837775  | 0.03532669  | 0.05537279  | 0.08481028  | 0.1142064   | 0.1233219   | -0.1847108  | -0.05234301 | 0.2790566   | \n",
       "| BP:negative regulation of potassium ion transport | -0.08825987 | 0.007593696 | -0.2074157  | 0.1490635   | 0.02867277  | 0.05247301  | -0.06689675 | 0.06276443  | 0.1166447   | -0.1619206  | ...         | -0.1049552  | -0.2837775  | 0.03532669  | 0.05537279  | 0.08481028  | 0.1142064   | 0.1233219   | -0.1847108  | -0.05234301 | 0.2790566   | \n",
       "\n",
       "\n"
      ],
      "text/plain": [
       "                                                  ACP1        ACTR2      \n",
       "BP:cell junction assembly                         -0.08825987 0.007593696\n",
       "BP:cell-substrate junction assembly               -0.08825987 0.007593696\n",
       "BP:negative regulation of potassium ion transport -0.08825987 0.007593696\n",
       "                                                  ADCYAP1    AEBP1    \n",
       "BP:cell junction assembly                         -0.2074157 0.1490635\n",
       "BP:cell-substrate junction assembly               -0.2074157 0.1490635\n",
       "BP:negative regulation of potassium ion transport -0.2074157 0.1490635\n",
       "                                                  ANK3       ANTXR1    \n",
       "BP:cell junction assembly                         0.02867277 0.05247301\n",
       "BP:cell-substrate junction assembly               0.02867277 0.05247301\n",
       "BP:negative regulation of potassium ion transport 0.02867277 0.05247301\n",
       "                                                  AP1S1       ARHGEF7   \n",
       "BP:cell junction assembly                         -0.06689675 0.06276443\n",
       "BP:cell-substrate junction assembly               -0.06689675 0.06276443\n",
       "BP:negative regulation of potassium ion transport -0.06689675 0.06276443\n",
       "                                                  BCL6      BDNF       ...\n",
       "BP:cell junction assembly                         0.1166447 -0.1619206 ...\n",
       "BP:cell-substrate junction assembly               0.1166447 -0.1619206 ...\n",
       "BP:negative regulation of potassium ion transport 0.1166447 -0.1619206 ...\n",
       "                                                  SRD5A1     SST       \n",
       "BP:cell junction assembly                         -0.1049552 -0.2837775\n",
       "BP:cell-substrate junction assembly               -0.1049552 -0.2837775\n",
       "BP:negative regulation of potassium ion transport -0.1049552 -0.2837775\n",
       "                                                  STK38      TBX3      \n",
       "BP:cell junction assembly                         0.03532669 0.05537279\n",
       "BP:cell-substrate junction assembly               0.03532669 0.05537279\n",
       "BP:negative regulation of potassium ion transport 0.03532669 0.05537279\n",
       "                                                  TCF3       TNS1     \n",
       "BP:cell junction assembly                         0.08481028 0.1142064\n",
       "BP:cell-substrate junction assembly               0.08481028 0.1142064\n",
       "BP:negative regulation of potassium ion transport 0.08481028 0.1142064\n",
       "                                                  TTC17     TUBB2A    \n",
       "BP:cell junction assembly                         0.1233219 -0.1847108\n",
       "BP:cell-substrate junction assembly               0.1233219 -0.1847108\n",
       "BP:negative regulation of potassium ion transport 0.1233219 -0.1847108\n",
       "                                                  VWC2        ZBTB20   \n",
       "BP:cell junction assembly                         -0.05234301 0.2790566\n",
       "BP:cell-substrate junction assembly               -0.05234301 0.2790566\n",
       "BP:negative regulation of potassium ion transport -0.05234301 0.2790566"
      ]
     },
     "metadata": {},
     "output_type": "display_data"
    }
   ],
   "source": [
    "cell.data <- cell.data[ order(row.names(cell.data)), ]\n",
    "head(cell.data,n=3)"
   ]
  },
  {
   "cell_type": "markdown",
   "metadata": {},
   "source": [
    "* **if the gene does not belong to a category, the cell value will be 0 (it can not be NA because heatmap fails)**"
   ]
  },
  {
   "cell_type": "code",
   "execution_count": 28,
   "metadata": {
    "ExecuteTime": {
     "end_time": "2019-01-04T11:01:24.175838Z",
     "start_time": "2019-01-04T11:01:24.124Z"
    },
    "collapsed": true,
    "jupyter": {
     "outputs_hidden": true
    }
   },
   "outputs": [],
   "source": [
    "cell.data2=cell.data"
   ]
  },
  {
   "cell_type": "raw",
   "metadata": {
    "ExecuteTime": {
     "end_time": "2018-12-11T13:23:28.483838Z",
     "start_time": "2018-12-11T13:23:23.956Z"
    }
   },
   "source": [
    "# test\n",
    "rownames(cell.data2)[1]\n",
    "as.character(enrich.E3[enrich.E3$cat_term==\"BP:DNA conformation change\" ,]$genesymbol)\n",
    "as.character(enrich.E3[enrich.E3$cat_term==rownames(cell.data2)[1] ,]$genesymbol)"
   ]
  },
  {
   "cell_type": "code",
   "execution_count": 29,
   "metadata": {
    "ExecuteTime": {
     "end_time": "2019-01-04T11:01:38.637192Z",
     "start_time": "2019-01-04T11:01:38.546Z"
    },
    "collapsed": true,
    "jupyter": {
     "outputs_hidden": true
    }
   },
   "outputs": [],
   "source": [
    "for (i in 1:nrow(cell.data2)){ # GO terms\n",
    "    genes.in.cat=as.character(enrich.E3[enrich.E3$cat_term==rownames(cell.data2)[i] ,]$genesymbol) # genes in selected Go term\n",
    "    for (j in 1:ncol(cell.data2)){ # genes\n",
    "        if(!colnames(cell.data2)[j] %in% genes.in.cat){ # if gene is not in category\n",
    "            cell.data2[i,j]=0            \n",
    "        }        \n",
    "    }\n",
    "}"
   ]
  },
  {
   "cell_type": "code",
   "execution_count": 30,
   "metadata": {
    "ExecuteTime": {
     "end_time": "2019-01-04T11:01:41.393781Z",
     "start_time": "2019-01-04T11:01:41.313Z"
    }
   },
   "outputs": [
    {
     "data": {
      "text/html": [
       "<table>\n",
       "<thead><tr><th></th><th scope=col>ACP1</th><th scope=col>ACTR2</th><th scope=col>ADCYAP1</th><th scope=col>AEBP1</th><th scope=col>ANK3</th><th scope=col>ANTXR1</th><th scope=col>AP1S1</th><th scope=col>ARHGEF7</th><th scope=col>BCL6</th><th scope=col>BDNF</th><th scope=col>...</th><th scope=col>SRD5A1</th><th scope=col>SST</th><th scope=col>STK38</th><th scope=col>TBX3</th><th scope=col>TCF3</th><th scope=col>TNS1</th><th scope=col>TTC17</th><th scope=col>TUBB2A</th><th scope=col>VWC2</th><th scope=col>ZBTB20</th></tr></thead>\n",
       "<tbody>\n",
       "\t<tr><th scope=row>BP:cell junction assembly</th><td>0         </td><td>0         </td><td> 0.0000000</td><td>0         </td><td>0.00000000</td><td>0         </td><td>0         </td><td>0.06276443</td><td>0         </td><td>0         </td><td>...       </td><td>0         </td><td>0         </td><td>0         </td><td>0         </td><td>0         </td><td>0.1142064 </td><td>0         </td><td>0         </td><td>0         </td><td>0         </td></tr>\n",
       "\t<tr><th scope=row>BP:cell-substrate junction assembly</th><td>0         </td><td>0         </td><td> 0.0000000</td><td>0         </td><td>0.00000000</td><td>0         </td><td>0         </td><td>0.06276443</td><td>0         </td><td>0         </td><td>...       </td><td>0         </td><td>0         </td><td>0         </td><td>0         </td><td>0         </td><td>0.1142064 </td><td>0         </td><td>0         </td><td>0         </td><td>0         </td></tr>\n",
       "\t<tr><th scope=row>BP:negative regulation of potassium ion transport</th><td>0         </td><td>0         </td><td>-0.2074157</td><td>0         </td><td>0.02867277</td><td>0         </td><td>0         </td><td>0.00000000</td><td>0         </td><td>0         </td><td>...       </td><td>0         </td><td>0         </td><td>0         </td><td>0         </td><td>0         </td><td>0.0000000 </td><td>0         </td><td>0         </td><td>0         </td><td>0         </td></tr>\n",
       "</tbody>\n",
       "</table>\n"
      ],
      "text/latex": [
       "\\begin{tabular}{r|lllllllllllllllllllllllllllllllllllllllllllllllllllllllllllllllllllllll}\n",
       "  & ACP1 & ACTR2 & ADCYAP1 & AEBP1 & ANK3 & ANTXR1 & AP1S1 & ARHGEF7 & BCL6 & BDNF & ... & SRD5A1 & SST & STK38 & TBX3 & TCF3 & TNS1 & TTC17 & TUBB2A & VWC2 & ZBTB20\\\\\n",
       "\\hline\n",
       "\tBP:cell junction assembly & 0          & 0          &  0.0000000 & 0          & 0.00000000 & 0          & 0          & 0.06276443 & 0          & 0          & ...        & 0          & 0          & 0          & 0          & 0          & 0.1142064  & 0          & 0          & 0          & 0         \\\\\n",
       "\tBP:cell-substrate junction assembly & 0          & 0          &  0.0000000 & 0          & 0.00000000 & 0          & 0          & 0.06276443 & 0          & 0          & ...        & 0          & 0          & 0          & 0          & 0          & 0.1142064  & 0          & 0          & 0          & 0         \\\\\n",
       "\tBP:negative regulation of potassium ion transport & 0          & 0          & -0.2074157 & 0          & 0.02867277 & 0          & 0          & 0.00000000 & 0          & 0          & ...        & 0          & 0          & 0          & 0          & 0          & 0.0000000  & 0          & 0          & 0          & 0         \\\\\n",
       "\\end{tabular}\n"
      ],
      "text/markdown": [
       "\n",
       "| <!--/--> | ACP1 | ACTR2 | ADCYAP1 | AEBP1 | ANK3 | ANTXR1 | AP1S1 | ARHGEF7 | BCL6 | BDNF | ... | SRD5A1 | SST | STK38 | TBX3 | TCF3 | TNS1 | TTC17 | TUBB2A | VWC2 | ZBTB20 | \n",
       "|---|---|---|\n",
       "| BP:cell junction assembly | 0          | 0          |  0.0000000 | 0          | 0.00000000 | 0          | 0          | 0.06276443 | 0          | 0          | ...        | 0          | 0          | 0          | 0          | 0          | 0.1142064  | 0          | 0          | 0          | 0          | \n",
       "| BP:cell-substrate junction assembly | 0          | 0          |  0.0000000 | 0          | 0.00000000 | 0          | 0          | 0.06276443 | 0          | 0          | ...        | 0          | 0          | 0          | 0          | 0          | 0.1142064  | 0          | 0          | 0          | 0          | \n",
       "| BP:negative regulation of potassium ion transport | 0          | 0          | -0.2074157 | 0          | 0.02867277 | 0          | 0          | 0.00000000 | 0          | 0          | ...        | 0          | 0          | 0          | 0          | 0          | 0.0000000  | 0          | 0          | 0          | 0          | \n",
       "\n",
       "\n"
      ],
      "text/plain": [
       "                                                  ACP1 ACTR2 ADCYAP1    AEBP1\n",
       "BP:cell junction assembly                         0    0      0.0000000 0    \n",
       "BP:cell-substrate junction assembly               0    0      0.0000000 0    \n",
       "BP:negative regulation of potassium ion transport 0    0     -0.2074157 0    \n",
       "                                                  ANK3       ANTXR1 AP1S1\n",
       "BP:cell junction assembly                         0.00000000 0      0    \n",
       "BP:cell-substrate junction assembly               0.00000000 0      0    \n",
       "BP:negative regulation of potassium ion transport 0.02867277 0      0    \n",
       "                                                  ARHGEF7    BCL6 BDNF ...\n",
       "BP:cell junction assembly                         0.06276443 0    0    ...\n",
       "BP:cell-substrate junction assembly               0.06276443 0    0    ...\n",
       "BP:negative regulation of potassium ion transport 0.00000000 0    0    ...\n",
       "                                                  SRD5A1 SST STK38 TBX3 TCF3\n",
       "BP:cell junction assembly                         0      0   0     0    0   \n",
       "BP:cell-substrate junction assembly               0      0   0     0    0   \n",
       "BP:negative regulation of potassium ion transport 0      0   0     0    0   \n",
       "                                                  TNS1      TTC17 TUBB2A VWC2\n",
       "BP:cell junction assembly                         0.1142064 0     0      0   \n",
       "BP:cell-substrate junction assembly               0.1142064 0     0      0   \n",
       "BP:negative regulation of potassium ion transport 0.0000000 0     0      0   \n",
       "                                                  ZBTB20\n",
       "BP:cell junction assembly                         0     \n",
       "BP:cell-substrate junction assembly               0     \n",
       "BP:negative regulation of potassium ion transport 0     "
      ]
     },
     "metadata": {},
     "output_type": "display_data"
    }
   ],
   "source": [
    "head(cell.data2,n=3)"
   ]
  },
  {
   "cell_type": "code",
   "execution_count": 31,
   "metadata": {
    "ExecuteTime": {
     "end_time": "2019-01-04T11:03:51.443659Z",
     "start_time": "2019-01-04T11:03:51.356Z"
    }
   },
   "outputs": [
    {
     "data": {
      "text/html": [
       "<table>\n",
       "<thead><tr><th></th><th scope=col>category</th><th scope=col>ID</th><th scope=col>term</th><th scope=col>count</th><th scope=col>genesymbol</th><th scope=col>logFC</th><th scope=col>adj_pval</th><th scope=col>zscore</th><th scope=col>cat_term</th></tr></thead>\n",
       "<tbody>\n",
       "\t<tr><th scope=row>120</th><td>BP                                               </td><td>GO:0043267                                       </td><td>negative regulation of potassium ion transport   </td><td> 4                                               </td><td>ANK3                                             </td><td>0.02867277                                       </td><td>1.441305e-04                                     </td><td> 0.000000                                        </td><td>BP:negative regulation of potassium ion transport</td></tr>\n",
       "\t<tr><th scope=row>166</th><td>CC                                               </td><td>GO:0016328                                       </td><td>lateral plasma membrane                          </td><td> 5                                               </td><td>ANK3                                             </td><td>0.02867277                                       </td><td>4.137413e-05                                     </td><td> 2.236068                                        </td><td>CC:lateral plasma membrane                       </td></tr>\n",
       "\t<tr><th scope=row>185</th><td>CC                                               </td><td>GO:0030424                                       </td><td>axon                                             </td><td>11                                               </td><td>ANK3                                             </td><td>0.02867277                                       </td><td>1.048798e-04                                     </td><td>-0.904534                                        </td><td>CC:axon                                          </td></tr>\n",
       "\t<tr><th scope=row>286</th><td>CC                                               </td><td>GO:0043296                                       </td><td>apical junction complex                          </td><td> 5                                               </td><td>ANK3                                             </td><td>0.02867277                                       </td><td>2.641899e-03                                     </td><td> 2.236068                                        </td><td>CC:apical junction complex                       </td></tr>\n",
       "</tbody>\n",
       "</table>\n"
      ],
      "text/latex": [
       "\\begin{tabular}{r|lllllllll}\n",
       "  & category & ID & term & count & genesymbol & logFC & adj\\_pval & zscore & cat\\_term\\\\\n",
       "\\hline\n",
       "\t120 & BP                                                & GO:0043267                                        & negative regulation of potassium ion transport    &  4                                                & ANK3                                              & 0.02867277                                        & 1.441305e-04                                      &  0.000000                                         & BP:negative regulation of potassium ion transport\\\\\n",
       "\t166 & CC                                                & GO:0016328                                        & lateral plasma membrane                           &  5                                                & ANK3                                              & 0.02867277                                        & 4.137413e-05                                      &  2.236068                                         & CC:lateral plasma membrane                       \\\\\n",
       "\t185 & CC                                                & GO:0030424                                        & axon                                              & 11                                                & ANK3                                              & 0.02867277                                        & 1.048798e-04                                      & -0.904534                                         & CC:axon                                          \\\\\n",
       "\t286 & CC                                                & GO:0043296                                        & apical junction complex                           &  5                                                & ANK3                                              & 0.02867277                                        & 2.641899e-03                                      &  2.236068                                         & CC:apical junction complex                       \\\\\n",
       "\\end{tabular}\n"
      ],
      "text/markdown": [
       "\n",
       "| <!--/--> | category | ID | term | count | genesymbol | logFC | adj_pval | zscore | cat_term | \n",
       "|---|---|---|---|\n",
       "| 120 | BP                                                | GO:0043267                                        | negative regulation of potassium ion transport    |  4                                                | ANK3                                              | 0.02867277                                        | 1.441305e-04                                      |  0.000000                                         | BP:negative regulation of potassium ion transport | \n",
       "| 166 | CC                                                | GO:0016328                                        | lateral plasma membrane                           |  5                                                | ANK3                                              | 0.02867277                                        | 4.137413e-05                                      |  2.236068                                         | CC:lateral plasma membrane                        | \n",
       "| 185 | CC                                                | GO:0030424                                        | axon                                              | 11                                                | ANK3                                              | 0.02867277                                        | 1.048798e-04                                      | -0.904534                                         | CC:axon                                           | \n",
       "| 286 | CC                                                | GO:0043296                                        | apical junction complex                           |  5                                                | ANK3                                              | 0.02867277                                        | 2.641899e-03                                      |  2.236068                                         | CC:apical junction complex                        | \n",
       "\n",
       "\n"
      ],
      "text/plain": [
       "    category ID         term                                           count\n",
       "120 BP       GO:0043267 negative regulation of potassium ion transport  4   \n",
       "166 CC       GO:0016328 lateral plasma membrane                         5   \n",
       "185 CC       GO:0030424 axon                                           11   \n",
       "286 CC       GO:0043296 apical junction complex                         5   \n",
       "    genesymbol logFC      adj_pval     zscore   \n",
       "120 ANK3       0.02867277 1.441305e-04  0.000000\n",
       "166 ANK3       0.02867277 4.137413e-05  2.236068\n",
       "185 ANK3       0.02867277 1.048798e-04 -0.904534\n",
       "286 ANK3       0.02867277 2.641899e-03  2.236068\n",
       "    cat_term                                         \n",
       "120 BP:negative regulation of potassium ion transport\n",
       "166 CC:lateral plasma membrane                       \n",
       "185 CC:axon                                          \n",
       "286 CC:apical junction complex                       "
      ]
     },
     "metadata": {},
     "output_type": "display_data"
    },
    {
     "data": {
      "text/html": [
       "<ol class=list-inline>\n",
       "\t<li>'ADCYAP1'</li>\n",
       "\t<li>'PTK2B'</li>\n",
       "\t<li>'ANK3'</li>\n",
       "\t<li>'CAV1'</li>\n",
       "</ol>\n"
      ],
      "text/latex": [
       "\\begin{enumerate*}\n",
       "\\item 'ADCYAP1'\n",
       "\\item 'PTK2B'\n",
       "\\item 'ANK3'\n",
       "\\item 'CAV1'\n",
       "\\end{enumerate*}\n"
      ],
      "text/markdown": [
       "1. 'ADCYAP1'\n",
       "2. 'PTK2B'\n",
       "3. 'ANK3'\n",
       "4. 'CAV1'\n",
       "\n",
       "\n"
      ],
      "text/plain": [
       "[1] \"ADCYAP1\" \"PTK2B\"   \"ANK3\"    \"CAV1\"   "
      ]
     },
     "metadata": {},
     "output_type": "display_data"
    }
   ],
   "source": [
    "enrich.E3[enrich.E3$genesymbol==\"ANK3\" ,]\n",
    "as.character(enrich.E3[enrich.E3$cat_term==\"BP:negative regulation of potassium ion transport\" ,]$genesymbol)"
   ]
  },
  {
   "cell_type": "code",
   "execution_count": 32,
   "metadata": {
    "ExecuteTime": {
     "end_time": "2019-01-04T11:04:33.354278Z",
     "start_time": "2019-01-04T11:04:33.295Z"
    },
    "scrolled": true
   },
   "outputs": [
    {
     "data": {
      "text/html": [
       "<dl class=dl-horizontal>\n",
       "\t<dt>BP:cell junction assembly</dt>\n",
       "\t\t<dd>0</dd>\n",
       "\t<dt>BP:cell-substrate junction assembly</dt>\n",
       "\t\t<dd>0</dd>\n",
       "\t<dt>BP:negative regulation of potassium ion transport</dt>\n",
       "\t\t<dd>0.0286727694741041</dd>\n",
       "\t<dt>BP:positive regulation of cell development</dt>\n",
       "\t\t<dd>0</dd>\n",
       "\t<dt>BP:positive regulation of cell projection organization</dt>\n",
       "\t\t<dd>0</dd>\n",
       "\t<dt>CC:actin cytoskeleton</dt>\n",
       "\t\t<dd>0</dd>\n",
       "\t<dt>CC:apical junction complex</dt>\n",
       "\t\t<dd>0.0286727694741041</dd>\n",
       "\t<dt>CC:axon</dt>\n",
       "\t\t<dd>0.0286727694741041</dd>\n",
       "\t<dt>CC:cell body</dt>\n",
       "\t\t<dd>0</dd>\n",
       "\t<dt>CC:cell cortex</dt>\n",
       "\t\t<dd>0</dd>\n",
       "\t<dt>CC:cell leading edge</dt>\n",
       "\t\t<dd>0</dd>\n",
       "\t<dt>CC:cell-cell adherens junction</dt>\n",
       "\t\t<dd>0</dd>\n",
       "\t<dt>CC:cell-substrate junction</dt>\n",
       "\t\t<dd>0</dd>\n",
       "\t<dt>CC:cytoplasmic side of membrane</dt>\n",
       "\t\t<dd>0</dd>\n",
       "\t<dt>CC:filopodium</dt>\n",
       "\t\t<dd>0</dd>\n",
       "\t<dt>CC:lateral plasma membrane</dt>\n",
       "\t\t<dd>0.0286727694741041</dd>\n",
       "\t<dt>CC:receptor complex</dt>\n",
       "\t\t<dd>0</dd>\n",
       "\t<dt>CC:side of membrane</dt>\n",
       "\t\t<dd>0</dd>\n",
       "\t<dt>MF:GTP binding</dt>\n",
       "\t\t<dd>0</dd>\n",
       "\t<dt>MF:mitogen-activated protein kinase kinase kinase binding</dt>\n",
       "\t\t<dd>0</dd>\n",
       "\t<dt>MF:transcriptional repressor activity, RNA polymerase II transcription regulatory region sequence-specific binding</dt>\n",
       "\t\t<dd>0</dd>\n",
       "</dl>\n"
      ],
      "text/latex": [
       "\\begin{description*}\n",
       "\\item[BP:cell junction assembly] 0\n",
       "\\item[BP:cell-substrate junction assembly] 0\n",
       "\\item[BP:negative regulation of potassium ion transport] 0.0286727694741041\n",
       "\\item[BP:positive regulation of cell development] 0\n",
       "\\item[BP:positive regulation of cell projection organization] 0\n",
       "\\item[CC:actin cytoskeleton] 0\n",
       "\\item[CC:apical junction complex] 0.0286727694741041\n",
       "\\item[CC:axon] 0.0286727694741041\n",
       "\\item[CC:cell body] 0\n",
       "\\item[CC:cell cortex] 0\n",
       "\\item[CC:cell leading edge] 0\n",
       "\\item[CC:cell-cell adherens junction] 0\n",
       "\\item[CC:cell-substrate junction] 0\n",
       "\\item[CC:cytoplasmic side of membrane] 0\n",
       "\\item[CC:filopodium] 0\n",
       "\\item[CC:lateral plasma membrane] 0.0286727694741041\n",
       "\\item[CC:receptor complex] 0\n",
       "\\item[CC:side of membrane] 0\n",
       "\\item[MF:GTP binding] 0\n",
       "\\item[MF:mitogen-activated protein kinase kinase kinase binding] 0\n",
       "\\item[MF:transcriptional repressor activity, RNA polymerase II transcription regulatory region sequence-specific binding] 0\n",
       "\\end{description*}\n"
      ],
      "text/markdown": [
       "BP:cell junction assembly\n",
       ":   0BP:cell-substrate junction assembly\n",
       ":   0BP:negative regulation of potassium ion transport\n",
       ":   0.0286727694741041BP:positive regulation of cell development\n",
       ":   0BP:positive regulation of cell projection organization\n",
       ":   0CC:actin cytoskeleton\n",
       ":   0CC:apical junction complex\n",
       ":   0.0286727694741041CC:axon\n",
       ":   0.0286727694741041CC:cell body\n",
       ":   0CC:cell cortex\n",
       ":   0CC:cell leading edge\n",
       ":   0CC:cell-cell adherens junction\n",
       ":   0CC:cell-substrate junction\n",
       ":   0CC:cytoplasmic side of membrane\n",
       ":   0CC:filopodium\n",
       ":   0CC:lateral plasma membrane\n",
       ":   0.0286727694741041CC:receptor complex\n",
       ":   0CC:side of membrane\n",
       ":   0MF:GTP binding\n",
       ":   0MF:mitogen-activated protein kinase kinase kinase binding\n",
       ":   0MF:transcriptional repressor activity, RNA polymerase II transcription regulatory region sequence-specific binding\n",
       ":   0\n",
       "\n"
      ],
      "text/plain": [
       "                                                                                         BP:cell junction assembly \n",
       "                                                                                                        0.00000000 \n",
       "                                                                               BP:cell-substrate junction assembly \n",
       "                                                                                                        0.00000000 \n",
       "                                                                 BP:negative regulation of potassium ion transport \n",
       "                                                                                                        0.02867277 \n",
       "                                                                        BP:positive regulation of cell development \n",
       "                                                                                                        0.00000000 \n",
       "                                                            BP:positive regulation of cell projection organization \n",
       "                                                                                                        0.00000000 \n",
       "                                                                                             CC:actin cytoskeleton \n",
       "                                                                                                        0.00000000 \n",
       "                                                                                        CC:apical junction complex \n",
       "                                                                                                        0.02867277 \n",
       "                                                                                                           CC:axon \n",
       "                                                                                                        0.02867277 \n",
       "                                                                                                      CC:cell body \n",
       "                                                                                                        0.00000000 \n",
       "                                                                                                    CC:cell cortex \n",
       "                                                                                                        0.00000000 \n",
       "                                                                                              CC:cell leading edge \n",
       "                                                                                                        0.00000000 \n",
       "                                                                                    CC:cell-cell adherens junction \n",
       "                                                                                                        0.00000000 \n",
       "                                                                                        CC:cell-substrate junction \n",
       "                                                                                                        0.00000000 \n",
       "                                                                                   CC:cytoplasmic side of membrane \n",
       "                                                                                                        0.00000000 \n",
       "                                                                                                     CC:filopodium \n",
       "                                                                                                        0.00000000 \n",
       "                                                                                        CC:lateral plasma membrane \n",
       "                                                                                                        0.02867277 \n",
       "                                                                                               CC:receptor complex \n",
       "                                                                                                        0.00000000 \n",
       "                                                                                               CC:side of membrane \n",
       "                                                                                                        0.00000000 \n",
       "                                                                                                    MF:GTP binding \n",
       "                                                                                                        0.00000000 \n",
       "                                                         MF:mitogen-activated protein kinase kinase kinase binding \n",
       "                                                                                                        0.00000000 \n",
       "MF:transcriptional repressor activity, RNA polymerase II transcription regulatory region sequence-specific binding \n",
       "                                                                                                        0.00000000 "
      ]
     },
     "metadata": {},
     "output_type": "display_data"
    }
   ],
   "source": [
    "cell.data2[, \"ANK3\"] # correct"
   ]
  },
  {
   "cell_type": "markdown",
   "metadata": {},
   "source": [
    "* **pheatmap**"
   ]
  },
  {
   "cell_type": "code",
   "execution_count": 2,
   "metadata": {
    "ExecuteTime": {
     "end_time": "2019-01-04T11:06:39.176112Z",
     "start_time": "2019-01-04T11:06:38.996Z"
    }
   },
   "outputs": [],
   "source": [
    "library(pheatmap)"
   ]
  },
  {
   "cell_type": "code",
   "execution_count": 233,
   "metadata": {
    "ExecuteTime": {
     "end_time": "2018-12-05T16:06:35.371072Z",
     "start_time": "2018-12-05T16:06:33.812Z"
    },
    "collapsed": true,
    "jupyter": {
     "outputs_hidden": true
    }
   },
   "outputs": [],
   "source": [
    "?pheatmap"
   ]
  },
  {
   "cell_type": "code",
   "execution_count": 33,
   "metadata": {
    "ExecuteTime": {
     "end_time": "2019-01-04T11:05:07.525059Z",
     "start_time": "2019-01-04T11:05:07.470Z"
    }
   },
   "outputs": [
    {
     "data": {
      "text/plain": [
       "cat\n",
       "BP CC MF \n",
       " 5 13  3 "
      ]
     },
     "metadata": {},
     "output_type": "display_data"
    }
   ],
   "source": [
    "# in order to know the gaps for the plot\n",
    "cat=sapply(strsplit(rownames(cell.data),\":\"),`[`, 1)\n",
    "table(cat)"
   ]
  },
  {
   "cell_type": "code",
   "execution_count": 38,
   "metadata": {
    "ExecuteTime": {
     "end_time": "2019-01-04T11:08:16.671402Z",
     "start_time": "2019-01-04T11:08:16.125Z"
    }
   },
   "outputs": [
    {
     "data": {
      "image/png": "[encoded data removed]",
      "text/plain": [
       "plot without title"
      ]
     },
     "metadata": {},
     "output_type": "display_data"
    }
   ],
   "source": [
    "pheatmap(cell.data2, annotation_col = annotation_col, annotation_row = annotation_row,  cluster_rows = FALSE, gaps_row = c(5,18),fontsize = 4, fontsize_row = 4, fontsize_col = 3,main = \"Case vs Control\")"
   ]
  },
  {
   "cell_type": "code",
   "execution_count": 41,
   "metadata": {
    "ExecuteTime": {
     "end_time": "2019-01-04T11:13:52.887417Z",
     "start_time": "2019-01-04T11:13:52.575Z"
    }
   },
   "outputs": [
    {
     "data": {
      "text/html": [
       "<strong>png:</strong> 2"
      ],
      "text/latex": [
       "\\textbf{png:} 2"
      ],
      "text/markdown": [
       "**png:** 2"
      ],
      "text/plain": [
       "png \n",
       "  2 "
      ]
     },
     "metadata": {},
     "output_type": "display_data"
    }
   ],
   "source": [
    "# dev.copy2pdf ?\n",
    "pdf(file=\"pheatmapCaseControl.pdf\")\n",
    "pheatmap(cell.data2, annotation_col = annotation_col, annotation_row = annotation_row,  cluster_rows = FALSE, gaps_row = c(5,18) ,fontsize = 4, fontsize_row = 4, fontsize_col = 3,main = \"Case vs Control\")\n",
    "dev.off()"
   ]
  },
  {
   "cell_type": "code",
   "execution_count": 42,
   "metadata": {
    "ExecuteTime": {
     "end_time": "2019-01-04T11:14:30.705686Z",
     "start_time": "2019-01-04T11:14:30.304Z"
    }
   },
   "outputs": [
    {
     "data": {
      "image/png": "[encoded data removed]",
      "text/plain": [
       "plot without title"
      ]
     },
     "metadata": {},
     "output_type": "display_data"
    }
   ],
   "source": [
    "# if leyend=FALSE, the plot is bigger and cell have borders\n",
    "pheatmap(cell.data2, annotation_col = annotation_col, annotation_row = annotation_row,  cluster_rows = FALSE, gaps_row = c(5,18),fontsize = 4, fontsize_row = 4, fontsize_col = 3,main = \"Cortex E3\",legend = FALSE,annotation_legend = FALSE)"
   ]
  }
 ],
 "metadata": {
  "kernelspec": {
   "display_name": "R",
   "language": "R",
   "name": "ir"
  },
  "language_info": {
   "codemirror_mode": "r",
   "file_extension": ".r",
   "mimetype": "text/x-r-source",
   "name": "R",
   "pygments_lexer": "r",
   "version": "4.0.3"
  },
  "toc": {
   "base_numbering": 1,
   "nav_menu": {},
   "number_sections": true,
   "sideBar": true,
   "skip_h1_title": false,
   "title_cell": "Table of Contents",
   "title_sidebar": "Contents",
   "toc_cell": false,
   "toc_position": {},
   "toc_section_display": true,
   "toc_window_display": false
  }
 },
 "nbformat": 4,
 "nbformat_minor": 4
}
