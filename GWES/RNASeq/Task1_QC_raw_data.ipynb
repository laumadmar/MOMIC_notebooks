{
 "cells": [
  {
   "cell_type": "markdown",
   "metadata": {},
   "source": [
    "# QC of raw data\n",
    "\n",
    "The first step should be to check the overall quality of the sequenced reads. A poor RNA-seq run will be characterized by the presence of one or more of the following types of uninformative sequences:\n",
    "- PCR duplicates\n",
    "- adapter contamination\n",
    "- rRNA and tRNA reads\n",
    "- unmappable reads, e.g. from contaminating nucleic acids\n",
    "\n",
    "All but the last category of possible problems can be detected using FASTQC."
   ]
  },
  {
   "cell_type": "code",
   "execution_count": 5,
   "metadata": {
    "ExecuteTime": {
     "end_time": "2020-10-03T09:24:06.350831Z",
     "start_time": "2020-10-03T09:24:06.041Z"
    }
   },
   "outputs": [],
   "source": [
    "path<-\"/mnt/data/GeneExpression/input/RNASeq\"\n",
    "outpath<-\"/mnt/data/GeneExpression/output/RNASeq/ASTRO_DUMMY/fastQC\""
   ]
  },
  {
   "cell_type": "code",
   "execution_count": 3,
   "metadata": {
    "ExecuteTime": {
     "end_time": "2020-09-26T10:12:59.638330Z",
     "start_time": "2020-09-26T10:12:59.541Z"
    }
   },
   "outputs": [
    {
     "data": {
      "text/html": [
       "<table>\n",
       "<caption>A data.frame: 15 x 6</caption>\n",
       "<thead>\n",
       "\t<tr><th></th><th scope=col>Sample_ID</th><th scope=col>ApoE_genotype</th><th scope=col>Sex</th><th scope=col>Status</th><th scope=col>RIN</th><th scope=col>Raw.files</th></tr>\n",
       "\t<tr><th></th><th scope=col>&lt;chr&gt;</th><th scope=col>&lt;chr&gt;</th><th scope=col>&lt;chr&gt;</th><th scope=col>&lt;chr&gt;</th><th scope=col>&lt;dbl&gt;</th><th scope=col>&lt;chr&gt;</th></tr>\n",
       "</thead>\n",
       "<tbody>\n",
       "\t<tr><th scope=row>1</th><td>E22C6astro1</td><td>E2E2</td><td>Female</td><td>Control</td><td>9.1</td><td>E22C6astro1_S27_L001_R1_001.fastq.gz/E22C6astro1_S27_L002_R1_001.fastq.gz/E22C6astro1_S27_L003_R1_001.fastq.gz/E22C6astro1_S27_L004_R1_001.fastq.gz</td></tr>\n",
       "\t<tr><th scope=row>2</th><td>E22C6astro2</td><td>E2E2</td><td>Female</td><td>Control</td><td>9.2</td><td>E22C6astro2_S28_L001_R1_001.fastq.gz/E22C6astro2_S28_L002_R1_001.fastq.gz/E22C6astro2_S28_L003_R1_001.fastq.gz/E22C6astro2_S28_L004_R1_001.fastq.gz</td></tr>\n",
       "\t<tr><th scope=row>3</th><td>E22C6astro3</td><td>E2E2</td><td>Female</td><td>Control</td><td>9.3</td><td>E22C6astro3_S29_L001_R1_001.fastq.gz/E22C6astro3_S29_L002_R1_001.fastq.gz/E22C6astro3_S29_L003_R1_001.fastq.gz/E22C6astro3_S29_L004_R1_001.fastq.gz</td></tr>\n",
       "\t<tr><th scope=row>4</th><td>E33C2astro1</td><td>E3E3</td><td>Female</td><td>Case   </td><td>9.3</td><td>E33C2astro1_S33_L001_R1_001.fastq.gz/E33C2astro1_S33_L002_R1_001.fastq.gz/E33C2astro1_S33_L003_R1_001.fastq.gz/E33C2astro1_S33_L004_R1_001.fastq.gz</td></tr>\n",
       "\t<tr><th scope=row>5</th><td>E33C2astro2</td><td>E3E3</td><td>Female</td><td>Case   </td><td>9.3</td><td>E33C2astro2_S10_L001_R1_001.fastq.gz/E33C2astro2_S10_L002_R1_001.fastq.gz/E33C2astro2_S10_L003_R1_001.fastq.gz/E33C2astro2_S10_L004_R1_001.fastq.gz</td></tr>\n",
       "\t<tr><th scope=row>6</th><td>E33C2astro3</td><td>E3E3</td><td>Female</td><td>Case   </td><td>9.1</td><td>E33C2astro3_S35_L001_R1_001.fastq.gz/E33C2astro3_S35_L002_R1_001.fastq.gz/E33C2astro3_S35_L003_R1_001.fastq.gz/E33C2astro3_S35_L004_R1_001.fastq.gz</td></tr>\n",
       "\t<tr><th scope=row>7</th><td>E34Castro1 </td><td>E3E4</td><td>Female</td><td>Case   </td><td>9.1</td><td>E34Castro1_S30_L001_R1_001.fastq.gz/E34Castro1_S30_L002_R1_001.fastq.gz/E34Castro1_S30_L003_R1_001.fastq.gz/E34Castro1_S30_L004_R1_001.fastq.gz    </td></tr>\n",
       "\t<tr><th scope=row>8</th><td>E34Castro2 </td><td>E3E4</td><td>Male  </td><td>Case   </td><td>9.4</td><td>E34Castro2_S31_L001_R1_001.fastq.gz/E34Castro2_S31_L002_R1_001.fastq.gz/E34Castro2_S31_L003_R1_001.fastq.gz/E34Castro2_S31_L004_R1_001.fastq.gz    </td></tr>\n",
       "\t<tr><th scope=row>9</th><td>E34Castro3 </td><td>E3E4</td><td>Male  </td><td>Case   </td><td>9.0</td><td>E34Castro3_S32_L001_R1_001.fastq.gz/E34Castro3_S32_L002_R1_001.fastq.gz/E34Castro3_S32_L003_R1_001.fastq.gz/E34Castro3_S32_L004_R1_001.fastq.gz    </td></tr>\n",
       "\t<tr><th scope=row>10</th><td>E44C4astro1</td><td>E4E4</td><td>Male  </td><td>Case   </td><td>9.2</td><td>E44C4astro1_S39_L001_R1_001.fastq.gz/E44C4astro1_S39_L002_R1_001.fastq.gz/E44C4astro1_S39_L003_R1_001.fastq.gz/E44C4astro1_S39_L004_R1_001.fastq.gz</td></tr>\n",
       "\t<tr><th scope=row>11</th><td>E44C4astro2</td><td>E4E4</td><td>Male  </td><td>Control</td><td>9.3</td><td>E44C4astro2_S40_L001_R1_001.fastq.gz/E44C4astro2_S40_L002_R1_001.fastq.gz/E44C4astro2_S40_L003_R1_001.fastq.gz/E44C4astro2_S40_L004_R1_001.fastq.gz</td></tr>\n",
       "\t<tr><th scope=row>12</th><td>E44C4astro3</td><td>E4E4</td><td>Male  </td><td>Control</td><td>9.4</td><td>E44C4astro3_S41_L001_R1_001.fastq.gz/E44C4astro3_S41_L002_R1_001.fastq.gz/E44C4astro3_S41_L003_R1_001.fastq.gz/E44C4astro3_S41_L004_R1_001.fastq.gz</td></tr>\n",
       "\t<tr><th scope=row>13</th><td>EKOC3astro1</td><td>KO  </td><td>Male  </td><td>Control</td><td>9.0</td><td>EKOC3astro1_S36_L001_R1_001.fastq.gz/EKOC3astro1_S36_L002_R1_001.fastq.gz/EKOC3astro1_S36_L003_R1_001.fastq.gz/EKOC3astro1_S36_L004_R1_001.fastq.gz</td></tr>\n",
       "\t<tr><th scope=row>14</th><td>EKOC3astro2</td><td>KO  </td><td>Male  </td><td>Control</td><td>9.2</td><td>EKOC3astro2_S37_L001_R1_001.fastq.gz/EKOC3astro2_S37_L002_R1_001.fastq.gz/EKOC3astro2_S37_L003_R1_001.fastq.gz/EKOC3astro2_S37_L004_R1_001.fastq.gz</td></tr>\n",
       "\t<tr><th scope=row>15</th><td>EKOC3astro3</td><td>KO  </td><td>Male  </td><td>Control</td><td>9.0</td><td>EKOC3astro3_S38_L001_R1_001.fastq.gz/EKOC3astro3_S38_L002_R1_001.fastq.gz/EKOC3astro3_S38_L003_R1_001.fastq.gz/EKOC3astro3_S38_L004_R1_001.fastq.gz</td></tr>\n",
       "</tbody>\n",
       "</table>\n"
      ],
      "text/latex": [
       "A data.frame: 15 x 6\n",
       "\\begin{tabular}{r|llllll}\n",
       "  & Sample\\_ID & ApoE\\_genotype & Sex & Status & RIN & Raw.files\\\\\n",
       "  & <chr> & <chr> & <chr> & <chr> & <dbl> & <chr>\\\\\n",
       "\\hline\n",
       "\t1 & E22C6astro1 & E2E2 & Female & Control & 9.1 & E22C6astro1\\_S27\\_L001\\_R1\\_001.fastq.gz/E22C6astro1\\_S27\\_L002\\_R1\\_001.fastq.gz/E22C6astro1\\_S27\\_L003\\_R1\\_001.fastq.gz/E22C6astro1\\_S27\\_L004\\_R1\\_001.fastq.gz\\\\\n",
       "\t2 & E22C6astro2 & E2E2 & Female & Control & 9.2 & E22C6astro2\\_S28\\_L001\\_R1\\_001.fastq.gz/E22C6astro2\\_S28\\_L002\\_R1\\_001.fastq.gz/E22C6astro2\\_S28\\_L003\\_R1\\_001.fastq.gz/E22C6astro2\\_S28\\_L004\\_R1\\_001.fastq.gz\\\\\n",
       "\t3 & E22C6astro3 & E2E2 & Female & Control & 9.3 & E22C6astro3\\_S29\\_L001\\_R1\\_001.fastq.gz/E22C6astro3\\_S29\\_L002\\_R1\\_001.fastq.gz/E22C6astro3\\_S29\\_L003\\_R1\\_001.fastq.gz/E22C6astro3\\_S29\\_L004\\_R1\\_001.fastq.gz\\\\\n",
       "\t4 & E33C2astro1 & E3E3 & Female & Case    & 9.3 & E33C2astro1\\_S33\\_L001\\_R1\\_001.fastq.gz/E33C2astro1\\_S33\\_L002\\_R1\\_001.fastq.gz/E33C2astro1\\_S33\\_L003\\_R1\\_001.fastq.gz/E33C2astro1\\_S33\\_L004\\_R1\\_001.fastq.gz\\\\\n",
       "\t5 & E33C2astro2 & E3E3 & Female & Case    & 9.3 & E33C2astro2\\_S10\\_L001\\_R1\\_001.fastq.gz/E33C2astro2\\_S10\\_L002\\_R1\\_001.fastq.gz/E33C2astro2\\_S10\\_L003\\_R1\\_001.fastq.gz/E33C2astro2\\_S10\\_L004\\_R1\\_001.fastq.gz\\\\\n",
       "\t6 & E33C2astro3 & E3E3 & Female & Case    & 9.1 & E33C2astro3\\_S35\\_L001\\_R1\\_001.fastq.gz/E33C2astro3\\_S35\\_L002\\_R1\\_001.fastq.gz/E33C2astro3\\_S35\\_L003\\_R1\\_001.fastq.gz/E33C2astro3\\_S35\\_L004\\_R1\\_001.fastq.gz\\\\\n",
       "\t7 & E34Castro1  & E3E4 & Female & Case    & 9.1 & E34Castro1\\_S30\\_L001\\_R1\\_001.fastq.gz/E34Castro1\\_S30\\_L002\\_R1\\_001.fastq.gz/E34Castro1\\_S30\\_L003\\_R1\\_001.fastq.gz/E34Castro1\\_S30\\_L004\\_R1\\_001.fastq.gz    \\\\\n",
       "\t8 & E34Castro2  & E3E4 & Male   & Case    & 9.4 & E34Castro2\\_S31\\_L001\\_R1\\_001.fastq.gz/E34Castro2\\_S31\\_L002\\_R1\\_001.fastq.gz/E34Castro2\\_S31\\_L003\\_R1\\_001.fastq.gz/E34Castro2\\_S31\\_L004\\_R1\\_001.fastq.gz    \\\\\n",
       "\t9 & E34Castro3  & E3E4 & Male   & Case    & 9.0 & E34Castro3\\_S32\\_L001\\_R1\\_001.fastq.gz/E34Castro3\\_S32\\_L002\\_R1\\_001.fastq.gz/E34Castro3\\_S32\\_L003\\_R1\\_001.fastq.gz/E34Castro3\\_S32\\_L004\\_R1\\_001.fastq.gz    \\\\\n",
       "\t10 & E44C4astro1 & E4E4 & Male   & Case    & 9.2 & E44C4astro1\\_S39\\_L001\\_R1\\_001.fastq.gz/E44C4astro1\\_S39\\_L002\\_R1\\_001.fastq.gz/E44C4astro1\\_S39\\_L003\\_R1\\_001.fastq.gz/E44C4astro1\\_S39\\_L004\\_R1\\_001.fastq.gz\\\\\n",
       "\t11 & E44C4astro2 & E4E4 & Male   & Control & 9.3 & E44C4astro2\\_S40\\_L001\\_R1\\_001.fastq.gz/E44C4astro2\\_S40\\_L002\\_R1\\_001.fastq.gz/E44C4astro2\\_S40\\_L003\\_R1\\_001.fastq.gz/E44C4astro2\\_S40\\_L004\\_R1\\_001.fastq.gz\\\\\n",
       "\t12 & E44C4astro3 & E4E4 & Male   & Control & 9.4 & E44C4astro3\\_S41\\_L001\\_R1\\_001.fastq.gz/E44C4astro3\\_S41\\_L002\\_R1\\_001.fastq.gz/E44C4astro3\\_S41\\_L003\\_R1\\_001.fastq.gz/E44C4astro3\\_S41\\_L004\\_R1\\_001.fastq.gz\\\\\n",
       "\t13 & EKOC3astro1 & KO   & Male   & Control & 9.0 & EKOC3astro1\\_S36\\_L001\\_R1\\_001.fastq.gz/EKOC3astro1\\_S36\\_L002\\_R1\\_001.fastq.gz/EKOC3astro1\\_S36\\_L003\\_R1\\_001.fastq.gz/EKOC3astro1\\_S36\\_L004\\_R1\\_001.fastq.gz\\\\\n",
       "\t14 & EKOC3astro2 & KO   & Male   & Control & 9.2 & EKOC3astro2\\_S37\\_L001\\_R1\\_001.fastq.gz/EKOC3astro2\\_S37\\_L002\\_R1\\_001.fastq.gz/EKOC3astro2\\_S37\\_L003\\_R1\\_001.fastq.gz/EKOC3astro2\\_S37\\_L004\\_R1\\_001.fastq.gz\\\\\n",
       "\t15 & EKOC3astro3 & KO   & Male   & Control & 9.0 & EKOC3astro3\\_S38\\_L001\\_R1\\_001.fastq.gz/EKOC3astro3\\_S38\\_L002\\_R1\\_001.fastq.gz/EKOC3astro3\\_S38\\_L003\\_R1\\_001.fastq.gz/EKOC3astro3\\_S38\\_L004\\_R1\\_001.fastq.gz\\\\\n",
       "\\end{tabular}\n"
      ],
      "text/markdown": [
       "\n",
       "A data.frame: 15 x 6\n",
       "\n",
       "| <!--/--> | Sample_ID &lt;chr&gt; | ApoE_genotype &lt;chr&gt; | Sex &lt;chr&gt; | Status &lt;chr&gt; | RIN &lt;dbl&gt; | Raw.files &lt;chr&gt; |\n",
       "|---|---|---|---|---|---|---|\n",
       "| 1 | E22C6astro1 | E2E2 | Female | Control | 9.1 | E22C6astro1_S27_L001_R1_001.fastq.gz/E22C6astro1_S27_L002_R1_001.fastq.gz/E22C6astro1_S27_L003_R1_001.fastq.gz/E22C6astro1_S27_L004_R1_001.fastq.gz |\n",
       "| 2 | E22C6astro2 | E2E2 | Female | Control | 9.2 | E22C6astro2_S28_L001_R1_001.fastq.gz/E22C6astro2_S28_L002_R1_001.fastq.gz/E22C6astro2_S28_L003_R1_001.fastq.gz/E22C6astro2_S28_L004_R1_001.fastq.gz |\n",
       "| 3 | E22C6astro3 | E2E2 | Female | Control | 9.3 | E22C6astro3_S29_L001_R1_001.fastq.gz/E22C6astro3_S29_L002_R1_001.fastq.gz/E22C6astro3_S29_L003_R1_001.fastq.gz/E22C6astro3_S29_L004_R1_001.fastq.gz |\n",
       "| 4 | E33C2astro1 | E3E3 | Female | Case    | 9.3 | E33C2astro1_S33_L001_R1_001.fastq.gz/E33C2astro1_S33_L002_R1_001.fastq.gz/E33C2astro1_S33_L003_R1_001.fastq.gz/E33C2astro1_S33_L004_R1_001.fastq.gz |\n",
       "| 5 | E33C2astro2 | E3E3 | Female | Case    | 9.3 | E33C2astro2_S10_L001_R1_001.fastq.gz/E33C2astro2_S10_L002_R1_001.fastq.gz/E33C2astro2_S10_L003_R1_001.fastq.gz/E33C2astro2_S10_L004_R1_001.fastq.gz |\n",
       "| 6 | E33C2astro3 | E3E3 | Female | Case    | 9.1 | E33C2astro3_S35_L001_R1_001.fastq.gz/E33C2astro3_S35_L002_R1_001.fastq.gz/E33C2astro3_S35_L003_R1_001.fastq.gz/E33C2astro3_S35_L004_R1_001.fastq.gz |\n",
       "| 7 | E34Castro1  | E3E4 | Female | Case    | 9.1 | E34Castro1_S30_L001_R1_001.fastq.gz/E34Castro1_S30_L002_R1_001.fastq.gz/E34Castro1_S30_L003_R1_001.fastq.gz/E34Castro1_S30_L004_R1_001.fastq.gz     |\n",
       "| 8 | E34Castro2  | E3E4 | Male   | Case    | 9.4 | E34Castro2_S31_L001_R1_001.fastq.gz/E34Castro2_S31_L002_R1_001.fastq.gz/E34Castro2_S31_L003_R1_001.fastq.gz/E34Castro2_S31_L004_R1_001.fastq.gz     |\n",
       "| 9 | E34Castro3  | E3E4 | Male   | Case    | 9.0 | E34Castro3_S32_L001_R1_001.fastq.gz/E34Castro3_S32_L002_R1_001.fastq.gz/E34Castro3_S32_L003_R1_001.fastq.gz/E34Castro3_S32_L004_R1_001.fastq.gz     |\n",
       "| 10 | E44C4astro1 | E4E4 | Male   | Case    | 9.2 | E44C4astro1_S39_L001_R1_001.fastq.gz/E44C4astro1_S39_L002_R1_001.fastq.gz/E44C4astro1_S39_L003_R1_001.fastq.gz/E44C4astro1_S39_L004_R1_001.fastq.gz |\n",
       "| 11 | E44C4astro2 | E4E4 | Male   | Control | 9.3 | E44C4astro2_S40_L001_R1_001.fastq.gz/E44C4astro2_S40_L002_R1_001.fastq.gz/E44C4astro2_S40_L003_R1_001.fastq.gz/E44C4astro2_S40_L004_R1_001.fastq.gz |\n",
       "| 12 | E44C4astro3 | E4E4 | Male   | Control | 9.4 | E44C4astro3_S41_L001_R1_001.fastq.gz/E44C4astro3_S41_L002_R1_001.fastq.gz/E44C4astro3_S41_L003_R1_001.fastq.gz/E44C4astro3_S41_L004_R1_001.fastq.gz |\n",
       "| 13 | EKOC3astro1 | KO   | Male   | Control | 9.0 | EKOC3astro1_S36_L001_R1_001.fastq.gz/EKOC3astro1_S36_L002_R1_001.fastq.gz/EKOC3astro1_S36_L003_R1_001.fastq.gz/EKOC3astro1_S36_L004_R1_001.fastq.gz |\n",
       "| 14 | EKOC3astro2 | KO   | Male   | Control | 9.2 | EKOC3astro2_S37_L001_R1_001.fastq.gz/EKOC3astro2_S37_L002_R1_001.fastq.gz/EKOC3astro2_S37_L003_R1_001.fastq.gz/EKOC3astro2_S37_L004_R1_001.fastq.gz |\n",
       "| 15 | EKOC3astro3 | KO   | Male   | Control | 9.0 | EKOC3astro3_S38_L001_R1_001.fastq.gz/EKOC3astro3_S38_L002_R1_001.fastq.gz/EKOC3astro3_S38_L003_R1_001.fastq.gz/EKOC3astro3_S38_L004_R1_001.fastq.gz |\n",
       "\n"
      ],
      "text/plain": [
       "   Sample_ID   ApoE_genotype Sex    Status  RIN\n",
       "1  E22C6astro1 E2E2          Female Control 9.1\n",
       "2  E22C6astro2 E2E2          Female Control 9.2\n",
       "3  E22C6astro3 E2E2          Female Control 9.3\n",
       "4  E33C2astro1 E3E3          Female Case    9.3\n",
       "5  E33C2astro2 E3E3          Female Case    9.3\n",
       "6  E33C2astro3 E3E3          Female Case    9.1\n",
       "7  E34Castro1  E3E4          Female Case    9.1\n",
       "8  E34Castro2  E3E4          Male   Case    9.4\n",
       "9  E34Castro3  E3E4          Male   Case    9.0\n",
       "10 E44C4astro1 E4E4          Male   Case    9.2\n",
       "11 E44C4astro2 E4E4          Male   Control 9.3\n",
       "12 E44C4astro3 E4E4          Male   Control 9.4\n",
       "13 EKOC3astro1 KO            Male   Control 9.0\n",
       "14 EKOC3astro2 KO            Male   Control 9.2\n",
       "15 EKOC3astro3 KO            Male   Control 9.0\n",
       "   Raw.files                                                                                                                                          \n",
       "1  E22C6astro1_S27_L001_R1_001.fastq.gz/E22C6astro1_S27_L002_R1_001.fastq.gz/E22C6astro1_S27_L003_R1_001.fastq.gz/E22C6astro1_S27_L004_R1_001.fastq.gz\n",
       "2  E22C6astro2_S28_L001_R1_001.fastq.gz/E22C6astro2_S28_L002_R1_001.fastq.gz/E22C6astro2_S28_L003_R1_001.fastq.gz/E22C6astro2_S28_L004_R1_001.fastq.gz\n",
       "3  E22C6astro3_S29_L001_R1_001.fastq.gz/E22C6astro3_S29_L002_R1_001.fastq.gz/E22C6astro3_S29_L003_R1_001.fastq.gz/E22C6astro3_S29_L004_R1_001.fastq.gz\n",
       "4  E33C2astro1_S33_L001_R1_001.fastq.gz/E33C2astro1_S33_L002_R1_001.fastq.gz/E33C2astro1_S33_L003_R1_001.fastq.gz/E33C2astro1_S33_L004_R1_001.fastq.gz\n",
       "5  E33C2astro2_S10_L001_R1_001.fastq.gz/E33C2astro2_S10_L002_R1_001.fastq.gz/E33C2astro2_S10_L003_R1_001.fastq.gz/E33C2astro2_S10_L004_R1_001.fastq.gz\n",
       "6  E33C2astro3_S35_L001_R1_001.fastq.gz/E33C2astro3_S35_L002_R1_001.fastq.gz/E33C2astro3_S35_L003_R1_001.fastq.gz/E33C2astro3_S35_L004_R1_001.fastq.gz\n",
       "7  E34Castro1_S30_L001_R1_001.fastq.gz/E34Castro1_S30_L002_R1_001.fastq.gz/E34Castro1_S30_L003_R1_001.fastq.gz/E34Castro1_S30_L004_R1_001.fastq.gz    \n",
       "8  E34Castro2_S31_L001_R1_001.fastq.gz/E34Castro2_S31_L002_R1_001.fastq.gz/E34Castro2_S31_L003_R1_001.fastq.gz/E34Castro2_S31_L004_R1_001.fastq.gz    \n",
       "9  E34Castro3_S32_L001_R1_001.fastq.gz/E34Castro3_S32_L002_R1_001.fastq.gz/E34Castro3_S32_L003_R1_001.fastq.gz/E34Castro3_S32_L004_R1_001.fastq.gz    \n",
       "10 E44C4astro1_S39_L001_R1_001.fastq.gz/E44C4astro1_S39_L002_R1_001.fastq.gz/E44C4astro1_S39_L003_R1_001.fastq.gz/E44C4astro1_S39_L004_R1_001.fastq.gz\n",
       "11 E44C4astro2_S40_L001_R1_001.fastq.gz/E44C4astro2_S40_L002_R1_001.fastq.gz/E44C4astro2_S40_L003_R1_001.fastq.gz/E44C4astro2_S40_L004_R1_001.fastq.gz\n",
       "12 E44C4astro3_S41_L001_R1_001.fastq.gz/E44C4astro3_S41_L002_R1_001.fastq.gz/E44C4astro3_S41_L003_R1_001.fastq.gz/E44C4astro3_S41_L004_R1_001.fastq.gz\n",
       "13 EKOC3astro1_S36_L001_R1_001.fastq.gz/EKOC3astro1_S36_L002_R1_001.fastq.gz/EKOC3astro1_S36_L003_R1_001.fastq.gz/EKOC3astro1_S36_L004_R1_001.fastq.gz\n",
       "14 EKOC3astro2_S37_L001_R1_001.fastq.gz/EKOC3astro2_S37_L002_R1_001.fastq.gz/EKOC3astro2_S37_L003_R1_001.fastq.gz/EKOC3astro2_S37_L004_R1_001.fastq.gz\n",
       "15 EKOC3astro3_S38_L001_R1_001.fastq.gz/EKOC3astro3_S38_L002_R1_001.fastq.gz/EKOC3astro3_S38_L003_R1_001.fastq.gz/EKOC3astro3_S38_L004_R1_001.fastq.gz"
      ]
     },
     "metadata": {},
     "output_type": "display_data"
    }
   ],
   "source": [
    "sample.info<-read.table(paste(path,\"sample_info.txt\",sep=\"/\"))\n",
    "sample.info"
   ]
  },
  {
   "cell_type": "code",
   "execution_count": 10,
   "metadata": {
    "ExecuteTime": {
     "end_time": "2020-10-03T12:16:26.731590Z",
     "start_time": "2020-10-03T12:16:13.010Z"
    }
   },
   "outputs": [
    {
     "name": "stdout",
     "output_type": "stream",
     "text": [
      "Analysis complete for E22C6astro1_S27_L001_R1_001.fastq.gz\n"
     ]
    }
   ],
   "source": [
    "cmd=sprintf(\"fastqc %s/E22C6astro1_S27_L001_R1_001.fastq.gz --extract -o %s\",paste(path,\"FASTAQ\",sep=\"/\"),outpath)\n",
    "cat(system(cmd, intern=TRUE),sep='\\n')"
   ]
  },
  {
   "cell_type": "code",
   "execution_count": 19,
   "metadata": {
    "ExecuteTime": {
     "end_time": "2020-10-03T12:33:41.882265Z",
     "start_time": "2020-10-03T12:33:41.720Z"
    }
   },
   "outputs": [
    {
     "data": {
      "text/html": [
       "<style>\n",
       ".list-inline {list-style: none; margin:0; padding: 0}\n",
       ".list-inline>li {display: inline-block}\n",
       ".list-inline>li:not(:last-child)::after {content: \"\\00b7\"; padding: 0 .5ex}\n",
       "</style>\n",
       "<ol class=list-inline><li>'E22C6astro1_S27_L001_R1_001.fastq.gz'</li><li>'E22C6astro1_S27_L002_R1_001.fastq.gz'</li><li>'E22C6astro1_S27_L003_R1_001.fastq.gz'</li><li>'E22C6astro1_S27_L004_R1_001.fastq.gz'</li><li>'E22C6astro2_S28_L001_R1_001.fastq.gz'</li><li>'E22C6astro2_S28_L002_R1_001.fastq.gz'</li><li>'E22C6astro2_S28_L003_R1_001.fastq.gz'</li><li>'E22C6astro2_S28_L004_R1_001.fastq.gz'</li><li>'E22C6astro3_S29_L001_R1_001.fastq.gz'</li><li>'E22C6astro3_S29_L002_R1_001.fastq.gz'</li><li>'E22C6astro3_S29_L003_R1_001.fastq.gz'</li><li>'E22C6astro3_S29_L004_R1_001.fastq.gz'</li><li>'E33C2astro1_S33_L001_R1_001.fastq.gz'</li><li>'E33C2astro1_S33_L002_R1_001.fastq.gz'</li><li>'E33C2astro1_S33_L003_R1_001.fastq.gz'</li><li>'E33C2astro1_S33_L004_R1_001.fastq.gz'</li><li>'E33C2astro2_S10_L001_R1_001.fastq.gz'</li><li>'E33C2astro2_S10_L002_R1_001.fastq.gz'</li><li>'E33C2astro2_S10_L003_R1_001.fastq.gz'</li><li>'E33C2astro2_S10_L004_R1_001.fastq.gz'</li><li>'E33C2astro3_S35_L001_R1_001.fastq.gz'</li><li>'E33C2astro3_S35_L002_R1_001.fastq.gz'</li><li>'E33C2astro3_S35_L003_R1_001.fastq.gz'</li><li>'E33C2astro3_S35_L004_R1_001.fastq.gz'</li><li>'E34Castro1_S30_L001_R1_001.fastq.gz'</li><li>'E34Castro1_S30_L002_R1_001.fastq.gz'</li><li>'E34Castro1_S30_L003_R1_001.fastq.gz'</li><li>'E34Castro1_S30_L004_R1_001.fastq.gz'</li><li>'E34Castro2_S31_L001_R1_001.fastq.gz'</li><li>'E34Castro2_S31_L002_R1_001.fastq.gz'</li><li>'E34Castro2_S31_L003_R1_001.fastq.gz'</li><li>'E34Castro2_S31_L004_R1_001.fastq.gz'</li><li>'E34Castro3_S32_L001_R1_001.fastq.gz'</li><li>'E34Castro3_S32_L002_R1_001.fastq.gz'</li><li>'E34Castro3_S32_L003_R1_001.fastq.gz'</li><li>'E34Castro3_S32_L004_R1_001.fastq.gz'</li><li>'E44C4astro1_S39_L001_R1_001.fastq.gz'</li><li>'E44C4astro1_S39_L002_R1_001.fastq.gz'</li><li>'E44C4astro1_S39_L003_R1_001.fastq.gz'</li><li>'E44C4astro1_S39_L004_R1_001.fastq.gz'</li><li>'E44C4astro2_S40_L001_R1_001.fastq.gz'</li><li>'E44C4astro2_S40_L002_R1_001.fastq.gz'</li><li>'E44C4astro2_S40_L003_R1_001.fastq.gz'</li><li>'E44C4astro2_S40_L004_R1_001.fastq.gz'</li><li>'E44C4astro3_S41_L001_R1_001.fastq.gz'</li><li>'E44C4astro3_S41_L002_R1_001.fastq.gz'</li><li>'E44C4astro3_S41_L003_R1_001.fastq.gz'</li><li>'E44C4astro3_S41_L004_R1_001.fastq.gz'</li><li>'EKOC3astro1_S36_L001_R1_001.fastq.gz'</li><li>'EKOC3astro1_S36_L002_R1_001.fastq.gz'</li><li>'EKOC3astro1_S36_L003_R1_001.fastq.gz'</li><li>'EKOC3astro1_S36_L004_R1_001.fastq.gz'</li><li>'EKOC3astro2_S37_L001_R1_001.fastq.gz'</li><li>'EKOC3astro2_S37_L002_R1_001.fastq.gz'</li><li>'EKOC3astro2_S37_L003_R1_001.fastq.gz'</li><li>'EKOC3astro2_S37_L004_R1_001.fastq.gz'</li><li>'EKOC3astro3_S38_L001_R1_001.fastq.gz'</li><li>'EKOC3astro3_S38_L002_R1_001.fastq.gz'</li><li>'EKOC3astro3_S38_L003_R1_001.fastq.gz'</li><li>'EKOC3astro3_S38_L004_R1_001.fastq.gz'</li></ol>\n"
      ],
      "text/latex": [
       "\\begin{enumerate*}\n",
       "\\item 'E22C6astro1\\_S27\\_L001\\_R1\\_001.fastq.gz'\n",
       "\\item 'E22C6astro1\\_S27\\_L002\\_R1\\_001.fastq.gz'\n",
       "\\item 'E22C6astro1\\_S27\\_L003\\_R1\\_001.fastq.gz'\n",
       "\\item 'E22C6astro1\\_S27\\_L004\\_R1\\_001.fastq.gz'\n",
       "\\item 'E22C6astro2\\_S28\\_L001\\_R1\\_001.fastq.gz'\n",
       "\\item 'E22C6astro2\\_S28\\_L002\\_R1\\_001.fastq.gz'\n",
       "\\item 'E22C6astro2\\_S28\\_L003\\_R1\\_001.fastq.gz'\n",
       "\\item 'E22C6astro2\\_S28\\_L004\\_R1\\_001.fastq.gz'\n",
       "\\item 'E22C6astro3\\_S29\\_L001\\_R1\\_001.fastq.gz'\n",
       "\\item 'E22C6astro3\\_S29\\_L002\\_R1\\_001.fastq.gz'\n",
       "\\item 'E22C6astro3\\_S29\\_L003\\_R1\\_001.fastq.gz'\n",
       "\\item 'E22C6astro3\\_S29\\_L004\\_R1\\_001.fastq.gz'\n",
       "\\item 'E33C2astro1\\_S33\\_L001\\_R1\\_001.fastq.gz'\n",
       "\\item 'E33C2astro1\\_S33\\_L002\\_R1\\_001.fastq.gz'\n",
       "\\item 'E33C2astro1\\_S33\\_L003\\_R1\\_001.fastq.gz'\n",
       "\\item 'E33C2astro1\\_S33\\_L004\\_R1\\_001.fastq.gz'\n",
       "\\item 'E33C2astro2\\_S10\\_L001\\_R1\\_001.fastq.gz'\n",
       "\\item 'E33C2astro2\\_S10\\_L002\\_R1\\_001.fastq.gz'\n",
       "\\item 'E33C2astro2\\_S10\\_L003\\_R1\\_001.fastq.gz'\n",
       "\\item 'E33C2astro2\\_S10\\_L004\\_R1\\_001.fastq.gz'\n",
       "\\item 'E33C2astro3\\_S35\\_L001\\_R1\\_001.fastq.gz'\n",
       "\\item 'E33C2astro3\\_S35\\_L002\\_R1\\_001.fastq.gz'\n",
       "\\item 'E33C2astro3\\_S35\\_L003\\_R1\\_001.fastq.gz'\n",
       "\\item 'E33C2astro3\\_S35\\_L004\\_R1\\_001.fastq.gz'\n",
       "\\item 'E34Castro1\\_S30\\_L001\\_R1\\_001.fastq.gz'\n",
       "\\item 'E34Castro1\\_S30\\_L002\\_R1\\_001.fastq.gz'\n",
       "\\item 'E34Castro1\\_S30\\_L003\\_R1\\_001.fastq.gz'\n",
       "\\item 'E34Castro1\\_S30\\_L004\\_R1\\_001.fastq.gz'\n",
       "\\item 'E34Castro2\\_S31\\_L001\\_R1\\_001.fastq.gz'\n",
       "\\item 'E34Castro2\\_S31\\_L002\\_R1\\_001.fastq.gz'\n",
       "\\item 'E34Castro2\\_S31\\_L003\\_R1\\_001.fastq.gz'\n",
       "\\item 'E34Castro2\\_S31\\_L004\\_R1\\_001.fastq.gz'\n",
       "\\item 'E34Castro3\\_S32\\_L001\\_R1\\_001.fastq.gz'\n",
       "\\item 'E34Castro3\\_S32\\_L002\\_R1\\_001.fastq.gz'\n",
       "\\item 'E34Castro3\\_S32\\_L003\\_R1\\_001.fastq.gz'\n",
       "\\item 'E34Castro3\\_S32\\_L004\\_R1\\_001.fastq.gz'\n",
       "\\item 'E44C4astro1\\_S39\\_L001\\_R1\\_001.fastq.gz'\n",
       "\\item 'E44C4astro1\\_S39\\_L002\\_R1\\_001.fastq.gz'\n",
       "\\item 'E44C4astro1\\_S39\\_L003\\_R1\\_001.fastq.gz'\n",
       "\\item 'E44C4astro1\\_S39\\_L004\\_R1\\_001.fastq.gz'\n",
       "\\item 'E44C4astro2\\_S40\\_L001\\_R1\\_001.fastq.gz'\n",
       "\\item 'E44C4astro2\\_S40\\_L002\\_R1\\_001.fastq.gz'\n",
       "\\item 'E44C4astro2\\_S40\\_L003\\_R1\\_001.fastq.gz'\n",
       "\\item 'E44C4astro2\\_S40\\_L004\\_R1\\_001.fastq.gz'\n",
       "\\item 'E44C4astro3\\_S41\\_L001\\_R1\\_001.fastq.gz'\n",
       "\\item 'E44C4astro3\\_S41\\_L002\\_R1\\_001.fastq.gz'\n",
       "\\item 'E44C4astro3\\_S41\\_L003\\_R1\\_001.fastq.gz'\n",
       "\\item 'E44C4astro3\\_S41\\_L004\\_R1\\_001.fastq.gz'\n",
       "\\item 'EKOC3astro1\\_S36\\_L001\\_R1\\_001.fastq.gz'\n",
       "\\item 'EKOC3astro1\\_S36\\_L002\\_R1\\_001.fastq.gz'\n",
       "\\item 'EKOC3astro1\\_S36\\_L003\\_R1\\_001.fastq.gz'\n",
       "\\item 'EKOC3astro1\\_S36\\_L004\\_R1\\_001.fastq.gz'\n",
       "\\item 'EKOC3astro2\\_S37\\_L001\\_R1\\_001.fastq.gz'\n",
       "\\item 'EKOC3astro2\\_S37\\_L002\\_R1\\_001.fastq.gz'\n",
       "\\item 'EKOC3astro2\\_S37\\_L003\\_R1\\_001.fastq.gz'\n",
       "\\item 'EKOC3astro2\\_S37\\_L004\\_R1\\_001.fastq.gz'\n",
       "\\item 'EKOC3astro3\\_S38\\_L001\\_R1\\_001.fastq.gz'\n",
       "\\item 'EKOC3astro3\\_S38\\_L002\\_R1\\_001.fastq.gz'\n",
       "\\item 'EKOC3astro3\\_S38\\_L003\\_R1\\_001.fastq.gz'\n",
       "\\item 'EKOC3astro3\\_S38\\_L004\\_R1\\_001.fastq.gz'\n",
       "\\end{enumerate*}\n"
      ],
      "text/markdown": [
       "1. 'E22C6astro1_S27_L001_R1_001.fastq.gz'\n",
       "2. 'E22C6astro1_S27_L002_R1_001.fastq.gz'\n",
       "3. 'E22C6astro1_S27_L003_R1_001.fastq.gz'\n",
       "4. 'E22C6astro1_S27_L004_R1_001.fastq.gz'\n",
       "5. 'E22C6astro2_S28_L001_R1_001.fastq.gz'\n",
       "6. 'E22C6astro2_S28_L002_R1_001.fastq.gz'\n",
       "7. 'E22C6astro2_S28_L003_R1_001.fastq.gz'\n",
       "8. 'E22C6astro2_S28_L004_R1_001.fastq.gz'\n",
       "9. 'E22C6astro3_S29_L001_R1_001.fastq.gz'\n",
       "10. 'E22C6astro3_S29_L002_R1_001.fastq.gz'\n",
       "11. 'E22C6astro3_S29_L003_R1_001.fastq.gz'\n",
       "12. 'E22C6astro3_S29_L004_R1_001.fastq.gz'\n",
       "13. 'E33C2astro1_S33_L001_R1_001.fastq.gz'\n",
       "14. 'E33C2astro1_S33_L002_R1_001.fastq.gz'\n",
       "15. 'E33C2astro1_S33_L003_R1_001.fastq.gz'\n",
       "16. 'E33C2astro1_S33_L004_R1_001.fastq.gz'\n",
       "17. 'E33C2astro2_S10_L001_R1_001.fastq.gz'\n",
       "18. 'E33C2astro2_S10_L002_R1_001.fastq.gz'\n",
       "19. 'E33C2astro2_S10_L003_R1_001.fastq.gz'\n",
       "20. 'E33C2astro2_S10_L004_R1_001.fastq.gz'\n",
       "21. 'E33C2astro3_S35_L001_R1_001.fastq.gz'\n",
       "22. 'E33C2astro3_S35_L002_R1_001.fastq.gz'\n",
       "23. 'E33C2astro3_S35_L003_R1_001.fastq.gz'\n",
       "24. 'E33C2astro3_S35_L004_R1_001.fastq.gz'\n",
       "25. 'E34Castro1_S30_L001_R1_001.fastq.gz'\n",
       "26. 'E34Castro1_S30_L002_R1_001.fastq.gz'\n",
       "27. 'E34Castro1_S30_L003_R1_001.fastq.gz'\n",
       "28. 'E34Castro1_S30_L004_R1_001.fastq.gz'\n",
       "29. 'E34Castro2_S31_L001_R1_001.fastq.gz'\n",
       "30. 'E34Castro2_S31_L002_R1_001.fastq.gz'\n",
       "31. 'E34Castro2_S31_L003_R1_001.fastq.gz'\n",
       "32. 'E34Castro2_S31_L004_R1_001.fastq.gz'\n",
       "33. 'E34Castro3_S32_L001_R1_001.fastq.gz'\n",
       "34. 'E34Castro3_S32_L002_R1_001.fastq.gz'\n",
       "35. 'E34Castro3_S32_L003_R1_001.fastq.gz'\n",
       "36. 'E34Castro3_S32_L004_R1_001.fastq.gz'\n",
       "37. 'E44C4astro1_S39_L001_R1_001.fastq.gz'\n",
       "38. 'E44C4astro1_S39_L002_R1_001.fastq.gz'\n",
       "39. 'E44C4astro1_S39_L003_R1_001.fastq.gz'\n",
       "40. 'E44C4astro1_S39_L004_R1_001.fastq.gz'\n",
       "41. 'E44C4astro2_S40_L001_R1_001.fastq.gz'\n",
       "42. 'E44C4astro2_S40_L002_R1_001.fastq.gz'\n",
       "43. 'E44C4astro2_S40_L003_R1_001.fastq.gz'\n",
       "44. 'E44C4astro2_S40_L004_R1_001.fastq.gz'\n",
       "45. 'E44C4astro3_S41_L001_R1_001.fastq.gz'\n",
       "46. 'E44C4astro3_S41_L002_R1_001.fastq.gz'\n",
       "47. 'E44C4astro3_S41_L003_R1_001.fastq.gz'\n",
       "48. 'E44C4astro3_S41_L004_R1_001.fastq.gz'\n",
       "49. 'EKOC3astro1_S36_L001_R1_001.fastq.gz'\n",
       "50. 'EKOC3astro1_S36_L002_R1_001.fastq.gz'\n",
       "51. 'EKOC3astro1_S36_L003_R1_001.fastq.gz'\n",
       "52. 'EKOC3astro1_S36_L004_R1_001.fastq.gz'\n",
       "53. 'EKOC3astro2_S37_L001_R1_001.fastq.gz'\n",
       "54. 'EKOC3astro2_S37_L002_R1_001.fastq.gz'\n",
       "55. 'EKOC3astro2_S37_L003_R1_001.fastq.gz'\n",
       "56. 'EKOC3astro2_S37_L004_R1_001.fastq.gz'\n",
       "57. 'EKOC3astro3_S38_L001_R1_001.fastq.gz'\n",
       "58. 'EKOC3astro3_S38_L002_R1_001.fastq.gz'\n",
       "59. 'EKOC3astro3_S38_L003_R1_001.fastq.gz'\n",
       "60. 'EKOC3astro3_S38_L004_R1_001.fastq.gz'\n",
       "\n",
       "\n"
      ],
      "text/plain": [
       " [1] \"E22C6astro1_S27_L001_R1_001.fastq.gz\"\n",
       " [2] \"E22C6astro1_S27_L002_R1_001.fastq.gz\"\n",
       " [3] \"E22C6astro1_S27_L003_R1_001.fastq.gz\"\n",
       " [4] \"E22C6astro1_S27_L004_R1_001.fastq.gz\"\n",
       " [5] \"E22C6astro2_S28_L001_R1_001.fastq.gz\"\n",
       " [6] \"E22C6astro2_S28_L002_R1_001.fastq.gz\"\n",
       " [7] \"E22C6astro2_S28_L003_R1_001.fastq.gz\"\n",
       " [8] \"E22C6astro2_S28_L004_R1_001.fastq.gz\"\n",
       " [9] \"E22C6astro3_S29_L001_R1_001.fastq.gz\"\n",
       "[10] \"E22C6astro3_S29_L002_R1_001.fastq.gz\"\n",
       "[11] \"E22C6astro3_S29_L003_R1_001.fastq.gz\"\n",
       "[12] \"E22C6astro3_S29_L004_R1_001.fastq.gz\"\n",
       "[13] \"E33C2astro1_S33_L001_R1_001.fastq.gz\"\n",
       "[14] \"E33C2astro1_S33_L002_R1_001.fastq.gz\"\n",
       "[15] \"E33C2astro1_S33_L003_R1_001.fastq.gz\"\n",
       "[16] \"E33C2astro1_S33_L004_R1_001.fastq.gz\"\n",
       "[17] \"E33C2astro2_S10_L001_R1_001.fastq.gz\"\n",
       "[18] \"E33C2astro2_S10_L002_R1_001.fastq.gz\"\n",
       "[19] \"E33C2astro2_S10_L003_R1_001.fastq.gz\"\n",
       "[20] \"E33C2astro2_S10_L004_R1_001.fastq.gz\"\n",
       "[21] \"E33C2astro3_S35_L001_R1_001.fastq.gz\"\n",
       "[22] \"E33C2astro3_S35_L002_R1_001.fastq.gz\"\n",
       "[23] \"E33C2astro3_S35_L003_R1_001.fastq.gz\"\n",
       "[24] \"E33C2astro3_S35_L004_R1_001.fastq.gz\"\n",
       "[25] \"E34Castro1_S30_L001_R1_001.fastq.gz\" \n",
       "[26] \"E34Castro1_S30_L002_R1_001.fastq.gz\" \n",
       "[27] \"E34Castro1_S30_L003_R1_001.fastq.gz\" \n",
       "[28] \"E34Castro1_S30_L004_R1_001.fastq.gz\" \n",
       "[29] \"E34Castro2_S31_L001_R1_001.fastq.gz\" \n",
       "[30] \"E34Castro2_S31_L002_R1_001.fastq.gz\" \n",
       "[31] \"E34Castro2_S31_L003_R1_001.fastq.gz\" \n",
       "[32] \"E34Castro2_S31_L004_R1_001.fastq.gz\" \n",
       "[33] \"E34Castro3_S32_L001_R1_001.fastq.gz\" \n",
       "[34] \"E34Castro3_S32_L002_R1_001.fastq.gz\" \n",
       "[35] \"E34Castro3_S32_L003_R1_001.fastq.gz\" \n",
       "[36] \"E34Castro3_S32_L004_R1_001.fastq.gz\" \n",
       "[37] \"E44C4astro1_S39_L001_R1_001.fastq.gz\"\n",
       "[38] \"E44C4astro1_S39_L002_R1_001.fastq.gz\"\n",
       "[39] \"E44C4astro1_S39_L003_R1_001.fastq.gz\"\n",
       "[40] \"E44C4astro1_S39_L004_R1_001.fastq.gz\"\n",
       "[41] \"E44C4astro2_S40_L001_R1_001.fastq.gz\"\n",
       "[42] \"E44C4astro2_S40_L002_R1_001.fastq.gz\"\n",
       "[43] \"E44C4astro2_S40_L003_R1_001.fastq.gz\"\n",
       "[44] \"E44C4astro2_S40_L004_R1_001.fastq.gz\"\n",
       "[45] \"E44C4astro3_S41_L001_R1_001.fastq.gz\"\n",
       "[46] \"E44C4astro3_S41_L002_R1_001.fastq.gz\"\n",
       "[47] \"E44C4astro3_S41_L003_R1_001.fastq.gz\"\n",
       "[48] \"E44C4astro3_S41_L004_R1_001.fastq.gz\"\n",
       "[49] \"EKOC3astro1_S36_L001_R1_001.fastq.gz\"\n",
       "[50] \"EKOC3astro1_S36_L002_R1_001.fastq.gz\"\n",
       "[51] \"EKOC3astro1_S36_L003_R1_001.fastq.gz\"\n",
       "[52] \"EKOC3astro1_S36_L004_R1_001.fastq.gz\"\n",
       "[53] \"EKOC3astro2_S37_L001_R1_001.fastq.gz\"\n",
       "[54] \"EKOC3astro2_S37_L002_R1_001.fastq.gz\"\n",
       "[55] \"EKOC3astro2_S37_L003_R1_001.fastq.gz\"\n",
       "[56] \"EKOC3astro2_S37_L004_R1_001.fastq.gz\"\n",
       "[57] \"EKOC3astro3_S38_L001_R1_001.fastq.gz\"\n",
       "[58] \"EKOC3astro3_S38_L002_R1_001.fastq.gz\"\n",
       "[59] \"EKOC3astro3_S38_L003_R1_001.fastq.gz\"\n",
       "[60] \"EKOC3astro3_S38_L004_R1_001.fastq.gz\""
      ]
     },
     "metadata": {},
     "output_type": "display_data"
    }
   ],
   "source": [
    "list.files(path=paste(path,\"FASTAQ\",sep=\"/\"))"
   ]
  },
  {
   "cell_type": "raw",
   "metadata": {},
   "source": [
    "cat outpath/summary.txt"
   ]
  },
  {
   "cell_type": "code",
   "execution_count": 15,
   "metadata": {
    "ExecuteTime": {
     "end_time": "2020-10-03T12:23:29.427944Z",
     "start_time": "2020-10-03T12:23:29.366Z"
    }
   },
   "outputs": [
    {
     "data": {
      "text/plain": [
       "NULL"
      ]
     },
     "metadata": {},
     "output_type": "display_data"
    }
   ],
   "source": [
    "sample.info$sample_ID"
   ]
  },
  {
   "cell_type": "code",
   "execution_count": 22,
   "metadata": {
    "ExecuteTime": {
     "end_time": "2020-10-03T12:47:48.653818Z",
     "start_time": "2020-10-03T12:35:09.304Z"
    }
   },
   "outputs": [
    {
     "name": "stdout",
     "output_type": "stream",
     "text": [
      "Analysis complete for E22C6astro1_S27_L001_R1_001.fastq.gz\n",
      "Analysis complete for E22C6astro1_S27_L002_R1_001.fastq.gz\n",
      "Analysis complete for E22C6astro1_S27_L003_R1_001.fastq.gz\n",
      "Analysis complete for E22C6astro1_S27_L004_R1_001.fastq.gz\n",
      "Analysis complete for E22C6astro2_S28_L001_R1_001.fastq.gz\n",
      "Analysis complete for E22C6astro2_S28_L002_R1_001.fastq.gz\n",
      "Analysis complete for E22C6astro2_S28_L003_R1_001.fastq.gz\n",
      "Analysis complete for E22C6astro2_S28_L004_R1_001.fastq.gz\n",
      "Analysis complete for E22C6astro3_S29_L001_R1_001.fastq.gz\n",
      "Analysis complete for E22C6astro3_S29_L002_R1_001.fastq.gz\n",
      "Analysis complete for E22C6astro3_S29_L003_R1_001.fastq.gz\n",
      "Analysis complete for E22C6astro3_S29_L004_R1_001.fastq.gz\n",
      "Analysis complete for E33C2astro1_S33_L001_R1_001.fastq.gz\n",
      "Analysis complete for E33C2astro1_S33_L002_R1_001.fastq.gz\n",
      "Analysis complete for E33C2astro1_S33_L003_R1_001.fastq.gz\n",
      "Analysis complete for E33C2astro1_S33_L004_R1_001.fastq.gz\n",
      "Analysis complete for E33C2astro2_S10_L001_R1_001.fastq.gz\n",
      "Analysis complete for E33C2astro2_S10_L002_R1_001.fastq.gz\n",
      "Analysis complete for E33C2astro2_S10_L003_R1_001.fastq.gz\n",
      "Analysis complete for E33C2astro2_S10_L004_R1_001.fastq.gz\n",
      "Analysis complete for E33C2astro3_S35_L001_R1_001.fastq.gz\n",
      "Analysis complete for E33C2astro3_S35_L002_R1_001.fastq.gz\n",
      "Analysis complete for E33C2astro3_S35_L003_R1_001.fastq.gz\n",
      "Analysis complete for E33C2astro3_S35_L004_R1_001.fastq.gz\n",
      "Analysis complete for E34Castro1_S30_L001_R1_001.fastq.gz\n",
      "Analysis complete for E34Castro1_S30_L002_R1_001.fastq.gz\n",
      "Analysis complete for E34Castro1_S30_L003_R1_001.fastq.gz\n",
      "Analysis complete for E34Castro1_S30_L004_R1_001.fastq.gz\n",
      "Analysis complete for E34Castro2_S31_L001_R1_001.fastq.gz\n",
      "Analysis complete for E34Castro2_S31_L002_R1_001.fastq.gz\n",
      "Analysis complete for E34Castro2_S31_L003_R1_001.fastq.gz\n",
      "Analysis complete for E34Castro2_S31_L004_R1_001.fastq.gz\n",
      "Analysis complete for E34Castro3_S32_L001_R1_001.fastq.gz\n",
      "Analysis complete for E34Castro3_S32_L002_R1_001.fastq.gz\n",
      "Analysis complete for E34Castro3_S32_L003_R1_001.fastq.gz\n",
      "Analysis complete for E34Castro3_S32_L004_R1_001.fastq.gz\n",
      "Analysis complete for E44C4astro1_S39_L001_R1_001.fastq.gz\n",
      "Analysis complete for E44C4astro1_S39_L002_R1_001.fastq.gz\n",
      "Analysis complete for E44C4astro1_S39_L003_R1_001.fastq.gz\n",
      "Analysis complete for E44C4astro1_S39_L004_R1_001.fastq.gz\n",
      "Analysis complete for E44C4astro2_S40_L001_R1_001.fastq.gz\n",
      "Analysis complete for E44C4astro2_S40_L002_R1_001.fastq.gz\n",
      "Analysis complete for E44C4astro2_S40_L003_R1_001.fastq.gz\n",
      "Analysis complete for E44C4astro2_S40_L004_R1_001.fastq.gz\n",
      "Analysis complete for E44C4astro3_S41_L001_R1_001.fastq.gz\n",
      "Analysis complete for E44C4astro3_S41_L002_R1_001.fastq.gz\n",
      "Analysis complete for E44C4astro3_S41_L003_R1_001.fastq.gz\n",
      "Analysis complete for E44C4astro3_S41_L004_R1_001.fastq.gz\n",
      "Analysis complete for EKOC3astro1_S36_L001_R1_001.fastq.gz\n",
      "Analysis complete for EKOC3astro1_S36_L002_R1_001.fastq.gz\n",
      "Analysis complete for EKOC3astro1_S36_L003_R1_001.fastq.gz\n",
      "Analysis complete for EKOC3astro1_S36_L004_R1_001.fastq.gz\n",
      "Analysis complete for EKOC3astro2_S37_L001_R1_001.fastq.gz\n",
      "Analysis complete for EKOC3astro2_S37_L002_R1_001.fastq.gz\n",
      "Analysis complete for EKOC3astro2_S37_L003_R1_001.fastq.gz\n",
      "Analysis complete for EKOC3astro2_S37_L004_R1_001.fastq.gz\n",
      "Analysis complete for EKOC3astro3_S38_L001_R1_001.fastq.gz\n",
      "Analysis complete for EKOC3astro3_S38_L002_R1_001.fastq.gz\n",
      "Analysis complete for EKOC3astro3_S38_L003_R1_001.fastq.gz\n",
      "Analysis complete for EKOC3astro3_S38_L004_R1_001.fastq.gz\n"
     ]
    }
   ],
   "source": [
    "# for (sample in sample.info$Raw.files) { and then\n",
    "    # split by '/' and loop again for each fastq file. \n",
    "# OR for each file in list file\n",
    "for (sample in list.files(path=paste(path,\"FASTAQ\",sep=\"/\"))){\n",
    "    cmd=sprintf(\"fastqc %s/%s --extract -o %s\",paste(path,\"FASTAQ\",sep=\"/\"),sample,outpath)\n",
    "    cat(system(cmd, intern=TRUE),sep='\\n')\n",
    "}"
   ]
  },
  {
   "cell_type": "markdown",
   "metadata": {},
   "source": [
    "**You can inspect each html report individually or use a tool like multiqc to group the results into a single html.**"
   ]
  },
  {
   "cell_type": "code",
   "execution_count": 26,
   "metadata": {
    "ExecuteTime": {
     "end_time": "2020-10-04T20:40:02.010504Z",
     "start_time": "2020-10-04T20:40:01.362Z"
    }
   },
   "outputs": [
    {
     "name": "stderr",
     "output_type": "stream",
     "text": [
      "Warning message in system(cmd, intern = TRUE):\n",
      "\"running command 'multiqc /mnt/data/GeneExpression/output/RNASeq --dirs --interactive -o /mnt/data/GeneExpression/output/RNASeq/multiqc' had status 1\"\n"
     ]
    },
    {
     "name": "stdout",
     "output_type": "stream",
     "text": [
      "\n"
     ]
    }
   ],
   "source": [
    "# run multiqc\n",
    "cmd=sprintf(\"multiqc %s --dirs --interactive -o %s\",outpath,paste(outpath,\"multiqc\",sep=\"/\"))\n",
    "cat(system(cmd, intern=TRUE),sep='\\n')\n"
   ]
  },
  {
   "cell_type": "code",
   "execution_count": 31,
   "metadata": {
    "ExecuteTime": {
     "end_time": "2020-10-04T20:59:08.688453Z",
     "start_time": "2020-10-04T20:59:08.641Z"
    }
   },
   "outputs": [],
   "source": [
    "# either open the resulting html on the current directory on Jupyter (Execute cp command) or on your host machine \n",
    "cmd=sprintf(\"cp %s/multiqc/multiqc_report.html %s\",outpath,getwd())\n",
    "cat(system(cmd, intern=TRUE))"
   ]
  },
  {
   "cell_type": "code",
   "execution_count": 35,
   "metadata": {
    "ExecuteTime": {
     "end_time": "2020-10-04T21:23:54.302738Z",
     "start_time": "2020-10-04T21:23:54.237Z"
    }
   },
   "outputs": [
    {
     "name": "stdout",
     "output_type": "stream",
     "text": [
      "PASS\tBasic Statistics\tEKOC3astro3_S38_L004_R1_001.fastq.gz\n",
      "PASS\tPer base sequence quality\tEKOC3astro3_S38_L004_R1_001.fastq.gz\n",
      "WARN\tPer tile sequence quality\tEKOC3astro3_S38_L004_R1_001.fastq.gz\n",
      "PASS\tPer sequence quality scores\tEKOC3astro3_S38_L004_R1_001.fastq.gz\n",
      "FAIL\tPer base sequence content\tEKOC3astro3_S38_L004_R1_001.fastq.gz\n",
      "PASS\tPer sequence GC content\tEKOC3astro3_S38_L004_R1_001.fastq.gz\n",
      "PASS\tPer base N content\tEKOC3astro3_S38_L004_R1_001.fastq.gz\n",
      "WARN\tSequence Length Distribution\tEKOC3astro3_S38_L004_R1_001.fastq.gz\n",
      "WARN\tSequence Duplication Levels\tEKOC3astro3_S38_L004_R1_001.fastq.gz\n",
      "PASS\tOverrepresented sequences\tEKOC3astro3_S38_L004_R1_001.fastq.gz\n",
      "PASS\tAdapter Content\tEKOC3astro3_S38_L004_R1_001.fastq.gz\n"
     ]
    }
   ],
   "source": [
    "# to quickly inspect some samples you can have a look at the summary.txt file\n",
    "cmd=sprintf(\"cat %s/EKOC3astro3_S38_L004_R1_001_fastqc/summary.txt\", outpath)\n",
    "cat(system(cmd, intern=TRUE),sep='\\n')"
   ]
  }
 ],
 "metadata": {
  "kernelspec": {
   "display_name": "R",
   "language": "R",
   "name": "ir"
  },
  "language_info": {
   "codemirror_mode": "r",
   "file_extension": ".r",
   "mimetype": "text/x-r-source",
   "name": "R",
   "pygments_lexer": "r",
   "version": "4.0.3"
  },
  "toc": {
   "base_numbering": 1,
   "nav_menu": {},
   "number_sections": true,
   "sideBar": true,
   "skip_h1_title": false,
   "title_cell": "Table of Contents",
   "title_sidebar": "Contents",
   "toc_cell": false,
   "toc_position": {},
   "toc_section_display": true,
   "toc_window_display": false
  }
 },
 "nbformat": 4,
 "nbformat_minor": 4
}
