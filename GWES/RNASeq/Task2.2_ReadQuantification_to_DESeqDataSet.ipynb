{
 "cells": [
  {
   "cell_type": "markdown",
   "metadata": {},
   "source": [
    "# Read counts from STAR to count table and DEseq2 object. Normalization and Log transformation to plot some QC\n",
    "\n",
    "In this notebook the alignment results is condensed to a single dataframe and DESeq2::DESeqDataSet object. \n",
    "\n",
    "To run this notebook you need the ReadsPerGene.out.tab files generated on previous task Alignment."
   ]
  },
  {
   "cell_type": "markdown",
   "metadata": {
    "ExecuteTime": {
     "end_time": "2018-12-18T12:13:03.923304Z",
     "start_time": "2018-12-18T12:12:55.925Z"
    }
   },
   "source": [
    "## Read counts from STAR. Convert individual files to a table\n",
    "\n",
    "ReadsPerGene.out.tab file with 4 columns which correspond to different strandedness options:\n",
    "\n",
    "column 1: gene ID\n",
    "\n",
    "column 2: counts for unstranded RNA-seq\n",
    "\n",
    "column 3: counts for the 1st read strand aligned with RNA (equivalent to htseq-count option -s yes)\n",
    "\n",
    "column 4: counts for the 2nd read strand aligned with RNA (equivalent to htseq-count option -s reverse)"
   ]
  },
  {
   "cell_type": "code",
   "execution_count": 24,
   "metadata": {
    "ExecuteTime": {
     "end_time": "2020-10-24T11:11:26.249134Z",
     "start_time": "2020-10-24T11:11:26.191Z"
    }
   },
   "outputs": [],
   "source": [
    "# set the path where to look for STAR output files\n",
    "path=\"/mnt/data/GWES/output/RNASeq/ASTRO_DUMMY/STAR\"\n",
    "input_path=\"/mnt/data/GWES/input/RNASeq/ASTRO_DUMMY/\""
   ]
  },
  {
   "cell_type": "code",
   "execution_count": 5,
   "metadata": {
    "ExecuteTime": {
     "end_time": "2020-10-24T10:42:26.994180Z",
     "start_time": "2020-10-24T10:42:26.914Z"
    }
   },
   "outputs": [
    {
     "data": {
      "text/html": [
       "14"
      ],
      "text/latex": [
       "14"
      ],
      "text/markdown": [
       "14"
      ],
      "text/plain": [
       "[1] 14"
      ]
     },
     "metadata": {},
     "output_type": "display_data"
    }
   ],
   "source": [
    "tabfiles <- list.files(path=path, # folder with log files\n",
    "                           pattern=\".ReadsPerGene.out.tab$\",\n",
    "                           recursive = TRUE,\n",
    "                           full.names = TRUE)\n",
    "length(tabfiles)"
   ]
  },
  {
   "cell_type": "code",
   "execution_count": 6,
   "metadata": {
    "ExecuteTime": {
     "end_time": "2020-10-24T10:42:30.100520Z",
     "start_time": "2020-10-24T10:42:30.034Z"
    }
   },
   "outputs": [
    {
     "data": {
      "text/html": [
       "<style>\n",
       ".list-inline {list-style: none; margin:0; padding: 0}\n",
       ".list-inline>li {display: inline-block}\n",
       ".list-inline>li:not(:last-child)::after {content: \"\\00b7\"; padding: 0 .5ex}\n",
       "</style>\n",
       "<ol class=list-inline><li>'/mnt/data/GeneExpression/output/RNASeq/S10/S10ReadsPerGene.out.tab'</li><li>'/mnt/data/GeneExpression/output/RNASeq/S27/S27ReadsPerGene.out.tab'</li><li>'/mnt/data/GeneExpression/output/RNASeq/S28/S28ReadsPerGene.out.tab'</li><li>'/mnt/data/GeneExpression/output/RNASeq/S29/S29ReadsPerGene.out.tab'</li><li>'/mnt/data/GeneExpression/output/RNASeq/S30/S30ReadsPerGene.out.tab'</li><li>'/mnt/data/GeneExpression/output/RNASeq/S31/S31ReadsPerGene.out.tab'</li><li>'/mnt/data/GeneExpression/output/RNASeq/S32/S32ReadsPerGene.out.tab'</li><li>'/mnt/data/GeneExpression/output/RNASeq/S33/S33ReadsPerGene.out.tab'</li><li>'/mnt/data/GeneExpression/output/RNASeq/S35/S35ReadsPerGene.out.tab'</li><li>'/mnt/data/GeneExpression/output/RNASeq/S36/S36ReadsPerGene.out.tab'</li><li>'/mnt/data/GeneExpression/output/RNASeq/S37/S37ReadsPerGene.out.tab'</li><li>'/mnt/data/GeneExpression/output/RNASeq/S38/S38ReadsPerGene.out.tab'</li><li>'/mnt/data/GeneExpression/output/RNASeq/S39/S39ReadsPerGene.out.tab'</li><li>'/mnt/data/GeneExpression/output/RNASeq/S40/S40ReadsPerGene.out.tab'</li></ol>\n"
      ],
      "text/latex": [
       "\\begin{enumerate*}\n",
       "\\item '/mnt/data/GeneExpression/output/RNASeq/S10/S10ReadsPerGene.out.tab'\n",
       "\\item '/mnt/data/GeneExpression/output/RNASeq/S27/S27ReadsPerGene.out.tab'\n",
       "\\item '/mnt/data/GeneExpression/output/RNASeq/S28/S28ReadsPerGene.out.tab'\n",
       "\\item '/mnt/data/GeneExpression/output/RNASeq/S29/S29ReadsPerGene.out.tab'\n",
       "\\item '/mnt/data/GeneExpression/output/RNASeq/S30/S30ReadsPerGene.out.tab'\n",
       "\\item '/mnt/data/GeneExpression/output/RNASeq/S31/S31ReadsPerGene.out.tab'\n",
       "\\item '/mnt/data/GeneExpression/output/RNASeq/S32/S32ReadsPerGene.out.tab'\n",
       "\\item '/mnt/data/GeneExpression/output/RNASeq/S33/S33ReadsPerGene.out.tab'\n",
       "\\item '/mnt/data/GeneExpression/output/RNASeq/S35/S35ReadsPerGene.out.tab'\n",
       "\\item '/mnt/data/GeneExpression/output/RNASeq/S36/S36ReadsPerGene.out.tab'\n",
       "\\item '/mnt/data/GeneExpression/output/RNASeq/S37/S37ReadsPerGene.out.tab'\n",
       "\\item '/mnt/data/GeneExpression/output/RNASeq/S38/S38ReadsPerGene.out.tab'\n",
       "\\item '/mnt/data/GeneExpression/output/RNASeq/S39/S39ReadsPerGene.out.tab'\n",
       "\\item '/mnt/data/GeneExpression/output/RNASeq/S40/S40ReadsPerGene.out.tab'\n",
       "\\end{enumerate*}\n"
      ],
      "text/markdown": [
       "1. '/mnt/data/GeneExpression/output/RNASeq/S10/S10ReadsPerGene.out.tab'\n",
       "2. '/mnt/data/GeneExpression/output/RNASeq/S27/S27ReadsPerGene.out.tab'\n",
       "3. '/mnt/data/GeneExpression/output/RNASeq/S28/S28ReadsPerGene.out.tab'\n",
       "4. '/mnt/data/GeneExpression/output/RNASeq/S29/S29ReadsPerGene.out.tab'\n",
       "5. '/mnt/data/GeneExpression/output/RNASeq/S30/S30ReadsPerGene.out.tab'\n",
       "6. '/mnt/data/GeneExpression/output/RNASeq/S31/S31ReadsPerGene.out.tab'\n",
       "7. '/mnt/data/GeneExpression/output/RNASeq/S32/S32ReadsPerGene.out.tab'\n",
       "8. '/mnt/data/GeneExpression/output/RNASeq/S33/S33ReadsPerGene.out.tab'\n",
       "9. '/mnt/data/GeneExpression/output/RNASeq/S35/S35ReadsPerGene.out.tab'\n",
       "10. '/mnt/data/GeneExpression/output/RNASeq/S36/S36ReadsPerGene.out.tab'\n",
       "11. '/mnt/data/GeneExpression/output/RNASeq/S37/S37ReadsPerGene.out.tab'\n",
       "12. '/mnt/data/GeneExpression/output/RNASeq/S38/S38ReadsPerGene.out.tab'\n",
       "13. '/mnt/data/GeneExpression/output/RNASeq/S39/S39ReadsPerGene.out.tab'\n",
       "14. '/mnt/data/GeneExpression/output/RNASeq/S40/S40ReadsPerGene.out.tab'\n",
       "\n",
       "\n"
      ],
      "text/plain": [
       " [1] \"/mnt/data/GeneExpression/output/RNASeq/S10/S10ReadsPerGene.out.tab\"\n",
       " [2] \"/mnt/data/GeneExpression/output/RNASeq/S27/S27ReadsPerGene.out.tab\"\n",
       " [3] \"/mnt/data/GeneExpression/output/RNASeq/S28/S28ReadsPerGene.out.tab\"\n",
       " [4] \"/mnt/data/GeneExpression/output/RNASeq/S29/S29ReadsPerGene.out.tab\"\n",
       " [5] \"/mnt/data/GeneExpression/output/RNASeq/S30/S30ReadsPerGene.out.tab\"\n",
       " [6] \"/mnt/data/GeneExpression/output/RNASeq/S31/S31ReadsPerGene.out.tab\"\n",
       " [7] \"/mnt/data/GeneExpression/output/RNASeq/S32/S32ReadsPerGene.out.tab\"\n",
       " [8] \"/mnt/data/GeneExpression/output/RNASeq/S33/S33ReadsPerGene.out.tab\"\n",
       " [9] \"/mnt/data/GeneExpression/output/RNASeq/S35/S35ReadsPerGene.out.tab\"\n",
       "[10] \"/mnt/data/GeneExpression/output/RNASeq/S36/S36ReadsPerGene.out.tab\"\n",
       "[11] \"/mnt/data/GeneExpression/output/RNASeq/S37/S37ReadsPerGene.out.tab\"\n",
       "[12] \"/mnt/data/GeneExpression/output/RNASeq/S38/S38ReadsPerGene.out.tab\"\n",
       "[13] \"/mnt/data/GeneExpression/output/RNASeq/S39/S39ReadsPerGene.out.tab\"\n",
       "[14] \"/mnt/data/GeneExpression/output/RNASeq/S40/S40ReadsPerGene.out.tab\""
      ]
     },
     "metadata": {},
     "output_type": "display_data"
    }
   ],
   "source": [
    "tabfiles"
   ]
  },
  {
   "cell_type": "code",
   "execution_count": 9,
   "metadata": {
    "ExecuteTime": {
     "end_time": "2020-10-24T10:43:00.042463Z",
     "start_time": "2020-10-24T10:42:59.984Z"
    }
   },
   "outputs": [
    {
     "data": {
      "text/html": [
       "<style>\n",
       ".list-inline {list-style: none; margin:0; padding: 0}\n",
       ".list-inline>li {display: inline-block}\n",
       ".list-inline>li:not(:last-child)::after {content: \"\\00b7\"; padding: 0 .5ex}\n",
       "</style>\n",
       "<ol class=list-inline><li>'S10'</li><li>'S27'</li><li>'S28'</li><li>'S29'</li><li>'S30'</li><li>'S31'</li><li>'S32'</li><li>'S33'</li><li>'S35'</li><li>'S36'</li><li>'S37'</li><li>'S38'</li><li>'S39'</li><li>'S40'</li></ol>\n"
      ],
      "text/latex": [
       "\\begin{enumerate*}\n",
       "\\item 'S10'\n",
       "\\item 'S27'\n",
       "\\item 'S28'\n",
       "\\item 'S29'\n",
       "\\item 'S30'\n",
       "\\item 'S31'\n",
       "\\item 'S32'\n",
       "\\item 'S33'\n",
       "\\item 'S35'\n",
       "\\item 'S36'\n",
       "\\item 'S37'\n",
       "\\item 'S38'\n",
       "\\item 'S39'\n",
       "\\item 'S40'\n",
       "\\end{enumerate*}\n"
      ],
      "text/markdown": [
       "1. 'S10'\n",
       "2. 'S27'\n",
       "3. 'S28'\n",
       "4. 'S29'\n",
       "5. 'S30'\n",
       "6. 'S31'\n",
       "7. 'S32'\n",
       "8. 'S33'\n",
       "9. 'S35'\n",
       "10. 'S36'\n",
       "11. 'S37'\n",
       "12. 'S38'\n",
       "13. 'S39'\n",
       "14. 'S40'\n",
       "\n",
       "\n"
      ],
      "text/plain": [
       " [1] \"S10\" \"S27\" \"S28\" \"S29\" \"S30\" \"S31\" \"S32\" \"S33\" \"S35\" \"S36\" \"S37\" \"S38\"\n",
       "[13] \"S39\" \"S40\""
      ]
     },
     "metadata": {},
     "output_type": "display_data"
    }
   ],
   "source": [
    "samplenames=sapply(strsplit(tabfiles,\"/\"), `[`, 7)\n",
    "samplenames"
   ]
  },
  {
   "cell_type": "code",
   "execution_count": 17,
   "metadata": {
    "ExecuteTime": {
     "end_time": "2020-10-24T10:57:05.076841Z",
     "start_time": "2020-10-24T10:57:04.359Z"
    }
   },
   "outputs": [],
   "source": [
    "counts.files <- lapply( tabfiles, read.table, skip = 4 ) # do not read first 4 lines\n",
    "# column V2 has the counts for unstranded RNA-seq\n",
    "counts <- as.data.frame( sapply( counts.files, function(x) x[ , 2 ] ) ) \n",
    "# used column V3 for stranded reads"
   ]
  },
  {
   "cell_type": "code",
   "execution_count": 18,
   "metadata": {
    "ExecuteTime": {
     "end_time": "2020-10-24T10:57:11.886662Z",
     "start_time": "2020-10-24T10:57:11.755Z"
    },
    "scrolled": true
   },
   "outputs": [
    {
     "name": "stdout",
     "output_type": "stream",
     "text": [
      "List of 14\n",
      " $ :'data.frame':\t58735 obs. of  4 variables:\n",
      "  ..$ V1: chr [1:58735] \"ENSG00000223972\" \"ENSG00000227232\" \"ENSG00000278267\" \"ENSG00000243485\" ...\n",
      "  ..$ V2: int [1:58735] 0 1 0 0 0 0 0 0 0 0 ...\n",
      "  ..$ V3: int [1:58735] 0 0 0 0 0 0 0 0 0 0 ...\n",
      "  ..$ V4: int [1:58735] 0 1 0 0 0 0 0 0 0 1 ...\n",
      " $ :'data.frame':\t58735 obs. of  4 variables:\n",
      "  ..$ V1: chr [1:58735] \"ENSG00000223972\" \"ENSG00000227232\" \"ENSG00000278267\" \"ENSG00000243485\" ...\n",
      "  ..$ V2: int [1:58735] 0 0 0 0 0 0 0 0 0 0 ...\n",
      "  ..$ V3: int [1:58735] 0 0 0 0 0 0 0 0 0 0 ...\n",
      "  ..$ V4: int [1:58735] 0 0 0 0 0 0 0 0 0 0 ...\n",
      " $ :'data.frame':\t58735 obs. of  4 variables:\n",
      "  ..$ V1: chr [1:58735] \"ENSG00000223972\" \"ENSG00000227232\" \"ENSG00000278267\" \"ENSG00000243485\" ...\n",
      "  ..$ V2: int [1:58735] 0 0 0 0 0 0 0 0 0 0 ...\n",
      "  ..$ V3: int [1:58735] 0 0 0 0 0 0 0 0 0 0 ...\n",
      "  ..$ V4: int [1:58735] 0 0 0 0 0 0 0 0 0 0 ...\n",
      " $ :'data.frame':\t58735 obs. of  4 variables:\n",
      "  ..$ V1: chr [1:58735] \"ENSG00000223972\" \"ENSG00000227232\" \"ENSG00000278267\" \"ENSG00000243485\" ...\n",
      "  ..$ V2: int [1:58735] 0 1 0 0 0 0 0 0 0 0 ...\n",
      "  ..$ V3: int [1:58735] 0 0 0 0 0 0 0 0 0 0 ...\n",
      "  ..$ V4: int [1:58735] 0 1 0 0 0 0 0 0 0 0 ...\n",
      " $ :'data.frame':\t58735 obs. of  4 variables:\n",
      "  ..$ V1: chr [1:58735] \"ENSG00000223972\" \"ENSG00000227232\" \"ENSG00000278267\" \"ENSG00000243485\" ...\n",
      "  ..$ V2: int [1:58735] 0 0 0 0 0 0 0 0 0 0 ...\n",
      "  ..$ V3: int [1:58735] 0 0 0 0 0 0 0 0 0 0 ...\n",
      "  ..$ V4: int [1:58735] 0 0 0 0 0 0 0 0 0 0 ...\n",
      " $ :'data.frame':\t58735 obs. of  4 variables:\n",
      "  ..$ V1: chr [1:58735] \"ENSG00000223972\" \"ENSG00000227232\" \"ENSG00000278267\" \"ENSG00000243485\" ...\n",
      "  ..$ V2: int [1:58735] 0 0 0 0 0 0 0 0 0 0 ...\n",
      "  ..$ V3: int [1:58735] 0 0 0 0 0 0 0 0 0 0 ...\n",
      "  ..$ V4: int [1:58735] 0 0 0 0 0 0 0 0 0 0 ...\n",
      " $ :'data.frame':\t58735 obs. of  4 variables:\n",
      "  ..$ V1: chr [1:58735] \"ENSG00000223972\" \"ENSG00000227232\" \"ENSG00000278267\" \"ENSG00000243485\" ...\n",
      "  ..$ V2: int [1:58735] 0 0 0 0 0 0 0 0 0 0 ...\n",
      "  ..$ V3: int [1:58735] 0 0 0 0 0 0 0 0 0 0 ...\n",
      "  ..$ V4: int [1:58735] 0 0 0 0 0 0 0 0 0 0 ...\n",
      " $ :'data.frame':\t58735 obs. of  4 variables:\n",
      "  ..$ V1: chr [1:58735] \"ENSG00000223972\" \"ENSG00000227232\" \"ENSG00000278267\" \"ENSG00000243485\" ...\n",
      "  ..$ V2: int [1:58735] 0 0 0 0 0 0 0 0 0 0 ...\n",
      "  ..$ V3: int [1:58735] 0 0 0 0 0 0 0 0 0 0 ...\n",
      "  ..$ V4: int [1:58735] 0 0 0 0 0 0 0 0 0 0 ...\n",
      " $ :'data.frame':\t58735 obs. of  4 variables:\n",
      "  ..$ V1: chr [1:58735] \"ENSG00000223972\" \"ENSG00000227232\" \"ENSG00000278267\" \"ENSG00000243485\" ...\n",
      "  ..$ V2: int [1:58735] 0 0 0 0 0 0 0 0 0 0 ...\n",
      "  ..$ V3: int [1:58735] 0 0 0 0 0 0 0 0 0 0 ...\n",
      "  ..$ V4: int [1:58735] 0 0 0 0 0 0 0 0 0 0 ...\n",
      " $ :'data.frame':\t58735 obs. of  4 variables:\n",
      "  ..$ V1: chr [1:58735] \"ENSG00000223972\" \"ENSG00000227232\" \"ENSG00000278267\" \"ENSG00000243485\" ...\n",
      "  ..$ V2: int [1:58735] 0 1 0 0 0 0 0 0 0 0 ...\n",
      "  ..$ V3: int [1:58735] 0 0 0 0 0 0 0 0 0 0 ...\n",
      "  ..$ V4: int [1:58735] 0 1 0 0 0 0 0 0 0 0 ...\n",
      " $ :'data.frame':\t58735 obs. of  4 variables:\n",
      "  ..$ V1: chr [1:58735] \"ENSG00000223972\" \"ENSG00000227232\" \"ENSG00000278267\" \"ENSG00000243485\" ...\n",
      "  ..$ V2: int [1:58735] 0 0 0 0 0 0 0 0 0 0 ...\n",
      "  ..$ V3: int [1:58735] 0 0 0 0 0 0 0 0 0 0 ...\n",
      "  ..$ V4: int [1:58735] 0 0 0 0 0 0 0 0 0 0 ...\n",
      " $ :'data.frame':\t58735 obs. of  4 variables:\n",
      "  ..$ V1: chr [1:58735] \"ENSG00000223972\" \"ENSG00000227232\" \"ENSG00000278267\" \"ENSG00000243485\" ...\n",
      "  ..$ V2: int [1:58735] 0 0 0 0 0 0 0 0 0 0 ...\n",
      "  ..$ V3: int [1:58735] 0 0 0 0 0 0 0 0 0 0 ...\n",
      "  ..$ V4: int [1:58735] 0 0 0 0 0 0 0 0 0 0 ...\n",
      " $ :'data.frame':\t58735 obs. of  4 variables:\n",
      "  ..$ V1: chr [1:58735] \"ENSG00000223972\" \"ENSG00000227232\" \"ENSG00000278267\" \"ENSG00000243485\" ...\n",
      "  ..$ V2: int [1:58735] 0 0 0 0 0 0 0 0 0 1 ...\n",
      "  ..$ V3: int [1:58735] 0 0 0 0 0 0 0 0 0 0 ...\n",
      "  ..$ V4: int [1:58735] 0 0 0 0 0 0 0 0 0 1 ...\n",
      " $ :'data.frame':\t58735 obs. of  4 variables:\n",
      "  ..$ V1: chr [1:58735] \"ENSG00000223972\" \"ENSG00000227232\" \"ENSG00000278267\" \"ENSG00000243485\" ...\n",
      "  ..$ V2: int [1:58735] 0 0 0 0 0 0 0 0 0 0 ...\n",
      "  ..$ V3: int [1:58735] 0 0 0 0 0 0 0 0 0 0 ...\n",
      "  ..$ V4: int [1:58735] 0 0 0 0 0 0 0 0 0 0 ...\n"
     ]
    }
   ],
   "source": [
    "str(counts.files)"
   ]
  },
  {
   "cell_type": "code",
   "execution_count": 19,
   "metadata": {
    "ExecuteTime": {
     "end_time": "2020-10-24T10:57:18.372366Z",
     "start_time": "2020-10-24T10:57:18.302Z"
    }
   },
   "outputs": [
    {
     "data": {
      "text/html": [
       "<table>\n",
       "<caption>A data.frame: 3 x 14</caption>\n",
       "<thead>\n",
       "\t<tr><th></th><th scope=col>V1</th><th scope=col>V2</th><th scope=col>V3</th><th scope=col>V4</th><th scope=col>V5</th><th scope=col>V6</th><th scope=col>V7</th><th scope=col>V8</th><th scope=col>V9</th><th scope=col>V10</th><th scope=col>V11</th><th scope=col>V12</th><th scope=col>V13</th><th scope=col>V14</th></tr>\n",
       "\t<tr><th></th><th scope=col>&lt;int&gt;</th><th scope=col>&lt;int&gt;</th><th scope=col>&lt;int&gt;</th><th scope=col>&lt;int&gt;</th><th scope=col>&lt;int&gt;</th><th scope=col>&lt;int&gt;</th><th scope=col>&lt;int&gt;</th><th scope=col>&lt;int&gt;</th><th scope=col>&lt;int&gt;</th><th scope=col>&lt;int&gt;</th><th scope=col>&lt;int&gt;</th><th scope=col>&lt;int&gt;</th><th scope=col>&lt;int&gt;</th><th scope=col>&lt;int&gt;</th></tr>\n",
       "</thead>\n",
       "<tbody>\n",
       "\t<tr><th scope=row>1</th><td>0</td><td>0</td><td>0</td><td>0</td><td>0</td><td>0</td><td>0</td><td>0</td><td>0</td><td>0</td><td>0</td><td>0</td><td>0</td><td>0</td></tr>\n",
       "\t<tr><th scope=row>2</th><td>1</td><td>0</td><td>0</td><td>1</td><td>0</td><td>0</td><td>0</td><td>0</td><td>0</td><td>1</td><td>0</td><td>0</td><td>0</td><td>0</td></tr>\n",
       "\t<tr><th scope=row>3</th><td>0</td><td>0</td><td>0</td><td>0</td><td>0</td><td>0</td><td>0</td><td>0</td><td>0</td><td>0</td><td>0</td><td>0</td><td>0</td><td>0</td></tr>\n",
       "</tbody>\n",
       "</table>\n"
      ],
      "text/latex": [
       "A data.frame: 3 x 14\n",
       "\\begin{tabular}{r|llllllllllllll}\n",
       "  & V1 & V2 & V3 & V4 & V5 & V6 & V7 & V8 & V9 & V10 & V11 & V12 & V13 & V14\\\\\n",
       "  & <int> & <int> & <int> & <int> & <int> & <int> & <int> & <int> & <int> & <int> & <int> & <int> & <int> & <int>\\\\\n",
       "\\hline\n",
       "\t1 & 0 & 0 & 0 & 0 & 0 & 0 & 0 & 0 & 0 & 0 & 0 & 0 & 0 & 0\\\\\n",
       "\t2 & 1 & 0 & 0 & 1 & 0 & 0 & 0 & 0 & 0 & 1 & 0 & 0 & 0 & 0\\\\\n",
       "\t3 & 0 & 0 & 0 & 0 & 0 & 0 & 0 & 0 & 0 & 0 & 0 & 0 & 0 & 0\\\\\n",
       "\\end{tabular}\n"
      ],
      "text/markdown": [
       "\n",
       "A data.frame: 3 x 14\n",
       "\n",
       "| <!--/--> | V1 &lt;int&gt; | V2 &lt;int&gt; | V3 &lt;int&gt; | V4 &lt;int&gt; | V5 &lt;int&gt; | V6 &lt;int&gt; | V7 &lt;int&gt; | V8 &lt;int&gt; | V9 &lt;int&gt; | V10 &lt;int&gt; | V11 &lt;int&gt; | V12 &lt;int&gt; | V13 &lt;int&gt; | V14 &lt;int&gt; |\n",
       "|---|---|---|---|---|---|---|---|---|---|---|---|---|---|---|\n",
       "| 1 | 0 | 0 | 0 | 0 | 0 | 0 | 0 | 0 | 0 | 0 | 0 | 0 | 0 | 0 |\n",
       "| 2 | 1 | 0 | 0 | 1 | 0 | 0 | 0 | 0 | 0 | 1 | 0 | 0 | 0 | 0 |\n",
       "| 3 | 0 | 0 | 0 | 0 | 0 | 0 | 0 | 0 | 0 | 0 | 0 | 0 | 0 | 0 |\n",
       "\n"
      ],
      "text/plain": [
       "  V1 V2 V3 V4 V5 V6 V7 V8 V9 V10 V11 V12 V13 V14\n",
       "1 0  0  0  0  0  0  0  0  0  0   0   0   0   0  \n",
       "2 1  0  0  1  0  0  0  0  0  1   0   0   0   0  \n",
       "3 0  0  0  0  0  0  0  0  0  0   0   0   0   0  "
      ]
     },
     "metadata": {},
     "output_type": "display_data"
    }
   ],
   "source": [
    "head(counts,n=3)"
   ]
  },
  {
   "cell_type": "code",
   "execution_count": 20,
   "metadata": {
    "ExecuteTime": {
     "end_time": "2020-10-24T10:57:20.400331Z",
     "start_time": "2020-10-24T10:57:20.333Z"
    }
   },
   "outputs": [],
   "source": [
    "# extract the sample name from the ReadsPerGene.out.tab file or path.\n",
    "colnames(counts) <- samplenames\n",
    "# make gene Id the rownames. geneID is the first column in the log file\n",
    "row.names(counts) <- counts.files[[1]]$V1"
   ]
  },
  {
   "cell_type": "code",
   "execution_count": 21,
   "metadata": {
    "ExecuteTime": {
     "end_time": "2020-10-24T10:57:21.965887Z",
     "start_time": "2020-10-24T10:57:21.927Z"
    }
   },
   "outputs": [
    {
     "data": {
      "text/html": [
       "<style>\n",
       ".list-inline {list-style: none; margin:0; padding: 0}\n",
       ".list-inline>li {display: inline-block}\n",
       ".list-inline>li:not(:last-child)::after {content: \"\\00b7\"; padding: 0 .5ex}\n",
       "</style>\n",
       "<ol class=list-inline><li>58735</li><li>14</li></ol>\n"
      ],
      "text/latex": [
       "\\begin{enumerate*}\n",
       "\\item 58735\n",
       "\\item 14\n",
       "\\end{enumerate*}\n"
      ],
      "text/markdown": [
       "1. 58735\n",
       "2. 14\n",
       "\n",
       "\n"
      ],
      "text/plain": [
       "[1] 58735    14"
      ]
     },
     "metadata": {},
     "output_type": "display_data"
    },
    {
     "data": {
      "text/html": [
       "<table>\n",
       "<caption>A data.frame: 6 x 14</caption>\n",
       "<thead>\n",
       "\t<tr><th></th><th scope=col>S10</th><th scope=col>S27</th><th scope=col>S28</th><th scope=col>S29</th><th scope=col>S30</th><th scope=col>S31</th><th scope=col>S32</th><th scope=col>S33</th><th scope=col>S35</th><th scope=col>S36</th><th scope=col>S37</th><th scope=col>S38</th><th scope=col>S39</th><th scope=col>S40</th></tr>\n",
       "\t<tr><th></th><th scope=col>&lt;int&gt;</th><th scope=col>&lt;int&gt;</th><th scope=col>&lt;int&gt;</th><th scope=col>&lt;int&gt;</th><th scope=col>&lt;int&gt;</th><th scope=col>&lt;int&gt;</th><th scope=col>&lt;int&gt;</th><th scope=col>&lt;int&gt;</th><th scope=col>&lt;int&gt;</th><th scope=col>&lt;int&gt;</th><th scope=col>&lt;int&gt;</th><th scope=col>&lt;int&gt;</th><th scope=col>&lt;int&gt;</th><th scope=col>&lt;int&gt;</th></tr>\n",
       "</thead>\n",
       "<tbody>\n",
       "\t<tr><th scope=row>ENSG00000223972</th><td>0</td><td>0</td><td>0</td><td>0</td><td>0</td><td>0</td><td>0</td><td>0</td><td>0</td><td>0</td><td>0</td><td>0</td><td>0</td><td>0</td></tr>\n",
       "\t<tr><th scope=row>ENSG00000227232</th><td>1</td><td>0</td><td>0</td><td>1</td><td>0</td><td>0</td><td>0</td><td>0</td><td>0</td><td>1</td><td>0</td><td>0</td><td>0</td><td>0</td></tr>\n",
       "\t<tr><th scope=row>ENSG00000278267</th><td>0</td><td>0</td><td>0</td><td>0</td><td>0</td><td>0</td><td>0</td><td>0</td><td>0</td><td>0</td><td>0</td><td>0</td><td>0</td><td>0</td></tr>\n",
       "\t<tr><th scope=row>ENSG00000243485</th><td>0</td><td>0</td><td>0</td><td>0</td><td>0</td><td>0</td><td>0</td><td>0</td><td>0</td><td>0</td><td>0</td><td>0</td><td>0</td><td>0</td></tr>\n",
       "\t<tr><th scope=row>ENSG00000284332</th><td>0</td><td>0</td><td>0</td><td>0</td><td>0</td><td>0</td><td>0</td><td>0</td><td>0</td><td>0</td><td>0</td><td>0</td><td>0</td><td>0</td></tr>\n",
       "\t<tr><th scope=row>ENSG00000237613</th><td>0</td><td>0</td><td>0</td><td>0</td><td>0</td><td>0</td><td>0</td><td>0</td><td>0</td><td>0</td><td>0</td><td>0</td><td>0</td><td>0</td></tr>\n",
       "</tbody>\n",
       "</table>\n"
      ],
      "text/latex": [
       "A data.frame: 6 x 14\n",
       "\\begin{tabular}{r|llllllllllllll}\n",
       "  & S10 & S27 & S28 & S29 & S30 & S31 & S32 & S33 & S35 & S36 & S37 & S38 & S39 & S40\\\\\n",
       "  & <int> & <int> & <int> & <int> & <int> & <int> & <int> & <int> & <int> & <int> & <int> & <int> & <int> & <int>\\\\\n",
       "\\hline\n",
       "\tENSG00000223972 & 0 & 0 & 0 & 0 & 0 & 0 & 0 & 0 & 0 & 0 & 0 & 0 & 0 & 0\\\\\n",
       "\tENSG00000227232 & 1 & 0 & 0 & 1 & 0 & 0 & 0 & 0 & 0 & 1 & 0 & 0 & 0 & 0\\\\\n",
       "\tENSG00000278267 & 0 & 0 & 0 & 0 & 0 & 0 & 0 & 0 & 0 & 0 & 0 & 0 & 0 & 0\\\\\n",
       "\tENSG00000243485 & 0 & 0 & 0 & 0 & 0 & 0 & 0 & 0 & 0 & 0 & 0 & 0 & 0 & 0\\\\\n",
       "\tENSG00000284332 & 0 & 0 & 0 & 0 & 0 & 0 & 0 & 0 & 0 & 0 & 0 & 0 & 0 & 0\\\\\n",
       "\tENSG00000237613 & 0 & 0 & 0 & 0 & 0 & 0 & 0 & 0 & 0 & 0 & 0 & 0 & 0 & 0\\\\\n",
       "\\end{tabular}\n"
      ],
      "text/markdown": [
       "\n",
       "A data.frame: 6 x 14\n",
       "\n",
       "| <!--/--> | S10 &lt;int&gt; | S27 &lt;int&gt; | S28 &lt;int&gt; | S29 &lt;int&gt; | S30 &lt;int&gt; | S31 &lt;int&gt; | S32 &lt;int&gt; | S33 &lt;int&gt; | S35 &lt;int&gt; | S36 &lt;int&gt; | S37 &lt;int&gt; | S38 &lt;int&gt; | S39 &lt;int&gt; | S40 &lt;int&gt; |\n",
       "|---|---|---|---|---|---|---|---|---|---|---|---|---|---|---|\n",
       "| ENSG00000223972 | 0 | 0 | 0 | 0 | 0 | 0 | 0 | 0 | 0 | 0 | 0 | 0 | 0 | 0 |\n",
       "| ENSG00000227232 | 1 | 0 | 0 | 1 | 0 | 0 | 0 | 0 | 0 | 1 | 0 | 0 | 0 | 0 |\n",
       "| ENSG00000278267 | 0 | 0 | 0 | 0 | 0 | 0 | 0 | 0 | 0 | 0 | 0 | 0 | 0 | 0 |\n",
       "| ENSG00000243485 | 0 | 0 | 0 | 0 | 0 | 0 | 0 | 0 | 0 | 0 | 0 | 0 | 0 | 0 |\n",
       "| ENSG00000284332 | 0 | 0 | 0 | 0 | 0 | 0 | 0 | 0 | 0 | 0 | 0 | 0 | 0 | 0 |\n",
       "| ENSG00000237613 | 0 | 0 | 0 | 0 | 0 | 0 | 0 | 0 | 0 | 0 | 0 | 0 | 0 | 0 |\n",
       "\n"
      ],
      "text/plain": [
       "                S10 S27 S28 S29 S30 S31 S32 S33 S35 S36 S37 S38 S39 S40\n",
       "ENSG00000223972 0   0   0   0   0   0   0   0   0   0   0   0   0   0  \n",
       "ENSG00000227232 1   0   0   1   0   0   0   0   0   1   0   0   0   0  \n",
       "ENSG00000278267 0   0   0   0   0   0   0   0   0   0   0   0   0   0  \n",
       "ENSG00000243485 0   0   0   0   0   0   0   0   0   0   0   0   0   0  \n",
       "ENSG00000284332 0   0   0   0   0   0   0   0   0   0   0   0   0   0  \n",
       "ENSG00000237613 0   0   0   0   0   0   0   0   0   0   0   0   0   0  "
      ]
     },
     "metadata": {},
     "output_type": "display_data"
    }
   ],
   "source": [
    "dim(counts)\n",
    "head(counts)"
   ]
  },
  {
   "cell_type": "markdown",
   "metadata": {},
   "source": [
    "## Remove genes with 0 counts in all samples"
   ]
  },
  {
   "cell_type": "code",
   "execution_count": 22,
   "metadata": {
    "ExecuteTime": {
     "end_time": "2020-10-24T10:57:37.428442Z",
     "start_time": "2020-10-24T10:57:37.327Z"
    }
   },
   "outputs": [
    {
     "data": {
      "text/html": [
       "<style>\n",
       ".list-inline {list-style: none; margin:0; padding: 0}\n",
       ".list-inline>li {display: inline-block}\n",
       ".list-inline>li:not(:last-child)::after {content: \"\\00b7\"; padding: 0 .5ex}\n",
       "</style>\n",
       "<ol class=list-inline><li>33105</li><li>14</li></ol>\n"
      ],
      "text/latex": [
       "\\begin{enumerate*}\n",
       "\\item 33105\n",
       "\\item 14\n",
       "\\end{enumerate*}\n"
      ],
      "text/markdown": [
       "1. 33105\n",
       "2. 14\n",
       "\n",
       "\n"
      ],
      "text/plain": [
       "[1] 33105    14"
      ]
     },
     "metadata": {},
     "output_type": "display_data"
    },
    {
     "data": {
      "text/html": [
       "<table>\n",
       "<caption>A data.frame: 6 x 14</caption>\n",
       "<thead>\n",
       "\t<tr><th></th><th scope=col>S10</th><th scope=col>S27</th><th scope=col>S28</th><th scope=col>S29</th><th scope=col>S30</th><th scope=col>S31</th><th scope=col>S32</th><th scope=col>S33</th><th scope=col>S35</th><th scope=col>S36</th><th scope=col>S37</th><th scope=col>S38</th><th scope=col>S39</th><th scope=col>S40</th></tr>\n",
       "\t<tr><th></th><th scope=col>&lt;int&gt;</th><th scope=col>&lt;int&gt;</th><th scope=col>&lt;int&gt;</th><th scope=col>&lt;int&gt;</th><th scope=col>&lt;int&gt;</th><th scope=col>&lt;int&gt;</th><th scope=col>&lt;int&gt;</th><th scope=col>&lt;int&gt;</th><th scope=col>&lt;int&gt;</th><th scope=col>&lt;int&gt;</th><th scope=col>&lt;int&gt;</th><th scope=col>&lt;int&gt;</th><th scope=col>&lt;int&gt;</th><th scope=col>&lt;int&gt;</th></tr>\n",
       "</thead>\n",
       "<tbody>\n",
       "\t<tr><th scope=row>ENSG00000227232</th><td>1</td><td>0</td><td>0</td><td>1</td><td>0</td><td>0</td><td>0</td><td>0</td><td>0</td><td>1</td><td>0</td><td>0</td><td>0</td><td>0</td></tr>\n",
       "\t<tr><th scope=row>ENSG00000238009</th><td>0</td><td>0</td><td>0</td><td>0</td><td>0</td><td>0</td><td>0</td><td>0</td><td>0</td><td>0</td><td>0</td><td>0</td><td>1</td><td>0</td></tr>\n",
       "\t<tr><th scope=row>ENSG00000268903</th><td>0</td><td>2</td><td>0</td><td>3</td><td>1</td><td>1</td><td>1</td><td>2</td><td>0</td><td>3</td><td>0</td><td>1</td><td>2</td><td>0</td></tr>\n",
       "\t<tr><th scope=row>ENSG00000269981</th><td>0</td><td>0</td><td>1</td><td>2</td><td>1</td><td>1</td><td>0</td><td>0</td><td>1</td><td>0</td><td>0</td><td>0</td><td>0</td><td>0</td></tr>\n",
       "\t<tr><th scope=row>ENSG00000241860</th><td>0</td><td>0</td><td>2</td><td>0</td><td>1</td><td>0</td><td>0</td><td>0</td><td>0</td><td>0</td><td>0</td><td>0</td><td>0</td><td>2</td></tr>\n",
       "\t<tr><th scope=row>ENSG00000279457</th><td>1</td><td>2</td><td>1</td><td>2</td><td>4</td><td>3</td><td>1</td><td>1</td><td>4</td><td>1</td><td>2</td><td>5</td><td>0</td><td>2</td></tr>\n",
       "</tbody>\n",
       "</table>\n"
      ],
      "text/latex": [
       "A data.frame: 6 x 14\n",
       "\\begin{tabular}{r|llllllllllllll}\n",
       "  & S10 & S27 & S28 & S29 & S30 & S31 & S32 & S33 & S35 & S36 & S37 & S38 & S39 & S40\\\\\n",
       "  & <int> & <int> & <int> & <int> & <int> & <int> & <int> & <int> & <int> & <int> & <int> & <int> & <int> & <int>\\\\\n",
       "\\hline\n",
       "\tENSG00000227232 & 1 & 0 & 0 & 1 & 0 & 0 & 0 & 0 & 0 & 1 & 0 & 0 & 0 & 0\\\\\n",
       "\tENSG00000238009 & 0 & 0 & 0 & 0 & 0 & 0 & 0 & 0 & 0 & 0 & 0 & 0 & 1 & 0\\\\\n",
       "\tENSG00000268903 & 0 & 2 & 0 & 3 & 1 & 1 & 1 & 2 & 0 & 3 & 0 & 1 & 2 & 0\\\\\n",
       "\tENSG00000269981 & 0 & 0 & 1 & 2 & 1 & 1 & 0 & 0 & 1 & 0 & 0 & 0 & 0 & 0\\\\\n",
       "\tENSG00000241860 & 0 & 0 & 2 & 0 & 1 & 0 & 0 & 0 & 0 & 0 & 0 & 0 & 0 & 2\\\\\n",
       "\tENSG00000279457 & 1 & 2 & 1 & 2 & 4 & 3 & 1 & 1 & 4 & 1 & 2 & 5 & 0 & 2\\\\\n",
       "\\end{tabular}\n"
      ],
      "text/markdown": [
       "\n",
       "A data.frame: 6 x 14\n",
       "\n",
       "| <!--/--> | S10 &lt;int&gt; | S27 &lt;int&gt; | S28 &lt;int&gt; | S29 &lt;int&gt; | S30 &lt;int&gt; | S31 &lt;int&gt; | S32 &lt;int&gt; | S33 &lt;int&gt; | S35 &lt;int&gt; | S36 &lt;int&gt; | S37 &lt;int&gt; | S38 &lt;int&gt; | S39 &lt;int&gt; | S40 &lt;int&gt; |\n",
       "|---|---|---|---|---|---|---|---|---|---|---|---|---|---|---|\n",
       "| ENSG00000227232 | 1 | 0 | 0 | 1 | 0 | 0 | 0 | 0 | 0 | 1 | 0 | 0 | 0 | 0 |\n",
       "| ENSG00000238009 | 0 | 0 | 0 | 0 | 0 | 0 | 0 | 0 | 0 | 0 | 0 | 0 | 1 | 0 |\n",
       "| ENSG00000268903 | 0 | 2 | 0 | 3 | 1 | 1 | 1 | 2 | 0 | 3 | 0 | 1 | 2 | 0 |\n",
       "| ENSG00000269981 | 0 | 0 | 1 | 2 | 1 | 1 | 0 | 0 | 1 | 0 | 0 | 0 | 0 | 0 |\n",
       "| ENSG00000241860 | 0 | 0 | 2 | 0 | 1 | 0 | 0 | 0 | 0 | 0 | 0 | 0 | 0 | 2 |\n",
       "| ENSG00000279457 | 1 | 2 | 1 | 2 | 4 | 3 | 1 | 1 | 4 | 1 | 2 | 5 | 0 | 2 |\n",
       "\n"
      ],
      "text/plain": [
       "                S10 S27 S28 S29 S30 S31 S32 S33 S35 S36 S37 S38 S39 S40\n",
       "ENSG00000227232 1   0   0   1   0   0   0   0   0   1   0   0   0   0  \n",
       "ENSG00000238009 0   0   0   0   0   0   0   0   0   0   0   0   1   0  \n",
       "ENSG00000268903 0   2   0   3   1   1   1   2   0   3   0   1   2   0  \n",
       "ENSG00000269981 0   0   1   2   1   1   0   0   1   0   0   0   0   0  \n",
       "ENSG00000241860 0   0   2   0   1   0   0   0   0   0   0   0   0   2  \n",
       "ENSG00000279457 1   2   1   2   4   3   1   1   4   1   2   5   0   2  "
      ]
     },
     "metadata": {},
     "output_type": "display_data"
    }
   ],
   "source": [
    "# remove  genes  without  any  counts\n",
    "counts.filtered <- counts[ rowSums(counts) > 0, ]\n",
    "dim(counts.filtered)\n",
    "head(counts.filtered)"
   ]
  },
  {
   "cell_type": "code",
   "execution_count": 52,
   "metadata": {
    "ExecuteTime": {
     "end_time": "2020-10-24T12:40:46.685554Z",
     "start_time": "2020-10-24T12:40:46.494Z"
    }
   },
   "outputs": [],
   "source": [
    "write.table(counts.filtered,paste(path,\"count_table\",sep=\"/\"))"
   ]
  },
  {
   "cell_type": "markdown",
   "metadata": {},
   "source": [
    "## Read sample info"
   ]
  },
  {
   "cell_type": "code",
   "execution_count": 29,
   "metadata": {
    "ExecuteTime": {
     "end_time": "2020-10-24T12:06:54.388265Z",
     "start_time": "2020-10-24T12:06:54.306Z"
    }
   },
   "outputs": [
    {
     "data": {
      "text/html": [
       "<style>\n",
       ".list-inline {list-style: none; margin:0; padding: 0}\n",
       ".list-inline>li {display: inline-block}\n",
       ".list-inline>li:not(:last-child)::after {content: \"\\00b7\"; padding: 0 .5ex}\n",
       "</style>\n",
       "<ol class=list-inline><li>15</li><li>8</li></ol>\n"
      ],
      "text/latex": [
       "\\begin{enumerate*}\n",
       "\\item 15\n",
       "\\item 8\n",
       "\\end{enumerate*}\n"
      ],
      "text/markdown": [
       "1. 15\n",
       "2. 8\n",
       "\n",
       "\n"
      ],
      "text/plain": [
       "[1] 15  8"
      ]
     },
     "metadata": {},
     "output_type": "display_data"
    },
    {
     "data": {
      "text/html": [
       "<table>\n",
       "<caption>A data.frame: 6 x 8</caption>\n",
       "<thead>\n",
       "\t<tr><th></th><th scope=col>Samplename</th><th scope=col>ApoE_group</th><th scope=col>Sample_ID</th><th scope=col>ApoE_genotype</th><th scope=col>Sex</th><th scope=col>Status</th><th scope=col>RIN</th><th scope=col>Raw.files</th></tr>\n",
       "\t<tr><th></th><th scope=col>&lt;chr&gt;</th><th scope=col>&lt;chr&gt;</th><th scope=col>&lt;chr&gt;</th><th scope=col>&lt;chr&gt;</th><th scope=col>&lt;chr&gt;</th><th scope=col>&lt;chr&gt;</th><th scope=col>&lt;dbl&gt;</th><th scope=col>&lt;chr&gt;</th></tr>\n",
       "</thead>\n",
       "<tbody>\n",
       "\t<tr><th scope=row>1</th><td>S27</td><td>ApoE2</td><td>E22C6astro1</td><td>E2E2</td><td>Female</td><td>Control</td><td>9.1</td><td>E22C6astro1_S27_L001_R1_001.fastq.gz/E22C6astro1_S27_L002_R1_001.fastq.gz/E22C6astro1_S27_L003_R1_001.fastq.gz/E22C6astro1_S27_L004_R1_001.fastq.gz</td></tr>\n",
       "\t<tr><th scope=row>2</th><td>S28</td><td>ApoE2</td><td>E22C6astro2</td><td>E2E2</td><td>Female</td><td>Control</td><td>9.2</td><td>E22C6astro2_S28_L001_R1_001.fastq.gz/E22C6astro2_S28_L002_R1_001.fastq.gz/E22C6astro2_S28_L003_R1_001.fastq.gz/E22C6astro2_S28_L004_R1_001.fastq.gz</td></tr>\n",
       "\t<tr><th scope=row>3</th><td>S29</td><td>ApoE2</td><td>E22C6astro3</td><td>E2E2</td><td>Female</td><td>Control</td><td>9.3</td><td>E22C6astro3_S29_L001_R1_001.fastq.gz/E22C6astro3_S29_L002_R1_001.fastq.gz/E22C6astro3_S29_L003_R1_001.fastq.gz/E22C6astro3_S29_L004_R1_001.fastq.gz</td></tr>\n",
       "\t<tr><th scope=row>4</th><td>S33</td><td>ApoE3</td><td>E33C2astro1</td><td>E3E3</td><td>Female</td><td>Case   </td><td>9.3</td><td>E33C2astro1_S33_L001_R1_001.fastq.gz/E33C2astro1_S33_L002_R1_001.fastq.gz/E33C2astro1_S33_L003_R1_001.fastq.gz/E33C2astro1_S33_L004_R1_001.fastq.gz</td></tr>\n",
       "\t<tr><th scope=row>5</th><td>S10</td><td>ApoE3</td><td>E33C2astro2</td><td>E3E3</td><td>Female</td><td>Case   </td><td>9.3</td><td>E33C2astro2_S10_L001_R1_001.fastq.gz/E33C2astro2_S10_L002_R1_001.fastq.gz/E33C2astro2_S10_L003_R1_001.fastq.gz/E33C2astro2_S10_L004_R1_001.fastq.gz</td></tr>\n",
       "\t<tr><th scope=row>6</th><td>S35</td><td>ApoE3</td><td>E33C2astro3</td><td>E3E3</td><td>Female</td><td>Case   </td><td>9.1</td><td>E33C2astro3_S35_L001_R1_001.fastq.gz/E33C2astro3_S35_L002_R1_001.fastq.gz/E33C2astro3_S35_L003_R1_001.fastq.gz/E33C2astro3_S35_L004_R1_001.fastq.gz</td></tr>\n",
       "</tbody>\n",
       "</table>\n"
      ],
      "text/latex": [
       "A data.frame: 6 x 8\n",
       "\\begin{tabular}{r|llllllll}\n",
       "  & Samplename & ApoE\\_group & Sample\\_ID & ApoE\\_genotype & Sex & Status & RIN & Raw.files\\\\\n",
       "  & <chr> & <chr> & <chr> & <chr> & <chr> & <chr> & <dbl> & <chr>\\\\\n",
       "\\hline\n",
       "\t1 & S27 & ApoE2 & E22C6astro1 & E2E2 & Female & Control & 9.1 & E22C6astro1\\_S27\\_L001\\_R1\\_001.fastq.gz/E22C6astro1\\_S27\\_L002\\_R1\\_001.fastq.gz/E22C6astro1\\_S27\\_L003\\_R1\\_001.fastq.gz/E22C6astro1\\_S27\\_L004\\_R1\\_001.fastq.gz\\\\\n",
       "\t2 & S28 & ApoE2 & E22C6astro2 & E2E2 & Female & Control & 9.2 & E22C6astro2\\_S28\\_L001\\_R1\\_001.fastq.gz/E22C6astro2\\_S28\\_L002\\_R1\\_001.fastq.gz/E22C6astro2\\_S28\\_L003\\_R1\\_001.fastq.gz/E22C6astro2\\_S28\\_L004\\_R1\\_001.fastq.gz\\\\\n",
       "\t3 & S29 & ApoE2 & E22C6astro3 & E2E2 & Female & Control & 9.3 & E22C6astro3\\_S29\\_L001\\_R1\\_001.fastq.gz/E22C6astro3\\_S29\\_L002\\_R1\\_001.fastq.gz/E22C6astro3\\_S29\\_L003\\_R1\\_001.fastq.gz/E22C6astro3\\_S29\\_L004\\_R1\\_001.fastq.gz\\\\\n",
       "\t4 & S33 & ApoE3 & E33C2astro1 & E3E3 & Female & Case    & 9.3 & E33C2astro1\\_S33\\_L001\\_R1\\_001.fastq.gz/E33C2astro1\\_S33\\_L002\\_R1\\_001.fastq.gz/E33C2astro1\\_S33\\_L003\\_R1\\_001.fastq.gz/E33C2astro1\\_S33\\_L004\\_R1\\_001.fastq.gz\\\\\n",
       "\t5 & S10 & ApoE3 & E33C2astro2 & E3E3 & Female & Case    & 9.3 & E33C2astro2\\_S10\\_L001\\_R1\\_001.fastq.gz/E33C2astro2\\_S10\\_L002\\_R1\\_001.fastq.gz/E33C2astro2\\_S10\\_L003\\_R1\\_001.fastq.gz/E33C2astro2\\_S10\\_L004\\_R1\\_001.fastq.gz\\\\\n",
       "\t6 & S35 & ApoE3 & E33C2astro3 & E3E3 & Female & Case    & 9.1 & E33C2astro3\\_S35\\_L001\\_R1\\_001.fastq.gz/E33C2astro3\\_S35\\_L002\\_R1\\_001.fastq.gz/E33C2astro3\\_S35\\_L003\\_R1\\_001.fastq.gz/E33C2astro3\\_S35\\_L004\\_R1\\_001.fastq.gz\\\\\n",
       "\\end{tabular}\n"
      ],
      "text/markdown": [
       "\n",
       "A data.frame: 6 x 8\n",
       "\n",
       "| <!--/--> | Samplename &lt;chr&gt; | ApoE_group &lt;chr&gt; | Sample_ID &lt;chr&gt; | ApoE_genotype &lt;chr&gt; | Sex &lt;chr&gt; | Status &lt;chr&gt; | RIN &lt;dbl&gt; | Raw.files &lt;chr&gt; |\n",
       "|---|---|---|---|---|---|---|---|---|\n",
       "| 1 | S27 | ApoE2 | E22C6astro1 | E2E2 | Female | Control | 9.1 | E22C6astro1_S27_L001_R1_001.fastq.gz/E22C6astro1_S27_L002_R1_001.fastq.gz/E22C6astro1_S27_L003_R1_001.fastq.gz/E22C6astro1_S27_L004_R1_001.fastq.gz |\n",
       "| 2 | S28 | ApoE2 | E22C6astro2 | E2E2 | Female | Control | 9.2 | E22C6astro2_S28_L001_R1_001.fastq.gz/E22C6astro2_S28_L002_R1_001.fastq.gz/E22C6astro2_S28_L003_R1_001.fastq.gz/E22C6astro2_S28_L004_R1_001.fastq.gz |\n",
       "| 3 | S29 | ApoE2 | E22C6astro3 | E2E2 | Female | Control | 9.3 | E22C6astro3_S29_L001_R1_001.fastq.gz/E22C6astro3_S29_L002_R1_001.fastq.gz/E22C6astro3_S29_L003_R1_001.fastq.gz/E22C6astro3_S29_L004_R1_001.fastq.gz |\n",
       "| 4 | S33 | ApoE3 | E33C2astro1 | E3E3 | Female | Case    | 9.3 | E33C2astro1_S33_L001_R1_001.fastq.gz/E33C2astro1_S33_L002_R1_001.fastq.gz/E33C2astro1_S33_L003_R1_001.fastq.gz/E33C2astro1_S33_L004_R1_001.fastq.gz |\n",
       "| 5 | S10 | ApoE3 | E33C2astro2 | E3E3 | Female | Case    | 9.3 | E33C2astro2_S10_L001_R1_001.fastq.gz/E33C2astro2_S10_L002_R1_001.fastq.gz/E33C2astro2_S10_L003_R1_001.fastq.gz/E33C2astro2_S10_L004_R1_001.fastq.gz |\n",
       "| 6 | S35 | ApoE3 | E33C2astro3 | E3E3 | Female | Case    | 9.1 | E33C2astro3_S35_L001_R1_001.fastq.gz/E33C2astro3_S35_L002_R1_001.fastq.gz/E33C2astro3_S35_L003_R1_001.fastq.gz/E33C2astro3_S35_L004_R1_001.fastq.gz |\n",
       "\n"
      ],
      "text/plain": [
       "  Samplename ApoE_group Sample_ID   ApoE_genotype Sex    Status  RIN\n",
       "1 S27        ApoE2      E22C6astro1 E2E2          Female Control 9.1\n",
       "2 S28        ApoE2      E22C6astro2 E2E2          Female Control 9.2\n",
       "3 S29        ApoE2      E22C6astro3 E2E2          Female Control 9.3\n",
       "4 S33        ApoE3      E33C2astro1 E3E3          Female Case    9.3\n",
       "5 S10        ApoE3      E33C2astro2 E3E3          Female Case    9.3\n",
       "6 S35        ApoE3      E33C2astro3 E3E3          Female Case    9.1\n",
       "  Raw.files                                                                                                                                          \n",
       "1 E22C6astro1_S27_L001_R1_001.fastq.gz/E22C6astro1_S27_L002_R1_001.fastq.gz/E22C6astro1_S27_L003_R1_001.fastq.gz/E22C6astro1_S27_L004_R1_001.fastq.gz\n",
       "2 E22C6astro2_S28_L001_R1_001.fastq.gz/E22C6astro2_S28_L002_R1_001.fastq.gz/E22C6astro2_S28_L003_R1_001.fastq.gz/E22C6astro2_S28_L004_R1_001.fastq.gz\n",
       "3 E22C6astro3_S29_L001_R1_001.fastq.gz/E22C6astro3_S29_L002_R1_001.fastq.gz/E22C6astro3_S29_L003_R1_001.fastq.gz/E22C6astro3_S29_L004_R1_001.fastq.gz\n",
       "4 E33C2astro1_S33_L001_R1_001.fastq.gz/E33C2astro1_S33_L002_R1_001.fastq.gz/E33C2astro1_S33_L003_R1_001.fastq.gz/E33C2astro1_S33_L004_R1_001.fastq.gz\n",
       "5 E33C2astro2_S10_L001_R1_001.fastq.gz/E33C2astro2_S10_L002_R1_001.fastq.gz/E33C2astro2_S10_L003_R1_001.fastq.gz/E33C2astro2_S10_L004_R1_001.fastq.gz\n",
       "6 E33C2astro3_S35_L001_R1_001.fastq.gz/E33C2astro3_S35_L002_R1_001.fastq.gz/E33C2astro3_S35_L003_R1_001.fastq.gz/E33C2astro3_S35_L004_R1_001.fastq.gz"
      ]
     },
     "metadata": {},
     "output_type": "display_data"
    }
   ],
   "source": [
    "sampleinfo=read.csv(paste(input_path,\"sample_info.txt\",sep=\"/\"),sep=\" \")\n",
    "dim(sampleinfo)\n",
    "head(sampleinfo)"
   ]
  },
  {
   "cell_type": "code",
   "execution_count": 30,
   "metadata": {
    "ExecuteTime": {
     "end_time": "2020-10-24T12:07:57.332505Z",
     "start_time": "2020-10-24T12:07:57.244Z"
    }
   },
   "outputs": [
    {
     "data": {
      "text/html": [
       "<table>\n",
       "<caption>A data.frame: 15 x 5</caption>\n",
       "<thead>\n",
       "\t<tr><th></th><th scope=col>Samplename</th><th scope=col>ApoE_group</th><th scope=col>ApoE_genotype</th><th scope=col>Sex</th><th scope=col>Status</th></tr>\n",
       "\t<tr><th></th><th scope=col>&lt;chr&gt;</th><th scope=col>&lt;chr&gt;</th><th scope=col>&lt;chr&gt;</th><th scope=col>&lt;chr&gt;</th><th scope=col>&lt;chr&gt;</th></tr>\n",
       "</thead>\n",
       "<tbody>\n",
       "\t<tr><th scope=row>1</th><td>S27</td><td>ApoE2</td><td>E2E2</td><td>Female</td><td>Control</td></tr>\n",
       "\t<tr><th scope=row>2</th><td>S28</td><td>ApoE2</td><td>E2E2</td><td>Female</td><td>Control</td></tr>\n",
       "\t<tr><th scope=row>3</th><td>S29</td><td>ApoE2</td><td>E2E2</td><td>Female</td><td>Control</td></tr>\n",
       "\t<tr><th scope=row>4</th><td>S33</td><td>ApoE3</td><td>E3E3</td><td>Female</td><td>Case   </td></tr>\n",
       "\t<tr><th scope=row>5</th><td>S10</td><td>ApoE3</td><td>E3E3</td><td>Female</td><td>Case   </td></tr>\n",
       "\t<tr><th scope=row>6</th><td>S35</td><td>ApoE3</td><td>E3E3</td><td>Female</td><td>Case   </td></tr>\n",
       "\t<tr><th scope=row>7</th><td>S30</td><td>ApoE4</td><td>E3E4</td><td>Female</td><td>Case   </td></tr>\n",
       "\t<tr><th scope=row>8</th><td>S31</td><td>ApoE4</td><td>E3E4</td><td>Male  </td><td>Case   </td></tr>\n",
       "\t<tr><th scope=row>9</th><td>S32</td><td>ApoE4</td><td>E3E4</td><td>Male  </td><td>Case   </td></tr>\n",
       "\t<tr><th scope=row>10</th><td>S39</td><td>ApoE4</td><td>E4E4</td><td>Male  </td><td>Case   </td></tr>\n",
       "\t<tr><th scope=row>11</th><td>S40</td><td>ApoE4</td><td>E4E4</td><td>Male  </td><td>Control</td></tr>\n",
       "\t<tr><th scope=row>12</th><td>S41</td><td>ApoE4</td><td>E4E4</td><td>Male  </td><td>Control</td></tr>\n",
       "\t<tr><th scope=row>13</th><td>S36</td><td>KO   </td><td>KO  </td><td>Male  </td><td>Control</td></tr>\n",
       "\t<tr><th scope=row>14</th><td>S37</td><td>KO   </td><td>KO  </td><td>Male  </td><td>Control</td></tr>\n",
       "\t<tr><th scope=row>15</th><td>S38</td><td>KO   </td><td>KO  </td><td>Male  </td><td>Control</td></tr>\n",
       "</tbody>\n",
       "</table>\n"
      ],
      "text/latex": [
       "A data.frame: 15 x 5\n",
       "\\begin{tabular}{r|lllll}\n",
       "  & Samplename & ApoE\\_group & ApoE\\_genotype & Sex & Status\\\\\n",
       "  & <chr> & <chr> & <chr> & <chr> & <chr>\\\\\n",
       "\\hline\n",
       "\t1 & S27 & ApoE2 & E2E2 & Female & Control\\\\\n",
       "\t2 & S28 & ApoE2 & E2E2 & Female & Control\\\\\n",
       "\t3 & S29 & ApoE2 & E2E2 & Female & Control\\\\\n",
       "\t4 & S33 & ApoE3 & E3E3 & Female & Case   \\\\\n",
       "\t5 & S10 & ApoE3 & E3E3 & Female & Case   \\\\\n",
       "\t6 & S35 & ApoE3 & E3E3 & Female & Case   \\\\\n",
       "\t7 & S30 & ApoE4 & E3E4 & Female & Case   \\\\\n",
       "\t8 & S31 & ApoE4 & E3E4 & Male   & Case   \\\\\n",
       "\t9 & S32 & ApoE4 & E3E4 & Male   & Case   \\\\\n",
       "\t10 & S39 & ApoE4 & E4E4 & Male   & Case   \\\\\n",
       "\t11 & S40 & ApoE4 & E4E4 & Male   & Control\\\\\n",
       "\t12 & S41 & ApoE4 & E4E4 & Male   & Control\\\\\n",
       "\t13 & S36 & KO    & KO   & Male   & Control\\\\\n",
       "\t14 & S37 & KO    & KO   & Male   & Control\\\\\n",
       "\t15 & S38 & KO    & KO   & Male   & Control\\\\\n",
       "\\end{tabular}\n"
      ],
      "text/markdown": [
       "\n",
       "A data.frame: 15 x 5\n",
       "\n",
       "| <!--/--> | Samplename &lt;chr&gt; | ApoE_group &lt;chr&gt; | ApoE_genotype &lt;chr&gt; | Sex &lt;chr&gt; | Status &lt;chr&gt; |\n",
       "|---|---|---|---|---|---|\n",
       "| 1 | S27 | ApoE2 | E2E2 | Female | Control |\n",
       "| 2 | S28 | ApoE2 | E2E2 | Female | Control |\n",
       "| 3 | S29 | ApoE2 | E2E2 | Female | Control |\n",
       "| 4 | S33 | ApoE3 | E3E3 | Female | Case    |\n",
       "| 5 | S10 | ApoE3 | E3E3 | Female | Case    |\n",
       "| 6 | S35 | ApoE3 | E3E3 | Female | Case    |\n",
       "| 7 | S30 | ApoE4 | E3E4 | Female | Case    |\n",
       "| 8 | S31 | ApoE4 | E3E4 | Male   | Case    |\n",
       "| 9 | S32 | ApoE4 | E3E4 | Male   | Case    |\n",
       "| 10 | S39 | ApoE4 | E4E4 | Male   | Case    |\n",
       "| 11 | S40 | ApoE4 | E4E4 | Male   | Control |\n",
       "| 12 | S41 | ApoE4 | E4E4 | Male   | Control |\n",
       "| 13 | S36 | KO    | KO   | Male   | Control |\n",
       "| 14 | S37 | KO    | KO   | Male   | Control |\n",
       "| 15 | S38 | KO    | KO   | Male   | Control |\n",
       "\n"
      ],
      "text/plain": [
       "   Samplename ApoE_group ApoE_genotype Sex    Status \n",
       "1  S27        ApoE2      E2E2          Female Control\n",
       "2  S28        ApoE2      E2E2          Female Control\n",
       "3  S29        ApoE2      E2E2          Female Control\n",
       "4  S33        ApoE3      E3E3          Female Case   \n",
       "5  S10        ApoE3      E3E3          Female Case   \n",
       "6  S35        ApoE3      E3E3          Female Case   \n",
       "7  S30        ApoE4      E3E4          Female Case   \n",
       "8  S31        ApoE4      E3E4          Male   Case   \n",
       "9  S32        ApoE4      E3E4          Male   Case   \n",
       "10 S39        ApoE4      E4E4          Male   Case   \n",
       "11 S40        ApoE4      E4E4          Male   Control\n",
       "12 S41        ApoE4      E4E4          Male   Control\n",
       "13 S36        KO         KO            Male   Control\n",
       "14 S37        KO         KO            Male   Control\n",
       "15 S38        KO         KO            Male   Control"
      ]
     },
     "metadata": {},
     "output_type": "display_data"
    }
   ],
   "source": [
    "sampleinfo<-sampleinfo[, c(1,2,4,5,6)]\n",
    "sampleinfo"
   ]
  },
  {
   "cell_type": "markdown",
   "metadata": {},
   "source": [
    "**Important:** It is absolutely critical that the columns of the count matrix and the rows of the column data (information about samples) are in the same order. "
   ]
  },
  {
   "cell_type": "code",
   "execution_count": 31,
   "metadata": {
    "ExecuteTime": {
     "end_time": "2020-10-24T12:08:39.810667Z",
     "start_time": "2020-10-24T12:08:39.735Z"
    }
   },
   "outputs": [
    {
     "data": {
      "text/html": [
       "<table>\n",
       "<caption>A data.frame: 6 x 5</caption>\n",
       "<thead>\n",
       "\t<tr><th></th><th scope=col>Samplename</th><th scope=col>ApoE_group</th><th scope=col>ApoE_genotype</th><th scope=col>Sex</th><th scope=col>Status</th></tr>\n",
       "\t<tr><th></th><th scope=col>&lt;chr&gt;</th><th scope=col>&lt;chr&gt;</th><th scope=col>&lt;chr&gt;</th><th scope=col>&lt;chr&gt;</th><th scope=col>&lt;chr&gt;</th></tr>\n",
       "</thead>\n",
       "<tbody>\n",
       "\t<tr><th scope=row>5</th><td>S10</td><td>ApoE3</td><td>E3E3</td><td>Female</td><td>Case   </td></tr>\n",
       "\t<tr><th scope=row>1</th><td>S27</td><td>ApoE2</td><td>E2E2</td><td>Female</td><td>Control</td></tr>\n",
       "\t<tr><th scope=row>2</th><td>S28</td><td>ApoE2</td><td>E2E2</td><td>Female</td><td>Control</td></tr>\n",
       "\t<tr><th scope=row>3</th><td>S29</td><td>ApoE2</td><td>E2E2</td><td>Female</td><td>Control</td></tr>\n",
       "\t<tr><th scope=row>7</th><td>S30</td><td>ApoE4</td><td>E3E4</td><td>Female</td><td>Case   </td></tr>\n",
       "\t<tr><th scope=row>8</th><td>S31</td><td>ApoE4</td><td>E3E4</td><td>Male  </td><td>Case   </td></tr>\n",
       "</tbody>\n",
       "</table>\n"
      ],
      "text/latex": [
       "A data.frame: 6 x 5\n",
       "\\begin{tabular}{r|lllll}\n",
       "  & Samplename & ApoE\\_group & ApoE\\_genotype & Sex & Status\\\\\n",
       "  & <chr> & <chr> & <chr> & <chr> & <chr>\\\\\n",
       "\\hline\n",
       "\t5 & S10 & ApoE3 & E3E3 & Female & Case   \\\\\n",
       "\t1 & S27 & ApoE2 & E2E2 & Female & Control\\\\\n",
       "\t2 & S28 & ApoE2 & E2E2 & Female & Control\\\\\n",
       "\t3 & S29 & ApoE2 & E2E2 & Female & Control\\\\\n",
       "\t7 & S30 & ApoE4 & E3E4 & Female & Case   \\\\\n",
       "\t8 & S31 & ApoE4 & E3E4 & Male   & Case   \\\\\n",
       "\\end{tabular}\n"
      ],
      "text/markdown": [
       "\n",
       "A data.frame: 6 x 5\n",
       "\n",
       "| <!--/--> | Samplename &lt;chr&gt; | ApoE_group &lt;chr&gt; | ApoE_genotype &lt;chr&gt; | Sex &lt;chr&gt; | Status &lt;chr&gt; |\n",
       "|---|---|---|---|---|---|\n",
       "| 5 | S10 | ApoE3 | E3E3 | Female | Case    |\n",
       "| 1 | S27 | ApoE2 | E2E2 | Female | Control |\n",
       "| 2 | S28 | ApoE2 | E2E2 | Female | Control |\n",
       "| 3 | S29 | ApoE2 | E2E2 | Female | Control |\n",
       "| 7 | S30 | ApoE4 | E3E4 | Female | Case    |\n",
       "| 8 | S31 | ApoE4 | E3E4 | Male   | Case    |\n",
       "\n"
      ],
      "text/plain": [
       "  Samplename ApoE_group ApoE_genotype Sex    Status \n",
       "5 S10        ApoE3      E3E3          Female Case   \n",
       "1 S27        ApoE2      E2E2          Female Control\n",
       "2 S28        ApoE2      E2E2          Female Control\n",
       "3 S29        ApoE2      E2E2          Female Control\n",
       "7 S30        ApoE4      E3E4          Female Case   \n",
       "8 S31        ApoE4      E3E4          Male   Case   "
      ]
     },
     "metadata": {},
     "output_type": "display_data"
    }
   ],
   "source": [
    "# order Samplename column in the same order as columns in count table\n",
    "sampleinfo<-sampleinfo[match(colnames(counts.filtered), sampleinfo$Samplename),]\n",
    "head(sampleinfo)"
   ]
  },
  {
   "cell_type": "markdown",
   "metadata": {},
   "source": [
    "## DESeq’s specialized data set object\n",
    "\n",
    "DESeq stores virtually all information associated with your experiment in one specific Robject, called DESeqDataSet. This is, in fact, a specialized object of the class “SummarizedExperiment\". This, in turn, is a container where rows (rowRanges()) represent features of interest (e.g. genes, transcripts, exons) and columns represent samples (colData()). The actual count data is stored in the assay() slot."
   ]
  },
  {
   "cell_type": "code",
   "execution_count": 1,
   "metadata": {
    "ExecuteTime": {
     "end_time": "2020-10-24T12:17:08.363859Z",
     "start_time": "2020-10-24T12:17:08.329Z"
    }
   },
   "outputs": [
    {
     "ename": "ERROR",
     "evalue": "Error in library(DESeq2): there is no package called 'DESeq2'\n",
     "output_type": "error",
     "traceback": [
      "Error in library(DESeq2): there is no package called 'DESeq2'\nTraceback:\n",
      "1. library(DESeq2)"
     ]
    }
   ],
   "source": [
    "suppressPackageStartupMessages(library(DESeq2))"
   ]
  },
  {
   "cell_type": "code",
   "execution_count": 61,
   "metadata": {
    "ExecuteTime": {
     "end_time": "2020-11-04T16:20:38.921447Z",
     "start_time": "2020-11-04T16:20:38.668Z"
    }
   },
   "outputs": [
    {
     "name": "stderr",
     "output_type": "stream",
     "text": [
      "Warning message in DESeqDataSet(se, design = design, ignoreRank):\n",
      "\"some variables in design formula are characters, converting to factors\"\n"
     ]
    }
   ],
   "source": [
    "# generate  the  DESeqDataSet \n",
    "DESeq.ds <- DESeqDataSetFromMatrix(countData = counts.filtered ,\n",
    "                                    colData = sampleinfo ,\n",
    "                                    design = ~ ApoE_group)"
   ]
  },
  {
   "cell_type": "code",
   "execution_count": 69,
   "metadata": {
    "ExecuteTime": {
     "end_time": "2020-11-04T16:29:57.326519Z",
     "start_time": "2020-11-04T16:29:57.245Z"
    }
   },
   "outputs": [],
   "source": [
    "colnames(DESeq.ds) <- colnames(counts.filtered)"
   ]
  },
  {
   "cell_type": "code",
   "execution_count": 72,
   "metadata": {
    "ExecuteTime": {
     "end_time": "2020-11-04T16:30:49.432570Z",
     "start_time": "2020-11-04T16:30:49.334Z"
    }
   },
   "outputs": [
    {
     "data": {
      "text/html": [
       "<table>\n",
       "<caption>A data.frame: 6 x 14</caption>\n",
       "<thead>\n",
       "\t<tr><th></th><th scope=col>S10</th><th scope=col>S27</th><th scope=col>S28</th><th scope=col>S29</th><th scope=col>S30</th><th scope=col>S31</th><th scope=col>S32</th><th scope=col>S33</th><th scope=col>S35</th><th scope=col>S36</th><th scope=col>S37</th><th scope=col>S38</th><th scope=col>S39</th><th scope=col>S40</th></tr>\n",
       "\t<tr><th></th><th scope=col>&lt;int&gt;</th><th scope=col>&lt;int&gt;</th><th scope=col>&lt;int&gt;</th><th scope=col>&lt;int&gt;</th><th scope=col>&lt;int&gt;</th><th scope=col>&lt;int&gt;</th><th scope=col>&lt;int&gt;</th><th scope=col>&lt;int&gt;</th><th scope=col>&lt;int&gt;</th><th scope=col>&lt;int&gt;</th><th scope=col>&lt;int&gt;</th><th scope=col>&lt;int&gt;</th><th scope=col>&lt;int&gt;</th><th scope=col>&lt;int&gt;</th></tr>\n",
       "</thead>\n",
       "<tbody>\n",
       "\t<tr><th scope=row>ENSG00000227232</th><td>1</td><td>0</td><td>0</td><td>1</td><td>0</td><td>0</td><td>0</td><td>0</td><td>0</td><td>1</td><td>0</td><td>0</td><td>0</td><td>0</td></tr>\n",
       "\t<tr><th scope=row>ENSG00000238009</th><td>0</td><td>0</td><td>0</td><td>0</td><td>0</td><td>0</td><td>0</td><td>0</td><td>0</td><td>0</td><td>0</td><td>0</td><td>1</td><td>0</td></tr>\n",
       "\t<tr><th scope=row>ENSG00000268903</th><td>0</td><td>2</td><td>0</td><td>3</td><td>1</td><td>1</td><td>1</td><td>2</td><td>0</td><td>3</td><td>0</td><td>1</td><td>2</td><td>0</td></tr>\n",
       "\t<tr><th scope=row>ENSG00000269981</th><td>0</td><td>0</td><td>1</td><td>2</td><td>1</td><td>1</td><td>0</td><td>0</td><td>1</td><td>0</td><td>0</td><td>0</td><td>0</td><td>0</td></tr>\n",
       "\t<tr><th scope=row>ENSG00000241860</th><td>0</td><td>0</td><td>2</td><td>0</td><td>1</td><td>0</td><td>0</td><td>0</td><td>0</td><td>0</td><td>0</td><td>0</td><td>0</td><td>2</td></tr>\n",
       "\t<tr><th scope=row>ENSG00000279457</th><td>1</td><td>2</td><td>1</td><td>2</td><td>4</td><td>3</td><td>1</td><td>1</td><td>4</td><td>1</td><td>2</td><td>5</td><td>0</td><td>2</td></tr>\n",
       "</tbody>\n",
       "</table>\n"
      ],
      "text/latex": [
       "A data.frame: 6 x 14\n",
       "\\begin{tabular}{r|llllllllllllll}\n",
       "  & S10 & S27 & S28 & S29 & S30 & S31 & S32 & S33 & S35 & S36 & S37 & S38 & S39 & S40\\\\\n",
       "  & <int> & <int> & <int> & <int> & <int> & <int> & <int> & <int> & <int> & <int> & <int> & <int> & <int> & <int>\\\\\n",
       "\\hline\n",
       "\tENSG00000227232 & 1 & 0 & 0 & 1 & 0 & 0 & 0 & 0 & 0 & 1 & 0 & 0 & 0 & 0\\\\\n",
       "\tENSG00000238009 & 0 & 0 & 0 & 0 & 0 & 0 & 0 & 0 & 0 & 0 & 0 & 0 & 1 & 0\\\\\n",
       "\tENSG00000268903 & 0 & 2 & 0 & 3 & 1 & 1 & 1 & 2 & 0 & 3 & 0 & 1 & 2 & 0\\\\\n",
       "\tENSG00000269981 & 0 & 0 & 1 & 2 & 1 & 1 & 0 & 0 & 1 & 0 & 0 & 0 & 0 & 0\\\\\n",
       "\tENSG00000241860 & 0 & 0 & 2 & 0 & 1 & 0 & 0 & 0 & 0 & 0 & 0 & 0 & 0 & 2\\\\\n",
       "\tENSG00000279457 & 1 & 2 & 1 & 2 & 4 & 3 & 1 & 1 & 4 & 1 & 2 & 5 & 0 & 2\\\\\n",
       "\\end{tabular}\n"
      ],
      "text/markdown": [
       "\n",
       "A data.frame: 6 x 14\n",
       "\n",
       "| <!--/--> | S10 &lt;int&gt; | S27 &lt;int&gt; | S28 &lt;int&gt; | S29 &lt;int&gt; | S30 &lt;int&gt; | S31 &lt;int&gt; | S32 &lt;int&gt; | S33 &lt;int&gt; | S35 &lt;int&gt; | S36 &lt;int&gt; | S37 &lt;int&gt; | S38 &lt;int&gt; | S39 &lt;int&gt; | S40 &lt;int&gt; |\n",
       "|---|---|---|---|---|---|---|---|---|---|---|---|---|---|---|\n",
       "| ENSG00000227232 | 1 | 0 | 0 | 1 | 0 | 0 | 0 | 0 | 0 | 1 | 0 | 0 | 0 | 0 |\n",
       "| ENSG00000238009 | 0 | 0 | 0 | 0 | 0 | 0 | 0 | 0 | 0 | 0 | 0 | 0 | 1 | 0 |\n",
       "| ENSG00000268903 | 0 | 2 | 0 | 3 | 1 | 1 | 1 | 2 | 0 | 3 | 0 | 1 | 2 | 0 |\n",
       "| ENSG00000269981 | 0 | 0 | 1 | 2 | 1 | 1 | 0 | 0 | 1 | 0 | 0 | 0 | 0 | 0 |\n",
       "| ENSG00000241860 | 0 | 0 | 2 | 0 | 1 | 0 | 0 | 0 | 0 | 0 | 0 | 0 | 0 | 2 |\n",
       "| ENSG00000279457 | 1 | 2 | 1 | 2 | 4 | 3 | 1 | 1 | 4 | 1 | 2 | 5 | 0 | 2 |\n",
       "\n"
      ],
      "text/plain": [
       "                S10 S27 S28 S29 S30 S31 S32 S33 S35 S36 S37 S38 S39 S40\n",
       "ENSG00000227232 1   0   0   1   0   0   0   0   0   1   0   0   0   0  \n",
       "ENSG00000238009 0   0   0   0   0   0   0   0   0   0   0   0   1   0  \n",
       "ENSG00000268903 0   2   0   3   1   1   1   2   0   3   0   1   2   0  \n",
       "ENSG00000269981 0   0   1   2   1   1   0   0   1   0   0   0   0   0  \n",
       "ENSG00000241860 0   0   2   0   1   0   0   0   0   0   0   0   0   2  \n",
       "ENSG00000279457 1   2   1   2   4   3   1   1   4   1   2   5   0   2  "
      ]
     },
     "metadata": {},
     "output_type": "display_data"
    },
    {
     "data": {
      "text/html": [
       "<table>\n",
       "<caption>A matrix: 6 x 14 of type int</caption>\n",
       "<thead>\n",
       "\t<tr><th></th><th scope=col>S10</th><th scope=col>S27</th><th scope=col>S28</th><th scope=col>S29</th><th scope=col>S30</th><th scope=col>S31</th><th scope=col>S32</th><th scope=col>S33</th><th scope=col>S35</th><th scope=col>S36</th><th scope=col>S37</th><th scope=col>S38</th><th scope=col>S39</th><th scope=col>S40</th></tr>\n",
       "</thead>\n",
       "<tbody>\n",
       "\t<tr><th scope=row>ENSG00000227232</th><td>1</td><td>0</td><td>0</td><td>1</td><td>0</td><td>0</td><td>0</td><td>0</td><td>0</td><td>1</td><td>0</td><td>0</td><td>0</td><td>0</td></tr>\n",
       "\t<tr><th scope=row>ENSG00000238009</th><td>0</td><td>0</td><td>0</td><td>0</td><td>0</td><td>0</td><td>0</td><td>0</td><td>0</td><td>0</td><td>0</td><td>0</td><td>1</td><td>0</td></tr>\n",
       "\t<tr><th scope=row>ENSG00000268903</th><td>0</td><td>2</td><td>0</td><td>3</td><td>1</td><td>1</td><td>1</td><td>2</td><td>0</td><td>3</td><td>0</td><td>1</td><td>2</td><td>0</td></tr>\n",
       "\t<tr><th scope=row>ENSG00000269981</th><td>0</td><td>0</td><td>1</td><td>2</td><td>1</td><td>1</td><td>0</td><td>0</td><td>1</td><td>0</td><td>0</td><td>0</td><td>0</td><td>0</td></tr>\n",
       "\t<tr><th scope=row>ENSG00000241860</th><td>0</td><td>0</td><td>2</td><td>0</td><td>1</td><td>0</td><td>0</td><td>0</td><td>0</td><td>0</td><td>0</td><td>0</td><td>0</td><td>2</td></tr>\n",
       "\t<tr><th scope=row>ENSG00000279457</th><td>1</td><td>2</td><td>1</td><td>2</td><td>4</td><td>3</td><td>1</td><td>1</td><td>4</td><td>1</td><td>2</td><td>5</td><td>0</td><td>2</td></tr>\n",
       "</tbody>\n",
       "</table>\n"
      ],
      "text/latex": [
       "A matrix: 6 x 14 of type int\n",
       "\\begin{tabular}{r|llllllllllllll}\n",
       "  & S10 & S27 & S28 & S29 & S30 & S31 & S32 & S33 & S35 & S36 & S37 & S38 & S39 & S40\\\\\n",
       "\\hline\n",
       "\tENSG00000227232 & 1 & 0 & 0 & 1 & 0 & 0 & 0 & 0 & 0 & 1 & 0 & 0 & 0 & 0\\\\\n",
       "\tENSG00000238009 & 0 & 0 & 0 & 0 & 0 & 0 & 0 & 0 & 0 & 0 & 0 & 0 & 1 & 0\\\\\n",
       "\tENSG00000268903 & 0 & 2 & 0 & 3 & 1 & 1 & 1 & 2 & 0 & 3 & 0 & 1 & 2 & 0\\\\\n",
       "\tENSG00000269981 & 0 & 0 & 1 & 2 & 1 & 1 & 0 & 0 & 1 & 0 & 0 & 0 & 0 & 0\\\\\n",
       "\tENSG00000241860 & 0 & 0 & 2 & 0 & 1 & 0 & 0 & 0 & 0 & 0 & 0 & 0 & 0 & 2\\\\\n",
       "\tENSG00000279457 & 1 & 2 & 1 & 2 & 4 & 3 & 1 & 1 & 4 & 1 & 2 & 5 & 0 & 2\\\\\n",
       "\\end{tabular}\n"
      ],
      "text/markdown": [
       "\n",
       "A matrix: 6 x 14 of type int\n",
       "\n",
       "| <!--/--> | S10 | S27 | S28 | S29 | S30 | S31 | S32 | S33 | S35 | S36 | S37 | S38 | S39 | S40 |\n",
       "|---|---|---|---|---|---|---|---|---|---|---|---|---|---|---|\n",
       "| ENSG00000227232 | 1 | 0 | 0 | 1 | 0 | 0 | 0 | 0 | 0 | 1 | 0 | 0 | 0 | 0 |\n",
       "| ENSG00000238009 | 0 | 0 | 0 | 0 | 0 | 0 | 0 | 0 | 0 | 0 | 0 | 0 | 1 | 0 |\n",
       "| ENSG00000268903 | 0 | 2 | 0 | 3 | 1 | 1 | 1 | 2 | 0 | 3 | 0 | 1 | 2 | 0 |\n",
       "| ENSG00000269981 | 0 | 0 | 1 | 2 | 1 | 1 | 0 | 0 | 1 | 0 | 0 | 0 | 0 | 0 |\n",
       "| ENSG00000241860 | 0 | 0 | 2 | 0 | 1 | 0 | 0 | 0 | 0 | 0 | 0 | 0 | 0 | 2 |\n",
       "| ENSG00000279457 | 1 | 2 | 1 | 2 | 4 | 3 | 1 | 1 | 4 | 1 | 2 | 5 | 0 | 2 |\n",
       "\n"
      ],
      "text/plain": [
       "                S10 S27 S28 S29 S30 S31 S32 S33 S35 S36 S37 S38 S39 S40\n",
       "ENSG00000227232 1   0   0   1   0   0   0   0   0   1   0   0   0   0  \n",
       "ENSG00000238009 0   0   0   0   0   0   0   0   0   0   0   0   1   0  \n",
       "ENSG00000268903 0   2   0   3   1   1   1   2   0   3   0   1   2   0  \n",
       "ENSG00000269981 0   0   1   2   1   1   0   0   1   0   0   0   0   0  \n",
       "ENSG00000241860 0   0   2   0   1   0   0   0   0   0   0   0   0   2  \n",
       "ENSG00000279457 1   2   1   2   4   3   1   1   4   1   2   5   0   2  "
      ]
     },
     "metadata": {},
     "output_type": "display_data"
    }
   ],
   "source": [
    "head(counts.filtered)\n",
    "head(assay(DESeq.ds))"
   ]
  },
  {
   "cell_type": "code",
   "execution_count": 73,
   "metadata": {
    "ExecuteTime": {
     "end_time": "2020-11-04T16:30:56.547442Z",
     "start_time": "2020-11-04T16:30:56.181Z"
    }
   },
   "outputs": [],
   "source": [
    "save(DESeq.ds,file=paste(path,\"DESeq_object\",sep=\"/\"))"
   ]
  },
  {
   "cell_type": "markdown",
   "metadata": {},
   "source": [
    "# Normalization and log transformation\n",
    "\n",
    "As a first processing step, we need to estimate the effective library size. This step is sometimes also called normalisation, even  though  there  is  no  relation  to  normality  or  a  normal  distribution.    The  effective  library  size  information  is called  the size  factors vector,  since  the  package  only  needs  to  know  the  relative  library  sizes. \n",
    "\n",
    "If  we  divide  each  column  of  the  count  table  by  the  size  factor  for  this  column,  the  count  values  are  brought to  a  common  scale,  making  them  comparable.   When  called  with normalized=TRUE,  the counts accessor  function performs this calculation. \n",
    "\n",
    "We normalise and log transform here to inspect the data, but the next step, differential expression analysis, uses the DESeqDataSet object, not the normalised one. "
   ]
  },
  {
   "cell_type": "markdown",
   "metadata": {},
   "source": [
    "DESeq’s default method to normalize read counts to account for differences in sequencing depths is implemented in estimateSizeFactors."
   ]
  },
  {
   "cell_type": "code",
   "execution_count": 39,
   "metadata": {
    "ExecuteTime": {
     "end_time": "2020-10-24T12:18:35.507544Z",
     "start_time": "2020-10-24T12:18:34.749Z"
    },
    "scrolled": true
   },
   "outputs": [
    {
     "data": {
      "text/html": [
       "<style>\n",
       ".dl-inline {width: auto; margin:0; padding: 0}\n",
       ".dl-inline>dt, .dl-inline>dd {float: none; width: auto; display: inline-block}\n",
       ".dl-inline>dt::after {content: \":\\0020\"; padding-right: .5ex}\n",
       ".dl-inline>dt:not(:first-of-type) {padding-left: .5ex}\n",
       "</style><dl class=dl-inline><dt>5</dt><dd>0.826671075365469</dd><dt>1</dt><dd>1.30341751537027</dd><dt>2</dt><dd>1.24577027273732</dd><dt>3</dt><dd>1.25600735129019</dd><dt>7</dt><dd>1.07249624866038</dd><dt>8</dt><dd>0.911261436393957</dd><dt>9</dt><dd>0.929991964886698</dd><dt>4</dt><dd>0.841046414919482</dd><dt>6</dt><dd>0.72524338871146</dd><dt>13</dt><dd>1.14369947829215</dd><dt>14</dt><dd>1.00695136876779</dd><dt>15</dt><dd>1.09480286900168</dd><dt>10</dt><dd>0.99847783390829</dd><dt>11</dt><dd>1.01095466008076</dd></dl>\n"
      ],
      "text/latex": [
       "\\begin{description*}\n",
       "\\item[5] 0.826671075365469\n",
       "\\item[1] 1.30341751537027\n",
       "\\item[2] 1.24577027273732\n",
       "\\item[3] 1.25600735129019\n",
       "\\item[7] 1.07249624866038\n",
       "\\item[8] 0.911261436393957\n",
       "\\item[9] 0.929991964886698\n",
       "\\item[4] 0.841046414919482\n",
       "\\item[6] 0.72524338871146\n",
       "\\item[13] 1.14369947829215\n",
       "\\item[14] 1.00695136876779\n",
       "\\item[15] 1.09480286900168\n",
       "\\item[10] 0.99847783390829\n",
       "\\item[11] 1.01095466008076\n",
       "\\end{description*}\n"
      ],
      "text/markdown": [
       "5\n",
       ":   0.8266710753654691\n",
       ":   1.303417515370272\n",
       ":   1.245770272737323\n",
       ":   1.256007351290197\n",
       ":   1.072496248660388\n",
       ":   0.9112614363939579\n",
       ":   0.9299919648866984\n",
       ":   0.8410464149194826\n",
       ":   0.7252433887114613\n",
       ":   1.1436994782921514\n",
       ":   1.0069513687677915\n",
       ":   1.0948028690016810\n",
       ":   0.9984778339082911\n",
       ":   1.01095466008076\n",
       "\n"
      ],
      "text/plain": [
       "        5         1         2         3         7         8         9         4 \n",
       "0.8266711 1.3034175 1.2457703 1.2560074 1.0724962 0.9112614 0.9299920 0.8410464 \n",
       "        6        13        14        15        10        11 \n",
       "0.7252434 1.1436995 1.0069514 1.0948029 0.9984778 1.0109547 "
      ]
     },
     "metadata": {},
     "output_type": "display_data"
    }
   ],
   "source": [
    "# calculate  the  size  factor  and add it to the  data  set\n",
    "DESeq.ds.norm <- estimateSizeFactors(DESeq.ds)\n",
    "sizeFactors(DESeq.ds.norm )"
   ]
  },
  {
   "cell_type": "code",
   "execution_count": 40,
   "metadata": {
    "ExecuteTime": {
     "end_time": "2020-10-24T12:18:51.447333Z",
     "start_time": "2020-10-24T12:18:51.333Z"
    }
   },
   "outputs": [],
   "source": [
    "# counts ()  allows  you to  immediately  retrieve  the _normalized_ read  counts\n",
    "counts.sf_normalized  <- counts(DESeq.ds.norm, normalized = TRUE)"
   ]
  },
  {
   "cell_type": "code",
   "execution_count": 41,
   "metadata": {
    "ExecuteTime": {
     "end_time": "2020-10-24T12:18:55.144164Z",
     "start_time": "2020-10-24T12:18:55.060Z"
    }
   },
   "outputs": [],
   "source": [
    "# transform  size -factor  normalized  read  counts  to log2  scale  using a pseudocount  of 1\n",
    "log.norm.counts  <- log2(counts.sf_normalized + 1)"
   ]
  },
  {
   "cell_type": "code",
   "execution_count": 43,
   "metadata": {
    "ExecuteTime": {
     "end_time": "2020-10-24T12:20:02.933328Z",
     "start_time": "2020-10-24T12:20:02.544Z"
    }
   },
   "outputs": [],
   "source": [
    "# not needed - remove\n",
    "write.table(log.norm.counts,paste(outpath,\"countTable_log.norm\",sep=\"/\"))"
   ]
  },
  {
   "cell_type": "code",
   "execution_count": 44,
   "metadata": {
    "ExecuteTime": {
     "end_time": "2020-10-24T12:20:20.954388Z",
     "start_time": "2020-10-24T12:20:18.069Z"
    }
   },
   "outputs": [
    {
     "data": {
      "image/png": "[encoded data removed]",
      "text/plain": [
       "Plot with title \"log2-transformed read counts\""
      ]
     },
     "metadata": {
      "image/png": {
       "height": 420,
       "width": 420
      }
     },
     "output_type": "display_data"
    }
   ],
   "source": [
    "par(mfrow=c(2,1)) # to plot  the  following  two  images  underneath  each  other\n",
    "# first , boxplots  of non -transformed  read  counts (one  per  sample)\n",
    "boxplot(counts.sf_normalized , notch = TRUE , main = \"untransformed read counts\", ylab = \"read counts\")\n",
    "# box  plots  of log2 -transformed  read  counts\n",
    "boxplot(log.norm.counts , notch = TRUE , main = \"log2-transformed read counts\", ylab = \"log2(read counts)\")"
   ]
  },
  {
   "cell_type": "markdown",
   "metadata": {},
   "source": [
    "**Hieralchical clustering and PCA plots**"
   ]
  },
  {
   "cell_type": "code",
   "execution_count": 45,
   "metadata": {
    "ExecuteTime": {
     "end_time": "2020-10-24T12:20:35.347645Z",
     "start_time": "2020-10-24T12:20:34.797Z"
    }
   },
   "outputs": [
    {
     "data": {
      "image/png": "[encoded data removed]",
      "text/plain": [
       "Plot with title \"transformed  read  counts\n",
       "distance: Pearson  correlation\""
      ]
     },
     "metadata": {
      "image/png": {
       "height": 420,
       "width": 420
      }
     },
     "output_type": "display_data"
    }
   ],
   "source": [
    "# with log.norm.counts (manuall normalization and log2 transformation)\n",
    "# cor()  calculates  the  correlation  between  columns  of a matrix\n",
    "distance.m_rlog  <- as.dist(1 - cor(log.norm.counts , method = \"pearson\" ))\n",
    "# plot() can  directly  interpret  the  output  of  hclust ()\n",
    "plot( hclust(distance.m_rlog),\n",
    "labels = colnames(log.norm.counts),\n",
    "main = \"transformed  read  counts\\ndistance: Pearson  correlation\", cex=0.45)"
   ]
  },
  {
   "cell_type": "markdown",
   "metadata": {},
   "source": [
    "**PCA plots**"
   ]
  },
  {
   "cell_type": "code",
   "execution_count": 47,
   "metadata": {
    "ExecuteTime": {
     "end_time": "2020-10-24T12:20:46.243550Z",
     "start_time": "2020-10-24T12:20:46.181Z"
    }
   },
   "outputs": [],
   "source": [
    "suppressPackageStartupMessages(library(ggplot2))\n",
    "suppressPackageStartupMessages(library(grid))\n",
    "suppressPackageStartupMessages(library(gridExtra))"
   ]
  },
  {
   "cell_type": "code",
   "execution_count": 48,
   "metadata": {
    "ExecuteTime": {
     "end_time": "2020-10-24T12:21:03.546047Z",
     "start_time": "2020-10-24T12:21:03.165Z"
    }
   },
   "outputs": [
    {
     "data": {
      "image/png": "[encoded data removed]",
      "text/plain": [
       "plot without title"
      ]
     },
     "metadata": {
      "image/png": {
       "height": 420,
       "width": 420
      }
     },
     "output_type": "display_data"
    }
   ],
   "source": [
    "# with log.norm.counts (manuall normalization and log2 transformation)\n",
    "pca <- prcomp(t(log.norm.counts))\n",
    "pca2 <- as.data.frame(pca$x)\n",
    "pca2$group <- as.character(colData(DESeq.ds)$ApoE_group) # if group is a number, the legend in plot is a color gradient\n",
    "\n",
    "theme<-theme(panel.background = element_blank(),panel.border=element_rect(fill=NA),panel.grid.major = element_blank(),panel.grid.minor = element_blank(),strip.background=element_blank(),axis.text.x=element_text(colour=\"black\"),axis.text.y=element_text(colour=\"black\"),axis.ticks=element_line(colour=\"black\"),plot.margin=unit(c(1,1,1,1),\"line\"))\n",
    "p<-ggplot(pca2,aes(x=PC1,y=PC2,color=group))\n",
    "p<-p+geom_point() +theme + ggtitle(\"PCA by ApoE group\")\n",
    "plot(p)"
   ]
  },
  {
   "cell_type": "markdown",
   "metadata": {},
   "source": [
    "**For the next step, Differential Expression Analysis, you need the following:**\n",
    "- DESeqDataSet object: DESeq.ds"
   ]
  },
  {
   "cell_type": "markdown",
   "metadata": {},
   "source": [
    "======= Session Info ========"
   ]
  },
  {
   "cell_type": "code",
   "execution_count": 51,
   "metadata": {
    "ExecuteTime": {
     "end_time": "2020-10-24T12:22:23.528444Z",
     "start_time": "2020-10-24T12:22:23.458Z"
    }
   },
   "outputs": [
    {
     "data": {
      "text/plain": [
       "R version 4.0.2 (2020-06-22)\n",
       "Platform: x86_64-pc-linux-gnu (64-bit)\n",
       "Running under: Ubuntu 16.04.6 LTS\n",
       "\n",
       "Matrix products: default\n",
       "BLAS:   /usr/lib/libblas/libblas.so.3.6.0\n",
       "LAPACK: /usr/lib/lapack/liblapack.so.3.6.0\n",
       "\n",
       "locale:\n",
       "[1] C\n",
       "\n",
       "attached base packages:\n",
       " [1] grid      parallel  stats4    stats     graphics  grDevices utils    \n",
       " [8] datasets  methods   base     \n",
       "\n",
       "other attached packages:\n",
       " [1] gridExtra_2.3               ggplot2_3.3.2              \n",
       " [3] DESeq2_1.28.1               SummarizedExperiment_1.18.2\n",
       " [5] DelayedArray_0.14.1         matrixStats_0.57.0         \n",
       " [7] Biobase_2.48.0              GenomicRanges_1.40.0       \n",
       " [9] GenomeInfoDb_1.24.2         IRanges_2.22.2             \n",
       "[11] S4Vectors_0.26.1            BiocGenerics_0.34.0        \n",
       "\n",
       "loaded via a namespace (and not attached):\n",
       " [1] Rcpp_1.0.5             locfit_1.5-9.4         lattice_0.20-41       \n",
       " [4] digest_0.6.25          IRdisplay_0.7.0        R6_2.4.1              \n",
       " [7] repr_1.1.0             RSQLite_2.2.0          evaluate_0.14         \n",
       "[10] pillar_1.4.6           zlibbioc_1.34.0        rlang_0.4.7           \n",
       "[13] uuid_0.1-4             annotate_1.66.0        blob_1.2.1            \n",
       "[16] Matrix_1.2-18          labeling_0.3           splines_4.0.2         \n",
       "[19] BiocParallel_1.22.0    geneplotter_1.66.0     RCurl_1.98-1.2        \n",
       "[22] bit_4.0.4              munsell_0.5.0          compiler_4.0.2        \n",
       "[25] pkgconfig_2.0.3        base64enc_0.1-3        htmltools_0.5.0       \n",
       "[28] tidyselect_1.1.0       tibble_3.0.3           GenomeInfoDbData_1.2.3\n",
       "[31] XML_3.99-0.5           crayon_1.3.4           dplyr_1.0.2           \n",
       "[34] withr_2.2.0            bitops_1.0-6           jsonlite_1.7.0        \n",
       "[37] xtable_1.8-4           gtable_0.3.0           lifecycle_0.2.0       \n",
       "[40] DBI_1.1.0              magrittr_1.5           scales_1.1.1          \n",
       "[43] farver_2.0.3           XVector_0.28.0         genefilter_1.70.0     \n",
       "[46] ellipsis_0.3.1         vctrs_0.3.2            generics_0.0.2        \n",
       "[49] IRkernel_1.1.1         RColorBrewer_1.1-2     tools_4.0.2           \n",
       "[52] bit64_4.0.2            glue_1.4.1             purrr_0.3.4           \n",
       "[55] survival_3.2-3         AnnotationDbi_1.50.3   colorspace_1.4-1      \n",
       "[58] memoise_1.1.0          pbdZMQ_0.3-3          "
      ]
     },
     "metadata": {},
     "output_type": "display_data"
    }
   ],
   "source": [
    "sessionInfo()"
   ]
  }
 ],
 "metadata": {
  "kernelspec": {
   "display_name": "R",
   "language": "R",
   "name": "ir"
  },
  "language_info": {
   "codemirror_mode": "r",
   "file_extension": ".r",
   "mimetype": "text/x-r-source",
   "name": "R",
   "pygments_lexer": "r",
   "version": "4.0.3"
  },
  "toc": {
   "base_numbering": 1,
   "nav_menu": {},
   "number_sections": true,
   "sideBar": true,
   "skip_h1_title": false,
   "title_cell": "Table of Contents",
   "title_sidebar": "Contents",
   "toc_cell": false,
   "toc_position": {},
   "toc_section_display": true,
   "toc_window_display": false
  }
 },
 "nbformat": 4,
 "nbformat_minor": 4
}
